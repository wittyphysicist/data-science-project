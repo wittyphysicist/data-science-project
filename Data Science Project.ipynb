{
 "cells": [
  {
   "cell_type": "markdown",
   "id": "309f15c2",
   "metadata": {},
   "source": [
    "# Classification, Correlation, and Network Dynamics: A Case Study Approach to Data Science\n",
    "\n",
    "In this project, we are going to do the following things:\n",
    "\n",
    "* **Case Study 1:** k-Nearest Neighbors classification\n",
    "* **Case Study 2:** classify whisky\n",
    "* **Case Study 3:** use GPS data to track the migration patterns of birds\n",
    "* **Case Study 4:** analyze social networks"
   ]
  },
  {
   "cell_type": "markdown",
   "id": "307a7690",
   "metadata": {},
   "source": [
    "## Case Study 1: k-Nearest Neighbors classification\n",
    "\n",
    "In this case study, we will analyze a dataset consisting of an assortment of wines classified as *high quality* and *low quality* and will use **k-Nearest Neighbors classification** to determine whether or not other information about the wine helps us correctly guess whether a new wine will be of high quality."
   ]
  },
  {
   "cell_type": "code",
   "execution_count": 1,
   "id": "2c03a1a8",
   "metadata": {},
   "outputs": [],
   "source": [
    "import numpy as np, random, scipy.stats as ss\n",
    "\n",
    "def majority_vote_fast(votes):\n",
    "    mode, count = ss.mstats.mode(votes)\n",
    "    return mode\n",
    "\n",
    "def distance(p1, p2):\n",
    "    return np.sqrt(np.sum(np.power(p2 - p1, 2)))\n",
    "\n",
    "def find_nearest_neighbors(p, points, k=5):\n",
    "    distances = np.zeros(points.shape[0])\n",
    "    for i in range(len(distances)):\n",
    "        distances[i] = distance(p, points[i])\n",
    "    ind = np.argsort(distances)\n",
    "    return ind[:k]\n",
    "\n",
    "def knn_predict(p, points, outcomes, k=5):\n",
    "    ind = find_nearest_neighbors(p, points, k)\n",
    "    return majority_vote_fast(outcomes[ind])[0]"
   ]
  },
  {
   "cell_type": "markdown",
   "id": "93522ebb",
   "metadata": {},
   "source": [
    "### Exercise 1\n",
    "\n",
    "Our first step is to import the dataset.\n",
    "\n",
    "#### Instructions \n",
    "- Read in the data as a pandas dataframe using `pd.read_csv`. The data can be found at https://courses.edx.org/asset-v1:HarvardX+PH526x+2T2019+type@asset+block@wine.csv"
   ]
  },
  {
   "cell_type": "code",
   "execution_count": 2,
   "id": "08f625b7",
   "metadata": {},
   "outputs": [
    {
     "data": {
      "text/html": [
       "<div>\n",
       "<style scoped>\n",
       "    .dataframe tbody tr th:only-of-type {\n",
       "        vertical-align: middle;\n",
       "    }\n",
       "\n",
       "    .dataframe tbody tr th {\n",
       "        vertical-align: top;\n",
       "    }\n",
       "\n",
       "    .dataframe thead th {\n",
       "        text-align: right;\n",
       "    }\n",
       "</style>\n",
       "<table border=\"1\" class=\"dataframe\">\n",
       "  <thead>\n",
       "    <tr style=\"text-align: right;\">\n",
       "      <th></th>\n",
       "      <th>fixed acidity</th>\n",
       "      <th>volatile acidity</th>\n",
       "      <th>citric acid</th>\n",
       "      <th>residual sugar</th>\n",
       "      <th>chlorides</th>\n",
       "      <th>free sulfur dioxide</th>\n",
       "      <th>total sulfur dioxide</th>\n",
       "      <th>density</th>\n",
       "      <th>pH</th>\n",
       "      <th>sulphates</th>\n",
       "      <th>alcohol</th>\n",
       "      <th>quality</th>\n",
       "      <th>color</th>\n",
       "      <th>high_quality</th>\n",
       "    </tr>\n",
       "  </thead>\n",
       "  <tbody>\n",
       "    <tr>\n",
       "      <th>0</th>\n",
       "      <td>7.4</td>\n",
       "      <td>0.70</td>\n",
       "      <td>0.00</td>\n",
       "      <td>1.9</td>\n",
       "      <td>0.076</td>\n",
       "      <td>11.0</td>\n",
       "      <td>34.0</td>\n",
       "      <td>0.9978</td>\n",
       "      <td>3.51</td>\n",
       "      <td>0.56</td>\n",
       "      <td>9.4</td>\n",
       "      <td>5</td>\n",
       "      <td>red</td>\n",
       "      <td>0</td>\n",
       "    </tr>\n",
       "    <tr>\n",
       "      <th>1</th>\n",
       "      <td>7.8</td>\n",
       "      <td>0.88</td>\n",
       "      <td>0.00</td>\n",
       "      <td>2.6</td>\n",
       "      <td>0.098</td>\n",
       "      <td>25.0</td>\n",
       "      <td>67.0</td>\n",
       "      <td>0.9968</td>\n",
       "      <td>3.20</td>\n",
       "      <td>0.68</td>\n",
       "      <td>9.8</td>\n",
       "      <td>5</td>\n",
       "      <td>red</td>\n",
       "      <td>0</td>\n",
       "    </tr>\n",
       "    <tr>\n",
       "      <th>2</th>\n",
       "      <td>7.8</td>\n",
       "      <td>0.76</td>\n",
       "      <td>0.04</td>\n",
       "      <td>2.3</td>\n",
       "      <td>0.092</td>\n",
       "      <td>15.0</td>\n",
       "      <td>54.0</td>\n",
       "      <td>0.9970</td>\n",
       "      <td>3.26</td>\n",
       "      <td>0.65</td>\n",
       "      <td>9.8</td>\n",
       "      <td>5</td>\n",
       "      <td>red</td>\n",
       "      <td>0</td>\n",
       "    </tr>\n",
       "    <tr>\n",
       "      <th>3</th>\n",
       "      <td>11.2</td>\n",
       "      <td>0.28</td>\n",
       "      <td>0.56</td>\n",
       "      <td>1.9</td>\n",
       "      <td>0.075</td>\n",
       "      <td>17.0</td>\n",
       "      <td>60.0</td>\n",
       "      <td>0.9980</td>\n",
       "      <td>3.16</td>\n",
       "      <td>0.58</td>\n",
       "      <td>9.8</td>\n",
       "      <td>6</td>\n",
       "      <td>red</td>\n",
       "      <td>1</td>\n",
       "    </tr>\n",
       "    <tr>\n",
       "      <th>4</th>\n",
       "      <td>7.4</td>\n",
       "      <td>0.70</td>\n",
       "      <td>0.00</td>\n",
       "      <td>1.9</td>\n",
       "      <td>0.076</td>\n",
       "      <td>11.0</td>\n",
       "      <td>34.0</td>\n",
       "      <td>0.9978</td>\n",
       "      <td>3.51</td>\n",
       "      <td>0.56</td>\n",
       "      <td>9.4</td>\n",
       "      <td>5</td>\n",
       "      <td>red</td>\n",
       "      <td>0</td>\n",
       "    </tr>\n",
       "  </tbody>\n",
       "</table>\n",
       "</div>"
      ],
      "text/plain": [
       "   fixed acidity  volatile acidity  citric acid  residual sugar  chlorides  \\\n",
       "0            7.4              0.70         0.00             1.9      0.076   \n",
       "1            7.8              0.88         0.00             2.6      0.098   \n",
       "2            7.8              0.76         0.04             2.3      0.092   \n",
       "3           11.2              0.28         0.56             1.9      0.075   \n",
       "4            7.4              0.70         0.00             1.9      0.076   \n",
       "\n",
       "   free sulfur dioxide  total sulfur dioxide  density    pH  sulphates  \\\n",
       "0                 11.0                  34.0   0.9978  3.51       0.56   \n",
       "1                 25.0                  67.0   0.9968  3.20       0.68   \n",
       "2                 15.0                  54.0   0.9970  3.26       0.65   \n",
       "3                 17.0                  60.0   0.9980  3.16       0.58   \n",
       "4                 11.0                  34.0   0.9978  3.51       0.56   \n",
       "\n",
       "   alcohol  quality color  high_quality  \n",
       "0      9.4        5   red             0  \n",
       "1      9.8        5   red             0  \n",
       "2      9.8        5   red             0  \n",
       "3      9.8        6   red             1  \n",
       "4      9.4        5   red             0  "
      ]
     },
     "execution_count": 2,
     "metadata": {},
     "output_type": "execute_result"
    }
   ],
   "source": [
    "import pandas as pd\n",
    "\n",
    "file = \"./wines.csv\"\n",
    "\n",
    "wines = pd.read_csv(file, index_col=0)\n",
    "\n",
    "wines.head()"
   ]
  },
  {
   "cell_type": "markdown",
   "id": "e3bd2600",
   "metadata": {},
   "source": [
    "### Exercise 2\n",
    "\n",
    "Next, we will inspect the dataset and perform some mild data cleaning.\n",
    "\n",
    "#### Instructions \n",
    "- In order to get all numeric data, we will change the `color` column to an `is_red` column. \n",
    "    - If `color == 'red'`, we will encode a `1` for `is_red`\n",
    "    - If `color == 'white'`, we will encode a `0` for `is_red`\n",
    "- Create this new column, `is_red`.\n",
    "- Drop the `color`, `quality`, and `high_quality` columns as we will be predict the quality of wine using numeric data in a later exercise\n",
    "- Store this all numeric data in a pandas dataframe called `numeric_data`"
   ]
  },
  {
   "cell_type": "code",
   "execution_count": 3,
   "id": "976fd997",
   "metadata": {},
   "outputs": [
    {
     "data": {
      "text/html": [
       "<div>\n",
       "<style scoped>\n",
       "    .dataframe tbody tr th:only-of-type {\n",
       "        vertical-align: middle;\n",
       "    }\n",
       "\n",
       "    .dataframe tbody tr th {\n",
       "        vertical-align: top;\n",
       "    }\n",
       "\n",
       "    .dataframe thead th {\n",
       "        text-align: right;\n",
       "    }\n",
       "</style>\n",
       "<table border=\"1\" class=\"dataframe\">\n",
       "  <thead>\n",
       "    <tr style=\"text-align: right;\">\n",
       "      <th></th>\n",
       "      <th>fixed acidity</th>\n",
       "      <th>volatile acidity</th>\n",
       "      <th>citric acid</th>\n",
       "      <th>residual sugar</th>\n",
       "      <th>chlorides</th>\n",
       "      <th>free sulfur dioxide</th>\n",
       "      <th>total sulfur dioxide</th>\n",
       "      <th>density</th>\n",
       "      <th>pH</th>\n",
       "      <th>sulphates</th>\n",
       "      <th>alcohol</th>\n",
       "      <th>quality</th>\n",
       "      <th>color</th>\n",
       "      <th>high_quality</th>\n",
       "      <th>is_red</th>\n",
       "    </tr>\n",
       "  </thead>\n",
       "  <tbody>\n",
       "    <tr>\n",
       "      <th>0</th>\n",
       "      <td>7.4</td>\n",
       "      <td>0.70</td>\n",
       "      <td>0.00</td>\n",
       "      <td>1.9</td>\n",
       "      <td>0.076</td>\n",
       "      <td>11.0</td>\n",
       "      <td>34.0</td>\n",
       "      <td>0.99780</td>\n",
       "      <td>3.51</td>\n",
       "      <td>0.56</td>\n",
       "      <td>9.4</td>\n",
       "      <td>5</td>\n",
       "      <td>red</td>\n",
       "      <td>0</td>\n",
       "      <td>1</td>\n",
       "    </tr>\n",
       "    <tr>\n",
       "      <th>1</th>\n",
       "      <td>7.8</td>\n",
       "      <td>0.88</td>\n",
       "      <td>0.00</td>\n",
       "      <td>2.6</td>\n",
       "      <td>0.098</td>\n",
       "      <td>25.0</td>\n",
       "      <td>67.0</td>\n",
       "      <td>0.99680</td>\n",
       "      <td>3.20</td>\n",
       "      <td>0.68</td>\n",
       "      <td>9.8</td>\n",
       "      <td>5</td>\n",
       "      <td>red</td>\n",
       "      <td>0</td>\n",
       "      <td>1</td>\n",
       "    </tr>\n",
       "    <tr>\n",
       "      <th>2</th>\n",
       "      <td>7.8</td>\n",
       "      <td>0.76</td>\n",
       "      <td>0.04</td>\n",
       "      <td>2.3</td>\n",
       "      <td>0.092</td>\n",
       "      <td>15.0</td>\n",
       "      <td>54.0</td>\n",
       "      <td>0.99700</td>\n",
       "      <td>3.26</td>\n",
       "      <td>0.65</td>\n",
       "      <td>9.8</td>\n",
       "      <td>5</td>\n",
       "      <td>red</td>\n",
       "      <td>0</td>\n",
       "      <td>1</td>\n",
       "    </tr>\n",
       "    <tr>\n",
       "      <th>3</th>\n",
       "      <td>11.2</td>\n",
       "      <td>0.28</td>\n",
       "      <td>0.56</td>\n",
       "      <td>1.9</td>\n",
       "      <td>0.075</td>\n",
       "      <td>17.0</td>\n",
       "      <td>60.0</td>\n",
       "      <td>0.99800</td>\n",
       "      <td>3.16</td>\n",
       "      <td>0.58</td>\n",
       "      <td>9.8</td>\n",
       "      <td>6</td>\n",
       "      <td>red</td>\n",
       "      <td>1</td>\n",
       "      <td>1</td>\n",
       "    </tr>\n",
       "    <tr>\n",
       "      <th>4</th>\n",
       "      <td>7.4</td>\n",
       "      <td>0.70</td>\n",
       "      <td>0.00</td>\n",
       "      <td>1.9</td>\n",
       "      <td>0.076</td>\n",
       "      <td>11.0</td>\n",
       "      <td>34.0</td>\n",
       "      <td>0.99780</td>\n",
       "      <td>3.51</td>\n",
       "      <td>0.56</td>\n",
       "      <td>9.4</td>\n",
       "      <td>5</td>\n",
       "      <td>red</td>\n",
       "      <td>0</td>\n",
       "      <td>1</td>\n",
       "    </tr>\n",
       "    <tr>\n",
       "      <th>...</th>\n",
       "      <td>...</td>\n",
       "      <td>...</td>\n",
       "      <td>...</td>\n",
       "      <td>...</td>\n",
       "      <td>...</td>\n",
       "      <td>...</td>\n",
       "      <td>...</td>\n",
       "      <td>...</td>\n",
       "      <td>...</td>\n",
       "      <td>...</td>\n",
       "      <td>...</td>\n",
       "      <td>...</td>\n",
       "      <td>...</td>\n",
       "      <td>...</td>\n",
       "      <td>...</td>\n",
       "    </tr>\n",
       "    <tr>\n",
       "      <th>4893</th>\n",
       "      <td>6.2</td>\n",
       "      <td>0.21</td>\n",
       "      <td>0.29</td>\n",
       "      <td>1.6</td>\n",
       "      <td>0.039</td>\n",
       "      <td>24.0</td>\n",
       "      <td>92.0</td>\n",
       "      <td>0.99114</td>\n",
       "      <td>3.27</td>\n",
       "      <td>0.50</td>\n",
       "      <td>11.2</td>\n",
       "      <td>6</td>\n",
       "      <td>white</td>\n",
       "      <td>1</td>\n",
       "      <td>0</td>\n",
       "    </tr>\n",
       "    <tr>\n",
       "      <th>4894</th>\n",
       "      <td>6.6</td>\n",
       "      <td>0.32</td>\n",
       "      <td>0.36</td>\n",
       "      <td>8.0</td>\n",
       "      <td>0.047</td>\n",
       "      <td>57.0</td>\n",
       "      <td>168.0</td>\n",
       "      <td>0.99490</td>\n",
       "      <td>3.15</td>\n",
       "      <td>0.46</td>\n",
       "      <td>9.6</td>\n",
       "      <td>5</td>\n",
       "      <td>white</td>\n",
       "      <td>0</td>\n",
       "      <td>0</td>\n",
       "    </tr>\n",
       "    <tr>\n",
       "      <th>4895</th>\n",
       "      <td>6.5</td>\n",
       "      <td>0.24</td>\n",
       "      <td>0.19</td>\n",
       "      <td>1.2</td>\n",
       "      <td>0.041</td>\n",
       "      <td>30.0</td>\n",
       "      <td>111.0</td>\n",
       "      <td>0.99254</td>\n",
       "      <td>2.99</td>\n",
       "      <td>0.46</td>\n",
       "      <td>9.4</td>\n",
       "      <td>6</td>\n",
       "      <td>white</td>\n",
       "      <td>1</td>\n",
       "      <td>0</td>\n",
       "    </tr>\n",
       "    <tr>\n",
       "      <th>4896</th>\n",
       "      <td>5.5</td>\n",
       "      <td>0.29</td>\n",
       "      <td>0.30</td>\n",
       "      <td>1.1</td>\n",
       "      <td>0.022</td>\n",
       "      <td>20.0</td>\n",
       "      <td>110.0</td>\n",
       "      <td>0.98869</td>\n",
       "      <td>3.34</td>\n",
       "      <td>0.38</td>\n",
       "      <td>12.8</td>\n",
       "      <td>7</td>\n",
       "      <td>white</td>\n",
       "      <td>1</td>\n",
       "      <td>0</td>\n",
       "    </tr>\n",
       "    <tr>\n",
       "      <th>4897</th>\n",
       "      <td>6.0</td>\n",
       "      <td>0.21</td>\n",
       "      <td>0.38</td>\n",
       "      <td>0.8</td>\n",
       "      <td>0.020</td>\n",
       "      <td>22.0</td>\n",
       "      <td>98.0</td>\n",
       "      <td>0.98941</td>\n",
       "      <td>3.26</td>\n",
       "      <td>0.32</td>\n",
       "      <td>11.8</td>\n",
       "      <td>6</td>\n",
       "      <td>white</td>\n",
       "      <td>1</td>\n",
       "      <td>0</td>\n",
       "    </tr>\n",
       "  </tbody>\n",
       "</table>\n",
       "<p>6497 rows × 15 columns</p>\n",
       "</div>"
      ],
      "text/plain": [
       "      fixed acidity  volatile acidity  citric acid  residual sugar  chlorides  \\\n",
       "0               7.4              0.70         0.00             1.9      0.076   \n",
       "1               7.8              0.88         0.00             2.6      0.098   \n",
       "2               7.8              0.76         0.04             2.3      0.092   \n",
       "3              11.2              0.28         0.56             1.9      0.075   \n",
       "4               7.4              0.70         0.00             1.9      0.076   \n",
       "...             ...               ...          ...             ...        ...   \n",
       "4893            6.2              0.21         0.29             1.6      0.039   \n",
       "4894            6.6              0.32         0.36             8.0      0.047   \n",
       "4895            6.5              0.24         0.19             1.2      0.041   \n",
       "4896            5.5              0.29         0.30             1.1      0.022   \n",
       "4897            6.0              0.21         0.38             0.8      0.020   \n",
       "\n",
       "      free sulfur dioxide  total sulfur dioxide  density    pH  sulphates  \\\n",
       "0                    11.0                  34.0  0.99780  3.51       0.56   \n",
       "1                    25.0                  67.0  0.99680  3.20       0.68   \n",
       "2                    15.0                  54.0  0.99700  3.26       0.65   \n",
       "3                    17.0                  60.0  0.99800  3.16       0.58   \n",
       "4                    11.0                  34.0  0.99780  3.51       0.56   \n",
       "...                   ...                   ...      ...   ...        ...   \n",
       "4893                 24.0                  92.0  0.99114  3.27       0.50   \n",
       "4894                 57.0                 168.0  0.99490  3.15       0.46   \n",
       "4895                 30.0                 111.0  0.99254  2.99       0.46   \n",
       "4896                 20.0                 110.0  0.98869  3.34       0.38   \n",
       "4897                 22.0                  98.0  0.98941  3.26       0.32   \n",
       "\n",
       "      alcohol  quality  color  high_quality  is_red  \n",
       "0         9.4        5    red             0       1  \n",
       "1         9.8        5    red             0       1  \n",
       "2         9.8        5    red             0       1  \n",
       "3         9.8        6    red             1       1  \n",
       "4         9.4        5    red             0       1  \n",
       "...       ...      ...    ...           ...     ...  \n",
       "4893     11.2        6  white             1       0  \n",
       "4894      9.6        5  white             0       0  \n",
       "4895      9.4        6  white             1       0  \n",
       "4896     12.8        7  white             1       0  \n",
       "4897     11.8        6  white             1       0  \n",
       "\n",
       "[6497 rows x 15 columns]"
      ]
     },
     "execution_count": 3,
     "metadata": {},
     "output_type": "execute_result"
    }
   ],
   "source": [
    "is_red = []\n",
    "for i in wines.color:\n",
    "    if i == \"red\":\n",
    "        is_red.append(1)\n",
    "    else:\n",
    "        is_red.append(0)\n",
    "\n",
    "wines[\"is_red\"] = is_red\n",
    "\n",
    "wines"
   ]
  },
  {
   "cell_type": "code",
   "execution_count": 4,
   "id": "f0336702",
   "metadata": {},
   "outputs": [
    {
     "data": {
      "text/plain": [
       "1599"
      ]
     },
     "execution_count": 4,
     "metadata": {},
     "output_type": "execute_result"
    }
   ],
   "source": [
    "len(wines[wines.is_red == 1])"
   ]
  },
  {
   "cell_type": "code",
   "execution_count": 5,
   "id": "cd65fd72",
   "metadata": {},
   "outputs": [
    {
     "data": {
      "text/html": [
       "<div>\n",
       "<style scoped>\n",
       "    .dataframe tbody tr th:only-of-type {\n",
       "        vertical-align: middle;\n",
       "    }\n",
       "\n",
       "    .dataframe tbody tr th {\n",
       "        vertical-align: top;\n",
       "    }\n",
       "\n",
       "    .dataframe thead th {\n",
       "        text-align: right;\n",
       "    }\n",
       "</style>\n",
       "<table border=\"1\" class=\"dataframe\">\n",
       "  <thead>\n",
       "    <tr style=\"text-align: right;\">\n",
       "      <th></th>\n",
       "      <th>fixed acidity</th>\n",
       "      <th>volatile acidity</th>\n",
       "      <th>citric acid</th>\n",
       "      <th>residual sugar</th>\n",
       "      <th>chlorides</th>\n",
       "      <th>free sulfur dioxide</th>\n",
       "      <th>total sulfur dioxide</th>\n",
       "      <th>density</th>\n",
       "      <th>pH</th>\n",
       "      <th>sulphates</th>\n",
       "      <th>alcohol</th>\n",
       "      <th>is_red</th>\n",
       "    </tr>\n",
       "  </thead>\n",
       "  <tbody>\n",
       "    <tr>\n",
       "      <th>0</th>\n",
       "      <td>7.4</td>\n",
       "      <td>0.70</td>\n",
       "      <td>0.00</td>\n",
       "      <td>1.9</td>\n",
       "      <td>0.076</td>\n",
       "      <td>11.0</td>\n",
       "      <td>34.0</td>\n",
       "      <td>0.99780</td>\n",
       "      <td>3.51</td>\n",
       "      <td>0.56</td>\n",
       "      <td>9.4</td>\n",
       "      <td>1</td>\n",
       "    </tr>\n",
       "    <tr>\n",
       "      <th>1</th>\n",
       "      <td>7.8</td>\n",
       "      <td>0.88</td>\n",
       "      <td>0.00</td>\n",
       "      <td>2.6</td>\n",
       "      <td>0.098</td>\n",
       "      <td>25.0</td>\n",
       "      <td>67.0</td>\n",
       "      <td>0.99680</td>\n",
       "      <td>3.20</td>\n",
       "      <td>0.68</td>\n",
       "      <td>9.8</td>\n",
       "      <td>1</td>\n",
       "    </tr>\n",
       "    <tr>\n",
       "      <th>2</th>\n",
       "      <td>7.8</td>\n",
       "      <td>0.76</td>\n",
       "      <td>0.04</td>\n",
       "      <td>2.3</td>\n",
       "      <td>0.092</td>\n",
       "      <td>15.0</td>\n",
       "      <td>54.0</td>\n",
       "      <td>0.99700</td>\n",
       "      <td>3.26</td>\n",
       "      <td>0.65</td>\n",
       "      <td>9.8</td>\n",
       "      <td>1</td>\n",
       "    </tr>\n",
       "    <tr>\n",
       "      <th>3</th>\n",
       "      <td>11.2</td>\n",
       "      <td>0.28</td>\n",
       "      <td>0.56</td>\n",
       "      <td>1.9</td>\n",
       "      <td>0.075</td>\n",
       "      <td>17.0</td>\n",
       "      <td>60.0</td>\n",
       "      <td>0.99800</td>\n",
       "      <td>3.16</td>\n",
       "      <td>0.58</td>\n",
       "      <td>9.8</td>\n",
       "      <td>1</td>\n",
       "    </tr>\n",
       "    <tr>\n",
       "      <th>4</th>\n",
       "      <td>7.4</td>\n",
       "      <td>0.70</td>\n",
       "      <td>0.00</td>\n",
       "      <td>1.9</td>\n",
       "      <td>0.076</td>\n",
       "      <td>11.0</td>\n",
       "      <td>34.0</td>\n",
       "      <td>0.99780</td>\n",
       "      <td>3.51</td>\n",
       "      <td>0.56</td>\n",
       "      <td>9.4</td>\n",
       "      <td>1</td>\n",
       "    </tr>\n",
       "    <tr>\n",
       "      <th>...</th>\n",
       "      <td>...</td>\n",
       "      <td>...</td>\n",
       "      <td>...</td>\n",
       "      <td>...</td>\n",
       "      <td>...</td>\n",
       "      <td>...</td>\n",
       "      <td>...</td>\n",
       "      <td>...</td>\n",
       "      <td>...</td>\n",
       "      <td>...</td>\n",
       "      <td>...</td>\n",
       "      <td>...</td>\n",
       "    </tr>\n",
       "    <tr>\n",
       "      <th>4893</th>\n",
       "      <td>6.2</td>\n",
       "      <td>0.21</td>\n",
       "      <td>0.29</td>\n",
       "      <td>1.6</td>\n",
       "      <td>0.039</td>\n",
       "      <td>24.0</td>\n",
       "      <td>92.0</td>\n",
       "      <td>0.99114</td>\n",
       "      <td>3.27</td>\n",
       "      <td>0.50</td>\n",
       "      <td>11.2</td>\n",
       "      <td>0</td>\n",
       "    </tr>\n",
       "    <tr>\n",
       "      <th>4894</th>\n",
       "      <td>6.6</td>\n",
       "      <td>0.32</td>\n",
       "      <td>0.36</td>\n",
       "      <td>8.0</td>\n",
       "      <td>0.047</td>\n",
       "      <td>57.0</td>\n",
       "      <td>168.0</td>\n",
       "      <td>0.99490</td>\n",
       "      <td>3.15</td>\n",
       "      <td>0.46</td>\n",
       "      <td>9.6</td>\n",
       "      <td>0</td>\n",
       "    </tr>\n",
       "    <tr>\n",
       "      <th>4895</th>\n",
       "      <td>6.5</td>\n",
       "      <td>0.24</td>\n",
       "      <td>0.19</td>\n",
       "      <td>1.2</td>\n",
       "      <td>0.041</td>\n",
       "      <td>30.0</td>\n",
       "      <td>111.0</td>\n",
       "      <td>0.99254</td>\n",
       "      <td>2.99</td>\n",
       "      <td>0.46</td>\n",
       "      <td>9.4</td>\n",
       "      <td>0</td>\n",
       "    </tr>\n",
       "    <tr>\n",
       "      <th>4896</th>\n",
       "      <td>5.5</td>\n",
       "      <td>0.29</td>\n",
       "      <td>0.30</td>\n",
       "      <td>1.1</td>\n",
       "      <td>0.022</td>\n",
       "      <td>20.0</td>\n",
       "      <td>110.0</td>\n",
       "      <td>0.98869</td>\n",
       "      <td>3.34</td>\n",
       "      <td>0.38</td>\n",
       "      <td>12.8</td>\n",
       "      <td>0</td>\n",
       "    </tr>\n",
       "    <tr>\n",
       "      <th>4897</th>\n",
       "      <td>6.0</td>\n",
       "      <td>0.21</td>\n",
       "      <td>0.38</td>\n",
       "      <td>0.8</td>\n",
       "      <td>0.020</td>\n",
       "      <td>22.0</td>\n",
       "      <td>98.0</td>\n",
       "      <td>0.98941</td>\n",
       "      <td>3.26</td>\n",
       "      <td>0.32</td>\n",
       "      <td>11.8</td>\n",
       "      <td>0</td>\n",
       "    </tr>\n",
       "  </tbody>\n",
       "</table>\n",
       "<p>6497 rows × 12 columns</p>\n",
       "</div>"
      ],
      "text/plain": [
       "      fixed acidity  volatile acidity  citric acid  residual sugar  chlorides  \\\n",
       "0               7.4              0.70         0.00             1.9      0.076   \n",
       "1               7.8              0.88         0.00             2.6      0.098   \n",
       "2               7.8              0.76         0.04             2.3      0.092   \n",
       "3              11.2              0.28         0.56             1.9      0.075   \n",
       "4               7.4              0.70         0.00             1.9      0.076   \n",
       "...             ...               ...          ...             ...        ...   \n",
       "4893            6.2              0.21         0.29             1.6      0.039   \n",
       "4894            6.6              0.32         0.36             8.0      0.047   \n",
       "4895            6.5              0.24         0.19             1.2      0.041   \n",
       "4896            5.5              0.29         0.30             1.1      0.022   \n",
       "4897            6.0              0.21         0.38             0.8      0.020   \n",
       "\n",
       "      free sulfur dioxide  total sulfur dioxide  density    pH  sulphates  \\\n",
       "0                    11.0                  34.0  0.99780  3.51       0.56   \n",
       "1                    25.0                  67.0  0.99680  3.20       0.68   \n",
       "2                    15.0                  54.0  0.99700  3.26       0.65   \n",
       "3                    17.0                  60.0  0.99800  3.16       0.58   \n",
       "4                    11.0                  34.0  0.99780  3.51       0.56   \n",
       "...                   ...                   ...      ...   ...        ...   \n",
       "4893                 24.0                  92.0  0.99114  3.27       0.50   \n",
       "4894                 57.0                 168.0  0.99490  3.15       0.46   \n",
       "4895                 30.0                 111.0  0.99254  2.99       0.46   \n",
       "4896                 20.0                 110.0  0.98869  3.34       0.38   \n",
       "4897                 22.0                  98.0  0.98941  3.26       0.32   \n",
       "\n",
       "      alcohol  is_red  \n",
       "0         9.4       1  \n",
       "1         9.8       1  \n",
       "2         9.8       1  \n",
       "3         9.8       1  \n",
       "4         9.4       1  \n",
       "...       ...     ...  \n",
       "4893     11.2       0  \n",
       "4894      9.6       0  \n",
       "4895      9.4       0  \n",
       "4896     12.8       0  \n",
       "4897     11.8       0  \n",
       "\n",
       "[6497 rows x 12 columns]"
      ]
     },
     "execution_count": 5,
     "metadata": {},
     "output_type": "execute_result"
    }
   ],
   "source": [
    "numeric_data = wines.drop([\"color\", \"high_quality\", \"quality\"], axis=1)\n",
    "# 'axis=1' because we're dropping a column\n",
    "\n",
    "numeric_data"
   ]
  },
  {
   "cell_type": "code",
   "execution_count": 6,
   "id": "b3aa8d9b",
   "metadata": {},
   "outputs": [
    {
     "data": {
      "text/html": [
       "<div>\n",
       "<style scoped>\n",
       "    .dataframe tbody tr th:only-of-type {\n",
       "        vertical-align: middle;\n",
       "    }\n",
       "\n",
       "    .dataframe tbody tr th {\n",
       "        vertical-align: top;\n",
       "    }\n",
       "\n",
       "    .dataframe thead th {\n",
       "        text-align: right;\n",
       "    }\n",
       "</style>\n",
       "<table border=\"1\" class=\"dataframe\">\n",
       "  <thead>\n",
       "    <tr style=\"text-align: right;\">\n",
       "      <th></th>\n",
       "      <th>fixed acidity</th>\n",
       "      <th>volatile acidity</th>\n",
       "      <th>citric acid</th>\n",
       "      <th>residual sugar</th>\n",
       "      <th>chlorides</th>\n",
       "      <th>free sulfur dioxide</th>\n",
       "      <th>total sulfur dioxide</th>\n",
       "      <th>density</th>\n",
       "      <th>pH</th>\n",
       "      <th>sulphates</th>\n",
       "      <th>alcohol</th>\n",
       "      <th>quality</th>\n",
       "      <th>high_quality</th>\n",
       "    </tr>\n",
       "    <tr>\n",
       "      <th>is_red</th>\n",
       "      <th></th>\n",
       "      <th></th>\n",
       "      <th></th>\n",
       "      <th></th>\n",
       "      <th></th>\n",
       "      <th></th>\n",
       "      <th></th>\n",
       "      <th></th>\n",
       "      <th></th>\n",
       "      <th></th>\n",
       "      <th></th>\n",
       "      <th></th>\n",
       "      <th></th>\n",
       "    </tr>\n",
       "  </thead>\n",
       "  <tbody>\n",
       "    <tr>\n",
       "      <th>0</th>\n",
       "      <td>4898</td>\n",
       "      <td>4898</td>\n",
       "      <td>4898</td>\n",
       "      <td>4898</td>\n",
       "      <td>4898</td>\n",
       "      <td>4898</td>\n",
       "      <td>4898</td>\n",
       "      <td>4898</td>\n",
       "      <td>4898</td>\n",
       "      <td>4898</td>\n",
       "      <td>4898</td>\n",
       "      <td>4898</td>\n",
       "      <td>4898</td>\n",
       "    </tr>\n",
       "    <tr>\n",
       "      <th>1</th>\n",
       "      <td>1599</td>\n",
       "      <td>1599</td>\n",
       "      <td>1599</td>\n",
       "      <td>1599</td>\n",
       "      <td>1599</td>\n",
       "      <td>1599</td>\n",
       "      <td>1599</td>\n",
       "      <td>1599</td>\n",
       "      <td>1599</td>\n",
       "      <td>1599</td>\n",
       "      <td>1599</td>\n",
       "      <td>1599</td>\n",
       "      <td>1599</td>\n",
       "    </tr>\n",
       "  </tbody>\n",
       "</table>\n",
       "</div>"
      ],
      "text/plain": [
       "        fixed acidity  volatile acidity  citric acid  residual sugar  \\\n",
       "is_red                                                                 \n",
       "0                4898              4898         4898            4898   \n",
       "1                1599              1599         1599            1599   \n",
       "\n",
       "        chlorides  free sulfur dioxide  total sulfur dioxide  density    pH  \\\n",
       "is_red                                                                        \n",
       "0            4898                 4898                  4898     4898  4898   \n",
       "1            1599                 1599                  1599     1599  1599   \n",
       "\n",
       "        sulphates  alcohol  quality  high_quality  \n",
       "is_red                                             \n",
       "0            4898     4898     4898          4898  \n",
       "1            1599     1599     1599          1599  "
      ]
     },
     "execution_count": 6,
     "metadata": {},
     "output_type": "execute_result"
    }
   ],
   "source": [
    "wines[\"is_red\"] = (wines[\"color\"] == \"red\").astype(int)\n",
    "numeric_data = wines.drop(\"color\", axis=1)\n",
    "\n",
    "numeric_data.groupby('is_red').count()"
   ]
  },
  {
   "cell_type": "markdown",
   "id": "27d4d191",
   "metadata": {},
   "source": [
    "### Exercise 3\n",
    "\n",
    "We want to ensure that each variable contributes equally to the kNN classifier, so we will need to scale the data by subtracting the mean of each variable (column) and dividing each variable (column) by its standard deviation. Then, we will use principal components to take a linear snapshot of the data from several different angles, with each snapshot ordered by how well it aligns with variation in the data. In this exercise, we will scale the numeric data and extract the first two principal components.\n",
    "\n",
    "#### Instructions \n",
    "- Scale the data using the `sklearn.preprocessing` function `scale()` on `numeric_data`.\n",
    "- Convert this to a `pandas` dataframe, and store as `numeric_data`.\n",
    "    - Include the numeric variable names using the parameter `columns = numeric_data.columns`.\n",
    "- Use the `sklearn.decomposition` module `PCA()` and store it as `pca`.\n",
    "- Use the `fit_transform()` function to extract the first two principal components from the data, and store them as `principal_components`.\n",
    "- *Note*: You may get a `DataConversionWarning`, but you can safely ignore it"
   ]
  },
  {
   "cell_type": "code",
   "execution_count": 7,
   "id": "d7975064",
   "metadata": {},
   "outputs": [
    {
     "data": {
      "text/plain": [
       "(6497, 14)"
      ]
     },
     "execution_count": 7,
     "metadata": {},
     "output_type": "execute_result"
    }
   ],
   "source": [
    "import sklearn.preprocessing\n",
    "scaled_data = sklearn.preprocessing.scale(numeric_data)\n",
    "numeric_data = pd.DataFrame(scaled_data, columns = numeric_data.columns)\n",
    "\n",
    "columns = numeric_data.columns\n",
    "\n",
    "import sklearn.decomposition\n",
    "pca = sklearn.decomposition.PCA()\n",
    "principal_components = pca.fit_transform(numeric_data)\n",
    "\n",
    "principal_components.shape"
   ]
  },
  {
   "cell_type": "markdown",
   "id": "a68b6ecd",
   "metadata": {},
   "source": [
    "### Exercise 4\n",
    "\n",
    "In this exercise, we will plot the first two principal components of the covariates in the dataset. The high and low quality wines will be colored using red and blue, respectively.\n",
    "\n",
    "#### Instructions \n",
    "- The first two principal components can be accessed using `principal_components[:,0]` and `principal_components[:,1]`. Store these as `x` and `y` respectively, and make a scatter plot of these first two principal components.\n",
    "- How well are the two groups of wines separated by the first two principal components?"
   ]
  },
  {
   "cell_type": "code",
   "execution_count": 8,
   "id": "0f9876bd",
   "metadata": {},
   "outputs": [
    {
     "data": {
      "image/png": "[encoded data removed]",
      "text/plain": [
       "<Figure size 432x288 with 1 Axes>"
      ]
     },
     "metadata": {
      "needs_background": "light"
     },
     "output_type": "display_data"
    },
    {
     "data": {
      "text/plain": [
       "<Figure size 432x288 with 0 Axes>"
      ]
     },
     "metadata": {},
     "output_type": "display_data"
    }
   ],
   "source": [
    "import matplotlib.pyplot as plt\n",
    "from matplotlib.colors import ListedColormap\n",
    "from matplotlib.backends.backend_pdf import PdfPages\n",
    "observation_colormap = ListedColormap(['red', 'blue'])\n",
    "x = principal_components[:,0]\n",
    "y = principal_components[:,1]\n",
    "\n",
    "plt.title(\"Principal Components of Wine\")\n",
    "plt.scatter(x, y, alpha = 0.2,\n",
    "    c = wines['high_quality'], cmap = observation_colormap, edgecolors = 'none')\n",
    "plt.xlim(-8, 8); plt.ylim(-8, 8)\n",
    "plt.xlabel(\"Principal Component 1\")\n",
    "plt.ylabel(\"Principal Component 2\")\n",
    "plt.show()\n",
    "plt.savefig(\"Principle Components of Wine.png\")"
   ]
  },
  {
   "cell_type": "markdown",
   "id": "8f8fc528",
   "metadata": {},
   "source": [
    "**Result:** We could not easily draw a linear boundary between the high and low quality wines using the first two principle components"
   ]
  },
  {
   "cell_type": "markdown",
   "id": "f69cd08b",
   "metadata": {},
   "source": [
    "### Exercise 5\n",
    "\n",
    "In this exercise, we will create a function that calculates the accuracy between predictions and outcomes.\n",
    "\n",
    "#### Instructions\n",
    "- Create a function `accuracy(predictions, outcomes)` that takes two lists of the same size as arguments and returns a single number, which is the percentage of elements that are equal for the two lists.\n",
    "- Use accuracy to compare the percentage of similar elements in the `x` and `y` `numpy` arrays defined below.\n",
    "- Print your answer."
   ]
  },
  {
   "cell_type": "code",
   "execution_count": 9,
   "id": "482138d2",
   "metadata": {},
   "outputs": [
    {
     "data": {
      "text/plain": [
       "51.5"
      ]
     },
     "execution_count": 9,
     "metadata": {},
     "output_type": "execute_result"
    }
   ],
   "source": [
    "import numpy as np \n",
    "np.random.seed(1) # do not change\n",
    "\n",
    "x = np.random.randint(0, 2, 1000)\n",
    "y = np.random.randint(0 ,2, 1000)\n",
    "\n",
    "def accuracy(predictions, outcomes):\n",
    "    return 100*np.mean(predictions == outcomes)\n",
    "\n",
    "accuracy(x,y)"
   ]
  },
  {
   "cell_type": "markdown",
   "id": "ced0e8b1",
   "metadata": {},
   "source": [
    "### Exercise 6\n",
    "\n",
    "The dataset remains stored as data. Because most wines in the dataset are classified as low quality, one very simple classification rule is to predict that all wines are of low quality. In this exercise, we determine the accuracy of this simple rule. \n",
    "\n",
    "#### Instructions\n",
    "- Use `accuracy()` to calculate how many wines in the dataset are of low quality. Do this by using 0 as the first argument, and `data[\"high_quality\"]` as the second argument.\n",
    "- Print your result."
   ]
  },
  {
   "cell_type": "code",
   "execution_count": 10,
   "id": "5837c38e",
   "metadata": {},
   "outputs": [
    {
     "name": "stdout",
     "output_type": "stream",
     "text": [
      "36.69385870401724\n"
     ]
    }
   ],
   "source": [
    "print(accuracy(0, wines[\"high_quality\"]))"
   ]
  },
  {
   "cell_type": "markdown",
   "id": "1edcb3c5",
   "metadata": {},
   "source": [
    "### Exercise 7 \n",
    "\n",
    "In this exercise, we will use the kNN classifier from `scikit-learn` to predict the quality of wines in our dataset.\n",
    "\n",
    "#### Instructions\n",
    "- Use `knn.predict(numeric_data)` to predict which wines are high and low quality and store the result as `library_predictions`.\n",
    "- Use `accuracy` to find the accuracy of your predictions, using `library_predictions` as the first argument and `data[\"high_quality\"]` as the second argument.\n",
    "- Print your answer. Is this prediction better than the simple classifier in Exercise 6?"
   ]
  },
  {
   "cell_type": "code",
   "execution_count": 11,
   "id": "4042cbf1",
   "metadata": {},
   "outputs": [
    {
     "data": {
      "text/plain": [
       "99.96921656148992"
      ]
     },
     "execution_count": 11,
     "metadata": {},
     "output_type": "execute_result"
    }
   ],
   "source": [
    "from sklearn.neighbors import KNeighborsClassifier\n",
    "knn = KNeighborsClassifier(n_neighbors = 5)\n",
    "knn.fit(numeric_data, wines['high_quality'])\n",
    "\n",
    "library_predictions = knn.predict(numeric_data)\n",
    "# to predict which wines are high/low quality\n",
    "\n",
    "accuracy(library_predictions, wines['high_quality'])\n",
    "# It return around 84, which means kNN classifier predicts more accurately from the simple classifier we defined in Exercise 6"
   ]
  },
  {
   "cell_type": "markdown",
   "id": "0836b032",
   "metadata": {},
   "source": [
    "### Exercise 8\n",
    "\n",
    "Unlike the `scikit-learn` function, our homemade kNN classifier does not take any shortcuts in calculating which neighbors are closest to each observation, so it is likely too slow to carry out on the whole dataset. In this exercise, we will select a subset of our data to use in our homemade kNN classifier.\n",
    "\n",
    "#### Instructions \n",
    "- Fix the random generator using `random.seed(123)`, and select 10 rows from the dataset using `random.sample(range(n_rows), 10)`. Store this selection as `selection`."
   ]
  },
  {
   "cell_type": "code",
   "execution_count": 12,
   "id": "33fa22c7",
   "metadata": {},
   "outputs": [
    {
     "data": {
      "text/plain": [
       "4392"
      ]
     },
     "execution_count": 12,
     "metadata": {},
     "output_type": "execute_result"
    }
   ],
   "source": [
    "n_rows = wines.shape[0]\n",
    "# Enter your code here.\n",
    "\n",
    "import random\n",
    "random.seed(123)\n",
    "\n",
    "selection = random.sample(range(n_rows), 10)\n",
    "\n",
    "selection[9]"
   ]
  },
  {
   "cell_type": "markdown",
   "id": "d99fd84e",
   "metadata": {},
   "source": [
    "### Exercise 9\n",
    "\n",
    "We are now ready to use our homemade kNN classifier and compare the accuracy of our results to the baseline.\n",
    "\n",
    "#### Instructions \n",
    "- For each predictor` p` in `predictors[selection]`, use `knn_predict(p, predictors[training_indices,:], outcomes[training_indices], k=5)` to predict the quality of each wine in the prediction set, and store these predictions as a np.array called `my_predictions`. Note that knn_predict is already defined as in the Case 3 videos.\n",
    "- Using the `accuracy` function, compare these results to the selected rows from the `high_quality` variable in data using `my_predictions` as the first argument and `data.high_quality.iloc[selection]` as the second argument. Store these results as `percentage`.\n",
    "- Print your answer."
   ]
  },
  {
   "cell_type": "code",
   "execution_count": 13,
   "id": "f02a9cf8",
   "metadata": {},
   "outputs": [
    {
     "data": {
      "text/plain": [
       "100.0"
      ]
     },
     "execution_count": 13,
     "metadata": {},
     "output_type": "execute_result"
    }
   ],
   "source": [
    "predictors = np.array(numeric_data)\n",
    "training_indices = [i for i in range(len(predictors)) if i not in selection]\n",
    "outcomes = np.array(wines[\"high_quality\"])\n",
    "\n",
    "my_predictions = []\n",
    "for p in predictors[selection]:\n",
    "    a = knn_predict(p, predictors[training_indices,:], outcomes[training_indices], k=5)\n",
    "    my_predictions.append(a)\n",
    "my_predictions = np.array(my_predictions)\n",
    "\n",
    "percentage = accuracy(my_predictions, wines.high_quality.iloc[selection])\n",
    "\n",
    "percentage"
   ]
  },
  {
   "cell_type": "markdown",
   "id": "bc7765f4",
   "metadata": {},
   "source": [
    "## Case Study 2: Whiskies\n",
    "\n",
    "In this case study, we are going to step-by-step **prepare plots in Bokeh**, a library designed for simple, interactive plotting.  We will demonstrate Bokeh by continuing the analysis of Scotch whiskies."
   ]
  },
  {
   "cell_type": "markdown",
   "id": "94d181b5",
   "metadata": {},
   "source": [
    "**IMPORTANT:** The library **sklearn.cluster.bicluster**, which we used before, is removed. We need to import SpectralCoclustering from **sklearn.cluster**.\n"
   ]
  },
  {
   "cell_type": "code",
   "execution_count": 35,
   "id": "968a2adf",
   "metadata": {},
   "outputs": [],
   "source": [
    "from sklearn.cluster import SpectralCoclustering\n",
    "\n",
    "import numpy as np, pandas as pd\n",
    "\n",
    "whisky = pd.read_csv(\"https://courses.edx.org/asset-v1:HarvardX+PH526x+2T2019+type@asset+block@whiskies.csv\", index_col=0)\n",
    "correlations = pd.DataFrame.corr(whisky.iloc[:,2:14].transpose())\n",
    "correlations = np.array(correlations)"
   ]
  },
  {
   "cell_type": "markdown",
   "id": "4e7e0149",
   "metadata": {},
   "source": [
    "### Exercise 1\n",
    "\n",
    "In this exercise, we provide a basic demonstration of an interactive grid plot using Bokeh. Make sure to study this code now, as we will edit similar code in the exercises that follow.\n",
    "\n",
    "#### Instructions\n",
    "- Execute the following code and follow along with the comments. We will later adapt this code to plot the correlations among distillery flavor profiles as well as plot a geographical map of distilleries colored by region and flavor profile.\n",
    "- Once you have plotted the code, hover, click, and drag your cursor on the plot to interact with it. Additionally, explore the icons in the top-right corner of the plot for more interactive options!"
   ]
  },
  {
   "cell_type": "code",
   "execution_count": 36,
   "id": "7e38d615",
   "metadata": {},
   "outputs": [
    {
     "name": "stdout",
     "output_type": "stream",
     "text": [
      "[(1, 1), (1, 2), (1, 3), (1, 4), (1, 5), (2, 1), (2, 2), (2, 3), (2, 4), (2, 5), (3, 1), (3, 2), (3, 3), (3, 4), (3, 5), (4, 1), (4, 2), (4, 3), (4, 4), (4, 5), (5, 1), (5, 2), (5, 3), (5, 4), (5, 5)]\n"
     ]
    }
   ],
   "source": [
    "# First, we import a tool to allow text to pop up on a plot when the cursor\n",
    "# hovers over it.  Also, we import a data structure used to store arguments\n",
    "# of what to plot in Bokeh.  Finally, we will use numpy for this section as well!\n",
    "\n",
    "from bokeh.models import HoverTool, ColumnDataSource\n",
    "\n",
    "# Let's plot a simple 5x5 grid of squares, alternating between two colors.\n",
    "plot_values = [1,2,3,4,5]\n",
    "plot_colors = ['#0173b2', '#de8f05']\n",
    "\n",
    "# How do we tell Bokeh to plot each point in a grid?  Let's use a function that\n",
    "# finds each combination of values from 1-5.\n",
    "from itertools import product\n",
    "\n",
    "grid = list(product(plot_values, plot_values))\n",
    "print(grid)"
   ]
  },
  {
   "cell_type": "code",
   "execution_count": 37,
   "id": "caf2dd60",
   "metadata": {},
   "outputs": [
    {
     "name": "stdout",
     "output_type": "stream",
     "text": [
      "(1, 1, 1, 1, 1, 2, 2, 2, 2, 2, 3, 3, 3, 3, 3, 4, 4, 4, 4, 4, 5, 5, 5, 5, 5)\n",
      "(1, 2, 3, 4, 5, 1, 2, 3, 4, 5, 1, 2, 3, 4, 5, 1, 2, 3, 4, 5, 1, 2, 3, 4, 5)\n"
     ]
    }
   ],
   "source": [
    "# The first value is the x coordinate, and the second value is the y coordinate.\n",
    "# Let's store these in separate lists.\n",
    "\n",
    "xs, ys = zip(*grid)\n",
    "print(xs)\n",
    "print(ys)"
   ]
  },
  {
   "cell_type": "code",
   "execution_count": 38,
   "id": "036cd7a8",
   "metadata": {},
   "outputs": [
    {
     "name": "stdout",
     "output_type": "stream",
     "text": [
      "['#0173b2', '#de8f05', '#0173b2', '#de8f05', '#0173b2', '#de8f05', '#0173b2', '#de8f05', '#0173b2', '#de8f05', '#0173b2', '#de8f05', '#0173b2', '#de8f05', '#0173b2', '#de8f05', '#0173b2', '#de8f05', '#0173b2', '#de8f05', '#0173b2', '#de8f05', '#0173b2', '#de8f05', '#0173b2']\n"
     ]
    }
   ],
   "source": [
    "# Now we will make a list of colors, alternating between red and blue.\n",
    "\n",
    "colors = [plot_colors[i%2] for i in range(len(grid))]\n",
    "print(colors)"
   ]
  },
  {
   "cell_type": "code",
   "execution_count": 39,
   "id": "881cfc01",
   "metadata": {},
   "outputs": [
    {
     "data": {
      "text/html": [
       "    <style>\n",
       "        .bk-notebook-logo {\n",
       "            display: block;\n",
       "            width: 20px;\n",
       "            height: 20px;\n",
       "            background-image: url(data:image/png;base64,iVBORw0KGgoAAAANSUhEUgAAABQAAAAUCAYAAACNiR0NAAAABHNCSVQICAgIfAhkiAAAAAlwSFlzAAALEgAACxIB0t1+/AAAABx0RVh0U29mdHdhcmUAQWRvYmUgRmlyZXdvcmtzIENTNui8sowAAAOkSURBVDiNjZRtaJVlGMd/1/08zzln5zjP1LWcU9N0NkN8m2CYjpgQYQXqSs0I84OLIC0hkEKoPtiH3gmKoiJDU7QpLgoLjLIQCpEsNJ1vqUOdO7ppbuec5+V+rj4ctwzd8IIbbi6u+8f1539dt3A78eXC7QizUF7gyV1fD1Yqg4JWz84yffhm0qkFqBogB9rM8tZdtwVsPUhWhGcFJngGeWrPzHm5oaMmkfEg1usvLFyc8jLRqDOMru7AyC8saQr7GG7f5fvDeH7Ej8CM66nIF+8yngt6HWaKh7k49Soy9nXurCi1o3qUbS3zWfrYeQDTB/Qj6kX6Ybhw4B+bOYoLKCC9H3Nu/leUTZ1JdRWkkn2ldcCamzrcf47KKXdAJllSlxAOkRgyHsGC/zRday5Qld9DyoM4/q/rUoy/CXh3jzOu3bHUVZeU+DEn8FInkPBFlu3+nW3Nw0mk6vCDiWg8CeJaxEwuHS3+z5RgY+YBR6V1Z1nxSOfoaPa4LASWxxdNp+VWTk7+4vzaou8v8PN+xo+KY2xsw6une2frhw05CTYOmQvsEhjhWjn0bmXPjpE1+kplmmkP3suftwTubK9Vq22qKmrBhpY4jvd5afdRA3wGjFAgcnTK2s4hY0/GPNIb0nErGMCRxWOOX64Z8RAC4oCXdklmEvcL8o0BfkNK4lUg9HTl+oPlQxdNo3Mg4Nv175e/1LDGzZen30MEjRUtmXSfiTVu1kK8W4txyV6BMKlbgk3lMwYCiusNy9fVfvvwMxv8Ynl6vxoByANLTWplvuj/nF9m2+PDtt1eiHPBr1oIfhCChQMBw6Aw0UulqTKZdfVvfG7VcfIqLG9bcldL/+pdWTLxLUy8Qq38heUIjh4XlzZxzQm19lLFlr8vdQ97rjZVOLf8nclzckbcD4wxXMidpX30sFd37Fv/GtwwhzhxGVAprjbg0gCAEeIgwCZyTV2Z1REEW8O4py0wsjeloKoMr6iCY6dP92H6Vw/oTyICIthibxjm/DfN9lVz8IqtqKYLUXfoKVMVQVVJOElGjrnnUt9T9wbgp8AyYKaGlqingHZU/uG2NTZSVqwHQTWkx9hxjkpWDaCg6Ckj5qebgBVbT3V3NNXMSiWSDdGV3hrtzla7J+duwPOToIg42ChPQOQjspnSlp1V+Gjdged7+8UN5CRAV7a5EdFNwCjEaBR27b3W890TE7g24NAP/mMDXRWrGoFPQI9ls/MWO2dWFAar/xcOIImbbpA3zgAAAABJRU5ErkJggg==);\n",
       "        }\n",
       "    </style>\n",
       "    <div>\n",
       "        <a href=\"https://bokeh.org\" target=\"_blank\" class=\"bk-notebook-logo\"></a>\n",
       "        <span id=\"e44445d0-f88a-4fc7-8946-d923cc7faea5\">Loading BokehJS ...</span>\n",
       "    </div>\n"
      ]
     },
     "metadata": {},
     "output_type": "display_data"
    },
    {
     "data": {
      "application/javascript": [
       "'use strict';\n",
       "(function(root) {\n",
       "  function now() {\n",
       "    return new Date();\n",
       "  }\n",
       "\n",
       "  const force = true;\n",
       "\n",
       "  if (typeof root._bokeh_onload_callbacks === \"undefined\" || force === true) {\n",
       "    root._bokeh_onload_callbacks = [];\n",
       "    root._bokeh_is_loading = undefined;\n",
       "  }\n",
       "\n",
       "const JS_MIME_TYPE = 'application/javascript';\n",
       "  const HTML_MIME_TYPE = 'text/html';\n",
       "  const EXEC_MIME_TYPE = 'application/vnd.bokehjs_exec.v0+json';\n",
       "  const CLASS_NAME = 'output_bokeh rendered_html';\n",
       "\n",
       "  /**\n",
       "   * Render data to the DOM node\n",
       "   */\n",
       "  function render(props, node) {\n",
       "    const script = document.createElement(\"script\");\n",
       "    node.appendChild(script);\n",
       "  }\n",
       "\n",
       "  /**\n",
       "   * Handle when an output is cleared or removed\n",
       "   */\n",
       "  function handleClearOutput(event, handle) {\n",
       "    function drop(id) {\n",
       "      const view = Bokeh.index.get_by_id(id)\n",
       "      if (view != null) {\n",
       "        view.model.document.clear()\n",
       "        Bokeh.index.delete(view)\n",
       "      }\n",
       "    }\n",
       "\n",
       "    const cell = handle.cell;\n",
       "\n",
       "    const id = cell.output_area._bokeh_element_id;\n",
       "    const server_id = cell.output_area._bokeh_server_id;\n",
       "\n",
       "    // Clean up Bokeh references\n",
       "    if (id != null) {\n",
       "      drop(id)\n",
       "    }\n",
       "\n",
       "    if (server_id !== undefined) {\n",
       "      // Clean up Bokeh references\n",
       "      const cmd_clean = \"from bokeh.io.state import curstate; print(curstate().uuid_to_server['\" + server_id + \"'].get_sessions()[0].document.roots[0]._id)\";\n",
       "      cell.notebook.kernel.execute(cmd_clean, {\n",
       "        iopub: {\n",
       "          output: function(msg) {\n",
       "            const id = msg.content.text.trim()\n",
       "            drop(id)\n",
       "          }\n",
       "        }\n",
       "      });\n",
       "      // Destroy server and session\n",
       "      const cmd_destroy = \"import bokeh.io.notebook as ion; ion.destroy_server('\" + server_id + \"')\";\n",
       "      cell.notebook.kernel.execute(cmd_destroy);\n",
       "    }\n",
       "  }\n",
       "\n",
       "  /**\n",
       "   * Handle when a new output is added\n",
       "   */\n",
       "  function handleAddOutput(event, handle) {\n",
       "    const output_area = handle.output_area;\n",
       "    const output = handle.output;\n",
       "\n",
       "    // limit handleAddOutput to display_data with EXEC_MIME_TYPE content only\n",
       "    if ((output.output_type != \"display_data\") || (!Object.prototype.hasOwnProperty.call(output.data, EXEC_MIME_TYPE))) {\n",
       "      return\n",
       "    }\n",
       "\n",
       "    const toinsert = output_area.element.find(\".\" + CLASS_NAME.split(' ')[0]);\n",
       "\n",
       "    if (output.metadata[EXEC_MIME_TYPE][\"id\"] !== undefined) {\n",
       "      toinsert[toinsert.length - 1].firstChild.textContent = output.data[JS_MIME_TYPE];\n",
       "      // store reference to embed id on output_area\n",
       "      output_area._bokeh_element_id = output.metadata[EXEC_MIME_TYPE][\"id\"];\n",
       "    }\n",
       "    if (output.metadata[EXEC_MIME_TYPE][\"server_id\"] !== undefined) {\n",
       "      const bk_div = document.createElement(\"div\");\n",
       "      bk_div.innerHTML = output.data[HTML_MIME_TYPE];\n",
       "      const script_attrs = bk_div.children[0].attributes;\n",
       "      for (let i = 0; i < script_attrs.length; i++) {\n",
       "        toinsert[toinsert.length - 1].firstChild.setAttribute(script_attrs[i].name, script_attrs[i].value);\n",
       "        toinsert[toinsert.length - 1].firstChild.textContent = bk_div.children[0].textContent\n",
       "      }\n",
       "      // store reference to server id on output_area\n",
       "      output_area._bokeh_server_id = output.metadata[EXEC_MIME_TYPE][\"server_id\"];\n",
       "    }\n",
       "  }\n",
       "\n",
       "  function register_renderer(events, OutputArea) {\n",
       "\n",
       "    function append_mime(data, metadata, element) {\n",
       "      // create a DOM node to render to\n",
       "      const toinsert = this.create_output_subarea(\n",
       "        metadata,\n",
       "        CLASS_NAME,\n",
       "        EXEC_MIME_TYPE\n",
       "      );\n",
       "      this.keyboard_manager.register_events(toinsert);\n",
       "      // Render to node\n",
       "      const props = {data: data, metadata: metadata[EXEC_MIME_TYPE]};\n",
       "      render(props, toinsert[toinsert.length - 1]);\n",
       "      element.append(toinsert);\n",
       "      return toinsert\n",
       "    }\n",
       "\n",
       "    /* Handle when an output is cleared or removed */\n",
       "    events.on('clear_output.CodeCell', handleClearOutput);\n",
       "    events.on('delete.Cell', handleClearOutput);\n",
       "\n",
       "    /* Handle when a new output is added */\n",
       "    events.on('output_added.OutputArea', handleAddOutput);\n",
       "\n",
       "    /**\n",
       "     * Register the mime type and append_mime function with output_area\n",
       "     */\n",
       "    OutputArea.prototype.register_mime_type(EXEC_MIME_TYPE, append_mime, {\n",
       "      /* Is output safe? */\n",
       "      safe: true,\n",
       "      /* Index of renderer in `output_area.display_order` */\n",
       "      index: 0\n",
       "    });\n",
       "  }\n",
       "\n",
       "  // register the mime type if in Jupyter Notebook environment and previously unregistered\n",
       "  if (root.Jupyter !== undefined) {\n",
       "    const events = require('base/js/events');\n",
       "    const OutputArea = require('notebook/js/outputarea').OutputArea;\n",
       "\n",
       "    if (OutputArea.prototype.mime_types().indexOf(EXEC_MIME_TYPE) == -1) {\n",
       "      register_renderer(events, OutputArea);\n",
       "    }\n",
       "  }\n",
       "  if (typeof (root._bokeh_timeout) === \"undefined\" || force === true) {\n",
       "    root._bokeh_timeout = Date.now() + 5000;\n",
       "    root._bokeh_failed_load = false;\n",
       "  }\n",
       "\n",
       "  const NB_LOAD_WARNING = {'data': {'text/html':\n",
       "     \"<div style='background-color: #fdd'>\\n\"+\n",
       "     \"<p>\\n\"+\n",
       "     \"BokehJS does not appear to have successfully loaded. If loading BokehJS from CDN, this \\n\"+\n",
       "     \"may be due to a slow or bad network connection. Possible fixes:\\n\"+\n",
       "     \"</p>\\n\"+\n",
       "     \"<ul>\\n\"+\n",
       "     \"<li>re-rerun `output_notebook()` to attempt to load from CDN again, or</li>\\n\"+\n",
       "     \"<li>use INLINE resources instead, as so:</li>\\n\"+\n",
       "     \"</ul>\\n\"+\n",
       "     \"<code>\\n\"+\n",
       "     \"from bokeh.resources import INLINE\\n\"+\n",
       "     \"output_notebook(resources=INLINE)\\n\"+\n",
       "     \"</code>\\n\"+\n",
       "     \"</div>\"}};\n",
       "\n",
       "  function display_loaded(error = null) {\n",
       "    const el = document.getElementById(\"e44445d0-f88a-4fc7-8946-d923cc7faea5\");\n",
       "    if (el != null) {\n",
       "      const html = (() => {\n",
       "        if (typeof root.Bokeh === \"undefined\") {\n",
       "          if (error == null) {\n",
       "            return \"BokehJS is loading ...\";\n",
       "          } else {\n",
       "            return \"BokehJS failed to load.\";\n",
       "          }\n",
       "        } else {\n",
       "          const prefix = `BokehJS ${root.Bokeh.version}`;\n",
       "          if (error == null) {\n",
       "            return `${prefix} successfully loaded.`;\n",
       "          } else {\n",
       "            return `${prefix} <b>encountered errors</b> while loading and may not function as expected.`;\n",
       "          }\n",
       "        }\n",
       "      })();\n",
       "      el.innerHTML = html;\n",
       "\n",
       "      if (error != null) {\n",
       "        const wrapper = document.createElement(\"div\");\n",
       "        wrapper.style.overflow = \"auto\";\n",
       "        wrapper.style.height = \"5em\";\n",
       "        wrapper.style.resize = \"vertical\";\n",
       "        const content = document.createElement(\"div\");\n",
       "        content.style.fontFamily = \"monospace\";\n",
       "        content.style.whiteSpace = \"pre-wrap\";\n",
       "        content.style.backgroundColor = \"rgb(255, 221, 221)\";\n",
       "        content.textContent = error.stack ?? error.toString();\n",
       "        wrapper.append(content);\n",
       "        el.append(wrapper);\n",
       "      }\n",
       "    } else if (Date.now() < root._bokeh_timeout) {\n",
       "      setTimeout(() => display_loaded(error), 100);\n",
       "    }\n",
       "  }\n",
       "\n",
       "  function run_callbacks() {\n",
       "    try {\n",
       "      root._bokeh_onload_callbacks.forEach(function(callback) {\n",
       "        if (callback != null)\n",
       "          callback();\n",
       "      });\n",
       "    } finally {\n",
       "      delete root._bokeh_onload_callbacks\n",
       "    }\n",
       "    console.debug(\"Bokeh: all callbacks have finished\");\n",
       "  }\n",
       "\n",
       "  function load_libs(css_urls, js_urls, callback) {\n",
       "    if (css_urls == null) css_urls = [];\n",
       "    if (js_urls == null) js_urls = [];\n",
       "\n",
       "    root._bokeh_onload_callbacks.push(callback);\n",
       "    if (root._bokeh_is_loading > 0) {\n",
       "      console.debug(\"Bokeh: BokehJS is being loaded, scheduling callback at\", now());\n",
       "      return null;\n",
       "    }\n",
       "    if (js_urls == null || js_urls.length === 0) {\n",
       "      run_callbacks();\n",
       "      return null;\n",
       "    }\n",
       "    console.debug(\"Bokeh: BokehJS not loaded, scheduling load and callback at\", now());\n",
       "    root._bokeh_is_loading = css_urls.length + js_urls.length;\n",
       "\n",
       "    function on_load() {\n",
       "      root._bokeh_is_loading--;\n",
       "      if (root._bokeh_is_loading === 0) {\n",
       "        console.debug(\"Bokeh: all BokehJS libraries/stylesheets loaded\");\n",
       "        run_callbacks()\n",
       "      }\n",
       "    }\n",
       "\n",
       "    function on_error(url) {\n",
       "      console.error(\"failed to load \" + url);\n",
       "    }\n",
       "\n",
       "    for (let i = 0; i < css_urls.length; i++) {\n",
       "      const url = css_urls[i];\n",
       "      const element = document.createElement(\"link\");\n",
       "      element.onload = on_load;\n",
       "      element.onerror = on_error.bind(null, url);\n",
       "      element.rel = \"stylesheet\";\n",
       "      element.type = \"text/css\";\n",
       "      element.href = url;\n",
       "      console.debug(\"Bokeh: injecting link tag for BokehJS stylesheet: \", url);\n",
       "      document.body.appendChild(element);\n",
       "    }\n",
       "\n",
       "    for (let i = 0; i < js_urls.length; i++) {\n",
       "      const url = js_urls[i];\n",
       "      const element = document.createElement('script');\n",
       "      element.onload = on_load;\n",
       "      element.onerror = on_error.bind(null, url);\n",
       "      element.async = false;\n",
       "      element.src = url;\n",
       "      console.debug(\"Bokeh: injecting script tag for BokehJS library: \", url);\n",
       "      document.head.appendChild(element);\n",
       "    }\n",
       "  };\n",
       "\n",
       "  function inject_raw_css(css) {\n",
       "    const element = document.createElement(\"style\");\n",
       "    element.appendChild(document.createTextNode(css));\n",
       "    document.body.appendChild(element);\n",
       "  }\n",
       "\n",
       "  const js_urls = [\"https://cdn.bokeh.org/bokeh/release/bokeh-3.6.1.min.js\", \"https://cdn.bokeh.org/bokeh/release/bokeh-gl-3.6.1.min.js\", \"https://cdn.bokeh.org/bokeh/release/bokeh-widgets-3.6.1.min.js\", \"https://cdn.bokeh.org/bokeh/release/bokeh-tables-3.6.1.min.js\", \"https://cdn.bokeh.org/bokeh/release/bokeh-mathjax-3.6.1.min.js\"];\n",
       "  const css_urls = [];\n",
       "\n",
       "  const inline_js = [    function(Bokeh) {\n",
       "      Bokeh.set_log_level(\"info\");\n",
       "    },\n",
       "function(Bokeh) {\n",
       "    }\n",
       "  ];\n",
       "\n",
       "  function run_inline_js() {\n",
       "    if (root.Bokeh !== undefined || force === true) {\n",
       "      try {\n",
       "            for (let i = 0; i < inline_js.length; i++) {\n",
       "      inline_js[i].call(root, root.Bokeh);\n",
       "    }\n",
       "\n",
       "      } catch (error) {display_loaded(error);throw error;\n",
       "      }if (force === true) {\n",
       "        display_loaded();\n",
       "      }} else if (Date.now() < root._bokeh_timeout) {\n",
       "      setTimeout(run_inline_js, 100);\n",
       "    } else if (!root._bokeh_failed_load) {\n",
       "      console.log(\"Bokeh: BokehJS failed to load within specified timeout.\");\n",
       "      root._bokeh_failed_load = true;\n",
       "    } else if (force !== true) {\n",
       "      const cell = $(document.getElementById(\"e44445d0-f88a-4fc7-8946-d923cc7faea5\")).parents('.cell').data().cell;\n",
       "      cell.output_area.append_execute_result(NB_LOAD_WARNING)\n",
       "    }\n",
       "  }\n",
       "\n",
       "  if (root._bokeh_is_loading === 0) {\n",
       "    console.debug(\"Bokeh: BokehJS loaded, going straight to plotting\");\n",
       "    run_inline_js();\n",
       "  } else {\n",
       "    load_libs(css_urls, js_urls, function() {\n",
       "      console.debug(\"Bokeh: BokehJS plotting callback run at\", now());\n",
       "      run_inline_js();\n",
       "    });\n",
       "  }\n",
       "}(window));"
      ],
      "application/vnd.bokehjs_load.v0+json": "'use strict';\n(function(root) {\n  function now() {\n    return new Date();\n  }\n\n  const force = true;\n\n  if (typeof root._bokeh_onload_callbacks === \"undefined\" || force === true) {\n    root._bokeh_onload_callbacks = [];\n    root._bokeh_is_loading = undefined;\n  }\n\n\n  if (typeof (root._bokeh_timeout) === \"undefined\" || force === true) {\n    root._bokeh_timeout = Date.now() + 5000;\n    root._bokeh_failed_load = false;\n  }\n\n  const NB_LOAD_WARNING = {'data': {'text/html':\n     \"<div style='background-color: #fdd'>\\n\"+\n     \"<p>\\n\"+\n     \"BokehJS does not appear to have successfully loaded. If loading BokehJS from CDN, this \\n\"+\n     \"may be due to a slow or bad network connection. Possible fixes:\\n\"+\n     \"</p>\\n\"+\n     \"<ul>\\n\"+\n     \"<li>re-rerun `output_notebook()` to attempt to load from CDN again, or</li>\\n\"+\n     \"<li>use INLINE resources instead, as so:</li>\\n\"+\n     \"</ul>\\n\"+\n     \"<code>\\n\"+\n     \"from bokeh.resources import INLINE\\n\"+\n     \"output_notebook(resources=INLINE)\\n\"+\n     \"</code>\\n\"+\n     \"</div>\"}};\n\n  function display_loaded(error = null) {\n    const el = document.getElementById(\"e44445d0-f88a-4fc7-8946-d923cc7faea5\");\n    if (el != null) {\n      const html = (() => {\n        if (typeof root.Bokeh === \"undefined\") {\n          if (error == null) {\n            return \"BokehJS is loading ...\";\n          } else {\n            return \"BokehJS failed to load.\";\n          }\n        } else {\n          const prefix = `BokehJS ${root.Bokeh.version}`;\n          if (error == null) {\n            return `${prefix} successfully loaded.`;\n          } else {\n            return `${prefix} <b>encountered errors</b> while loading and may not function as expected.`;\n          }\n        }\n      })();\n      el.innerHTML = html;\n\n      if (error != null) {\n        const wrapper = document.createElement(\"div\");\n        wrapper.style.overflow = \"auto\";\n        wrapper.style.height = \"5em\";\n        wrapper.style.resize = \"vertical\";\n        const content = document.createElement(\"div\");\n        content.style.fontFamily = \"monospace\";\n        content.style.whiteSpace = \"pre-wrap\";\n        content.style.backgroundColor = \"rgb(255, 221, 221)\";\n        content.textContent = error.stack ?? error.toString();\n        wrapper.append(content);\n        el.append(wrapper);\n      }\n    } else if (Date.now() < root._bokeh_timeout) {\n      setTimeout(() => display_loaded(error), 100);\n    }\n  }\n\n  function run_callbacks() {\n    try {\n      root._bokeh_onload_callbacks.forEach(function(callback) {\n        if (callback != null)\n          callback();\n      });\n    } finally {\n      delete root._bokeh_onload_callbacks\n    }\n    console.debug(\"Bokeh: all callbacks have finished\");\n  }\n\n  function load_libs(css_urls, js_urls, callback) {\n    if (css_urls == null) css_urls = [];\n    if (js_urls == null) js_urls = [];\n\n    root._bokeh_onload_callbacks.push(callback);\n    if (root._bokeh_is_loading > 0) {\n      console.debug(\"Bokeh: BokehJS is being loaded, scheduling callback at\", now());\n      return null;\n    }\n    if (js_urls == null || js_urls.length === 0) {\n      run_callbacks();\n      return null;\n    }\n    console.debug(\"Bokeh: BokehJS not loaded, scheduling load and callback at\", now());\n    root._bokeh_is_loading = css_urls.length + js_urls.length;\n\n    function on_load() {\n      root._bokeh_is_loading--;\n      if (root._bokeh_is_loading === 0) {\n        console.debug(\"Bokeh: all BokehJS libraries/stylesheets loaded\");\n        run_callbacks()\n      }\n    }\n\n    function on_error(url) {\n      console.error(\"failed to load \" + url);\n    }\n\n    for (let i = 0; i < css_urls.length; i++) {\n      const url = css_urls[i];\n      const element = document.createElement(\"link\");\n      element.onload = on_load;\n      element.onerror = on_error.bind(null, url);\n      element.rel = \"stylesheet\";\n      element.type = \"text/css\";\n      element.href = url;\n      console.debug(\"Bokeh: injecting link tag for BokehJS stylesheet: \", url);\n      document.body.appendChild(element);\n    }\n\n    for (let i = 0; i < js_urls.length; i++) {\n      const url = js_urls[i];\n      const element = document.createElement('script');\n      element.onload = on_load;\n      element.onerror = on_error.bind(null, url);\n      element.async = false;\n      element.src = url;\n      console.debug(\"Bokeh: injecting script tag for BokehJS library: \", url);\n      document.head.appendChild(element);\n    }\n  };\n\n  function inject_raw_css(css) {\n    const element = document.createElement(\"style\");\n    element.appendChild(document.createTextNode(css));\n    document.body.appendChild(element);\n  }\n\n  const js_urls = [\"https://cdn.bokeh.org/bokeh/release/bokeh-3.6.1.min.js\", \"https://cdn.bokeh.org/bokeh/release/bokeh-gl-3.6.1.min.js\", \"https://cdn.bokeh.org/bokeh/release/bokeh-widgets-3.6.1.min.js\", \"https://cdn.bokeh.org/bokeh/release/bokeh-tables-3.6.1.min.js\", \"https://cdn.bokeh.org/bokeh/release/bokeh-mathjax-3.6.1.min.js\"];\n  const css_urls = [];\n\n  const inline_js = [    function(Bokeh) {\n      Bokeh.set_log_level(\"info\");\n    },\nfunction(Bokeh) {\n    }\n  ];\n\n  function run_inline_js() {\n    if (root.Bokeh !== undefined || force === true) {\n      try {\n            for (let i = 0; i < inline_js.length; i++) {\n      inline_js[i].call(root, root.Bokeh);\n    }\n\n      } catch (error) {display_loaded(error);throw error;\n      }if (force === true) {\n        display_loaded();\n      }} else if (Date.now() < root._bokeh_timeout) {\n      setTimeout(run_inline_js, 100);\n    } else if (!root._bokeh_failed_load) {\n      console.log(\"Bokeh: BokehJS failed to load within specified timeout.\");\n      root._bokeh_failed_load = true;\n    } else if (force !== true) {\n      const cell = $(document.getElementById(\"e44445d0-f88a-4fc7-8946-d923cc7faea5\")).parents('.cell').data().cell;\n      cell.output_area.append_execute_result(NB_LOAD_WARNING)\n    }\n  }\n\n  if (root._bokeh_is_loading === 0) {\n    console.debug(\"Bokeh: BokehJS loaded, going straight to plotting\");\n    run_inline_js();\n  } else {\n    load_libs(css_urls, js_urls, function() {\n      console.debug(\"Bokeh: BokehJS plotting callback run at\", now());\n      run_inline_js();\n    });\n  }\n}(window));"
     },
     "metadata": {},
     "output_type": "display_data"
    },
    {
     "data": {
      "text/html": [
       "\n",
       "  <div id=\"a05b6a2c-f041-4dc3-8206-8d9760454991\" data-root-id=\"p1669\" style=\"display: contents;\"></div>\n"
      ]
     },
     "metadata": {},
     "output_type": "display_data"
    },
    {
     "data": {
      "application/javascript": [
       "(function(root) {\n",
       "  function embed_document(root) {\n",
       "  const docs_json = {\"9416641f-b4d4-4722-ba5a-fc7599307403\":{\"version\":\"3.6.1\",\"title\":\"Bokeh Application\",\"roots\":[{\"type\":\"object\",\"name\":\"Figure\",\"id\":\"p1669\",\"attributes\":{\"x_range\":{\"type\":\"object\",\"name\":\"DataRange1d\",\"id\":\"p1670\"},\"y_range\":{\"type\":\"object\",\"name\":\"DataRange1d\",\"id\":\"p1671\"},\"x_scale\":{\"type\":\"object\",\"name\":\"LinearScale\",\"id\":\"p1678\"},\"y_scale\":{\"type\":\"object\",\"name\":\"LinearScale\",\"id\":\"p1679\"},\"title\":{\"type\":\"object\",\"name\":\"Title\",\"id\":\"p1676\"},\"renderers\":[{\"type\":\"object\",\"name\":\"GlyphRenderer\",\"id\":\"p1697\",\"attributes\":{\"data_source\":{\"type\":\"object\",\"name\":\"ColumnDataSource\",\"id\":\"p1666\",\"attributes\":{\"selected\":{\"type\":\"object\",\"name\":\"Selection\",\"id\":\"p1667\",\"attributes\":{\"indices\":[],\"line_indices\":[]}},\"selection_policy\":{\"type\":\"object\",\"name\":\"UnionRenderers\",\"id\":\"p1668\"},\"data\":{\"type\":\"map\",\"entries\":[[\"x\",[1,1,1,1,1,2,2,2,2,2,3,3,3,3,3,4,4,4,4,4,5,5,5,5,5]],[\"y\",[1,2,3,4,5,1,2,3,4,5,1,2,3,4,5,1,2,3,4,5,1,2,3,4,5]],[\"colors\",[\"#0173b2\",\"#de8f05\",\"#0173b2\",\"#de8f05\",\"#0173b2\",\"#de8f05\",\"#0173b2\",\"#de8f05\",\"#0173b2\",\"#de8f05\",\"#0173b2\",\"#de8f05\",\"#0173b2\",\"#de8f05\",\"#0173b2\",\"#de8f05\",\"#0173b2\",\"#de8f05\",\"#0173b2\",\"#de8f05\",\"#0173b2\",\"#de8f05\",\"#0173b2\",\"#de8f05\",\"#0173b2\"]],[\"alphas\",{\"type\":\"ndarray\",\"array\":{\"type\":\"bytes\",\"data\":\"AAAAAAAAAABVVVVVVVWlP1VVVVVVVbU/AAAAAAAAwD9VVVVVVVXFP6qqqqqqqso/AAAAAAAA0D+qqqqqqqrSP1VVVVVVVdU/AAAAAAAA2D+qqqqqqqraP1VVVVVVVd0/AAAAAAAA4D9VVVVVVVXhP6qqqqqqquI/AAAAAAAA5D9VVVVVVVXlP6qqqqqqquY/AAAAAAAA6D9VVVVVVVXpP6qqqqqqquo/AAAAAAAA7D9VVVVVVVXtP6qqqqqqqu4/AAAAAAAA8D8=\"},\"shape\":[25],\"dtype\":\"float64\",\"order\":\"little\"}]]}}},\"view\":{\"type\":\"object\",\"name\":\"CDSView\",\"id\":\"p1698\",\"attributes\":{\"filter\":{\"type\":\"object\",\"name\":\"AllIndices\",\"id\":\"p1699\"}}},\"glyph\":{\"type\":\"object\",\"name\":\"Rect\",\"id\":\"p1694\",\"attributes\":{\"x\":{\"type\":\"field\",\"field\":\"x\"},\"y\":{\"type\":\"field\",\"field\":\"y\"},\"width\":{\"type\":\"value\",\"value\":0.9},\"height\":{\"type\":\"value\",\"value\":0.9},\"line_color\":{\"type\":\"field\",\"field\":\"colors\"},\"line_alpha\":{\"type\":\"field\",\"field\":\"alphas\"},\"fill_color\":{\"type\":\"field\",\"field\":\"colors\"},\"fill_alpha\":{\"type\":\"field\",\"field\":\"alphas\"},\"hatch_color\":{\"type\":\"field\",\"field\":\"colors\"},\"hatch_alpha\":{\"type\":\"field\",\"field\":\"alphas\"}}},\"nonselection_glyph\":{\"type\":\"object\",\"name\":\"Rect\",\"id\":\"p1695\",\"attributes\":{\"x\":{\"type\":\"field\",\"field\":\"x\"},\"y\":{\"type\":\"field\",\"field\":\"y\"},\"width\":{\"type\":\"value\",\"value\":0.9},\"height\":{\"type\":\"value\",\"value\":0.9},\"line_color\":{\"type\":\"field\",\"field\":\"colors\"},\"line_alpha\":{\"type\":\"value\",\"value\":0.1},\"fill_color\":{\"type\":\"field\",\"field\":\"colors\"},\"fill_alpha\":{\"type\":\"value\",\"value\":0.1},\"hatch_color\":{\"type\":\"field\",\"field\":\"colors\"},\"hatch_alpha\":{\"type\":\"value\",\"value\":0.1}}},\"muted_glyph\":{\"type\":\"object\",\"name\":\"Rect\",\"id\":\"p1696\",\"attributes\":{\"x\":{\"type\":\"field\",\"field\":\"x\"},\"y\":{\"type\":\"field\",\"field\":\"y\"},\"width\":{\"type\":\"value\",\"value\":0.9},\"height\":{\"type\":\"value\",\"value\":0.9},\"line_color\":{\"type\":\"field\",\"field\":\"colors\"},\"line_alpha\":{\"type\":\"value\",\"value\":0.2},\"fill_color\":{\"type\":\"field\",\"field\":\"colors\"},\"fill_alpha\":{\"type\":\"value\",\"value\":0.2},\"hatch_color\":{\"type\":\"field\",\"field\":\"colors\"},\"hatch_alpha\":{\"type\":\"value\",\"value\":0.2}}}}}],\"toolbar\":{\"type\":\"object\",\"name\":\"Toolbar\",\"id\":\"p1677\",\"attributes\":{\"tools\":[{\"type\":\"object\",\"name\":\"HoverTool\",\"id\":\"p1690\",\"attributes\":{\"renderers\":\"auto\",\"tooltips\":[[\"Value\",\"@x, @y\"]]}}]}},\"left\":[{\"type\":\"object\",\"name\":\"LinearAxis\",\"id\":\"p1685\",\"attributes\":{\"ticker\":{\"type\":\"object\",\"name\":\"BasicTicker\",\"id\":\"p1686\",\"attributes\":{\"mantissas\":[1,2,5]}},\"formatter\":{\"type\":\"object\",\"name\":\"BasicTickFormatter\",\"id\":\"p1687\"},\"major_label_policy\":{\"type\":\"object\",\"name\":\"AllLabels\",\"id\":\"p1688\"}}}],\"below\":[{\"type\":\"object\",\"name\":\"LinearAxis\",\"id\":\"p1680\",\"attributes\":{\"ticker\":{\"type\":\"object\",\"name\":\"BasicTicker\",\"id\":\"p1681\",\"attributes\":{\"mantissas\":[1,2,5]}},\"formatter\":{\"type\":\"object\",\"name\":\"BasicTickFormatter\",\"id\":\"p1682\"},\"major_label_policy\":{\"type\":\"object\",\"name\":\"AllLabels\",\"id\":\"p1683\"}}}],\"center\":[{\"type\":\"object\",\"name\":\"Grid\",\"id\":\"p1684\",\"attributes\":{\"axis\":{\"id\":\"p1680\"}}},{\"type\":\"object\",\"name\":\"Grid\",\"id\":\"p1689\",\"attributes\":{\"dimension\":1,\"axis\":{\"id\":\"p1685\"}}}]}}]}};\n",
       "  const render_items = [{\"docid\":\"9416641f-b4d4-4722-ba5a-fc7599307403\",\"roots\":{\"p1669\":\"a05b6a2c-f041-4dc3-8206-8d9760454991\"},\"root_ids\":[\"p1669\"]}];\n",
       "  void root.Bokeh.embed.embed_items_notebook(docs_json, render_items);\n",
       "  }\n",
       "  if (root.Bokeh !== undefined) {\n",
       "    embed_document(root);\n",
       "  } else {\n",
       "    let attempts = 0;\n",
       "    const timer = setInterval(function(root) {\n",
       "      if (root.Bokeh !== undefined) {\n",
       "        clearInterval(timer);\n",
       "        embed_document(root);\n",
       "      } else {\n",
       "        attempts++;\n",
       "        if (attempts > 100) {\n",
       "          clearInterval(timer);\n",
       "          console.log(\"Bokeh: ERROR: Unable to run BokehJS code because BokehJS library is missing\");\n",
       "        }\n",
       "      }\n",
       "    }, 10, root)\n",
       "  }\n",
       "})(window);"
      ],
      "application/vnd.bokehjs_exec.v0+json": ""
     },
     "metadata": {
      "application/vnd.bokehjs_exec.v0+json": {
       "id": "p1669"
      }
     },
     "output_type": "display_data"
    }
   ],
   "source": [
    "# Finally, let's determine the strength of transparency (alpha) for each point,\n",
    "# where 0 is completely transparent.\n",
    "\n",
    "import numpy as np\n",
    "from bokeh.plotting import figure, output_file, show, output_notebook\n",
    "\n",
    "alphas = np.linspace(0, 1, len(grid))\n",
    "\n",
    "# Bokeh likes each of these to be stored in a special dataframe, called\n",
    "# ColumnDataSource.  Let's store our coordinates, colors, and alpha values.\n",
    "\n",
    "source = ColumnDataSource(\n",
    "    data = {\n",
    "        \"x\": xs,\n",
    "        \"y\": ys,\n",
    "        \"colors\": colors,\n",
    "        \"alphas\": alphas,\n",
    "    }\n",
    ")\n",
    "\n",
    "#output_file(\"Basic_Example.html\", title=\"Basic Example\")\n",
    "output_notebook()  # For displaying in the notebook\n",
    "\n",
    "fig = figure(tools=\"hover\")\n",
    "fig.rect(\"x\", \"y\", 0.9, 0.9, source=source, color=\"colors\",alpha=\"alphas\")\n",
    "hover = fig.select(dict(type=HoverTool))\n",
    "hover.tooltips = {\"Value\": \"@x, @y\",}\n",
    "\n",
    "# Show the plot in the notebook\n",
    "show(fig)"
   ]
  },
  {
   "cell_type": "markdown",
   "id": "f8e16058",
   "metadata": {},
   "source": [
    "### Exercise 2\n",
    "\n",
    "In this exercise, we will create the names and colors we will use to plot the correlation matrix of whisky flavors. Later, we will also use these colors to plot each distillery geographically.\n",
    "\n",
    "#### Instructions \n",
    "- Create a dictionary `region_colors` with `regions` as keys and `cluster_colors` as values.\n",
    "- Print `region_colors`."
   ]
  },
  {
   "cell_type": "code",
   "execution_count": 40,
   "id": "9fe128f7",
   "metadata": {},
   "outputs": [
    {
     "data": {
      "text/plain": [
       "{'Speyside': '#0173b2',\n",
       " 'Highlands': '#de8f05',\n",
       " 'Lowlands': '#029e73',\n",
       " 'Islands': '#d55e00',\n",
       " 'Campbelltown': '#cc78bc',\n",
       " 'Islay': '#ca9161'}"
      ]
     },
     "execution_count": 40,
     "metadata": {},
     "output_type": "execute_result"
    }
   ],
   "source": [
    "cluster_colors = ['#0173b2', '#de8f05', '#029e73', '#d55e00', '#cc78bc', '#ca9161']\n",
    "regions = [\"Speyside\", \"Highlands\", \"Lowlands\", \"Islands\", \"Campbelltown\", \"Islay\"]\n",
    "\n",
    "region_colors = zip(regions,cluster_colors)\n",
    "region_colors = dict(region_colors)\n",
    "region_colors"
   ]
  },
  {
   "cell_type": "markdown",
   "id": "6695f9f0",
   "metadata": {},
   "source": [
    "### Exercise 3\n",
    "\n",
    "`correlations` is a two-dimensional `np.array` with both rows and columns corresponding to distilleries and elements corresponding to the flavor correlation of each row/column pair. In this exercise, we will define a list `correlation_colors`, with `string` values corresponding to colors to be used to plot each distillery pair. Low correlations among distillery pairs will be white, high correlations will be a distinct group color if the distilleries from the same group, and gray otherwise.\n",
    "\n",
    "#### Instructions\n",
    "\n",
    "- Edit the code to define `correlation_colors` for each distillery pair to have input `'white'` if their correlation is less than 0.7.\n",
    "- `whisky` is a `pandas` dataframe, and `Group` is a column consisting of distillery group memberships. For distillery pairs with correlation greater than 0.7, if they share the same whisky group, use the corresponding color from `cluster_colors`. Otherwise, the `correlation_colors` value for that distillery pair will be defined as `'lightgray'`."
   ]
  },
  {
   "cell_type": "code",
   "execution_count": 41,
   "id": "872a8828",
   "metadata": {},
   "outputs": [
    {
     "data": {
      "text/plain": [
       "array([[1.        , 0.44904168, 0.46216816, ..., 0.50475261, 0.34921515,\n",
       "        0.26722197],\n",
       "       [0.44904168, 1.        , 0.28977485, ..., 0.62335961, 0.74444508,\n",
       "        0.7000808 ],\n",
       "       [0.46216816, 0.28977485, 1.        , ..., 0.03309517, 0.07784989,\n",
       "        0.16547585],\n",
       "       ...,\n",
       "       [0.50475261, 0.62335961, 0.03309517, ..., 1.        , 0.76520727,\n",
       "        0.6626506 ],\n",
       "       [0.34921515, 0.74444508, 0.07784989, ..., 0.76520727, 1.        ,\n",
       "        0.76520727],\n",
       "       [0.26722197, 0.7000808 , 0.16547585, ..., 0.6626506 , 0.76520727,\n",
       "        1.        ]])"
      ]
     },
     "execution_count": 41,
     "metadata": {},
     "output_type": "execute_result"
    }
   ],
   "source": [
    "correlations # I just wanted to check what 'correlations' look like"
   ]
  },
  {
   "cell_type": "code",
   "execution_count": 42,
   "id": "a1c25f38",
   "metadata": {},
   "outputs": [],
   "source": [
    "distilleries = list(whisky.Distillery)\n",
    "correlation_colors = []\n",
    "for i in range(len(distilleries)):\n",
    "    for j in range(len(distilleries)):\n",
    "        if correlations[i][j] < 0.7:                   # if low correlation, # I edited this part\n",
    "            correlation_colors.append('white')         # just use white.\n",
    "        else:                                          # otherwise,\n",
    "            if whisky.Group[i] == whisky.Group[j]:                  # if the groups match,\n",
    "                correlation_colors.append(cluster_colors[whisky.Group[i]]) # color them by their mutual group. # I edited this part\n",
    "            else:                                      # otherwise\n",
    "                correlation_colors.append('lightgray') # color them lightgray.\n",
    "\n",
    "# correlation_colors"
   ]
  },
  {
   "cell_type": "markdown",
   "id": "5e8e6614",
   "metadata": {},
   "source": [
    "We set 'white' color to the correlations below 0.7 so that we can focus our attention to the correlations above 0.7"
   ]
  },
  {
   "cell_type": "markdown",
   "id": "2506ca05",
   "metadata": {},
   "source": [
    "### Exercise 4\n",
    "\n",
    "In this exercise, we will edit the given code to make an interactive grid of the correlations among distillery pairs based on the quantities found in previous exercises. Most plotting specifications are made by editing `ColumnDataSource`, a `bokeh` structure used for defining interactive plotting inputs. The rest of the plotting code is already complete.\n",
    "\n",
    "#### Instructions \n",
    "\n",
    "- `correlation_colors` is a list of `string` colors for each pair of distilleries. Set this as `color` in `ColumnDataSource`.\n",
    "- Define `correlations` in `source` using `correlations` from the previous exercise. To convert `correlations` from a `np.array` to a `list`, use the `flatten()` method. This correlation coefficient will be used to define both the color transparency as well as the hover text for each square."
   ]
  },
  {
   "cell_type": "code",
   "execution_count": 43,
   "id": "953c20c9",
   "metadata": {},
   "outputs": [
    {
     "data": {
      "text/plain": [
       "list"
      ]
     },
     "execution_count": 43,
     "metadata": {},
     "output_type": "execute_result"
    }
   ],
   "source": [
    "type(correlations)\n",
    "\n",
    "a = correlations.flatten().tolist()\n",
    "type(a)"
   ]
  },
  {
   "cell_type": "code",
   "execution_count": 44,
   "id": "d57d0300",
   "metadata": {},
   "outputs": [
    {
     "data": {
      "text/html": [
       "\n",
       "  <div id=\"c305deac-da3a-43da-aef8-a58f1a905691\" data-root-id=\"p1705\" style=\"display: contents;\"></div>\n"
      ]
     },
     "metadata": {},
     "output_type": "display_data"
    },
    {
     "data": {
      "application/javascript": [
       "(function(root) {\n",
       "  function embed_document(root) {\n",
       "  const docs_json = {\"d03b7c61-34a8-46a5-8c8e-54b21d7eede4\":{\"version\":\"3.6.1\",\"title\":\"Bokeh Application\",\"roots\":[{\"type\":\"object\",\"name\":\"Figure\",\"id\":\"p1705\",\"attributes\":{\"x_range\":{\"type\":\"object\",\"name\":\"FactorRange\",\"id\":\"p1715\",\"attributes\":{\"factors\":[\"Aberfeldy\",\"Scapa\",\"GlenGrant\",\"Edradour\",\"Glengoyne\",\"BlairAthol\",\"Knochando\",\"Benromach\",\"Benrinnes\",\"Mannochmore\",\"Miltonduff\",\"BenNevis\",\"OldFettercairn\",\"Aultmore\",\"Longmorn\",\"Speyside\",\"Ardmore\",\"Strathisla\",\"Tamdhu\",\"Caol Ila\",\"Lagavulin\",\"Ardbeg\",\"Talisker\",\"Clynelish\",\"Laphroig\",\"Glenlossie\",\"Craigallechie\",\"Craigganmore\",\"Dalwhinnie\",\"Tobermory\",\"Glenallachie\",\"Dufftown\",\"AnCnoc\",\"Glenmorangie\",\"GlenMoray\",\"Cardhu\",\"Auchentoshan\",\"Bunnahabhain\",\"Tamnavulin\",\"Loch Lomond\",\"Strathmill\",\"Balblair\",\"Dailuaine\",\"Dalmore\",\"GlenKeith\",\"Deanston\",\"Balmenach\",\"Aberlour\",\"Auchroisk\",\"Glendronach\",\"Macallan\",\"Highland Park\",\"Tomatin\",\"Tormore\",\"Glendullan\",\"Glenfarclas\",\"Springbank\",\"RoyalLochnagar\",\"Mortlach\",\"Glenrothes\",\"Glenturret\",\"Oban\",\"OldPulteney\",\"Bruichladdich\",\"Isle of Jura\",\"GlenScotia\",\"ArranIsleOf\",\"Teaninich\",\"RoyalBrackla\",\"Tomintoul\",\"Belvenie\",\"Speyburn\",\"GlenOrd\",\"Benriach\",\"Linkwood\",\"Bladnoch\",\"GlenGarioch\",\"Bowmore\",\"Inchgower\",\"Glenlivet\",\"Glenkinchie\",\"Glenfiddich\",\"GlenSpey\",\"GlenDeveronMacduff\",\"GlenElgin\",\"Tullibardine\"]}},\"y_range\":{\"type\":\"object\",\"name\":\"FactorRange\",\"id\":\"p1716\",\"attributes\":{\"factors\":[\"Tullibardine\",\"GlenElgin\",\"GlenDeveronMacduff\",\"GlenSpey\",\"Glenfiddich\",\"Glenkinchie\",\"Glenlivet\",\"Inchgower\",\"Bowmore\",\"GlenGarioch\",\"Bladnoch\",\"Linkwood\",\"Benriach\",\"GlenOrd\",\"Speyburn\",\"Belvenie\",\"Tomintoul\",\"RoyalBrackla\",\"Teaninich\",\"ArranIsleOf\",\"GlenScotia\",\"Isle of Jura\",\"Bruichladdich\",\"OldPulteney\",\"Oban\",\"Glenturret\",\"Glenrothes\",\"Mortlach\",\"RoyalLochnagar\",\"Springbank\",\"Glenfarclas\",\"Glendullan\",\"Tormore\",\"Tomatin\",\"Highland Park\",\"Macallan\",\"Glendronach\",\"Auchroisk\",\"Aberlour\",\"Balmenach\",\"Deanston\",\"GlenKeith\",\"Dalmore\",\"Dailuaine\",\"Balblair\",\"Strathmill\",\"Loch Lomond\",\"Tamnavulin\",\"Bunnahabhain\",\"Auchentoshan\",\"Cardhu\",\"GlenMoray\",\"Glenmorangie\",\"AnCnoc\",\"Dufftown\",\"Glenallachie\",\"Tobermory\",\"Dalwhinnie\",\"Craigganmore\",\"Craigallechie\",\"Glenlossie\",\"Laphroig\",\"Clynelish\",\"Talisker\",\"Ardbeg\",\"Lagavulin\",\"Caol Ila\",\"Tamdhu\",\"Strathisla\",\"Ardmore\",\"Speyside\",\"Longmorn\",\"Aultmore\",\"OldFettercairn\",\"BenNevis\",\"Miltonduff\",\"Mannochmore\",\"Benrinnes\",\"Benromach\",\"Knochando\",\"BlairAthol\",\"Glengoyne\",\"Edradour\",\"GlenGrant\",\"Scapa\",\"Aberfeldy\"]}},\"x_scale\":{\"type\":\"object\",\"name\":\"CategoricalScale\",\"id\":\"p1717\"},\"y_scale\":{\"type\":\"object\",\"name\":\"CategoricalScale\",\"id\":\"p1718\"},\"title\":{\"type\":\"object\",\"name\":\"Title\",\"id\":\"p1708\",\"attributes\":{\"text\":\"Whisky Correlations\"}},\"renderers\":[{\"type\":\"object\",\"name\":\"GlyphRenderer\",\"id\":\"p1745\",\"attributes\":{\"data_source\":{\"type\":\"object\",\"name\":\"ColumnDataSource\",\"id\":\"p1702\",\"attributes\":{\"selected\":{\"type\":\"object\",\"name\":\"Selection\",\"id\":\"p1703\",\"attributes\":{\"indices\":[],\"line_indices\":[]}},\"selection_policy\":{\"type\":\"object\",\"name\":\"UnionRenderers\",\"id\":\"p1704\"},\"data\":{\"type\":\"map\",\"entries\":[[\"x\",{\"type\":\"ndarray\",\"array\":[\"Tullibardine\",\"Tullibardine\",\"Tullibardine\",\"Tullibardine\",\"Tullibardine\",\"Tullibardine\",\"Tullibardine\",\"Tullibardine\",\"Tullibardine\",\"Tullibardine\",\"Tullibardine\",\"Tullibardine\",\"Tullibardine\",\"Tullibardine\",\"Tullibardine\",\"Tullibardine\",\"Tullibardine\",\"Tullibardine\",\"Tullibardine\",\"Tullibardine\",\"Tullibardine\",\"Tullibardine\",\"Tullibardine\",\"Tullibardine\",\"Tullibardine\",\"Tullibardine\",\"Tullibardine\",\"Tullibardine\",\"Tullibardine\",\"Tullibardine\",\"Tullibardine\",\"Tullibardine\",\"Tullibardine\",\"Tullibardine\",\"Tullibardine\",\"Tullibardine\",\"Tullibardine\",\"Tullibardine\",\"Tullibardine\",\"Tullibardine\",\"Tullibardine\",\"Tullibardine\",\"Tullibardine\",\"Tullibardine\",\"Tullibardine\",\"Tullibardine\",\"Tullibardine\",\"Tullibardine\",\"Tullibardine\",\"Tullibardine\",\"Tullibardine\",\"Tullibardine\",\"Tullibardine\",\"Tullibardine\",\"Tullibardine\",\"Tullibardine\",\"Tullibardine\",\"Tullibardine\",\"Tullibardine\",\"Tullibardine\",\"Tullibardine\",\"Tullibardine\",\"Tullibardine\",\"Tullibardine\",\"Tullibardine\",\"Tullibardine\",\"Tullibardine\",\"Tullibardine\",\"Tullibardine\",\"Tullibardine\",\"Tullibardine\",\"Tullibardine\",\"Tullibardine\",\"Tullibardine\",\"Tullibardine\",\"Tullibardine\",\"Tullibardine\",\"Tullibardine\",\"Tullibardine\",\"Tullibardine\",\"Tullibardine\",\"Tullibardine\",\"Tullibardine\",\"Tullibardine\",\"Tullibardine\",\"Tullibardine\",\"GlenElgin\",\"GlenElgin\",\"GlenElgin\",\"GlenElgin\",\"GlenElgin\",\"GlenElgin\",\"GlenElgin\",\"GlenElgin\",\"GlenElgin\",\"GlenElgin\",\"GlenElgin\",\"GlenElgin\",\"GlenElgin\",\"GlenElgin\",\"GlenElgin\",\"GlenElgin\",\"GlenElgin\",\"GlenElgin\",\"GlenElgin\",\"GlenElgin\",\"GlenElgin\",\"GlenElgin\",\"GlenElgin\",\"GlenElgin\",\"GlenElgin\",\"GlenElgin\",\"GlenElgin\",\"GlenElgin\",\"GlenElgin\",\"GlenElgin\",\"GlenElgin\",\"GlenElgin\",\"GlenElgin\",\"GlenElgin\",\"GlenElgin\",\"GlenElgin\",\"GlenElgin\",\"GlenElgin\",\"GlenElgin\",\"GlenElgin\",\"GlenElgin\",\"GlenElgin\",\"GlenElgin\",\"GlenElgin\",\"GlenElgin\",\"GlenElgin\",\"GlenElgin\",\"GlenElgin\",\"GlenElgin\",\"GlenElgin\",\"GlenElgin\",\"GlenElgin\",\"GlenElgin\",\"GlenElgin\",\"GlenElgin\",\"GlenElgin\",\"GlenElgin\",\"GlenElgin\",\"GlenElgin\",\"GlenElgin\",\"GlenElgin\",\"GlenElgin\",\"GlenElgin\",\"GlenElgin\",\"GlenElgin\",\"GlenElgin\",\"GlenElgin\",\"GlenElgin\",\"GlenElgin\",\"GlenElgin\",\"GlenElgin\",\"GlenElgin\",\"GlenElgin\",\"GlenElgin\",\"GlenElgin\",\"GlenElgin\",\"GlenElgin\",\"GlenElgin\",\"GlenElgin\",\"GlenElgin\",\"GlenElgin\",\"GlenElgin\",\"GlenElgin\",\"GlenElgin\",\"GlenElgin\",\"GlenElgin\",\"GlenDeveronMacduff\",\"GlenDeveronMacduff\",\"GlenDeveronMacduff\",\"GlenDeveronMacduff\",\"GlenDeveronMacduff\",\"GlenDeveronMacduff\",\"GlenDeveronMacduff\",\"GlenDeveronMacduff\",\"GlenDeveronMacduff\",\"GlenDeveronMacduff\",\"GlenDeveronMacduff\",\"GlenDeveronMacduff\",\"GlenDeveronMacduff\",\"GlenDeveronMacduff\",\"GlenDeveronMacduff\",\"GlenDeveronMacduff\",\"GlenDeveronMacduff\",\"GlenDeveronMacduff\",\"GlenDeveronMacduff\",\"GlenDeveronMacduff\",\"GlenDeveronMacduff\",\"GlenDeveronMacduff\",\"GlenDeveronMacduff\",\"GlenDeveronMacduff\",\"GlenDeveronMacduff\",\"GlenDeveronMacduff\",\"GlenDeveronMacduff\",\"GlenDeveronMacduff\",\"GlenDeveronMacduff\",\"GlenDeveronMacduff\",\"GlenDeveronMacduff\",\"GlenDeveronMacduff\",\"GlenDeveronMacduff\",\"GlenDeveronMacduff\",\"GlenDeveronMacduff\",\"GlenDeveronMacduff\",\"GlenDeveronMacduff\",\"GlenDeveronMacduff\",\"GlenDeveronMacduff\",\"GlenDeveronMacduff\",\"GlenDeveronMacduff\",\"GlenDeveronMacduff\",\"GlenDeveronMacduff\",\"GlenDeveronMacduff\",\"GlenDeveronMacduff\",\"GlenDeveronMacduff\",\"GlenDeveronMacduff\",\"GlenDeveronMacduff\",\"GlenDeveronMacduff\",\"GlenDeveronMacduff\",\"GlenDeveronMacduff\",\"GlenDeveronMacduff\",\"GlenDeveronMacduff\",\"GlenDeveronMacduff\",\"GlenDeveronMacduff\",\"GlenDeveronMacduff\",\"GlenDeveronMacduff\",\"GlenDeveronMacduff\",\"GlenDeveronMacduff\",\"GlenDeveronMacduff\",\"GlenDeveronMacduff\",\"GlenDeveronMacduff\",\"GlenDeveronMacduff\",\"GlenDeveronMacduff\",\"GlenDeveronMacduff\",\"GlenDeveronMacduff\",\"GlenDeveronMacduff\",\"GlenDeveronMacduff\",\"GlenDeveronMacduff\",\"GlenDeveronMacduff\",\"GlenDeveronMacduff\",\"GlenDeveronMacduff\",\"GlenDeveronMacduff\",\"GlenDeveronMacduff\",\"GlenDeveronMacduff\",\"GlenDeveronMacduff\",\"GlenDeveronMacduff\",\"GlenDeveronMacduff\",\"GlenDeveronMacduff\",\"GlenDeveronMacduff\",\"GlenDeveronMacduff\",\"GlenDeveronMacduff\",\"GlenDeveronMacduff\",\"GlenDeveronMacduff\",\"GlenDeveronMacduff\",\"GlenDeveronMacduff\",\"GlenSpey\",\"GlenSpey\",\"GlenSpey\",\"GlenSpey\",\"GlenSpey\",\"GlenSpey\",\"GlenSpey\",\"GlenSpey\",\"GlenSpey\",\"GlenSpey\",\"GlenSpey\",\"GlenSpey\",\"GlenSpey\",\"GlenSpey\",\"GlenSpey\",\"GlenSpey\",\"GlenSpey\",\"GlenSpey\",\"GlenSpey\",\"GlenSpey\",\"GlenSpey\",\"GlenSpey\",\"GlenSpey\",\"GlenSpey\",\"GlenSpey\",\"GlenSpey\",\"GlenSpey\",\"GlenSpey\",\"GlenSpey\",\"GlenSpey\",\"GlenSpey\",\"GlenSpey\",\"GlenSpey\",\"GlenSpey\",\"GlenSpey\",\"GlenSpey\",\"GlenSpey\",\"GlenSpey\",\"GlenSpey\",\"GlenSpey\",\"GlenSpey\",\"GlenSpey\",\"GlenSpey\",\"GlenSpey\",\"GlenSpey\",\"GlenSpey\",\"GlenSpey\",\"GlenSpey\",\"GlenSpey\",\"GlenSpey\",\"GlenSpey\",\"GlenSpey\",\"GlenSpey\",\"GlenSpey\",\"GlenSpey\",\"GlenSpey\",\"GlenSpey\",\"GlenSpey\",\"GlenSpey\",\"GlenSpey\",\"GlenSpey\",\"GlenSpey\",\"GlenSpey\",\"GlenSpey\",\"GlenSpey\",\"GlenSpey\",\"GlenSpey\",\"GlenSpey\",\"GlenSpey\",\"GlenSpey\",\"GlenSpey\",\"GlenSpey\",\"GlenSpey\",\"GlenSpey\",\"GlenSpey\",\"GlenSpey\",\"GlenSpey\",\"GlenSpey\",\"GlenSpey\",\"GlenSpey\",\"GlenSpey\",\"GlenSpey\",\"GlenSpey\",\"GlenSpey\",\"GlenSpey\",\"GlenSpey\",\"Glenfiddich\",\"Glenfiddich\",\"Glenfiddich\",\"Glenfiddich\",\"Glenfiddich\",\"Glenfiddich\",\"Glenfiddich\",\"Glenfiddich\",\"Glenfiddich\",\"Glenfiddich\",\"Glenfiddich\",\"Glenfiddich\",\"Glenfiddich\",\"Glenfiddich\",\"Glenfiddich\",\"Glenfiddich\",\"Glenfiddich\",\"Glenfiddich\",\"Glenfiddich\",\"Glenfiddich\",\"Glenfiddich\",\"Glenfiddich\",\"Glenfiddich\",\"Glenfiddich\",\"Glenfiddich\",\"Glenfiddich\",\"Glenfiddich\",\"Glenfiddich\",\"Glenfiddich\",\"Glenfiddich\",\"Glenfiddich\",\"Glenfiddich\",\"Glenfiddich\",\"Glenfiddich\",\"Glenfiddich\",\"Glenfiddich\",\"Glenfiddich\",\"Glenfiddich\",\"Glenfiddich\",\"Glenfiddich\",\"Glenfiddich\",\"Glenfiddich\",\"Glenfiddich\",\"Glenfiddich\",\"Glenfiddich\",\"Glenfiddich\",\"Glenfiddich\",\"Glenfiddich\",\"Glenfiddich\",\"Glenfiddich\",\"Glenfiddich\",\"Glenfiddich\",\"Glenfiddich\",\"Glenfiddich\",\"Glenfiddich\",\"Glenfiddich\",\"Glenfiddich\",\"Glenfiddich\",\"Glenfiddich\",\"Glenfiddich\",\"Glenfiddich\",\"Glenfiddich\",\"Glenfiddich\",\"Glenfiddich\",\"Glenfiddich\",\"Glenfiddich\",\"Glenfiddich\",\"Glenfiddich\",\"Glenfiddich\",\"Glenfiddich\",\"Glenfiddich\",\"Glenfiddich\",\"Glenfiddich\",\"Glenfiddich\",\"Glenfiddich\",\"Glenfiddich\",\"Glenfiddich\",\"Glenfiddich\",\"Glenfiddich\",\"Glenfiddich\",\"Glenfiddich\",\"Glenfiddich\",\"Glenfiddich\",\"Glenfiddich\",\"Glenfiddich\",\"Glenfiddich\",\"Glenkinchie\",\"Glenkinchie\",\"Glenkinchie\",\"Glenkinchie\",\"Glenkinchie\",\"Glenkinchie\",\"Glenkinchie\",\"Glenkinchie\",\"Glenkinchie\",\"Glenkinchie\",\"Glenkinchie\",\"Glenkinchie\",\"Glenkinchie\",\"Glenkinchie\",\"Glenkinchie\",\"Glenkinchie\",\"Glenkinchie\",\"Glenkinchie\",\"Glenkinchie\",\"Glenkinchie\",\"Glenkinchie\",\"Glenkinchie\",\"Glenkinchie\",\"Glenkinchie\",\"Glenkinchie\",\"Glenkinchie\",\"Glenkinchie\",\"Glenkinchie\",\"Glenkinchie\",\"Glenkinchie\",\"Glenkinchie\",\"Glenkinchie\",\"Glenkinchie\",\"Glenkinchie\",\"Glenkinchie\",\"Glenkinchie\",\"Glenkinchie\",\"Glenkinchie\",\"Glenkinchie\",\"Glenkinchie\",\"Glenkinchie\",\"Glenkinchie\",\"Glenkinchie\",\"Glenkinchie\",\"Glenkinchie\",\"Glenkinchie\",\"Glenkinchie\",\"Glenkinchie\",\"Glenkinchie\",\"Glenkinchie\",\"Glenkinchie\",\"Glenkinchie\",\"Glenkinchie\",\"Glenkinchie\",\"Glenkinchie\",\"Glenkinchie\",\"Glenkinchie\",\"Glenkinchie\",\"Glenkinchie\",\"Glenkinchie\",\"Glenkinchie\",\"Glenkinchie\",\"Glenkinchie\",\"Glenkinchie\",\"Glenkinchie\",\"Glenkinchie\",\"Glenkinchie\",\"Glenkinchie\",\"Glenkinchie\",\"Glenkinchie\",\"Glenkinchie\",\"Glenkinchie\",\"Glenkinchie\",\"Glenkinchie\",\"Glenkinchie\",\"Glenkinchie\",\"Glenkinchie\",\"Glenkinchie\",\"Glenkinchie\",\"Glenkinchie\",\"Glenkinchie\",\"Glenkinchie\",\"Glenkinchie\",\"Glenkinchie\",\"Glenkinchie\",\"Glenkinchie\",\"Glenlivet\",\"Glenlivet\",\"Glenlivet\",\"Glenlivet\",\"Glenlivet\",\"Glenlivet\",\"Glenlivet\",\"Glenlivet\",\"Glenlivet\",\"Glenlivet\",\"Glenlivet\",\"Glenlivet\",\"Glenlivet\",\"Glenlivet\",\"Glenlivet\",\"Glenlivet\",\"Glenlivet\",\"Glenlivet\",\"Glenlivet\",\"Glenlivet\",\"Glenlivet\",\"Glenlivet\",\"Glenlivet\",\"Glenlivet\",\"Glenlivet\",\"Glenlivet\",\"Glenlivet\",\"Glenlivet\",\"Glenlivet\",\"Glenlivet\",\"Glenlivet\",\"Glenlivet\",\"Glenlivet\",\"Glenlivet\",\"Glenlivet\",\"Glenlivet\",\"Glenlivet\",\"Glenlivet\",\"Glenlivet\",\"Glenlivet\",\"Glenlivet\",\"Glenlivet\",\"Glenlivet\",\"Glenlivet\",\"Glenlivet\",\"Glenlivet\",\"Glenlivet\",\"Glenlivet\",\"Glenlivet\",\"Glenlivet\",\"Glenlivet\",\"Glenlivet\",\"Glenlivet\",\"Glenlivet\",\"Glenlivet\",\"Glenlivet\",\"Glenlivet\",\"Glenlivet\",\"Glenlivet\",\"Glenlivet\",\"Glenlivet\",\"Glenlivet\",\"Glenlivet\",\"Glenlivet\",\"Glenlivet\",\"Glenlivet\",\"Glenlivet\",\"Glenlivet\",\"Glenlivet\",\"Glenlivet\",\"Glenlivet\",\"Glenlivet\",\"Glenlivet\",\"Glenlivet\",\"Glenlivet\",\"Glenlivet\",\"Glenlivet\",\"Glenlivet\",\"Glenlivet\",\"Glenlivet\",\"Glenlivet\",\"Glenlivet\",\"Glenlivet\",\"Glenlivet\",\"Glenlivet\",\"Glenlivet\",\"Inchgower\",\"Inchgower\",\"Inchgower\",\"Inchgower\",\"Inchgower\",\"Inchgower\",\"Inchgower\",\"Inchgower\",\"Inchgower\",\"Inchgower\",\"Inchgower\",\"Inchgower\",\"Inchgower\",\"Inchgower\",\"Inchgower\",\"Inchgower\",\"Inchgower\",\"Inchgower\",\"Inchgower\",\"Inchgower\",\"Inchgower\",\"Inchgower\",\"Inchgower\",\"Inchgower\",\"Inchgower\",\"Inchgower\",\"Inchgower\",\"Inchgower\",\"Inchgower\",\"Inchgower\",\"Inchgower\",\"Inchgower\",\"Inchgower\",\"Inchgower\",\"Inchgower\",\"Inchgower\",\"Inchgower\",\"Inchgower\",\"Inchgower\",\"Inchgower\",\"Inchgower\",\"Inchgower\",\"Inchgower\",\"Inchgower\",\"Inchgower\",\"Inchgower\",\"Inchgower\",\"Inchgower\",\"Inchgower\",\"Inchgower\",\"Inchgower\",\"Inchgower\",\"Inchgower\",\"Inchgower\",\"Inchgower\",\"Inchgower\",\"Inchgower\",\"Inchgower\",\"Inchgower\",\"Inchgower\",\"Inchgower\",\"Inchgower\",\"Inchgower\",\"Inchgower\",\"Inchgower\",\"Inchgower\",\"Inchgower\",\"Inchgower\",\"Inchgower\",\"Inchgower\",\"Inchgower\",\"Inchgower\",\"Inchgower\",\"Inchgower\",\"Inchgower\",\"Inchgower\",\"Inchgower\",\"Inchgower\",\"Inchgower\",\"Inchgower\",\"Inchgower\",\"Inchgower\",\"Inchgower\",\"Inchgower\",\"Inchgower\",\"Inchgower\",\"Bowmore\",\"Bowmore\",\"Bowmore\",\"Bowmore\",\"Bowmore\",\"Bowmore\",\"Bowmore\",\"Bowmore\",\"Bowmore\",\"Bowmore\",\"Bowmore\",\"Bowmore\",\"Bowmore\",\"Bowmore\",\"Bowmore\",\"Bowmore\",\"Bowmore\",\"Bowmore\",\"Bowmore\",\"Bowmore\",\"Bowmore\",\"Bowmore\",\"Bowmore\",\"Bowmore\",\"Bowmore\",\"Bowmore\",\"Bowmore\",\"Bowmore\",\"Bowmore\",\"Bowmore\",\"Bowmore\",\"Bowmore\",\"Bowmore\",\"Bowmore\",\"Bowmore\",\"Bowmore\",\"Bowmore\",\"Bowmore\",\"Bowmore\",\"Bowmore\",\"Bowmore\",\"Bowmore\",\"Bowmore\",\"Bowmore\",\"Bowmore\",\"Bowmore\",\"Bowmore\",\"Bowmore\",\"Bowmore\",\"Bowmore\",\"Bowmore\",\"Bowmore\",\"Bowmore\",\"Bowmore\",\"Bowmore\",\"Bowmore\",\"Bowmore\",\"Bowmore\",\"Bowmore\",\"Bowmore\",\"Bowmore\",\"Bowmore\",\"Bowmore\",\"Bowmore\",\"Bowmore\",\"Bowmore\",\"Bowmore\",\"Bowmore\",\"Bowmore\",\"Bowmore\",\"Bowmore\",\"Bowmore\",\"Bowmore\",\"Bowmore\",\"Bowmore\",\"Bowmore\",\"Bowmore\",\"Bowmore\",\"Bowmore\",\"Bowmore\",\"Bowmore\",\"Bowmore\",\"Bowmore\",\"Bowmore\",\"Bowmore\",\"Bowmore\",\"GlenGarioch\",\"GlenGarioch\",\"GlenGarioch\",\"GlenGarioch\",\"GlenGarioch\",\"GlenGarioch\",\"GlenGarioch\",\"GlenGarioch\",\"GlenGarioch\",\"GlenGarioch\",\"GlenGarioch\",\"GlenGarioch\",\"GlenGarioch\",\"GlenGarioch\",\"GlenGarioch\",\"GlenGarioch\",\"GlenGarioch\",\"GlenGarioch\",\"GlenGarioch\",\"GlenGarioch\",\"GlenGarioch\",\"GlenGarioch\",\"GlenGarioch\",\"GlenGarioch\",\"GlenGarioch\",\"GlenGarioch\",\"GlenGarioch\",\"GlenGarioch\",\"GlenGarioch\",\"GlenGarioch\",\"GlenGarioch\",\"GlenGarioch\",\"GlenGarioch\",\"GlenGarioch\",\"GlenGarioch\",\"GlenGarioch\",\"GlenGarioch\",\"GlenGarioch\",\"GlenGarioch\",\"GlenGarioch\",\"GlenGarioch\",\"GlenGarioch\",\"GlenGarioch\",\"GlenGarioch\",\"GlenGarioch\",\"GlenGarioch\",\"GlenGarioch\",\"GlenGarioch\",\"GlenGarioch\",\"GlenGarioch\",\"GlenGarioch\",\"GlenGarioch\",\"GlenGarioch\",\"GlenGarioch\",\"GlenGarioch\",\"GlenGarioch\",\"GlenGarioch\",\"GlenGarioch\",\"GlenGarioch\",\"GlenGarioch\",\"GlenGarioch\",\"GlenGarioch\",\"GlenGarioch\",\"GlenGarioch\",\"GlenGarioch\",\"GlenGarioch\",\"GlenGarioch\",\"GlenGarioch\",\"GlenGarioch\",\"GlenGarioch\",\"GlenGarioch\",\"GlenGarioch\",\"GlenGarioch\",\"GlenGarioch\",\"GlenGarioch\",\"GlenGarioch\",\"GlenGarioch\",\"GlenGarioch\",\"GlenGarioch\",\"GlenGarioch\",\"GlenGarioch\",\"GlenGarioch\",\"GlenGarioch\",\"GlenGarioch\",\"GlenGarioch\",\"GlenGarioch\",\"Bladnoch\",\"Bladnoch\",\"Bladnoch\",\"Bladnoch\",\"Bladnoch\",\"Bladnoch\",\"Bladnoch\",\"Bladnoch\",\"Bladnoch\",\"Bladnoch\",\"Bladnoch\",\"Bladnoch\",\"Bladnoch\",\"Bladnoch\",\"Bladnoch\",\"Bladnoch\",\"Bladnoch\",\"Bladnoch\",\"Bladnoch\",\"Bladnoch\",\"Bladnoch\",\"Bladnoch\",\"Bladnoch\",\"Bladnoch\",\"Bladnoch\",\"Bladnoch\",\"Bladnoch\",\"Bladnoch\",\"Bladnoch\",\"Bladnoch\",\"Bladnoch\",\"Bladnoch\",\"Bladnoch\",\"Bladnoch\",\"Bladnoch\",\"Bladnoch\",\"Bladnoch\",\"Bladnoch\",\"Bladnoch\",\"Bladnoch\",\"Bladnoch\",\"Bladnoch\",\"Bladnoch\",\"Bladnoch\",\"Bladnoch\",\"Bladnoch\",\"Bladnoch\",\"Bladnoch\",\"Bladnoch\",\"Bladnoch\",\"Bladnoch\",\"Bladnoch\",\"Bladnoch\",\"Bladnoch\",\"Bladnoch\",\"Bladnoch\",\"Bladnoch\",\"Bladnoch\",\"Bladnoch\",\"Bladnoch\",\"Bladnoch\",\"Bladnoch\",\"Bladnoch\",\"Bladnoch\",\"Bladnoch\",\"Bladnoch\",\"Bladnoch\",\"Bladnoch\",\"Bladnoch\",\"Bladnoch\",\"Bladnoch\",\"Bladnoch\",\"Bladnoch\",\"Bladnoch\",\"Bladnoch\",\"Bladnoch\",\"Bladnoch\",\"Bladnoch\",\"Bladnoch\",\"Bladnoch\",\"Bladnoch\",\"Bladnoch\",\"Bladnoch\",\"Bladnoch\",\"Bladnoch\",\"Bladnoch\",\"Linkwood\",\"Linkwood\",\"Linkwood\",\"Linkwood\",\"Linkwood\",\"Linkwood\",\"Linkwood\",\"Linkwood\",\"Linkwood\",\"Linkwood\",\"Linkwood\",\"Linkwood\",\"Linkwood\",\"Linkwood\",\"Linkwood\",\"Linkwood\",\"Linkwood\",\"Linkwood\",\"Linkwood\",\"Linkwood\",\"Linkwood\",\"Linkwood\",\"Linkwood\",\"Linkwood\",\"Linkwood\",\"Linkwood\",\"Linkwood\",\"Linkwood\",\"Linkwood\",\"Linkwood\",\"Linkwood\",\"Linkwood\",\"Linkwood\",\"Linkwood\",\"Linkwood\",\"Linkwood\",\"Linkwood\",\"Linkwood\",\"Linkwood\",\"Linkwood\",\"Linkwood\",\"Linkwood\",\"Linkwood\",\"Linkwood\",\"Linkwood\",\"Linkwood\",\"Linkwood\",\"Linkwood\",\"Linkwood\",\"Linkwood\",\"Linkwood\",\"Linkwood\",\"Linkwood\",\"Linkwood\",\"Linkwood\",\"Linkwood\",\"Linkwood\",\"Linkwood\",\"Linkwood\",\"Linkwood\",\"Linkwood\",\"Linkwood\",\"Linkwood\",\"Linkwood\",\"Linkwood\",\"Linkwood\",\"Linkwood\",\"Linkwood\",\"Linkwood\",\"Linkwood\",\"Linkwood\",\"Linkwood\",\"Linkwood\",\"Linkwood\",\"Linkwood\",\"Linkwood\",\"Linkwood\",\"Linkwood\",\"Linkwood\",\"Linkwood\",\"Linkwood\",\"Linkwood\",\"Linkwood\",\"Linkwood\",\"Linkwood\",\"Linkwood\",\"Benriach\",\"Benriach\",\"Benriach\",\"Benriach\",\"Benriach\",\"Benriach\",\"Benriach\",\"Benriach\",\"Benriach\",\"Benriach\",\"Benriach\",\"Benriach\",\"Benriach\",\"Benriach\",\"Benriach\",\"Benriach\",\"Benriach\",\"Benriach\",\"Benriach\",\"Benriach\",\"Benriach\",\"Benriach\",\"Benriach\",\"Benriach\",\"Benriach\",\"Benriach\",\"Benriach\",\"Benriach\",\"Benriach\",\"Benriach\",\"Benriach\",\"Benriach\",\"Benriach\",\"Benriach\",\"Benriach\",\"Benriach\",\"Benriach\",\"Benriach\",\"Benriach\",\"Benriach\",\"Benriach\",\"Benriach\",\"Benriach\",\"Benriach\",\"Benriach\",\"Benriach\",\"Benriach\",\"Benriach\",\"Benriach\",\"Benriach\",\"Benriach\",\"Benriach\",\"Benriach\",\"Benriach\",\"Benriach\",\"Benriach\",\"Benriach\",\"Benriach\",\"Benriach\",\"Benriach\",\"Benriach\",\"Benriach\",\"Benriach\",\"Benriach\",\"Benriach\",\"Benriach\",\"Benriach\",\"Benriach\",\"Benriach\",\"Benriach\",\"Benriach\",\"Benriach\",\"Benriach\",\"Benriach\",\"Benriach\",\"Benriach\",\"Benriach\",\"Benriach\",\"Benriach\",\"Benriach\",\"Benriach\",\"Benriach\",\"Benriach\",\"Benriach\",\"Benriach\",\"Benriach\",\"GlenOrd\",\"GlenOrd\",\"GlenOrd\",\"GlenOrd\",\"GlenOrd\",\"GlenOrd\",\"GlenOrd\",\"GlenOrd\",\"GlenOrd\",\"GlenOrd\",\"GlenOrd\",\"GlenOrd\",\"GlenOrd\",\"GlenOrd\",\"GlenOrd\",\"GlenOrd\",\"GlenOrd\",\"GlenOrd\",\"GlenOrd\",\"GlenOrd\",\"GlenOrd\",\"GlenOrd\",\"GlenOrd\",\"GlenOrd\",\"GlenOrd\",\"GlenOrd\",\"GlenOrd\",\"GlenOrd\",\"GlenOrd\",\"GlenOrd\",\"GlenOrd\",\"GlenOrd\",\"GlenOrd\",\"GlenOrd\",\"GlenOrd\",\"GlenOrd\",\"GlenOrd\",\"GlenOrd\",\"GlenOrd\",\"GlenOrd\",\"GlenOrd\",\"GlenOrd\",\"GlenOrd\",\"GlenOrd\",\"GlenOrd\",\"GlenOrd\",\"GlenOrd\",\"GlenOrd\",\"GlenOrd\",\"GlenOrd\",\"GlenOrd\",\"GlenOrd\",\"GlenOrd\",\"GlenOrd\",\"GlenOrd\",\"GlenOrd\",\"GlenOrd\",\"GlenOrd\",\"GlenOrd\",\"GlenOrd\",\"GlenOrd\",\"GlenOrd\",\"GlenOrd\",\"GlenOrd\",\"GlenOrd\",\"GlenOrd\",\"GlenOrd\",\"GlenOrd\",\"GlenOrd\",\"GlenOrd\",\"GlenOrd\",\"GlenOrd\",\"GlenOrd\",\"GlenOrd\",\"GlenOrd\",\"GlenOrd\",\"GlenOrd\",\"GlenOrd\",\"GlenOrd\",\"GlenOrd\",\"GlenOrd\",\"GlenOrd\",\"GlenOrd\",\"GlenOrd\",\"GlenOrd\",\"GlenOrd\",\"Speyburn\",\"Speyburn\",\"Speyburn\",\"Speyburn\",\"Speyburn\",\"Speyburn\",\"Speyburn\",\"Speyburn\",\"Speyburn\",\"Speyburn\",\"Speyburn\",\"Speyburn\",\"Speyburn\",\"Speyburn\",\"Speyburn\",\"Speyburn\",\"Speyburn\",\"Speyburn\",\"Speyburn\",\"Speyburn\",\"Speyburn\",\"Speyburn\",\"Speyburn\",\"Speyburn\",\"Speyburn\",\"Speyburn\",\"Speyburn\",\"Speyburn\",\"Speyburn\",\"Speyburn\",\"Speyburn\",\"Speyburn\",\"Speyburn\",\"Speyburn\",\"Speyburn\",\"Speyburn\",\"Speyburn\",\"Speyburn\",\"Speyburn\",\"Speyburn\",\"Speyburn\",\"Speyburn\",\"Speyburn\",\"Speyburn\",\"Speyburn\",\"Speyburn\",\"Speyburn\",\"Speyburn\",\"Speyburn\",\"Speyburn\",\"Speyburn\",\"Speyburn\",\"Speyburn\",\"Speyburn\",\"Speyburn\",\"Speyburn\",\"Speyburn\",\"Speyburn\",\"Speyburn\",\"Speyburn\",\"Speyburn\",\"Speyburn\",\"Speyburn\",\"Speyburn\",\"Speyburn\",\"Speyburn\",\"Speyburn\",\"Speyburn\",\"Speyburn\",\"Speyburn\",\"Speyburn\",\"Speyburn\",\"Speyburn\",\"Speyburn\",\"Speyburn\",\"Speyburn\",\"Speyburn\",\"Speyburn\",\"Speyburn\",\"Speyburn\",\"Speyburn\",\"Speyburn\",\"Speyburn\",\"Speyburn\",\"Speyburn\",\"Speyburn\",\"Belvenie\",\"Belvenie\",\"Belvenie\",\"Belvenie\",\"Belvenie\",\"Belvenie\",\"Belvenie\",\"Belvenie\",\"Belvenie\",\"Belvenie\",\"Belvenie\",\"Belvenie\",\"Belvenie\",\"Belvenie\",\"Belvenie\",\"Belvenie\",\"Belvenie\",\"Belvenie\",\"Belvenie\",\"Belvenie\",\"Belvenie\",\"Belvenie\",\"Belvenie\",\"Belvenie\",\"Belvenie\",\"Belvenie\",\"Belvenie\",\"Belvenie\",\"Belvenie\",\"Belvenie\",\"Belvenie\",\"Belvenie\",\"Belvenie\",\"Belvenie\",\"Belvenie\",\"Belvenie\",\"Belvenie\",\"Belvenie\",\"Belvenie\",\"Belvenie\",\"Belvenie\",\"Belvenie\",\"Belvenie\",\"Belvenie\",\"Belvenie\",\"Belvenie\",\"Belvenie\",\"Belvenie\",\"Belvenie\",\"Belvenie\",\"Belvenie\",\"Belvenie\",\"Belvenie\",\"Belvenie\",\"Belvenie\",\"Belvenie\",\"Belvenie\",\"Belvenie\",\"Belvenie\",\"Belvenie\",\"Belvenie\",\"Belvenie\",\"Belvenie\",\"Belvenie\",\"Belvenie\",\"Belvenie\",\"Belvenie\",\"Belvenie\",\"Belvenie\",\"Belvenie\",\"Belvenie\",\"Belvenie\",\"Belvenie\",\"Belvenie\",\"Belvenie\",\"Belvenie\",\"Belvenie\",\"Belvenie\",\"Belvenie\",\"Belvenie\",\"Belvenie\",\"Belvenie\",\"Belvenie\",\"Belvenie\",\"Belvenie\",\"Belvenie\",\"Tomintoul\",\"Tomintoul\",\"Tomintoul\",\"Tomintoul\",\"Tomintoul\",\"Tomintoul\",\"Tomintoul\",\"Tomintoul\",\"Tomintoul\",\"Tomintoul\",\"Tomintoul\",\"Tomintoul\",\"Tomintoul\",\"Tomintoul\",\"Tomintoul\",\"Tomintoul\",\"Tomintoul\",\"Tomintoul\",\"Tomintoul\",\"Tomintoul\",\"Tomintoul\",\"Tomintoul\",\"Tomintoul\",\"Tomintoul\",\"Tomintoul\",\"Tomintoul\",\"Tomintoul\",\"Tomintoul\",\"Tomintoul\",\"Tomintoul\",\"Tomintoul\",\"Tomintoul\",\"Tomintoul\",\"Tomintoul\",\"Tomintoul\",\"Tomintoul\",\"Tomintoul\",\"Tomintoul\",\"Tomintoul\",\"Tomintoul\",\"Tomintoul\",\"Tomintoul\",\"Tomintoul\",\"Tomintoul\",\"Tomintoul\",\"Tomintoul\",\"Tomintoul\",\"Tomintoul\",\"Tomintoul\",\"Tomintoul\",\"Tomintoul\",\"Tomintoul\",\"Tomintoul\",\"Tomintoul\",\"Tomintoul\",\"Tomintoul\",\"Tomintoul\",\"Tomintoul\",\"Tomintoul\",\"Tomintoul\",\"Tomintoul\",\"Tomintoul\",\"Tomintoul\",\"Tomintoul\",\"Tomintoul\",\"Tomintoul\",\"Tomintoul\",\"Tomintoul\",\"Tomintoul\",\"Tomintoul\",\"Tomintoul\",\"Tomintoul\",\"Tomintoul\",\"Tomintoul\",\"Tomintoul\",\"Tomintoul\",\"Tomintoul\",\"Tomintoul\",\"Tomintoul\",\"Tomintoul\",\"Tomintoul\",\"Tomintoul\",\"Tomintoul\",\"Tomintoul\",\"Tomintoul\",\"Tomintoul\",\"RoyalBrackla\",\"RoyalBrackla\",\"RoyalBrackla\",\"RoyalBrackla\",\"RoyalBrackla\",\"RoyalBrackla\",\"RoyalBrackla\",\"RoyalBrackla\",\"RoyalBrackla\",\"RoyalBrackla\",\"RoyalBrackla\",\"RoyalBrackla\",\"RoyalBrackla\",\"RoyalBrackla\",\"RoyalBrackla\",\"RoyalBrackla\",\"RoyalBrackla\",\"RoyalBrackla\",\"RoyalBrackla\",\"RoyalBrackla\",\"RoyalBrackla\",\"RoyalBrackla\",\"RoyalBrackla\",\"RoyalBrackla\",\"RoyalBrackla\",\"RoyalBrackla\",\"RoyalBrackla\",\"RoyalBrackla\",\"RoyalBrackla\",\"RoyalBrackla\",\"RoyalBrackla\",\"RoyalBrackla\",\"RoyalBrackla\",\"RoyalBrackla\",\"RoyalBrackla\",\"RoyalBrackla\",\"RoyalBrackla\",\"RoyalBrackla\",\"RoyalBrackla\",\"RoyalBrackla\",\"RoyalBrackla\",\"RoyalBrackla\",\"RoyalBrackla\",\"RoyalBrackla\",\"RoyalBrackla\",\"RoyalBrackla\",\"RoyalBrackla\",\"RoyalBrackla\",\"RoyalBrackla\",\"RoyalBrackla\",\"RoyalBrackla\",\"RoyalBrackla\",\"RoyalBrackla\",\"RoyalBrackla\",\"RoyalBrackla\",\"RoyalBrackla\",\"RoyalBrackla\",\"RoyalBrackla\",\"RoyalBrackla\",\"RoyalBrackla\",\"RoyalBrackla\",\"RoyalBrackla\",\"RoyalBrackla\",\"RoyalBrackla\",\"RoyalBrackla\",\"RoyalBrackla\",\"RoyalBrackla\",\"RoyalBrackla\",\"RoyalBrackla\",\"RoyalBrackla\",\"RoyalBrackla\",\"RoyalBrackla\",\"RoyalBrackla\",\"RoyalBrackla\",\"RoyalBrackla\",\"RoyalBrackla\",\"RoyalBrackla\",\"RoyalBrackla\",\"RoyalBrackla\",\"RoyalBrackla\",\"RoyalBrackla\",\"RoyalBrackla\",\"RoyalBrackla\",\"RoyalBrackla\",\"RoyalBrackla\",\"RoyalBrackla\",\"Teaninich\",\"Teaninich\",\"Teaninich\",\"Teaninich\",\"Teaninich\",\"Teaninich\",\"Teaninich\",\"Teaninich\",\"Teaninich\",\"Teaninich\",\"Teaninich\",\"Teaninich\",\"Teaninich\",\"Teaninich\",\"Teaninich\",\"Teaninich\",\"Teaninich\",\"Teaninich\",\"Teaninich\",\"Teaninich\",\"Teaninich\",\"Teaninich\",\"Teaninich\",\"Teaninich\",\"Teaninich\",\"Teaninich\",\"Teaninich\",\"Teaninich\",\"Teaninich\",\"Teaninich\",\"Teaninich\",\"Teaninich\",\"Teaninich\",\"Teaninich\",\"Teaninich\",\"Teaninich\",\"Teaninich\",\"Teaninich\",\"Teaninich\",\"Teaninich\",\"Teaninich\",\"Teaninich\",\"Teaninich\",\"Teaninich\",\"Teaninich\",\"Teaninich\",\"Teaninich\",\"Teaninich\",\"Teaninich\",\"Teaninich\",\"Teaninich\",\"Teaninich\",\"Teaninich\",\"Teaninich\",\"Teaninich\",\"Teaninich\",\"Teaninich\",\"Teaninich\",\"Teaninich\",\"Teaninich\",\"Teaninich\",\"Teaninich\",\"Teaninich\",\"Teaninich\",\"Teaninich\",\"Teaninich\",\"Teaninich\",\"Teaninich\",\"Teaninich\",\"Teaninich\",\"Teaninich\",\"Teaninich\",\"Teaninich\",\"Teaninich\",\"Teaninich\",\"Teaninich\",\"Teaninich\",\"Teaninich\",\"Teaninich\",\"Teaninich\",\"Teaninich\",\"Teaninich\",\"Teaninich\",\"Teaninich\",\"Teaninich\",\"Teaninich\",\"ArranIsleOf\",\"ArranIsleOf\",\"ArranIsleOf\",\"ArranIsleOf\",\"ArranIsleOf\",\"ArranIsleOf\",\"ArranIsleOf\",\"ArranIsleOf\",\"ArranIsleOf\",\"ArranIsleOf\",\"ArranIsleOf\",\"ArranIsleOf\",\"ArranIsleOf\",\"ArranIsleOf\",\"ArranIsleOf\",\"ArranIsleOf\",\"ArranIsleOf\",\"ArranIsleOf\",\"ArranIsleOf\",\"ArranIsleOf\",\"ArranIsleOf\",\"ArranIsleOf\",\"ArranIsleOf\",\"ArranIsleOf\",\"ArranIsleOf\",\"ArranIsleOf\",\"ArranIsleOf\",\"ArranIsleOf\",\"ArranIsleOf\",\"ArranIsleOf\",\"ArranIsleOf\",\"ArranIsleOf\",\"ArranIsleOf\",\"ArranIsleOf\",\"ArranIsleOf\",\"ArranIsleOf\",\"ArranIsleOf\",\"ArranIsleOf\",\"ArranIsleOf\",\"ArranIsleOf\",\"ArranIsleOf\",\"ArranIsleOf\",\"ArranIsleOf\",\"ArranIsleOf\",\"ArranIsleOf\",\"ArranIsleOf\",\"ArranIsleOf\",\"ArranIsleOf\",\"ArranIsleOf\",\"ArranIsleOf\",\"ArranIsleOf\",\"ArranIsleOf\",\"ArranIsleOf\",\"ArranIsleOf\",\"ArranIsleOf\",\"ArranIsleOf\",\"ArranIsleOf\",\"ArranIsleOf\",\"ArranIsleOf\",\"ArranIsleOf\",\"ArranIsleOf\",\"ArranIsleOf\",\"ArranIsleOf\",\"ArranIsleOf\",\"ArranIsleOf\",\"ArranIsleOf\",\"ArranIsleOf\",\"ArranIsleOf\",\"ArranIsleOf\",\"ArranIsleOf\",\"ArranIsleOf\",\"ArranIsleOf\",\"ArranIsleOf\",\"ArranIsleOf\",\"ArranIsleOf\",\"ArranIsleOf\",\"ArranIsleOf\",\"ArranIsleOf\",\"ArranIsleOf\",\"ArranIsleOf\",\"ArranIsleOf\",\"ArranIsleOf\",\"ArranIsleOf\",\"ArranIsleOf\",\"ArranIsleOf\",\"ArranIsleOf\",\"GlenScotia\",\"GlenScotia\",\"GlenScotia\",\"GlenScotia\",\"GlenScotia\",\"GlenScotia\",\"GlenScotia\",\"GlenScotia\",\"GlenScotia\",\"GlenScotia\",\"GlenScotia\",\"GlenScotia\",\"GlenScotia\",\"GlenScotia\",\"GlenScotia\",\"GlenScotia\",\"GlenScotia\",\"GlenScotia\",\"GlenScotia\",\"GlenScotia\",\"GlenScotia\",\"GlenScotia\",\"GlenScotia\",\"GlenScotia\",\"GlenScotia\",\"GlenScotia\",\"GlenScotia\",\"GlenScotia\",\"GlenScotia\",\"GlenScotia\",\"GlenScotia\",\"GlenScotia\",\"GlenScotia\",\"GlenScotia\",\"GlenScotia\",\"GlenScotia\",\"GlenScotia\",\"GlenScotia\",\"GlenScotia\",\"GlenScotia\",\"GlenScotia\",\"GlenScotia\",\"GlenScotia\",\"GlenScotia\",\"GlenScotia\",\"GlenScotia\",\"GlenScotia\",\"GlenScotia\",\"GlenScotia\",\"GlenScotia\",\"GlenScotia\",\"GlenScotia\",\"GlenScotia\",\"GlenScotia\",\"GlenScotia\",\"GlenScotia\",\"GlenScotia\",\"GlenScotia\",\"GlenScotia\",\"GlenScotia\",\"GlenScotia\",\"GlenScotia\",\"GlenScotia\",\"GlenScotia\",\"GlenScotia\",\"GlenScotia\",\"GlenScotia\",\"GlenScotia\",\"GlenScotia\",\"GlenScotia\",\"GlenScotia\",\"GlenScotia\",\"GlenScotia\",\"GlenScotia\",\"GlenScotia\",\"GlenScotia\",\"GlenScotia\",\"GlenScotia\",\"GlenScotia\",\"GlenScotia\",\"GlenScotia\",\"GlenScotia\",\"GlenScotia\",\"GlenScotia\",\"GlenScotia\",\"GlenScotia\",\"Isle of Jura\",\"Isle of Jura\",\"Isle of Jura\",\"Isle of Jura\",\"Isle of Jura\",\"Isle of Jura\",\"Isle of Jura\",\"Isle of Jura\",\"Isle of Jura\",\"Isle of Jura\",\"Isle of Jura\",\"Isle of Jura\",\"Isle of Jura\",\"Isle of Jura\",\"Isle of Jura\",\"Isle of Jura\",\"Isle of Jura\",\"Isle of Jura\",\"Isle of Jura\",\"Isle of Jura\",\"Isle of Jura\",\"Isle of Jura\",\"Isle of Jura\",\"Isle of Jura\",\"Isle of Jura\",\"Isle of Jura\",\"Isle of Jura\",\"Isle of Jura\",\"Isle of Jura\",\"Isle of Jura\",\"Isle of Jura\",\"Isle of Jura\",\"Isle of Jura\",\"Isle of Jura\",\"Isle of Jura\",\"Isle of Jura\",\"Isle of Jura\",\"Isle of Jura\",\"Isle of Jura\",\"Isle of Jura\",\"Isle of Jura\",\"Isle of Jura\",\"Isle of Jura\",\"Isle of Jura\",\"Isle of Jura\",\"Isle of Jura\",\"Isle of Jura\",\"Isle of Jura\",\"Isle of Jura\",\"Isle of Jura\",\"Isle of Jura\",\"Isle of Jura\",\"Isle of Jura\",\"Isle of Jura\",\"Isle of Jura\",\"Isle of Jura\",\"Isle of Jura\",\"Isle of Jura\",\"Isle of Jura\",\"Isle of Jura\",\"Isle of Jura\",\"Isle of Jura\",\"Isle of Jura\",\"Isle of Jura\",\"Isle of Jura\",\"Isle of Jura\",\"Isle of Jura\",\"Isle of Jura\",\"Isle of Jura\",\"Isle of Jura\",\"Isle of Jura\",\"Isle of Jura\",\"Isle of Jura\",\"Isle of Jura\",\"Isle of Jura\",\"Isle of Jura\",\"Isle of Jura\",\"Isle of Jura\",\"Isle of Jura\",\"Isle of Jura\",\"Isle of Jura\",\"Isle of Jura\",\"Isle of Jura\",\"Isle of Jura\",\"Isle of Jura\",\"Isle of Jura\",\"Bruichladdich\",\"Bruichladdich\",\"Bruichladdich\",\"Bruichladdich\",\"Bruichladdich\",\"Bruichladdich\",\"Bruichladdich\",\"Bruichladdich\",\"Bruichladdich\",\"Bruichladdich\",\"Bruichladdich\",\"Bruichladdich\",\"Bruichladdich\",\"Bruichladdich\",\"Bruichladdich\",\"Bruichladdich\",\"Bruichladdich\",\"Bruichladdich\",\"Bruichladdich\",\"Bruichladdich\",\"Bruichladdich\",\"Bruichladdich\",\"Bruichladdich\",\"Bruichladdich\",\"Bruichladdich\",\"Bruichladdich\",\"Bruichladdich\",\"Bruichladdich\",\"Bruichladdich\",\"Bruichladdich\",\"Bruichladdich\",\"Bruichladdich\",\"Bruichladdich\",\"Bruichladdich\",\"Bruichladdich\",\"Bruichladdich\",\"Bruichladdich\",\"Bruichladdich\",\"Bruichladdich\",\"Bruichladdich\",\"Bruichladdich\",\"Bruichladdich\",\"Bruichladdich\",\"Bruichladdich\",\"Bruichladdich\",\"Bruichladdich\",\"Bruichladdich\",\"Bruichladdich\",\"Bruichladdich\",\"Bruichladdich\",\"Bruichladdich\",\"Bruichladdich\",\"Bruichladdich\",\"Bruichladdich\",\"Bruichladdich\",\"Bruichladdich\",\"Bruichladdich\",\"Bruichladdich\",\"Bruichladdich\",\"Bruichladdich\",\"Bruichladdich\",\"Bruichladdich\",\"Bruichladdich\",\"Bruichladdich\",\"Bruichladdich\",\"Bruichladdich\",\"Bruichladdich\",\"Bruichladdich\",\"Bruichladdich\",\"Bruichladdich\",\"Bruichladdich\",\"Bruichladdich\",\"Bruichladdich\",\"Bruichladdich\",\"Bruichladdich\",\"Bruichladdich\",\"Bruichladdich\",\"Bruichladdich\",\"Bruichladdich\",\"Bruichladdich\",\"Bruichladdich\",\"Bruichladdich\",\"Bruichladdich\",\"Bruichladdich\",\"Bruichladdich\",\"Bruichladdich\",\"OldPulteney\",\"OldPulteney\",\"OldPulteney\",\"OldPulteney\",\"OldPulteney\",\"OldPulteney\",\"OldPulteney\",\"OldPulteney\",\"OldPulteney\",\"OldPulteney\",\"OldPulteney\",\"OldPulteney\",\"OldPulteney\",\"OldPulteney\",\"OldPulteney\",\"OldPulteney\",\"OldPulteney\",\"OldPulteney\",\"OldPulteney\",\"OldPulteney\",\"OldPulteney\",\"OldPulteney\",\"OldPulteney\",\"OldPulteney\",\"OldPulteney\",\"OldPulteney\",\"OldPulteney\",\"OldPulteney\",\"OldPulteney\",\"OldPulteney\",\"OldPulteney\",\"OldPulteney\",\"OldPulteney\",\"OldPulteney\",\"OldPulteney\",\"OldPulteney\",\"OldPulteney\",\"OldPulteney\",\"OldPulteney\",\"OldPulteney\",\"OldPulteney\",\"OldPulteney\",\"OldPulteney\",\"OldPulteney\",\"OldPulteney\",\"OldPulteney\",\"OldPulteney\",\"OldPulteney\",\"OldPulteney\",\"OldPulteney\",\"OldPulteney\",\"OldPulteney\",\"OldPulteney\",\"OldPulteney\",\"OldPulteney\",\"OldPulteney\",\"OldPulteney\",\"OldPulteney\",\"OldPulteney\",\"OldPulteney\",\"OldPulteney\",\"OldPulteney\",\"OldPulteney\",\"OldPulteney\",\"OldPulteney\",\"OldPulteney\",\"OldPulteney\",\"OldPulteney\",\"OldPulteney\",\"OldPulteney\",\"OldPulteney\",\"OldPulteney\",\"OldPulteney\",\"OldPulteney\",\"OldPulteney\",\"OldPulteney\",\"OldPulteney\",\"OldPulteney\",\"OldPulteney\",\"OldPulteney\",\"OldPulteney\",\"OldPulteney\",\"OldPulteney\",\"OldPulteney\",\"OldPulteney\",\"OldPulteney\",\"Oban\",\"Oban\",\"Oban\",\"Oban\",\"Oban\",\"Oban\",\"Oban\",\"Oban\",\"Oban\",\"Oban\",\"Oban\",\"Oban\",\"Oban\",\"Oban\",\"Oban\",\"Oban\",\"Oban\",\"Oban\",\"Oban\",\"Oban\",\"Oban\",\"Oban\",\"Oban\",\"Oban\",\"Oban\",\"Oban\",\"Oban\",\"Oban\",\"Oban\",\"Oban\",\"Oban\",\"Oban\",\"Oban\",\"Oban\",\"Oban\",\"Oban\",\"Oban\",\"Oban\",\"Oban\",\"Oban\",\"Oban\",\"Oban\",\"Oban\",\"Oban\",\"Oban\",\"Oban\",\"Oban\",\"Oban\",\"Oban\",\"Oban\",\"Oban\",\"Oban\",\"Oban\",\"Oban\",\"Oban\",\"Oban\",\"Oban\",\"Oban\",\"Oban\",\"Oban\",\"Oban\",\"Oban\",\"Oban\",\"Oban\",\"Oban\",\"Oban\",\"Oban\",\"Oban\",\"Oban\",\"Oban\",\"Oban\",\"Oban\",\"Oban\",\"Oban\",\"Oban\",\"Oban\",\"Oban\",\"Oban\",\"Oban\",\"Oban\",\"Oban\",\"Oban\",\"Oban\",\"Oban\",\"Oban\",\"Oban\",\"Glenturret\",\"Glenturret\",\"Glenturret\",\"Glenturret\",\"Glenturret\",\"Glenturret\",\"Glenturret\",\"Glenturret\",\"Glenturret\",\"Glenturret\",\"Glenturret\",\"Glenturret\",\"Glenturret\",\"Glenturret\",\"Glenturret\",\"Glenturret\",\"Glenturret\",\"Glenturret\",\"Glenturret\",\"Glenturret\",\"Glenturret\",\"Glenturret\",\"Glenturret\",\"Glenturret\",\"Glenturret\",\"Glenturret\",\"Glenturret\",\"Glenturret\",\"Glenturret\",\"Glenturret\",\"Glenturret\",\"Glenturret\",\"Glenturret\",\"Glenturret\",\"Glenturret\",\"Glenturret\",\"Glenturret\",\"Glenturret\",\"Glenturret\",\"Glenturret\",\"Glenturret\",\"Glenturret\",\"Glenturret\",\"Glenturret\",\"Glenturret\",\"Glenturret\",\"Glenturret\",\"Glenturret\",\"Glenturret\",\"Glenturret\",\"Glenturret\",\"Glenturret\",\"Glenturret\",\"Glenturret\",\"Glenturret\",\"Glenturret\",\"Glenturret\",\"Glenturret\",\"Glenturret\",\"Glenturret\",\"Glenturret\",\"Glenturret\",\"Glenturret\",\"Glenturret\",\"Glenturret\",\"Glenturret\",\"Glenturret\",\"Glenturret\",\"Glenturret\",\"Glenturret\",\"Glenturret\",\"Glenturret\",\"Glenturret\",\"Glenturret\",\"Glenturret\",\"Glenturret\",\"Glenturret\",\"Glenturret\",\"Glenturret\",\"Glenturret\",\"Glenturret\",\"Glenturret\",\"Glenturret\",\"Glenturret\",\"Glenturret\",\"Glenturret\",\"Glenrothes\",\"Glenrothes\",\"Glenrothes\",\"Glenrothes\",\"Glenrothes\",\"Glenrothes\",\"Glenrothes\",\"Glenrothes\",\"Glenrothes\",\"Glenrothes\",\"Glenrothes\",\"Glenrothes\",\"Glenrothes\",\"Glenrothes\",\"Glenrothes\",\"Glenrothes\",\"Glenrothes\",\"Glenrothes\",\"Glenrothes\",\"Glenrothes\",\"Glenrothes\",\"Glenrothes\",\"Glenrothes\",\"Glenrothes\",\"Glenrothes\",\"Glenrothes\",\"Glenrothes\",\"Glenrothes\",\"Glenrothes\",\"Glenrothes\",\"Glenrothes\",\"Glenrothes\",\"Glenrothes\",\"Glenrothes\",\"Glenrothes\",\"Glenrothes\",\"Glenrothes\",\"Glenrothes\",\"Glenrothes\",\"Glenrothes\",\"Glenrothes\",\"Glenrothes\",\"Glenrothes\",\"Glenrothes\",\"Glenrothes\",\"Glenrothes\",\"Glenrothes\",\"Glenrothes\",\"Glenrothes\",\"Glenrothes\",\"Glenrothes\",\"Glenrothes\",\"Glenrothes\",\"Glenrothes\",\"Glenrothes\",\"Glenrothes\",\"Glenrothes\",\"Glenrothes\",\"Glenrothes\",\"Glenrothes\",\"Glenrothes\",\"Glenrothes\",\"Glenrothes\",\"Glenrothes\",\"Glenrothes\",\"Glenrothes\",\"Glenrothes\",\"Glenrothes\",\"Glenrothes\",\"Glenrothes\",\"Glenrothes\",\"Glenrothes\",\"Glenrothes\",\"Glenrothes\",\"Glenrothes\",\"Glenrothes\",\"Glenrothes\",\"Glenrothes\",\"Glenrothes\",\"Glenrothes\",\"Glenrothes\",\"Glenrothes\",\"Glenrothes\",\"Glenrothes\",\"Glenrothes\",\"Glenrothes\",\"Mortlach\",\"Mortlach\",\"Mortlach\",\"Mortlach\",\"Mortlach\",\"Mortlach\",\"Mortlach\",\"Mortlach\",\"Mortlach\",\"Mortlach\",\"Mortlach\",\"Mortlach\",\"Mortlach\",\"Mortlach\",\"Mortlach\",\"Mortlach\",\"Mortlach\",\"Mortlach\",\"Mortlach\",\"Mortlach\",\"Mortlach\",\"Mortlach\",\"Mortlach\",\"Mortlach\",\"Mortlach\",\"Mortlach\",\"Mortlach\",\"Mortlach\",\"Mortlach\",\"Mortlach\",\"Mortlach\",\"Mortlach\",\"Mortlach\",\"Mortlach\",\"Mortlach\",\"Mortlach\",\"Mortlach\",\"Mortlach\",\"Mortlach\",\"Mortlach\",\"Mortlach\",\"Mortlach\",\"Mortlach\",\"Mortlach\",\"Mortlach\",\"Mortlach\",\"Mortlach\",\"Mortlach\",\"Mortlach\",\"Mortlach\",\"Mortlach\",\"Mortlach\",\"Mortlach\",\"Mortlach\",\"Mortlach\",\"Mortlach\",\"Mortlach\",\"Mortlach\",\"Mortlach\",\"Mortlach\",\"Mortlach\",\"Mortlach\",\"Mortlach\",\"Mortlach\",\"Mortlach\",\"Mortlach\",\"Mortlach\",\"Mortlach\",\"Mortlach\",\"Mortlach\",\"Mortlach\",\"Mortlach\",\"Mortlach\",\"Mortlach\",\"Mortlach\",\"Mortlach\",\"Mortlach\",\"Mortlach\",\"Mortlach\",\"Mortlach\",\"Mortlach\",\"Mortlach\",\"Mortlach\",\"Mortlach\",\"Mortlach\",\"Mortlach\",\"RoyalLochnagar\",\"RoyalLochnagar\",\"RoyalLochnagar\",\"RoyalLochnagar\",\"RoyalLochnagar\",\"RoyalLochnagar\",\"RoyalLochnagar\",\"RoyalLochnagar\",\"RoyalLochnagar\",\"RoyalLochnagar\",\"RoyalLochnagar\",\"RoyalLochnagar\",\"RoyalLochnagar\",\"RoyalLochnagar\",\"RoyalLochnagar\",\"RoyalLochnagar\",\"RoyalLochnagar\",\"RoyalLochnagar\",\"RoyalLochnagar\",\"RoyalLochnagar\",\"RoyalLochnagar\",\"RoyalLochnagar\",\"RoyalLochnagar\",\"RoyalLochnagar\",\"RoyalLochnagar\",\"RoyalLochnagar\",\"RoyalLochnagar\",\"RoyalLochnagar\",\"RoyalLochnagar\",\"RoyalLochnagar\",\"RoyalLochnagar\",\"RoyalLochnagar\",\"RoyalLochnagar\",\"RoyalLochnagar\",\"RoyalLochnagar\",\"RoyalLochnagar\",\"RoyalLochnagar\",\"RoyalLochnagar\",\"RoyalLochnagar\",\"RoyalLochnagar\",\"RoyalLochnagar\",\"RoyalLochnagar\",\"RoyalLochnagar\",\"RoyalLochnagar\",\"RoyalLochnagar\",\"RoyalLochnagar\",\"RoyalLochnagar\",\"RoyalLochnagar\",\"RoyalLochnagar\",\"RoyalLochnagar\",\"RoyalLochnagar\",\"RoyalLochnagar\",\"RoyalLochnagar\",\"RoyalLochnagar\",\"RoyalLochnagar\",\"RoyalLochnagar\",\"RoyalLochnagar\",\"RoyalLochnagar\",\"RoyalLochnagar\",\"RoyalLochnagar\",\"RoyalLochnagar\",\"RoyalLochnagar\",\"RoyalLochnagar\",\"RoyalLochnagar\",\"RoyalLochnagar\",\"RoyalLochnagar\",\"RoyalLochnagar\",\"RoyalLochnagar\",\"RoyalLochnagar\",\"RoyalLochnagar\",\"RoyalLochnagar\",\"RoyalLochnagar\",\"RoyalLochnagar\",\"RoyalLochnagar\",\"RoyalLochnagar\",\"RoyalLochnagar\",\"RoyalLochnagar\",\"RoyalLochnagar\",\"RoyalLochnagar\",\"RoyalLochnagar\",\"RoyalLochnagar\",\"RoyalLochnagar\",\"RoyalLochnagar\",\"RoyalLochnagar\",\"RoyalLochnagar\",\"RoyalLochnagar\",\"Springbank\",\"Springbank\",\"Springbank\",\"Springbank\",\"Springbank\",\"Springbank\",\"Springbank\",\"Springbank\",\"Springbank\",\"Springbank\",\"Springbank\",\"Springbank\",\"Springbank\",\"Springbank\",\"Springbank\",\"Springbank\",\"Springbank\",\"Springbank\",\"Springbank\",\"Springbank\",\"Springbank\",\"Springbank\",\"Springbank\",\"Springbank\",\"Springbank\",\"Springbank\",\"Springbank\",\"Springbank\",\"Springbank\",\"Springbank\",\"Springbank\",\"Springbank\",\"Springbank\",\"Springbank\",\"Springbank\",\"Springbank\",\"Springbank\",\"Springbank\",\"Springbank\",\"Springbank\",\"Springbank\",\"Springbank\",\"Springbank\",\"Springbank\",\"Springbank\",\"Springbank\",\"Springbank\",\"Springbank\",\"Springbank\",\"Springbank\",\"Springbank\",\"Springbank\",\"Springbank\",\"Springbank\",\"Springbank\",\"Springbank\",\"Springbank\",\"Springbank\",\"Springbank\",\"Springbank\",\"Springbank\",\"Springbank\",\"Springbank\",\"Springbank\",\"Springbank\",\"Springbank\",\"Springbank\",\"Springbank\",\"Springbank\",\"Springbank\",\"Springbank\",\"Springbank\",\"Springbank\",\"Springbank\",\"Springbank\",\"Springbank\",\"Springbank\",\"Springbank\",\"Springbank\",\"Springbank\",\"Springbank\",\"Springbank\",\"Springbank\",\"Springbank\",\"Springbank\",\"Springbank\",\"Glenfarclas\",\"Glenfarclas\",\"Glenfarclas\",\"Glenfarclas\",\"Glenfarclas\",\"Glenfarclas\",\"Glenfarclas\",\"Glenfarclas\",\"Glenfarclas\",\"Glenfarclas\",\"Glenfarclas\",\"Glenfarclas\",\"Glenfarclas\",\"Glenfarclas\",\"Glenfarclas\",\"Glenfarclas\",\"Glenfarclas\",\"Glenfarclas\",\"Glenfarclas\",\"Glenfarclas\",\"Glenfarclas\",\"Glenfarclas\",\"Glenfarclas\",\"Glenfarclas\",\"Glenfarclas\",\"Glenfarclas\",\"Glenfarclas\",\"Glenfarclas\",\"Glenfarclas\",\"Glenfarclas\",\"Glenfarclas\",\"Glenfarclas\",\"Glenfarclas\",\"Glenfarclas\",\"Glenfarclas\",\"Glenfarclas\",\"Glenfarclas\",\"Glenfarclas\",\"Glenfarclas\",\"Glenfarclas\",\"Glenfarclas\",\"Glenfarclas\",\"Glenfarclas\",\"Glenfarclas\",\"Glenfarclas\",\"Glenfarclas\",\"Glenfarclas\",\"Glenfarclas\",\"Glenfarclas\",\"Glenfarclas\",\"Glenfarclas\",\"Glenfarclas\",\"Glenfarclas\",\"Glenfarclas\",\"Glenfarclas\",\"Glenfarclas\",\"Glenfarclas\",\"Glenfarclas\",\"Glenfarclas\",\"Glenfarclas\",\"Glenfarclas\",\"Glenfarclas\",\"Glenfarclas\",\"Glenfarclas\",\"Glenfarclas\",\"Glenfarclas\",\"Glenfarclas\",\"Glenfarclas\",\"Glenfarclas\",\"Glenfarclas\",\"Glenfarclas\",\"Glenfarclas\",\"Glenfarclas\",\"Glenfarclas\",\"Glenfarclas\",\"Glenfarclas\",\"Glenfarclas\",\"Glenfarclas\",\"Glenfarclas\",\"Glenfarclas\",\"Glenfarclas\",\"Glenfarclas\",\"Glenfarclas\",\"Glenfarclas\",\"Glenfarclas\",\"Glenfarclas\",\"Glendullan\",\"Glendullan\",\"Glendullan\",\"Glendullan\",\"Glendullan\",\"Glendullan\",\"Glendullan\",\"Glendullan\",\"Glendullan\",\"Glendullan\",\"Glendullan\",\"Glendullan\",\"Glendullan\",\"Glendullan\",\"Glendullan\",\"Glendullan\",\"Glendullan\",\"Glendullan\",\"Glendullan\",\"Glendullan\",\"Glendullan\",\"Glendullan\",\"Glendullan\",\"Glendullan\",\"Glendullan\",\"Glendullan\",\"Glendullan\",\"Glendullan\",\"Glendullan\",\"Glendullan\",\"Glendullan\",\"Glendullan\",\"Glendullan\",\"Glendullan\",\"Glendullan\",\"Glendullan\",\"Glendullan\",\"Glendullan\",\"Glendullan\",\"Glendullan\",\"Glendullan\",\"Glendullan\",\"Glendullan\",\"Glendullan\",\"Glendullan\",\"Glendullan\",\"Glendullan\",\"Glendullan\",\"Glendullan\",\"Glendullan\",\"Glendullan\",\"Glendullan\",\"Glendullan\",\"Glendullan\",\"Glendullan\",\"Glendullan\",\"Glendullan\",\"Glendullan\",\"Glendullan\",\"Glendullan\",\"Glendullan\",\"Glendullan\",\"Glendullan\",\"Glendullan\",\"Glendullan\",\"Glendullan\",\"Glendullan\",\"Glendullan\",\"Glendullan\",\"Glendullan\",\"Glendullan\",\"Glendullan\",\"Glendullan\",\"Glendullan\",\"Glendullan\",\"Glendullan\",\"Glendullan\",\"Glendullan\",\"Glendullan\",\"Glendullan\",\"Glendullan\",\"Glendullan\",\"Glendullan\",\"Glendullan\",\"Glendullan\",\"Glendullan\",\"Tormore\",\"Tormore\",\"Tormore\",\"Tormore\",\"Tormore\",\"Tormore\",\"Tormore\",\"Tormore\",\"Tormore\",\"Tormore\",\"Tormore\",\"Tormore\",\"Tormore\",\"Tormore\",\"Tormore\",\"Tormore\",\"Tormore\",\"Tormore\",\"Tormore\",\"Tormore\",\"Tormore\",\"Tormore\",\"Tormore\",\"Tormore\",\"Tormore\",\"Tormore\",\"Tormore\",\"Tormore\",\"Tormore\",\"Tormore\",\"Tormore\",\"Tormore\",\"Tormore\",\"Tormore\",\"Tormore\",\"Tormore\",\"Tormore\",\"Tormore\",\"Tormore\",\"Tormore\",\"Tormore\",\"Tormore\",\"Tormore\",\"Tormore\",\"Tormore\",\"Tormore\",\"Tormore\",\"Tormore\",\"Tormore\",\"Tormore\",\"Tormore\",\"Tormore\",\"Tormore\",\"Tormore\",\"Tormore\",\"Tormore\",\"Tormore\",\"Tormore\",\"Tormore\",\"Tormore\",\"Tormore\",\"Tormore\",\"Tormore\",\"Tormore\",\"Tormore\",\"Tormore\",\"Tormore\",\"Tormore\",\"Tormore\",\"Tormore\",\"Tormore\",\"Tormore\",\"Tormore\",\"Tormore\",\"Tormore\",\"Tormore\",\"Tormore\",\"Tormore\",\"Tormore\",\"Tormore\",\"Tormore\",\"Tormore\",\"Tormore\",\"Tormore\",\"Tormore\",\"Tormore\",\"Tomatin\",\"Tomatin\",\"Tomatin\",\"Tomatin\",\"Tomatin\",\"Tomatin\",\"Tomatin\",\"Tomatin\",\"Tomatin\",\"Tomatin\",\"Tomatin\",\"Tomatin\",\"Tomatin\",\"Tomatin\",\"Tomatin\",\"Tomatin\",\"Tomatin\",\"Tomatin\",\"Tomatin\",\"Tomatin\",\"Tomatin\",\"Tomatin\",\"Tomatin\",\"Tomatin\",\"Tomatin\",\"Tomatin\",\"Tomatin\",\"Tomatin\",\"Tomatin\",\"Tomatin\",\"Tomatin\",\"Tomatin\",\"Tomatin\",\"Tomatin\",\"Tomatin\",\"Tomatin\",\"Tomatin\",\"Tomatin\",\"Tomatin\",\"Tomatin\",\"Tomatin\",\"Tomatin\",\"Tomatin\",\"Tomatin\",\"Tomatin\",\"Tomatin\",\"Tomatin\",\"Tomatin\",\"Tomatin\",\"Tomatin\",\"Tomatin\",\"Tomatin\",\"Tomatin\",\"Tomatin\",\"Tomatin\",\"Tomatin\",\"Tomatin\",\"Tomatin\",\"Tomatin\",\"Tomatin\",\"Tomatin\",\"Tomatin\",\"Tomatin\",\"Tomatin\",\"Tomatin\",\"Tomatin\",\"Tomatin\",\"Tomatin\",\"Tomatin\",\"Tomatin\",\"Tomatin\",\"Tomatin\",\"Tomatin\",\"Tomatin\",\"Tomatin\",\"Tomatin\",\"Tomatin\",\"Tomatin\",\"Tomatin\",\"Tomatin\",\"Tomatin\",\"Tomatin\",\"Tomatin\",\"Tomatin\",\"Tomatin\",\"Tomatin\",\"Highland Park\",\"Highland Park\",\"Highland Park\",\"Highland Park\",\"Highland Park\",\"Highland Park\",\"Highland Park\",\"Highland Park\",\"Highland Park\",\"Highland Park\",\"Highland Park\",\"Highland Park\",\"Highland Park\",\"Highland Park\",\"Highland Park\",\"Highland Park\",\"Highland Park\",\"Highland Park\",\"Highland Park\",\"Highland Park\",\"Highland Park\",\"Highland Park\",\"Highland Park\",\"Highland Park\",\"Highland Park\",\"Highland Park\",\"Highland Park\",\"Highland Park\",\"Highland Park\",\"Highland Park\",\"Highland Park\",\"Highland Park\",\"Highland Park\",\"Highland Park\",\"Highland Park\",\"Highland Park\",\"Highland Park\",\"Highland Park\",\"Highland Park\",\"Highland Park\",\"Highland Park\",\"Highland Park\",\"Highland Park\",\"Highland Park\",\"Highland Park\",\"Highland Park\",\"Highland Park\",\"Highland Park\",\"Highland Park\",\"Highland Park\",\"Highland Park\",\"Highland Park\",\"Highland Park\",\"Highland Park\",\"Highland Park\",\"Highland Park\",\"Highland Park\",\"Highland Park\",\"Highland Park\",\"Highland Park\",\"Highland Park\",\"Highland Park\",\"Highland Park\",\"Highland Park\",\"Highland Park\",\"Highland Park\",\"Highland Park\",\"Highland Park\",\"Highland Park\",\"Highland Park\",\"Highland Park\",\"Highland Park\",\"Highland Park\",\"Highland Park\",\"Highland Park\",\"Highland Park\",\"Highland Park\",\"Highland Park\",\"Highland Park\",\"Highland Park\",\"Highland Park\",\"Highland Park\",\"Highland Park\",\"Highland Park\",\"Highland Park\",\"Highland Park\",\"Macallan\",\"Macallan\",\"Macallan\",\"Macallan\",\"Macallan\",\"Macallan\",\"Macallan\",\"Macallan\",\"Macallan\",\"Macallan\",\"Macallan\",\"Macallan\",\"Macallan\",\"Macallan\",\"Macallan\",\"Macallan\",\"Macallan\",\"Macallan\",\"Macallan\",\"Macallan\",\"Macallan\",\"Macallan\",\"Macallan\",\"Macallan\",\"Macallan\",\"Macallan\",\"Macallan\",\"Macallan\",\"Macallan\",\"Macallan\",\"Macallan\",\"Macallan\",\"Macallan\",\"Macallan\",\"Macallan\",\"Macallan\",\"Macallan\",\"Macallan\",\"Macallan\",\"Macallan\",\"Macallan\",\"Macallan\",\"Macallan\",\"Macallan\",\"Macallan\",\"Macallan\",\"Macallan\",\"Macallan\",\"Macallan\",\"Macallan\",\"Macallan\",\"Macallan\",\"Macallan\",\"Macallan\",\"Macallan\",\"Macallan\",\"Macallan\",\"Macallan\",\"Macallan\",\"Macallan\",\"Macallan\",\"Macallan\",\"Macallan\",\"Macallan\",\"Macallan\",\"Macallan\",\"Macallan\",\"Macallan\",\"Macallan\",\"Macallan\",\"Macallan\",\"Macallan\",\"Macallan\",\"Macallan\",\"Macallan\",\"Macallan\",\"Macallan\",\"Macallan\",\"Macallan\",\"Macallan\",\"Macallan\",\"Macallan\",\"Macallan\",\"Macallan\",\"Macallan\",\"Macallan\",\"Glendronach\",\"Glendronach\",\"Glendronach\",\"Glendronach\",\"Glendronach\",\"Glendronach\",\"Glendronach\",\"Glendronach\",\"Glendronach\",\"Glendronach\",\"Glendronach\",\"Glendronach\",\"Glendronach\",\"Glendronach\",\"Glendronach\",\"Glendronach\",\"Glendronach\",\"Glendronach\",\"Glendronach\",\"Glendronach\",\"Glendronach\",\"Glendronach\",\"Glendronach\",\"Glendronach\",\"Glendronach\",\"Glendronach\",\"Glendronach\",\"Glendronach\",\"Glendronach\",\"Glendronach\",\"Glendronach\",\"Glendronach\",\"Glendronach\",\"Glendronach\",\"Glendronach\",\"Glendronach\",\"Glendronach\",\"Glendronach\",\"Glendronach\",\"Glendronach\",\"Glendronach\",\"Glendronach\",\"Glendronach\",\"Glendronach\",\"Glendronach\",\"Glendronach\",\"Glendronach\",\"Glendronach\",\"Glendronach\",\"Glendronach\",\"Glendronach\",\"Glendronach\",\"Glendronach\",\"Glendronach\",\"Glendronach\",\"Glendronach\",\"Glendronach\",\"Glendronach\",\"Glendronach\",\"Glendronach\",\"Glendronach\",\"Glendronach\",\"Glendronach\",\"Glendronach\",\"Glendronach\",\"Glendronach\",\"Glendronach\",\"Glendronach\",\"Glendronach\",\"Glendronach\",\"Glendronach\",\"Glendronach\",\"Glendronach\",\"Glendronach\",\"Glendronach\",\"Glendronach\",\"Glendronach\",\"Glendronach\",\"Glendronach\",\"Glendronach\",\"Glendronach\",\"Glendronach\",\"Glendronach\",\"Glendronach\",\"Glendronach\",\"Glendronach\",\"Auchroisk\",\"Auchroisk\",\"Auchroisk\",\"Auchroisk\",\"Auchroisk\",\"Auchroisk\",\"Auchroisk\",\"Auchroisk\",\"Auchroisk\",\"Auchroisk\",\"Auchroisk\",\"Auchroisk\",\"Auchroisk\",\"Auchroisk\",\"Auchroisk\",\"Auchroisk\",\"Auchroisk\",\"Auchroisk\",\"Auchroisk\",\"Auchroisk\",\"Auchroisk\",\"Auchroisk\",\"Auchroisk\",\"Auchroisk\",\"Auchroisk\",\"Auchroisk\",\"Auchroisk\",\"Auchroisk\",\"Auchroisk\",\"Auchroisk\",\"Auchroisk\",\"Auchroisk\",\"Auchroisk\",\"Auchroisk\",\"Auchroisk\",\"Auchroisk\",\"Auchroisk\",\"Auchroisk\",\"Auchroisk\",\"Auchroisk\",\"Auchroisk\",\"Auchroisk\",\"Auchroisk\",\"Auchroisk\",\"Auchroisk\",\"Auchroisk\",\"Auchroisk\",\"Auchroisk\",\"Auchroisk\",\"Auchroisk\",\"Auchroisk\",\"Auchroisk\",\"Auchroisk\",\"Auchroisk\",\"Auchroisk\",\"Auchroisk\",\"Auchroisk\",\"Auchroisk\",\"Auchroisk\",\"Auchroisk\",\"Auchroisk\",\"Auchroisk\",\"Auchroisk\",\"Auchroisk\",\"Auchroisk\",\"Auchroisk\",\"Auchroisk\",\"Auchroisk\",\"Auchroisk\",\"Auchroisk\",\"Auchroisk\",\"Auchroisk\",\"Auchroisk\",\"Auchroisk\",\"Auchroisk\",\"Auchroisk\",\"Auchroisk\",\"Auchroisk\",\"Auchroisk\",\"Auchroisk\",\"Auchroisk\",\"Auchroisk\",\"Auchroisk\",\"Auchroisk\",\"Auchroisk\",\"Auchroisk\",\"Aberlour\",\"Aberlour\",\"Aberlour\",\"Aberlour\",\"Aberlour\",\"Aberlour\",\"Aberlour\",\"Aberlour\",\"Aberlour\",\"Aberlour\",\"Aberlour\",\"Aberlour\",\"Aberlour\",\"Aberlour\",\"Aberlour\",\"Aberlour\",\"Aberlour\",\"Aberlour\",\"Aberlour\",\"Aberlour\",\"Aberlour\",\"Aberlour\",\"Aberlour\",\"Aberlour\",\"Aberlour\",\"Aberlour\",\"Aberlour\",\"Aberlour\",\"Aberlour\",\"Aberlour\",\"Aberlour\",\"Aberlour\",\"Aberlour\",\"Aberlour\",\"Aberlour\",\"Aberlour\",\"Aberlour\",\"Aberlour\",\"Aberlour\",\"Aberlour\",\"Aberlour\",\"Aberlour\",\"Aberlour\",\"Aberlour\",\"Aberlour\",\"Aberlour\",\"Aberlour\",\"Aberlour\",\"Aberlour\",\"Aberlour\",\"Aberlour\",\"Aberlour\",\"Aberlour\",\"Aberlour\",\"Aberlour\",\"Aberlour\",\"Aberlour\",\"Aberlour\",\"Aberlour\",\"Aberlour\",\"Aberlour\",\"Aberlour\",\"Aberlour\",\"Aberlour\",\"Aberlour\",\"Aberlour\",\"Aberlour\",\"Aberlour\",\"Aberlour\",\"Aberlour\",\"Aberlour\",\"Aberlour\",\"Aberlour\",\"Aberlour\",\"Aberlour\",\"Aberlour\",\"Aberlour\",\"Aberlour\",\"Aberlour\",\"Aberlour\",\"Aberlour\",\"Aberlour\",\"Aberlour\",\"Aberlour\",\"Aberlour\",\"Aberlour\",\"Balmenach\",\"Balmenach\",\"Balmenach\",\"Balmenach\",\"Balmenach\",\"Balmenach\",\"Balmenach\",\"Balmenach\",\"Balmenach\",\"Balmenach\",\"Balmenach\",\"Balmenach\",\"Balmenach\",\"Balmenach\",\"Balmenach\",\"Balmenach\",\"Balmenach\",\"Balmenach\",\"Balmenach\",\"Balmenach\",\"Balmenach\",\"Balmenach\",\"Balmenach\",\"Balmenach\",\"Balmenach\",\"Balmenach\",\"Balmenach\",\"Balmenach\",\"Balmenach\",\"Balmenach\",\"Balmenach\",\"Balmenach\",\"Balmenach\",\"Balmenach\",\"Balmenach\",\"Balmenach\",\"Balmenach\",\"Balmenach\",\"Balmenach\",\"Balmenach\",\"Balmenach\",\"Balmenach\",\"Balmenach\",\"Balmenach\",\"Balmenach\",\"Balmenach\",\"Balmenach\",\"Balmenach\",\"Balmenach\",\"Balmenach\",\"Balmenach\",\"Balmenach\",\"Balmenach\",\"Balmenach\",\"Balmenach\",\"Balmenach\",\"Balmenach\",\"Balmenach\",\"Balmenach\",\"Balmenach\",\"Balmenach\",\"Balmenach\",\"Balmenach\",\"Balmenach\",\"Balmenach\",\"Balmenach\",\"Balmenach\",\"Balmenach\",\"Balmenach\",\"Balmenach\",\"Balmenach\",\"Balmenach\",\"Balmenach\",\"Balmenach\",\"Balmenach\",\"Balmenach\",\"Balmenach\",\"Balmenach\",\"Balmenach\",\"Balmenach\",\"Balmenach\",\"Balmenach\",\"Balmenach\",\"Balmenach\",\"Balmenach\",\"Balmenach\",\"Deanston\",\"Deanston\",\"Deanston\",\"Deanston\",\"Deanston\",\"Deanston\",\"Deanston\",\"Deanston\",\"Deanston\",\"Deanston\",\"Deanston\",\"Deanston\",\"Deanston\",\"Deanston\",\"Deanston\",\"Deanston\",\"Deanston\",\"Deanston\",\"Deanston\",\"Deanston\",\"Deanston\",\"Deanston\",\"Deanston\",\"Deanston\",\"Deanston\",\"Deanston\",\"Deanston\",\"Deanston\",\"Deanston\",\"Deanston\",\"Deanston\",\"Deanston\",\"Deanston\",\"Deanston\",\"Deanston\",\"Deanston\",\"Deanston\",\"Deanston\",\"Deanston\",\"Deanston\",\"Deanston\",\"Deanston\",\"Deanston\",\"Deanston\",\"Deanston\",\"Deanston\",\"Deanston\",\"Deanston\",\"Deanston\",\"Deanston\",\"Deanston\",\"Deanston\",\"Deanston\",\"Deanston\",\"Deanston\",\"Deanston\",\"Deanston\",\"Deanston\",\"Deanston\",\"Deanston\",\"Deanston\",\"Deanston\",\"Deanston\",\"Deanston\",\"Deanston\",\"Deanston\",\"Deanston\",\"Deanston\",\"Deanston\",\"Deanston\",\"Deanston\",\"Deanston\",\"Deanston\",\"Deanston\",\"Deanston\",\"Deanston\",\"Deanston\",\"Deanston\",\"Deanston\",\"Deanston\",\"Deanston\",\"Deanston\",\"Deanston\",\"Deanston\",\"Deanston\",\"Deanston\",\"GlenKeith\",\"GlenKeith\",\"GlenKeith\",\"GlenKeith\",\"GlenKeith\",\"GlenKeith\",\"GlenKeith\",\"GlenKeith\",\"GlenKeith\",\"GlenKeith\",\"GlenKeith\",\"GlenKeith\",\"GlenKeith\",\"GlenKeith\",\"GlenKeith\",\"GlenKeith\",\"GlenKeith\",\"GlenKeith\",\"GlenKeith\",\"GlenKeith\",\"GlenKeith\",\"GlenKeith\",\"GlenKeith\",\"GlenKeith\",\"GlenKeith\",\"GlenKeith\",\"GlenKeith\",\"GlenKeith\",\"GlenKeith\",\"GlenKeith\",\"GlenKeith\",\"GlenKeith\",\"GlenKeith\",\"GlenKeith\",\"GlenKeith\",\"GlenKeith\",\"GlenKeith\",\"GlenKeith\",\"GlenKeith\",\"GlenKeith\",\"GlenKeith\",\"GlenKeith\",\"GlenKeith\",\"GlenKeith\",\"GlenKeith\",\"GlenKeith\",\"GlenKeith\",\"GlenKeith\",\"GlenKeith\",\"GlenKeith\",\"GlenKeith\",\"GlenKeith\",\"GlenKeith\",\"GlenKeith\",\"GlenKeith\",\"GlenKeith\",\"GlenKeith\",\"GlenKeith\",\"GlenKeith\",\"GlenKeith\",\"GlenKeith\",\"GlenKeith\",\"GlenKeith\",\"GlenKeith\",\"GlenKeith\",\"GlenKeith\",\"GlenKeith\",\"GlenKeith\",\"GlenKeith\",\"GlenKeith\",\"GlenKeith\",\"GlenKeith\",\"GlenKeith\",\"GlenKeith\",\"GlenKeith\",\"GlenKeith\",\"GlenKeith\",\"GlenKeith\",\"GlenKeith\",\"GlenKeith\",\"GlenKeith\",\"GlenKeith\",\"GlenKeith\",\"GlenKeith\",\"GlenKeith\",\"GlenKeith\",\"Dalmore\",\"Dalmore\",\"Dalmore\",\"Dalmore\",\"Dalmore\",\"Dalmore\",\"Dalmore\",\"Dalmore\",\"Dalmore\",\"Dalmore\",\"Dalmore\",\"Dalmore\",\"Dalmore\",\"Dalmore\",\"Dalmore\",\"Dalmore\",\"Dalmore\",\"Dalmore\",\"Dalmore\",\"Dalmore\",\"Dalmore\",\"Dalmore\",\"Dalmore\",\"Dalmore\",\"Dalmore\",\"Dalmore\",\"Dalmore\",\"Dalmore\",\"Dalmore\",\"Dalmore\",\"Dalmore\",\"Dalmore\",\"Dalmore\",\"Dalmore\",\"Dalmore\",\"Dalmore\",\"Dalmore\",\"Dalmore\",\"Dalmore\",\"Dalmore\",\"Dalmore\",\"Dalmore\",\"Dalmore\",\"Dalmore\",\"Dalmore\",\"Dalmore\",\"Dalmore\",\"Dalmore\",\"Dalmore\",\"Dalmore\",\"Dalmore\",\"Dalmore\",\"Dalmore\",\"Dalmore\",\"Dalmore\",\"Dalmore\",\"Dalmore\",\"Dalmore\",\"Dalmore\",\"Dalmore\",\"Dalmore\",\"Dalmore\",\"Dalmore\",\"Dalmore\",\"Dalmore\",\"Dalmore\",\"Dalmore\",\"Dalmore\",\"Dalmore\",\"Dalmore\",\"Dalmore\",\"Dalmore\",\"Dalmore\",\"Dalmore\",\"Dalmore\",\"Dalmore\",\"Dalmore\",\"Dalmore\",\"Dalmore\",\"Dalmore\",\"Dalmore\",\"Dalmore\",\"Dalmore\",\"Dalmore\",\"Dalmore\",\"Dalmore\",\"Dailuaine\",\"Dailuaine\",\"Dailuaine\",\"Dailuaine\",\"Dailuaine\",\"Dailuaine\",\"Dailuaine\",\"Dailuaine\",\"Dailuaine\",\"Dailuaine\",\"Dailuaine\",\"Dailuaine\",\"Dailuaine\",\"Dailuaine\",\"Dailuaine\",\"Dailuaine\",\"Dailuaine\",\"Dailuaine\",\"Dailuaine\",\"Dailuaine\",\"Dailuaine\",\"Dailuaine\",\"Dailuaine\",\"Dailuaine\",\"Dailuaine\",\"Dailuaine\",\"Dailuaine\",\"Dailuaine\",\"Dailuaine\",\"Dailuaine\",\"Dailuaine\",\"Dailuaine\",\"Dailuaine\",\"Dailuaine\",\"Dailuaine\",\"Dailuaine\",\"Dailuaine\",\"Dailuaine\",\"Dailuaine\",\"Dailuaine\",\"Dailuaine\",\"Dailuaine\",\"Dailuaine\",\"Dailuaine\",\"Dailuaine\",\"Dailuaine\",\"Dailuaine\",\"Dailuaine\",\"Dailuaine\",\"Dailuaine\",\"Dailuaine\",\"Dailuaine\",\"Dailuaine\",\"Dailuaine\",\"Dailuaine\",\"Dailuaine\",\"Dailuaine\",\"Dailuaine\",\"Dailuaine\",\"Dailuaine\",\"Dailuaine\",\"Dailuaine\",\"Dailuaine\",\"Dailuaine\",\"Dailuaine\",\"Dailuaine\",\"Dailuaine\",\"Dailuaine\",\"Dailuaine\",\"Dailuaine\",\"Dailuaine\",\"Dailuaine\",\"Dailuaine\",\"Dailuaine\",\"Dailuaine\",\"Dailuaine\",\"Dailuaine\",\"Dailuaine\",\"Dailuaine\",\"Dailuaine\",\"Dailuaine\",\"Dailuaine\",\"Dailuaine\",\"Dailuaine\",\"Dailuaine\",\"Dailuaine\",\"Balblair\",\"Balblair\",\"Balblair\",\"Balblair\",\"Balblair\",\"Balblair\",\"Balblair\",\"Balblair\",\"Balblair\",\"Balblair\",\"Balblair\",\"Balblair\",\"Balblair\",\"Balblair\",\"Balblair\",\"Balblair\",\"Balblair\",\"Balblair\",\"Balblair\",\"Balblair\",\"Balblair\",\"Balblair\",\"Balblair\",\"Balblair\",\"Balblair\",\"Balblair\",\"Balblair\",\"Balblair\",\"Balblair\",\"Balblair\",\"Balblair\",\"Balblair\",\"Balblair\",\"Balblair\",\"Balblair\",\"Balblair\",\"Balblair\",\"Balblair\",\"Balblair\",\"Balblair\",\"Balblair\",\"Balblair\",\"Balblair\",\"Balblair\",\"Balblair\",\"Balblair\",\"Balblair\",\"Balblair\",\"Balblair\",\"Balblair\",\"Balblair\",\"Balblair\",\"Balblair\",\"Balblair\",\"Balblair\",\"Balblair\",\"Balblair\",\"Balblair\",\"Balblair\",\"Balblair\",\"Balblair\",\"Balblair\",\"Balblair\",\"Balblair\",\"Balblair\",\"Balblair\",\"Balblair\",\"Balblair\",\"Balblair\",\"Balblair\",\"Balblair\",\"Balblair\",\"Balblair\",\"Balblair\",\"Balblair\",\"Balblair\",\"Balblair\",\"Balblair\",\"Balblair\",\"Balblair\",\"Balblair\",\"Balblair\",\"Balblair\",\"Balblair\",\"Balblair\",\"Balblair\",\"Strathmill\",\"Strathmill\",\"Strathmill\",\"Strathmill\",\"Strathmill\",\"Strathmill\",\"Strathmill\",\"Strathmill\",\"Strathmill\",\"Strathmill\",\"Strathmill\",\"Strathmill\",\"Strathmill\",\"Strathmill\",\"Strathmill\",\"Strathmill\",\"Strathmill\",\"Strathmill\",\"Strathmill\",\"Strathmill\",\"Strathmill\",\"Strathmill\",\"Strathmill\",\"Strathmill\",\"Strathmill\",\"Strathmill\",\"Strathmill\",\"Strathmill\",\"Strathmill\",\"Strathmill\",\"Strathmill\",\"Strathmill\",\"Strathmill\",\"Strathmill\",\"Strathmill\",\"Strathmill\",\"Strathmill\",\"Strathmill\",\"Strathmill\",\"Strathmill\",\"Strathmill\",\"Strathmill\",\"Strathmill\",\"Strathmill\",\"Strathmill\",\"Strathmill\",\"Strathmill\",\"Strathmill\",\"Strathmill\",\"Strathmill\",\"Strathmill\",\"Strathmill\",\"Strathmill\",\"Strathmill\",\"Strathmill\",\"Strathmill\",\"Strathmill\",\"Strathmill\",\"Strathmill\",\"Strathmill\",\"Strathmill\",\"Strathmill\",\"Strathmill\",\"Strathmill\",\"Strathmill\",\"Strathmill\",\"Strathmill\",\"Strathmill\",\"Strathmill\",\"Strathmill\",\"Strathmill\",\"Strathmill\",\"Strathmill\",\"Strathmill\",\"Strathmill\",\"Strathmill\",\"Strathmill\",\"Strathmill\",\"Strathmill\",\"Strathmill\",\"Strathmill\",\"Strathmill\",\"Strathmill\",\"Strathmill\",\"Strathmill\",\"Strathmill\",\"Loch Lomond\",\"Loch Lomond\",\"Loch Lomond\",\"Loch Lomond\",\"Loch Lomond\",\"Loch Lomond\",\"Loch Lomond\",\"Loch Lomond\",\"Loch Lomond\",\"Loch Lomond\",\"Loch Lomond\",\"Loch Lomond\",\"Loch Lomond\",\"Loch Lomond\",\"Loch Lomond\",\"Loch Lomond\",\"Loch Lomond\",\"Loch Lomond\",\"Loch Lomond\",\"Loch Lomond\",\"Loch Lomond\",\"Loch Lomond\",\"Loch Lomond\",\"Loch Lomond\",\"Loch Lomond\",\"Loch Lomond\",\"Loch Lomond\",\"Loch Lomond\",\"Loch Lomond\",\"Loch Lomond\",\"Loch Lomond\",\"Loch Lomond\",\"Loch Lomond\",\"Loch Lomond\",\"Loch Lomond\",\"Loch Lomond\",\"Loch Lomond\",\"Loch Lomond\",\"Loch Lomond\",\"Loch Lomond\",\"Loch Lomond\",\"Loch Lomond\",\"Loch Lomond\",\"Loch Lomond\",\"Loch Lomond\",\"Loch Lomond\",\"Loch Lomond\",\"Loch Lomond\",\"Loch Lomond\",\"Loch Lomond\",\"Loch Lomond\",\"Loch Lomond\",\"Loch Lomond\",\"Loch Lomond\",\"Loch Lomond\",\"Loch Lomond\",\"Loch Lomond\",\"Loch Lomond\",\"Loch Lomond\",\"Loch Lomond\",\"Loch Lomond\",\"Loch Lomond\",\"Loch Lomond\",\"Loch Lomond\",\"Loch Lomond\",\"Loch Lomond\",\"Loch Lomond\",\"Loch Lomond\",\"Loch Lomond\",\"Loch Lomond\",\"Loch Lomond\",\"Loch Lomond\",\"Loch Lomond\",\"Loch Lomond\",\"Loch Lomond\",\"Loch Lomond\",\"Loch Lomond\",\"Loch Lomond\",\"Loch Lomond\",\"Loch Lomond\",\"Loch Lomond\",\"Loch Lomond\",\"Loch Lomond\",\"Loch Lomond\",\"Loch Lomond\",\"Loch Lomond\",\"Tamnavulin\",\"Tamnavulin\",\"Tamnavulin\",\"Tamnavulin\",\"Tamnavulin\",\"Tamnavulin\",\"Tamnavulin\",\"Tamnavulin\",\"Tamnavulin\",\"Tamnavulin\",\"Tamnavulin\",\"Tamnavulin\",\"Tamnavulin\",\"Tamnavulin\",\"Tamnavulin\",\"Tamnavulin\",\"Tamnavulin\",\"Tamnavulin\",\"Tamnavulin\",\"Tamnavulin\",\"Tamnavulin\",\"Tamnavulin\",\"Tamnavulin\",\"Tamnavulin\",\"Tamnavulin\",\"Tamnavulin\",\"Tamnavulin\",\"Tamnavulin\",\"Tamnavulin\",\"Tamnavulin\",\"Tamnavulin\",\"Tamnavulin\",\"Tamnavulin\",\"Tamnavulin\",\"Tamnavulin\",\"Tamnavulin\",\"Tamnavulin\",\"Tamnavulin\",\"Tamnavulin\",\"Tamnavulin\",\"Tamnavulin\",\"Tamnavulin\",\"Tamnavulin\",\"Tamnavulin\",\"Tamnavulin\",\"Tamnavulin\",\"Tamnavulin\",\"Tamnavulin\",\"Tamnavulin\",\"Tamnavulin\",\"Tamnavulin\",\"Tamnavulin\",\"Tamnavulin\",\"Tamnavulin\",\"Tamnavulin\",\"Tamnavulin\",\"Tamnavulin\",\"Tamnavulin\",\"Tamnavulin\",\"Tamnavulin\",\"Tamnavulin\",\"Tamnavulin\",\"Tamnavulin\",\"Tamnavulin\",\"Tamnavulin\",\"Tamnavulin\",\"Tamnavulin\",\"Tamnavulin\",\"Tamnavulin\",\"Tamnavulin\",\"Tamnavulin\",\"Tamnavulin\",\"Tamnavulin\",\"Tamnavulin\",\"Tamnavulin\",\"Tamnavulin\",\"Tamnavulin\",\"Tamnavulin\",\"Tamnavulin\",\"Tamnavulin\",\"Tamnavulin\",\"Tamnavulin\",\"Tamnavulin\",\"Tamnavulin\",\"Tamnavulin\",\"Tamnavulin\",\"Bunnahabhain\",\"Bunnahabhain\",\"Bunnahabhain\",\"Bunnahabhain\",\"Bunnahabhain\",\"Bunnahabhain\",\"Bunnahabhain\",\"Bunnahabhain\",\"Bunnahabhain\",\"Bunnahabhain\",\"Bunnahabhain\",\"Bunnahabhain\",\"Bunnahabhain\",\"Bunnahabhain\",\"Bunnahabhain\",\"Bunnahabhain\",\"Bunnahabhain\",\"Bunnahabhain\",\"Bunnahabhain\",\"Bunnahabhain\",\"Bunnahabhain\",\"Bunnahabhain\",\"Bunnahabhain\",\"Bunnahabhain\",\"Bunnahabhain\",\"Bunnahabhain\",\"Bunnahabhain\",\"Bunnahabhain\",\"Bunnahabhain\",\"Bunnahabhain\",\"Bunnahabhain\",\"Bunnahabhain\",\"Bunnahabhain\",\"Bunnahabhain\",\"Bunnahabhain\",\"Bunnahabhain\",\"Bunnahabhain\",\"Bunnahabhain\",\"Bunnahabhain\",\"Bunnahabhain\",\"Bunnahabhain\",\"Bunnahabhain\",\"Bunnahabhain\",\"Bunnahabhain\",\"Bunnahabhain\",\"Bunnahabhain\",\"Bunnahabhain\",\"Bunnahabhain\",\"Bunnahabhain\",\"Bunnahabhain\",\"Bunnahabhain\",\"Bunnahabhain\",\"Bunnahabhain\",\"Bunnahabhain\",\"Bunnahabhain\",\"Bunnahabhain\",\"Bunnahabhain\",\"Bunnahabhain\",\"Bunnahabhain\",\"Bunnahabhain\",\"Bunnahabhain\",\"Bunnahabhain\",\"Bunnahabhain\",\"Bunnahabhain\",\"Bunnahabhain\",\"Bunnahabhain\",\"Bunnahabhain\",\"Bunnahabhain\",\"Bunnahabhain\",\"Bunnahabhain\",\"Bunnahabhain\",\"Bunnahabhain\",\"Bunnahabhain\",\"Bunnahabhain\",\"Bunnahabhain\",\"Bunnahabhain\",\"Bunnahabhain\",\"Bunnahabhain\",\"Bunnahabhain\",\"Bunnahabhain\",\"Bunnahabhain\",\"Bunnahabhain\",\"Bunnahabhain\",\"Bunnahabhain\",\"Bunnahabhain\",\"Bunnahabhain\",\"Auchentoshan\",\"Auchentoshan\",\"Auchentoshan\",\"Auchentoshan\",\"Auchentoshan\",\"Auchentoshan\",\"Auchentoshan\",\"Auchentoshan\",\"Auchentoshan\",\"Auchentoshan\",\"Auchentoshan\",\"Auchentoshan\",\"Auchentoshan\",\"Auchentoshan\",\"Auchentoshan\",\"Auchentoshan\",\"Auchentoshan\",\"Auchentoshan\",\"Auchentoshan\",\"Auchentoshan\",\"Auchentoshan\",\"Auchentoshan\",\"Auchentoshan\",\"Auchentoshan\",\"Auchentoshan\",\"Auchentoshan\",\"Auchentoshan\",\"Auchentoshan\",\"Auchentoshan\",\"Auchentoshan\",\"Auchentoshan\",\"Auchentoshan\",\"Auchentoshan\",\"Auchentoshan\",\"Auchentoshan\",\"Auchentoshan\",\"Auchentoshan\",\"Auchentoshan\",\"Auchentoshan\",\"Auchentoshan\",\"Auchentoshan\",\"Auchentoshan\",\"Auchentoshan\",\"Auchentoshan\",\"Auchentoshan\",\"Auchentoshan\",\"Auchentoshan\",\"Auchentoshan\",\"Auchentoshan\",\"Auchentoshan\",\"Auchentoshan\",\"Auchentoshan\",\"Auchentoshan\",\"Auchentoshan\",\"Auchentoshan\",\"Auchentoshan\",\"Auchentoshan\",\"Auchentoshan\",\"Auchentoshan\",\"Auchentoshan\",\"Auchentoshan\",\"Auchentoshan\",\"Auchentoshan\",\"Auchentoshan\",\"Auchentoshan\",\"Auchentoshan\",\"Auchentoshan\",\"Auchentoshan\",\"Auchentoshan\",\"Auchentoshan\",\"Auchentoshan\",\"Auchentoshan\",\"Auchentoshan\",\"Auchentoshan\",\"Auchentoshan\",\"Auchentoshan\",\"Auchentoshan\",\"Auchentoshan\",\"Auchentoshan\",\"Auchentoshan\",\"Auchentoshan\",\"Auchentoshan\",\"Auchentoshan\",\"Auchentoshan\",\"Auchentoshan\",\"Auchentoshan\",\"Cardhu\",\"Cardhu\",\"Cardhu\",\"Cardhu\",\"Cardhu\",\"Cardhu\",\"Cardhu\",\"Cardhu\",\"Cardhu\",\"Cardhu\",\"Cardhu\",\"Cardhu\",\"Cardhu\",\"Cardhu\",\"Cardhu\",\"Cardhu\",\"Cardhu\",\"Cardhu\",\"Cardhu\",\"Cardhu\",\"Cardhu\",\"Cardhu\",\"Cardhu\",\"Cardhu\",\"Cardhu\",\"Cardhu\",\"Cardhu\",\"Cardhu\",\"Cardhu\",\"Cardhu\",\"Cardhu\",\"Cardhu\",\"Cardhu\",\"Cardhu\",\"Cardhu\",\"Cardhu\",\"Cardhu\",\"Cardhu\",\"Cardhu\",\"Cardhu\",\"Cardhu\",\"Cardhu\",\"Cardhu\",\"Cardhu\",\"Cardhu\",\"Cardhu\",\"Cardhu\",\"Cardhu\",\"Cardhu\",\"Cardhu\",\"Cardhu\",\"Cardhu\",\"Cardhu\",\"Cardhu\",\"Cardhu\",\"Cardhu\",\"Cardhu\",\"Cardhu\",\"Cardhu\",\"Cardhu\",\"Cardhu\",\"Cardhu\",\"Cardhu\",\"Cardhu\",\"Cardhu\",\"Cardhu\",\"Cardhu\",\"Cardhu\",\"Cardhu\",\"Cardhu\",\"Cardhu\",\"Cardhu\",\"Cardhu\",\"Cardhu\",\"Cardhu\",\"Cardhu\",\"Cardhu\",\"Cardhu\",\"Cardhu\",\"Cardhu\",\"Cardhu\",\"Cardhu\",\"Cardhu\",\"Cardhu\",\"Cardhu\",\"Cardhu\",\"GlenMoray\",\"GlenMoray\",\"GlenMoray\",\"GlenMoray\",\"GlenMoray\",\"GlenMoray\",\"GlenMoray\",\"GlenMoray\",\"GlenMoray\",\"GlenMoray\",\"GlenMoray\",\"GlenMoray\",\"GlenMoray\",\"GlenMoray\",\"GlenMoray\",\"GlenMoray\",\"GlenMoray\",\"GlenMoray\",\"GlenMoray\",\"GlenMoray\",\"GlenMoray\",\"GlenMoray\",\"GlenMoray\",\"GlenMoray\",\"GlenMoray\",\"GlenMoray\",\"GlenMoray\",\"GlenMoray\",\"GlenMoray\",\"GlenMoray\",\"GlenMoray\",\"GlenMoray\",\"GlenMoray\",\"GlenMoray\",\"GlenMoray\",\"GlenMoray\",\"GlenMoray\",\"GlenMoray\",\"GlenMoray\",\"GlenMoray\",\"GlenMoray\",\"GlenMoray\",\"GlenMoray\",\"GlenMoray\",\"GlenMoray\",\"GlenMoray\",\"GlenMoray\",\"GlenMoray\",\"GlenMoray\",\"GlenMoray\",\"GlenMoray\",\"GlenMoray\",\"GlenMoray\",\"GlenMoray\",\"GlenMoray\",\"GlenMoray\",\"GlenMoray\",\"GlenMoray\",\"GlenMoray\",\"GlenMoray\",\"GlenMoray\",\"GlenMoray\",\"GlenMoray\",\"GlenMoray\",\"GlenMoray\",\"GlenMoray\",\"GlenMoray\",\"GlenMoray\",\"GlenMoray\",\"GlenMoray\",\"GlenMoray\",\"GlenMoray\",\"GlenMoray\",\"GlenMoray\",\"GlenMoray\",\"GlenMoray\",\"GlenMoray\",\"GlenMoray\",\"GlenMoray\",\"GlenMoray\",\"GlenMoray\",\"GlenMoray\",\"GlenMoray\",\"GlenMoray\",\"GlenMoray\",\"GlenMoray\",\"Glenmorangie\",\"Glenmorangie\",\"Glenmorangie\",\"Glenmorangie\",\"Glenmorangie\",\"Glenmorangie\",\"Glenmorangie\",\"Glenmorangie\",\"Glenmorangie\",\"Glenmorangie\",\"Glenmorangie\",\"Glenmorangie\",\"Glenmorangie\",\"Glenmorangie\",\"Glenmorangie\",\"Glenmorangie\",\"Glenmorangie\",\"Glenmorangie\",\"Glenmorangie\",\"Glenmorangie\",\"Glenmorangie\",\"Glenmorangie\",\"Glenmorangie\",\"Glenmorangie\",\"Glenmorangie\",\"Glenmorangie\",\"Glenmorangie\",\"Glenmorangie\",\"Glenmorangie\",\"Glenmorangie\",\"Glenmorangie\",\"Glenmorangie\",\"Glenmorangie\",\"Glenmorangie\",\"Glenmorangie\",\"Glenmorangie\",\"Glenmorangie\",\"Glenmorangie\",\"Glenmorangie\",\"Glenmorangie\",\"Glenmorangie\",\"Glenmorangie\",\"Glenmorangie\",\"Glenmorangie\",\"Glenmorangie\",\"Glenmorangie\",\"Glenmorangie\",\"Glenmorangie\",\"Glenmorangie\",\"Glenmorangie\",\"Glenmorangie\",\"Glenmorangie\",\"Glenmorangie\",\"Glenmorangie\",\"Glenmorangie\",\"Glenmorangie\",\"Glenmorangie\",\"Glenmorangie\",\"Glenmorangie\",\"Glenmorangie\",\"Glenmorangie\",\"Glenmorangie\",\"Glenmorangie\",\"Glenmorangie\",\"Glenmorangie\",\"Glenmorangie\",\"Glenmorangie\",\"Glenmorangie\",\"Glenmorangie\",\"Glenmorangie\",\"Glenmorangie\",\"Glenmorangie\",\"Glenmorangie\",\"Glenmorangie\",\"Glenmorangie\",\"Glenmorangie\",\"Glenmorangie\",\"Glenmorangie\",\"Glenmorangie\",\"Glenmorangie\",\"Glenmorangie\",\"Glenmorangie\",\"Glenmorangie\",\"Glenmorangie\",\"Glenmorangie\",\"Glenmorangie\",\"AnCnoc\",\"AnCnoc\",\"AnCnoc\",\"AnCnoc\",\"AnCnoc\",\"AnCnoc\",\"AnCnoc\",\"AnCnoc\",\"AnCnoc\",\"AnCnoc\",\"AnCnoc\",\"AnCnoc\",\"AnCnoc\",\"AnCnoc\",\"AnCnoc\",\"AnCnoc\",\"AnCnoc\",\"AnCnoc\",\"AnCnoc\",\"AnCnoc\",\"AnCnoc\",\"AnCnoc\",\"AnCnoc\",\"AnCnoc\",\"AnCnoc\",\"AnCnoc\",\"AnCnoc\",\"AnCnoc\",\"AnCnoc\",\"AnCnoc\",\"AnCnoc\",\"AnCnoc\",\"AnCnoc\",\"AnCnoc\",\"AnCnoc\",\"AnCnoc\",\"AnCnoc\",\"AnCnoc\",\"AnCnoc\",\"AnCnoc\",\"AnCnoc\",\"AnCnoc\",\"AnCnoc\",\"AnCnoc\",\"AnCnoc\",\"AnCnoc\",\"AnCnoc\",\"AnCnoc\",\"AnCnoc\",\"AnCnoc\",\"AnCnoc\",\"AnCnoc\",\"AnCnoc\",\"AnCnoc\",\"AnCnoc\",\"AnCnoc\",\"AnCnoc\",\"AnCnoc\",\"AnCnoc\",\"AnCnoc\",\"AnCnoc\",\"AnCnoc\",\"AnCnoc\",\"AnCnoc\",\"AnCnoc\",\"AnCnoc\",\"AnCnoc\",\"AnCnoc\",\"AnCnoc\",\"AnCnoc\",\"AnCnoc\",\"AnCnoc\",\"AnCnoc\",\"AnCnoc\",\"AnCnoc\",\"AnCnoc\",\"AnCnoc\",\"AnCnoc\",\"AnCnoc\",\"AnCnoc\",\"AnCnoc\",\"AnCnoc\",\"AnCnoc\",\"AnCnoc\",\"AnCnoc\",\"AnCnoc\",\"Dufftown\",\"Dufftown\",\"Dufftown\",\"Dufftown\",\"Dufftown\",\"Dufftown\",\"Dufftown\",\"Dufftown\",\"Dufftown\",\"Dufftown\",\"Dufftown\",\"Dufftown\",\"Dufftown\",\"Dufftown\",\"Dufftown\",\"Dufftown\",\"Dufftown\",\"Dufftown\",\"Dufftown\",\"Dufftown\",\"Dufftown\",\"Dufftown\",\"Dufftown\",\"Dufftown\",\"Dufftown\",\"Dufftown\",\"Dufftown\",\"Dufftown\",\"Dufftown\",\"Dufftown\",\"Dufftown\",\"Dufftown\",\"Dufftown\",\"Dufftown\",\"Dufftown\",\"Dufftown\",\"Dufftown\",\"Dufftown\",\"Dufftown\",\"Dufftown\",\"Dufftown\",\"Dufftown\",\"Dufftown\",\"Dufftown\",\"Dufftown\",\"Dufftown\",\"Dufftown\",\"Dufftown\",\"Dufftown\",\"Dufftown\",\"Dufftown\",\"Dufftown\",\"Dufftown\",\"Dufftown\",\"Dufftown\",\"Dufftown\",\"Dufftown\",\"Dufftown\",\"Dufftown\",\"Dufftown\",\"Dufftown\",\"Dufftown\",\"Dufftown\",\"Dufftown\",\"Dufftown\",\"Dufftown\",\"Dufftown\",\"Dufftown\",\"Dufftown\",\"Dufftown\",\"Dufftown\",\"Dufftown\",\"Dufftown\",\"Dufftown\",\"Dufftown\",\"Dufftown\",\"Dufftown\",\"Dufftown\",\"Dufftown\",\"Dufftown\",\"Dufftown\",\"Dufftown\",\"Dufftown\",\"Dufftown\",\"Dufftown\",\"Dufftown\",\"Glenallachie\",\"Glenallachie\",\"Glenallachie\",\"Glenallachie\",\"Glenallachie\",\"Glenallachie\",\"Glenallachie\",\"Glenallachie\",\"Glenallachie\",\"Glenallachie\",\"Glenallachie\",\"Glenallachie\",\"Glenallachie\",\"Glenallachie\",\"Glenallachie\",\"Glenallachie\",\"Glenallachie\",\"Glenallachie\",\"Glenallachie\",\"Glenallachie\",\"Glenallachie\",\"Glenallachie\",\"Glenallachie\",\"Glenallachie\",\"Glenallachie\",\"Glenallachie\",\"Glenallachie\",\"Glenallachie\",\"Glenallachie\",\"Glenallachie\",\"Glenallachie\",\"Glenallachie\",\"Glenallachie\",\"Glenallachie\",\"Glenallachie\",\"Glenallachie\",\"Glenallachie\",\"Glenallachie\",\"Glenallachie\",\"Glenallachie\",\"Glenallachie\",\"Glenallachie\",\"Glenallachie\",\"Glenallachie\",\"Glenallachie\",\"Glenallachie\",\"Glenallachie\",\"Glenallachie\",\"Glenallachie\",\"Glenallachie\",\"Glenallachie\",\"Glenallachie\",\"Glenallachie\",\"Glenallachie\",\"Glenallachie\",\"Glenallachie\",\"Glenallachie\",\"Glenallachie\",\"Glenallachie\",\"Glenallachie\",\"Glenallachie\",\"Glenallachie\",\"Glenallachie\",\"Glenallachie\",\"Glenallachie\",\"Glenallachie\",\"Glenallachie\",\"Glenallachie\",\"Glenallachie\",\"Glenallachie\",\"Glenallachie\",\"Glenallachie\",\"Glenallachie\",\"Glenallachie\",\"Glenallachie\",\"Glenallachie\",\"Glenallachie\",\"Glenallachie\",\"Glenallachie\",\"Glenallachie\",\"Glenallachie\",\"Glenallachie\",\"Glenallachie\",\"Glenallachie\",\"Glenallachie\",\"Glenallachie\",\"Tobermory\",\"Tobermory\",\"Tobermory\",\"Tobermory\",\"Tobermory\",\"Tobermory\",\"Tobermory\",\"Tobermory\",\"Tobermory\",\"Tobermory\",\"Tobermory\",\"Tobermory\",\"Tobermory\",\"Tobermory\",\"Tobermory\",\"Tobermory\",\"Tobermory\",\"Tobermory\",\"Tobermory\",\"Tobermory\",\"Tobermory\",\"Tobermory\",\"Tobermory\",\"Tobermory\",\"Tobermory\",\"Tobermory\",\"Tobermory\",\"Tobermory\",\"Tobermory\",\"Tobermory\",\"Tobermory\",\"Tobermory\",\"Tobermory\",\"Tobermory\",\"Tobermory\",\"Tobermory\",\"Tobermory\",\"Tobermory\",\"Tobermory\",\"Tobermory\",\"Tobermory\",\"Tobermory\",\"Tobermory\",\"Tobermory\",\"Tobermory\",\"Tobermory\",\"Tobermory\",\"Tobermory\",\"Tobermory\",\"Tobermory\",\"Tobermory\",\"Tobermory\",\"Tobermory\",\"Tobermory\",\"Tobermory\",\"Tobermory\",\"Tobermory\",\"Tobermory\",\"Tobermory\",\"Tobermory\",\"Tobermory\",\"Tobermory\",\"Tobermory\",\"Tobermory\",\"Tobermory\",\"Tobermory\",\"Tobermory\",\"Tobermory\",\"Tobermory\",\"Tobermory\",\"Tobermory\",\"Tobermory\",\"Tobermory\",\"Tobermory\",\"Tobermory\",\"Tobermory\",\"Tobermory\",\"Tobermory\",\"Tobermory\",\"Tobermory\",\"Tobermory\",\"Tobermory\",\"Tobermory\",\"Tobermory\",\"Tobermory\",\"Tobermory\",\"Dalwhinnie\",\"Dalwhinnie\",\"Dalwhinnie\",\"Dalwhinnie\",\"Dalwhinnie\",\"Dalwhinnie\",\"Dalwhinnie\",\"Dalwhinnie\",\"Dalwhinnie\",\"Dalwhinnie\",\"Dalwhinnie\",\"Dalwhinnie\",\"Dalwhinnie\",\"Dalwhinnie\",\"Dalwhinnie\",\"Dalwhinnie\",\"Dalwhinnie\",\"Dalwhinnie\",\"Dalwhinnie\",\"Dalwhinnie\",\"Dalwhinnie\",\"Dalwhinnie\",\"Dalwhinnie\",\"Dalwhinnie\",\"Dalwhinnie\",\"Dalwhinnie\",\"Dalwhinnie\",\"Dalwhinnie\",\"Dalwhinnie\",\"Dalwhinnie\",\"Dalwhinnie\",\"Dalwhinnie\",\"Dalwhinnie\",\"Dalwhinnie\",\"Dalwhinnie\",\"Dalwhinnie\",\"Dalwhinnie\",\"Dalwhinnie\",\"Dalwhinnie\",\"Dalwhinnie\",\"Dalwhinnie\",\"Dalwhinnie\",\"Dalwhinnie\",\"Dalwhinnie\",\"Dalwhinnie\",\"Dalwhinnie\",\"Dalwhinnie\",\"Dalwhinnie\",\"Dalwhinnie\",\"Dalwhinnie\",\"Dalwhinnie\",\"Dalwhinnie\",\"Dalwhinnie\",\"Dalwhinnie\",\"Dalwhinnie\",\"Dalwhinnie\",\"Dalwhinnie\",\"Dalwhinnie\",\"Dalwhinnie\",\"Dalwhinnie\",\"Dalwhinnie\",\"Dalwhinnie\",\"Dalwhinnie\",\"Dalwhinnie\",\"Dalwhinnie\",\"Dalwhinnie\",\"Dalwhinnie\",\"Dalwhinnie\",\"Dalwhinnie\",\"Dalwhinnie\",\"Dalwhinnie\",\"Dalwhinnie\",\"Dalwhinnie\",\"Dalwhinnie\",\"Dalwhinnie\",\"Dalwhinnie\",\"Dalwhinnie\",\"Dalwhinnie\",\"Dalwhinnie\",\"Dalwhinnie\",\"Dalwhinnie\",\"Dalwhinnie\",\"Dalwhinnie\",\"Dalwhinnie\",\"Dalwhinnie\",\"Dalwhinnie\",\"Craigganmore\",\"Craigganmore\",\"Craigganmore\",\"Craigganmore\",\"Craigganmore\",\"Craigganmore\",\"Craigganmore\",\"Craigganmore\",\"Craigganmore\",\"Craigganmore\",\"Craigganmore\",\"Craigganmore\",\"Craigganmore\",\"Craigganmore\",\"Craigganmore\",\"Craigganmore\",\"Craigganmore\",\"Craigganmore\",\"Craigganmore\",\"Craigganmore\",\"Craigganmore\",\"Craigganmore\",\"Craigganmore\",\"Craigganmore\",\"Craigganmore\",\"Craigganmore\",\"Craigganmore\",\"Craigganmore\",\"Craigganmore\",\"Craigganmore\",\"Craigganmore\",\"Craigganmore\",\"Craigganmore\",\"Craigganmore\",\"Craigganmore\",\"Craigganmore\",\"Craigganmore\",\"Craigganmore\",\"Craigganmore\",\"Craigganmore\",\"Craigganmore\",\"Craigganmore\",\"Craigganmore\",\"Craigganmore\",\"Craigganmore\",\"Craigganmore\",\"Craigganmore\",\"Craigganmore\",\"Craigganmore\",\"Craigganmore\",\"Craigganmore\",\"Craigganmore\",\"Craigganmore\",\"Craigganmore\",\"Craigganmore\",\"Craigganmore\",\"Craigganmore\",\"Craigganmore\",\"Craigganmore\",\"Craigganmore\",\"Craigganmore\",\"Craigganmore\",\"Craigganmore\",\"Craigganmore\",\"Craigganmore\",\"Craigganmore\",\"Craigganmore\",\"Craigganmore\",\"Craigganmore\",\"Craigganmore\",\"Craigganmore\",\"Craigganmore\",\"Craigganmore\",\"Craigganmore\",\"Craigganmore\",\"Craigganmore\",\"Craigganmore\",\"Craigganmore\",\"Craigganmore\",\"Craigganmore\",\"Craigganmore\",\"Craigganmore\",\"Craigganmore\",\"Craigganmore\",\"Craigganmore\",\"Craigganmore\",\"Craigallechie\",\"Craigallechie\",\"Craigallechie\",\"Craigallechie\",\"Craigallechie\",\"Craigallechie\",\"Craigallechie\",\"Craigallechie\",\"Craigallechie\",\"Craigallechie\",\"Craigallechie\",\"Craigallechie\",\"Craigallechie\",\"Craigallechie\",\"Craigallechie\",\"Craigallechie\",\"Craigallechie\",\"Craigallechie\",\"Craigallechie\",\"Craigallechie\",\"Craigallechie\",\"Craigallechie\",\"Craigallechie\",\"Craigallechie\",\"Craigallechie\",\"Craigallechie\",\"Craigallechie\",\"Craigallechie\",\"Craigallechie\",\"Craigallechie\",\"Craigallechie\",\"Craigallechie\",\"Craigallechie\",\"Craigallechie\",\"Craigallechie\",\"Craigallechie\",\"Craigallechie\",\"Craigallechie\",\"Craigallechie\",\"Craigallechie\",\"Craigallechie\",\"Craigallechie\",\"Craigallechie\",\"Craigallechie\",\"Craigallechie\",\"Craigallechie\",\"Craigallechie\",\"Craigallechie\",\"Craigallechie\",\"Craigallechie\",\"Craigallechie\",\"Craigallechie\",\"Craigallechie\",\"Craigallechie\",\"Craigallechie\",\"Craigallechie\",\"Craigallechie\",\"Craigallechie\",\"Craigallechie\",\"Craigallechie\",\"Craigallechie\",\"Craigallechie\",\"Craigallechie\",\"Craigallechie\",\"Craigallechie\",\"Craigallechie\",\"Craigallechie\",\"Craigallechie\",\"Craigallechie\",\"Craigallechie\",\"Craigallechie\",\"Craigallechie\",\"Craigallechie\",\"Craigallechie\",\"Craigallechie\",\"Craigallechie\",\"Craigallechie\",\"Craigallechie\",\"Craigallechie\",\"Craigallechie\",\"Craigallechie\",\"Craigallechie\",\"Craigallechie\",\"Craigallechie\",\"Craigallechie\",\"Craigallechie\",\"Glenlossie\",\"Glenlossie\",\"Glenlossie\",\"Glenlossie\",\"Glenlossie\",\"Glenlossie\",\"Glenlossie\",\"Glenlossie\",\"Glenlossie\",\"Glenlossie\",\"Glenlossie\",\"Glenlossie\",\"Glenlossie\",\"Glenlossie\",\"Glenlossie\",\"Glenlossie\",\"Glenlossie\",\"Glenlossie\",\"Glenlossie\",\"Glenlossie\",\"Glenlossie\",\"Glenlossie\",\"Glenlossie\",\"Glenlossie\",\"Glenlossie\",\"Glenlossie\",\"Glenlossie\",\"Glenlossie\",\"Glenlossie\",\"Glenlossie\",\"Glenlossie\",\"Glenlossie\",\"Glenlossie\",\"Glenlossie\",\"Glenlossie\",\"Glenlossie\",\"Glenlossie\",\"Glenlossie\",\"Glenlossie\",\"Glenlossie\",\"Glenlossie\",\"Glenlossie\",\"Glenlossie\",\"Glenlossie\",\"Glenlossie\",\"Glenlossie\",\"Glenlossie\",\"Glenlossie\",\"Glenlossie\",\"Glenlossie\",\"Glenlossie\",\"Glenlossie\",\"Glenlossie\",\"Glenlossie\",\"Glenlossie\",\"Glenlossie\",\"Glenlossie\",\"Glenlossie\",\"Glenlossie\",\"Glenlossie\",\"Glenlossie\",\"Glenlossie\",\"Glenlossie\",\"Glenlossie\",\"Glenlossie\",\"Glenlossie\",\"Glenlossie\",\"Glenlossie\",\"Glenlossie\",\"Glenlossie\",\"Glenlossie\",\"Glenlossie\",\"Glenlossie\",\"Glenlossie\",\"Glenlossie\",\"Glenlossie\",\"Glenlossie\",\"Glenlossie\",\"Glenlossie\",\"Glenlossie\",\"Glenlossie\",\"Glenlossie\",\"Glenlossie\",\"Glenlossie\",\"Glenlossie\",\"Glenlossie\",\"Laphroig\",\"Laphroig\",\"Laphroig\",\"Laphroig\",\"Laphroig\",\"Laphroig\",\"Laphroig\",\"Laphroig\",\"Laphroig\",\"Laphroig\",\"Laphroig\",\"Laphroig\",\"Laphroig\",\"Laphroig\",\"Laphroig\",\"Laphroig\",\"Laphroig\",\"Laphroig\",\"Laphroig\",\"Laphroig\",\"Laphroig\",\"Laphroig\",\"Laphroig\",\"Laphroig\",\"Laphroig\",\"Laphroig\",\"Laphroig\",\"Laphroig\",\"Laphroig\",\"Laphroig\",\"Laphroig\",\"Laphroig\",\"Laphroig\",\"Laphroig\",\"Laphroig\",\"Laphroig\",\"Laphroig\",\"Laphroig\",\"Laphroig\",\"Laphroig\",\"Laphroig\",\"Laphroig\",\"Laphroig\",\"Laphroig\",\"Laphroig\",\"Laphroig\",\"Laphroig\",\"Laphroig\",\"Laphroig\",\"Laphroig\",\"Laphroig\",\"Laphroig\",\"Laphroig\",\"Laphroig\",\"Laphroig\",\"Laphroig\",\"Laphroig\",\"Laphroig\",\"Laphroig\",\"Laphroig\",\"Laphroig\",\"Laphroig\",\"Laphroig\",\"Laphroig\",\"Laphroig\",\"Laphroig\",\"Laphroig\",\"Laphroig\",\"Laphroig\",\"Laphroig\",\"Laphroig\",\"Laphroig\",\"Laphroig\",\"Laphroig\",\"Laphroig\",\"Laphroig\",\"Laphroig\",\"Laphroig\",\"Laphroig\",\"Laphroig\",\"Laphroig\",\"Laphroig\",\"Laphroig\",\"Laphroig\",\"Laphroig\",\"Laphroig\",\"Clynelish\",\"Clynelish\",\"Clynelish\",\"Clynelish\",\"Clynelish\",\"Clynelish\",\"Clynelish\",\"Clynelish\",\"Clynelish\",\"Clynelish\",\"Clynelish\",\"Clynelish\",\"Clynelish\",\"Clynelish\",\"Clynelish\",\"Clynelish\",\"Clynelish\",\"Clynelish\",\"Clynelish\",\"Clynelish\",\"Clynelish\",\"Clynelish\",\"Clynelish\",\"Clynelish\",\"Clynelish\",\"Clynelish\",\"Clynelish\",\"Clynelish\",\"Clynelish\",\"Clynelish\",\"Clynelish\",\"Clynelish\",\"Clynelish\",\"Clynelish\",\"Clynelish\",\"Clynelish\",\"Clynelish\",\"Clynelish\",\"Clynelish\",\"Clynelish\",\"Clynelish\",\"Clynelish\",\"Clynelish\",\"Clynelish\",\"Clynelish\",\"Clynelish\",\"Clynelish\",\"Clynelish\",\"Clynelish\",\"Clynelish\",\"Clynelish\",\"Clynelish\",\"Clynelish\",\"Clynelish\",\"Clynelish\",\"Clynelish\",\"Clynelish\",\"Clynelish\",\"Clynelish\",\"Clynelish\",\"Clynelish\",\"Clynelish\",\"Clynelish\",\"Clynelish\",\"Clynelish\",\"Clynelish\",\"Clynelish\",\"Clynelish\",\"Clynelish\",\"Clynelish\",\"Clynelish\",\"Clynelish\",\"Clynelish\",\"Clynelish\",\"Clynelish\",\"Clynelish\",\"Clynelish\",\"Clynelish\",\"Clynelish\",\"Clynelish\",\"Clynelish\",\"Clynelish\",\"Clynelish\",\"Clynelish\",\"Clynelish\",\"Clynelish\",\"Talisker\",\"Talisker\",\"Talisker\",\"Talisker\",\"Talisker\",\"Talisker\",\"Talisker\",\"Talisker\",\"Talisker\",\"Talisker\",\"Talisker\",\"Talisker\",\"Talisker\",\"Talisker\",\"Talisker\",\"Talisker\",\"Talisker\",\"Talisker\",\"Talisker\",\"Talisker\",\"Talisker\",\"Talisker\",\"Talisker\",\"Talisker\",\"Talisker\",\"Talisker\",\"Talisker\",\"Talisker\",\"Talisker\",\"Talisker\",\"Talisker\",\"Talisker\",\"Talisker\",\"Talisker\",\"Talisker\",\"Talisker\",\"Talisker\",\"Talisker\",\"Talisker\",\"Talisker\",\"Talisker\",\"Talisker\",\"Talisker\",\"Talisker\",\"Talisker\",\"Talisker\",\"Talisker\",\"Talisker\",\"Talisker\",\"Talisker\",\"Talisker\",\"Talisker\",\"Talisker\",\"Talisker\",\"Talisker\",\"Talisker\",\"Talisker\",\"Talisker\",\"Talisker\",\"Talisker\",\"Talisker\",\"Talisker\",\"Talisker\",\"Talisker\",\"Talisker\",\"Talisker\",\"Talisker\",\"Talisker\",\"Talisker\",\"Talisker\",\"Talisker\",\"Talisker\",\"Talisker\",\"Talisker\",\"Talisker\",\"Talisker\",\"Talisker\",\"Talisker\",\"Talisker\",\"Talisker\",\"Talisker\",\"Talisker\",\"Talisker\",\"Talisker\",\"Talisker\",\"Talisker\",\"Ardbeg\",\"Ardbeg\",\"Ardbeg\",\"Ardbeg\",\"Ardbeg\",\"Ardbeg\",\"Ardbeg\",\"Ardbeg\",\"Ardbeg\",\"Ardbeg\",\"Ardbeg\",\"Ardbeg\",\"Ardbeg\",\"Ardbeg\",\"Ardbeg\",\"Ardbeg\",\"Ardbeg\",\"Ardbeg\",\"Ardbeg\",\"Ardbeg\",\"Ardbeg\",\"Ardbeg\",\"Ardbeg\",\"Ardbeg\",\"Ardbeg\",\"Ardbeg\",\"Ardbeg\",\"Ardbeg\",\"Ardbeg\",\"Ardbeg\",\"Ardbeg\",\"Ardbeg\",\"Ardbeg\",\"Ardbeg\",\"Ardbeg\",\"Ardbeg\",\"Ardbeg\",\"Ardbeg\",\"Ardbeg\",\"Ardbeg\",\"Ardbeg\",\"Ardbeg\",\"Ardbeg\",\"Ardbeg\",\"Ardbeg\",\"Ardbeg\",\"Ardbeg\",\"Ardbeg\",\"Ardbeg\",\"Ardbeg\",\"Ardbeg\",\"Ardbeg\",\"Ardbeg\",\"Ardbeg\",\"Ardbeg\",\"Ardbeg\",\"Ardbeg\",\"Ardbeg\",\"Ardbeg\",\"Ardbeg\",\"Ardbeg\",\"Ardbeg\",\"Ardbeg\",\"Ardbeg\",\"Ardbeg\",\"Ardbeg\",\"Ardbeg\",\"Ardbeg\",\"Ardbeg\",\"Ardbeg\",\"Ardbeg\",\"Ardbeg\",\"Ardbeg\",\"Ardbeg\",\"Ardbeg\",\"Ardbeg\",\"Ardbeg\",\"Ardbeg\",\"Ardbeg\",\"Ardbeg\",\"Ardbeg\",\"Ardbeg\",\"Ardbeg\",\"Ardbeg\",\"Ardbeg\",\"Ardbeg\",\"Lagavulin\",\"Lagavulin\",\"Lagavulin\",\"Lagavulin\",\"Lagavulin\",\"Lagavulin\",\"Lagavulin\",\"Lagavulin\",\"Lagavulin\",\"Lagavulin\",\"Lagavulin\",\"Lagavulin\",\"Lagavulin\",\"Lagavulin\",\"Lagavulin\",\"Lagavulin\",\"Lagavulin\",\"Lagavulin\",\"Lagavulin\",\"Lagavulin\",\"Lagavulin\",\"Lagavulin\",\"Lagavulin\",\"Lagavulin\",\"Lagavulin\",\"Lagavulin\",\"Lagavulin\",\"Lagavulin\",\"Lagavulin\",\"Lagavulin\",\"Lagavulin\",\"Lagavulin\",\"Lagavulin\",\"Lagavulin\",\"Lagavulin\",\"Lagavulin\",\"Lagavulin\",\"Lagavulin\",\"Lagavulin\",\"Lagavulin\",\"Lagavulin\",\"Lagavulin\",\"Lagavulin\",\"Lagavulin\",\"Lagavulin\",\"Lagavulin\",\"Lagavulin\",\"Lagavulin\",\"Lagavulin\",\"Lagavulin\",\"Lagavulin\",\"Lagavulin\",\"Lagavulin\",\"Lagavulin\",\"Lagavulin\",\"Lagavulin\",\"Lagavulin\",\"Lagavulin\",\"Lagavulin\",\"Lagavulin\",\"Lagavulin\",\"Lagavulin\",\"Lagavulin\",\"Lagavulin\",\"Lagavulin\",\"Lagavulin\",\"Lagavulin\",\"Lagavulin\",\"Lagavulin\",\"Lagavulin\",\"Lagavulin\",\"Lagavulin\",\"Lagavulin\",\"Lagavulin\",\"Lagavulin\",\"Lagavulin\",\"Lagavulin\",\"Lagavulin\",\"Lagavulin\",\"Lagavulin\",\"Lagavulin\",\"Lagavulin\",\"Lagavulin\",\"Lagavulin\",\"Lagavulin\",\"Lagavulin\",\"Caol Ila\",\"Caol Ila\",\"Caol Ila\",\"Caol Ila\",\"Caol Ila\",\"Caol Ila\",\"Caol Ila\",\"Caol Ila\",\"Caol Ila\",\"Caol Ila\",\"Caol Ila\",\"Caol Ila\",\"Caol Ila\",\"Caol Ila\",\"Caol Ila\",\"Caol Ila\",\"Caol Ila\",\"Caol Ila\",\"Caol Ila\",\"Caol Ila\",\"Caol Ila\",\"Caol Ila\",\"Caol Ila\",\"Caol Ila\",\"Caol Ila\",\"Caol Ila\",\"Caol Ila\",\"Caol Ila\",\"Caol Ila\",\"Caol Ila\",\"Caol Ila\",\"Caol Ila\",\"Caol Ila\",\"Caol Ila\",\"Caol Ila\",\"Caol Ila\",\"Caol Ila\",\"Caol Ila\",\"Caol Ila\",\"Caol Ila\",\"Caol Ila\",\"Caol Ila\",\"Caol Ila\",\"Caol Ila\",\"Caol Ila\",\"Caol Ila\",\"Caol Ila\",\"Caol Ila\",\"Caol Ila\",\"Caol Ila\",\"Caol Ila\",\"Caol Ila\",\"Caol Ila\",\"Caol Ila\",\"Caol Ila\",\"Caol Ila\",\"Caol Ila\",\"Caol Ila\",\"Caol Ila\",\"Caol Ila\",\"Caol Ila\",\"Caol Ila\",\"Caol Ila\",\"Caol Ila\",\"Caol Ila\",\"Caol Ila\",\"Caol Ila\",\"Caol Ila\",\"Caol Ila\",\"Caol Ila\",\"Caol Ila\",\"Caol Ila\",\"Caol Ila\",\"Caol Ila\",\"Caol Ila\",\"Caol Ila\",\"Caol Ila\",\"Caol Ila\",\"Caol Ila\",\"Caol Ila\",\"Caol Ila\",\"Caol Ila\",\"Caol Ila\",\"Caol Ila\",\"Caol Ila\",\"Caol Ila\",\"Tamdhu\",\"Tamdhu\",\"Tamdhu\",\"Tamdhu\",\"Tamdhu\",\"Tamdhu\",\"Tamdhu\",\"Tamdhu\",\"Tamdhu\",\"Tamdhu\",\"Tamdhu\",\"Tamdhu\",\"Tamdhu\",\"Tamdhu\",\"Tamdhu\",\"Tamdhu\",\"Tamdhu\",\"Tamdhu\",\"Tamdhu\",\"Tamdhu\",\"Tamdhu\",\"Tamdhu\",\"Tamdhu\",\"Tamdhu\",\"Tamdhu\",\"Tamdhu\",\"Tamdhu\",\"Tamdhu\",\"Tamdhu\",\"Tamdhu\",\"Tamdhu\",\"Tamdhu\",\"Tamdhu\",\"Tamdhu\",\"Tamdhu\",\"Tamdhu\",\"Tamdhu\",\"Tamdhu\",\"Tamdhu\",\"Tamdhu\",\"Tamdhu\",\"Tamdhu\",\"Tamdhu\",\"Tamdhu\",\"Tamdhu\",\"Tamdhu\",\"Tamdhu\",\"Tamdhu\",\"Tamdhu\",\"Tamdhu\",\"Tamdhu\",\"Tamdhu\",\"Tamdhu\",\"Tamdhu\",\"Tamdhu\",\"Tamdhu\",\"Tamdhu\",\"Tamdhu\",\"Tamdhu\",\"Tamdhu\",\"Tamdhu\",\"Tamdhu\",\"Tamdhu\",\"Tamdhu\",\"Tamdhu\",\"Tamdhu\",\"Tamdhu\",\"Tamdhu\",\"Tamdhu\",\"Tamdhu\",\"Tamdhu\",\"Tamdhu\",\"Tamdhu\",\"Tamdhu\",\"Tamdhu\",\"Tamdhu\",\"Tamdhu\",\"Tamdhu\",\"Tamdhu\",\"Tamdhu\",\"Tamdhu\",\"Tamdhu\",\"Tamdhu\",\"Tamdhu\",\"Tamdhu\",\"Tamdhu\",\"Strathisla\",\"Strathisla\",\"Strathisla\",\"Strathisla\",\"Strathisla\",\"Strathisla\",\"Strathisla\",\"Strathisla\",\"Strathisla\",\"Strathisla\",\"Strathisla\",\"Strathisla\",\"Strathisla\",\"Strathisla\",\"Strathisla\",\"Strathisla\",\"Strathisla\",\"Strathisla\",\"Strathisla\",\"Strathisla\",\"Strathisla\",\"Strathisla\",\"Strathisla\",\"Strathisla\",\"Strathisla\",\"Strathisla\",\"Strathisla\",\"Strathisla\",\"Strathisla\",\"Strathisla\",\"Strathisla\",\"Strathisla\",\"Strathisla\",\"Strathisla\",\"Strathisla\",\"Strathisla\",\"Strathisla\",\"Strathisla\",\"Strathisla\",\"Strathisla\",\"Strathisla\",\"Strathisla\",\"Strathisla\",\"Strathisla\",\"Strathisla\",\"Strathisla\",\"Strathisla\",\"Strathisla\",\"Strathisla\",\"Strathisla\",\"Strathisla\",\"Strathisla\",\"Strathisla\",\"Strathisla\",\"Strathisla\",\"Strathisla\",\"Strathisla\",\"Strathisla\",\"Strathisla\",\"Strathisla\",\"Strathisla\",\"Strathisla\",\"Strathisla\",\"Strathisla\",\"Strathisla\",\"Strathisla\",\"Strathisla\",\"Strathisla\",\"Strathisla\",\"Strathisla\",\"Strathisla\",\"Strathisla\",\"Strathisla\",\"Strathisla\",\"Strathisla\",\"Strathisla\",\"Strathisla\",\"Strathisla\",\"Strathisla\",\"Strathisla\",\"Strathisla\",\"Strathisla\",\"Strathisla\",\"Strathisla\",\"Strathisla\",\"Strathisla\",\"Ardmore\",\"Ardmore\",\"Ardmore\",\"Ardmore\",\"Ardmore\",\"Ardmore\",\"Ardmore\",\"Ardmore\",\"Ardmore\",\"Ardmore\",\"Ardmore\",\"Ardmore\",\"Ardmore\",\"Ardmore\",\"Ardmore\",\"Ardmore\",\"Ardmore\",\"Ardmore\",\"Ardmore\",\"Ardmore\",\"Ardmore\",\"Ardmore\",\"Ardmore\",\"Ardmore\",\"Ardmore\",\"Ardmore\",\"Ardmore\",\"Ardmore\",\"Ardmore\",\"Ardmore\",\"Ardmore\",\"Ardmore\",\"Ardmore\",\"Ardmore\",\"Ardmore\",\"Ardmore\",\"Ardmore\",\"Ardmore\",\"Ardmore\",\"Ardmore\",\"Ardmore\",\"Ardmore\",\"Ardmore\",\"Ardmore\",\"Ardmore\",\"Ardmore\",\"Ardmore\",\"Ardmore\",\"Ardmore\",\"Ardmore\",\"Ardmore\",\"Ardmore\",\"Ardmore\",\"Ardmore\",\"Ardmore\",\"Ardmore\",\"Ardmore\",\"Ardmore\",\"Ardmore\",\"Ardmore\",\"Ardmore\",\"Ardmore\",\"Ardmore\",\"Ardmore\",\"Ardmore\",\"Ardmore\",\"Ardmore\",\"Ardmore\",\"Ardmore\",\"Ardmore\",\"Ardmore\",\"Ardmore\",\"Ardmore\",\"Ardmore\",\"Ardmore\",\"Ardmore\",\"Ardmore\",\"Ardmore\",\"Ardmore\",\"Ardmore\",\"Ardmore\",\"Ardmore\",\"Ardmore\",\"Ardmore\",\"Ardmore\",\"Ardmore\",\"Speyside\",\"Speyside\",\"Speyside\",\"Speyside\",\"Speyside\",\"Speyside\",\"Speyside\",\"Speyside\",\"Speyside\",\"Speyside\",\"Speyside\",\"Speyside\",\"Speyside\",\"Speyside\",\"Speyside\",\"Speyside\",\"Speyside\",\"Speyside\",\"Speyside\",\"Speyside\",\"Speyside\",\"Speyside\",\"Speyside\",\"Speyside\",\"Speyside\",\"Speyside\",\"Speyside\",\"Speyside\",\"Speyside\",\"Speyside\",\"Speyside\",\"Speyside\",\"Speyside\",\"Speyside\",\"Speyside\",\"Speyside\",\"Speyside\",\"Speyside\",\"Speyside\",\"Speyside\",\"Speyside\",\"Speyside\",\"Speyside\",\"Speyside\",\"Speyside\",\"Speyside\",\"Speyside\",\"Speyside\",\"Speyside\",\"Speyside\",\"Speyside\",\"Speyside\",\"Speyside\",\"Speyside\",\"Speyside\",\"Speyside\",\"Speyside\",\"Speyside\",\"Speyside\",\"Speyside\",\"Speyside\",\"Speyside\",\"Speyside\",\"Speyside\",\"Speyside\",\"Speyside\",\"Speyside\",\"Speyside\",\"Speyside\",\"Speyside\",\"Speyside\",\"Speyside\",\"Speyside\",\"Speyside\",\"Speyside\",\"Speyside\",\"Speyside\",\"Speyside\",\"Speyside\",\"Speyside\",\"Speyside\",\"Speyside\",\"Speyside\",\"Speyside\",\"Speyside\",\"Speyside\",\"Longmorn\",\"Longmorn\",\"Longmorn\",\"Longmorn\",\"Longmorn\",\"Longmorn\",\"Longmorn\",\"Longmorn\",\"Longmorn\",\"Longmorn\",\"Longmorn\",\"Longmorn\",\"Longmorn\",\"Longmorn\",\"Longmorn\",\"Longmorn\",\"Longmorn\",\"Longmorn\",\"Longmorn\",\"Longmorn\",\"Longmorn\",\"Longmorn\",\"Longmorn\",\"Longmorn\",\"Longmorn\",\"Longmorn\",\"Longmorn\",\"Longmorn\",\"Longmorn\",\"Longmorn\",\"Longmorn\",\"Longmorn\",\"Longmorn\",\"Longmorn\",\"Longmorn\",\"Longmorn\",\"Longmorn\",\"Longmorn\",\"Longmorn\",\"Longmorn\",\"Longmorn\",\"Longmorn\",\"Longmorn\",\"Longmorn\",\"Longmorn\",\"Longmorn\",\"Longmorn\",\"Longmorn\",\"Longmorn\",\"Longmorn\",\"Longmorn\",\"Longmorn\",\"Longmorn\",\"Longmorn\",\"Longmorn\",\"Longmorn\",\"Longmorn\",\"Longmorn\",\"Longmorn\",\"Longmorn\",\"Longmorn\",\"Longmorn\",\"Longmorn\",\"Longmorn\",\"Longmorn\",\"Longmorn\",\"Longmorn\",\"Longmorn\",\"Longmorn\",\"Longmorn\",\"Longmorn\",\"Longmorn\",\"Longmorn\",\"Longmorn\",\"Longmorn\",\"Longmorn\",\"Longmorn\",\"Longmorn\",\"Longmorn\",\"Longmorn\",\"Longmorn\",\"Longmorn\",\"Longmorn\",\"Longmorn\",\"Longmorn\",\"Longmorn\",\"Aultmore\",\"Aultmore\",\"Aultmore\",\"Aultmore\",\"Aultmore\",\"Aultmore\",\"Aultmore\",\"Aultmore\",\"Aultmore\",\"Aultmore\",\"Aultmore\",\"Aultmore\",\"Aultmore\",\"Aultmore\",\"Aultmore\",\"Aultmore\",\"Aultmore\",\"Aultmore\",\"Aultmore\",\"Aultmore\",\"Aultmore\",\"Aultmore\",\"Aultmore\",\"Aultmore\",\"Aultmore\",\"Aultmore\",\"Aultmore\",\"Aultmore\",\"Aultmore\",\"Aultmore\",\"Aultmore\",\"Aultmore\",\"Aultmore\",\"Aultmore\",\"Aultmore\",\"Aultmore\",\"Aultmore\",\"Aultmore\",\"Aultmore\",\"Aultmore\",\"Aultmore\",\"Aultmore\",\"Aultmore\",\"Aultmore\",\"Aultmore\",\"Aultmore\",\"Aultmore\",\"Aultmore\",\"Aultmore\",\"Aultmore\",\"Aultmore\",\"Aultmore\",\"Aultmore\",\"Aultmore\",\"Aultmore\",\"Aultmore\",\"Aultmore\",\"Aultmore\",\"Aultmore\",\"Aultmore\",\"Aultmore\",\"Aultmore\",\"Aultmore\",\"Aultmore\",\"Aultmore\",\"Aultmore\",\"Aultmore\",\"Aultmore\",\"Aultmore\",\"Aultmore\",\"Aultmore\",\"Aultmore\",\"Aultmore\",\"Aultmore\",\"Aultmore\",\"Aultmore\",\"Aultmore\",\"Aultmore\",\"Aultmore\",\"Aultmore\",\"Aultmore\",\"Aultmore\",\"Aultmore\",\"Aultmore\",\"Aultmore\",\"Aultmore\",\"OldFettercairn\",\"OldFettercairn\",\"OldFettercairn\",\"OldFettercairn\",\"OldFettercairn\",\"OldFettercairn\",\"OldFettercairn\",\"OldFettercairn\",\"OldFettercairn\",\"OldFettercairn\",\"OldFettercairn\",\"OldFettercairn\",\"OldFettercairn\",\"OldFettercairn\",\"OldFettercairn\",\"OldFettercairn\",\"OldFettercairn\",\"OldFettercairn\",\"OldFettercairn\",\"OldFettercairn\",\"OldFettercairn\",\"OldFettercairn\",\"OldFettercairn\",\"OldFettercairn\",\"OldFettercairn\",\"OldFettercairn\",\"OldFettercairn\",\"OldFettercairn\",\"OldFettercairn\",\"OldFettercairn\",\"OldFettercairn\",\"OldFettercairn\",\"OldFettercairn\",\"OldFettercairn\",\"OldFettercairn\",\"OldFettercairn\",\"OldFettercairn\",\"OldFettercairn\",\"OldFettercairn\",\"OldFettercairn\",\"OldFettercairn\",\"OldFettercairn\",\"OldFettercairn\",\"OldFettercairn\",\"OldFettercairn\",\"OldFettercairn\",\"OldFettercairn\",\"OldFettercairn\",\"OldFettercairn\",\"OldFettercairn\",\"OldFettercairn\",\"OldFettercairn\",\"OldFettercairn\",\"OldFettercairn\",\"OldFettercairn\",\"OldFettercairn\",\"OldFettercairn\",\"OldFettercairn\",\"OldFettercairn\",\"OldFettercairn\",\"OldFettercairn\",\"OldFettercairn\",\"OldFettercairn\",\"OldFettercairn\",\"OldFettercairn\",\"OldFettercairn\",\"OldFettercairn\",\"OldFettercairn\",\"OldFettercairn\",\"OldFettercairn\",\"OldFettercairn\",\"OldFettercairn\",\"OldFettercairn\",\"OldFettercairn\",\"OldFettercairn\",\"OldFettercairn\",\"OldFettercairn\",\"OldFettercairn\",\"OldFettercairn\",\"OldFettercairn\",\"OldFettercairn\",\"OldFettercairn\",\"OldFettercairn\",\"OldFettercairn\",\"OldFettercairn\",\"OldFettercairn\",\"BenNevis\",\"BenNevis\",\"BenNevis\",\"BenNevis\",\"BenNevis\",\"BenNevis\",\"BenNevis\",\"BenNevis\",\"BenNevis\",\"BenNevis\",\"BenNevis\",\"BenNevis\",\"BenNevis\",\"BenNevis\",\"BenNevis\",\"BenNevis\",\"BenNevis\",\"BenNevis\",\"BenNevis\",\"BenNevis\",\"BenNevis\",\"BenNevis\",\"BenNevis\",\"BenNevis\",\"BenNevis\",\"BenNevis\",\"BenNevis\",\"BenNevis\",\"BenNevis\",\"BenNevis\",\"BenNevis\",\"BenNevis\",\"BenNevis\",\"BenNevis\",\"BenNevis\",\"BenNevis\",\"BenNevis\",\"BenNevis\",\"BenNevis\",\"BenNevis\",\"BenNevis\",\"BenNevis\",\"BenNevis\",\"BenNevis\",\"BenNevis\",\"BenNevis\",\"BenNevis\",\"BenNevis\",\"BenNevis\",\"BenNevis\",\"BenNevis\",\"BenNevis\",\"BenNevis\",\"BenNevis\",\"BenNevis\",\"BenNevis\",\"BenNevis\",\"BenNevis\",\"BenNevis\",\"BenNevis\",\"BenNevis\",\"BenNevis\",\"BenNevis\",\"BenNevis\",\"BenNevis\",\"BenNevis\",\"BenNevis\",\"BenNevis\",\"BenNevis\",\"BenNevis\",\"BenNevis\",\"BenNevis\",\"BenNevis\",\"BenNevis\",\"BenNevis\",\"BenNevis\",\"BenNevis\",\"BenNevis\",\"BenNevis\",\"BenNevis\",\"BenNevis\",\"BenNevis\",\"BenNevis\",\"BenNevis\",\"BenNevis\",\"BenNevis\",\"Miltonduff\",\"Miltonduff\",\"Miltonduff\",\"Miltonduff\",\"Miltonduff\",\"Miltonduff\",\"Miltonduff\",\"Miltonduff\",\"Miltonduff\",\"Miltonduff\",\"Miltonduff\",\"Miltonduff\",\"Miltonduff\",\"Miltonduff\",\"Miltonduff\",\"Miltonduff\",\"Miltonduff\",\"Miltonduff\",\"Miltonduff\",\"Miltonduff\",\"Miltonduff\",\"Miltonduff\",\"Miltonduff\",\"Miltonduff\",\"Miltonduff\",\"Miltonduff\",\"Miltonduff\",\"Miltonduff\",\"Miltonduff\",\"Miltonduff\",\"Miltonduff\",\"Miltonduff\",\"Miltonduff\",\"Miltonduff\",\"Miltonduff\",\"Miltonduff\",\"Miltonduff\",\"Miltonduff\",\"Miltonduff\",\"Miltonduff\",\"Miltonduff\",\"Miltonduff\",\"Miltonduff\",\"Miltonduff\",\"Miltonduff\",\"Miltonduff\",\"Miltonduff\",\"Miltonduff\",\"Miltonduff\",\"Miltonduff\",\"Miltonduff\",\"Miltonduff\",\"Miltonduff\",\"Miltonduff\",\"Miltonduff\",\"Miltonduff\",\"Miltonduff\",\"Miltonduff\",\"Miltonduff\",\"Miltonduff\",\"Miltonduff\",\"Miltonduff\",\"Miltonduff\",\"Miltonduff\",\"Miltonduff\",\"Miltonduff\",\"Miltonduff\",\"Miltonduff\",\"Miltonduff\",\"Miltonduff\",\"Miltonduff\",\"Miltonduff\",\"Miltonduff\",\"Miltonduff\",\"Miltonduff\",\"Miltonduff\",\"Miltonduff\",\"Miltonduff\",\"Miltonduff\",\"Miltonduff\",\"Miltonduff\",\"Miltonduff\",\"Miltonduff\",\"Miltonduff\",\"Miltonduff\",\"Miltonduff\",\"Mannochmore\",\"Mannochmore\",\"Mannochmore\",\"Mannochmore\",\"Mannochmore\",\"Mannochmore\",\"Mannochmore\",\"Mannochmore\",\"Mannochmore\",\"Mannochmore\",\"Mannochmore\",\"Mannochmore\",\"Mannochmore\",\"Mannochmore\",\"Mannochmore\",\"Mannochmore\",\"Mannochmore\",\"Mannochmore\",\"Mannochmore\",\"Mannochmore\",\"Mannochmore\",\"Mannochmore\",\"Mannochmore\",\"Mannochmore\",\"Mannochmore\",\"Mannochmore\",\"Mannochmore\",\"Mannochmore\",\"Mannochmore\",\"Mannochmore\",\"Mannochmore\",\"Mannochmore\",\"Mannochmore\",\"Mannochmore\",\"Mannochmore\",\"Mannochmore\",\"Mannochmore\",\"Mannochmore\",\"Mannochmore\",\"Mannochmore\",\"Mannochmore\",\"Mannochmore\",\"Mannochmore\",\"Mannochmore\",\"Mannochmore\",\"Mannochmore\",\"Mannochmore\",\"Mannochmore\",\"Mannochmore\",\"Mannochmore\",\"Mannochmore\",\"Mannochmore\",\"Mannochmore\",\"Mannochmore\",\"Mannochmore\",\"Mannochmore\",\"Mannochmore\",\"Mannochmore\",\"Mannochmore\",\"Mannochmore\",\"Mannochmore\",\"Mannochmore\",\"Mannochmore\",\"Mannochmore\",\"Mannochmore\",\"Mannochmore\",\"Mannochmore\",\"Mannochmore\",\"Mannochmore\",\"Mannochmore\",\"Mannochmore\",\"Mannochmore\",\"Mannochmore\",\"Mannochmore\",\"Mannochmore\",\"Mannochmore\",\"Mannochmore\",\"Mannochmore\",\"Mannochmore\",\"Mannochmore\",\"Mannochmore\",\"Mannochmore\",\"Mannochmore\",\"Mannochmore\",\"Mannochmore\",\"Mannochmore\",\"Benrinnes\",\"Benrinnes\",\"Benrinnes\",\"Benrinnes\",\"Benrinnes\",\"Benrinnes\",\"Benrinnes\",\"Benrinnes\",\"Benrinnes\",\"Benrinnes\",\"Benrinnes\",\"Benrinnes\",\"Benrinnes\",\"Benrinnes\",\"Benrinnes\",\"Benrinnes\",\"Benrinnes\",\"Benrinnes\",\"Benrinnes\",\"Benrinnes\",\"Benrinnes\",\"Benrinnes\",\"Benrinnes\",\"Benrinnes\",\"Benrinnes\",\"Benrinnes\",\"Benrinnes\",\"Benrinnes\",\"Benrinnes\",\"Benrinnes\",\"Benrinnes\",\"Benrinnes\",\"Benrinnes\",\"Benrinnes\",\"Benrinnes\",\"Benrinnes\",\"Benrinnes\",\"Benrinnes\",\"Benrinnes\",\"Benrinnes\",\"Benrinnes\",\"Benrinnes\",\"Benrinnes\",\"Benrinnes\",\"Benrinnes\",\"Benrinnes\",\"Benrinnes\",\"Benrinnes\",\"Benrinnes\",\"Benrinnes\",\"Benrinnes\",\"Benrinnes\",\"Benrinnes\",\"Benrinnes\",\"Benrinnes\",\"Benrinnes\",\"Benrinnes\",\"Benrinnes\",\"Benrinnes\",\"Benrinnes\",\"Benrinnes\",\"Benrinnes\",\"Benrinnes\",\"Benrinnes\",\"Benrinnes\",\"Benrinnes\",\"Benrinnes\",\"Benrinnes\",\"Benrinnes\",\"Benrinnes\",\"Benrinnes\",\"Benrinnes\",\"Benrinnes\",\"Benrinnes\",\"Benrinnes\",\"Benrinnes\",\"Benrinnes\",\"Benrinnes\",\"Benrinnes\",\"Benrinnes\",\"Benrinnes\",\"Benrinnes\",\"Benrinnes\",\"Benrinnes\",\"Benrinnes\",\"Benrinnes\",\"Benromach\",\"Benromach\",\"Benromach\",\"Benromach\",\"Benromach\",\"Benromach\",\"Benromach\",\"Benromach\",\"Benromach\",\"Benromach\",\"Benromach\",\"Benromach\",\"Benromach\",\"Benromach\",\"Benromach\",\"Benromach\",\"Benromach\",\"Benromach\",\"Benromach\",\"Benromach\",\"Benromach\",\"Benromach\",\"Benromach\",\"Benromach\",\"Benromach\",\"Benromach\",\"Benromach\",\"Benromach\",\"Benromach\",\"Benromach\",\"Benromach\",\"Benromach\",\"Benromach\",\"Benromach\",\"Benromach\",\"Benromach\",\"Benromach\",\"Benromach\",\"Benromach\",\"Benromach\",\"Benromach\",\"Benromach\",\"Benromach\",\"Benromach\",\"Benromach\",\"Benromach\",\"Benromach\",\"Benromach\",\"Benromach\",\"Benromach\",\"Benromach\",\"Benromach\",\"Benromach\",\"Benromach\",\"Benromach\",\"Benromach\",\"Benromach\",\"Benromach\",\"Benromach\",\"Benromach\",\"Benromach\",\"Benromach\",\"Benromach\",\"Benromach\",\"Benromach\",\"Benromach\",\"Benromach\",\"Benromach\",\"Benromach\",\"Benromach\",\"Benromach\",\"Benromach\",\"Benromach\",\"Benromach\",\"Benromach\",\"Benromach\",\"Benromach\",\"Benromach\",\"Benromach\",\"Benromach\",\"Benromach\",\"Benromach\",\"Benromach\",\"Benromach\",\"Benromach\",\"Benromach\",\"Knochando\",\"Knochando\",\"Knochando\",\"Knochando\",\"Knochando\",\"Knochando\",\"Knochando\",\"Knochando\",\"Knochando\",\"Knochando\",\"Knochando\",\"Knochando\",\"Knochando\",\"Knochando\",\"Knochando\",\"Knochando\",\"Knochando\",\"Knochando\",\"Knochando\",\"Knochando\",\"Knochando\",\"Knochando\",\"Knochando\",\"Knochando\",\"Knochando\",\"Knochando\",\"Knochando\",\"Knochando\",\"Knochando\",\"Knochando\",\"Knochando\",\"Knochando\",\"Knochando\",\"Knochando\",\"Knochando\",\"Knochando\",\"Knochando\",\"Knochando\",\"Knochando\",\"Knochando\",\"Knochando\",\"Knochando\",\"Knochando\",\"Knochando\",\"Knochando\",\"Knochando\",\"Knochando\",\"Knochando\",\"Knochando\",\"Knochando\",\"Knochando\",\"Knochando\",\"Knochando\",\"Knochando\",\"Knochando\",\"Knochando\",\"Knochando\",\"Knochando\",\"Knochando\",\"Knochando\",\"Knochando\",\"Knochando\",\"Knochando\",\"Knochando\",\"Knochando\",\"Knochando\",\"Knochando\",\"Knochando\",\"Knochando\",\"Knochando\",\"Knochando\",\"Knochando\",\"Knochando\",\"Knochando\",\"Knochando\",\"Knochando\",\"Knochando\",\"Knochando\",\"Knochando\",\"Knochando\",\"Knochando\",\"Knochando\",\"Knochando\",\"Knochando\",\"Knochando\",\"Knochando\",\"BlairAthol\",\"BlairAthol\",\"BlairAthol\",\"BlairAthol\",\"BlairAthol\",\"BlairAthol\",\"BlairAthol\",\"BlairAthol\",\"BlairAthol\",\"BlairAthol\",\"BlairAthol\",\"BlairAthol\",\"BlairAthol\",\"BlairAthol\",\"BlairAthol\",\"BlairAthol\",\"BlairAthol\",\"BlairAthol\",\"BlairAthol\",\"BlairAthol\",\"BlairAthol\",\"BlairAthol\",\"BlairAthol\",\"BlairAthol\",\"BlairAthol\",\"BlairAthol\",\"BlairAthol\",\"BlairAthol\",\"BlairAthol\",\"BlairAthol\",\"BlairAthol\",\"BlairAthol\",\"BlairAthol\",\"BlairAthol\",\"BlairAthol\",\"BlairAthol\",\"BlairAthol\",\"BlairAthol\",\"BlairAthol\",\"BlairAthol\",\"BlairAthol\",\"BlairAthol\",\"BlairAthol\",\"BlairAthol\",\"BlairAthol\",\"BlairAthol\",\"BlairAthol\",\"BlairAthol\",\"BlairAthol\",\"BlairAthol\",\"BlairAthol\",\"BlairAthol\",\"BlairAthol\",\"BlairAthol\",\"BlairAthol\",\"BlairAthol\",\"BlairAthol\",\"BlairAthol\",\"BlairAthol\",\"BlairAthol\",\"BlairAthol\",\"BlairAthol\",\"BlairAthol\",\"BlairAthol\",\"BlairAthol\",\"BlairAthol\",\"BlairAthol\",\"BlairAthol\",\"BlairAthol\",\"BlairAthol\",\"BlairAthol\",\"BlairAthol\",\"BlairAthol\",\"BlairAthol\",\"BlairAthol\",\"BlairAthol\",\"BlairAthol\",\"BlairAthol\",\"BlairAthol\",\"BlairAthol\",\"BlairAthol\",\"BlairAthol\",\"BlairAthol\",\"BlairAthol\",\"BlairAthol\",\"BlairAthol\",\"Glengoyne\",\"Glengoyne\",\"Glengoyne\",\"Glengoyne\",\"Glengoyne\",\"Glengoyne\",\"Glengoyne\",\"Glengoyne\",\"Glengoyne\",\"Glengoyne\",\"Glengoyne\",\"Glengoyne\",\"Glengoyne\",\"Glengoyne\",\"Glengoyne\",\"Glengoyne\",\"Glengoyne\",\"Glengoyne\",\"Glengoyne\",\"Glengoyne\",\"Glengoyne\",\"Glengoyne\",\"Glengoyne\",\"Glengoyne\",\"Glengoyne\",\"Glengoyne\",\"Glengoyne\",\"Glengoyne\",\"Glengoyne\",\"Glengoyne\",\"Glengoyne\",\"Glengoyne\",\"Glengoyne\",\"Glengoyne\",\"Glengoyne\",\"Glengoyne\",\"Glengoyne\",\"Glengoyne\",\"Glengoyne\",\"Glengoyne\",\"Glengoyne\",\"Glengoyne\",\"Glengoyne\",\"Glengoyne\",\"Glengoyne\",\"Glengoyne\",\"Glengoyne\",\"Glengoyne\",\"Glengoyne\",\"Glengoyne\",\"Glengoyne\",\"Glengoyne\",\"Glengoyne\",\"Glengoyne\",\"Glengoyne\",\"Glengoyne\",\"Glengoyne\",\"Glengoyne\",\"Glengoyne\",\"Glengoyne\",\"Glengoyne\",\"Glengoyne\",\"Glengoyne\",\"Glengoyne\",\"Glengoyne\",\"Glengoyne\",\"Glengoyne\",\"Glengoyne\",\"Glengoyne\",\"Glengoyne\",\"Glengoyne\",\"Glengoyne\",\"Glengoyne\",\"Glengoyne\",\"Glengoyne\",\"Glengoyne\",\"Glengoyne\",\"Glengoyne\",\"Glengoyne\",\"Glengoyne\",\"Glengoyne\",\"Glengoyne\",\"Glengoyne\",\"Glengoyne\",\"Glengoyne\",\"Glengoyne\",\"Edradour\",\"Edradour\",\"Edradour\",\"Edradour\",\"Edradour\",\"Edradour\",\"Edradour\",\"Edradour\",\"Edradour\",\"Edradour\",\"Edradour\",\"Edradour\",\"Edradour\",\"Edradour\",\"Edradour\",\"Edradour\",\"Edradour\",\"Edradour\",\"Edradour\",\"Edradour\",\"Edradour\",\"Edradour\",\"Edradour\",\"Edradour\",\"Edradour\",\"Edradour\",\"Edradour\",\"Edradour\",\"Edradour\",\"Edradour\",\"Edradour\",\"Edradour\",\"Edradour\",\"Edradour\",\"Edradour\",\"Edradour\",\"Edradour\",\"Edradour\",\"Edradour\",\"Edradour\",\"Edradour\",\"Edradour\",\"Edradour\",\"Edradour\",\"Edradour\",\"Edradour\",\"Edradour\",\"Edradour\",\"Edradour\",\"Edradour\",\"Edradour\",\"Edradour\",\"Edradour\",\"Edradour\",\"Edradour\",\"Edradour\",\"Edradour\",\"Edradour\",\"Edradour\",\"Edradour\",\"Edradour\",\"Edradour\",\"Edradour\",\"Edradour\",\"Edradour\",\"Edradour\",\"Edradour\",\"Edradour\",\"Edradour\",\"Edradour\",\"Edradour\",\"Edradour\",\"Edradour\",\"Edradour\",\"Edradour\",\"Edradour\",\"Edradour\",\"Edradour\",\"Edradour\",\"Edradour\",\"Edradour\",\"Edradour\",\"Edradour\",\"Edradour\",\"Edradour\",\"Edradour\",\"GlenGrant\",\"GlenGrant\",\"GlenGrant\",\"GlenGrant\",\"GlenGrant\",\"GlenGrant\",\"GlenGrant\",\"GlenGrant\",\"GlenGrant\",\"GlenGrant\",\"GlenGrant\",\"GlenGrant\",\"GlenGrant\",\"GlenGrant\",\"GlenGrant\",\"GlenGrant\",\"GlenGrant\",\"GlenGrant\",\"GlenGrant\",\"GlenGrant\",\"GlenGrant\",\"GlenGrant\",\"GlenGrant\",\"GlenGrant\",\"GlenGrant\",\"GlenGrant\",\"GlenGrant\",\"GlenGrant\",\"GlenGrant\",\"GlenGrant\",\"GlenGrant\",\"GlenGrant\",\"GlenGrant\",\"GlenGrant\",\"GlenGrant\",\"GlenGrant\",\"GlenGrant\",\"GlenGrant\",\"GlenGrant\",\"GlenGrant\",\"GlenGrant\",\"GlenGrant\",\"GlenGrant\",\"GlenGrant\",\"GlenGrant\",\"GlenGrant\",\"GlenGrant\",\"GlenGrant\",\"GlenGrant\",\"GlenGrant\",\"GlenGrant\",\"GlenGrant\",\"GlenGrant\",\"GlenGrant\",\"GlenGrant\",\"GlenGrant\",\"GlenGrant\",\"GlenGrant\",\"GlenGrant\",\"GlenGrant\",\"GlenGrant\",\"GlenGrant\",\"GlenGrant\",\"GlenGrant\",\"GlenGrant\",\"GlenGrant\",\"GlenGrant\",\"GlenGrant\",\"GlenGrant\",\"GlenGrant\",\"GlenGrant\",\"GlenGrant\",\"GlenGrant\",\"GlenGrant\",\"GlenGrant\",\"GlenGrant\",\"GlenGrant\",\"GlenGrant\",\"GlenGrant\",\"GlenGrant\",\"GlenGrant\",\"GlenGrant\",\"GlenGrant\",\"GlenGrant\",\"GlenGrant\",\"GlenGrant\",\"Scapa\",\"Scapa\",\"Scapa\",\"Scapa\",\"Scapa\",\"Scapa\",\"Scapa\",\"Scapa\",\"Scapa\",\"Scapa\",\"Scapa\",\"Scapa\",\"Scapa\",\"Scapa\",\"Scapa\",\"Scapa\",\"Scapa\",\"Scapa\",\"Scapa\",\"Scapa\",\"Scapa\",\"Scapa\",\"Scapa\",\"Scapa\",\"Scapa\",\"Scapa\",\"Scapa\",\"Scapa\",\"Scapa\",\"Scapa\",\"Scapa\",\"Scapa\",\"Scapa\",\"Scapa\",\"Scapa\",\"Scapa\",\"Scapa\",\"Scapa\",\"Scapa\",\"Scapa\",\"Scapa\",\"Scapa\",\"Scapa\",\"Scapa\",\"Scapa\",\"Scapa\",\"Scapa\",\"Scapa\",\"Scapa\",\"Scapa\",\"Scapa\",\"Scapa\",\"Scapa\",\"Scapa\",\"Scapa\",\"Scapa\",\"Scapa\",\"Scapa\",\"Scapa\",\"Scapa\",\"Scapa\",\"Scapa\",\"Scapa\",\"Scapa\",\"Scapa\",\"Scapa\",\"Scapa\",\"Scapa\",\"Scapa\",\"Scapa\",\"Scapa\",\"Scapa\",\"Scapa\",\"Scapa\",\"Scapa\",\"Scapa\",\"Scapa\",\"Scapa\",\"Scapa\",\"Scapa\",\"Scapa\",\"Scapa\",\"Scapa\",\"Scapa\",\"Scapa\",\"Scapa\",\"Aberfeldy\",\"Aberfeldy\",\"Aberfeldy\",\"Aberfeldy\",\"Aberfeldy\",\"Aberfeldy\",\"Aberfeldy\",\"Aberfeldy\",\"Aberfeldy\",\"Aberfeldy\",\"Aberfeldy\",\"Aberfeldy\",\"Aberfeldy\",\"Aberfeldy\",\"Aberfeldy\",\"Aberfeldy\",\"Aberfeldy\",\"Aberfeldy\",\"Aberfeldy\",\"Aberfeldy\",\"Aberfeldy\",\"Aberfeldy\",\"Aberfeldy\",\"Aberfeldy\",\"Aberfeldy\",\"Aberfeldy\",\"Aberfeldy\",\"Aberfeldy\",\"Aberfeldy\",\"Aberfeldy\",\"Aberfeldy\",\"Aberfeldy\",\"Aberfeldy\",\"Aberfeldy\",\"Aberfeldy\",\"Aberfeldy\",\"Aberfeldy\",\"Aberfeldy\",\"Aberfeldy\",\"Aberfeldy\",\"Aberfeldy\",\"Aberfeldy\",\"Aberfeldy\",\"Aberfeldy\",\"Aberfeldy\",\"Aberfeldy\",\"Aberfeldy\",\"Aberfeldy\",\"Aberfeldy\",\"Aberfeldy\",\"Aberfeldy\",\"Aberfeldy\",\"Aberfeldy\",\"Aberfeldy\",\"Aberfeldy\",\"Aberfeldy\",\"Aberfeldy\",\"Aberfeldy\",\"Aberfeldy\",\"Aberfeldy\",\"Aberfeldy\",\"Aberfeldy\",\"Aberfeldy\",\"Aberfeldy\",\"Aberfeldy\",\"Aberfeldy\",\"Aberfeldy\",\"Aberfeldy\",\"Aberfeldy\",\"Aberfeldy\",\"Aberfeldy\",\"Aberfeldy\",\"Aberfeldy\",\"Aberfeldy\",\"Aberfeldy\",\"Aberfeldy\",\"Aberfeldy\",\"Aberfeldy\",\"Aberfeldy\",\"Aberfeldy\",\"Aberfeldy\",\"Aberfeldy\",\"Aberfeldy\",\"Aberfeldy\",\"Aberfeldy\",\"Aberfeldy\"],\"shape\":[7396],\"dtype\":\"object\",\"order\":\"little\"}],[\"y\",[\"Tullibardine\",\"GlenElgin\",\"GlenDeveronMacduff\",\"GlenSpey\",\"Glenfiddich\",\"Glenkinchie\",\"Glenlivet\",\"Inchgower\",\"Bowmore\",\"GlenGarioch\",\"Bladnoch\",\"Linkwood\",\"Benriach\",\"GlenOrd\",\"Speyburn\",\"Belvenie\",\"Tomintoul\",\"RoyalBrackla\",\"Teaninich\",\"ArranIsleOf\",\"GlenScotia\",\"Isle of Jura\",\"Bruichladdich\",\"OldPulteney\",\"Oban\",\"Glenturret\",\"Glenrothes\",\"Mortlach\",\"RoyalLochnagar\",\"Springbank\",\"Glenfarclas\",\"Glendullan\",\"Tormore\",\"Tomatin\",\"Highland Park\",\"Macallan\",\"Glendronach\",\"Auchroisk\",\"Aberlour\",\"Balmenach\",\"Deanston\",\"GlenKeith\",\"Dalmore\",\"Dailuaine\",\"Balblair\",\"Strathmill\",\"Loch Lomond\",\"Tamnavulin\",\"Bunnahabhain\",\"Auchentoshan\",\"Cardhu\",\"GlenMoray\",\"Glenmorangie\",\"AnCnoc\",\"Dufftown\",\"Glenallachie\",\"Tobermory\",\"Dalwhinnie\",\"Craigganmore\",\"Craigallechie\",\"Glenlossie\",\"Laphroig\",\"Clynelish\",\"Talisker\",\"Ardbeg\",\"Lagavulin\",\"Caol Ila\",\"Tamdhu\",\"Strathisla\",\"Ardmore\",\"Speyside\",\"Longmorn\",\"Aultmore\",\"OldFettercairn\",\"BenNevis\",\"Miltonduff\",\"Mannochmore\",\"Benrinnes\",\"Benromach\",\"Knochando\",\"BlairAthol\",\"Glengoyne\",\"Edradour\",\"GlenGrant\",\"Scapa\",\"Aberfeldy\",\"Tullibardine\",\"GlenElgin\",\"GlenDeveronMacduff\",\"GlenSpey\",\"Glenfiddich\",\"Glenkinchie\",\"Glenlivet\",\"Inchgower\",\"Bowmore\",\"GlenGarioch\",\"Bladnoch\",\"Linkwood\",\"Benriach\",\"GlenOrd\",\"Speyburn\",\"Belvenie\",\"Tomintoul\",\"RoyalBrackla\",\"Teaninich\",\"ArranIsleOf\",\"GlenScotia\",\"Isle of Jura\",\"Bruichladdich\",\"OldPulteney\",\"Oban\",\"Glenturret\",\"Glenrothes\",\"Mortlach\",\"RoyalLochnagar\",\"Springbank\",\"Glenfarclas\",\"Glendullan\",\"Tormore\",\"Tomatin\",\"Highland Park\",\"Macallan\",\"Glendronach\",\"Auchroisk\",\"Aberlour\",\"Balmenach\",\"Deanston\",\"GlenKeith\",\"Dalmore\",\"Dailuaine\",\"Balblair\",\"Strathmill\",\"Loch Lomond\",\"Tamnavulin\",\"Bunnahabhain\",\"Auchentoshan\",\"Cardhu\",\"GlenMoray\",\"Glenmorangie\",\"AnCnoc\",\"Dufftown\",\"Glenallachie\",\"Tobermory\",\"Dalwhinnie\",\"Craigganmore\",\"Craigallechie\",\"Glenlossie\",\"Laphroig\",\"Clynelish\",\"Talisker\",\"Ardbeg\",\"Lagavulin\",\"Caol Ila\",\"Tamdhu\",\"Strathisla\",\"Ardmore\",\"Speyside\",\"Longmorn\",\"Aultmore\",\"OldFettercairn\",\"BenNevis\",\"Miltonduff\",\"Mannochmore\",\"Benrinnes\",\"Benromach\",\"Knochando\",\"BlairAthol\",\"Glengoyne\",\"Edradour\",\"GlenGrant\",\"Scapa\",\"Aberfeldy\",\"Tullibardine\",\"GlenElgin\",\"GlenDeveronMacduff\",\"GlenSpey\",\"Glenfiddich\",\"Glenkinchie\",\"Glenlivet\",\"Inchgower\",\"Bowmore\",\"GlenGarioch\",\"Bladnoch\",\"Linkwood\",\"Benriach\",\"GlenOrd\",\"Speyburn\",\"Belvenie\",\"Tomintoul\",\"RoyalBrackla\",\"Teaninich\",\"ArranIsleOf\",\"GlenScotia\",\"Isle of Jura\",\"Bruichladdich\",\"OldPulteney\",\"Oban\",\"Glenturret\",\"Glenrothes\",\"Mortlach\",\"RoyalLochnagar\",\"Springbank\",\"Glenfarclas\",\"Glendullan\",\"Tormore\",\"Tomatin\",\"Highland Park\",\"Macallan\",\"Glendronach\",\"Auchroisk\",\"Aberlour\",\"Balmenach\",\"Deanston\",\"GlenKeith\",\"Dalmore\",\"Dailuaine\",\"Balblair\",\"Strathmill\",\"Loch Lomond\",\"Tamnavulin\",\"Bunnahabhain\",\"Auchentoshan\",\"Cardhu\",\"GlenMoray\",\"Glenmorangie\",\"AnCnoc\",\"Dufftown\",\"Glenallachie\",\"Tobermory\",\"Dalwhinnie\",\"Craigganmore\",\"Craigallechie\",\"Glenlossie\",\"Laphroig\",\"Clynelish\",\"Talisker\",\"Ardbeg\",\"Lagavulin\",\"Caol Ila\",\"Tamdhu\",\"Strathisla\",\"Ardmore\",\"Speyside\",\"Longmorn\",\"Aultmore\",\"OldFettercairn\",\"BenNevis\",\"Miltonduff\",\"Mannochmore\",\"Benrinnes\",\"Benromach\",\"Knochando\",\"BlairAthol\",\"Glengoyne\",\"Edradour\",\"GlenGrant\",\"Scapa\",\"Aberfeldy\",\"Tullibardine\",\"GlenElgin\",\"GlenDeveronMacduff\",\"GlenSpey\",\"Glenfiddich\",\"Glenkinchie\",\"Glenlivet\",\"Inchgower\",\"Bowmore\",\"GlenGarioch\",\"Bladnoch\",\"Linkwood\",\"Benriach\",\"GlenOrd\",\"Speyburn\",\"Belvenie\",\"Tomintoul\",\"RoyalBrackla\",\"Teaninich\",\"ArranIsleOf\",\"GlenScotia\",\"Isle of Jura\",\"Bruichladdich\",\"OldPulteney\",\"Oban\",\"Glenturret\",\"Glenrothes\",\"Mortlach\",\"RoyalLochnagar\",\"Springbank\",\"Glenfarclas\",\"Glendullan\",\"Tormore\",\"Tomatin\",\"Highland Park\",\"Macallan\",\"Glendronach\",\"Auchroisk\",\"Aberlour\",\"Balmenach\",\"Deanston\",\"GlenKeith\",\"Dalmore\",\"Dailuaine\",\"Balblair\",\"Strathmill\",\"Loch Lomond\",\"Tamnavulin\",\"Bunnahabhain\",\"Auchentoshan\",\"Cardhu\",\"GlenMoray\",\"Glenmorangie\",\"AnCnoc\",\"Dufftown\",\"Glenallachie\",\"Tobermory\",\"Dalwhinnie\",\"Craigganmore\",\"Craigallechie\",\"Glenlossie\",\"Laphroig\",\"Clynelish\",\"Talisker\",\"Ardbeg\",\"Lagavulin\",\"Caol Ila\",\"Tamdhu\",\"Strathisla\",\"Ardmore\",\"Speyside\",\"Longmorn\",\"Aultmore\",\"OldFettercairn\",\"BenNevis\",\"Miltonduff\",\"Mannochmore\",\"Benrinnes\",\"Benromach\",\"Knochando\",\"BlairAthol\",\"Glengoyne\",\"Edradour\",\"GlenGrant\",\"Scapa\",\"Aberfeldy\",\"Tullibardine\",\"GlenElgin\",\"GlenDeveronMacduff\",\"GlenSpey\",\"Glenfiddich\",\"Glenkinchie\",\"Glenlivet\",\"Inchgower\",\"Bowmore\",\"GlenGarioch\",\"Bladnoch\",\"Linkwood\",\"Benriach\",\"GlenOrd\",\"Speyburn\",\"Belvenie\",\"Tomintoul\",\"RoyalBrackla\",\"Teaninich\",\"ArranIsleOf\",\"GlenScotia\",\"Isle of Jura\",\"Bruichladdich\",\"OldPulteney\",\"Oban\",\"Glenturret\",\"Glenrothes\",\"Mortlach\",\"RoyalLochnagar\",\"Springbank\",\"Glenfarclas\",\"Glendullan\",\"Tormore\",\"Tomatin\",\"Highland Park\",\"Macallan\",\"Glendronach\",\"Auchroisk\",\"Aberlour\",\"Balmenach\",\"Deanston\",\"GlenKeith\",\"Dalmore\",\"Dailuaine\",\"Balblair\",\"Strathmill\",\"Loch Lomond\",\"Tamnavulin\",\"Bunnahabhain\",\"Auchentoshan\",\"Cardhu\",\"GlenMoray\",\"Glenmorangie\",\"AnCnoc\",\"Dufftown\",\"Glenallachie\",\"Tobermory\",\"Dalwhinnie\",\"Craigganmore\",\"Craigallechie\",\"Glenlossie\",\"Laphroig\",\"Clynelish\",\"Talisker\",\"Ardbeg\",\"Lagavulin\",\"Caol Ila\",\"Tamdhu\",\"Strathisla\",\"Ardmore\",\"Speyside\",\"Longmorn\",\"Aultmore\",\"OldFettercairn\",\"BenNevis\",\"Miltonduff\",\"Mannochmore\",\"Benrinnes\",\"Benromach\",\"Knochando\",\"BlairAthol\",\"Glengoyne\",\"Edradour\",\"GlenGrant\",\"Scapa\",\"Aberfeldy\",\"Tullibardine\",\"GlenElgin\",\"GlenDeveronMacduff\",\"GlenSpey\",\"Glenfiddich\",\"Glenkinchie\",\"Glenlivet\",\"Inchgower\",\"Bowmore\",\"GlenGarioch\",\"Bladnoch\",\"Linkwood\",\"Benriach\",\"GlenOrd\",\"Speyburn\",\"Belvenie\",\"Tomintoul\",\"RoyalBrackla\",\"Teaninich\",\"ArranIsleOf\",\"GlenScotia\",\"Isle of Jura\",\"Bruichladdich\",\"OldPulteney\",\"Oban\",\"Glenturret\",\"Glenrothes\",\"Mortlach\",\"RoyalLochnagar\",\"Springbank\",\"Glenfarclas\",\"Glendullan\",\"Tormore\",\"Tomatin\",\"Highland Park\",\"Macallan\",\"Glendronach\",\"Auchroisk\",\"Aberlour\",\"Balmenach\",\"Deanston\",\"GlenKeith\",\"Dalmore\",\"Dailuaine\",\"Balblair\",\"Strathmill\",\"Loch Lomond\",\"Tamnavulin\",\"Bunnahabhain\",\"Auchentoshan\",\"Cardhu\",\"GlenMoray\",\"Glenmorangie\",\"AnCnoc\",\"Dufftown\",\"Glenallachie\",\"Tobermory\",\"Dalwhinnie\",\"Craigganmore\",\"Craigallechie\",\"Glenlossie\",\"Laphroig\",\"Clynelish\",\"Talisker\",\"Ardbeg\",\"Lagavulin\",\"Caol Ila\",\"Tamdhu\",\"Strathisla\",\"Ardmore\",\"Speyside\",\"Longmorn\",\"Aultmore\",\"OldFettercairn\",\"BenNevis\",\"Miltonduff\",\"Mannochmore\",\"Benrinnes\",\"Benromach\",\"Knochando\",\"BlairAthol\",\"Glengoyne\",\"Edradour\",\"GlenGrant\",\"Scapa\",\"Aberfeldy\",\"Tullibardine\",\"GlenElgin\",\"GlenDeveronMacduff\",\"GlenSpey\",\"Glenfiddich\",\"Glenkinchie\",\"Glenlivet\",\"Inchgower\",\"Bowmore\",\"GlenGarioch\",\"Bladnoch\",\"Linkwood\",\"Benriach\",\"GlenOrd\",\"Speyburn\",\"Belvenie\",\"Tomintoul\",\"RoyalBrackla\",\"Teaninich\",\"ArranIsleOf\",\"GlenScotia\",\"Isle of Jura\",\"Bruichladdich\",\"OldPulteney\",\"Oban\",\"Glenturret\",\"Glenrothes\",\"Mortlach\",\"RoyalLochnagar\",\"Springbank\",\"Glenfarclas\",\"Glendullan\",\"Tormore\",\"Tomatin\",\"Highland Park\",\"Macallan\",\"Glendronach\",\"Auchroisk\",\"Aberlour\",\"Balmenach\",\"Deanston\",\"GlenKeith\",\"Dalmore\",\"Dailuaine\",\"Balblair\",\"Strathmill\",\"Loch Lomond\",\"Tamnavulin\",\"Bunnahabhain\",\"Auchentoshan\",\"Cardhu\",\"GlenMoray\",\"Glenmorangie\",\"AnCnoc\",\"Dufftown\",\"Glenallachie\",\"Tobermory\",\"Dalwhinnie\",\"Craigganmore\",\"Craigallechie\",\"Glenlossie\",\"Laphroig\",\"Clynelish\",\"Talisker\",\"Ardbeg\",\"Lagavulin\",\"Caol Ila\",\"Tamdhu\",\"Strathisla\",\"Ardmore\",\"Speyside\",\"Longmorn\",\"Aultmore\",\"OldFettercairn\",\"BenNevis\",\"Miltonduff\",\"Mannochmore\",\"Benrinnes\",\"Benromach\",\"Knochando\",\"BlairAthol\",\"Glengoyne\",\"Edradour\",\"GlenGrant\",\"Scapa\",\"Aberfeldy\",\"Tullibardine\",\"GlenElgin\",\"GlenDeveronMacduff\",\"GlenSpey\",\"Glenfiddich\",\"Glenkinchie\",\"Glenlivet\",\"Inchgower\",\"Bowmore\",\"GlenGarioch\",\"Bladnoch\",\"Linkwood\",\"Benriach\",\"GlenOrd\",\"Speyburn\",\"Belvenie\",\"Tomintoul\",\"RoyalBrackla\",\"Teaninich\",\"ArranIsleOf\",\"GlenScotia\",\"Isle of Jura\",\"Bruichladdich\",\"OldPulteney\",\"Oban\",\"Glenturret\",\"Glenrothes\",\"Mortlach\",\"RoyalLochnagar\",\"Springbank\",\"Glenfarclas\",\"Glendullan\",\"Tormore\",\"Tomatin\",\"Highland Park\",\"Macallan\",\"Glendronach\",\"Auchroisk\",\"Aberlour\",\"Balmenach\",\"Deanston\",\"GlenKeith\",\"Dalmore\",\"Dailuaine\",\"Balblair\",\"Strathmill\",\"Loch Lomond\",\"Tamnavulin\",\"Bunnahabhain\",\"Auchentoshan\",\"Cardhu\",\"GlenMoray\",\"Glenmorangie\",\"AnCnoc\",\"Dufftown\",\"Glenallachie\",\"Tobermory\",\"Dalwhinnie\",\"Craigganmore\",\"Craigallechie\",\"Glenlossie\",\"Laphroig\",\"Clynelish\",\"Talisker\",\"Ardbeg\",\"Lagavulin\",\"Caol Ila\",\"Tamdhu\",\"Strathisla\",\"Ardmore\",\"Speyside\",\"Longmorn\",\"Aultmore\",\"OldFettercairn\",\"BenNevis\",\"Miltonduff\",\"Mannochmore\",\"Benrinnes\",\"Benromach\",\"Knochando\",\"BlairAthol\",\"Glengoyne\",\"Edradour\",\"GlenGrant\",\"Scapa\",\"Aberfeldy\",\"Tullibardine\",\"GlenElgin\",\"GlenDeveronMacduff\",\"GlenSpey\",\"Glenfiddich\",\"Glenkinchie\",\"Glenlivet\",\"Inchgower\",\"Bowmore\",\"GlenGarioch\",\"Bladnoch\",\"Linkwood\",\"Benriach\",\"GlenOrd\",\"Speyburn\",\"Belvenie\",\"Tomintoul\",\"RoyalBrackla\",\"Teaninich\",\"ArranIsleOf\",\"GlenScotia\",\"Isle of Jura\",\"Bruichladdich\",\"OldPulteney\",\"Oban\",\"Glenturret\",\"Glenrothes\",\"Mortlach\",\"RoyalLochnagar\",\"Springbank\",\"Glenfarclas\",\"Glendullan\",\"Tormore\",\"Tomatin\",\"Highland Park\",\"Macallan\",\"Glendronach\",\"Auchroisk\",\"Aberlour\",\"Balmenach\",\"Deanston\",\"GlenKeith\",\"Dalmore\",\"Dailuaine\",\"Balblair\",\"Strathmill\",\"Loch Lomond\",\"Tamnavulin\",\"Bunnahabhain\",\"Auchentoshan\",\"Cardhu\",\"GlenMoray\",\"Glenmorangie\",\"AnCnoc\",\"Dufftown\",\"Glenallachie\",\"Tobermory\",\"Dalwhinnie\",\"Craigganmore\",\"Craigallechie\",\"Glenlossie\",\"Laphroig\",\"Clynelish\",\"Talisker\",\"Ardbeg\",\"Lagavulin\",\"Caol Ila\",\"Tamdhu\",\"Strathisla\",\"Ardmore\",\"Speyside\",\"Longmorn\",\"Aultmore\",\"OldFettercairn\",\"BenNevis\",\"Miltonduff\",\"Mannochmore\",\"Benrinnes\",\"Benromach\",\"Knochando\",\"BlairAthol\",\"Glengoyne\",\"Edradour\",\"GlenGrant\",\"Scapa\",\"Aberfeldy\",\"Tullibardine\",\"GlenElgin\",\"GlenDeveronMacduff\",\"GlenSpey\",\"Glenfiddich\",\"Glenkinchie\",\"Glenlivet\",\"Inchgower\",\"Bowmore\",\"GlenGarioch\",\"Bladnoch\",\"Linkwood\",\"Benriach\",\"GlenOrd\",\"Speyburn\",\"Belvenie\",\"Tomintoul\",\"RoyalBrackla\",\"Teaninich\",\"ArranIsleOf\",\"GlenScotia\",\"Isle of Jura\",\"Bruichladdich\",\"OldPulteney\",\"Oban\",\"Glenturret\",\"Glenrothes\",\"Mortlach\",\"RoyalLochnagar\",\"Springbank\",\"Glenfarclas\",\"Glendullan\",\"Tormore\",\"Tomatin\",\"Highland Park\",\"Macallan\",\"Glendronach\",\"Auchroisk\",\"Aberlour\",\"Balmenach\",\"Deanston\",\"GlenKeith\",\"Dalmore\",\"Dailuaine\",\"Balblair\",\"Strathmill\",\"Loch Lomond\",\"Tamnavulin\",\"Bunnahabhain\",\"Auchentoshan\",\"Cardhu\",\"GlenMoray\",\"Glenmorangie\",\"AnCnoc\",\"Dufftown\",\"Glenallachie\",\"Tobermory\",\"Dalwhinnie\",\"Craigganmore\",\"Craigallechie\",\"Glenlossie\",\"Laphroig\",\"Clynelish\",\"Talisker\",\"Ardbeg\",\"Lagavulin\",\"Caol Ila\",\"Tamdhu\",\"Strathisla\",\"Ardmore\",\"Speyside\",\"Longmorn\",\"Aultmore\",\"OldFettercairn\",\"BenNevis\",\"Miltonduff\",\"Mannochmore\",\"Benrinnes\",\"Benromach\",\"Knochando\",\"BlairAthol\",\"Glengoyne\",\"Edradour\",\"GlenGrant\",\"Scapa\",\"Aberfeldy\",\"Tullibardine\",\"GlenElgin\",\"GlenDeveronMacduff\",\"GlenSpey\",\"Glenfiddich\",\"Glenkinchie\",\"Glenlivet\",\"Inchgower\",\"Bowmore\",\"GlenGarioch\",\"Bladnoch\",\"Linkwood\",\"Benriach\",\"GlenOrd\",\"Speyburn\",\"Belvenie\",\"Tomintoul\",\"RoyalBrackla\",\"Teaninich\",\"ArranIsleOf\",\"GlenScotia\",\"Isle of Jura\",\"Bruichladdich\",\"OldPulteney\",\"Oban\",\"Glenturret\",\"Glenrothes\",\"Mortlach\",\"RoyalLochnagar\",\"Springbank\",\"Glenfarclas\",\"Glendullan\",\"Tormore\",\"Tomatin\",\"Highland Park\",\"Macallan\",\"Glendronach\",\"Auchroisk\",\"Aberlour\",\"Balmenach\",\"Deanston\",\"GlenKeith\",\"Dalmore\",\"Dailuaine\",\"Balblair\",\"Strathmill\",\"Loch Lomond\",\"Tamnavulin\",\"Bunnahabhain\",\"Auchentoshan\",\"Cardhu\",\"GlenMoray\",\"Glenmorangie\",\"AnCnoc\",\"Dufftown\",\"Glenallachie\",\"Tobermory\",\"Dalwhinnie\",\"Craigganmore\",\"Craigallechie\",\"Glenlossie\",\"Laphroig\",\"Clynelish\",\"Talisker\",\"Ardbeg\",\"Lagavulin\",\"Caol Ila\",\"Tamdhu\",\"Strathisla\",\"Ardmore\",\"Speyside\",\"Longmorn\",\"Aultmore\",\"OldFettercairn\",\"BenNevis\",\"Miltonduff\",\"Mannochmore\",\"Benrinnes\",\"Benromach\",\"Knochando\",\"BlairAthol\",\"Glengoyne\",\"Edradour\",\"GlenGrant\",\"Scapa\",\"Aberfeldy\",\"Tullibardine\",\"GlenElgin\",\"GlenDeveronMacduff\",\"GlenSpey\",\"Glenfiddich\",\"Glenkinchie\",\"Glenlivet\",\"Inchgower\",\"Bowmore\",\"GlenGarioch\",\"Bladnoch\",\"Linkwood\",\"Benriach\",\"GlenOrd\",\"Speyburn\",\"Belvenie\",\"Tomintoul\",\"RoyalBrackla\",\"Teaninich\",\"ArranIsleOf\",\"GlenScotia\",\"Isle of Jura\",\"Bruichladdich\",\"OldPulteney\",\"Oban\",\"Glenturret\",\"Glenrothes\",\"Mortlach\",\"RoyalLochnagar\",\"Springbank\",\"Glenfarclas\",\"Glendullan\",\"Tormore\",\"Tomatin\",\"Highland Park\",\"Macallan\",\"Glendronach\",\"Auchroisk\",\"Aberlour\",\"Balmenach\",\"Deanston\",\"GlenKeith\",\"Dalmore\",\"Dailuaine\",\"Balblair\",\"Strathmill\",\"Loch Lomond\",\"Tamnavulin\",\"Bunnahabhain\",\"Auchentoshan\",\"Cardhu\",\"GlenMoray\",\"Glenmorangie\",\"AnCnoc\",\"Dufftown\",\"Glenallachie\",\"Tobermory\",\"Dalwhinnie\",\"Craigganmore\",\"Craigallechie\",\"Glenlossie\",\"Laphroig\",\"Clynelish\",\"Talisker\",\"Ardbeg\",\"Lagavulin\",\"Caol Ila\",\"Tamdhu\",\"Strathisla\",\"Ardmore\",\"Speyside\",\"Longmorn\",\"Aultmore\",\"OldFettercairn\",\"BenNevis\",\"Miltonduff\",\"Mannochmore\",\"Benrinnes\",\"Benromach\",\"Knochando\",\"BlairAthol\",\"Glengoyne\",\"Edradour\",\"GlenGrant\",\"Scapa\",\"Aberfeldy\",\"Tullibardine\",\"GlenElgin\",\"GlenDeveronMacduff\",\"GlenSpey\",\"Glenfiddich\",\"Glenkinchie\",\"Glenlivet\",\"Inchgower\",\"Bowmore\",\"GlenGarioch\",\"Bladnoch\",\"Linkwood\",\"Benriach\",\"GlenOrd\",\"Speyburn\",\"Belvenie\",\"Tomintoul\",\"RoyalBrackla\",\"Teaninich\",\"ArranIsleOf\",\"GlenScotia\",\"Isle of Jura\",\"Bruichladdich\",\"OldPulteney\",\"Oban\",\"Glenturret\",\"Glenrothes\",\"Mortlach\",\"RoyalLochnagar\",\"Springbank\",\"Glenfarclas\",\"Glendullan\",\"Tormore\",\"Tomatin\",\"Highland Park\",\"Macallan\",\"Glendronach\",\"Auchroisk\",\"Aberlour\",\"Balmenach\",\"Deanston\",\"GlenKeith\",\"Dalmore\",\"Dailuaine\",\"Balblair\",\"Strathmill\",\"Loch Lomond\",\"Tamnavulin\",\"Bunnahabhain\",\"Auchentoshan\",\"Cardhu\",\"GlenMoray\",\"Glenmorangie\",\"AnCnoc\",\"Dufftown\",\"Glenallachie\",\"Tobermory\",\"Dalwhinnie\",\"Craigganmore\",\"Craigallechie\",\"Glenlossie\",\"Laphroig\",\"Clynelish\",\"Talisker\",\"Ardbeg\",\"Lagavulin\",\"Caol Ila\",\"Tamdhu\",\"Strathisla\",\"Ardmore\",\"Speyside\",\"Longmorn\",\"Aultmore\",\"OldFettercairn\",\"BenNevis\",\"Miltonduff\",\"Mannochmore\",\"Benrinnes\",\"Benromach\",\"Knochando\",\"BlairAthol\",\"Glengoyne\",\"Edradour\",\"GlenGrant\",\"Scapa\",\"Aberfeldy\",\"Tullibardine\",\"GlenElgin\",\"GlenDeveronMacduff\",\"GlenSpey\",\"Glenfiddich\",\"Glenkinchie\",\"Glenlivet\",\"Inchgower\",\"Bowmore\",\"GlenGarioch\",\"Bladnoch\",\"Linkwood\",\"Benriach\",\"GlenOrd\",\"Speyburn\",\"Belvenie\",\"Tomintoul\",\"RoyalBrackla\",\"Teaninich\",\"ArranIsleOf\",\"GlenScotia\",\"Isle of Jura\",\"Bruichladdich\",\"OldPulteney\",\"Oban\",\"Glenturret\",\"Glenrothes\",\"Mortlach\",\"RoyalLochnagar\",\"Springbank\",\"Glenfarclas\",\"Glendullan\",\"Tormore\",\"Tomatin\",\"Highland Park\",\"Macallan\",\"Glendronach\",\"Auchroisk\",\"Aberlour\",\"Balmenach\",\"Deanston\",\"GlenKeith\",\"Dalmore\",\"Dailuaine\",\"Balblair\",\"Strathmill\",\"Loch Lomond\",\"Tamnavulin\",\"Bunnahabhain\",\"Auchentoshan\",\"Cardhu\",\"GlenMoray\",\"Glenmorangie\",\"AnCnoc\",\"Dufftown\",\"Glenallachie\",\"Tobermory\",\"Dalwhinnie\",\"Craigganmore\",\"Craigallechie\",\"Glenlossie\",\"Laphroig\",\"Clynelish\",\"Talisker\",\"Ardbeg\",\"Lagavulin\",\"Caol Ila\",\"Tamdhu\",\"Strathisla\",\"Ardmore\",\"Speyside\",\"Longmorn\",\"Aultmore\",\"OldFettercairn\",\"BenNevis\",\"Miltonduff\",\"Mannochmore\",\"Benrinnes\",\"Benromach\",\"Knochando\",\"BlairAthol\",\"Glengoyne\",\"Edradour\",\"GlenGrant\",\"Scapa\",\"Aberfeldy\",\"Tullibardine\",\"GlenElgin\",\"GlenDeveronMacduff\",\"GlenSpey\",\"Glenfiddich\",\"Glenkinchie\",\"Glenlivet\",\"Inchgower\",\"Bowmore\",\"GlenGarioch\",\"Bladnoch\",\"Linkwood\",\"Benriach\",\"GlenOrd\",\"Speyburn\",\"Belvenie\",\"Tomintoul\",\"RoyalBrackla\",\"Teaninich\",\"ArranIsleOf\",\"GlenScotia\",\"Isle of Jura\",\"Bruichladdich\",\"OldPulteney\",\"Oban\",\"Glenturret\",\"Glenrothes\",\"Mortlach\",\"RoyalLochnagar\",\"Springbank\",\"Glenfarclas\",\"Glendullan\",\"Tormore\",\"Tomatin\",\"Highland Park\",\"Macallan\",\"Glendronach\",\"Auchroisk\",\"Aberlour\",\"Balmenach\",\"Deanston\",\"GlenKeith\",\"Dalmore\",\"Dailuaine\",\"Balblair\",\"Strathmill\",\"Loch Lomond\",\"Tamnavulin\",\"Bunnahabhain\",\"Auchentoshan\",\"Cardhu\",\"GlenMoray\",\"Glenmorangie\",\"AnCnoc\",\"Dufftown\",\"Glenallachie\",\"Tobermory\",\"Dalwhinnie\",\"Craigganmore\",\"Craigallechie\",\"Glenlossie\",\"Laphroig\",\"Clynelish\",\"Talisker\",\"Ardbeg\",\"Lagavulin\",\"Caol Ila\",\"Tamdhu\",\"Strathisla\",\"Ardmore\",\"Speyside\",\"Longmorn\",\"Aultmore\",\"OldFettercairn\",\"BenNevis\",\"Miltonduff\",\"Mannochmore\",\"Benrinnes\",\"Benromach\",\"Knochando\",\"BlairAthol\",\"Glengoyne\",\"Edradour\",\"GlenGrant\",\"Scapa\",\"Aberfeldy\",\"Tullibardine\",\"GlenElgin\",\"GlenDeveronMacduff\",\"GlenSpey\",\"Glenfiddich\",\"Glenkinchie\",\"Glenlivet\",\"Inchgower\",\"Bowmore\",\"GlenGarioch\",\"Bladnoch\",\"Linkwood\",\"Benriach\",\"GlenOrd\",\"Speyburn\",\"Belvenie\",\"Tomintoul\",\"RoyalBrackla\",\"Teaninich\",\"ArranIsleOf\",\"GlenScotia\",\"Isle of Jura\",\"Bruichladdich\",\"OldPulteney\",\"Oban\",\"Glenturret\",\"Glenrothes\",\"Mortlach\",\"RoyalLochnagar\",\"Springbank\",\"Glenfarclas\",\"Glendullan\",\"Tormore\",\"Tomatin\",\"Highland Park\",\"Macallan\",\"Glendronach\",\"Auchroisk\",\"Aberlour\",\"Balmenach\",\"Deanston\",\"GlenKeith\",\"Dalmore\",\"Dailuaine\",\"Balblair\",\"Strathmill\",\"Loch Lomond\",\"Tamnavulin\",\"Bunnahabhain\",\"Auchentoshan\",\"Cardhu\",\"GlenMoray\",\"Glenmorangie\",\"AnCnoc\",\"Dufftown\",\"Glenallachie\",\"Tobermory\",\"Dalwhinnie\",\"Craigganmore\",\"Craigallechie\",\"Glenlossie\",\"Laphroig\",\"Clynelish\",\"Talisker\",\"Ardbeg\",\"Lagavulin\",\"Caol Ila\",\"Tamdhu\",\"Strathisla\",\"Ardmore\",\"Speyside\",\"Longmorn\",\"Aultmore\",\"OldFettercairn\",\"BenNevis\",\"Miltonduff\",\"Mannochmore\",\"Benrinnes\",\"Benromach\",\"Knochando\",\"BlairAthol\",\"Glengoyne\",\"Edradour\",\"GlenGrant\",\"Scapa\",\"Aberfeldy\",\"Tullibardine\",\"GlenElgin\",\"GlenDeveronMacduff\",\"GlenSpey\",\"Glenfiddich\",\"Glenkinchie\",\"Glenlivet\",\"Inchgower\",\"Bowmore\",\"GlenGarioch\",\"Bladnoch\",\"Linkwood\",\"Benriach\",\"GlenOrd\",\"Speyburn\",\"Belvenie\",\"Tomintoul\",\"RoyalBrackla\",\"Teaninich\",\"ArranIsleOf\",\"GlenScotia\",\"Isle of Jura\",\"Bruichladdich\",\"OldPulteney\",\"Oban\",\"Glenturret\",\"Glenrothes\",\"Mortlach\",\"RoyalLochnagar\",\"Springbank\",\"Glenfarclas\",\"Glendullan\",\"Tormore\",\"Tomatin\",\"Highland Park\",\"Macallan\",\"Glendronach\",\"Auchroisk\",\"Aberlour\",\"Balmenach\",\"Deanston\",\"GlenKeith\",\"Dalmore\",\"Dailuaine\",\"Balblair\",\"Strathmill\",\"Loch Lomond\",\"Tamnavulin\",\"Bunnahabhain\",\"Auchentoshan\",\"Cardhu\",\"GlenMoray\",\"Glenmorangie\",\"AnCnoc\",\"Dufftown\",\"Glenallachie\",\"Tobermory\",\"Dalwhinnie\",\"Craigganmore\",\"Craigallechie\",\"Glenlossie\",\"Laphroig\",\"Clynelish\",\"Talisker\",\"Ardbeg\",\"Lagavulin\",\"Caol Ila\",\"Tamdhu\",\"Strathisla\",\"Ardmore\",\"Speyside\",\"Longmorn\",\"Aultmore\",\"OldFettercairn\",\"BenNevis\",\"Miltonduff\",\"Mannochmore\",\"Benrinnes\",\"Benromach\",\"Knochando\",\"BlairAthol\",\"Glengoyne\",\"Edradour\",\"GlenGrant\",\"Scapa\",\"Aberfeldy\",\"Tullibardine\",\"GlenElgin\",\"GlenDeveronMacduff\",\"GlenSpey\",\"Glenfiddich\",\"Glenkinchie\",\"Glenlivet\",\"Inchgower\",\"Bowmore\",\"GlenGarioch\",\"Bladnoch\",\"Linkwood\",\"Benriach\",\"GlenOrd\",\"Speyburn\",\"Belvenie\",\"Tomintoul\",\"RoyalBrackla\",\"Teaninich\",\"ArranIsleOf\",\"GlenScotia\",\"Isle of Jura\",\"Bruichladdich\",\"OldPulteney\",\"Oban\",\"Glenturret\",\"Glenrothes\",\"Mortlach\",\"RoyalLochnagar\",\"Springbank\",\"Glenfarclas\",\"Glendullan\",\"Tormore\",\"Tomatin\",\"Highland Park\",\"Macallan\",\"Glendronach\",\"Auchroisk\",\"Aberlour\",\"Balmenach\",\"Deanston\",\"GlenKeith\",\"Dalmore\",\"Dailuaine\",\"Balblair\",\"Strathmill\",\"Loch Lomond\",\"Tamnavulin\",\"Bunnahabhain\",\"Auchentoshan\",\"Cardhu\",\"GlenMoray\",\"Glenmorangie\",\"AnCnoc\",\"Dufftown\",\"Glenallachie\",\"Tobermory\",\"Dalwhinnie\",\"Craigganmore\",\"Craigallechie\",\"Glenlossie\",\"Laphroig\",\"Clynelish\",\"Talisker\",\"Ardbeg\",\"Lagavulin\",\"Caol Ila\",\"Tamdhu\",\"Strathisla\",\"Ardmore\",\"Speyside\",\"Longmorn\",\"Aultmore\",\"OldFettercairn\",\"BenNevis\",\"Miltonduff\",\"Mannochmore\",\"Benrinnes\",\"Benromach\",\"Knochando\",\"BlairAthol\",\"Glengoyne\",\"Edradour\",\"GlenGrant\",\"Scapa\",\"Aberfeldy\",\"Tullibardine\",\"GlenElgin\",\"GlenDeveronMacduff\",\"GlenSpey\",\"Glenfiddich\",\"Glenkinchie\",\"Glenlivet\",\"Inchgower\",\"Bowmore\",\"GlenGarioch\",\"Bladnoch\",\"Linkwood\",\"Benriach\",\"GlenOrd\",\"Speyburn\",\"Belvenie\",\"Tomintoul\",\"RoyalBrackla\",\"Teaninich\",\"ArranIsleOf\",\"GlenScotia\",\"Isle of Jura\",\"Bruichladdich\",\"OldPulteney\",\"Oban\",\"Glenturret\",\"Glenrothes\",\"Mortlach\",\"RoyalLochnagar\",\"Springbank\",\"Glenfarclas\",\"Glendullan\",\"Tormore\",\"Tomatin\",\"Highland Park\",\"Macallan\",\"Glendronach\",\"Auchroisk\",\"Aberlour\",\"Balmenach\",\"Deanston\",\"GlenKeith\",\"Dalmore\",\"Dailuaine\",\"Balblair\",\"Strathmill\",\"Loch Lomond\",\"Tamnavulin\",\"Bunnahabhain\",\"Auchentoshan\",\"Cardhu\",\"GlenMoray\",\"Glenmorangie\",\"AnCnoc\",\"Dufftown\",\"Glenallachie\",\"Tobermory\",\"Dalwhinnie\",\"Craigganmore\",\"Craigallechie\",\"Glenlossie\",\"Laphroig\",\"Clynelish\",\"Talisker\",\"Ardbeg\",\"Lagavulin\",\"Caol Ila\",\"Tamdhu\",\"Strathisla\",\"Ardmore\",\"Speyside\",\"Longmorn\",\"Aultmore\",\"OldFettercairn\",\"BenNevis\",\"Miltonduff\",\"Mannochmore\",\"Benrinnes\",\"Benromach\",\"Knochando\",\"BlairAthol\",\"Glengoyne\",\"Edradour\",\"GlenGrant\",\"Scapa\",\"Aberfeldy\",\"Tullibardine\",\"GlenElgin\",\"GlenDeveronMacduff\",\"GlenSpey\",\"Glenfiddich\",\"Glenkinchie\",\"Glenlivet\",\"Inchgower\",\"Bowmore\",\"GlenGarioch\",\"Bladnoch\",\"Linkwood\",\"Benriach\",\"GlenOrd\",\"Speyburn\",\"Belvenie\",\"Tomintoul\",\"RoyalBrackla\",\"Teaninich\",\"ArranIsleOf\",\"GlenScotia\",\"Isle of Jura\",\"Bruichladdich\",\"OldPulteney\",\"Oban\",\"Glenturret\",\"Glenrothes\",\"Mortlach\",\"RoyalLochnagar\",\"Springbank\",\"Glenfarclas\",\"Glendullan\",\"Tormore\",\"Tomatin\",\"Highland Park\",\"Macallan\",\"Glendronach\",\"Auchroisk\",\"Aberlour\",\"Balmenach\",\"Deanston\",\"GlenKeith\",\"Dalmore\",\"Dailuaine\",\"Balblair\",\"Strathmill\",\"Loch Lomond\",\"Tamnavulin\",\"Bunnahabhain\",\"Auchentoshan\",\"Cardhu\",\"GlenMoray\",\"Glenmorangie\",\"AnCnoc\",\"Dufftown\",\"Glenallachie\",\"Tobermory\",\"Dalwhinnie\",\"Craigganmore\",\"Craigallechie\",\"Glenlossie\",\"Laphroig\",\"Clynelish\",\"Talisker\",\"Ardbeg\",\"Lagavulin\",\"Caol Ila\",\"Tamdhu\",\"Strathisla\",\"Ardmore\",\"Speyside\",\"Longmorn\",\"Aultmore\",\"OldFettercairn\",\"BenNevis\",\"Miltonduff\",\"Mannochmore\",\"Benrinnes\",\"Benromach\",\"Knochando\",\"BlairAthol\",\"Glengoyne\",\"Edradour\",\"GlenGrant\",\"Scapa\",\"Aberfeldy\",\"Tullibardine\",\"GlenElgin\",\"GlenDeveronMacduff\",\"GlenSpey\",\"Glenfiddich\",\"Glenkinchie\",\"Glenlivet\",\"Inchgower\",\"Bowmore\",\"GlenGarioch\",\"Bladnoch\",\"Linkwood\",\"Benriach\",\"GlenOrd\",\"Speyburn\",\"Belvenie\",\"Tomintoul\",\"RoyalBrackla\",\"Teaninich\",\"ArranIsleOf\",\"GlenScotia\",\"Isle of Jura\",\"Bruichladdich\",\"OldPulteney\",\"Oban\",\"Glenturret\",\"Glenrothes\",\"Mortlach\",\"RoyalLochnagar\",\"Springbank\",\"Glenfarclas\",\"Glendullan\",\"Tormore\",\"Tomatin\",\"Highland Park\",\"Macallan\",\"Glendronach\",\"Auchroisk\",\"Aberlour\",\"Balmenach\",\"Deanston\",\"GlenKeith\",\"Dalmore\",\"Dailuaine\",\"Balblair\",\"Strathmill\",\"Loch Lomond\",\"Tamnavulin\",\"Bunnahabhain\",\"Auchentoshan\",\"Cardhu\",\"GlenMoray\",\"Glenmorangie\",\"AnCnoc\",\"Dufftown\",\"Glenallachie\",\"Tobermory\",\"Dalwhinnie\",\"Craigganmore\",\"Craigallechie\",\"Glenlossie\",\"Laphroig\",\"Clynelish\",\"Talisker\",\"Ardbeg\",\"Lagavulin\",\"Caol Ila\",\"Tamdhu\",\"Strathisla\",\"Ardmore\",\"Speyside\",\"Longmorn\",\"Aultmore\",\"OldFettercairn\",\"BenNevis\",\"Miltonduff\",\"Mannochmore\",\"Benrinnes\",\"Benromach\",\"Knochando\",\"BlairAthol\",\"Glengoyne\",\"Edradour\",\"GlenGrant\",\"Scapa\",\"Aberfeldy\",\"Tullibardine\",\"GlenElgin\",\"GlenDeveronMacduff\",\"GlenSpey\",\"Glenfiddich\",\"Glenkinchie\",\"Glenlivet\",\"Inchgower\",\"Bowmore\",\"GlenGarioch\",\"Bladnoch\",\"Linkwood\",\"Benriach\",\"GlenOrd\",\"Speyburn\",\"Belvenie\",\"Tomintoul\",\"RoyalBrackla\",\"Teaninich\",\"ArranIsleOf\",\"GlenScotia\",\"Isle of Jura\",\"Bruichladdich\",\"OldPulteney\",\"Oban\",\"Glenturret\",\"Glenrothes\",\"Mortlach\",\"RoyalLochnagar\",\"Springbank\",\"Glenfarclas\",\"Glendullan\",\"Tormore\",\"Tomatin\",\"Highland Park\",\"Macallan\",\"Glendronach\",\"Auchroisk\",\"Aberlour\",\"Balmenach\",\"Deanston\",\"GlenKeith\",\"Dalmore\",\"Dailuaine\",\"Balblair\",\"Strathmill\",\"Loch Lomond\",\"Tamnavulin\",\"Bunnahabhain\",\"Auchentoshan\",\"Cardhu\",\"GlenMoray\",\"Glenmorangie\",\"AnCnoc\",\"Dufftown\",\"Glenallachie\",\"Tobermory\",\"Dalwhinnie\",\"Craigganmore\",\"Craigallechie\",\"Glenlossie\",\"Laphroig\",\"Clynelish\",\"Talisker\",\"Ardbeg\",\"Lagavulin\",\"Caol Ila\",\"Tamdhu\",\"Strathisla\",\"Ardmore\",\"Speyside\",\"Longmorn\",\"Aultmore\",\"OldFettercairn\",\"BenNevis\",\"Miltonduff\",\"Mannochmore\",\"Benrinnes\",\"Benromach\",\"Knochando\",\"BlairAthol\",\"Glengoyne\",\"Edradour\",\"GlenGrant\",\"Scapa\",\"Aberfeldy\",\"Tullibardine\",\"GlenElgin\",\"GlenDeveronMacduff\",\"GlenSpey\",\"Glenfiddich\",\"Glenkinchie\",\"Glenlivet\",\"Inchgower\",\"Bowmore\",\"GlenGarioch\",\"Bladnoch\",\"Linkwood\",\"Benriach\",\"GlenOrd\",\"Speyburn\",\"Belvenie\",\"Tomintoul\",\"RoyalBrackla\",\"Teaninich\",\"ArranIsleOf\",\"GlenScotia\",\"Isle of Jura\",\"Bruichladdich\",\"OldPulteney\",\"Oban\",\"Glenturret\",\"Glenrothes\",\"Mortlach\",\"RoyalLochnagar\",\"Springbank\",\"Glenfarclas\",\"Glendullan\",\"Tormore\",\"Tomatin\",\"Highland Park\",\"Macallan\",\"Glendronach\",\"Auchroisk\",\"Aberlour\",\"Balmenach\",\"Deanston\",\"GlenKeith\",\"Dalmore\",\"Dailuaine\",\"Balblair\",\"Strathmill\",\"Loch Lomond\",\"Tamnavulin\",\"Bunnahabhain\",\"Auchentoshan\",\"Cardhu\",\"GlenMoray\",\"Glenmorangie\",\"AnCnoc\",\"Dufftown\",\"Glenallachie\",\"Tobermory\",\"Dalwhinnie\",\"Craigganmore\",\"Craigallechie\",\"Glenlossie\",\"Laphroig\",\"Clynelish\",\"Talisker\",\"Ardbeg\",\"Lagavulin\",\"Caol Ila\",\"Tamdhu\",\"Strathisla\",\"Ardmore\",\"Speyside\",\"Longmorn\",\"Aultmore\",\"OldFettercairn\",\"BenNevis\",\"Miltonduff\",\"Mannochmore\",\"Benrinnes\",\"Benromach\",\"Knochando\",\"BlairAthol\",\"Glengoyne\",\"Edradour\",\"GlenGrant\",\"Scapa\",\"Aberfeldy\",\"Tullibardine\",\"GlenElgin\",\"GlenDeveronMacduff\",\"GlenSpey\",\"Glenfiddich\",\"Glenkinchie\",\"Glenlivet\",\"Inchgower\",\"Bowmore\",\"GlenGarioch\",\"Bladnoch\",\"Linkwood\",\"Benriach\",\"GlenOrd\",\"Speyburn\",\"Belvenie\",\"Tomintoul\",\"RoyalBrackla\",\"Teaninich\",\"ArranIsleOf\",\"GlenScotia\",\"Isle of Jura\",\"Bruichladdich\",\"OldPulteney\",\"Oban\",\"Glenturret\",\"Glenrothes\",\"Mortlach\",\"RoyalLochnagar\",\"Springbank\",\"Glenfarclas\",\"Glendullan\",\"Tormore\",\"Tomatin\",\"Highland Park\",\"Macallan\",\"Glendronach\",\"Auchroisk\",\"Aberlour\",\"Balmenach\",\"Deanston\",\"GlenKeith\",\"Dalmore\",\"Dailuaine\",\"Balblair\",\"Strathmill\",\"Loch Lomond\",\"Tamnavulin\",\"Bunnahabhain\",\"Auchentoshan\",\"Cardhu\",\"GlenMoray\",\"Glenmorangie\",\"AnCnoc\",\"Dufftown\",\"Glenallachie\",\"Tobermory\",\"Dalwhinnie\",\"Craigganmore\",\"Craigallechie\",\"Glenlossie\",\"Laphroig\",\"Clynelish\",\"Talisker\",\"Ardbeg\",\"Lagavulin\",\"Caol Ila\",\"Tamdhu\",\"Strathisla\",\"Ardmore\",\"Speyside\",\"Longmorn\",\"Aultmore\",\"OldFettercairn\",\"BenNevis\",\"Miltonduff\",\"Mannochmore\",\"Benrinnes\",\"Benromach\",\"Knochando\",\"BlairAthol\",\"Glengoyne\",\"Edradour\",\"GlenGrant\",\"Scapa\",\"Aberfeldy\",\"Tullibardine\",\"GlenElgin\",\"GlenDeveronMacduff\",\"GlenSpey\",\"Glenfiddich\",\"Glenkinchie\",\"Glenlivet\",\"Inchgower\",\"Bowmore\",\"GlenGarioch\",\"Bladnoch\",\"Linkwood\",\"Benriach\",\"GlenOrd\",\"Speyburn\",\"Belvenie\",\"Tomintoul\",\"RoyalBrackla\",\"Teaninich\",\"ArranIsleOf\",\"GlenScotia\",\"Isle of Jura\",\"Bruichladdich\",\"OldPulteney\",\"Oban\",\"Glenturret\",\"Glenrothes\",\"Mortlach\",\"RoyalLochnagar\",\"Springbank\",\"Glenfarclas\",\"Glendullan\",\"Tormore\",\"Tomatin\",\"Highland Park\",\"Macallan\",\"Glendronach\",\"Auchroisk\",\"Aberlour\",\"Balmenach\",\"Deanston\",\"GlenKeith\",\"Dalmore\",\"Dailuaine\",\"Balblair\",\"Strathmill\",\"Loch Lomond\",\"Tamnavulin\",\"Bunnahabhain\",\"Auchentoshan\",\"Cardhu\",\"GlenMoray\",\"Glenmorangie\",\"AnCnoc\",\"Dufftown\",\"Glenallachie\",\"Tobermory\",\"Dalwhinnie\",\"Craigganmore\",\"Craigallechie\",\"Glenlossie\",\"Laphroig\",\"Clynelish\",\"Talisker\",\"Ardbeg\",\"Lagavulin\",\"Caol Ila\",\"Tamdhu\",\"Strathisla\",\"Ardmore\",\"Speyside\",\"Longmorn\",\"Aultmore\",\"OldFettercairn\",\"BenNevis\",\"Miltonduff\",\"Mannochmore\",\"Benrinnes\",\"Benromach\",\"Knochando\",\"BlairAthol\",\"Glengoyne\",\"Edradour\",\"GlenGrant\",\"Scapa\",\"Aberfeldy\",\"Tullibardine\",\"GlenElgin\",\"GlenDeveronMacduff\",\"GlenSpey\",\"Glenfiddich\",\"Glenkinchie\",\"Glenlivet\",\"Inchgower\",\"Bowmore\",\"GlenGarioch\",\"Bladnoch\",\"Linkwood\",\"Benriach\",\"GlenOrd\",\"Speyburn\",\"Belvenie\",\"Tomintoul\",\"RoyalBrackla\",\"Teaninich\",\"ArranIsleOf\",\"GlenScotia\",\"Isle of Jura\",\"Bruichladdich\",\"OldPulteney\",\"Oban\",\"Glenturret\",\"Glenrothes\",\"Mortlach\",\"RoyalLochnagar\",\"Springbank\",\"Glenfarclas\",\"Glendullan\",\"Tormore\",\"Tomatin\",\"Highland Park\",\"Macallan\",\"Glendronach\",\"Auchroisk\",\"Aberlour\",\"Balmenach\",\"Deanston\",\"GlenKeith\",\"Dalmore\",\"Dailuaine\",\"Balblair\",\"Strathmill\",\"Loch Lomond\",\"Tamnavulin\",\"Bunnahabhain\",\"Auchentoshan\",\"Cardhu\",\"GlenMoray\",\"Glenmorangie\",\"AnCnoc\",\"Dufftown\",\"Glenallachie\",\"Tobermory\",\"Dalwhinnie\",\"Craigganmore\",\"Craigallechie\",\"Glenlossie\",\"Laphroig\",\"Clynelish\",\"Talisker\",\"Ardbeg\",\"Lagavulin\",\"Caol Ila\",\"Tamdhu\",\"Strathisla\",\"Ardmore\",\"Speyside\",\"Longmorn\",\"Aultmore\",\"OldFettercairn\",\"BenNevis\",\"Miltonduff\",\"Mannochmore\",\"Benrinnes\",\"Benromach\",\"Knochando\",\"BlairAthol\",\"Glengoyne\",\"Edradour\",\"GlenGrant\",\"Scapa\",\"Aberfeldy\",\"Tullibardine\",\"GlenElgin\",\"GlenDeveronMacduff\",\"GlenSpey\",\"Glenfiddich\",\"Glenkinchie\",\"Glenlivet\",\"Inchgower\",\"Bowmore\",\"GlenGarioch\",\"Bladnoch\",\"Linkwood\",\"Benriach\",\"GlenOrd\",\"Speyburn\",\"Belvenie\",\"Tomintoul\",\"RoyalBrackla\",\"Teaninich\",\"ArranIsleOf\",\"GlenScotia\",\"Isle of Jura\",\"Bruichladdich\",\"OldPulteney\",\"Oban\",\"Glenturret\",\"Glenrothes\",\"Mortlach\",\"RoyalLochnagar\",\"Springbank\",\"Glenfarclas\",\"Glendullan\",\"Tormore\",\"Tomatin\",\"Highland Park\",\"Macallan\",\"Glendronach\",\"Auchroisk\",\"Aberlour\",\"Balmenach\",\"Deanston\",\"GlenKeith\",\"Dalmore\",\"Dailuaine\",\"Balblair\",\"Strathmill\",\"Loch Lomond\",\"Tamnavulin\",\"Bunnahabhain\",\"Auchentoshan\",\"Cardhu\",\"GlenMoray\",\"Glenmorangie\",\"AnCnoc\",\"Dufftown\",\"Glenallachie\",\"Tobermory\",\"Dalwhinnie\",\"Craigganmore\",\"Craigallechie\",\"Glenlossie\",\"Laphroig\",\"Clynelish\",\"Talisker\",\"Ardbeg\",\"Lagavulin\",\"Caol Ila\",\"Tamdhu\",\"Strathisla\",\"Ardmore\",\"Speyside\",\"Longmorn\",\"Aultmore\",\"OldFettercairn\",\"BenNevis\",\"Miltonduff\",\"Mannochmore\",\"Benrinnes\",\"Benromach\",\"Knochando\",\"BlairAthol\",\"Glengoyne\",\"Edradour\",\"GlenGrant\",\"Scapa\",\"Aberfeldy\",\"Tullibardine\",\"GlenElgin\",\"GlenDeveronMacduff\",\"GlenSpey\",\"Glenfiddich\",\"Glenkinchie\",\"Glenlivet\",\"Inchgower\",\"Bowmore\",\"GlenGarioch\",\"Bladnoch\",\"Linkwood\",\"Benriach\",\"GlenOrd\",\"Speyburn\",\"Belvenie\",\"Tomintoul\",\"RoyalBrackla\",\"Teaninich\",\"ArranIsleOf\",\"GlenScotia\",\"Isle of Jura\",\"Bruichladdich\",\"OldPulteney\",\"Oban\",\"Glenturret\",\"Glenrothes\",\"Mortlach\",\"RoyalLochnagar\",\"Springbank\",\"Glenfarclas\",\"Glendullan\",\"Tormore\",\"Tomatin\",\"Highland Park\",\"Macallan\",\"Glendronach\",\"Auchroisk\",\"Aberlour\",\"Balmenach\",\"Deanston\",\"GlenKeith\",\"Dalmore\",\"Dailuaine\",\"Balblair\",\"Strathmill\",\"Loch Lomond\",\"Tamnavulin\",\"Bunnahabhain\",\"Auchentoshan\",\"Cardhu\",\"GlenMoray\",\"Glenmorangie\",\"AnCnoc\",\"Dufftown\",\"Glenallachie\",\"Tobermory\",\"Dalwhinnie\",\"Craigganmore\",\"Craigallechie\",\"Glenlossie\",\"Laphroig\",\"Clynelish\",\"Talisker\",\"Ardbeg\",\"Lagavulin\",\"Caol Ila\",\"Tamdhu\",\"Strathisla\",\"Ardmore\",\"Speyside\",\"Longmorn\",\"Aultmore\",\"OldFettercairn\",\"BenNevis\",\"Miltonduff\",\"Mannochmore\",\"Benrinnes\",\"Benromach\",\"Knochando\",\"BlairAthol\",\"Glengoyne\",\"Edradour\",\"GlenGrant\",\"Scapa\",\"Aberfeldy\",\"Tullibardine\",\"GlenElgin\",\"GlenDeveronMacduff\",\"GlenSpey\",\"Glenfiddich\",\"Glenkinchie\",\"Glenlivet\",\"Inchgower\",\"Bowmore\",\"GlenGarioch\",\"Bladnoch\",\"Linkwood\",\"Benriach\",\"GlenOrd\",\"Speyburn\",\"Belvenie\",\"Tomintoul\",\"RoyalBrackla\",\"Teaninich\",\"ArranIsleOf\",\"GlenScotia\",\"Isle of Jura\",\"Bruichladdich\",\"OldPulteney\",\"Oban\",\"Glenturret\",\"Glenrothes\",\"Mortlach\",\"RoyalLochnagar\",\"Springbank\",\"Glenfarclas\",\"Glendullan\",\"Tormore\",\"Tomatin\",\"Highland Park\",\"Macallan\",\"Glendronach\",\"Auchroisk\",\"Aberlour\",\"Balmenach\",\"Deanston\",\"GlenKeith\",\"Dalmore\",\"Dailuaine\",\"Balblair\",\"Strathmill\",\"Loch Lomond\",\"Tamnavulin\",\"Bunnahabhain\",\"Auchentoshan\",\"Cardhu\",\"GlenMoray\",\"Glenmorangie\",\"AnCnoc\",\"Dufftown\",\"Glenallachie\",\"Tobermory\",\"Dalwhinnie\",\"Craigganmore\",\"Craigallechie\",\"Glenlossie\",\"Laphroig\",\"Clynelish\",\"Talisker\",\"Ardbeg\",\"Lagavulin\",\"Caol Ila\",\"Tamdhu\",\"Strathisla\",\"Ardmore\",\"Speyside\",\"Longmorn\",\"Aultmore\",\"OldFettercairn\",\"BenNevis\",\"Miltonduff\",\"Mannochmore\",\"Benrinnes\",\"Benromach\",\"Knochando\",\"BlairAthol\",\"Glengoyne\",\"Edradour\",\"GlenGrant\",\"Scapa\",\"Aberfeldy\",\"Tullibardine\",\"GlenElgin\",\"GlenDeveronMacduff\",\"GlenSpey\",\"Glenfiddich\",\"Glenkinchie\",\"Glenlivet\",\"Inchgower\",\"Bowmore\",\"GlenGarioch\",\"Bladnoch\",\"Linkwood\",\"Benriach\",\"GlenOrd\",\"Speyburn\",\"Belvenie\",\"Tomintoul\",\"RoyalBrackla\",\"Teaninich\",\"ArranIsleOf\",\"GlenScotia\",\"Isle of Jura\",\"Bruichladdich\",\"OldPulteney\",\"Oban\",\"Glenturret\",\"Glenrothes\",\"Mortlach\",\"RoyalLochnagar\",\"Springbank\",\"Glenfarclas\",\"Glendullan\",\"Tormore\",\"Tomatin\",\"Highland Park\",\"Macallan\",\"Glendronach\",\"Auchroisk\",\"Aberlour\",\"Balmenach\",\"Deanston\",\"GlenKeith\",\"Dalmore\",\"Dailuaine\",\"Balblair\",\"Strathmill\",\"Loch Lomond\",\"Tamnavulin\",\"Bunnahabhain\",\"Auchentoshan\",\"Cardhu\",\"GlenMoray\",\"Glenmorangie\",\"AnCnoc\",\"Dufftown\",\"Glenallachie\",\"Tobermory\",\"Dalwhinnie\",\"Craigganmore\",\"Craigallechie\",\"Glenlossie\",\"Laphroig\",\"Clynelish\",\"Talisker\",\"Ardbeg\",\"Lagavulin\",\"Caol Ila\",\"Tamdhu\",\"Strathisla\",\"Ardmore\",\"Speyside\",\"Longmorn\",\"Aultmore\",\"OldFettercairn\",\"BenNevis\",\"Miltonduff\",\"Mannochmore\",\"Benrinnes\",\"Benromach\",\"Knochando\",\"BlairAthol\",\"Glengoyne\",\"Edradour\",\"GlenGrant\",\"Scapa\",\"Aberfeldy\",\"Tullibardine\",\"GlenElgin\",\"GlenDeveronMacduff\",\"GlenSpey\",\"Glenfiddich\",\"Glenkinchie\",\"Glenlivet\",\"Inchgower\",\"Bowmore\",\"GlenGarioch\",\"Bladnoch\",\"Linkwood\",\"Benriach\",\"GlenOrd\",\"Speyburn\",\"Belvenie\",\"Tomintoul\",\"RoyalBrackla\",\"Teaninich\",\"ArranIsleOf\",\"GlenScotia\",\"Isle of Jura\",\"Bruichladdich\",\"OldPulteney\",\"Oban\",\"Glenturret\",\"Glenrothes\",\"Mortlach\",\"RoyalLochnagar\",\"Springbank\",\"Glenfarclas\",\"Glendullan\",\"Tormore\",\"Tomatin\",\"Highland Park\",\"Macallan\",\"Glendronach\",\"Auchroisk\",\"Aberlour\",\"Balmenach\",\"Deanston\",\"GlenKeith\",\"Dalmore\",\"Dailuaine\",\"Balblair\",\"Strathmill\",\"Loch Lomond\",\"Tamnavulin\",\"Bunnahabhain\",\"Auchentoshan\",\"Cardhu\",\"GlenMoray\",\"Glenmorangie\",\"AnCnoc\",\"Dufftown\",\"Glenallachie\",\"Tobermory\",\"Dalwhinnie\",\"Craigganmore\",\"Craigallechie\",\"Glenlossie\",\"Laphroig\",\"Clynelish\",\"Talisker\",\"Ardbeg\",\"Lagavulin\",\"Caol Ila\",\"Tamdhu\",\"Strathisla\",\"Ardmore\",\"Speyside\",\"Longmorn\",\"Aultmore\",\"OldFettercairn\",\"BenNevis\",\"Miltonduff\",\"Mannochmore\",\"Benrinnes\",\"Benromach\",\"Knochando\",\"BlairAthol\",\"Glengoyne\",\"Edradour\",\"GlenGrant\",\"Scapa\",\"Aberfeldy\",\"Tullibardine\",\"GlenElgin\",\"GlenDeveronMacduff\",\"GlenSpey\",\"Glenfiddich\",\"Glenkinchie\",\"Glenlivet\",\"Inchgower\",\"Bowmore\",\"GlenGarioch\",\"Bladnoch\",\"Linkwood\",\"Benriach\",\"GlenOrd\",\"Speyburn\",\"Belvenie\",\"Tomintoul\",\"RoyalBrackla\",\"Teaninich\",\"ArranIsleOf\",\"GlenScotia\",\"Isle of Jura\",\"Bruichladdich\",\"OldPulteney\",\"Oban\",\"Glenturret\",\"Glenrothes\",\"Mortlach\",\"RoyalLochnagar\",\"Springbank\",\"Glenfarclas\",\"Glendullan\",\"Tormore\",\"Tomatin\",\"Highland Park\",\"Macallan\",\"Glendronach\",\"Auchroisk\",\"Aberlour\",\"Balmenach\",\"Deanston\",\"GlenKeith\",\"Dalmore\",\"Dailuaine\",\"Balblair\",\"Strathmill\",\"Loch Lomond\",\"Tamnavulin\",\"Bunnahabhain\",\"Auchentoshan\",\"Cardhu\",\"GlenMoray\",\"Glenmorangie\",\"AnCnoc\",\"Dufftown\",\"Glenallachie\",\"Tobermory\",\"Dalwhinnie\",\"Craigganmore\",\"Craigallechie\",\"Glenlossie\",\"Laphroig\",\"Clynelish\",\"Talisker\",\"Ardbeg\",\"Lagavulin\",\"Caol Ila\",\"Tamdhu\",\"Strathisla\",\"Ardmore\",\"Speyside\",\"Longmorn\",\"Aultmore\",\"OldFettercairn\",\"BenNevis\",\"Miltonduff\",\"Mannochmore\",\"Benrinnes\",\"Benromach\",\"Knochando\",\"BlairAthol\",\"Glengoyne\",\"Edradour\",\"GlenGrant\",\"Scapa\",\"Aberfeldy\",\"Tullibardine\",\"GlenElgin\",\"GlenDeveronMacduff\",\"GlenSpey\",\"Glenfiddich\",\"Glenkinchie\",\"Glenlivet\",\"Inchgower\",\"Bowmore\",\"GlenGarioch\",\"Bladnoch\",\"Linkwood\",\"Benriach\",\"GlenOrd\",\"Speyburn\",\"Belvenie\",\"Tomintoul\",\"RoyalBrackla\",\"Teaninich\",\"ArranIsleOf\",\"GlenScotia\",\"Isle of Jura\",\"Bruichladdich\",\"OldPulteney\",\"Oban\",\"Glenturret\",\"Glenrothes\",\"Mortlach\",\"RoyalLochnagar\",\"Springbank\",\"Glenfarclas\",\"Glendullan\",\"Tormore\",\"Tomatin\",\"Highland Park\",\"Macallan\",\"Glendronach\",\"Auchroisk\",\"Aberlour\",\"Balmenach\",\"Deanston\",\"GlenKeith\",\"Dalmore\",\"Dailuaine\",\"Balblair\",\"Strathmill\",\"Loch Lomond\",\"Tamnavulin\",\"Bunnahabhain\",\"Auchentoshan\",\"Cardhu\",\"GlenMoray\",\"Glenmorangie\",\"AnCnoc\",\"Dufftown\",\"Glenallachie\",\"Tobermory\",\"Dalwhinnie\",\"Craigganmore\",\"Craigallechie\",\"Glenlossie\",\"Laphroig\",\"Clynelish\",\"Talisker\",\"Ardbeg\",\"Lagavulin\",\"Caol Ila\",\"Tamdhu\",\"Strathisla\",\"Ardmore\",\"Speyside\",\"Longmorn\",\"Aultmore\",\"OldFettercairn\",\"BenNevis\",\"Miltonduff\",\"Mannochmore\",\"Benrinnes\",\"Benromach\",\"Knochando\",\"BlairAthol\",\"Glengoyne\",\"Edradour\",\"GlenGrant\",\"Scapa\",\"Aberfeldy\",\"Tullibardine\",\"GlenElgin\",\"GlenDeveronMacduff\",\"GlenSpey\",\"Glenfiddich\",\"Glenkinchie\",\"Glenlivet\",\"Inchgower\",\"Bowmore\",\"GlenGarioch\",\"Bladnoch\",\"Linkwood\",\"Benriach\",\"GlenOrd\",\"Speyburn\",\"Belvenie\",\"Tomintoul\",\"RoyalBrackla\",\"Teaninich\",\"ArranIsleOf\",\"GlenScotia\",\"Isle of Jura\",\"Bruichladdich\",\"OldPulteney\",\"Oban\",\"Glenturret\",\"Glenrothes\",\"Mortlach\",\"RoyalLochnagar\",\"Springbank\",\"Glenfarclas\",\"Glendullan\",\"Tormore\",\"Tomatin\",\"Highland Park\",\"Macallan\",\"Glendronach\",\"Auchroisk\",\"Aberlour\",\"Balmenach\",\"Deanston\",\"GlenKeith\",\"Dalmore\",\"Dailuaine\",\"Balblair\",\"Strathmill\",\"Loch Lomond\",\"Tamnavulin\",\"Bunnahabhain\",\"Auchentoshan\",\"Cardhu\",\"GlenMoray\",\"Glenmorangie\",\"AnCnoc\",\"Dufftown\",\"Glenallachie\",\"Tobermory\",\"Dalwhinnie\",\"Craigganmore\",\"Craigallechie\",\"Glenlossie\",\"Laphroig\",\"Clynelish\",\"Talisker\",\"Ardbeg\",\"Lagavulin\",\"Caol Ila\",\"Tamdhu\",\"Strathisla\",\"Ardmore\",\"Speyside\",\"Longmorn\",\"Aultmore\",\"OldFettercairn\",\"BenNevis\",\"Miltonduff\",\"Mannochmore\",\"Benrinnes\",\"Benromach\",\"Knochando\",\"BlairAthol\",\"Glengoyne\",\"Edradour\",\"GlenGrant\",\"Scapa\",\"Aberfeldy\",\"Tullibardine\",\"GlenElgin\",\"GlenDeveronMacduff\",\"GlenSpey\",\"Glenfiddich\",\"Glenkinchie\",\"Glenlivet\",\"Inchgower\",\"Bowmore\",\"GlenGarioch\",\"Bladnoch\",\"Linkwood\",\"Benriach\",\"GlenOrd\",\"Speyburn\",\"Belvenie\",\"Tomintoul\",\"RoyalBrackla\",\"Teaninich\",\"ArranIsleOf\",\"GlenScotia\",\"Isle of Jura\",\"Bruichladdich\",\"OldPulteney\",\"Oban\",\"Glenturret\",\"Glenrothes\",\"Mortlach\",\"RoyalLochnagar\",\"Springbank\",\"Glenfarclas\",\"Glendullan\",\"Tormore\",\"Tomatin\",\"Highland Park\",\"Macallan\",\"Glendronach\",\"Auchroisk\",\"Aberlour\",\"Balmenach\",\"Deanston\",\"GlenKeith\",\"Dalmore\",\"Dailuaine\",\"Balblair\",\"Strathmill\",\"Loch Lomond\",\"Tamnavulin\",\"Bunnahabhain\",\"Auchentoshan\",\"Cardhu\",\"GlenMoray\",\"Glenmorangie\",\"AnCnoc\",\"Dufftown\",\"Glenallachie\",\"Tobermory\",\"Dalwhinnie\",\"Craigganmore\",\"Craigallechie\",\"Glenlossie\",\"Laphroig\",\"Clynelish\",\"Talisker\",\"Ardbeg\",\"Lagavulin\",\"Caol Ila\",\"Tamdhu\",\"Strathisla\",\"Ardmore\",\"Speyside\",\"Longmorn\",\"Aultmore\",\"OldFettercairn\",\"BenNevis\",\"Miltonduff\",\"Mannochmore\",\"Benrinnes\",\"Benromach\",\"Knochando\",\"BlairAthol\",\"Glengoyne\",\"Edradour\",\"GlenGrant\",\"Scapa\",\"Aberfeldy\",\"Tullibardine\",\"GlenElgin\",\"GlenDeveronMacduff\",\"GlenSpey\",\"Glenfiddich\",\"Glenkinchie\",\"Glenlivet\",\"Inchgower\",\"Bowmore\",\"GlenGarioch\",\"Bladnoch\",\"Linkwood\",\"Benriach\",\"GlenOrd\",\"Speyburn\",\"Belvenie\",\"Tomintoul\",\"RoyalBrackla\",\"Teaninich\",\"ArranIsleOf\",\"GlenScotia\",\"Isle of Jura\",\"Bruichladdich\",\"OldPulteney\",\"Oban\",\"Glenturret\",\"Glenrothes\",\"Mortlach\",\"RoyalLochnagar\",\"Springbank\",\"Glenfarclas\",\"Glendullan\",\"Tormore\",\"Tomatin\",\"Highland Park\",\"Macallan\",\"Glendronach\",\"Auchroisk\",\"Aberlour\",\"Balmenach\",\"Deanston\",\"GlenKeith\",\"Dalmore\",\"Dailuaine\",\"Balblair\",\"Strathmill\",\"Loch Lomond\",\"Tamnavulin\",\"Bunnahabhain\",\"Auchentoshan\",\"Cardhu\",\"GlenMoray\",\"Glenmorangie\",\"AnCnoc\",\"Dufftown\",\"Glenallachie\",\"Tobermory\",\"Dalwhinnie\",\"Craigganmore\",\"Craigallechie\",\"Glenlossie\",\"Laphroig\",\"Clynelish\",\"Talisker\",\"Ardbeg\",\"Lagavulin\",\"Caol Ila\",\"Tamdhu\",\"Strathisla\",\"Ardmore\",\"Speyside\",\"Longmorn\",\"Aultmore\",\"OldFettercairn\",\"BenNevis\",\"Miltonduff\",\"Mannochmore\",\"Benrinnes\",\"Benromach\",\"Knochando\",\"BlairAthol\",\"Glengoyne\",\"Edradour\",\"GlenGrant\",\"Scapa\",\"Aberfeldy\",\"Tullibardine\",\"GlenElgin\",\"GlenDeveronMacduff\",\"GlenSpey\",\"Glenfiddich\",\"Glenkinchie\",\"Glenlivet\",\"Inchgower\",\"Bowmore\",\"GlenGarioch\",\"Bladnoch\",\"Linkwood\",\"Benriach\",\"GlenOrd\",\"Speyburn\",\"Belvenie\",\"Tomintoul\",\"RoyalBrackla\",\"Teaninich\",\"ArranIsleOf\",\"GlenScotia\",\"Isle of Jura\",\"Bruichladdich\",\"OldPulteney\",\"Oban\",\"Glenturret\",\"Glenrothes\",\"Mortlach\",\"RoyalLochnagar\",\"Springbank\",\"Glenfarclas\",\"Glendullan\",\"Tormore\",\"Tomatin\",\"Highland Park\",\"Macallan\",\"Glendronach\",\"Auchroisk\",\"Aberlour\",\"Balmenach\",\"Deanston\",\"GlenKeith\",\"Dalmore\",\"Dailuaine\",\"Balblair\",\"Strathmill\",\"Loch Lomond\",\"Tamnavulin\",\"Bunnahabhain\",\"Auchentoshan\",\"Cardhu\",\"GlenMoray\",\"Glenmorangie\",\"AnCnoc\",\"Dufftown\",\"Glenallachie\",\"Tobermory\",\"Dalwhinnie\",\"Craigganmore\",\"Craigallechie\",\"Glenlossie\",\"Laphroig\",\"Clynelish\",\"Talisker\",\"Ardbeg\",\"Lagavulin\",\"Caol Ila\",\"Tamdhu\",\"Strathisla\",\"Ardmore\",\"Speyside\",\"Longmorn\",\"Aultmore\",\"OldFettercairn\",\"BenNevis\",\"Miltonduff\",\"Mannochmore\",\"Benrinnes\",\"Benromach\",\"Knochando\",\"BlairAthol\",\"Glengoyne\",\"Edradour\",\"GlenGrant\",\"Scapa\",\"Aberfeldy\",\"Tullibardine\",\"GlenElgin\",\"GlenDeveronMacduff\",\"GlenSpey\",\"Glenfiddich\",\"Glenkinchie\",\"Glenlivet\",\"Inchgower\",\"Bowmore\",\"GlenGarioch\",\"Bladnoch\",\"Linkwood\",\"Benriach\",\"GlenOrd\",\"Speyburn\",\"Belvenie\",\"Tomintoul\",\"RoyalBrackla\",\"Teaninich\",\"ArranIsleOf\",\"GlenScotia\",\"Isle of Jura\",\"Bruichladdich\",\"OldPulteney\",\"Oban\",\"Glenturret\",\"Glenrothes\",\"Mortlach\",\"RoyalLochnagar\",\"Springbank\",\"Glenfarclas\",\"Glendullan\",\"Tormore\",\"Tomatin\",\"Highland Park\",\"Macallan\",\"Glendronach\",\"Auchroisk\",\"Aberlour\",\"Balmenach\",\"Deanston\",\"GlenKeith\",\"Dalmore\",\"Dailuaine\",\"Balblair\",\"Strathmill\",\"Loch Lomond\",\"Tamnavulin\",\"Bunnahabhain\",\"Auchentoshan\",\"Cardhu\",\"GlenMoray\",\"Glenmorangie\",\"AnCnoc\",\"Dufftown\",\"Glenallachie\",\"Tobermory\",\"Dalwhinnie\",\"Craigganmore\",\"Craigallechie\",\"Glenlossie\",\"Laphroig\",\"Clynelish\",\"Talisker\",\"Ardbeg\",\"Lagavulin\",\"Caol Ila\",\"Tamdhu\",\"Strathisla\",\"Ardmore\",\"Speyside\",\"Longmorn\",\"Aultmore\",\"OldFettercairn\",\"BenNevis\",\"Miltonduff\",\"Mannochmore\",\"Benrinnes\",\"Benromach\",\"Knochando\",\"BlairAthol\",\"Glengoyne\",\"Edradour\",\"GlenGrant\",\"Scapa\",\"Aberfeldy\",\"Tullibardine\",\"GlenElgin\",\"GlenDeveronMacduff\",\"GlenSpey\",\"Glenfiddich\",\"Glenkinchie\",\"Glenlivet\",\"Inchgower\",\"Bowmore\",\"GlenGarioch\",\"Bladnoch\",\"Linkwood\",\"Benriach\",\"GlenOrd\",\"Speyburn\",\"Belvenie\",\"Tomintoul\",\"RoyalBrackla\",\"Teaninich\",\"ArranIsleOf\",\"GlenScotia\",\"Isle of Jura\",\"Bruichladdich\",\"OldPulteney\",\"Oban\",\"Glenturret\",\"Glenrothes\",\"Mortlach\",\"RoyalLochnagar\",\"Springbank\",\"Glenfarclas\",\"Glendullan\",\"Tormore\",\"Tomatin\",\"Highland Park\",\"Macallan\",\"Glendronach\",\"Auchroisk\",\"Aberlour\",\"Balmenach\",\"Deanston\",\"GlenKeith\",\"Dalmore\",\"Dailuaine\",\"Balblair\",\"Strathmill\",\"Loch Lomond\",\"Tamnavulin\",\"Bunnahabhain\",\"Auchentoshan\",\"Cardhu\",\"GlenMoray\",\"Glenmorangie\",\"AnCnoc\",\"Dufftown\",\"Glenallachie\",\"Tobermory\",\"Dalwhinnie\",\"Craigganmore\",\"Craigallechie\",\"Glenlossie\",\"Laphroig\",\"Clynelish\",\"Talisker\",\"Ardbeg\",\"Lagavulin\",\"Caol Ila\",\"Tamdhu\",\"Strathisla\",\"Ardmore\",\"Speyside\",\"Longmorn\",\"Aultmore\",\"OldFettercairn\",\"BenNevis\",\"Miltonduff\",\"Mannochmore\",\"Benrinnes\",\"Benromach\",\"Knochando\",\"BlairAthol\",\"Glengoyne\",\"Edradour\",\"GlenGrant\",\"Scapa\",\"Aberfeldy\",\"Tullibardine\",\"GlenElgin\",\"GlenDeveronMacduff\",\"GlenSpey\",\"Glenfiddich\",\"Glenkinchie\",\"Glenlivet\",\"Inchgower\",\"Bowmore\",\"GlenGarioch\",\"Bladnoch\",\"Linkwood\",\"Benriach\",\"GlenOrd\",\"Speyburn\",\"Belvenie\",\"Tomintoul\",\"RoyalBrackla\",\"Teaninich\",\"ArranIsleOf\",\"GlenScotia\",\"Isle of Jura\",\"Bruichladdich\",\"OldPulteney\",\"Oban\",\"Glenturret\",\"Glenrothes\",\"Mortlach\",\"RoyalLochnagar\",\"Springbank\",\"Glenfarclas\",\"Glendullan\",\"Tormore\",\"Tomatin\",\"Highland Park\",\"Macallan\",\"Glendronach\",\"Auchroisk\",\"Aberlour\",\"Balmenach\",\"Deanston\",\"GlenKeith\",\"Dalmore\",\"Dailuaine\",\"Balblair\",\"Strathmill\",\"Loch Lomond\",\"Tamnavulin\",\"Bunnahabhain\",\"Auchentoshan\",\"Cardhu\",\"GlenMoray\",\"Glenmorangie\",\"AnCnoc\",\"Dufftown\",\"Glenallachie\",\"Tobermory\",\"Dalwhinnie\",\"Craigganmore\",\"Craigallechie\",\"Glenlossie\",\"Laphroig\",\"Clynelish\",\"Talisker\",\"Ardbeg\",\"Lagavulin\",\"Caol Ila\",\"Tamdhu\",\"Strathisla\",\"Ardmore\",\"Speyside\",\"Longmorn\",\"Aultmore\",\"OldFettercairn\",\"BenNevis\",\"Miltonduff\",\"Mannochmore\",\"Benrinnes\",\"Benromach\",\"Knochando\",\"BlairAthol\",\"Glengoyne\",\"Edradour\",\"GlenGrant\",\"Scapa\",\"Aberfeldy\",\"Tullibardine\",\"GlenElgin\",\"GlenDeveronMacduff\",\"GlenSpey\",\"Glenfiddich\",\"Glenkinchie\",\"Glenlivet\",\"Inchgower\",\"Bowmore\",\"GlenGarioch\",\"Bladnoch\",\"Linkwood\",\"Benriach\",\"GlenOrd\",\"Speyburn\",\"Belvenie\",\"Tomintoul\",\"RoyalBrackla\",\"Teaninich\",\"ArranIsleOf\",\"GlenScotia\",\"Isle of Jura\",\"Bruichladdich\",\"OldPulteney\",\"Oban\",\"Glenturret\",\"Glenrothes\",\"Mortlach\",\"RoyalLochnagar\",\"Springbank\",\"Glenfarclas\",\"Glendullan\",\"Tormore\",\"Tomatin\",\"Highland Park\",\"Macallan\",\"Glendronach\",\"Auchroisk\",\"Aberlour\",\"Balmenach\",\"Deanston\",\"GlenKeith\",\"Dalmore\",\"Dailuaine\",\"Balblair\",\"Strathmill\",\"Loch Lomond\",\"Tamnavulin\",\"Bunnahabhain\",\"Auchentoshan\",\"Cardhu\",\"GlenMoray\",\"Glenmorangie\",\"AnCnoc\",\"Dufftown\",\"Glenallachie\",\"Tobermory\",\"Dalwhinnie\",\"Craigganmore\",\"Craigallechie\",\"Glenlossie\",\"Laphroig\",\"Clynelish\",\"Talisker\",\"Ardbeg\",\"Lagavulin\",\"Caol Ila\",\"Tamdhu\",\"Strathisla\",\"Ardmore\",\"Speyside\",\"Longmorn\",\"Aultmore\",\"OldFettercairn\",\"BenNevis\",\"Miltonduff\",\"Mannochmore\",\"Benrinnes\",\"Benromach\",\"Knochando\",\"BlairAthol\",\"Glengoyne\",\"Edradour\",\"GlenGrant\",\"Scapa\",\"Aberfeldy\",\"Tullibardine\",\"GlenElgin\",\"GlenDeveronMacduff\",\"GlenSpey\",\"Glenfiddich\",\"Glenkinchie\",\"Glenlivet\",\"Inchgower\",\"Bowmore\",\"GlenGarioch\",\"Bladnoch\",\"Linkwood\",\"Benriach\",\"GlenOrd\",\"Speyburn\",\"Belvenie\",\"Tomintoul\",\"RoyalBrackla\",\"Teaninich\",\"ArranIsleOf\",\"GlenScotia\",\"Isle of Jura\",\"Bruichladdich\",\"OldPulteney\",\"Oban\",\"Glenturret\",\"Glenrothes\",\"Mortlach\",\"RoyalLochnagar\",\"Springbank\",\"Glenfarclas\",\"Glendullan\",\"Tormore\",\"Tomatin\",\"Highland Park\",\"Macallan\",\"Glendronach\",\"Auchroisk\",\"Aberlour\",\"Balmenach\",\"Deanston\",\"GlenKeith\",\"Dalmore\",\"Dailuaine\",\"Balblair\",\"Strathmill\",\"Loch Lomond\",\"Tamnavulin\",\"Bunnahabhain\",\"Auchentoshan\",\"Cardhu\",\"GlenMoray\",\"Glenmorangie\",\"AnCnoc\",\"Dufftown\",\"Glenallachie\",\"Tobermory\",\"Dalwhinnie\",\"Craigganmore\",\"Craigallechie\",\"Glenlossie\",\"Laphroig\",\"Clynelish\",\"Talisker\",\"Ardbeg\",\"Lagavulin\",\"Caol Ila\",\"Tamdhu\",\"Strathisla\",\"Ardmore\",\"Speyside\",\"Longmorn\",\"Aultmore\",\"OldFettercairn\",\"BenNevis\",\"Miltonduff\",\"Mannochmore\",\"Benrinnes\",\"Benromach\",\"Knochando\",\"BlairAthol\",\"Glengoyne\",\"Edradour\",\"GlenGrant\",\"Scapa\",\"Aberfeldy\",\"Tullibardine\",\"GlenElgin\",\"GlenDeveronMacduff\",\"GlenSpey\",\"Glenfiddich\",\"Glenkinchie\",\"Glenlivet\",\"Inchgower\",\"Bowmore\",\"GlenGarioch\",\"Bladnoch\",\"Linkwood\",\"Benriach\",\"GlenOrd\",\"Speyburn\",\"Belvenie\",\"Tomintoul\",\"RoyalBrackla\",\"Teaninich\",\"ArranIsleOf\",\"GlenScotia\",\"Isle of Jura\",\"Bruichladdich\",\"OldPulteney\",\"Oban\",\"Glenturret\",\"Glenrothes\",\"Mortlach\",\"RoyalLochnagar\",\"Springbank\",\"Glenfarclas\",\"Glendullan\",\"Tormore\",\"Tomatin\",\"Highland Park\",\"Macallan\",\"Glendronach\",\"Auchroisk\",\"Aberlour\",\"Balmenach\",\"Deanston\",\"GlenKeith\",\"Dalmore\",\"Dailuaine\",\"Balblair\",\"Strathmill\",\"Loch Lomond\",\"Tamnavulin\",\"Bunnahabhain\",\"Auchentoshan\",\"Cardhu\",\"GlenMoray\",\"Glenmorangie\",\"AnCnoc\",\"Dufftown\",\"Glenallachie\",\"Tobermory\",\"Dalwhinnie\",\"Craigganmore\",\"Craigallechie\",\"Glenlossie\",\"Laphroig\",\"Clynelish\",\"Talisker\",\"Ardbeg\",\"Lagavulin\",\"Caol Ila\",\"Tamdhu\",\"Strathisla\",\"Ardmore\",\"Speyside\",\"Longmorn\",\"Aultmore\",\"OldFettercairn\",\"BenNevis\",\"Miltonduff\",\"Mannochmore\",\"Benrinnes\",\"Benromach\",\"Knochando\",\"BlairAthol\",\"Glengoyne\",\"Edradour\",\"GlenGrant\",\"Scapa\",\"Aberfeldy\",\"Tullibardine\",\"GlenElgin\",\"GlenDeveronMacduff\",\"GlenSpey\",\"Glenfiddich\",\"Glenkinchie\",\"Glenlivet\",\"Inchgower\",\"Bowmore\",\"GlenGarioch\",\"Bladnoch\",\"Linkwood\",\"Benriach\",\"GlenOrd\",\"Speyburn\",\"Belvenie\",\"Tomintoul\",\"RoyalBrackla\",\"Teaninich\",\"ArranIsleOf\",\"GlenScotia\",\"Isle of Jura\",\"Bruichladdich\",\"OldPulteney\",\"Oban\",\"Glenturret\",\"Glenrothes\",\"Mortlach\",\"RoyalLochnagar\",\"Springbank\",\"Glenfarclas\",\"Glendullan\",\"Tormore\",\"Tomatin\",\"Highland Park\",\"Macallan\",\"Glendronach\",\"Auchroisk\",\"Aberlour\",\"Balmenach\",\"Deanston\",\"GlenKeith\",\"Dalmore\",\"Dailuaine\",\"Balblair\",\"Strathmill\",\"Loch Lomond\",\"Tamnavulin\",\"Bunnahabhain\",\"Auchentoshan\",\"Cardhu\",\"GlenMoray\",\"Glenmorangie\",\"AnCnoc\",\"Dufftown\",\"Glenallachie\",\"Tobermory\",\"Dalwhinnie\",\"Craigganmore\",\"Craigallechie\",\"Glenlossie\",\"Laphroig\",\"Clynelish\",\"Talisker\",\"Ardbeg\",\"Lagavulin\",\"Caol Ila\",\"Tamdhu\",\"Strathisla\",\"Ardmore\",\"Speyside\",\"Longmorn\",\"Aultmore\",\"OldFettercairn\",\"BenNevis\",\"Miltonduff\",\"Mannochmore\",\"Benrinnes\",\"Benromach\",\"Knochando\",\"BlairAthol\",\"Glengoyne\",\"Edradour\",\"GlenGrant\",\"Scapa\",\"Aberfeldy\",\"Tullibardine\",\"GlenElgin\",\"GlenDeveronMacduff\",\"GlenSpey\",\"Glenfiddich\",\"Glenkinchie\",\"Glenlivet\",\"Inchgower\",\"Bowmore\",\"GlenGarioch\",\"Bladnoch\",\"Linkwood\",\"Benriach\",\"GlenOrd\",\"Speyburn\",\"Belvenie\",\"Tomintoul\",\"RoyalBrackla\",\"Teaninich\",\"ArranIsleOf\",\"GlenScotia\",\"Isle of Jura\",\"Bruichladdich\",\"OldPulteney\",\"Oban\",\"Glenturret\",\"Glenrothes\",\"Mortlach\",\"RoyalLochnagar\",\"Springbank\",\"Glenfarclas\",\"Glendullan\",\"Tormore\",\"Tomatin\",\"Highland Park\",\"Macallan\",\"Glendronach\",\"Auchroisk\",\"Aberlour\",\"Balmenach\",\"Deanston\",\"GlenKeith\",\"Dalmore\",\"Dailuaine\",\"Balblair\",\"Strathmill\",\"Loch Lomond\",\"Tamnavulin\",\"Bunnahabhain\",\"Auchentoshan\",\"Cardhu\",\"GlenMoray\",\"Glenmorangie\",\"AnCnoc\",\"Dufftown\",\"Glenallachie\",\"Tobermory\",\"Dalwhinnie\",\"Craigganmore\",\"Craigallechie\",\"Glenlossie\",\"Laphroig\",\"Clynelish\",\"Talisker\",\"Ardbeg\",\"Lagavulin\",\"Caol Ila\",\"Tamdhu\",\"Strathisla\",\"Ardmore\",\"Speyside\",\"Longmorn\",\"Aultmore\",\"OldFettercairn\",\"BenNevis\",\"Miltonduff\",\"Mannochmore\",\"Benrinnes\",\"Benromach\",\"Knochando\",\"BlairAthol\",\"Glengoyne\",\"Edradour\",\"GlenGrant\",\"Scapa\",\"Aberfeldy\",\"Tullibardine\",\"GlenElgin\",\"GlenDeveronMacduff\",\"GlenSpey\",\"Glenfiddich\",\"Glenkinchie\",\"Glenlivet\",\"Inchgower\",\"Bowmore\",\"GlenGarioch\",\"Bladnoch\",\"Linkwood\",\"Benriach\",\"GlenOrd\",\"Speyburn\",\"Belvenie\",\"Tomintoul\",\"RoyalBrackla\",\"Teaninich\",\"ArranIsleOf\",\"GlenScotia\",\"Isle of Jura\",\"Bruichladdich\",\"OldPulteney\",\"Oban\",\"Glenturret\",\"Glenrothes\",\"Mortlach\",\"RoyalLochnagar\",\"Springbank\",\"Glenfarclas\",\"Glendullan\",\"Tormore\",\"Tomatin\",\"Highland Park\",\"Macallan\",\"Glendronach\",\"Auchroisk\",\"Aberlour\",\"Balmenach\",\"Deanston\",\"GlenKeith\",\"Dalmore\",\"Dailuaine\",\"Balblair\",\"Strathmill\",\"Loch Lomond\",\"Tamnavulin\",\"Bunnahabhain\",\"Auchentoshan\",\"Cardhu\",\"GlenMoray\",\"Glenmorangie\",\"AnCnoc\",\"Dufftown\",\"Glenallachie\",\"Tobermory\",\"Dalwhinnie\",\"Craigganmore\",\"Craigallechie\",\"Glenlossie\",\"Laphroig\",\"Clynelish\",\"Talisker\",\"Ardbeg\",\"Lagavulin\",\"Caol Ila\",\"Tamdhu\",\"Strathisla\",\"Ardmore\",\"Speyside\",\"Longmorn\",\"Aultmore\",\"OldFettercairn\",\"BenNevis\",\"Miltonduff\",\"Mannochmore\",\"Benrinnes\",\"Benromach\",\"Knochando\",\"BlairAthol\",\"Glengoyne\",\"Edradour\",\"GlenGrant\",\"Scapa\",\"Aberfeldy\",\"Tullibardine\",\"GlenElgin\",\"GlenDeveronMacduff\",\"GlenSpey\",\"Glenfiddich\",\"Glenkinchie\",\"Glenlivet\",\"Inchgower\",\"Bowmore\",\"GlenGarioch\",\"Bladnoch\",\"Linkwood\",\"Benriach\",\"GlenOrd\",\"Speyburn\",\"Belvenie\",\"Tomintoul\",\"RoyalBrackla\",\"Teaninich\",\"ArranIsleOf\",\"GlenScotia\",\"Isle of Jura\",\"Bruichladdich\",\"OldPulteney\",\"Oban\",\"Glenturret\",\"Glenrothes\",\"Mortlach\",\"RoyalLochnagar\",\"Springbank\",\"Glenfarclas\",\"Glendullan\",\"Tormore\",\"Tomatin\",\"Highland Park\",\"Macallan\",\"Glendronach\",\"Auchroisk\",\"Aberlour\",\"Balmenach\",\"Deanston\",\"GlenKeith\",\"Dalmore\",\"Dailuaine\",\"Balblair\",\"Strathmill\",\"Loch Lomond\",\"Tamnavulin\",\"Bunnahabhain\",\"Auchentoshan\",\"Cardhu\",\"GlenMoray\",\"Glenmorangie\",\"AnCnoc\",\"Dufftown\",\"Glenallachie\",\"Tobermory\",\"Dalwhinnie\",\"Craigganmore\",\"Craigallechie\",\"Glenlossie\",\"Laphroig\",\"Clynelish\",\"Talisker\",\"Ardbeg\",\"Lagavulin\",\"Caol Ila\",\"Tamdhu\",\"Strathisla\",\"Ardmore\",\"Speyside\",\"Longmorn\",\"Aultmore\",\"OldFettercairn\",\"BenNevis\",\"Miltonduff\",\"Mannochmore\",\"Benrinnes\",\"Benromach\",\"Knochando\",\"BlairAthol\",\"Glengoyne\",\"Edradour\",\"GlenGrant\",\"Scapa\",\"Aberfeldy\",\"Tullibardine\",\"GlenElgin\",\"GlenDeveronMacduff\",\"GlenSpey\",\"Glenfiddich\",\"Glenkinchie\",\"Glenlivet\",\"Inchgower\",\"Bowmore\",\"GlenGarioch\",\"Bladnoch\",\"Linkwood\",\"Benriach\",\"GlenOrd\",\"Speyburn\",\"Belvenie\",\"Tomintoul\",\"RoyalBrackla\",\"Teaninich\",\"ArranIsleOf\",\"GlenScotia\",\"Isle of Jura\",\"Bruichladdich\",\"OldPulteney\",\"Oban\",\"Glenturret\",\"Glenrothes\",\"Mortlach\",\"RoyalLochnagar\",\"Springbank\",\"Glenfarclas\",\"Glendullan\",\"Tormore\",\"Tomatin\",\"Highland Park\",\"Macallan\",\"Glendronach\",\"Auchroisk\",\"Aberlour\",\"Balmenach\",\"Deanston\",\"GlenKeith\",\"Dalmore\",\"Dailuaine\",\"Balblair\",\"Strathmill\",\"Loch Lomond\",\"Tamnavulin\",\"Bunnahabhain\",\"Auchentoshan\",\"Cardhu\",\"GlenMoray\",\"Glenmorangie\",\"AnCnoc\",\"Dufftown\",\"Glenallachie\",\"Tobermory\",\"Dalwhinnie\",\"Craigganmore\",\"Craigallechie\",\"Glenlossie\",\"Laphroig\",\"Clynelish\",\"Talisker\",\"Ardbeg\",\"Lagavulin\",\"Caol Ila\",\"Tamdhu\",\"Strathisla\",\"Ardmore\",\"Speyside\",\"Longmorn\",\"Aultmore\",\"OldFettercairn\",\"BenNevis\",\"Miltonduff\",\"Mannochmore\",\"Benrinnes\",\"Benromach\",\"Knochando\",\"BlairAthol\",\"Glengoyne\",\"Edradour\",\"GlenGrant\",\"Scapa\",\"Aberfeldy\",\"Tullibardine\",\"GlenElgin\",\"GlenDeveronMacduff\",\"GlenSpey\",\"Glenfiddich\",\"Glenkinchie\",\"Glenlivet\",\"Inchgower\",\"Bowmore\",\"GlenGarioch\",\"Bladnoch\",\"Linkwood\",\"Benriach\",\"GlenOrd\",\"Speyburn\",\"Belvenie\",\"Tomintoul\",\"RoyalBrackla\",\"Teaninich\",\"ArranIsleOf\",\"GlenScotia\",\"Isle of Jura\",\"Bruichladdich\",\"OldPulteney\",\"Oban\",\"Glenturret\",\"Glenrothes\",\"Mortlach\",\"RoyalLochnagar\",\"Springbank\",\"Glenfarclas\",\"Glendullan\",\"Tormore\",\"Tomatin\",\"Highland Park\",\"Macallan\",\"Glendronach\",\"Auchroisk\",\"Aberlour\",\"Balmenach\",\"Deanston\",\"GlenKeith\",\"Dalmore\",\"Dailuaine\",\"Balblair\",\"Strathmill\",\"Loch Lomond\",\"Tamnavulin\",\"Bunnahabhain\",\"Auchentoshan\",\"Cardhu\",\"GlenMoray\",\"Glenmorangie\",\"AnCnoc\",\"Dufftown\",\"Glenallachie\",\"Tobermory\",\"Dalwhinnie\",\"Craigganmore\",\"Craigallechie\",\"Glenlossie\",\"Laphroig\",\"Clynelish\",\"Talisker\",\"Ardbeg\",\"Lagavulin\",\"Caol Ila\",\"Tamdhu\",\"Strathisla\",\"Ardmore\",\"Speyside\",\"Longmorn\",\"Aultmore\",\"OldFettercairn\",\"BenNevis\",\"Miltonduff\",\"Mannochmore\",\"Benrinnes\",\"Benromach\",\"Knochando\",\"BlairAthol\",\"Glengoyne\",\"Edradour\",\"GlenGrant\",\"Scapa\",\"Aberfeldy\",\"Tullibardine\",\"GlenElgin\",\"GlenDeveronMacduff\",\"GlenSpey\",\"Glenfiddich\",\"Glenkinchie\",\"Glenlivet\",\"Inchgower\",\"Bowmore\",\"GlenGarioch\",\"Bladnoch\",\"Linkwood\",\"Benriach\",\"GlenOrd\",\"Speyburn\",\"Belvenie\",\"Tomintoul\",\"RoyalBrackla\",\"Teaninich\",\"ArranIsleOf\",\"GlenScotia\",\"Isle of Jura\",\"Bruichladdich\",\"OldPulteney\",\"Oban\",\"Glenturret\",\"Glenrothes\",\"Mortlach\",\"RoyalLochnagar\",\"Springbank\",\"Glenfarclas\",\"Glendullan\",\"Tormore\",\"Tomatin\",\"Highland Park\",\"Macallan\",\"Glendronach\",\"Auchroisk\",\"Aberlour\",\"Balmenach\",\"Deanston\",\"GlenKeith\",\"Dalmore\",\"Dailuaine\",\"Balblair\",\"Strathmill\",\"Loch Lomond\",\"Tamnavulin\",\"Bunnahabhain\",\"Auchentoshan\",\"Cardhu\",\"GlenMoray\",\"Glenmorangie\",\"AnCnoc\",\"Dufftown\",\"Glenallachie\",\"Tobermory\",\"Dalwhinnie\",\"Craigganmore\",\"Craigallechie\",\"Glenlossie\",\"Laphroig\",\"Clynelish\",\"Talisker\",\"Ardbeg\",\"Lagavulin\",\"Caol Ila\",\"Tamdhu\",\"Strathisla\",\"Ardmore\",\"Speyside\",\"Longmorn\",\"Aultmore\",\"OldFettercairn\",\"BenNevis\",\"Miltonduff\",\"Mannochmore\",\"Benrinnes\",\"Benromach\",\"Knochando\",\"BlairAthol\",\"Glengoyne\",\"Edradour\",\"GlenGrant\",\"Scapa\",\"Aberfeldy\",\"Tullibardine\",\"GlenElgin\",\"GlenDeveronMacduff\",\"GlenSpey\",\"Glenfiddich\",\"Glenkinchie\",\"Glenlivet\",\"Inchgower\",\"Bowmore\",\"GlenGarioch\",\"Bladnoch\",\"Linkwood\",\"Benriach\",\"GlenOrd\",\"Speyburn\",\"Belvenie\",\"Tomintoul\",\"RoyalBrackla\",\"Teaninich\",\"ArranIsleOf\",\"GlenScotia\",\"Isle of Jura\",\"Bruichladdich\",\"OldPulteney\",\"Oban\",\"Glenturret\",\"Glenrothes\",\"Mortlach\",\"RoyalLochnagar\",\"Springbank\",\"Glenfarclas\",\"Glendullan\",\"Tormore\",\"Tomatin\",\"Highland Park\",\"Macallan\",\"Glendronach\",\"Auchroisk\",\"Aberlour\",\"Balmenach\",\"Deanston\",\"GlenKeith\",\"Dalmore\",\"Dailuaine\",\"Balblair\",\"Strathmill\",\"Loch Lomond\",\"Tamnavulin\",\"Bunnahabhain\",\"Auchentoshan\",\"Cardhu\",\"GlenMoray\",\"Glenmorangie\",\"AnCnoc\",\"Dufftown\",\"Glenallachie\",\"Tobermory\",\"Dalwhinnie\",\"Craigganmore\",\"Craigallechie\",\"Glenlossie\",\"Laphroig\",\"Clynelish\",\"Talisker\",\"Ardbeg\",\"Lagavulin\",\"Caol Ila\",\"Tamdhu\",\"Strathisla\",\"Ardmore\",\"Speyside\",\"Longmorn\",\"Aultmore\",\"OldFettercairn\",\"BenNevis\",\"Miltonduff\",\"Mannochmore\",\"Benrinnes\",\"Benromach\",\"Knochando\",\"BlairAthol\",\"Glengoyne\",\"Edradour\",\"GlenGrant\",\"Scapa\",\"Aberfeldy\",\"Tullibardine\",\"GlenElgin\",\"GlenDeveronMacduff\",\"GlenSpey\",\"Glenfiddich\",\"Glenkinchie\",\"Glenlivet\",\"Inchgower\",\"Bowmore\",\"GlenGarioch\",\"Bladnoch\",\"Linkwood\",\"Benriach\",\"GlenOrd\",\"Speyburn\",\"Belvenie\",\"Tomintoul\",\"RoyalBrackla\",\"Teaninich\",\"ArranIsleOf\",\"GlenScotia\",\"Isle of Jura\",\"Bruichladdich\",\"OldPulteney\",\"Oban\",\"Glenturret\",\"Glenrothes\",\"Mortlach\",\"RoyalLochnagar\",\"Springbank\",\"Glenfarclas\",\"Glendullan\",\"Tormore\",\"Tomatin\",\"Highland Park\",\"Macallan\",\"Glendronach\",\"Auchroisk\",\"Aberlour\",\"Balmenach\",\"Deanston\",\"GlenKeith\",\"Dalmore\",\"Dailuaine\",\"Balblair\",\"Strathmill\",\"Loch Lomond\",\"Tamnavulin\",\"Bunnahabhain\",\"Auchentoshan\",\"Cardhu\",\"GlenMoray\",\"Glenmorangie\",\"AnCnoc\",\"Dufftown\",\"Glenallachie\",\"Tobermory\",\"Dalwhinnie\",\"Craigganmore\",\"Craigallechie\",\"Glenlossie\",\"Laphroig\",\"Clynelish\",\"Talisker\",\"Ardbeg\",\"Lagavulin\",\"Caol Ila\",\"Tamdhu\",\"Strathisla\",\"Ardmore\",\"Speyside\",\"Longmorn\",\"Aultmore\",\"OldFettercairn\",\"BenNevis\",\"Miltonduff\",\"Mannochmore\",\"Benrinnes\",\"Benromach\",\"Knochando\",\"BlairAthol\",\"Glengoyne\",\"Edradour\",\"GlenGrant\",\"Scapa\",\"Aberfeldy\",\"Tullibardine\",\"GlenElgin\",\"GlenDeveronMacduff\",\"GlenSpey\",\"Glenfiddich\",\"Glenkinchie\",\"Glenlivet\",\"Inchgower\",\"Bowmore\",\"GlenGarioch\",\"Bladnoch\",\"Linkwood\",\"Benriach\",\"GlenOrd\",\"Speyburn\",\"Belvenie\",\"Tomintoul\",\"RoyalBrackla\",\"Teaninich\",\"ArranIsleOf\",\"GlenScotia\",\"Isle of Jura\",\"Bruichladdich\",\"OldPulteney\",\"Oban\",\"Glenturret\",\"Glenrothes\",\"Mortlach\",\"RoyalLochnagar\",\"Springbank\",\"Glenfarclas\",\"Glendullan\",\"Tormore\",\"Tomatin\",\"Highland Park\",\"Macallan\",\"Glendronach\",\"Auchroisk\",\"Aberlour\",\"Balmenach\",\"Deanston\",\"GlenKeith\",\"Dalmore\",\"Dailuaine\",\"Balblair\",\"Strathmill\",\"Loch Lomond\",\"Tamnavulin\",\"Bunnahabhain\",\"Auchentoshan\",\"Cardhu\",\"GlenMoray\",\"Glenmorangie\",\"AnCnoc\",\"Dufftown\",\"Glenallachie\",\"Tobermory\",\"Dalwhinnie\",\"Craigganmore\",\"Craigallechie\",\"Glenlossie\",\"Laphroig\",\"Clynelish\",\"Talisker\",\"Ardbeg\",\"Lagavulin\",\"Caol Ila\",\"Tamdhu\",\"Strathisla\",\"Ardmore\",\"Speyside\",\"Longmorn\",\"Aultmore\",\"OldFettercairn\",\"BenNevis\",\"Miltonduff\",\"Mannochmore\",\"Benrinnes\",\"Benromach\",\"Knochando\",\"BlairAthol\",\"Glengoyne\",\"Edradour\",\"GlenGrant\",\"Scapa\",\"Aberfeldy\",\"Tullibardine\",\"GlenElgin\",\"GlenDeveronMacduff\",\"GlenSpey\",\"Glenfiddich\",\"Glenkinchie\",\"Glenlivet\",\"Inchgower\",\"Bowmore\",\"GlenGarioch\",\"Bladnoch\",\"Linkwood\",\"Benriach\",\"GlenOrd\",\"Speyburn\",\"Belvenie\",\"Tomintoul\",\"RoyalBrackla\",\"Teaninich\",\"ArranIsleOf\",\"GlenScotia\",\"Isle of Jura\",\"Bruichladdich\",\"OldPulteney\",\"Oban\",\"Glenturret\",\"Glenrothes\",\"Mortlach\",\"RoyalLochnagar\",\"Springbank\",\"Glenfarclas\",\"Glendullan\",\"Tormore\",\"Tomatin\",\"Highland Park\",\"Macallan\",\"Glendronach\",\"Auchroisk\",\"Aberlour\",\"Balmenach\",\"Deanston\",\"GlenKeith\",\"Dalmore\",\"Dailuaine\",\"Balblair\",\"Strathmill\",\"Loch Lomond\",\"Tamnavulin\",\"Bunnahabhain\",\"Auchentoshan\",\"Cardhu\",\"GlenMoray\",\"Glenmorangie\",\"AnCnoc\",\"Dufftown\",\"Glenallachie\",\"Tobermory\",\"Dalwhinnie\",\"Craigganmore\",\"Craigallechie\",\"Glenlossie\",\"Laphroig\",\"Clynelish\",\"Talisker\",\"Ardbeg\",\"Lagavulin\",\"Caol Ila\",\"Tamdhu\",\"Strathisla\",\"Ardmore\",\"Speyside\",\"Longmorn\",\"Aultmore\",\"OldFettercairn\",\"BenNevis\",\"Miltonduff\",\"Mannochmore\",\"Benrinnes\",\"Benromach\",\"Knochando\",\"BlairAthol\",\"Glengoyne\",\"Edradour\",\"GlenGrant\",\"Scapa\",\"Aberfeldy\",\"Tullibardine\",\"GlenElgin\",\"GlenDeveronMacduff\",\"GlenSpey\",\"Glenfiddich\",\"Glenkinchie\",\"Glenlivet\",\"Inchgower\",\"Bowmore\",\"GlenGarioch\",\"Bladnoch\",\"Linkwood\",\"Benriach\",\"GlenOrd\",\"Speyburn\",\"Belvenie\",\"Tomintoul\",\"RoyalBrackla\",\"Teaninich\",\"ArranIsleOf\",\"GlenScotia\",\"Isle of Jura\",\"Bruichladdich\",\"OldPulteney\",\"Oban\",\"Glenturret\",\"Glenrothes\",\"Mortlach\",\"RoyalLochnagar\",\"Springbank\",\"Glenfarclas\",\"Glendullan\",\"Tormore\",\"Tomatin\",\"Highland Park\",\"Macallan\",\"Glendronach\",\"Auchroisk\",\"Aberlour\",\"Balmenach\",\"Deanston\",\"GlenKeith\",\"Dalmore\",\"Dailuaine\",\"Balblair\",\"Strathmill\",\"Loch Lomond\",\"Tamnavulin\",\"Bunnahabhain\",\"Auchentoshan\",\"Cardhu\",\"GlenMoray\",\"Glenmorangie\",\"AnCnoc\",\"Dufftown\",\"Glenallachie\",\"Tobermory\",\"Dalwhinnie\",\"Craigganmore\",\"Craigallechie\",\"Glenlossie\",\"Laphroig\",\"Clynelish\",\"Talisker\",\"Ardbeg\",\"Lagavulin\",\"Caol Ila\",\"Tamdhu\",\"Strathisla\",\"Ardmore\",\"Speyside\",\"Longmorn\",\"Aultmore\",\"OldFettercairn\",\"BenNevis\",\"Miltonduff\",\"Mannochmore\",\"Benrinnes\",\"Benromach\",\"Knochando\",\"BlairAthol\",\"Glengoyne\",\"Edradour\",\"GlenGrant\",\"Scapa\",\"Aberfeldy\",\"Tullibardine\",\"GlenElgin\",\"GlenDeveronMacduff\",\"GlenSpey\",\"Glenfiddich\",\"Glenkinchie\",\"Glenlivet\",\"Inchgower\",\"Bowmore\",\"GlenGarioch\",\"Bladnoch\",\"Linkwood\",\"Benriach\",\"GlenOrd\",\"Speyburn\",\"Belvenie\",\"Tomintoul\",\"RoyalBrackla\",\"Teaninich\",\"ArranIsleOf\",\"GlenScotia\",\"Isle of Jura\",\"Bruichladdich\",\"OldPulteney\",\"Oban\",\"Glenturret\",\"Glenrothes\",\"Mortlach\",\"RoyalLochnagar\",\"Springbank\",\"Glenfarclas\",\"Glendullan\",\"Tormore\",\"Tomatin\",\"Highland Park\",\"Macallan\",\"Glendronach\",\"Auchroisk\",\"Aberlour\",\"Balmenach\",\"Deanston\",\"GlenKeith\",\"Dalmore\",\"Dailuaine\",\"Balblair\",\"Strathmill\",\"Loch Lomond\",\"Tamnavulin\",\"Bunnahabhain\",\"Auchentoshan\",\"Cardhu\",\"GlenMoray\",\"Glenmorangie\",\"AnCnoc\",\"Dufftown\",\"Glenallachie\",\"Tobermory\",\"Dalwhinnie\",\"Craigganmore\",\"Craigallechie\",\"Glenlossie\",\"Laphroig\",\"Clynelish\",\"Talisker\",\"Ardbeg\",\"Lagavulin\",\"Caol Ila\",\"Tamdhu\",\"Strathisla\",\"Ardmore\",\"Speyside\",\"Longmorn\",\"Aultmore\",\"OldFettercairn\",\"BenNevis\",\"Miltonduff\",\"Mannochmore\",\"Benrinnes\",\"Benromach\",\"Knochando\",\"BlairAthol\",\"Glengoyne\",\"Edradour\",\"GlenGrant\",\"Scapa\",\"Aberfeldy\",\"Tullibardine\",\"GlenElgin\",\"GlenDeveronMacduff\",\"GlenSpey\",\"Glenfiddich\",\"Glenkinchie\",\"Glenlivet\",\"Inchgower\",\"Bowmore\",\"GlenGarioch\",\"Bladnoch\",\"Linkwood\",\"Benriach\",\"GlenOrd\",\"Speyburn\",\"Belvenie\",\"Tomintoul\",\"RoyalBrackla\",\"Teaninich\",\"ArranIsleOf\",\"GlenScotia\",\"Isle of Jura\",\"Bruichladdich\",\"OldPulteney\",\"Oban\",\"Glenturret\",\"Glenrothes\",\"Mortlach\",\"RoyalLochnagar\",\"Springbank\",\"Glenfarclas\",\"Glendullan\",\"Tormore\",\"Tomatin\",\"Highland Park\",\"Macallan\",\"Glendronach\",\"Auchroisk\",\"Aberlour\",\"Balmenach\",\"Deanston\",\"GlenKeith\",\"Dalmore\",\"Dailuaine\",\"Balblair\",\"Strathmill\",\"Loch Lomond\",\"Tamnavulin\",\"Bunnahabhain\",\"Auchentoshan\",\"Cardhu\",\"GlenMoray\",\"Glenmorangie\",\"AnCnoc\",\"Dufftown\",\"Glenallachie\",\"Tobermory\",\"Dalwhinnie\",\"Craigganmore\",\"Craigallechie\",\"Glenlossie\",\"Laphroig\",\"Clynelish\",\"Talisker\",\"Ardbeg\",\"Lagavulin\",\"Caol Ila\",\"Tamdhu\",\"Strathisla\",\"Ardmore\",\"Speyside\",\"Longmorn\",\"Aultmore\",\"OldFettercairn\",\"BenNevis\",\"Miltonduff\",\"Mannochmore\",\"Benrinnes\",\"Benromach\",\"Knochando\",\"BlairAthol\",\"Glengoyne\",\"Edradour\",\"GlenGrant\",\"Scapa\",\"Aberfeldy\",\"Tullibardine\",\"GlenElgin\",\"GlenDeveronMacduff\",\"GlenSpey\",\"Glenfiddich\",\"Glenkinchie\",\"Glenlivet\",\"Inchgower\",\"Bowmore\",\"GlenGarioch\",\"Bladnoch\",\"Linkwood\",\"Benriach\",\"GlenOrd\",\"Speyburn\",\"Belvenie\",\"Tomintoul\",\"RoyalBrackla\",\"Teaninich\",\"ArranIsleOf\",\"GlenScotia\",\"Isle of Jura\",\"Bruichladdich\",\"OldPulteney\",\"Oban\",\"Glenturret\",\"Glenrothes\",\"Mortlach\",\"RoyalLochnagar\",\"Springbank\",\"Glenfarclas\",\"Glendullan\",\"Tormore\",\"Tomatin\",\"Highland Park\",\"Macallan\",\"Glendronach\",\"Auchroisk\",\"Aberlour\",\"Balmenach\",\"Deanston\",\"GlenKeith\",\"Dalmore\",\"Dailuaine\",\"Balblair\",\"Strathmill\",\"Loch Lomond\",\"Tamnavulin\",\"Bunnahabhain\",\"Auchentoshan\",\"Cardhu\",\"GlenMoray\",\"Glenmorangie\",\"AnCnoc\",\"Dufftown\",\"Glenallachie\",\"Tobermory\",\"Dalwhinnie\",\"Craigganmore\",\"Craigallechie\",\"Glenlossie\",\"Laphroig\",\"Clynelish\",\"Talisker\",\"Ardbeg\",\"Lagavulin\",\"Caol Ila\",\"Tamdhu\",\"Strathisla\",\"Ardmore\",\"Speyside\",\"Longmorn\",\"Aultmore\",\"OldFettercairn\",\"BenNevis\",\"Miltonduff\",\"Mannochmore\",\"Benrinnes\",\"Benromach\",\"Knochando\",\"BlairAthol\",\"Glengoyne\",\"Edradour\",\"GlenGrant\",\"Scapa\",\"Aberfeldy\",\"Tullibardine\",\"GlenElgin\",\"GlenDeveronMacduff\",\"GlenSpey\",\"Glenfiddich\",\"Glenkinchie\",\"Glenlivet\",\"Inchgower\",\"Bowmore\",\"GlenGarioch\",\"Bladnoch\",\"Linkwood\",\"Benriach\",\"GlenOrd\",\"Speyburn\",\"Belvenie\",\"Tomintoul\",\"RoyalBrackla\",\"Teaninich\",\"ArranIsleOf\",\"GlenScotia\",\"Isle of Jura\",\"Bruichladdich\",\"OldPulteney\",\"Oban\",\"Glenturret\",\"Glenrothes\",\"Mortlach\",\"RoyalLochnagar\",\"Springbank\",\"Glenfarclas\",\"Glendullan\",\"Tormore\",\"Tomatin\",\"Highland Park\",\"Macallan\",\"Glendronach\",\"Auchroisk\",\"Aberlour\",\"Balmenach\",\"Deanston\",\"GlenKeith\",\"Dalmore\",\"Dailuaine\",\"Balblair\",\"Strathmill\",\"Loch Lomond\",\"Tamnavulin\",\"Bunnahabhain\",\"Auchentoshan\",\"Cardhu\",\"GlenMoray\",\"Glenmorangie\",\"AnCnoc\",\"Dufftown\",\"Glenallachie\",\"Tobermory\",\"Dalwhinnie\",\"Craigganmore\",\"Craigallechie\",\"Glenlossie\",\"Laphroig\",\"Clynelish\",\"Talisker\",\"Ardbeg\",\"Lagavulin\",\"Caol Ila\",\"Tamdhu\",\"Strathisla\",\"Ardmore\",\"Speyside\",\"Longmorn\",\"Aultmore\",\"OldFettercairn\",\"BenNevis\",\"Miltonduff\",\"Mannochmore\",\"Benrinnes\",\"Benromach\",\"Knochando\",\"BlairAthol\",\"Glengoyne\",\"Edradour\",\"GlenGrant\",\"Scapa\",\"Aberfeldy\",\"Tullibardine\",\"GlenElgin\",\"GlenDeveronMacduff\",\"GlenSpey\",\"Glenfiddich\",\"Glenkinchie\",\"Glenlivet\",\"Inchgower\",\"Bowmore\",\"GlenGarioch\",\"Bladnoch\",\"Linkwood\",\"Benriach\",\"GlenOrd\",\"Speyburn\",\"Belvenie\",\"Tomintoul\",\"RoyalBrackla\",\"Teaninich\",\"ArranIsleOf\",\"GlenScotia\",\"Isle of Jura\",\"Bruichladdich\",\"OldPulteney\",\"Oban\",\"Glenturret\",\"Glenrothes\",\"Mortlach\",\"RoyalLochnagar\",\"Springbank\",\"Glenfarclas\",\"Glendullan\",\"Tormore\",\"Tomatin\",\"Highland Park\",\"Macallan\",\"Glendronach\",\"Auchroisk\",\"Aberlour\",\"Balmenach\",\"Deanston\",\"GlenKeith\",\"Dalmore\",\"Dailuaine\",\"Balblair\",\"Strathmill\",\"Loch Lomond\",\"Tamnavulin\",\"Bunnahabhain\",\"Auchentoshan\",\"Cardhu\",\"GlenMoray\",\"Glenmorangie\",\"AnCnoc\",\"Dufftown\",\"Glenallachie\",\"Tobermory\",\"Dalwhinnie\",\"Craigganmore\",\"Craigallechie\",\"Glenlossie\",\"Laphroig\",\"Clynelish\",\"Talisker\",\"Ardbeg\",\"Lagavulin\",\"Caol Ila\",\"Tamdhu\",\"Strathisla\",\"Ardmore\",\"Speyside\",\"Longmorn\",\"Aultmore\",\"OldFettercairn\",\"BenNevis\",\"Miltonduff\",\"Mannochmore\",\"Benrinnes\",\"Benromach\",\"Knochando\",\"BlairAthol\",\"Glengoyne\",\"Edradour\",\"GlenGrant\",\"Scapa\",\"Aberfeldy\",\"Tullibardine\",\"GlenElgin\",\"GlenDeveronMacduff\",\"GlenSpey\",\"Glenfiddich\",\"Glenkinchie\",\"Glenlivet\",\"Inchgower\",\"Bowmore\",\"GlenGarioch\",\"Bladnoch\",\"Linkwood\",\"Benriach\",\"GlenOrd\",\"Speyburn\",\"Belvenie\",\"Tomintoul\",\"RoyalBrackla\",\"Teaninich\",\"ArranIsleOf\",\"GlenScotia\",\"Isle of Jura\",\"Bruichladdich\",\"OldPulteney\",\"Oban\",\"Glenturret\",\"Glenrothes\",\"Mortlach\",\"RoyalLochnagar\",\"Springbank\",\"Glenfarclas\",\"Glendullan\",\"Tormore\",\"Tomatin\",\"Highland Park\",\"Macallan\",\"Glendronach\",\"Auchroisk\",\"Aberlour\",\"Balmenach\",\"Deanston\",\"GlenKeith\",\"Dalmore\",\"Dailuaine\",\"Balblair\",\"Strathmill\",\"Loch Lomond\",\"Tamnavulin\",\"Bunnahabhain\",\"Auchentoshan\",\"Cardhu\",\"GlenMoray\",\"Glenmorangie\",\"AnCnoc\",\"Dufftown\",\"Glenallachie\",\"Tobermory\",\"Dalwhinnie\",\"Craigganmore\",\"Craigallechie\",\"Glenlossie\",\"Laphroig\",\"Clynelish\",\"Talisker\",\"Ardbeg\",\"Lagavulin\",\"Caol Ila\",\"Tamdhu\",\"Strathisla\",\"Ardmore\",\"Speyside\",\"Longmorn\",\"Aultmore\",\"OldFettercairn\",\"BenNevis\",\"Miltonduff\",\"Mannochmore\",\"Benrinnes\",\"Benromach\",\"Knochando\",\"BlairAthol\",\"Glengoyne\",\"Edradour\",\"GlenGrant\",\"Scapa\",\"Aberfeldy\",\"Tullibardine\",\"GlenElgin\",\"GlenDeveronMacduff\",\"GlenSpey\",\"Glenfiddich\",\"Glenkinchie\",\"Glenlivet\",\"Inchgower\",\"Bowmore\",\"GlenGarioch\",\"Bladnoch\",\"Linkwood\",\"Benriach\",\"GlenOrd\",\"Speyburn\",\"Belvenie\",\"Tomintoul\",\"RoyalBrackla\",\"Teaninich\",\"ArranIsleOf\",\"GlenScotia\",\"Isle of Jura\",\"Bruichladdich\",\"OldPulteney\",\"Oban\",\"Glenturret\",\"Glenrothes\",\"Mortlach\",\"RoyalLochnagar\",\"Springbank\",\"Glenfarclas\",\"Glendullan\",\"Tormore\",\"Tomatin\",\"Highland Park\",\"Macallan\",\"Glendronach\",\"Auchroisk\",\"Aberlour\",\"Balmenach\",\"Deanston\",\"GlenKeith\",\"Dalmore\",\"Dailuaine\",\"Balblair\",\"Strathmill\",\"Loch Lomond\",\"Tamnavulin\",\"Bunnahabhain\",\"Auchentoshan\",\"Cardhu\",\"GlenMoray\",\"Glenmorangie\",\"AnCnoc\",\"Dufftown\",\"Glenallachie\",\"Tobermory\",\"Dalwhinnie\",\"Craigganmore\",\"Craigallechie\",\"Glenlossie\",\"Laphroig\",\"Clynelish\",\"Talisker\",\"Ardbeg\",\"Lagavulin\",\"Caol Ila\",\"Tamdhu\",\"Strathisla\",\"Ardmore\",\"Speyside\",\"Longmorn\",\"Aultmore\",\"OldFettercairn\",\"BenNevis\",\"Miltonduff\",\"Mannochmore\",\"Benrinnes\",\"Benromach\",\"Knochando\",\"BlairAthol\",\"Glengoyne\",\"Edradour\",\"GlenGrant\",\"Scapa\",\"Aberfeldy\",\"Tullibardine\",\"GlenElgin\",\"GlenDeveronMacduff\",\"GlenSpey\",\"Glenfiddich\",\"Glenkinchie\",\"Glenlivet\",\"Inchgower\",\"Bowmore\",\"GlenGarioch\",\"Bladnoch\",\"Linkwood\",\"Benriach\",\"GlenOrd\",\"Speyburn\",\"Belvenie\",\"Tomintoul\",\"RoyalBrackla\",\"Teaninich\",\"ArranIsleOf\",\"GlenScotia\",\"Isle of Jura\",\"Bruichladdich\",\"OldPulteney\",\"Oban\",\"Glenturret\",\"Glenrothes\",\"Mortlach\",\"RoyalLochnagar\",\"Springbank\",\"Glenfarclas\",\"Glendullan\",\"Tormore\",\"Tomatin\",\"Highland Park\",\"Macallan\",\"Glendronach\",\"Auchroisk\",\"Aberlour\",\"Balmenach\",\"Deanston\",\"GlenKeith\",\"Dalmore\",\"Dailuaine\",\"Balblair\",\"Strathmill\",\"Loch Lomond\",\"Tamnavulin\",\"Bunnahabhain\",\"Auchentoshan\",\"Cardhu\",\"GlenMoray\",\"Glenmorangie\",\"AnCnoc\",\"Dufftown\",\"Glenallachie\",\"Tobermory\",\"Dalwhinnie\",\"Craigganmore\",\"Craigallechie\",\"Glenlossie\",\"Laphroig\",\"Clynelish\",\"Talisker\",\"Ardbeg\",\"Lagavulin\",\"Caol Ila\",\"Tamdhu\",\"Strathisla\",\"Ardmore\",\"Speyside\",\"Longmorn\",\"Aultmore\",\"OldFettercairn\",\"BenNevis\",\"Miltonduff\",\"Mannochmore\",\"Benrinnes\",\"Benromach\",\"Knochando\",\"BlairAthol\",\"Glengoyne\",\"Edradour\",\"GlenGrant\",\"Scapa\",\"Aberfeldy\",\"Tullibardine\",\"GlenElgin\",\"GlenDeveronMacduff\",\"GlenSpey\",\"Glenfiddich\",\"Glenkinchie\",\"Glenlivet\",\"Inchgower\",\"Bowmore\",\"GlenGarioch\",\"Bladnoch\",\"Linkwood\",\"Benriach\",\"GlenOrd\",\"Speyburn\",\"Belvenie\",\"Tomintoul\",\"RoyalBrackla\",\"Teaninich\",\"ArranIsleOf\",\"GlenScotia\",\"Isle of Jura\",\"Bruichladdich\",\"OldPulteney\",\"Oban\",\"Glenturret\",\"Glenrothes\",\"Mortlach\",\"RoyalLochnagar\",\"Springbank\",\"Glenfarclas\",\"Glendullan\",\"Tormore\",\"Tomatin\",\"Highland Park\",\"Macallan\",\"Glendronach\",\"Auchroisk\",\"Aberlour\",\"Balmenach\",\"Deanston\",\"GlenKeith\",\"Dalmore\",\"Dailuaine\",\"Balblair\",\"Strathmill\",\"Loch Lomond\",\"Tamnavulin\",\"Bunnahabhain\",\"Auchentoshan\",\"Cardhu\",\"GlenMoray\",\"Glenmorangie\",\"AnCnoc\",\"Dufftown\",\"Glenallachie\",\"Tobermory\",\"Dalwhinnie\",\"Craigganmore\",\"Craigallechie\",\"Glenlossie\",\"Laphroig\",\"Clynelish\",\"Talisker\",\"Ardbeg\",\"Lagavulin\",\"Caol Ila\",\"Tamdhu\",\"Strathisla\",\"Ardmore\",\"Speyside\",\"Longmorn\",\"Aultmore\",\"OldFettercairn\",\"BenNevis\",\"Miltonduff\",\"Mannochmore\",\"Benrinnes\",\"Benromach\",\"Knochando\",\"BlairAthol\",\"Glengoyne\",\"Edradour\",\"GlenGrant\",\"Scapa\",\"Aberfeldy\",\"Tullibardine\",\"GlenElgin\",\"GlenDeveronMacduff\",\"GlenSpey\",\"Glenfiddich\",\"Glenkinchie\",\"Glenlivet\",\"Inchgower\",\"Bowmore\",\"GlenGarioch\",\"Bladnoch\",\"Linkwood\",\"Benriach\",\"GlenOrd\",\"Speyburn\",\"Belvenie\",\"Tomintoul\",\"RoyalBrackla\",\"Teaninich\",\"ArranIsleOf\",\"GlenScotia\",\"Isle of Jura\",\"Bruichladdich\",\"OldPulteney\",\"Oban\",\"Glenturret\",\"Glenrothes\",\"Mortlach\",\"RoyalLochnagar\",\"Springbank\",\"Glenfarclas\",\"Glendullan\",\"Tormore\",\"Tomatin\",\"Highland Park\",\"Macallan\",\"Glendronach\",\"Auchroisk\",\"Aberlour\",\"Balmenach\",\"Deanston\",\"GlenKeith\",\"Dalmore\",\"Dailuaine\",\"Balblair\",\"Strathmill\",\"Loch Lomond\",\"Tamnavulin\",\"Bunnahabhain\",\"Auchentoshan\",\"Cardhu\",\"GlenMoray\",\"Glenmorangie\",\"AnCnoc\",\"Dufftown\",\"Glenallachie\",\"Tobermory\",\"Dalwhinnie\",\"Craigganmore\",\"Craigallechie\",\"Glenlossie\",\"Laphroig\",\"Clynelish\",\"Talisker\",\"Ardbeg\",\"Lagavulin\",\"Caol Ila\",\"Tamdhu\",\"Strathisla\",\"Ardmore\",\"Speyside\",\"Longmorn\",\"Aultmore\",\"OldFettercairn\",\"BenNevis\",\"Miltonduff\",\"Mannochmore\",\"Benrinnes\",\"Benromach\",\"Knochando\",\"BlairAthol\",\"Glengoyne\",\"Edradour\",\"GlenGrant\",\"Scapa\",\"Aberfeldy\",\"Tullibardine\",\"GlenElgin\",\"GlenDeveronMacduff\",\"GlenSpey\",\"Glenfiddich\",\"Glenkinchie\",\"Glenlivet\",\"Inchgower\",\"Bowmore\",\"GlenGarioch\",\"Bladnoch\",\"Linkwood\",\"Benriach\",\"GlenOrd\",\"Speyburn\",\"Belvenie\",\"Tomintoul\",\"RoyalBrackla\",\"Teaninich\",\"ArranIsleOf\",\"GlenScotia\",\"Isle of Jura\",\"Bruichladdich\",\"OldPulteney\",\"Oban\",\"Glenturret\",\"Glenrothes\",\"Mortlach\",\"RoyalLochnagar\",\"Springbank\",\"Glenfarclas\",\"Glendullan\",\"Tormore\",\"Tomatin\",\"Highland Park\",\"Macallan\",\"Glendronach\",\"Auchroisk\",\"Aberlour\",\"Balmenach\",\"Deanston\",\"GlenKeith\",\"Dalmore\",\"Dailuaine\",\"Balblair\",\"Strathmill\",\"Loch Lomond\",\"Tamnavulin\",\"Bunnahabhain\",\"Auchentoshan\",\"Cardhu\",\"GlenMoray\",\"Glenmorangie\",\"AnCnoc\",\"Dufftown\",\"Glenallachie\",\"Tobermory\",\"Dalwhinnie\",\"Craigganmore\",\"Craigallechie\",\"Glenlossie\",\"Laphroig\",\"Clynelish\",\"Talisker\",\"Ardbeg\",\"Lagavulin\",\"Caol Ila\",\"Tamdhu\",\"Strathisla\",\"Ardmore\",\"Speyside\",\"Longmorn\",\"Aultmore\",\"OldFettercairn\",\"BenNevis\",\"Miltonduff\",\"Mannochmore\",\"Benrinnes\",\"Benromach\",\"Knochando\",\"BlairAthol\",\"Glengoyne\",\"Edradour\",\"GlenGrant\",\"Scapa\",\"Aberfeldy\",\"Tullibardine\",\"GlenElgin\",\"GlenDeveronMacduff\",\"GlenSpey\",\"Glenfiddich\",\"Glenkinchie\",\"Glenlivet\",\"Inchgower\",\"Bowmore\",\"GlenGarioch\",\"Bladnoch\",\"Linkwood\",\"Benriach\",\"GlenOrd\",\"Speyburn\",\"Belvenie\",\"Tomintoul\",\"RoyalBrackla\",\"Teaninich\",\"ArranIsleOf\",\"GlenScotia\",\"Isle of Jura\",\"Bruichladdich\",\"OldPulteney\",\"Oban\",\"Glenturret\",\"Glenrothes\",\"Mortlach\",\"RoyalLochnagar\",\"Springbank\",\"Glenfarclas\",\"Glendullan\",\"Tormore\",\"Tomatin\",\"Highland Park\",\"Macallan\",\"Glendronach\",\"Auchroisk\",\"Aberlour\",\"Balmenach\",\"Deanston\",\"GlenKeith\",\"Dalmore\",\"Dailuaine\",\"Balblair\",\"Strathmill\",\"Loch Lomond\",\"Tamnavulin\",\"Bunnahabhain\",\"Auchentoshan\",\"Cardhu\",\"GlenMoray\",\"Glenmorangie\",\"AnCnoc\",\"Dufftown\",\"Glenallachie\",\"Tobermory\",\"Dalwhinnie\",\"Craigganmore\",\"Craigallechie\",\"Glenlossie\",\"Laphroig\",\"Clynelish\",\"Talisker\",\"Ardbeg\",\"Lagavulin\",\"Caol Ila\",\"Tamdhu\",\"Strathisla\",\"Ardmore\",\"Speyside\",\"Longmorn\",\"Aultmore\",\"OldFettercairn\",\"BenNevis\",\"Miltonduff\",\"Mannochmore\",\"Benrinnes\",\"Benromach\",\"Knochando\",\"BlairAthol\",\"Glengoyne\",\"Edradour\",\"GlenGrant\",\"Scapa\",\"Aberfeldy\",\"Tullibardine\",\"GlenElgin\",\"GlenDeveronMacduff\",\"GlenSpey\",\"Glenfiddich\",\"Glenkinchie\",\"Glenlivet\",\"Inchgower\",\"Bowmore\",\"GlenGarioch\",\"Bladnoch\",\"Linkwood\",\"Benriach\",\"GlenOrd\",\"Speyburn\",\"Belvenie\",\"Tomintoul\",\"RoyalBrackla\",\"Teaninich\",\"ArranIsleOf\",\"GlenScotia\",\"Isle of Jura\",\"Bruichladdich\",\"OldPulteney\",\"Oban\",\"Glenturret\",\"Glenrothes\",\"Mortlach\",\"RoyalLochnagar\",\"Springbank\",\"Glenfarclas\",\"Glendullan\",\"Tormore\",\"Tomatin\",\"Highland Park\",\"Macallan\",\"Glendronach\",\"Auchroisk\",\"Aberlour\",\"Balmenach\",\"Deanston\",\"GlenKeith\",\"Dalmore\",\"Dailuaine\",\"Balblair\",\"Strathmill\",\"Loch Lomond\",\"Tamnavulin\",\"Bunnahabhain\",\"Auchentoshan\",\"Cardhu\",\"GlenMoray\",\"Glenmorangie\",\"AnCnoc\",\"Dufftown\",\"Glenallachie\",\"Tobermory\",\"Dalwhinnie\",\"Craigganmore\",\"Craigallechie\",\"Glenlossie\",\"Laphroig\",\"Clynelish\",\"Talisker\",\"Ardbeg\",\"Lagavulin\",\"Caol Ila\",\"Tamdhu\",\"Strathisla\",\"Ardmore\",\"Speyside\",\"Longmorn\",\"Aultmore\",\"OldFettercairn\",\"BenNevis\",\"Miltonduff\",\"Mannochmore\",\"Benrinnes\",\"Benromach\",\"Knochando\",\"BlairAthol\",\"Glengoyne\",\"Edradour\",\"GlenGrant\",\"Scapa\",\"Aberfeldy\",\"Tullibardine\",\"GlenElgin\",\"GlenDeveronMacduff\",\"GlenSpey\",\"Glenfiddich\",\"Glenkinchie\",\"Glenlivet\",\"Inchgower\",\"Bowmore\",\"GlenGarioch\",\"Bladnoch\",\"Linkwood\",\"Benriach\",\"GlenOrd\",\"Speyburn\",\"Belvenie\",\"Tomintoul\",\"RoyalBrackla\",\"Teaninich\",\"ArranIsleOf\",\"GlenScotia\",\"Isle of Jura\",\"Bruichladdich\",\"OldPulteney\",\"Oban\",\"Glenturret\",\"Glenrothes\",\"Mortlach\",\"RoyalLochnagar\",\"Springbank\",\"Glenfarclas\",\"Glendullan\",\"Tormore\",\"Tomatin\",\"Highland Park\",\"Macallan\",\"Glendronach\",\"Auchroisk\",\"Aberlour\",\"Balmenach\",\"Deanston\",\"GlenKeith\",\"Dalmore\",\"Dailuaine\",\"Balblair\",\"Strathmill\",\"Loch Lomond\",\"Tamnavulin\",\"Bunnahabhain\",\"Auchentoshan\",\"Cardhu\",\"GlenMoray\",\"Glenmorangie\",\"AnCnoc\",\"Dufftown\",\"Glenallachie\",\"Tobermory\",\"Dalwhinnie\",\"Craigganmore\",\"Craigallechie\",\"Glenlossie\",\"Laphroig\",\"Clynelish\",\"Talisker\",\"Ardbeg\",\"Lagavulin\",\"Caol Ila\",\"Tamdhu\",\"Strathisla\",\"Ardmore\",\"Speyside\",\"Longmorn\",\"Aultmore\",\"OldFettercairn\",\"BenNevis\",\"Miltonduff\",\"Mannochmore\",\"Benrinnes\",\"Benromach\",\"Knochando\",\"BlairAthol\",\"Glengoyne\",\"Edradour\",\"GlenGrant\",\"Scapa\",\"Aberfeldy\",\"Tullibardine\",\"GlenElgin\",\"GlenDeveronMacduff\",\"GlenSpey\",\"Glenfiddich\",\"Glenkinchie\",\"Glenlivet\",\"Inchgower\",\"Bowmore\",\"GlenGarioch\",\"Bladnoch\",\"Linkwood\",\"Benriach\",\"GlenOrd\",\"Speyburn\",\"Belvenie\",\"Tomintoul\",\"RoyalBrackla\",\"Teaninich\",\"ArranIsleOf\",\"GlenScotia\",\"Isle of Jura\",\"Bruichladdich\",\"OldPulteney\",\"Oban\",\"Glenturret\",\"Glenrothes\",\"Mortlach\",\"RoyalLochnagar\",\"Springbank\",\"Glenfarclas\",\"Glendullan\",\"Tormore\",\"Tomatin\",\"Highland Park\",\"Macallan\",\"Glendronach\",\"Auchroisk\",\"Aberlour\",\"Balmenach\",\"Deanston\",\"GlenKeith\",\"Dalmore\",\"Dailuaine\",\"Balblair\",\"Strathmill\",\"Loch Lomond\",\"Tamnavulin\",\"Bunnahabhain\",\"Auchentoshan\",\"Cardhu\",\"GlenMoray\",\"Glenmorangie\",\"AnCnoc\",\"Dufftown\",\"Glenallachie\",\"Tobermory\",\"Dalwhinnie\",\"Craigganmore\",\"Craigallechie\",\"Glenlossie\",\"Laphroig\",\"Clynelish\",\"Talisker\",\"Ardbeg\",\"Lagavulin\",\"Caol Ila\",\"Tamdhu\",\"Strathisla\",\"Ardmore\",\"Speyside\",\"Longmorn\",\"Aultmore\",\"OldFettercairn\",\"BenNevis\",\"Miltonduff\",\"Mannochmore\",\"Benrinnes\",\"Benromach\",\"Knochando\",\"BlairAthol\",\"Glengoyne\",\"Edradour\",\"GlenGrant\",\"Scapa\",\"Aberfeldy\",\"Tullibardine\",\"GlenElgin\",\"GlenDeveronMacduff\",\"GlenSpey\",\"Glenfiddich\",\"Glenkinchie\",\"Glenlivet\",\"Inchgower\",\"Bowmore\",\"GlenGarioch\",\"Bladnoch\",\"Linkwood\",\"Benriach\",\"GlenOrd\",\"Speyburn\",\"Belvenie\",\"Tomintoul\",\"RoyalBrackla\",\"Teaninich\",\"ArranIsleOf\",\"GlenScotia\",\"Isle of Jura\",\"Bruichladdich\",\"OldPulteney\",\"Oban\",\"Glenturret\",\"Glenrothes\",\"Mortlach\",\"RoyalLochnagar\",\"Springbank\",\"Glenfarclas\",\"Glendullan\",\"Tormore\",\"Tomatin\",\"Highland Park\",\"Macallan\",\"Glendronach\",\"Auchroisk\",\"Aberlour\",\"Balmenach\",\"Deanston\",\"GlenKeith\",\"Dalmore\",\"Dailuaine\",\"Balblair\",\"Strathmill\",\"Loch Lomond\",\"Tamnavulin\",\"Bunnahabhain\",\"Auchentoshan\",\"Cardhu\",\"GlenMoray\",\"Glenmorangie\",\"AnCnoc\",\"Dufftown\",\"Glenallachie\",\"Tobermory\",\"Dalwhinnie\",\"Craigganmore\",\"Craigallechie\",\"Glenlossie\",\"Laphroig\",\"Clynelish\",\"Talisker\",\"Ardbeg\",\"Lagavulin\",\"Caol Ila\",\"Tamdhu\",\"Strathisla\",\"Ardmore\",\"Speyside\",\"Longmorn\",\"Aultmore\",\"OldFettercairn\",\"BenNevis\",\"Miltonduff\",\"Mannochmore\",\"Benrinnes\",\"Benromach\",\"Knochando\",\"BlairAthol\",\"Glengoyne\",\"Edradour\",\"GlenGrant\",\"Scapa\",\"Aberfeldy\",\"Tullibardine\",\"GlenElgin\",\"GlenDeveronMacduff\",\"GlenSpey\",\"Glenfiddich\",\"Glenkinchie\",\"Glenlivet\",\"Inchgower\",\"Bowmore\",\"GlenGarioch\",\"Bladnoch\",\"Linkwood\",\"Benriach\",\"GlenOrd\",\"Speyburn\",\"Belvenie\",\"Tomintoul\",\"RoyalBrackla\",\"Teaninich\",\"ArranIsleOf\",\"GlenScotia\",\"Isle of Jura\",\"Bruichladdich\",\"OldPulteney\",\"Oban\",\"Glenturret\",\"Glenrothes\",\"Mortlach\",\"RoyalLochnagar\",\"Springbank\",\"Glenfarclas\",\"Glendullan\",\"Tormore\",\"Tomatin\",\"Highland Park\",\"Macallan\",\"Glendronach\",\"Auchroisk\",\"Aberlour\",\"Balmenach\",\"Deanston\",\"GlenKeith\",\"Dalmore\",\"Dailuaine\",\"Balblair\",\"Strathmill\",\"Loch Lomond\",\"Tamnavulin\",\"Bunnahabhain\",\"Auchentoshan\",\"Cardhu\",\"GlenMoray\",\"Glenmorangie\",\"AnCnoc\",\"Dufftown\",\"Glenallachie\",\"Tobermory\",\"Dalwhinnie\",\"Craigganmore\",\"Craigallechie\",\"Glenlossie\",\"Laphroig\",\"Clynelish\",\"Talisker\",\"Ardbeg\",\"Lagavulin\",\"Caol Ila\",\"Tamdhu\",\"Strathisla\",\"Ardmore\",\"Speyside\",\"Longmorn\",\"Aultmore\",\"OldFettercairn\",\"BenNevis\",\"Miltonduff\",\"Mannochmore\",\"Benrinnes\",\"Benromach\",\"Knochando\",\"BlairAthol\",\"Glengoyne\",\"Edradour\",\"GlenGrant\",\"Scapa\",\"Aberfeldy\",\"Tullibardine\",\"GlenElgin\",\"GlenDeveronMacduff\",\"GlenSpey\",\"Glenfiddich\",\"Glenkinchie\",\"Glenlivet\",\"Inchgower\",\"Bowmore\",\"GlenGarioch\",\"Bladnoch\",\"Linkwood\",\"Benriach\",\"GlenOrd\",\"Speyburn\",\"Belvenie\",\"Tomintoul\",\"RoyalBrackla\",\"Teaninich\",\"ArranIsleOf\",\"GlenScotia\",\"Isle of Jura\",\"Bruichladdich\",\"OldPulteney\",\"Oban\",\"Glenturret\",\"Glenrothes\",\"Mortlach\",\"RoyalLochnagar\",\"Springbank\",\"Glenfarclas\",\"Glendullan\",\"Tormore\",\"Tomatin\",\"Highland Park\",\"Macallan\",\"Glendronach\",\"Auchroisk\",\"Aberlour\",\"Balmenach\",\"Deanston\",\"GlenKeith\",\"Dalmore\",\"Dailuaine\",\"Balblair\",\"Strathmill\",\"Loch Lomond\",\"Tamnavulin\",\"Bunnahabhain\",\"Auchentoshan\",\"Cardhu\",\"GlenMoray\",\"Glenmorangie\",\"AnCnoc\",\"Dufftown\",\"Glenallachie\",\"Tobermory\",\"Dalwhinnie\",\"Craigganmore\",\"Craigallechie\",\"Glenlossie\",\"Laphroig\",\"Clynelish\",\"Talisker\",\"Ardbeg\",\"Lagavulin\",\"Caol Ila\",\"Tamdhu\",\"Strathisla\",\"Ardmore\",\"Speyside\",\"Longmorn\",\"Aultmore\",\"OldFettercairn\",\"BenNevis\",\"Miltonduff\",\"Mannochmore\",\"Benrinnes\",\"Benromach\",\"Knochando\",\"BlairAthol\",\"Glengoyne\",\"Edradour\",\"GlenGrant\",\"Scapa\",\"Aberfeldy\",\"Tullibardine\",\"GlenElgin\",\"GlenDeveronMacduff\",\"GlenSpey\",\"Glenfiddich\",\"Glenkinchie\",\"Glenlivet\",\"Inchgower\",\"Bowmore\",\"GlenGarioch\",\"Bladnoch\",\"Linkwood\",\"Benriach\",\"GlenOrd\",\"Speyburn\",\"Belvenie\",\"Tomintoul\",\"RoyalBrackla\",\"Teaninich\",\"ArranIsleOf\",\"GlenScotia\",\"Isle of Jura\",\"Bruichladdich\",\"OldPulteney\",\"Oban\",\"Glenturret\",\"Glenrothes\",\"Mortlach\",\"RoyalLochnagar\",\"Springbank\",\"Glenfarclas\",\"Glendullan\",\"Tormore\",\"Tomatin\",\"Highland Park\",\"Macallan\",\"Glendronach\",\"Auchroisk\",\"Aberlour\",\"Balmenach\",\"Deanston\",\"GlenKeith\",\"Dalmore\",\"Dailuaine\",\"Balblair\",\"Strathmill\",\"Loch Lomond\",\"Tamnavulin\",\"Bunnahabhain\",\"Auchentoshan\",\"Cardhu\",\"GlenMoray\",\"Glenmorangie\",\"AnCnoc\",\"Dufftown\",\"Glenallachie\",\"Tobermory\",\"Dalwhinnie\",\"Craigganmore\",\"Craigallechie\",\"Glenlossie\",\"Laphroig\",\"Clynelish\",\"Talisker\",\"Ardbeg\",\"Lagavulin\",\"Caol Ila\",\"Tamdhu\",\"Strathisla\",\"Ardmore\",\"Speyside\",\"Longmorn\",\"Aultmore\",\"OldFettercairn\",\"BenNevis\",\"Miltonduff\",\"Mannochmore\",\"Benrinnes\",\"Benromach\",\"Knochando\",\"BlairAthol\",\"Glengoyne\",\"Edradour\",\"GlenGrant\",\"Scapa\",\"Aberfeldy\",\"Tullibardine\",\"GlenElgin\",\"GlenDeveronMacduff\",\"GlenSpey\",\"Glenfiddich\",\"Glenkinchie\",\"Glenlivet\",\"Inchgower\",\"Bowmore\",\"GlenGarioch\",\"Bladnoch\",\"Linkwood\",\"Benriach\",\"GlenOrd\",\"Speyburn\",\"Belvenie\",\"Tomintoul\",\"RoyalBrackla\",\"Teaninich\",\"ArranIsleOf\",\"GlenScotia\",\"Isle of Jura\",\"Bruichladdich\",\"OldPulteney\",\"Oban\",\"Glenturret\",\"Glenrothes\",\"Mortlach\",\"RoyalLochnagar\",\"Springbank\",\"Glenfarclas\",\"Glendullan\",\"Tormore\",\"Tomatin\",\"Highland Park\",\"Macallan\",\"Glendronach\",\"Auchroisk\",\"Aberlour\",\"Balmenach\",\"Deanston\",\"GlenKeith\",\"Dalmore\",\"Dailuaine\",\"Balblair\",\"Strathmill\",\"Loch Lomond\",\"Tamnavulin\",\"Bunnahabhain\",\"Auchentoshan\",\"Cardhu\",\"GlenMoray\",\"Glenmorangie\",\"AnCnoc\",\"Dufftown\",\"Glenallachie\",\"Tobermory\",\"Dalwhinnie\",\"Craigganmore\",\"Craigallechie\",\"Glenlossie\",\"Laphroig\",\"Clynelish\",\"Talisker\",\"Ardbeg\",\"Lagavulin\",\"Caol Ila\",\"Tamdhu\",\"Strathisla\",\"Ardmore\",\"Speyside\",\"Longmorn\",\"Aultmore\",\"OldFettercairn\",\"BenNevis\",\"Miltonduff\",\"Mannochmore\",\"Benrinnes\",\"Benromach\",\"Knochando\",\"BlairAthol\",\"Glengoyne\",\"Edradour\",\"GlenGrant\",\"Scapa\",\"Aberfeldy\",\"Tullibardine\",\"GlenElgin\",\"GlenDeveronMacduff\",\"GlenSpey\",\"Glenfiddich\",\"Glenkinchie\",\"Glenlivet\",\"Inchgower\",\"Bowmore\",\"GlenGarioch\",\"Bladnoch\",\"Linkwood\",\"Benriach\",\"GlenOrd\",\"Speyburn\",\"Belvenie\",\"Tomintoul\",\"RoyalBrackla\",\"Teaninich\",\"ArranIsleOf\",\"GlenScotia\",\"Isle of Jura\",\"Bruichladdich\",\"OldPulteney\",\"Oban\",\"Glenturret\",\"Glenrothes\",\"Mortlach\",\"RoyalLochnagar\",\"Springbank\",\"Glenfarclas\",\"Glendullan\",\"Tormore\",\"Tomatin\",\"Highland Park\",\"Macallan\",\"Glendronach\",\"Auchroisk\",\"Aberlour\",\"Balmenach\",\"Deanston\",\"GlenKeith\",\"Dalmore\",\"Dailuaine\",\"Balblair\",\"Strathmill\",\"Loch Lomond\",\"Tamnavulin\",\"Bunnahabhain\",\"Auchentoshan\",\"Cardhu\",\"GlenMoray\",\"Glenmorangie\",\"AnCnoc\",\"Dufftown\",\"Glenallachie\",\"Tobermory\",\"Dalwhinnie\",\"Craigganmore\",\"Craigallechie\",\"Glenlossie\",\"Laphroig\",\"Clynelish\",\"Talisker\",\"Ardbeg\",\"Lagavulin\",\"Caol Ila\",\"Tamdhu\",\"Strathisla\",\"Ardmore\",\"Speyside\",\"Longmorn\",\"Aultmore\",\"OldFettercairn\",\"BenNevis\",\"Miltonduff\",\"Mannochmore\",\"Benrinnes\",\"Benromach\",\"Knochando\",\"BlairAthol\",\"Glengoyne\",\"Edradour\",\"GlenGrant\",\"Scapa\",\"Aberfeldy\",\"Tullibardine\",\"GlenElgin\",\"GlenDeveronMacduff\",\"GlenSpey\",\"Glenfiddich\",\"Glenkinchie\",\"Glenlivet\",\"Inchgower\",\"Bowmore\",\"GlenGarioch\",\"Bladnoch\",\"Linkwood\",\"Benriach\",\"GlenOrd\",\"Speyburn\",\"Belvenie\",\"Tomintoul\",\"RoyalBrackla\",\"Teaninich\",\"ArranIsleOf\",\"GlenScotia\",\"Isle of Jura\",\"Bruichladdich\",\"OldPulteney\",\"Oban\",\"Glenturret\",\"Glenrothes\",\"Mortlach\",\"RoyalLochnagar\",\"Springbank\",\"Glenfarclas\",\"Glendullan\",\"Tormore\",\"Tomatin\",\"Highland Park\",\"Macallan\",\"Glendronach\",\"Auchroisk\",\"Aberlour\",\"Balmenach\",\"Deanston\",\"GlenKeith\",\"Dalmore\",\"Dailuaine\",\"Balblair\",\"Strathmill\",\"Loch Lomond\",\"Tamnavulin\",\"Bunnahabhain\",\"Auchentoshan\",\"Cardhu\",\"GlenMoray\",\"Glenmorangie\",\"AnCnoc\",\"Dufftown\",\"Glenallachie\",\"Tobermory\",\"Dalwhinnie\",\"Craigganmore\",\"Craigallechie\",\"Glenlossie\",\"Laphroig\",\"Clynelish\",\"Talisker\",\"Ardbeg\",\"Lagavulin\",\"Caol Ila\",\"Tamdhu\",\"Strathisla\",\"Ardmore\",\"Speyside\",\"Longmorn\",\"Aultmore\",\"OldFettercairn\",\"BenNevis\",\"Miltonduff\",\"Mannochmore\",\"Benrinnes\",\"Benromach\",\"Knochando\",\"BlairAthol\",\"Glengoyne\",\"Edradour\",\"GlenGrant\",\"Scapa\",\"Aberfeldy\",\"Tullibardine\",\"GlenElgin\",\"GlenDeveronMacduff\",\"GlenSpey\",\"Glenfiddich\",\"Glenkinchie\",\"Glenlivet\",\"Inchgower\",\"Bowmore\",\"GlenGarioch\",\"Bladnoch\",\"Linkwood\",\"Benriach\",\"GlenOrd\",\"Speyburn\",\"Belvenie\",\"Tomintoul\",\"RoyalBrackla\",\"Teaninich\",\"ArranIsleOf\",\"GlenScotia\",\"Isle of Jura\",\"Bruichladdich\",\"OldPulteney\",\"Oban\",\"Glenturret\",\"Glenrothes\",\"Mortlach\",\"RoyalLochnagar\",\"Springbank\",\"Glenfarclas\",\"Glendullan\",\"Tormore\",\"Tomatin\",\"Highland Park\",\"Macallan\",\"Glendronach\",\"Auchroisk\",\"Aberlour\",\"Balmenach\",\"Deanston\",\"GlenKeith\",\"Dalmore\",\"Dailuaine\",\"Balblair\",\"Strathmill\",\"Loch Lomond\",\"Tamnavulin\",\"Bunnahabhain\",\"Auchentoshan\",\"Cardhu\",\"GlenMoray\",\"Glenmorangie\",\"AnCnoc\",\"Dufftown\",\"Glenallachie\",\"Tobermory\",\"Dalwhinnie\",\"Craigganmore\",\"Craigallechie\",\"Glenlossie\",\"Laphroig\",\"Clynelish\",\"Talisker\",\"Ardbeg\",\"Lagavulin\",\"Caol Ila\",\"Tamdhu\",\"Strathisla\",\"Ardmore\",\"Speyside\",\"Longmorn\",\"Aultmore\",\"OldFettercairn\",\"BenNevis\",\"Miltonduff\",\"Mannochmore\",\"Benrinnes\",\"Benromach\",\"Knochando\",\"BlairAthol\",\"Glengoyne\",\"Edradour\",\"GlenGrant\",\"Scapa\",\"Aberfeldy\",\"Tullibardine\",\"GlenElgin\",\"GlenDeveronMacduff\",\"GlenSpey\",\"Glenfiddich\",\"Glenkinchie\",\"Glenlivet\",\"Inchgower\",\"Bowmore\",\"GlenGarioch\",\"Bladnoch\",\"Linkwood\",\"Benriach\",\"GlenOrd\",\"Speyburn\",\"Belvenie\",\"Tomintoul\",\"RoyalBrackla\",\"Teaninich\",\"ArranIsleOf\",\"GlenScotia\",\"Isle of Jura\",\"Bruichladdich\",\"OldPulteney\",\"Oban\",\"Glenturret\",\"Glenrothes\",\"Mortlach\",\"RoyalLochnagar\",\"Springbank\",\"Glenfarclas\",\"Glendullan\",\"Tormore\",\"Tomatin\",\"Highland Park\",\"Macallan\",\"Glendronach\",\"Auchroisk\",\"Aberlour\",\"Balmenach\",\"Deanston\",\"GlenKeith\",\"Dalmore\",\"Dailuaine\",\"Balblair\",\"Strathmill\",\"Loch Lomond\",\"Tamnavulin\",\"Bunnahabhain\",\"Auchentoshan\",\"Cardhu\",\"GlenMoray\",\"Glenmorangie\",\"AnCnoc\",\"Dufftown\",\"Glenallachie\",\"Tobermory\",\"Dalwhinnie\",\"Craigganmore\",\"Craigallechie\",\"Glenlossie\",\"Laphroig\",\"Clynelish\",\"Talisker\",\"Ardbeg\",\"Lagavulin\",\"Caol Ila\",\"Tamdhu\",\"Strathisla\",\"Ardmore\",\"Speyside\",\"Longmorn\",\"Aultmore\",\"OldFettercairn\",\"BenNevis\",\"Miltonduff\",\"Mannochmore\",\"Benrinnes\",\"Benromach\",\"Knochando\",\"BlairAthol\",\"Glengoyne\",\"Edradour\",\"GlenGrant\",\"Scapa\",\"Aberfeldy\",\"Tullibardine\",\"GlenElgin\",\"GlenDeveronMacduff\",\"GlenSpey\",\"Glenfiddich\",\"Glenkinchie\",\"Glenlivet\",\"Inchgower\",\"Bowmore\",\"GlenGarioch\",\"Bladnoch\",\"Linkwood\",\"Benriach\",\"GlenOrd\",\"Speyburn\",\"Belvenie\",\"Tomintoul\",\"RoyalBrackla\",\"Teaninich\",\"ArranIsleOf\",\"GlenScotia\",\"Isle of Jura\",\"Bruichladdich\",\"OldPulteney\",\"Oban\",\"Glenturret\",\"Glenrothes\",\"Mortlach\",\"RoyalLochnagar\",\"Springbank\",\"Glenfarclas\",\"Glendullan\",\"Tormore\",\"Tomatin\",\"Highland Park\",\"Macallan\",\"Glendronach\",\"Auchroisk\",\"Aberlour\",\"Balmenach\",\"Deanston\",\"GlenKeith\",\"Dalmore\",\"Dailuaine\",\"Balblair\",\"Strathmill\",\"Loch Lomond\",\"Tamnavulin\",\"Bunnahabhain\",\"Auchentoshan\",\"Cardhu\",\"GlenMoray\",\"Glenmorangie\",\"AnCnoc\",\"Dufftown\",\"Glenallachie\",\"Tobermory\",\"Dalwhinnie\",\"Craigganmore\",\"Craigallechie\",\"Glenlossie\",\"Laphroig\",\"Clynelish\",\"Talisker\",\"Ardbeg\",\"Lagavulin\",\"Caol Ila\",\"Tamdhu\",\"Strathisla\",\"Ardmore\",\"Speyside\",\"Longmorn\",\"Aultmore\",\"OldFettercairn\",\"BenNevis\",\"Miltonduff\",\"Mannochmore\",\"Benrinnes\",\"Benromach\",\"Knochando\",\"BlairAthol\",\"Glengoyne\",\"Edradour\",\"GlenGrant\",\"Scapa\",\"Aberfeldy\",\"Tullibardine\",\"GlenElgin\",\"GlenDeveronMacduff\",\"GlenSpey\",\"Glenfiddich\",\"Glenkinchie\",\"Glenlivet\",\"Inchgower\",\"Bowmore\",\"GlenGarioch\",\"Bladnoch\",\"Linkwood\",\"Benriach\",\"GlenOrd\",\"Speyburn\",\"Belvenie\",\"Tomintoul\",\"RoyalBrackla\",\"Teaninich\",\"ArranIsleOf\",\"GlenScotia\",\"Isle of Jura\",\"Bruichladdich\",\"OldPulteney\",\"Oban\",\"Glenturret\",\"Glenrothes\",\"Mortlach\",\"RoyalLochnagar\",\"Springbank\",\"Glenfarclas\",\"Glendullan\",\"Tormore\",\"Tomatin\",\"Highland Park\",\"Macallan\",\"Glendronach\",\"Auchroisk\",\"Aberlour\",\"Balmenach\",\"Deanston\",\"GlenKeith\",\"Dalmore\",\"Dailuaine\",\"Balblair\",\"Strathmill\",\"Loch Lomond\",\"Tamnavulin\",\"Bunnahabhain\",\"Auchentoshan\",\"Cardhu\",\"GlenMoray\",\"Glenmorangie\",\"AnCnoc\",\"Dufftown\",\"Glenallachie\",\"Tobermory\",\"Dalwhinnie\",\"Craigganmore\",\"Craigallechie\",\"Glenlossie\",\"Laphroig\",\"Clynelish\",\"Talisker\",\"Ardbeg\",\"Lagavulin\",\"Caol Ila\",\"Tamdhu\",\"Strathisla\",\"Ardmore\",\"Speyside\",\"Longmorn\",\"Aultmore\",\"OldFettercairn\",\"BenNevis\",\"Miltonduff\",\"Mannochmore\",\"Benrinnes\",\"Benromach\",\"Knochando\",\"BlairAthol\",\"Glengoyne\",\"Edradour\",\"GlenGrant\",\"Scapa\",\"Aberfeldy\",\"Tullibardine\",\"GlenElgin\",\"GlenDeveronMacduff\",\"GlenSpey\",\"Glenfiddich\",\"Glenkinchie\",\"Glenlivet\",\"Inchgower\",\"Bowmore\",\"GlenGarioch\",\"Bladnoch\",\"Linkwood\",\"Benriach\",\"GlenOrd\",\"Speyburn\",\"Belvenie\",\"Tomintoul\",\"RoyalBrackla\",\"Teaninich\",\"ArranIsleOf\",\"GlenScotia\",\"Isle of Jura\",\"Bruichladdich\",\"OldPulteney\",\"Oban\",\"Glenturret\",\"Glenrothes\",\"Mortlach\",\"RoyalLochnagar\",\"Springbank\",\"Glenfarclas\",\"Glendullan\",\"Tormore\",\"Tomatin\",\"Highland Park\",\"Macallan\",\"Glendronach\",\"Auchroisk\",\"Aberlour\",\"Balmenach\",\"Deanston\",\"GlenKeith\",\"Dalmore\",\"Dailuaine\",\"Balblair\",\"Strathmill\",\"Loch Lomond\",\"Tamnavulin\",\"Bunnahabhain\",\"Auchentoshan\",\"Cardhu\",\"GlenMoray\",\"Glenmorangie\",\"AnCnoc\",\"Dufftown\",\"Glenallachie\",\"Tobermory\",\"Dalwhinnie\",\"Craigganmore\",\"Craigallechie\",\"Glenlossie\",\"Laphroig\",\"Clynelish\",\"Talisker\",\"Ardbeg\",\"Lagavulin\",\"Caol Ila\",\"Tamdhu\",\"Strathisla\",\"Ardmore\",\"Speyside\",\"Longmorn\",\"Aultmore\",\"OldFettercairn\",\"BenNevis\",\"Miltonduff\",\"Mannochmore\",\"Benrinnes\",\"Benromach\",\"Knochando\",\"BlairAthol\",\"Glengoyne\",\"Edradour\",\"GlenGrant\",\"Scapa\",\"Aberfeldy\",\"Tullibardine\",\"GlenElgin\",\"GlenDeveronMacduff\",\"GlenSpey\",\"Glenfiddich\",\"Glenkinchie\",\"Glenlivet\",\"Inchgower\",\"Bowmore\",\"GlenGarioch\",\"Bladnoch\",\"Linkwood\",\"Benriach\",\"GlenOrd\",\"Speyburn\",\"Belvenie\",\"Tomintoul\",\"RoyalBrackla\",\"Teaninich\",\"ArranIsleOf\",\"GlenScotia\",\"Isle of Jura\",\"Bruichladdich\",\"OldPulteney\",\"Oban\",\"Glenturret\",\"Glenrothes\",\"Mortlach\",\"RoyalLochnagar\",\"Springbank\",\"Glenfarclas\",\"Glendullan\",\"Tormore\",\"Tomatin\",\"Highland Park\",\"Macallan\",\"Glendronach\",\"Auchroisk\",\"Aberlour\",\"Balmenach\",\"Deanston\",\"GlenKeith\",\"Dalmore\",\"Dailuaine\",\"Balblair\",\"Strathmill\",\"Loch Lomond\",\"Tamnavulin\",\"Bunnahabhain\",\"Auchentoshan\",\"Cardhu\",\"GlenMoray\",\"Glenmorangie\",\"AnCnoc\",\"Dufftown\",\"Glenallachie\",\"Tobermory\",\"Dalwhinnie\",\"Craigganmore\",\"Craigallechie\",\"Glenlossie\",\"Laphroig\",\"Clynelish\",\"Talisker\",\"Ardbeg\",\"Lagavulin\",\"Caol Ila\",\"Tamdhu\",\"Strathisla\",\"Ardmore\",\"Speyside\",\"Longmorn\",\"Aultmore\",\"OldFettercairn\",\"BenNevis\",\"Miltonduff\",\"Mannochmore\",\"Benrinnes\",\"Benromach\",\"Knochando\",\"BlairAthol\",\"Glengoyne\",\"Edradour\",\"GlenGrant\",\"Scapa\",\"Aberfeldy\",\"Tullibardine\",\"GlenElgin\",\"GlenDeveronMacduff\",\"GlenSpey\",\"Glenfiddich\",\"Glenkinchie\",\"Glenlivet\",\"Inchgower\",\"Bowmore\",\"GlenGarioch\",\"Bladnoch\",\"Linkwood\",\"Benriach\",\"GlenOrd\",\"Speyburn\",\"Belvenie\",\"Tomintoul\",\"RoyalBrackla\",\"Teaninich\",\"ArranIsleOf\",\"GlenScotia\",\"Isle of Jura\",\"Bruichladdich\",\"OldPulteney\",\"Oban\",\"Glenturret\",\"Glenrothes\",\"Mortlach\",\"RoyalLochnagar\",\"Springbank\",\"Glenfarclas\",\"Glendullan\",\"Tormore\",\"Tomatin\",\"Highland Park\",\"Macallan\",\"Glendronach\",\"Auchroisk\",\"Aberlour\",\"Balmenach\",\"Deanston\",\"GlenKeith\",\"Dalmore\",\"Dailuaine\",\"Balblair\",\"Strathmill\",\"Loch Lomond\",\"Tamnavulin\",\"Bunnahabhain\",\"Auchentoshan\",\"Cardhu\",\"GlenMoray\",\"Glenmorangie\",\"AnCnoc\",\"Dufftown\",\"Glenallachie\",\"Tobermory\",\"Dalwhinnie\",\"Craigganmore\",\"Craigallechie\",\"Glenlossie\",\"Laphroig\",\"Clynelish\",\"Talisker\",\"Ardbeg\",\"Lagavulin\",\"Caol Ila\",\"Tamdhu\",\"Strathisla\",\"Ardmore\",\"Speyside\",\"Longmorn\",\"Aultmore\",\"OldFettercairn\",\"BenNevis\",\"Miltonduff\",\"Mannochmore\",\"Benrinnes\",\"Benromach\",\"Knochando\",\"BlairAthol\",\"Glengoyne\",\"Edradour\",\"GlenGrant\",\"Scapa\",\"Aberfeldy\",\"Tullibardine\",\"GlenElgin\",\"GlenDeveronMacduff\",\"GlenSpey\",\"Glenfiddich\",\"Glenkinchie\",\"Glenlivet\",\"Inchgower\",\"Bowmore\",\"GlenGarioch\",\"Bladnoch\",\"Linkwood\",\"Benriach\",\"GlenOrd\",\"Speyburn\",\"Belvenie\",\"Tomintoul\",\"RoyalBrackla\",\"Teaninich\",\"ArranIsleOf\",\"GlenScotia\",\"Isle of Jura\",\"Bruichladdich\",\"OldPulteney\",\"Oban\",\"Glenturret\",\"Glenrothes\",\"Mortlach\",\"RoyalLochnagar\",\"Springbank\",\"Glenfarclas\",\"Glendullan\",\"Tormore\",\"Tomatin\",\"Highland Park\",\"Macallan\",\"Glendronach\",\"Auchroisk\",\"Aberlour\",\"Balmenach\",\"Deanston\",\"GlenKeith\",\"Dalmore\",\"Dailuaine\",\"Balblair\",\"Strathmill\",\"Loch Lomond\",\"Tamnavulin\",\"Bunnahabhain\",\"Auchentoshan\",\"Cardhu\",\"GlenMoray\",\"Glenmorangie\",\"AnCnoc\",\"Dufftown\",\"Glenallachie\",\"Tobermory\",\"Dalwhinnie\",\"Craigganmore\",\"Craigallechie\",\"Glenlossie\",\"Laphroig\",\"Clynelish\",\"Talisker\",\"Ardbeg\",\"Lagavulin\",\"Caol Ila\",\"Tamdhu\",\"Strathisla\",\"Ardmore\",\"Speyside\",\"Longmorn\",\"Aultmore\",\"OldFettercairn\",\"BenNevis\",\"Miltonduff\",\"Mannochmore\",\"Benrinnes\",\"Benromach\",\"Knochando\",\"BlairAthol\",\"Glengoyne\",\"Edradour\",\"GlenGrant\",\"Scapa\",\"Aberfeldy\",\"Tullibardine\",\"GlenElgin\",\"GlenDeveronMacduff\",\"GlenSpey\",\"Glenfiddich\",\"Glenkinchie\",\"Glenlivet\",\"Inchgower\",\"Bowmore\",\"GlenGarioch\",\"Bladnoch\",\"Linkwood\",\"Benriach\",\"GlenOrd\",\"Speyburn\",\"Belvenie\",\"Tomintoul\",\"RoyalBrackla\",\"Teaninich\",\"ArranIsleOf\",\"GlenScotia\",\"Isle of Jura\",\"Bruichladdich\",\"OldPulteney\",\"Oban\",\"Glenturret\",\"Glenrothes\",\"Mortlach\",\"RoyalLochnagar\",\"Springbank\",\"Glenfarclas\",\"Glendullan\",\"Tormore\",\"Tomatin\",\"Highland Park\",\"Macallan\",\"Glendronach\",\"Auchroisk\",\"Aberlour\",\"Balmenach\",\"Deanston\",\"GlenKeith\",\"Dalmore\",\"Dailuaine\",\"Balblair\",\"Strathmill\",\"Loch Lomond\",\"Tamnavulin\",\"Bunnahabhain\",\"Auchentoshan\",\"Cardhu\",\"GlenMoray\",\"Glenmorangie\",\"AnCnoc\",\"Dufftown\",\"Glenallachie\",\"Tobermory\",\"Dalwhinnie\",\"Craigganmore\",\"Craigallechie\",\"Glenlossie\",\"Laphroig\",\"Clynelish\",\"Talisker\",\"Ardbeg\",\"Lagavulin\",\"Caol Ila\",\"Tamdhu\",\"Strathisla\",\"Ardmore\",\"Speyside\",\"Longmorn\",\"Aultmore\",\"OldFettercairn\",\"BenNevis\",\"Miltonduff\",\"Mannochmore\",\"Benrinnes\",\"Benromach\",\"Knochando\",\"BlairAthol\",\"Glengoyne\",\"Edradour\",\"GlenGrant\",\"Scapa\",\"Aberfeldy\"]],[\"colors\",[\"#0173b2\",\"white\",\"white\",\"white\",\"white\",\"white\",\"white\",\"white\",\"white\",\"white\",\"white\",\"white\",\"white\",\"#0173b2\",\"white\",\"white\",\"white\",\"white\",\"white\",\"white\",\"white\",\"white\",\"white\",\"white\",\"white\",\"white\",\"lightgray\",\"white\",\"white\",\"white\",\"lightgray\",\"white\",\"white\",\"white\",\"white\",\"white\",\"white\",\"white\",\"white\",\"white\",\"white\",\"lightgray\",\"white\",\"white\",\"white\",\"lightgray\",\"white\",\"white\",\"white\",\"white\",\"white\",\"white\",\"white\",\"white\",\"white\",\"white\",\"white\",\"white\",\"white\",\"white\",\"white\",\"white\",\"white\",\"white\",\"white\",\"white\",\"white\",\"white\",\"white\",\"white\",\"white\",\"white\",\"white\",\"white\",\"white\",\"white\",\"white\",\"white\",\"white\",\"white\",\"white\",\"white\",\"white\",\"white\",\"white\",\"white\",\"white\",\"#0173b2\",\"white\",\"white\",\"#0173b2\",\"white\",\"#0173b2\",\"white\",\"white\",\"white\",\"white\",\"#0173b2\",\"#0173b2\",\"#0173b2\",\"#0173b2\",\"#0173b2\",\"white\",\"white\",\"white\",\"#0173b2\",\"white\",\"white\",\"white\",\"white\",\"white\",\"lightgray\",\"white\",\"white\",\"white\",\"white\",\"white\",\"lightgray\",\"white\",\"white\",\"white\",\"white\",\"white\",\"white\",\"white\",\"white\",\"white\",\"white\",\"white\",\"white\",\"white\",\"white\",\"white\",\"white\",\"lightgray\",\"white\",\"lightgray\",\"lightgray\",\"white\",\"white\",\"white\",\"lightgray\",\"white\",\"lightgray\",\"white\",\"white\",\"white\",\"white\",\"white\",\"white\",\"white\",\"white\",\"white\",\"lightgray\",\"white\",\"white\",\"lightgray\",\"white\",\"white\",\"white\",\"white\",\"lightgray\",\"white\",\"white\",\"lightgray\",\"lightgray\",\"white\",\"white\",\"white\",\"white\",\"lightgray\",\"lightgray\",\"white\",\"white\",\"#0173b2\",\"white\",\"white\",\"white\",\"white\",\"white\",\"white\",\"white\",\"white\",\"white\",\"white\",\"white\",\"white\",\"white\",\"white\",\"white\",\"white\",\"white\",\"white\",\"white\",\"white\",\"white\",\"white\",\"white\",\"white\",\"white\",\"white\",\"white\",\"white\",\"white\",\"white\",\"white\",\"white\",\"white\",\"white\",\"white\",\"white\",\"white\",\"white\",\"white\",\"white\",\"white\",\"white\",\"white\",\"white\",\"white\",\"white\",\"white\",\"white\",\"white\",\"white\",\"white\",\"white\",\"white\",\"white\",\"white\",\"white\",\"white\",\"white\",\"white\",\"white\",\"white\",\"white\",\"white\",\"white\",\"white\",\"white\",\"white\",\"white\",\"white\",\"white\",\"white\",\"white\",\"white\",\"white\",\"white\",\"white\",\"white\",\"white\",\"white\",\"white\",\"white\",\"white\",\"white\",\"white\",\"white\",\"white\",\"#0173b2\",\"#0173b2\",\"white\",\"white\",\"white\",\"white\",\"white\",\"white\",\"white\",\"white\",\"white\",\"#0173b2\",\"white\",\"white\",\"white\",\"white\",\"white\",\"white\",\"white\",\"white\",\"white\",\"white\",\"lightgray\",\"white\",\"white\",\"white\",\"white\",\"lightgray\",\"white\",\"white\",\"white\",\"white\",\"white\",\"white\",\"white\",\"white\",\"white\",\"white\",\"white\",\"white\",\"white\",\"white\",\"white\",\"white\",\"white\",\"white\",\"white\",\"white\",\"white\",\"white\",\"white\",\"white\",\"lightgray\",\"white\",\"white\",\"white\",\"white\",\"white\",\"white\",\"white\",\"white\",\"white\",\"white\",\"white\",\"white\",\"white\",\"white\",\"white\",\"white\",\"white\",\"white\",\"white\",\"lightgray\",\"white\",\"white\",\"white\",\"white\",\"white\",\"white\",\"white\",\"white\",\"white\",\"white\",\"white\",\"#0173b2\",\"white\",\"#0173b2\",\"#0173b2\",\"#0173b2\",\"white\",\"white\",\"white\",\"white\",\"#0173b2\",\"#0173b2\",\"white\",\"white\",\"#0173b2\",\"white\",\"white\",\"#0173b2\",\"white\",\"#0173b2\",\"white\",\"white\",\"white\",\"white\",\"white\",\"white\",\"white\",\"white\",\"white\",\"white\",\"white\",\"white\",\"white\",\"white\",\"white\",\"white\",\"white\",\"white\",\"white\",\"white\",\"white\",\"white\",\"white\",\"white\",\"white\",\"white\",\"white\",\"white\",\"lightgray\",\"white\",\"lightgray\",\"white\",\"white\",\"lightgray\",\"lightgray\",\"lightgray\",\"lightgray\",\"white\",\"lightgray\",\"white\",\"lightgray\",\"white\",\"white\",\"white\",\"white\",\"white\",\"white\",\"lightgray\",\"white\",\"white\",\"lightgray\",\"white\",\"lightgray\",\"white\",\"white\",\"lightgray\",\"white\",\"white\",\"white\",\"white\",\"white\",\"white\",\"white\",\"white\",\"white\",\"white\",\"white\",\"white\",\"white\",\"white\",\"#0173b2\",\"#0173b2\",\"#0173b2\",\"#0173b2\",\"white\",\"white\",\"#0173b2\",\"white\",\"#0173b2\",\"#0173b2\",\"#0173b2\",\"white\",\"#0173b2\",\"#0173b2\",\"white\",\"white\",\"white\",\"white\",\"white\",\"white\",\"white\",\"white\",\"white\",\"white\",\"white\",\"white\",\"white\",\"white\",\"white\",\"white\",\"white\",\"white\",\"white\",\"white\",\"white\",\"white\",\"white\",\"white\",\"white\",\"white\",\"white\",\"white\",\"white\",\"white\",\"lightgray\",\"white\",\"lightgray\",\"white\",\"white\",\"white\",\"white\",\"lightgray\",\"white\",\"lightgray\",\"white\",\"white\",\"lightgray\",\"white\",\"white\",\"white\",\"white\",\"white\",\"white\",\"white\",\"white\",\"white\",\"white\",\"white\",\"white\",\"white\",\"white\",\"white\",\"white\",\"white\",\"white\",\"white\",\"white\",\"white\",\"white\",\"white\",\"white\",\"white\",\"white\",\"#0173b2\",\"white\",\"white\",\"white\",\"#0173b2\",\"#0173b2\",\"white\",\"white\",\"white\",\"#0173b2\",\"#0173b2\",\"#0173b2\",\"#0173b2\",\"#0173b2\",\"#0173b2\",\"#0173b2\",\"white\",\"white\",\"#0173b2\",\"white\",\"white\",\"white\",\"white\",\"white\",\"lightgray\",\"white\",\"white\",\"white\",\"white\",\"lightgray\",\"lightgray\",\"white\",\"white\",\"white\",\"white\",\"white\",\"lightgray\",\"lightgray\",\"white\",\"white\",\"white\",\"white\",\"white\",\"white\",\"white\",\"white\",\"white\",\"lightgray\",\"white\",\"white\",\"lightgray\",\"white\",\"white\",\"white\",\"lightgray\",\"white\",\"white\",\"white\",\"white\",\"lightgray\",\"white\",\"white\",\"white\",\"white\",\"white\",\"white\",\"lightgray\",\"white\",\"white\",\"white\",\"white\",\"white\",\"white\",\"white\",\"white\",\"white\",\"white\",\"lightgray\",\"lightgray\",\"lightgray\",\"white\",\"white\",\"white\",\"white\",\"lightgray\",\"white\",\"white\",\"white\",\"white\",\"white\",\"#0173b2\",\"white\",\"#0173b2\",\"white\",\"white\",\"white\",\"white\",\"white\",\"white\",\"#0173b2\",\"white\",\"#0173b2\",\"white\",\"white\",\"white\",\"white\",\"white\",\"white\",\"white\",\"white\",\"white\",\"white\",\"white\",\"white\",\"white\",\"white\",\"white\",\"white\",\"white\",\"white\",\"white\",\"white\",\"white\",\"white\",\"white\",\"white\",\"white\",\"white\",\"white\",\"white\",\"white\",\"white\",\"white\",\"white\",\"white\",\"lightgray\",\"white\",\"white\",\"white\",\"white\",\"lightgray\",\"white\",\"white\",\"white\",\"white\",\"lightgray\",\"white\",\"white\",\"white\",\"white\",\"white\",\"white\",\"white\",\"white\",\"white\",\"white\",\"white\",\"white\",\"white\",\"white\",\"white\",\"white\",\"white\",\"white\",\"white\",\"white\",\"white\",\"white\",\"white\",\"white\",\"white\",\"white\",\"white\",\"white\",\"white\",\"white\",\"white\",\"white\",\"white\",\"#0173b2\",\"white\",\"white\",\"white\",\"white\",\"white\",\"white\",\"white\",\"white\",\"white\",\"white\",\"white\",\"white\",\"white\",\"white\",\"white\",\"white\",\"white\",\"white\",\"white\",\"white\",\"white\",\"white\",\"white\",\"white\",\"white\",\"lightgray\",\"white\",\"white\",\"white\",\"white\",\"white\",\"white\",\"white\",\"white\",\"white\",\"white\",\"white\",\"white\",\"white\",\"white\",\"white\",\"white\",\"white\",\"white\",\"white\",\"white\",\"white\",\"white\",\"white\",\"white\",\"white\",\"white\",\"white\",\"white\",\"white\",\"white\",\"white\",\"white\",\"white\",\"white\",\"white\",\"white\",\"white\",\"white\",\"white\",\"white\",\"white\",\"white\",\"white\",\"white\",\"white\",\"white\",\"white\",\"white\",\"white\",\"white\",\"white\",\"white\",\"white\",\"white\",\"white\",\"white\",\"white\",\"white\",\"white\",\"white\",\"#0173b2\",\"white\",\"white\",\"white\",\"white\",\"white\",\"white\",\"white\",\"white\",\"white\",\"white\",\"white\",\"white\",\"white\",\"white\",\"white\",\"white\",\"white\",\"white\",\"white\",\"white\",\"white\",\"white\",\"white\",\"white\",\"white\",\"white\",\"white\",\"white\",\"white\",\"white\",\"white\",\"white\",\"white\",\"white\",\"white\",\"white\",\"white\",\"white\",\"white\",\"white\",\"white\",\"white\",\"white\",\"white\",\"white\",\"white\",\"white\",\"white\",\"white\",\"white\",\"white\",\"white\",\"white\",\"white\",\"white\",\"white\",\"white\",\"white\",\"white\",\"white\",\"white\",\"white\",\"white\",\"white\",\"white\",\"white\",\"white\",\"white\",\"white\",\"white\",\"white\",\"white\",\"white\",\"white\",\"white\",\"white\",\"white\",\"white\",\"white\",\"white\",\"#0173b2\",\"#0173b2\",\"#0173b2\",\"white\",\"white\",\"white\",\"#0173b2\",\"#0173b2\",\"white\",\"white\",\"white\",\"white\",\"white\",\"#0173b2\",\"white\",\"white\",\"white\",\"white\",\"white\",\"white\",\"white\",\"white\",\"white\",\"white\",\"white\",\"white\",\"white\",\"white\",\"white\",\"white\",\"white\",\"white\",\"white\",\"white\",\"white\",\"white\",\"white\",\"white\",\"white\",\"white\",\"white\",\"white\",\"white\",\"white\",\"lightgray\",\"white\",\"white\",\"lightgray\",\"white\",\"white\",\"white\",\"lightgray\",\"lightgray\",\"white\",\"white\",\"white\",\"lightgray\",\"white\",\"white\",\"white\",\"white\",\"white\",\"white\",\"white\",\"white\",\"white\",\"white\",\"white\",\"white\",\"white\",\"white\",\"white\",\"white\",\"white\",\"white\",\"white\",\"white\",\"white\",\"white\",\"white\",\"white\",\"white\",\"white\",\"#0173b2\",\"white\",\"white\",\"#0173b2\",\"white\",\"#0173b2\",\"white\",\"white\",\"white\",\"#0173b2\",\"#0173b2\",\"white\",\"white\",\"white\",\"white\",\"white\",\"#0173b2\",\"white\",\"#0173b2\",\"white\",\"white\",\"white\",\"white\",\"white\",\"white\",\"lightgray\",\"white\",\"white\",\"white\",\"white\",\"lightgray\",\"white\",\"white\",\"white\",\"white\",\"white\",\"white\",\"white\",\"white\",\"white\",\"white\",\"white\",\"white\",\"white\",\"white\",\"white\",\"white\",\"white\",\"white\",\"white\",\"white\",\"white\",\"white\",\"white\",\"white\",\"white\",\"white\",\"white\",\"white\",\"white\",\"white\",\"white\",\"white\",\"white\",\"white\",\"white\",\"white\",\"white\",\"white\",\"white\",\"white\",\"white\",\"white\",\"white\",\"white\",\"white\",\"white\",\"white\",\"white\",\"white\",\"white\",\"white\",\"white\",\"white\",\"white\",\"white\",\"#0173b2\",\"white\",\"white\",\"white\",\"#0173b2\",\"#0173b2\",\"white\",\"white\",\"white\",\"white\",\"white\",\"#0173b2\",\"#0173b2\",\"white\",\"#0173b2\",\"white\",\"#0173b2\",\"white\",\"white\",\"white\",\"white\",\"white\",\"white\",\"white\",\"white\",\"white\",\"white\",\"white\",\"white\",\"white\",\"lightgray\",\"white\",\"white\",\"white\",\"white\",\"white\",\"white\",\"lightgray\",\"white\",\"lightgray\",\"white\",\"white\",\"white\",\"white\",\"white\",\"white\",\"white\",\"white\",\"white\",\"white\",\"white\",\"white\",\"white\",\"white\",\"lightgray\",\"white\",\"lightgray\",\"white\",\"white\",\"lightgray\",\"white\",\"white\",\"white\",\"white\",\"white\",\"white\",\"white\",\"white\",\"white\",\"white\",\"white\",\"white\",\"white\",\"white\",\"white\",\"white\",\"white\",\"lightgray\",\"white\",\"white\",\"white\",\"white\",\"white\",\"white\",\"white\",\"#0173b2\",\"#0173b2\",\"white\",\"white\",\"white\",\"#0173b2\",\"#0173b2\",\"white\",\"white\",\"white\",\"white\",\"white\",\"#0173b2\",\"#0173b2\",\"white\",\"#0173b2\",\"white\",\"white\",\"white\",\"white\",\"white\",\"white\",\"white\",\"white\",\"white\",\"white\",\"white\",\"white\",\"lightgray\",\"white\",\"white\",\"lightgray\",\"white\",\"white\",\"white\",\"white\",\"white\",\"white\",\"lightgray\",\"white\",\"lightgray\",\"lightgray\",\"lightgray\",\"lightgray\",\"white\",\"lightgray\",\"white\",\"white\",\"white\",\"white\",\"white\",\"white\",\"white\",\"white\",\"white\",\"white\",\"white\",\"lightgray\",\"white\",\"white\",\"lightgray\",\"white\",\"white\",\"white\",\"white\",\"white\",\"white\",\"white\",\"white\",\"white\",\"white\",\"lightgray\",\"white\",\"white\",\"lightgray\",\"white\",\"lightgray\",\"white\",\"lightgray\",\"lightgray\",\"lightgray\",\"white\",\"white\",\"white\",\"white\",\"white\",\"white\",\"#0173b2\",\"white\",\"#0173b2\",\"#0173b2\",\"#0173b2\",\"#0173b2\",\"#0173b2\",\"white\",\"white\",\"white\",\"white\",\"white\",\"white\",\"#0173b2\",\"#0173b2\",\"#0173b2\",\"white\",\"white\",\"#0173b2\",\"white\",\"white\",\"white\",\"white\",\"white\",\"white\",\"white\",\"white\",\"white\",\"white\",\"white\",\"white\",\"white\",\"lightgray\",\"white\",\"white\",\"white\",\"white\",\"white\",\"white\",\"white\",\"white\",\"white\",\"white\",\"white\",\"white\",\"white\",\"white\",\"white\",\"white\",\"lightgray\",\"white\",\"white\",\"white\",\"white\",\"lightgray\",\"white\",\"lightgray\",\"white\",\"white\",\"white\",\"white\",\"white\",\"white\",\"white\",\"white\",\"white\",\"white\",\"white\",\"white\",\"white\",\"white\",\"white\",\"white\",\"white\",\"lightgray\",\"white\",\"white\",\"white\",\"lightgray\",\"white\",\"white\",\"white\",\"white\",\"white\",\"white\",\"white\",\"#0173b2\",\"white\",\"white\",\"white\",\"white\",\"#0173b2\",\"white\",\"white\",\"white\",\"white\",\"white\",\"#0173b2\",\"#0173b2\",\"#0173b2\",\"#0173b2\",\"white\",\"white\",\"white\",\"white\",\"white\",\"white\",\"white\",\"white\",\"white\",\"white\",\"white\",\"white\",\"white\",\"white\",\"white\",\"lightgray\",\"white\",\"white\",\"white\",\"white\",\"white\",\"white\",\"lightgray\",\"white\",\"lightgray\",\"white\",\"white\",\"white\",\"white\",\"white\",\"white\",\"white\",\"white\",\"white\",\"white\",\"white\",\"white\",\"white\",\"white\",\"white\",\"white\",\"lightgray\",\"white\",\"white\",\"white\",\"white\",\"white\",\"white\",\"white\",\"white\",\"white\",\"white\",\"white\",\"white\",\"white\",\"white\",\"white\",\"white\",\"lightgray\",\"white\",\"white\",\"lightgray\",\"white\",\"white\",\"white\",\"white\",\"white\",\"white\",\"white\",\"white\",\"white\",\"white\",\"white\",\"white\",\"white\",\"#0173b2\",\"#0173b2\",\"#0173b2\",\"white\",\"white\",\"white\",\"white\",\"white\",\"white\",\"#0173b2\",\"white\",\"#0173b2\",\"white\",\"white\",\"white\",\"white\",\"white\",\"white\",\"white\",\"white\",\"lightgray\",\"white\",\"white\",\"white\",\"white\",\"white\",\"white\",\"white\",\"white\",\"white\",\"white\",\"white\",\"white\",\"white\",\"white\",\"white\",\"white\",\"white\",\"white\",\"white\",\"white\",\"white\",\"white\",\"white\",\"white\",\"lightgray\",\"white\",\"white\",\"white\",\"white\",\"lightgray\",\"white\",\"white\",\"white\",\"white\",\"lightgray\",\"white\",\"white\",\"white\",\"white\",\"white\",\"white\",\"white\",\"white\",\"white\",\"white\",\"white\",\"white\",\"white\",\"white\",\"white\",\"white\",\"white\",\"white\",\"white\",\"white\",\"white\",\"white\",\"white\",\"white\",\"white\",\"white\",\"white\",\"white\",\"white\",\"#0173b2\",\"#0173b2\",\"white\",\"white\",\"white\",\"white\",\"#0173b2\",\"#0173b2\",\"#0173b2\",\"white\",\"white\",\"white\",\"white\",\"#0173b2\",\"#0173b2\",\"white\",\"white\",\"white\",\"white\",\"white\",\"white\",\"white\",\"white\",\"white\",\"white\",\"white\",\"white\",\"white\",\"white\",\"white\",\"white\",\"white\",\"white\",\"white\",\"white\",\"white\",\"white\",\"white\",\"white\",\"white\",\"white\",\"white\",\"white\",\"white\",\"white\",\"white\",\"white\",\"white\",\"white\",\"white\",\"white\",\"lightgray\",\"white\",\"white\",\"white\",\"white\",\"white\",\"white\",\"white\",\"white\",\"white\",\"white\",\"white\",\"white\",\"white\",\"white\",\"white\",\"white\",\"white\",\"white\",\"white\",\"white\",\"white\",\"white\",\"white\",\"white\",\"white\",\"white\",\"white\",\"white\",\"white\",\"white\",\"white\",\"white\",\"white\",\"white\",\"white\",\"white\",\"white\",\"white\",\"white\",\"white\",\"white\",\"white\",\"white\",\"white\",\"white\",\"white\",\"white\",\"#0173b2\",\"#0173b2\",\"white\",\"white\",\"white\",\"white\",\"white\",\"white\",\"white\",\"white\",\"white\",\"white\",\"white\",\"white\",\"white\",\"white\",\"white\",\"white\",\"white\",\"white\",\"white\",\"white\",\"white\",\"white\",\"white\",\"white\",\"white\",\"lightgray\",\"white\",\"white\",\"white\",\"white\",\"white\",\"white\",\"white\",\"white\",\"white\",\"white\",\"white\",\"white\",\"white\",\"white\",\"white\",\"white\",\"white\",\"white\",\"white\",\"white\",\"white\",\"white\",\"white\",\"white\",\"white\",\"white\",\"white\",\"white\",\"white\",\"white\",\"white\",\"white\",\"white\",\"white\",\"white\",\"white\",\"white\",\"white\",\"white\",\"white\",\"white\",\"white\",\"#0173b2\",\"white\",\"white\",\"#0173b2\",\"white\",\"#0173b2\",\"white\",\"white\",\"white\",\"white\",\"#0173b2\",\"white\",\"white\",\"#0173b2\",\"white\",\"white\",\"white\",\"white\",\"#0173b2\",\"white\",\"white\",\"white\",\"white\",\"white\",\"white\",\"white\",\"white\",\"white\",\"white\",\"white\",\"white\",\"white\",\"white\",\"white\",\"white\",\"white\",\"white\",\"white\",\"white\",\"white\",\"white\",\"white\",\"white\",\"white\",\"white\",\"white\",\"white\",\"white\",\"white\",\"white\",\"white\",\"white\",\"white\",\"lightgray\",\"white\",\"white\",\"white\",\"white\",\"white\",\"white\",\"white\",\"white\",\"white\",\"white\",\"white\",\"white\",\"white\",\"white\",\"white\",\"white\",\"white\",\"white\",\"white\",\"white\",\"white\",\"white\",\"white\",\"white\",\"white\",\"white\",\"white\",\"white\",\"white\",\"white\",\"white\",\"white\",\"white\",\"white\",\"white\",\"white\",\"white\",\"white\",\"white\",\"white\",\"white\",\"white\",\"white\",\"white\",\"white\",\"white\",\"white\",\"white\",\"white\",\"white\",\"white\",\"#de8f05\",\"#de8f05\",\"white\",\"white\",\"white\",\"white\",\"white\",\"white\",\"white\",\"white\",\"white\",\"white\",\"white\",\"white\",\"white\",\"white\",\"white\",\"white\",\"white\",\"white\",\"white\",\"white\",\"white\",\"white\",\"white\",\"white\",\"white\",\"white\",\"white\",\"white\",\"white\",\"white\",\"white\",\"white\",\"white\",\"white\",\"white\",\"white\",\"white\",\"white\",\"white\",\"white\",\"white\",\"white\",\"white\",\"white\",\"white\",\"white\",\"white\",\"white\",\"white\",\"white\",\"white\",\"white\",\"white\",\"white\",\"white\",\"white\",\"white\",\"white\",\"white\",\"white\",\"white\",\"white\",\"white\",\"white\",\"white\",\"white\",\"white\",\"white\",\"white\",\"white\",\"white\",\"white\",\"white\",\"white\",\"white\",\"white\",\"white\",\"white\",\"white\",\"white\",\"white\",\"white\",\"white\",\"white\",\"#de8f05\",\"#de8f05\",\"white\",\"white\",\"white\",\"white\",\"white\",\"white\",\"white\",\"white\",\"white\",\"white\",\"white\",\"white\",\"white\",\"white\",\"white\",\"white\",\"white\",\"white\",\"white\",\"white\",\"white\",\"white\",\"white\",\"white\",\"white\",\"white\",\"white\",\"white\",\"white\",\"white\",\"white\",\"white\",\"white\",\"white\",\"white\",\"white\",\"white\",\"white\",\"white\",\"white\",\"white\",\"lightgray\",\"lightgray\",\"white\",\"lightgray\",\"white\",\"white\",\"white\",\"white\",\"white\",\"white\",\"white\",\"white\",\"white\",\"white\",\"white\",\"white\",\"white\",\"white\",\"white\",\"white\",\"white\",\"white\",\"white\",\"white\",\"white\",\"white\",\"white\",\"white\",\"white\",\"white\",\"white\",\"white\",\"white\",\"white\",\"white\",\"white\",\"white\",\"white\",\"white\",\"white\",\"white\",\"white\",\"white\",\"white\",\"white\",\"#de8f05\",\"white\",\"white\",\"white\",\"white\",\"white\",\"white\",\"white\",\"white\",\"white\",\"white\",\"white\",\"white\",\"white\",\"white\",\"white\",\"white\",\"white\",\"white\",\"white\",\"white\",\"white\",\"white\",\"white\",\"white\",\"white\",\"white\",\"white\",\"white\",\"white\",\"white\",\"white\",\"white\",\"white\",\"white\",\"white\",\"white\",\"white\",\"white\",\"white\",\"white\",\"white\",\"white\",\"white\",\"white\",\"white\",\"white\",\"white\",\"white\",\"white\",\"white\",\"white\",\"white\",\"white\",\"white\",\"white\",\"white\",\"white\",\"white\",\"white\",\"white\",\"white\",\"white\",\"white\",\"white\",\"white\",\"white\",\"white\",\"white\",\"white\",\"white\",\"white\",\"white\",\"white\",\"white\",\"white\",\"white\",\"white\",\"white\",\"white\",\"white\",\"white\",\"white\",\"white\",\"white\",\"white\",\"white\",\"#de8f05\",\"white\",\"white\",\"white\",\"white\",\"white\",\"white\",\"white\",\"white\",\"white\",\"white\",\"white\",\"white\",\"white\",\"white\",\"white\",\"white\",\"white\",\"white\",\"white\",\"white\",\"white\",\"white\",\"white\",\"white\",\"white\",\"white\",\"white\",\"white\",\"white\",\"white\",\"white\",\"white\",\"white\",\"white\",\"white\",\"white\",\"white\",\"white\",\"white\",\"white\",\"white\",\"white\",\"white\",\"white\",\"white\",\"white\",\"white\",\"white\",\"white\",\"white\",\"white\",\"white\",\"white\",\"white\",\"white\",\"white\",\"white\",\"white\",\"white\",\"white\",\"white\",\"white\",\"white\",\"white\",\"white\",\"white\",\"white\",\"white\",\"white\",\"white\",\"white\",\"white\",\"white\",\"white\",\"white\",\"white\",\"white\",\"white\",\"white\",\"white\",\"white\",\"white\",\"white\",\"white\",\"white\",\"white\",\"#de8f05\",\"white\",\"white\",\"white\",\"white\",\"white\",\"white\",\"white\",\"white\",\"white\",\"white\",\"white\",\"white\",\"white\",\"white\",\"white\",\"white\",\"white\",\"white\",\"white\",\"lightgray\",\"white\",\"white\",\"white\",\"white\",\"white\",\"white\",\"white\",\"white\",\"white\",\"white\",\"white\",\"white\",\"white\",\"white\",\"white\",\"white\",\"white\",\"lightgray\",\"lightgray\",\"lightgray\",\"white\",\"white\",\"white\",\"white\",\"white\",\"white\",\"white\",\"white\",\"white\",\"white\",\"white\",\"white\",\"white\",\"white\",\"white\",\"white\",\"white\",\"white\",\"white\",\"white\",\"white\",\"white\",\"lightgray\",\"white\",\"lightgray\",\"white\",\"white\",\"lightgray\",\"white\",\"white\",\"white\",\"white\",\"white\",\"white\",\"white\",\"white\",\"white\",\"lightgray\",\"white\",\"white\",\"white\",\"white\",\"white\",\"white\",\"white\",\"white\",\"#029e73\",\"white\",\"#029e73\",\"white\",\"white\",\"#029e73\",\"white\",\"white\",\"#029e73\",\"white\",\"white\",\"white\",\"#029e73\",\"#029e73\",\"white\",\"white\",\"#029e73\",\"white\",\"white\",\"white\",\"white\",\"white\",\"white\",\"white\",\"white\",\"white\",\"white\",\"white\",\"white\",\"white\",\"white\",\"white\",\"white\",\"white\",\"white\",\"white\",\"white\",\"white\",\"white\",\"white\",\"white\",\"white\",\"white\",\"lightgray\",\"white\",\"white\",\"white\",\"white\",\"white\",\"white\",\"white\",\"white\",\"white\",\"lightgray\",\"lightgray\",\"lightgray\",\"white\",\"lightgray\",\"white\",\"white\",\"lightgray\",\"lightgray\",\"white\",\"white\",\"white\",\"white\",\"white\",\"white\",\"white\",\"white\",\"white\",\"white\",\"lightgray\",\"white\",\"white\",\"white\",\"white\",\"white\",\"white\",\"white\",\"white\",\"white\",\"white\",\"white\",\"white\",\"white\",\"white\",\"#029e73\",\"white\",\"#029e73\",\"white\",\"#029e73\",\"white\",\"white\",\"white\",\"white\",\"#029e73\",\"#029e73\",\"#029e73\",\"white\",\"white\",\"#029e73\",\"#029e73\",\"#029e73\",\"#029e73\",\"white\",\"white\",\"white\",\"white\",\"white\",\"white\",\"white\",\"white\",\"white\",\"white\",\"white\",\"white\",\"white\",\"white\",\"white\",\"white\",\"white\",\"white\",\"white\",\"white\",\"white\",\"white\",\"white\",\"white\",\"white\",\"white\",\"white\",\"white\",\"white\",\"white\",\"white\",\"white\",\"white\",\"white\",\"white\",\"white\",\"white\",\"white\",\"white\",\"white\",\"white\",\"white\",\"white\",\"white\",\"white\",\"white\",\"white\",\"white\",\"white\",\"white\",\"white\",\"white\",\"white\",\"white\",\"white\",\"white\",\"white\",\"white\",\"white\",\"white\",\"white\",\"white\",\"white\",\"white\",\"white\",\"white\",\"white\",\"#029e73\",\"white\",\"#029e73\",\"#029e73\",\"white\",\"white\",\"white\",\"white\",\"white\",\"white\",\"white\",\"white\",\"white\",\"white\",\"#029e73\",\"white\",\"white\",\"white\",\"#029e73\",\"white\",\"white\",\"white\",\"white\",\"white\",\"white\",\"white\",\"white\",\"white\",\"white\",\"white\",\"white\",\"white\",\"white\",\"white\",\"white\",\"white\",\"white\",\"white\",\"white\",\"white\",\"white\",\"white\",\"white\",\"white\",\"white\",\"white\",\"white\",\"white\",\"white\",\"white\",\"white\",\"white\",\"white\",\"white\",\"white\",\"lightgray\",\"white\",\"white\",\"white\",\"white\",\"white\",\"white\",\"white\",\"white\",\"white\",\"white\",\"white\",\"white\",\"white\",\"white\",\"white\",\"white\",\"white\",\"white\",\"lightgray\",\"white\",\"white\",\"white\",\"white\",\"white\",\"white\",\"white\",\"white\",\"white\",\"white\",\"white\",\"white\",\"#029e73\",\"#029e73\",\"#029e73\",\"white\",\"white\",\"#029e73\",\"white\",\"white\",\"white\",\"#029e73\",\"#029e73\",\"#029e73\",\"#029e73\",\"white\",\"#029e73\",\"#029e73\",\"#029e73\",\"#029e73\",\"white\",\"white\",\"white\",\"white\",\"white\",\"white\",\"white\",\"white\",\"white\",\"white\",\"white\",\"white\",\"white\",\"white\",\"white\",\"white\",\"white\",\"white\",\"white\",\"white\",\"white\",\"white\",\"white\",\"white\",\"lightgray\",\"white\",\"white\",\"white\",\"white\",\"white\",\"lightgray\",\"white\",\"lightgray\",\"lightgray\",\"lightgray\",\"white\",\"lightgray\",\"white\",\"white\",\"white\",\"white\",\"lightgray\",\"white\",\"white\",\"white\",\"white\",\"white\",\"white\",\"white\",\"white\",\"white\",\"white\",\"white\",\"white\",\"white\",\"white\",\"white\",\"white\",\"white\",\"white\",\"white\",\"white\",\"white\",\"white\",\"white\",\"white\",\"white\",\"white\",\"white\",\"white\",\"white\",\"#029e73\",\"white\",\"white\",\"white\",\"white\",\"white\",\"white\",\"white\",\"white\",\"white\",\"white\",\"white\",\"white\",\"white\",\"white\",\"white\",\"white\",\"white\",\"white\",\"white\",\"white\",\"white\",\"white\",\"white\",\"white\",\"white\",\"white\",\"white\",\"white\",\"white\",\"white\",\"white\",\"white\",\"white\",\"white\",\"white\",\"white\",\"white\",\"white\",\"white\",\"white\",\"white\",\"white\",\"white\",\"white\",\"white\",\"white\",\"white\",\"white\",\"white\",\"white\",\"white\",\"white\",\"white\",\"white\",\"white\",\"white\",\"lightgray\",\"white\",\"white\",\"lightgray\",\"white\",\"white\",\"lightgray\",\"white\",\"white\",\"white\",\"white\",\"white\",\"white\",\"white\",\"white\",\"white\",\"white\",\"white\",\"white\",\"white\",\"white\",\"white\",\"white\",\"white\",\"white\",\"#029e73\",\"#029e73\",\"white\",\"white\",\"white\",\"#029e73\",\"white\",\"white\",\"white\",\"white\",\"#029e73\",\"white\",\"#029e73\",\"white\",\"white\",\"white\",\"#029e73\",\"white\",\"white\",\"white\",\"white\",\"white\",\"white\",\"white\",\"white\",\"white\",\"white\",\"white\",\"white\",\"white\",\"white\",\"white\",\"white\",\"white\",\"white\",\"white\",\"white\",\"white\",\"white\",\"white\",\"white\",\"white\",\"white\",\"lightgray\",\"white\",\"white\",\"white\",\"white\",\"white\",\"white\",\"white\",\"white\",\"white\",\"white\",\"white\",\"lightgray\",\"white\",\"white\",\"white\",\"white\",\"white\",\"white\",\"lightgray\",\"white\",\"white\",\"white\",\"white\",\"lightgray\",\"white\",\"white\",\"white\",\"white\",\"lightgray\",\"lightgray\",\"lightgray\",\"white\",\"lightgray\",\"white\",\"white\",\"white\",\"white\",\"white\",\"white\",\"white\",\"white\",\"white\",\"white\",\"white\",\"white\",\"#029e73\",\"white\",\"white\",\"#029e73\",\"white\",\"white\",\"white\",\"#029e73\",\"white\",\"#029e73\",\"#029e73\",\"white\",\"#029e73\",\"white\",\"#029e73\",\"#029e73\",\"white\",\"white\",\"white\",\"white\",\"white\",\"white\",\"white\",\"white\",\"white\",\"white\",\"white\",\"white\",\"white\",\"white\",\"white\",\"white\",\"white\",\"white\",\"white\",\"white\",\"white\",\"white\",\"white\",\"lightgray\",\"lightgray\",\"white\",\"lightgray\",\"white\",\"white\",\"white\",\"white\",\"white\",\"lightgray\",\"lightgray\",\"white\",\"white\",\"white\",\"white\",\"white\",\"white\",\"lightgray\",\"lightgray\",\"white\",\"white\",\"white\",\"white\",\"white\",\"white\",\"white\",\"white\",\"white\",\"white\",\"white\",\"white\",\"white\",\"white\",\"white\",\"white\",\"white\",\"white\",\"white\",\"white\",\"white\",\"white\",\"white\",\"white\",\"white\",\"white\",\"white\",\"white\",\"white\",\"white\",\"white\",\"white\",\"#029e73\",\"white\",\"white\",\"white\",\"white\",\"#029e73\",\"white\",\"#029e73\",\"white\",\"white\",\"white\",\"white\",\"white\",\"white\",\"white\",\"white\",\"white\",\"white\",\"white\",\"white\",\"white\",\"white\",\"white\",\"white\",\"white\",\"white\",\"white\",\"white\",\"white\",\"white\",\"white\",\"white\",\"white\",\"white\",\"white\",\"white\",\"white\",\"white\",\"white\",\"white\",\"white\",\"white\",\"white\",\"white\",\"white\",\"white\",\"white\",\"white\",\"white\",\"white\",\"white\",\"white\",\"white\",\"white\",\"white\",\"white\",\"white\",\"white\",\"white\",\"white\",\"white\",\"white\",\"white\",\"white\",\"white\",\"white\",\"white\",\"white\",\"lightgray\",\"white\",\"white\",\"white\",\"white\",\"white\",\"white\",\"white\",\"white\",\"white\",\"white\",\"#029e73\",\"white\",\"white\",\"white\",\"white\",\"white\",\"white\",\"white\",\"#029e73\",\"#029e73\",\"white\",\"white\",\"white\",\"white\",\"white\",\"white\",\"white\",\"white\",\"white\",\"white\",\"white\",\"white\",\"white\",\"white\",\"white\",\"white\",\"white\",\"white\",\"white\",\"white\",\"white\",\"white\",\"white\",\"white\",\"white\",\"white\",\"white\",\"white\",\"white\",\"white\",\"white\",\"white\",\"white\",\"white\",\"white\",\"white\",\"white\",\"white\",\"white\",\"white\",\"white\",\"white\",\"white\",\"white\",\"white\",\"white\",\"white\",\"white\",\"white\",\"white\",\"white\",\"white\",\"white\",\"white\",\"white\",\"white\",\"white\",\"white\",\"white\",\"lightgray\",\"white\",\"white\",\"white\",\"white\",\"white\",\"white\",\"white\",\"white\",\"white\",\"white\",\"white\",\"white\",\"white\",\"white\",\"white\",\"white\",\"white\",\"white\",\"white\",\"white\",\"white\",\"white\",\"white\",\"white\",\"#029e73\",\"#029e73\",\"white\",\"white\",\"white\",\"white\",\"white\",\"white\",\"white\",\"white\",\"white\",\"white\",\"white\",\"white\",\"white\",\"white\",\"white\",\"white\",\"white\",\"white\",\"white\",\"white\",\"white\",\"white\",\"white\",\"white\",\"white\",\"white\",\"white\",\"white\",\"white\",\"white\",\"white\",\"white\",\"white\",\"white\",\"white\",\"white\",\"white\",\"white\",\"white\",\"white\",\"white\",\"white\",\"white\",\"white\",\"white\",\"white\",\"white\",\"white\",\"white\",\"white\",\"white\",\"white\",\"white\",\"white\",\"white\",\"white\",\"white\",\"white\",\"white\",\"white\",\"white\",\"white\",\"white\",\"white\",\"white\",\"white\",\"white\",\"white\",\"white\",\"white\",\"white\",\"white\",\"white\",\"white\",\"white\",\"white\",\"white\",\"#029e73\",\"white\",\"#029e73\",\"white\",\"#029e73\",\"#029e73\",\"white\",\"white\",\"white\",\"#029e73\",\"#029e73\",\"#029e73\",\"white\",\"#029e73\",\"white\",\"white\",\"#029e73\",\"#029e73\",\"white\",\"white\",\"white\",\"white\",\"white\",\"white\",\"white\",\"white\",\"white\",\"white\",\"white\",\"white\",\"white\",\"white\",\"white\",\"white\",\"white\",\"white\",\"white\",\"white\",\"white\",\"white\",\"white\",\"white\",\"white\",\"white\",\"white\",\"white\",\"white\",\"white\",\"white\",\"white\",\"white\",\"white\",\"white\",\"white\",\"white\",\"white\",\"white\",\"white\",\"white\",\"lightgray\",\"white\",\"white\",\"white\",\"white\",\"white\",\"white\",\"white\",\"white\",\"white\",\"white\",\"white\",\"white\",\"white\",\"white\",\"white\",\"white\",\"white\",\"white\",\"white\",\"white\",\"white\",\"white\",\"white\",\"white\",\"white\",\"white\",\"#029e73\",\"white\",\"#029e73\",\"white\",\"white\",\"white\",\"white\",\"white\",\"white\",\"#029e73\",\"#029e73\",\"#029e73\",\"white\",\"#029e73\",\"white\",\"white\",\"white\",\"#029e73\",\"white\",\"white\",\"white\",\"white\",\"white\",\"white\",\"white\",\"white\",\"white\",\"white\",\"white\",\"white\",\"white\",\"white\",\"white\",\"white\",\"white\",\"white\",\"white\",\"white\",\"white\",\"white\",\"white\",\"white\",\"white\",\"white\",\"white\",\"white\",\"white\",\"white\",\"white\",\"white\",\"white\",\"white\",\"white\",\"white\",\"white\",\"white\",\"white\",\"white\",\"white\",\"white\",\"white\",\"white\",\"white\",\"white\",\"white\",\"white\",\"lightgray\",\"white\",\"white\",\"white\",\"white\",\"white\",\"white\",\"white\",\"white\",\"white\",\"white\",\"white\",\"white\",\"white\",\"white\",\"white\",\"white\",\"white\",\"white\",\"#029e73\",\"#029e73\",\"white\",\"#029e73\",\"white\",\"#029e73\",\"#029e73\",\"#029e73\",\"white\",\"white\",\"#029e73\",\"#029e73\",\"#029e73\",\"#029e73\",\"white\",\"#029e73\",\"#029e73\",\"white\",\"white\",\"white\",\"white\",\"white\",\"white\",\"white\",\"white\",\"white\",\"white\",\"white\",\"white\",\"white\",\"white\",\"white\",\"white\",\"white\",\"white\",\"white\",\"white\",\"white\",\"white\",\"white\",\"white\",\"white\",\"lightgray\",\"lightgray\",\"white\",\"lightgray\",\"white\",\"white\",\"white\",\"white\",\"white\",\"white\",\"lightgray\",\"white\",\"lightgray\",\"white\",\"white\",\"lightgray\",\"lightgray\",\"lightgray\",\"lightgray\",\"white\",\"white\",\"white\",\"white\",\"white\",\"white\",\"lightgray\",\"white\",\"white\",\"white\",\"white\",\"white\",\"lightgray\",\"lightgray\",\"white\",\"lightgray\",\"white\",\"white\",\"white\",\"white\",\"white\",\"white\",\"white\",\"white\",\"white\",\"#029e73\",\"white\",\"white\",\"#029e73\",\"white\",\"white\",\"#029e73\",\"white\",\"white\",\"white\",\"white\",\"white\",\"#029e73\",\"#029e73\",\"white\",\"#029e73\",\"white\",\"white\",\"white\",\"white\",\"white\",\"white\",\"white\",\"white\",\"white\",\"white\",\"white\",\"white\",\"white\",\"white\",\"white\",\"white\",\"white\",\"white\",\"white\",\"white\",\"white\",\"white\",\"white\",\"white\",\"white\",\"white\",\"white\",\"lightgray\",\"white\",\"white\",\"white\",\"white\",\"white\",\"white\",\"white\",\"white\",\"lightgray\",\"lightgray\",\"lightgray\",\"white\",\"white\",\"white\",\"white\",\"lightgray\",\"lightgray\",\"white\",\"white\",\"white\",\"white\",\"white\",\"white\",\"white\",\"white\",\"white\",\"white\",\"white\",\"white\",\"white\",\"white\",\"white\",\"white\",\"white\",\"white\",\"white\",\"white\",\"white\",\"white\",\"white\",\"white\",\"white\",\"white\",\"white\",\"#029e73\",\"white\",\"white\",\"white\",\"white\",\"#029e73\",\"white\",\"white\",\"#029e73\",\"#029e73\",\"white\",\"white\",\"#029e73\",\"white\",\"white\",\"white\",\"white\",\"white\",\"white\",\"white\",\"white\",\"white\",\"white\",\"white\",\"white\",\"white\",\"white\",\"white\",\"white\",\"white\",\"white\",\"white\",\"white\",\"white\",\"white\",\"white\",\"white\",\"white\",\"white\",\"white\",\"white\",\"white\",\"white\",\"white\",\"white\",\"white\",\"white\",\"white\",\"white\",\"white\",\"white\",\"white\",\"white\",\"white\",\"white\",\"white\",\"white\",\"white\",\"white\",\"white\",\"white\",\"white\",\"white\",\"white\",\"white\",\"white\",\"white\",\"white\",\"white\",\"white\",\"white\",\"lightgray\",\"lightgray\",\"white\",\"lightgray\",\"white\",\"white\",\"white\",\"white\",\"white\",\"white\",\"white\",\"white\",\"white\",\"white\",\"#029e73\",\"white\",\"#029e73\",\"white\",\"white\",\"#029e73\",\"white\",\"white\",\"white\",\"white\",\"white\",\"#029e73\",\"#029e73\",\"white\",\"#029e73\",\"white\",\"white\",\"white\",\"white\",\"white\",\"white\",\"white\",\"white\",\"white\",\"white\",\"white\",\"white\",\"white\",\"white\",\"white\",\"white\",\"lightgray\",\"white\",\"white\",\"white\",\"white\",\"white\",\"white\",\"white\",\"white\",\"white\",\"lightgray\",\"lightgray\",\"lightgray\",\"lightgray\",\"white\",\"white\",\"white\",\"white\",\"white\",\"white\",\"lightgray\",\"lightgray\",\"white\",\"white\",\"white\",\"white\",\"white\",\"lightgray\",\"lightgray\",\"lightgray\",\"white\",\"white\",\"white\",\"white\",\"white\",\"white\",\"white\",\"white\",\"white\",\"white\",\"white\",\"white\",\"lightgray\",\"white\",\"white\",\"white\",\"white\",\"white\",\"white\",\"white\",\"white\",\"white\",\"white\",\"white\",\"#029e73\",\"#029e73\",\"white\",\"#029e73\",\"white\",\"#029e73\",\"white\",\"white\",\"white\",\"white\",\"white\",\"white\",\"#029e73\",\"white\",\"white\",\"white\",\"#029e73\",\"white\",\"white\",\"lightgray\",\"lightgray\",\"white\",\"white\",\"white\",\"white\",\"lightgray\",\"white\",\"lightgray\",\"white\",\"white\",\"white\",\"white\",\"white\",\"white\",\"white\",\"white\",\"white\",\"white\",\"white\",\"white\",\"white\",\"white\",\"white\",\"white\",\"white\",\"white\",\"white\",\"white\",\"white\",\"white\",\"lightgray\",\"white\",\"white\",\"lightgray\",\"lightgray\",\"lightgray\",\"white\",\"lightgray\",\"white\",\"white\",\"white\",\"white\",\"white\",\"white\",\"white\",\"white\",\"white\",\"white\",\"white\",\"white\",\"white\",\"white\",\"white\",\"white\",\"lightgray\",\"white\",\"white\",\"white\",\"white\",\"white\",\"white\",\"white\",\"white\",\"white\",\"white\",\"white\",\"white\",\"#029e73\",\"white\",\"#029e73\",\"white\",\"white\",\"#029e73\",\"white\",\"white\",\"white\",\"#029e73\",\"white\",\"white\",\"white\",\"white\",\"white\",\"white\",\"#029e73\",\"#029e73\",\"white\",\"white\",\"white\",\"white\",\"white\",\"white\",\"white\",\"white\",\"white\",\"white\",\"white\",\"white\",\"white\",\"white\",\"white\",\"white\",\"white\",\"white\",\"white\",\"white\",\"white\",\"white\",\"white\",\"white\",\"white\",\"white\",\"white\",\"white\",\"white\",\"white\",\"white\",\"white\",\"white\",\"white\",\"white\",\"white\",\"white\",\"white\",\"white\",\"white\",\"white\",\"white\",\"white\",\"white\",\"white\",\"white\",\"white\",\"white\",\"white\",\"white\",\"white\",\"white\",\"white\",\"white\",\"white\",\"lightgray\",\"white\",\"white\",\"white\",\"white\",\"white\",\"white\",\"white\",\"white\",\"white\",\"white\",\"white\",\"white\",\"#029e73\",\"#029e73\",\"#029e73\",\"white\",\"white\",\"#029e73\",\"white\",\"white\",\"white\",\"#029e73\",\"#029e73\",\"white\",\"white\",\"white\",\"white\",\"white\",\"#029e73\",\"#029e73\",\"white\",\"white\",\"white\",\"white\",\"white\",\"white\",\"white\",\"white\",\"white\",\"white\",\"white\",\"white\",\"white\",\"white\",\"white\",\"white\",\"white\",\"white\",\"white\",\"white\",\"white\",\"white\",\"white\",\"white\",\"white\",\"white\",\"white\",\"white\",\"white\",\"white\",\"lightgray\",\"white\",\"white\",\"white\",\"white\",\"white\",\"lightgray\",\"white\",\"white\",\"white\",\"white\",\"white\",\"white\",\"white\",\"white\",\"white\",\"white\",\"white\",\"white\",\"white\",\"white\",\"white\",\"white\",\"white\",\"white\",\"white\",\"white\",\"white\",\"white\",\"white\",\"lightgray\",\"white\",\"white\",\"white\",\"white\",\"white\",\"lightgray\",\"white\",\"white\",\"white\",\"white\",\"white\",\"white\",\"white\",\"white\",\"white\",\"white\",\"white\",\"white\",\"white\",\"white\",\"white\",\"white\",\"lightgray\",\"white\",\"white\",\"#d55e00\",\"#d55e00\",\"white\",\"#d55e00\",\"white\",\"white\",\"white\",\"white\",\"#d55e00\",\"white\",\"white\",\"white\",\"white\",\"white\",\"#d55e00\",\"white\",\"white\",\"white\",\"white\",\"white\",\"white\",\"white\",\"white\",\"white\",\"white\",\"white\",\"white\",\"white\",\"white\",\"white\",\"white\",\"white\",\"white\",\"white\",\"white\",\"white\",\"white\",\"white\",\"white\",\"white\",\"white\",\"white\",\"lightgray\",\"white\",\"white\",\"white\",\"white\",\"white\",\"white\",\"white\",\"white\",\"white\",\"white\",\"white\",\"white\",\"lightgray\",\"white\",\"white\",\"white\",\"white\",\"white\",\"white\",\"white\",\"white\",\"white\",\"white\",\"white\",\"white\",\"white\",\"white\",\"white\",\"white\",\"white\",\"white\",\"white\",\"white\",\"white\",\"white\",\"white\",\"white\",\"white\",\"white\",\"white\",\"lightgray\",\"white\",\"white\",\"#d55e00\",\"#d55e00\",\"white\",\"#d55e00\",\"white\",\"white\",\"#d55e00\",\"white\",\"#d55e00\",\"white\",\"#d55e00\",\"#d55e00\",\"white\",\"white\",\"#d55e00\",\"white\",\"#d55e00\",\"white\",\"white\",\"white\",\"white\",\"white\",\"white\",\"white\",\"white\",\"white\",\"white\",\"white\",\"white\",\"white\",\"white\",\"white\",\"white\",\"white\",\"white\",\"lightgray\",\"white\",\"lightgray\",\"white\",\"white\",\"white\",\"white\",\"white\",\"white\",\"white\",\"white\",\"white\",\"white\",\"white\",\"white\",\"white\",\"white\",\"white\",\"white\",\"white\",\"white\",\"white\",\"white\",\"white\",\"white\",\"white\",\"white\",\"white\",\"white\",\"white\",\"white\",\"white\",\"white\",\"white\",\"white\",\"white\",\"white\",\"white\",\"white\",\"white\",\"white\",\"white\",\"white\",\"white\",\"white\",\"white\",\"white\",\"white\",\"white\",\"white\",\"white\",\"white\",\"white\",\"#d55e00\",\"white\",\"#d55e00\",\"white\",\"white\",\"white\",\"white\",\"white\",\"white\",\"white\",\"#d55e00\",\"white\",\"white\",\"white\",\"#d55e00\",\"white\",\"white\",\"white\",\"white\",\"white\",\"white\",\"white\",\"white\",\"white\",\"white\",\"white\",\"white\",\"white\",\"white\",\"white\",\"white\",\"white\",\"white\",\"white\",\"white\",\"white\",\"white\",\"white\",\"white\",\"white\",\"white\",\"white\",\"white\",\"white\",\"white\",\"white\",\"white\",\"white\",\"white\",\"white\",\"white\",\"white\",\"white\",\"white\",\"white\",\"white\",\"white\",\"white\",\"white\",\"white\",\"white\",\"white\",\"white\",\"white\",\"white\",\"white\",\"white\",\"white\",\"white\",\"white\",\"white\",\"white\",\"white\",\"white\",\"white\",\"white\",\"white\",\"white\",\"white\",\"white\",\"white\",\"white\",\"white\",\"white\",\"#d55e00\",\"#d55e00\",\"white\",\"#d55e00\",\"white\",\"white\",\"#d55e00\",\"#d55e00\",\"#d55e00\",\"white\",\"white\",\"#d55e00\",\"white\",\"white\",\"#d55e00\",\"white\",\"#d55e00\",\"white\",\"white\",\"white\",\"white\",\"white\",\"white\",\"white\",\"white\",\"white\",\"white\",\"white\",\"white\",\"white\",\"white\",\"white\",\"white\",\"white\",\"white\",\"white\",\"white\",\"white\",\"white\",\"white\",\"white\",\"white\",\"white\",\"lightgray\",\"white\",\"white\",\"lightgray\",\"lightgray\",\"lightgray\",\"white\",\"white\",\"white\",\"lightgray\",\"white\",\"white\",\"white\",\"white\",\"white\",\"white\",\"white\",\"white\",\"white\",\"white\",\"white\",\"white\",\"white\",\"white\",\"white\",\"white\",\"white\",\"white\",\"white\",\"white\",\"white\",\"white\",\"white\",\"white\",\"white\",\"white\",\"white\",\"white\",\"white\",\"white\",\"white\",\"white\",\"white\",\"white\",\"white\",\"#d55e00\",\"white\",\"#d55e00\",\"#d55e00\",\"#d55e00\",\"#d55e00\",\"white\",\"white\",\"#d55e00\",\"#d55e00\",\"#d55e00\",\"white\",\"white\",\"white\",\"#d55e00\",\"white\",\"white\",\"white\",\"white\",\"white\",\"white\",\"lightgray\",\"white\",\"white\",\"white\",\"white\",\"white\",\"white\",\"white\",\"white\",\"white\",\"white\",\"white\",\"white\",\"white\",\"lightgray\",\"white\",\"white\",\"white\",\"white\",\"white\",\"white\",\"white\",\"white\",\"white\",\"white\",\"white\",\"white\",\"white\",\"white\",\"white\",\"white\",\"white\",\"white\",\"white\",\"white\",\"white\",\"white\",\"white\",\"white\",\"white\",\"white\",\"white\",\"white\",\"white\",\"white\",\"white\",\"white\",\"white\",\"white\",\"white\",\"white\",\"white\",\"white\",\"white\",\"white\",\"white\",\"white\",\"white\",\"white\",\"white\",\"white\",\"white\",\"white\",\"white\",\"white\",\"white\",\"white\",\"#d55e00\",\"#d55e00\",\"#d55e00\",\"#d55e00\",\"white\",\"#d55e00\",\"white\",\"#d55e00\",\"#d55e00\",\"white\",\"white\",\"white\",\"#d55e00\",\"white\",\"white\",\"white\",\"white\",\"white\",\"white\",\"white\",\"white\",\"white\",\"white\",\"white\",\"lightgray\",\"white\",\"white\",\"white\",\"white\",\"white\",\"white\",\"white\",\"white\",\"lightgray\",\"white\",\"white\",\"white\",\"white\",\"white\",\"lightgray\",\"white\",\"white\",\"lightgray\",\"lightgray\",\"white\",\"lightgray\",\"white\",\"white\",\"white\",\"white\",\"white\",\"white\",\"lightgray\",\"white\",\"lightgray\",\"white\",\"white\",\"white\",\"white\",\"white\",\"white\",\"white\",\"white\",\"white\",\"white\",\"white\",\"white\",\"white\",\"white\",\"white\",\"white\",\"white\",\"white\",\"white\",\"white\",\"white\",\"white\",\"white\",\"white\",\"lightgray\",\"white\",\"white\",\"white\",\"#d55e00\",\"white\",\"#d55e00\",\"#d55e00\",\"#d55e00\",\"#d55e00\",\"#d55e00\",\"#d55e00\",\"#d55e00\",\"#d55e00\",\"#d55e00\",\"#d55e00\",\"#d55e00\",\"#d55e00\",\"white\",\"#d55e00\",\"white\",\"white\",\"white\",\"white\",\"white\",\"white\",\"lightgray\",\"white\",\"white\",\"lightgray\",\"lightgray\",\"lightgray\",\"white\",\"white\",\"lightgray\",\"white\",\"white\",\"lightgray\",\"lightgray\",\"white\",\"lightgray\",\"lightgray\",\"lightgray\",\"lightgray\",\"white\",\"white\",\"lightgray\",\"white\",\"white\",\"white\",\"white\",\"lightgray\",\"white\",\"white\",\"white\",\"lightgray\",\"white\",\"white\",\"white\",\"white\",\"white\",\"white\",\"white\",\"white\",\"white\",\"white\",\"white\",\"white\",\"white\",\"white\",\"white\",\"white\",\"white\",\"white\",\"white\",\"white\",\"white\",\"white\",\"white\",\"white\",\"white\",\"white\",\"white\",\"white\",\"white\",\"white\",\"white\",\"white\",\"white\",\"white\",\"white\",\"white\",\"#d55e00\",\"#d55e00\",\"#d55e00\",\"#d55e00\",\"#d55e00\",\"white\",\"white\",\"white\",\"#d55e00\",\"white\",\"white\",\"white\",\"#d55e00\",\"#d55e00\",\"white\",\"white\",\"white\",\"white\",\"white\",\"white\",\"white\",\"white\",\"white\",\"white\",\"lightgray\",\"white\",\"white\",\"white\",\"white\",\"white\",\"white\",\"white\",\"white\",\"white\",\"lightgray\",\"white\",\"white\",\"white\",\"white\",\"white\",\"white\",\"white\",\"white\",\"white\",\"white\",\"white\",\"white\",\"white\",\"white\",\"white\",\"white\",\"white\",\"white\",\"white\",\"white\",\"white\",\"white\",\"white\",\"white\",\"white\",\"white\",\"white\",\"white\",\"white\",\"white\",\"white\",\"white\",\"white\",\"white\",\"white\",\"white\",\"white\",\"white\",\"white\",\"white\",\"white\",\"white\",\"white\",\"white\",\"white\",\"lightgray\",\"white\",\"white\",\"#d55e00\",\"#d55e00\",\"white\",\"#d55e00\",\"white\",\"white\",\"#d55e00\",\"white\",\"#d55e00\",\"white\",\"white\",\"white\",\"white\",\"white\",\"#d55e00\",\"white\",\"#d55e00\",\"white\",\"white\",\"white\",\"white\",\"white\",\"white\",\"white\",\"white\",\"white\",\"white\",\"white\",\"white\",\"white\",\"lightgray\",\"white\",\"lightgray\",\"white\",\"white\",\"lightgray\",\"white\",\"white\",\"white\",\"white\",\"white\",\"white\",\"white\",\"white\",\"white\",\"white\",\"lightgray\",\"white\",\"white\",\"white\",\"white\",\"white\",\"white\",\"white\",\"white\",\"white\",\"white\",\"white\",\"white\",\"white\",\"white\",\"white\",\"white\",\"white\",\"white\",\"white\",\"white\",\"white\",\"white\",\"white\",\"white\",\"white\",\"white\",\"white\",\"white\",\"white\",\"white\",\"white\",\"white\",\"white\",\"white\",\"white\",\"white\",\"white\",\"white\",\"white\",\"white\",\"white\",\"white\",\"white\",\"white\",\"#d55e00\",\"#d55e00\",\"white\",\"white\",\"#d55e00\",\"white\",\"#d55e00\",\"#d55e00\",\"#d55e00\",\"white\",\"white\",\"white\",\"white\",\"white\",\"white\",\"white\",\"white\",\"white\",\"lightgray\",\"white\",\"white\",\"lightgray\",\"white\",\"lightgray\",\"white\",\"white\",\"lightgray\",\"white\",\"white\",\"white\",\"white\",\"white\",\"lightgray\",\"lightgray\",\"lightgray\",\"lightgray\",\"white\",\"white\",\"white\",\"white\",\"white\",\"lightgray\",\"white\",\"white\",\"white\",\"white\",\"white\",\"white\",\"white\",\"white\",\"white\",\"white\",\"white\",\"white\",\"white\",\"white\",\"lightgray\",\"white\",\"white\",\"white\",\"white\",\"white\",\"white\",\"white\",\"white\",\"white\",\"white\",\"white\",\"white\",\"white\",\"white\",\"white\",\"white\",\"white\",\"white\",\"white\",\"white\",\"white\",\"white\",\"white\",\"white\",\"white\",\"#d55e00\",\"white\",\"white\",\"#d55e00\",\"white\",\"#d55e00\",\"white\",\"white\",\"white\",\"#d55e00\",\"#d55e00\",\"white\",\"white\",\"#d55e00\",\"white\",\"white\",\"white\",\"white\",\"white\",\"white\",\"white\",\"white\",\"white\",\"white\",\"white\",\"lightgray\",\"white\",\"lightgray\",\"white\",\"white\",\"lightgray\",\"white\",\"white\",\"white\",\"white\",\"white\",\"white\",\"white\",\"white\",\"white\",\"white\",\"white\",\"lightgray\",\"white\",\"lightgray\",\"lightgray\",\"lightgray\",\"lightgray\",\"lightgray\",\"white\",\"white\",\"lightgray\",\"white\",\"lightgray\",\"white\",\"lightgray\",\"white\",\"lightgray\",\"lightgray\",\"white\",\"white\",\"white\",\"white\",\"white\",\"white\",\"white\",\"white\",\"white\",\"white\",\"white\",\"white\",\"white\",\"white\",\"white\",\"white\",\"white\",\"white\",\"white\",\"white\",\"white\",\"white\",\"white\",\"white\",\"white\",\"white\",\"white\",\"#d55e00\",\"white\",\"#d55e00\",\"#d55e00\",\"#d55e00\",\"#d55e00\",\"#d55e00\",\"white\",\"#d55e00\",\"#d55e00\",\"#d55e00\",\"#d55e00\",\"#d55e00\",\"#d55e00\",\"white\",\"#d55e00\",\"white\",\"white\",\"white\",\"white\",\"white\",\"white\",\"lightgray\",\"white\",\"white\",\"lightgray\",\"white\",\"lightgray\",\"white\",\"white\",\"lightgray\",\"white\",\"white\",\"lightgray\",\"lightgray\",\"white\",\"lightgray\",\"white\",\"white\",\"lightgray\",\"white\",\"white\",\"white\",\"white\",\"white\",\"lightgray\",\"white\",\"white\",\"white\",\"white\",\"white\",\"lightgray\",\"white\",\"white\",\"white\",\"white\",\"white\",\"white\",\"white\",\"white\",\"white\",\"white\",\"white\",\"white\",\"white\",\"white\",\"white\",\"white\",\"white\",\"white\",\"white\",\"white\",\"white\",\"white\",\"white\",\"white\",\"white\",\"white\",\"white\",\"white\",\"white\",\"white\",\"white\",\"white\",\"white\",\"white\",\"white\",\"#d55e00\",\"white\",\"#d55e00\",\"#d55e00\",\"#d55e00\",\"white\",\"white\",\"#d55e00\",\"white\",\"#d55e00\",\"#d55e00\",\"#d55e00\",\"white\",\"white\",\"#d55e00\",\"white\",\"white\",\"white\",\"white\",\"white\",\"white\",\"lightgray\",\"white\",\"white\",\"lightgray\",\"lightgray\",\"lightgray\",\"white\",\"white\",\"white\",\"white\",\"lightgray\",\"white\",\"white\",\"white\",\"lightgray\",\"white\",\"white\",\"lightgray\",\"white\",\"white\",\"lightgray\",\"white\",\"white\",\"white\",\"lightgray\",\"white\",\"white\",\"white\",\"white\",\"white\",\"white\",\"lightgray\",\"lightgray\",\"lightgray\",\"lightgray\",\"white\",\"white\",\"white\",\"white\",\"white\",\"white\",\"white\",\"white\",\"white\",\"white\",\"white\",\"white\",\"white\",\"white\",\"white\",\"white\",\"white\",\"white\",\"white\",\"white\",\"white\",\"white\",\"white\",\"white\",\"lightgray\",\"white\",\"white\",\"white\",\"white\",\"white\",\"white\",\"white\",\"white\",\"white\",\"#d55e00\",\"white\",\"white\",\"#d55e00\",\"white\",\"#d55e00\",\"#d55e00\",\"#d55e00\",\"white\",\"white\",\"#d55e00\",\"white\",\"white\",\"white\",\"white\",\"white\",\"white\",\"lightgray\",\"white\",\"white\",\"lightgray\",\"white\",\"lightgray\",\"white\",\"lightgray\",\"white\",\"white\",\"lightgray\",\"lightgray\",\"white\",\"white\",\"white\",\"white\",\"white\",\"lightgray\",\"lightgray\",\"white\",\"white\",\"white\",\"white\",\"lightgray\",\"white\",\"white\",\"white\",\"white\",\"white\",\"white\",\"white\",\"white\",\"white\",\"white\",\"white\",\"white\",\"white\",\"white\",\"white\",\"white\",\"white\",\"white\",\"white\",\"white\",\"white\",\"white\",\"white\",\"white\",\"white\",\"white\",\"white\",\"white\",\"white\",\"white\",\"white\",\"white\",\"white\",\"white\",\"white\",\"white\",\"white\",\"white\",\"white\",\"#d55e00\",\"#d55e00\",\"white\",\"#d55e00\",\"white\",\"white\",\"#d55e00\",\"white\",\"#d55e00\",\"white\",\"#d55e00\",\"#d55e00\",\"white\",\"white\",\"#d55e00\",\"white\",\"white\",\"white\",\"white\",\"white\",\"white\",\"white\",\"white\",\"white\",\"white\",\"white\",\"lightgray\",\"white\",\"lightgray\",\"white\",\"white\",\"lightgray\",\"white\",\"white\",\"white\",\"white\",\"white\",\"white\",\"white\",\"white\",\"white\",\"white\",\"white\",\"white\",\"white\",\"white\",\"white\",\"white\",\"white\",\"white\",\"white\",\"white\",\"white\",\"white\",\"white\",\"white\",\"white\",\"white\",\"white\",\"white\",\"white\",\"white\",\"white\",\"white\",\"white\",\"white\",\"white\",\"white\",\"white\",\"white\",\"white\",\"white\",\"white\",\"white\",\"white\",\"white\",\"white\",\"white\",\"white\",\"white\",\"white\",\"white\",\"white\",\"white\",\"white\",\"white\",\"white\",\"white\",\"white\",\"white\",\"white\",\"white\",\"white\",\"#d55e00\",\"white\",\"white\",\"white\",\"white\",\"white\",\"white\",\"white\",\"#d55e00\",\"white\",\"white\",\"white\",\"white\",\"white\",\"white\",\"white\",\"white\",\"white\",\"white\",\"white\",\"white\",\"white\",\"white\",\"white\",\"white\",\"white\",\"white\",\"white\",\"white\",\"white\",\"white\",\"white\",\"white\",\"white\",\"white\",\"white\",\"white\",\"white\",\"white\",\"lightgray\",\"lightgray\",\"lightgray\",\"lightgray\",\"white\",\"white\",\"lightgray\",\"white\",\"lightgray\",\"lightgray\",\"white\",\"white\",\"lightgray\",\"white\",\"white\",\"white\",\"white\",\"white\",\"white\",\"white\",\"white\",\"white\",\"white\",\"white\",\"white\",\"white\",\"white\",\"white\",\"white\",\"white\",\"white\",\"white\",\"white\",\"white\",\"white\",\"white\",\"white\",\"white\",\"white\",\"white\",\"white\",\"#d55e00\",\"#d55e00\",\"#d55e00\",\"#d55e00\",\"#d55e00\",\"#d55e00\",\"#d55e00\",\"#d55e00\",\"white\",\"white\",\"#d55e00\",\"#d55e00\",\"#d55e00\",\"white\",\"white\",\"#d55e00\",\"white\",\"white\",\"white\",\"white\",\"white\",\"white\",\"white\",\"white\",\"white\",\"white\",\"white\",\"white\",\"white\",\"white\",\"white\",\"white\",\"white\",\"lightgray\",\"lightgray\",\"white\",\"lightgray\",\"white\",\"white\",\"white\",\"white\",\"white\",\"white\",\"white\",\"white\",\"white\",\"white\",\"white\",\"white\",\"white\",\"white\",\"white\",\"white\",\"white\",\"white\",\"white\",\"white\",\"white\",\"white\",\"white\",\"white\",\"white\",\"white\",\"white\",\"white\",\"white\",\"white\",\"white\",\"white\",\"white\",\"white\",\"white\",\"white\",\"white\",\"white\",\"white\",\"white\",\"white\",\"white\",\"white\",\"white\",\"white\",\"white\",\"white\",\"white\",\"white\",\"white\",\"white\",\"white\",\"white\",\"white\",\"white\",\"white\",\"white\",\"white\",\"white\",\"white\",\"white\",\"white\",\"white\",\"white\",\"white\",\"#cc78bc\",\"#cc78bc\",\"white\",\"#cc78bc\",\"#cc78bc\",\"#cc78bc\",\"white\",\"white\",\"white\",\"white\",\"white\",\"white\",\"white\",\"white\",\"white\",\"white\",\"white\",\"white\",\"white\",\"white\",\"white\",\"white\",\"white\",\"white\",\"white\",\"white\",\"white\",\"white\",\"white\",\"white\",\"white\",\"white\",\"white\",\"white\",\"white\",\"white\",\"white\",\"white\",\"white\",\"white\",\"white\",\"white\",\"white\",\"white\",\"white\",\"white\",\"white\",\"white\",\"white\",\"lightgray\",\"white\",\"white\",\"white\",\"white\",\"white\",\"white\",\"white\",\"white\",\"white\",\"white\",\"white\",\"white\",\"white\",\"white\",\"white\",\"white\",\"white\",\"white\",\"white\",\"white\",\"white\",\"white\",\"white\",\"white\",\"white\",\"white\",\"white\",\"white\",\"white\",\"white\",\"white\",\"white\",\"white\",\"white\",\"white\",\"white\",\"#cc78bc\",\"#cc78bc\",\"#cc78bc\",\"#cc78bc\",\"#cc78bc\",\"#cc78bc\",\"white\",\"white\",\"white\",\"white\",\"white\",\"white\",\"white\",\"white\",\"white\",\"white\",\"white\",\"white\",\"white\",\"white\",\"white\",\"white\",\"white\",\"white\",\"white\",\"white\",\"white\",\"white\",\"white\",\"white\",\"white\",\"white\",\"white\",\"white\",\"white\",\"white\",\"white\",\"white\",\"white\",\"white\",\"white\",\"white\",\"white\",\"white\",\"white\",\"white\",\"lightgray\",\"white\",\"white\",\"lightgray\",\"white\",\"white\",\"white\",\"white\",\"white\",\"white\",\"white\",\"white\",\"white\",\"white\",\"white\",\"white\",\"white\",\"white\",\"white\",\"white\",\"white\",\"white\",\"white\",\"white\",\"white\",\"white\",\"white\",\"white\",\"white\",\"white\",\"white\",\"white\",\"white\",\"white\",\"white\",\"white\",\"white\",\"white\",\"white\",\"white\",\"white\",\"#cc78bc\",\"#cc78bc\",\"#cc78bc\",\"white\",\"#cc78bc\",\"white\",\"white\",\"white\",\"white\",\"white\",\"white\",\"white\",\"white\",\"white\",\"white\",\"white\",\"white\",\"white\",\"white\",\"white\",\"white\",\"white\",\"white\",\"white\",\"white\",\"white\",\"white\",\"white\",\"white\",\"white\",\"white\",\"white\",\"white\",\"white\",\"white\",\"white\",\"white\",\"white\",\"white\",\"white\",\"white\",\"white\",\"white\",\"white\",\"white\",\"lightgray\",\"white\",\"white\",\"lightgray\",\"white\",\"white\",\"white\",\"white\",\"white\",\"white\",\"white\",\"white\",\"white\",\"white\",\"white\",\"white\",\"white\",\"white\",\"white\",\"white\",\"white\",\"white\",\"white\",\"white\",\"white\",\"white\",\"white\",\"white\",\"white\",\"white\",\"white\",\"white\",\"white\",\"white\",\"white\",\"white\",\"white\",\"white\",\"white\",\"white\",\"#cc78bc\",\"#cc78bc\",\"#cc78bc\",\"#cc78bc\",\"#cc78bc\",\"#cc78bc\",\"white\",\"white\",\"white\",\"white\",\"white\",\"white\",\"white\",\"white\",\"white\",\"white\",\"white\",\"white\",\"white\",\"white\",\"white\",\"white\",\"white\",\"white\",\"white\",\"white\",\"white\",\"white\",\"white\",\"white\",\"white\",\"white\",\"white\",\"white\",\"white\",\"white\",\"white\",\"white\",\"white\",\"white\",\"white\",\"white\",\"white\",\"white\",\"white\",\"white\",\"white\",\"white\",\"white\",\"white\",\"white\",\"white\",\"white\",\"white\",\"white\",\"white\",\"white\",\"white\",\"white\",\"white\",\"white\",\"white\",\"white\",\"white\",\"white\",\"white\",\"white\",\"white\",\"white\",\"white\",\"white\",\"white\",\"white\",\"white\",\"white\",\"white\",\"white\",\"white\",\"white\",\"white\",\"white\",\"white\",\"white\",\"white\",\"white\",\"white\",\"#cc78bc\",\"#cc78bc\",\"white\",\"#cc78bc\",\"#cc78bc\",\"#cc78bc\",\"white\",\"white\",\"white\",\"white\",\"white\",\"white\",\"white\",\"white\",\"white\",\"white\",\"white\",\"white\",\"white\",\"white\",\"white\",\"white\",\"white\",\"white\",\"white\",\"white\",\"white\",\"white\",\"white\",\"white\",\"white\",\"white\",\"white\",\"white\",\"white\",\"white\",\"white\",\"white\",\"white\",\"white\",\"white\",\"white\",\"white\",\"white\",\"white\",\"white\",\"lightgray\",\"white\",\"white\",\"white\",\"white\",\"white\",\"white\",\"white\",\"white\",\"white\",\"white\",\"white\",\"white\",\"white\",\"white\",\"white\",\"white\",\"white\",\"white\",\"white\",\"white\",\"white\",\"white\",\"white\",\"white\",\"white\",\"white\",\"white\",\"white\",\"white\",\"white\",\"white\",\"white\",\"white\",\"white\",\"white\",\"white\",\"white\",\"white\",\"white\",\"#cc78bc\",\"#cc78bc\",\"#cc78bc\",\"#cc78bc\",\"#cc78bc\",\"#cc78bc\",\"white\",\"white\",\"white\",\"white\",\"white\",\"white\",\"white\",\"white\",\"white\",\"white\",\"white\",\"white\",\"white\",\"white\",\"white\",\"white\",\"white\",\"white\",\"white\",\"white\",\"lightgray\",\"white\",\"white\",\"lightgray\",\"white\",\"lightgray\",\"white\",\"white\",\"white\",\"white\",\"white\",\"white\",\"white\",\"white\",\"white\",\"white\",\"white\",\"white\",\"white\",\"white\",\"white\",\"white\",\"white\",\"white\",\"white\",\"white\",\"white\",\"white\",\"white\",\"white\",\"lightgray\",\"white\",\"white\",\"white\",\"white\",\"white\",\"lightgray\",\"white\",\"white\",\"lightgray\",\"white\",\"white\",\"white\",\"white\",\"white\",\"white\",\"white\",\"lightgray\",\"white\",\"lightgray\",\"white\",\"white\",\"lightgray\",\"white\",\"lightgray\",\"lightgray\",\"lightgray\",\"white\",\"white\",\"white\",\"white\",\"white\",\"white\",\"white\",\"white\",\"white\",\"#ca9161\",\"white\",\"white\",\"#ca9161\",\"white\",\"#ca9161\",\"white\",\"white\",\"white\",\"white\",\"#ca9161\",\"white\",\"white\",\"white\",\"#ca9161\",\"white\",\"#ca9161\",\"#ca9161\",\"#ca9161\",\"white\",\"white\",\"white\",\"white\",\"white\",\"white\",\"white\",\"white\",\"white\",\"white\",\"white\",\"white\",\"white\",\"white\",\"white\",\"white\",\"white\",\"white\",\"white\",\"white\",\"white\",\"white\",\"white\",\"white\",\"white\",\"lightgray\",\"white\",\"white\",\"lightgray\",\"white\",\"lightgray\",\"lightgray\",\"white\",\"white\",\"white\",\"white\",\"white\",\"lightgray\",\"lightgray\",\"white\",\"lightgray\",\"white\",\"white\",\"white\",\"white\",\"white\",\"white\",\"white\",\"white\",\"white\",\"white\",\"white\",\"white\",\"white\",\"white\",\"white\",\"white\",\"white\",\"white\",\"white\",\"white\",\"white\",\"white\",\"white\",\"white\",\"white\",\"white\",\"white\",\"#ca9161\",\"white\",\"#ca9161\",\"#ca9161\",\"white\",\"white\",\"white\",\"white\",\"#ca9161\",\"#ca9161\",\"#ca9161\",\"white\",\"#ca9161\",\"#ca9161\",\"#ca9161\",\"#ca9161\",\"#ca9161\",\"#ca9161\",\"white\",\"white\",\"white\",\"white\",\"white\",\"white\",\"white\",\"white\",\"white\",\"white\",\"white\",\"white\",\"white\",\"white\",\"white\",\"white\",\"white\",\"white\",\"white\",\"white\",\"white\",\"white\",\"white\",\"white\",\"white\",\"white\",\"white\",\"white\",\"white\",\"white\",\"white\",\"white\",\"white\",\"white\",\"white\",\"white\",\"white\",\"white\",\"white\",\"white\",\"lightgray\",\"white\",\"white\",\"white\",\"white\",\"white\",\"white\",\"white\",\"white\",\"white\",\"white\",\"white\",\"white\",\"white\",\"white\",\"white\",\"white\",\"white\",\"white\",\"white\",\"white\",\"white\",\"white\",\"white\",\"white\",\"white\",\"white\",\"white\",\"white\",\"#ca9161\",\"#ca9161\",\"#ca9161\",\"white\",\"#ca9161\",\"white\",\"white\",\"white\",\"#ca9161\",\"#ca9161\",\"white\",\"#ca9161\",\"white\",\"white\",\"white\",\"white\",\"#ca9161\",\"white\",\"lightgray\",\"white\",\"white\",\"lightgray\",\"white\",\"white\",\"white\",\"white\",\"white\",\"white\",\"white\",\"white\",\"white\",\"white\",\"white\",\"white\",\"white\",\"white\",\"white\",\"white\",\"white\",\"white\",\"white\",\"white\",\"white\",\"white\",\"white\",\"white\",\"white\",\"white\",\"lightgray\",\"white\",\"white\",\"white\",\"white\",\"white\",\"lightgray\",\"white\",\"white\",\"lightgray\",\"white\",\"white\",\"white\",\"white\",\"white\",\"white\",\"white\",\"white\",\"white\",\"lightgray\",\"white\",\"white\",\"lightgray\",\"lightgray\",\"lightgray\",\"lightgray\",\"lightgray\",\"lightgray\",\"white\",\"white\",\"white\",\"white\",\"white\",\"white\",\"white\",\"white\",\"#ca9161\",\"#ca9161\",\"#ca9161\",\"#ca9161\",\"#ca9161\",\"#ca9161\",\"white\",\"white\",\"#ca9161\",\"#ca9161\",\"#ca9161\",\"white\",\"white\",\"white\",\"#ca9161\",\"#ca9161\",\"#ca9161\",\"#ca9161\",\"#ca9161\",\"white\",\"white\",\"white\",\"white\",\"white\",\"white\",\"white\",\"white\",\"white\",\"white\",\"white\",\"white\",\"white\",\"lightgray\",\"white\",\"white\",\"white\",\"white\",\"white\",\"white\",\"white\",\"white\",\"white\",\"white\",\"white\",\"white\",\"white\",\"white\",\"white\",\"white\",\"white\",\"white\",\"white\",\"white\",\"white\",\"white\",\"white\",\"white\",\"white\",\"white\",\"white\",\"white\",\"white\",\"white\",\"white\",\"white\",\"white\",\"white\",\"white\",\"white\",\"lightgray\",\"lightgray\",\"white\",\"white\",\"white\",\"white\",\"lightgray\",\"white\",\"white\",\"white\",\"white\",\"white\",\"white\",\"white\",\"white\",\"white\",\"white\",\"white\",\"#ca9161\",\"#ca9161\",\"#ca9161\",\"#ca9161\",\"#ca9161\",\"white\",\"#ca9161\",\"white\",\"#ca9161\",\"#ca9161\",\"#ca9161\",\"white\",\"#ca9161\",\"#ca9161\",\"#ca9161\",\"white\",\"#ca9161\",\"#ca9161\",\"white\",\"white\",\"white\",\"white\",\"lightgray\",\"white\",\"white\",\"white\",\"white\",\"white\",\"white\",\"white\",\"white\",\"white\",\"white\",\"white\",\"white\",\"white\",\"white\",\"white\",\"white\",\"white\",\"white\",\"white\",\"white\",\"white\",\"white\",\"white\",\"white\",\"white\",\"white\",\"white\",\"white\",\"white\",\"white\",\"white\",\"white\",\"white\",\"white\",\"white\",\"white\",\"white\",\"white\",\"white\",\"white\",\"white\",\"white\",\"white\",\"white\",\"lightgray\",\"lightgray\",\"white\",\"white\",\"lightgray\",\"lightgray\",\"lightgray\",\"lightgray\",\"lightgray\",\"lightgray\",\"white\",\"white\",\"white\",\"white\",\"white\",\"white\",\"white\",\"white\",\"#ca9161\",\"white\",\"white\",\"#ca9161\",\"#ca9161\",\"#ca9161\",\"white\",\"#ca9161\",\"#ca9161\",\"#ca9161\",\"#ca9161\",\"#ca9161\",\"white\",\"white\",\"#ca9161\",\"#ca9161\",\"#ca9161\",\"#ca9161\",\"#ca9161\",\"white\",\"white\",\"white\",\"white\",\"white\",\"white\",\"white\",\"white\",\"white\",\"white\",\"white\",\"white\",\"white\",\"white\",\"white\",\"white\",\"white\",\"white\",\"white\",\"white\",\"white\",\"white\",\"white\",\"white\",\"white\",\"white\",\"white\",\"white\",\"white\",\"white\",\"white\",\"white\",\"white\",\"white\",\"white\",\"white\",\"white\",\"white\",\"white\",\"white\",\"white\",\"white\",\"white\",\"white\",\"white\",\"white\",\"white\",\"white\",\"white\",\"white\",\"white\",\"white\",\"white\",\"white\",\"white\",\"white\",\"white\",\"white\",\"white\",\"white\",\"white\",\"white\",\"white\",\"white\",\"white\",\"white\",\"white\",\"white\",\"white\",\"#ca9161\",\"white\",\"white\",\"white\",\"#ca9161\",\"white\",\"white\",\"white\",\"white\",\"white\",\"white\",\"white\",\"white\",\"white\",\"white\",\"white\",\"white\",\"white\",\"white\",\"white\",\"white\",\"white\",\"white\",\"white\",\"white\",\"white\",\"white\",\"white\",\"white\",\"white\",\"lightgray\",\"white\",\"lightgray\",\"white\",\"white\",\"white\",\"white\",\"white\",\"white\",\"white\",\"white\",\"white\",\"white\",\"white\",\"white\",\"lightgray\",\"white\",\"white\",\"white\",\"white\",\"white\",\"white\",\"white\",\"white\",\"white\",\"white\",\"white\",\"white\",\"white\",\"white\",\"lightgray\",\"white\",\"white\",\"white\",\"white\",\"white\",\"white\",\"white\",\"white\",\"lightgray\",\"white\",\"white\",\"white\",\"white\",\"lightgray\",\"white\",\"white\",\"white\",\"white\",\"white\",\"white\",\"white\",\"white\",\"white\",\"white\",\"white\",\"white\",\"white\",\"#ca9161\",\"#ca9161\",\"white\",\"#ca9161\",\"white\",\"#ca9161\",\"#ca9161\",\"#ca9161\",\"white\",\"white\",\"white\",\"white\",\"white\",\"#ca9161\",\"white\",\"white\",\"lightgray\",\"white\",\"lightgray\",\"lightgray\",\"white\",\"white\",\"white\",\"white\",\"white\",\"white\",\"white\",\"white\",\"white\",\"lightgray\",\"white\",\"white\",\"white\",\"white\",\"white\",\"white\",\"white\",\"white\",\"white\",\"white\",\"white\",\"white\",\"white\",\"white\",\"white\",\"white\",\"white\",\"white\",\"white\",\"white\",\"white\",\"white\",\"white\",\"white\",\"white\",\"white\",\"lightgray\",\"white\",\"white\",\"white\",\"white\",\"white\",\"white\",\"white\",\"white\",\"lightgray\",\"white\",\"white\",\"lightgray\",\"lightgray\",\"lightgray\",\"white\",\"white\",\"lightgray\",\"white\",\"white\",\"white\",\"white\",\"white\",\"white\",\"white\",\"white\",\"white\",\"white\",\"white\",\"#ca9161\",\"white\",\"#ca9161\",\"white\",\"white\",\"#ca9161\",\"white\",\"white\",\"white\",\"#ca9161\",\"white\",\"white\",\"#ca9161\",\"white\",\"white\",\"white\",\"white\",\"white\",\"white\",\"white\",\"white\",\"white\",\"white\",\"white\",\"white\",\"white\",\"white\",\"white\",\"white\",\"lightgray\",\"white\",\"white\",\"white\",\"white\",\"white\",\"white\",\"white\",\"white\",\"white\",\"white\",\"white\",\"white\",\"white\",\"white\",\"lightgray\",\"white\",\"white\",\"lightgray\",\"white\",\"white\",\"white\",\"white\",\"white\",\"white\",\"white\",\"white\",\"white\",\"white\",\"white\",\"white\",\"white\",\"white\",\"white\",\"white\",\"white\",\"white\",\"white\",\"white\",\"lightgray\",\"white\",\"white\",\"white\",\"white\",\"white\",\"white\",\"white\",\"white\",\"white\",\"white\",\"white\",\"white\",\"white\",\"white\",\"white\",\"#ca9161\",\"white\",\"#ca9161\",\"#ca9161\",\"#ca9161\",\"white\",\"#ca9161\",\"white\",\"#ca9161\",\"white\",\"#ca9161\",\"#ca9161\",\"#ca9161\",\"#ca9161\",\"#ca9161\",\"white\",\"#ca9161\",\"#ca9161\",\"white\",\"white\",\"white\",\"white\",\"white\",\"white\",\"white\",\"white\",\"white\",\"white\",\"white\",\"white\",\"white\",\"white\",\"white\",\"lightgray\",\"white\",\"white\",\"white\",\"white\",\"white\",\"white\",\"white\",\"white\",\"white\",\"white\",\"white\",\"white\",\"lightgray\",\"white\",\"white\",\"lightgray\",\"white\",\"white\",\"white\",\"white\",\"white\",\"lightgray\",\"lightgray\",\"white\",\"lightgray\",\"white\",\"white\",\"white\",\"white\",\"white\",\"white\",\"white\",\"white\",\"white\",\"white\",\"white\",\"white\",\"white\",\"white\",\"white\",\"lightgray\",\"lightgray\",\"white\",\"white\",\"white\",\"white\",\"white\",\"white\",\"white\",\"white\",\"white\",\"#ca9161\",\"#ca9161\",\"#ca9161\",\"#ca9161\",\"#ca9161\",\"#ca9161\",\"white\",\"#ca9161\",\"white\",\"white\",\"#ca9161\",\"#ca9161\",\"white\",\"white\",\"white\",\"white\",\"white\",\"#ca9161\",\"#ca9161\",\"white\",\"lightgray\",\"white\",\"white\",\"white\",\"white\",\"lightgray\",\"white\",\"white\",\"white\",\"white\",\"white\",\"lightgray\",\"lightgray\",\"white\",\"white\",\"white\",\"white\",\"white\",\"white\",\"white\",\"white\",\"white\",\"white\",\"white\",\"lightgray\",\"white\",\"white\",\"lightgray\",\"white\",\"white\",\"white\",\"white\",\"white\",\"white\",\"white\",\"white\",\"white\",\"lightgray\",\"white\",\"lightgray\",\"lightgray\",\"white\",\"white\",\"white\",\"white\",\"white\",\"white\",\"white\",\"white\",\"lightgray\",\"white\",\"white\",\"white\",\"white\",\"lightgray\",\"white\",\"lightgray\",\"white\",\"white\",\"lightgray\",\"white\",\"white\",\"white\",\"white\",\"white\",\"white\",\"white\",\"#ca9161\",\"#ca9161\",\"white\",\"#ca9161\",\"#ca9161\",\"white\",\"#ca9161\",\"white\",\"#ca9161\",\"#ca9161\",\"#ca9161\",\"#ca9161\",\"#ca9161\",\"white\",\"#ca9161\",\"white\",\"#ca9161\",\"#ca9161\",\"white\",\"lightgray\",\"white\",\"white\",\"white\",\"white\",\"lightgray\",\"white\",\"white\",\"white\",\"white\",\"white\",\"white\",\"lightgray\",\"lightgray\",\"white\",\"white\",\"white\",\"white\",\"white\",\"white\",\"white\",\"white\",\"white\",\"white\",\"lightgray\",\"white\",\"white\",\"white\",\"white\",\"white\",\"white\",\"white\",\"white\",\"white\",\"white\",\"white\",\"lightgray\",\"lightgray\",\"white\",\"white\",\"lightgray\",\"white\",\"white\",\"white\",\"lightgray\",\"white\",\"white\",\"white\",\"white\",\"lightgray\",\"white\",\"lightgray\",\"white\",\"white\",\"lightgray\",\"white\",\"white\",\"white\",\"white\",\"lightgray\",\"white\",\"white\",\"white\",\"white\",\"white\",\"white\",\"white\",\"white\",\"white\",\"white\",\"white\",\"white\",\"white\",\"white\",\"#ca9161\",\"#ca9161\",\"white\",\"#ca9161\",\"#ca9161\",\"white\",\"white\",\"#ca9161\",\"white\",\"#ca9161\",\"white\",\"white\",\"white\",\"white\",\"white\",\"white\",\"white\",\"lightgray\",\"white\",\"white\",\"white\",\"white\",\"white\",\"white\",\"lightgray\",\"white\",\"white\",\"white\",\"white\",\"white\",\"white\",\"white\",\"white\",\"white\",\"white\",\"white\",\"lightgray\",\"white\",\"lightgray\",\"lightgray\",\"white\",\"lightgray\",\"white\",\"white\",\"white\",\"white\",\"white\",\"white\",\"white\",\"white\",\"white\",\"white\",\"lightgray\",\"white\",\"lightgray\",\"white\",\"white\",\"white\",\"white\",\"white\",\"white\",\"white\",\"white\",\"white\",\"white\",\"white\",\"white\",\"white\",\"white\",\"white\",\"white\",\"white\",\"white\",\"white\",\"white\",\"white\",\"white\",\"white\",\"white\",\"#ca9161\",\"#ca9161\",\"white\",\"#ca9161\",\"white\",\"white\",\"white\",\"white\",\"#ca9161\",\"white\",\"#ca9161\",\"white\",\"#ca9161\",\"white\",\"white\",\"white\",\"white\",\"#ca9161\",\"white\",\"white\",\"white\",\"white\",\"white\",\"white\",\"white\",\"white\",\"white\",\"white\",\"white\",\"white\",\"white\",\"white\",\"white\",\"white\",\"white\",\"white\",\"white\",\"white\",\"white\",\"white\",\"white\",\"white\",\"white\",\"white\",\"white\",\"white\",\"white\",\"white\",\"white\",\"white\",\"white\",\"white\",\"white\",\"white\",\"white\",\"white\",\"white\",\"white\",\"white\",\"white\",\"white\",\"white\",\"white\",\"lightgray\",\"white\",\"white\",\"lightgray\",\"lightgray\",\"lightgray\",\"lightgray\",\"white\",\"lightgray\",\"white\",\"lightgray\",\"lightgray\",\"white\",\"white\",\"white\",\"lightgray\",\"white\",\"white\",\"white\",\"white\",\"white\",\"white\",\"#ca9161\",\"#ca9161\",\"white\",\"#ca9161\",\"#ca9161\",\"#ca9161\",\"white\",\"white\",\"white\",\"#ca9161\",\"white\",\"white\",\"white\",\"white\",\"#ca9161\",\"#ca9161\",\"#ca9161\",\"#ca9161\",\"white\",\"white\",\"white\",\"white\",\"white\",\"white\",\"white\",\"white\",\"white\",\"white\",\"white\",\"white\",\"white\",\"white\",\"white\",\"white\",\"white\",\"white\",\"white\",\"white\",\"white\",\"white\",\"white\",\"white\",\"white\",\"white\",\"lightgray\",\"white\",\"white\",\"white\",\"white\",\"white\",\"white\",\"white\",\"white\",\"white\",\"white\",\"white\",\"lightgray\",\"white\",\"white\",\"white\",\"lightgray\",\"white\",\"white\",\"white\",\"white\",\"white\",\"white\",\"white\",\"white\",\"lightgray\",\"white\",\"white\",\"lightgray\",\"white\",\"white\",\"white\",\"white\",\"white\",\"white\",\"white\",\"white\",\"white\",\"white\",\"white\",\"white\",\"white\",\"white\",\"#ca9161\",\"white\",\"#ca9161\",\"#ca9161\",\"#ca9161\",\"white\",\"white\",\"#ca9161\",\"#ca9161\",\"white\",\"#ca9161\",\"#ca9161\",\"white\",\"#ca9161\",\"#ca9161\",\"#ca9161\",\"#ca9161\",\"#ca9161\",\"white\",\"white\",\"white\",\"white\",\"white\",\"white\",\"white\",\"white\",\"white\",\"white\",\"white\",\"white\",\"white\",\"white\",\"white\",\"white\",\"white\",\"white\",\"white\",\"white\",\"white\",\"white\",\"white\",\"white\",\"white\",\"white\",\"white\",\"white\",\"white\",\"white\",\"white\",\"white\",\"white\",\"white\",\"white\",\"white\",\"white\",\"lightgray\",\"white\",\"white\",\"white\",\"white\",\"white\",\"white\",\"white\",\"white\",\"white\",\"white\",\"white\",\"white\",\"lightgray\",\"white\",\"white\",\"lightgray\",\"white\",\"white\",\"white\",\"white\",\"white\",\"white\",\"white\",\"white\",\"white\",\"white\",\"white\",\"white\",\"white\",\"#ca9161\",\"#ca9161\",\"white\",\"#ca9161\",\"white\",\"#ca9161\",\"white\",\"white\",\"white\",\"white\",\"white\",\"white\",\"white\",\"white\",\"#ca9161\",\"#ca9161\",\"#ca9161\",\"#ca9161\",\"white\",\"white\",\"lightgray\",\"white\",\"white\",\"white\",\"white\",\"white\",\"white\",\"white\",\"white\",\"white\",\"white\",\"white\",\"white\",\"white\",\"white\",\"white\",\"white\",\"white\",\"white\",\"white\",\"white\",\"white\",\"white\",\"white\",\"white\",\"white\",\"white\",\"white\",\"white\",\"white\",\"lightgray\",\"white\",\"white\",\"white\",\"white\",\"white\",\"lightgray\",\"lightgray\",\"white\",\"lightgray\",\"white\",\"white\",\"white\",\"white\",\"white\",\"white\",\"white\",\"white\",\"white\",\"lightgray\",\"white\",\"white\",\"lightgray\",\"white\",\"lightgray\",\"lightgray\",\"lightgray\",\"white\",\"white\",\"white\",\"white\",\"white\",\"white\",\"white\",\"white\",\"white\",\"#ca9161\",\"#ca9161\",\"white\",\"#ca9161\",\"#ca9161\",\"#ca9161\",\"white\",\"#ca9161\",\"white\",\"#ca9161\",\"#ca9161\",\"#ca9161\",\"#ca9161\",\"white\",\"#ca9161\",\"#ca9161\",\"#ca9161\",\"#ca9161\",\"#ca9161\",\"white\",\"lightgray\",\"white\",\"white\",\"white\",\"white\",\"lightgray\",\"white\",\"white\",\"white\",\"white\",\"white\",\"white\",\"white\",\"white\",\"white\",\"white\",\"white\",\"white\",\"white\",\"white\",\"white\",\"white\",\"white\",\"white\",\"lightgray\",\"white\",\"white\",\"lightgray\",\"white\",\"white\",\"lightgray\",\"white\",\"white\",\"white\",\"lightgray\",\"white\",\"lightgray\",\"lightgray\",\"white\",\"lightgray\",\"white\",\"white\",\"white\",\"white\",\"white\",\"white\",\"white\",\"white\",\"white\",\"white\",\"white\",\"white\",\"white\",\"white\",\"white\",\"white\",\"lightgray\",\"white\",\"white\",\"white\",\"white\",\"white\",\"white\",\"white\",\"white\",\"white\",\"#ca9161\",\"#ca9161\",\"#ca9161\",\"#ca9161\",\"#ca9161\",\"#ca9161\",\"white\",\"white\",\"white\",\"#ca9161\",\"#ca9161\",\"#ca9161\",\"white\",\"#ca9161\",\"white\",\"#ca9161\",\"white\",\"#ca9161\",\"#ca9161\"]],[\"correlations\",[1.0,0.44904167801889666,0.46216816065298133,0.5926377579897536,0.6300874765989226,0.6014570864592609,0.5738190417570045,0.4243967134138444,-0.059028133610095485,0.32623634869622214,0.543576768128138,0.6143345440100668,0.5265724662943428,0.7060583188869584,0.5617581620638934,0.38983327364178894,0.4146341463414634,0.6365950701207667,0.3545065879096553,0.5076300119734881,0.0,-0.196818307578313,-0.24651351438384395,0.06984302957695786,0.3825460278380029,0.5491564702454121,0.7073170731707317,0.32006096980144877,0.46341463414634165,-0.1484566503066678,0.7496755914896459,0.49630922307351744,0.2820166733186044,0.38254602783800307,-0.02969133006133349,0.495142079355432,0.2602896031476768,0.5726371269248889,0.4830300131019749,0.1908790423082963,0.5304958917673055,0.7426942484742278,0.5304958917673057,0.5265724662943427,0.5738190417570045,0.7340317845665,0.15617376188860607,0.4893545230443333,0.36291502734548026,0.4340227108624265,0.6097560975609756,0.389833273641789,0.4838867031273071,0.3032727871586654,0.5943989439169761,0.6529998061608359,0.26722197055200186,0.31829753506038333,0.543576768128138,0.17073170731707318,0.6204366813009298,-0.20300517669800955,0.1209716757818267,0.19087904230829628,-0.1016487404597632,-0.2515607182970189,-0.12097167578182678,0.2820166733186044,0.5029529525451337,0.4243967134138444,0.46216816065298133,0.4893545230443333,0.4520767888805786,0.2951406680504776,0.40779543587027767,0.5129359310192314,0.3280305126305216,0.2454159115392381,0.385987290797336,0.5726371269248889,0.5047526110426702,0.6097560975609757,0.40779543587027767,0.5047526110426704,0.34921514788478913,0.2672219705520019,0.44904167801889666,1.0,0.28977485337560777,0.5742569045004268,0.7087937459111765,0.667266857839142,0.8958129916620625,0.6511203588182797,0.5147762110250391,0.26343168488691615,0.6946564885496184,0.7937076768278888,0.7086675685963293,0.7010525215271997,0.8071174869237936,0.713513549582251,0.6381118582373795,0.5825813736795133,0.5114503816793893,0.7833735245660519,0.15629293303291278,0.021190435947906393,0.14787055355309714,-0.0676768252192412,-0.061780206321521536,0.7179453533712287,0.44904167801889666,0.5168902906024488,0.49630922307351744,0.10549162715232827,0.59898132354373,0.7404580152671755,0.3097058120377416,0.4942416505721724,0.33565517730286254,0.49081462837018075,0.21858775133230476,0.6557632539969137,0.6600686507096963,0.5548765995358501,0.5483118811101302,0.6511203588182797,0.37696441826321453,0.3968538384139444,0.4015713410898901,0.6585792122172903,0.45398994507478646,0.6585792122172903,0.7423914319063353,0.6244698905030376,0.7326469483466209,0.7135135495822511,0.6251717321316509,0.6987496677121584,0.6350366427401515,0.7949895743148344,0.6233596149910305,0.7539288365264291,0.5419847328244275,0.685379403292,0.6740655909056729,-0.25291144913893104,-0.19536616629114095,-0.05044332723053184,-0.2767270582998725,-0.3859509274814187,-0.1953661662911409,0.783373524566052,0.5168902906024488,0.3426949256938313,0.7112655491946737,0.6058928752399071,0.6976439121538343,0.17159207034167967,0.6058928752399073,0.7774012922588837,0.6569035143851002,0.626938495579467,0.7000807983745417,0.8575365629190411,0.5849990232992748,0.6381118582373795,0.6058928752399071,0.6233596149910307,0.7444450774116534,0.7000807983745417,0.46216816065298133,0.28977485337560777,1.0,0.6605782590758164,0.4117055577420104,0.2040374130651812,0.42640143271122083,0.3547874375934496,0.19738550848793077,0.09090909090909093,0.28977485337560777,0.391292790435615,0.09782319760890379,0.320630220530999,0.6261585997769192,0.33796318470968734,0.3534227110875739,0.35478743759344944,0.07902950546607483,0.6915640748081248,0.2696799449852969,-0.21938172723813926,-0.4317877695883728,-0.23354968324845685,4.7340068832915175e-17,0.49551943172972573,0.5709136102183888,0.1528941574312876,0.08155908717405552,0.2316661873125233,0.5717393462736051,0.23708851639822456,0.44008622942335207,0.6396021490668313,0.3640468657768224,0.3996557736527528,0.36749727368425095,0.40618119722996154,0.20707884164064555,0.2901294265928297,0.35478743759344966,0.23652495839563298,0.23652495839563303,0.2934695928267111,0.10660035817780521,7.065055611250996e-17,5.797950651443767e-17,3.027880976250427e-17,0.13483997249264848,-0.2198997485667712,0.13593181195675924,-0.048280454958526724,-0.1348399724926484,-0.02253601598002416,0.3567530340063379,0.2799462554779271,-0.09928550884822426,0.11826247919781649,0.1844021794208414,0.08155908717405555,0.06286946134619315,0.2909286827258562,0.044946657497549454,0.1353937324099872,0.08092988520379094,0.1401999274465563,-0.1348399724926483,0.18860838403857955,-0.05096471914376253,0.3547874375934495,0.1515151515151516,0.09090909090909088,0.055989251095585474,0.19738550848793074,0.09090909090909097,0.39581954742018827,-0.21938172723813923,0.1740776559556978,0.03309516961607473,0.1740776559556978,0.1654758480803738,-0.08155908717405552,-5.551115123125783e-17,0.03309516961607476,0.0778498944161522,0.16547584808037374,0.5926377579897536,0.5742569045004268,0.6605782590758164,1.0,0.7039061521024959,0.5295033822136559,0.677772085586298,0.6445033866354895,0.3585685828003181,0.3302891295379082,0.6699663885838313,0.44426165831931913,0.2665569949915916,0.5295033822136559,0.7060180864974626,0.26311740579210874,0.6914107176547127,0.4296689244236597,0.28712845225021333,0.6852482888641929,0.36742346141747667,-2.2122675829741195e-17,0.0,0.14142135623730953,0.1936491673103709,0.7413047350991182,0.4938647983247948,0.2777460299317654,0.19754591932991789,0.24048144481686073,0.7989354619369611,0.2871284522502134,0.45683219257612856,0.6777720855862979,0.36072216722529105,0.27657553019814046,0.1405456737852613,0.5270462766947299,0.3009419175453114,0.3513641844631533,0.4296689244236597,0.5370861555295745,0.21483446221182978,0.35540932665545544,0.4841229182759271,0.4954336943068621,0.4743416490252569,0.6605782590758162,0.6123724356957946,0.39946773096848054,0.6914107176547127,0.6139406135149205,0.3674234614174768,0.40938706057120133,0.6480740698407861,0.7119666788018507,0.3607221672252911,0.4296689244236597,0.6699663885838314,0.5926377579897537,0.5710402407201607,2.6077816329226498e-17,-0.08164965809277258,0.0,-0.058806574942638405,-0.19101436199010402,2.7194799110210363e-17,0.45683219257612856,0.3703280399090205,0.6445033866354896,0.5504818825631803,0.5780059766913394,0.5085476277156077,0.47809144373375756,0.3302891295379082,0.7190419157432653,0.2656844656620286,0.3614031611621005,0.48096288963372136,0.5270462766947298,0.6012036120421517,0.3950918386598358,0.49543369430686235,0.36072216722529105,0.4242640687119285,0.48096288963372147,0.6300874765989226,0.7087937459111765,0.4117055577420104,0.7039061521024959,1.0,0.7532063909381113,0.6531561093841246,0.598592227720047,0.2629152410248095,0.3874875837571862,0.8491489431213104,0.72967653367986,0.6514969050713036,0.597906104146748,0.7765163665331186,0.4244394931844701,0.5431788591370023,0.8191262063537487,0.5122964698169888,0.720176073219312,0.3592106040535499,0.01948093019766312,0.07319917479599515,0.3110855084191277,0.28398091712353246,0.42707578867624874,0.5431788591370023,0.06788442333021304,0.3259073154822013,-0.1675130729681571,0.6209563770809302,0.5544030289800291,0.18423108849796352,0.36917519226059203,0.3614755785102339,0.29912265146930617,0.04637388957601686,0.5101127853361851,0.3420250459768577,0.10820574234403928,0.598592227720047,0.5040776654484608,0.4410679572674031,0.28665863823137355,0.5395637425347118,0.6781032715750759,0.556486674912202,0.6781032715750759,0.7902633289178096,0.6443886931971915,0.8039047115227633,0.5787811270697321,0.46697378526961475,0.7504428919979838,0.909651272624855,0.9098399179564545,0.7317676345451074,0.6931067899916336,0.793006864237257,0.41281593294412167,0.7201760732193119,-0.025834245322211118,0.10776318121606497,0.1082057423440393,-0.021559536399062315,-0.1867447007566213,-0.035921060405354976,0.7201760732193118,0.39372965531523585,0.5040776654484607,0.7023212455599,0.557013401650955,0.7308550160633814,0.2629152410248094,0.4117055577420104,0.7146856415459762,0.3701376737555998,0.4571140543921658,0.4849062638551916,0.5101127853361851,0.4849062638551916,0.6300874765989226,0.4117055577420104,0.520172173953751,0.5599539151544297,0.4849062638551916,0.6014570864592609,0.667266857839142,0.2040374130651812,0.5295033822136559,0.7532063909381113,1.0,0.7519445197271297,0.7583704957147719,0.44301431381276,0.6704086429284523,0.8024095125913732,0.6273014684478055,0.9095871292493182,0.7383177570093459,0.726909098036372,0.6966077814310228,0.7060583188869585,0.834207545286249,0.5996955304630263,0.5845776284267558,-0.04323377011671166,-0.023446803861612058,0.3649892750714124,0.07488308644489773,0.2734343708098653,0.49532710280373826,0.3922546216038659,0.3104757536289352,0.4445552378177146,-0.053056557662564334,0.5217481360947956,0.5490170349309395,-0.1007892462804751,0.4785101489172642,0.32895065750789876,0.15254966528901084,-0.05581455721859477,0.3907019005301634,0.6241199058279134,-0.0558145572185948,0.6446149213575559,0.5308593470003403,0.4929408222146016,0.3136507342239027,0.47851014891726446,0.6704086429284523,0.6697746866231371,0.6704086429284523,0.7349740919840987,0.6627611458501457,0.7060583188869585,0.6966077814310228,0.6052727816339637,0.570832494111656,0.5719290198427756,0.8437367585287224,0.6472900034832848,0.7583704957147718,0.5659098667749685,0.5491564702454121,0.9474189150364661,-0.34202860157100906,0.043233770116711694,0.2418630812805774,-0.036327993716615894,-0.38209483607276495,-0.04323377011671172,0.5845776284267556,0.5065657032893154,0.4171037726431244,0.4372230279968167,0.46637122986327123,0.5206035318581479,0.44301431381276,0.5538158354626346,0.40893772829051545,0.3985956656474041,0.5023310149673527,0.6897352496133363,0.6139601294045425,0.5623995112231819,0.6014570864592609,0.2914820186645446,0.26528278831282165,0.5241816051142839,0.43506377283302755,0.5738190417570045,0.8958129916620625,0.42640143271122083,0.677772085586298,0.6531561093841246,0.7519445197271297,1.0,0.6587064830174595,0.46291004988627577,0.4264014327112209,0.7722525790190196,0.8029550685469664,0.7169241683455055,0.7861238160783629,0.75955452531275,0.7642869980476023,0.7650920556760059,0.5893689584893059,0.4015713410898901,0.7372097807744857,0.03952847075210481,-0.17149858514250893,0.18411492357966472,-0.13693063937629144,-0.06249999999999998,0.8544824087808293,0.5738190417570046,0.6573757351339163,0.5738190417570045,0.07761505257063325,0.7993514658505649,0.7722525790190192,0.2580234232710699,0.5937499999999999,0.31046021028253323,0.5802183954806872,0.34020690871988585,0.7144345083117603,0.7770286898858113,0.4762896722078401,0.6587064830174597,0.6587064830174597,0.4853626716970756,0.4875084344749438,0.3125000000000001,0.5863019699779287,0.4592793267718459,0.5863019699779288,0.7510409442899902,0.5930672165988061,0.6694555487165051,0.7642869980476021,0.5138701197773617,0.5285164225816901,0.5079721589671173,0.7550119889434048,0.543305367994433,0.6587064830174597,0.43246144425065086,0.6694555487165051,0.7372097807744858,-0.39800147287892435,-0.316227766016838,-0.06804138174397717,-0.32265558765047736,-0.45209721508973266,-0.316227766016838,0.7372097807744857,0.6573757351339163,0.4506939094329989,0.6396021490668313,0.6129520595223801,0.5580523396538211,0.3471825374147067,0.5330017908890262,0.5930672165988061,0.6002450479987811,0.6123724356957944,0.7373429994210163,0.8164965809277261,0.7373429994210163,0.6694555487165053,0.5330017908890261,0.543305367994433,0.6846531968814576,0.7373429994210162,0.4243967134138444,0.6511203588182797,0.3547874375934496,0.6445033866354895,0.598592227720047,0.7583704957147719,0.6587064830174595,1.0,0.5135525910130955,0.236524958395633,0.4797728959713641,0.3499566196366778,0.6362847629757776,0.4929408222146016,0.8426500884694863,0.5652668637191949,0.8487934268276888,0.4999999999999999,0.37696441826321464,0.6542886560876245,0.21926450482675733,0.19026059766179756,0.4085143369505323,-0.15191090506254998,0.2773500981126145,0.644614921357556,0.31829753506038333,0.1657483860329489,0.21219835670692216,0.43053084890961746,0.4863101325370295,0.2741559405550652,0.2044652050273827,0.6933752452815363,0.4305308489096175,0.02475748137127884,-0.1509702712192794,0.45291081365783803,0.5926497042844019,0.0754851356096397,0.5384615384615384,0.5384615384615384,0.15384615384615388,0.12725695259515557,0.4853626716970754,0.5026155365907201,0.6793662204867574,0.5913123959890826,0.6139406135149204,0.5435230893060919,0.7426942484742277,0.565266863719195,0.6139406135149204,0.5570195102972072,0.5303948353054369,0.8011927448021526,0.4305308489096175,0.6538461538461541,0.5483118811101303,0.5304958917673055,0.7769677791040541,-0.18923271008903098,-5.842380041800793e-17,0.22645540682891915,-0.021056131503868942,-0.3875666396994203,-0.08770580193070288,0.5316095330711949,0.3646464492724876,0.4230769230769231,0.3547874375934495,0.38435305739290365,0.4734320764739992,0.5135525910130956,0.4730499167912661,0.6293425244596853,0.19026059766179765,0.48526158606196945,0.6027431884734644,0.6793662204867574,0.34442467912769403,0.4243967134138444,0.4730499167912659,0.3013715942367323,0.6076436202502,0.3444246791276941,-0.059028133610095485,0.5147762110250391,0.19738550848793077,0.3585685828003181,0.2629152410248095,0.44301431381276,0.46291004988627577,0.5135525910130955,1.0,0.5921565254637922,0.28598678390279964,0.31859654643215496,0.4247953952428733,0.4430143138127601,0.515687954032345,0.5241424183609592,0.41319693527066875,0.38516444325982163,0.6291709245861589,0.5460189062319483,0.2927700218845599,0.47633051162246687,0.42614324229535216,1.876619425919027e-17,0.2314550249431378,0.44301431381276,0.1770844008302866,0.5532833351724882,0.4131969352706688,0.6467181814331598,0.19098210422376904,0.28598678390279947,0.273009453115974,0.6943650748294136,0.7904333328627509,0.1239641198754921,0.20998026278290402,0.2519763153394848,0.3596943895981083,0.4619565781223889,0.25677629550654785,0.38516444325982163,0.3851644432598217,0.42479539524287346,0.46291004988627577,0.2960782627318961,0.37796447300922725,0.4934637712198268,0.2927700218845599,-1.060163647002949e-17,0.2951406680504776,0.3144854510165755,0.43915503282683993,0.3425177889602086,0.22131333406899528,0.3646984043128985,0.2155727271443867,0.6419407387663696,0.40038149746391927,0.5312532024908597,0.4095141796739611,0.28074496253743864,0.29277002188455997,0.4619565781223889,0.3865801543362471,0.22830583024432852,0.48795003647426655,0.273009453115974,0.11065666703449757,0.3851644432598218,0.1973855084879307,0.19738550848793077,0.24313226954193232,0.2857142857142857,0.5921565254637922,0.38196420844753826,0.3175536744149779,0.48595432244043496,0.64671818143316,0.5039526306789697,0.5030030300035688,-0.059028133610095554,0.1973855084879307,-0.07185757571479556,0.3380617018914066,0.5030030300035689,0.32623634869622214,0.26343168488691615,0.09090909090909093,0.3302891295379082,0.3874875837571862,0.6704086429284523,0.4264014327112209,0.236524958395633,0.5921565254637922,1.0,0.6058928752399071,0.4157485898378407,0.5624833862511962,0.6412604410619978,0.2591001102525183,0.4345240946267408,0.24467726152216665,0.6504436355879908,0.6849223807059819,0.3143473067309657,-0.03370999312316208,0.14625448482542608,0.31402746879154386,0.35032452487268534,0.37310125362231816,0.23318561493163548,0.2446772615221666,0.5096471914376254,0.4893545230443332,0.03309516961607474,0.3078596479934797,0.3688043588416826,-0.1257389226923863,0.3731012536223183,0.43023720500897195,0.13321859121758428,0.17407765595569788,0.08703882797784893,0.2692024941328391,0.058025885318565944,0.3252218177939954,0.3252218177939955,0.650443635587991,0.5380275868489703,0.45305152225567213,0.4545454545454546,0.39167472590032015,0.5227272727272728,0.3708099243547831,0.15392982399673985,0.24467726152216657,0.43452409462674085,0.3708099243547831,0.15775211186016916,0.2548235957188128,0.3639301321213053,0.3309516961607476,0.5026155365907203,0.42149069581906573,0.4077954358702776,0.597259882788835,0.04848811378764265,0.3370999312316211,0.4642070825485275,0.37227747193743793,0.17524990930819537,0.4719399037242693,0.1257389226923863,0.280305955290694,0.4139186771923578,0.1818181818181818,0.29545454545454547,0.19596237883454895,0.296078262731896,0.5000000000000001,0.02198997485667708,0.3656362120635654,0.2984188387811962,0.5626178834732708,0.26111648393354675,0.6619033923214951,0.16311817434811107,-0.0454545454545455,-0.16547584808037386,0.11677484162422848,0.36404686577682255,0.543576768128138,0.6946564885496184,0.28977485337560777,0.6699663885838313,0.8491489431213104,0.8024095125913732,0.7722525790190196,0.4797728959713641,0.28598678390279964,0.6058928752399071,1.0,0.7370142713401824,0.651974163108623,0.667266857839142,0.5818753975497115,0.461685237964986,0.543576768128138,0.7539288365264293,0.5419847328244275,0.6376296130188795,0.07814646651645642,-0.14833305163534521,0.19336918541558856,0.3383841260962062,0.06178020632152162,0.44766004386676606,0.35450658790965534,0.28059758632704357,0.3072390428550345,-0.27811428976522906,0.6244698905030378,0.5877862595419848,-0.09108994471698277,0.24712082528608614,0.1822128105358398,0.2702237841588635,0.01681444241017728,0.3531032906137229,0.3480361976469307,0.08407221205088637,0.47977289597136397,0.37696441826321464,0.44550340340198097,0.2834670274385316,0.33979113476836875,0.6058928752399071,0.605319926766382,0.6849223807059819,0.8986843649392481,0.6754470244216529,0.6381118582373795,0.7974563201213395,0.4298055658405099,0.5158992873762667,0.6941098188090029,0.7625410202611677,0.700080798374542,0.5825813736795136,0.6030534351145039,0.5908443131827588,0.746937546679259,-0.25291144913893104,-0.11721969977468455,-0.05044332723053184,-0.14539896283552628,-0.28438489393367694,-0.11721969977468456,0.6376296130188797,0.4578171145335976,0.37696441826321464,0.6058928752399072,0.5795497067512156,0.5678496959391675,0.17159207034167967,0.342461190352991,0.446049921787884,0.4873800268018485,0.36751566982244616,0.5082778399157635,0.4539899450747866,0.6233596149910307,0.6381118582373795,0.2634316848869161,0.3548354731487404,0.4737377765346888,0.5082778399157635,0.6143345440100668,0.7937076768278888,0.391292790435615,0.44426165831931913,0.72967653367986,0.6273014684478055,0.8029550685469664,0.3499566196366778,0.31859654643215496,0.4157485898378407,0.7370142713401824,1.0,0.6842105263157895,0.6900316152925862,0.6273135318215906,0.6234292001593573,0.43881038857861915,0.7953559537197222,0.5669340548770634,0.7441611006409121,0.07254762501100119,-0.19672236884115854,-0.04223886030955118,2.0925956382285333e-17,0.05735393346764048,0.5332062481806348,0.7020966217257905,0.5484084971070817,0.6143345440100667,-0.17806114244894056,0.6862103602064364,0.8220543795717419,0.1691275228729345,0.3154466340720224,0.24928559942851697,0.6962741209461012,0.43707337873812396,0.6556100681071857,0.5570706472769831,0.43707337873812385,0.540842048529411,0.6362847629757777,0.6999132392733557,0.49999999999999994,0.4014775342734832,0.635850784457874,0.1404878717372541,0.48911598804451845,0.6166548125935098,0.4495860980662859,0.5265724662943427,0.46757190011951794,0.3990119375605063,0.5334999249765783,0.60324934681779,0.6627227564416557,0.46295897036724565,0.540842048529411,0.45354724390165063,0.26328623314717137,0.5412080731933907,-0.15652765711214212,-3.2217617467634147e-17,0.06243905410544627,-0.17417004336063915,-0.1508628572809429,-0.2176428750330035,0.6426845869171512,0.46614722254101953,0.25451390519031103,0.5869391856534221,0.39129279043561477,0.4819801865030222,-8.842830535375905e-17,0.3912927904356149,0.5205733767083309,0.511478158987012,0.40139391924929724,0.49857119885703377,0.6556100681071858,0.6054078843263981,0.6143345440100667,0.31792539222893695,0.5697956558366102,0.5026246899500345,0.6054078843263981,0.5265724662943428,0.7086675685963293,0.09782319760890379,0.2665569949915916,0.6514969050713036,0.9095871292493182,0.7169241683455055,0.6362847629757776,0.4247953952428733,0.5624833862511962,0.651974163108623,0.6842105263157895,1.0,0.7841268355597572,0.6970150353573229,0.8572151502191163,0.5265724662943427,0.795355953719722,0.5669340548770634,0.5412080731933908,-0.036273812505500554,0.039344473768231705,0.33791088247640944,-6.97531879409511e-18,0.22941573387056183,0.4391110279134639,0.43881038857861915,0.38388594797495723,0.6143345440100667,-0.07122445697957627,0.4022612456382558,0.7370142713401824,-0.03382550457458687,0.4014775342734831,0.3561222848978813,0.32765840985698885,0.12487810821089254,0.468292905790847,0.757616080296697,0.06243905410544627,0.7317274774221444,0.5408420485294112,0.604470524826989,0.4210526315789473,0.4014775342734832,0.635850784457874,0.5619514869490164,0.48911598804451845,0.6166548125935098,0.5915606553503762,0.6143345440100667,0.5455005501394375,0.6166548125935098,0.6062499147461118,0.5209880722517278,0.7530940414109724,0.6766323413059745,0.8271701918685112,0.4535472439016507,0.43881038857861904,0.845637614364673,-0.31305531422428423,0.07254762501100119,0.31219527052723134,-0.0174170043360639,-0.3205835717220036,-0.07254762501100119,0.6426845869171514,0.5484084971070817,0.3499566196366777,0.4891159880445184,0.46466018864229264,0.572351471472339,0.31859654643215496,0.6847623832623261,0.3785988194242408,0.511478158987012,0.6422302707988757,0.7122445697957626,0.6556100681071858,0.49857119885703377,0.6143345440100666,0.317925392228937,0.35612228489788134,0.6282808624375432,0.4985711988570339,0.7060583188869584,0.7010525215271997,0.320630220530999,0.5295033822136559,0.597906104146748,0.7383177570093459,0.7861238160783629,0.4929408222146016,0.4430143138127601,0.6412604410619978,0.667266857839142,0.6900316152925862,0.7841268355597572,1.0,0.6438337725465009,0.7894888189551591,0.39225462160386576,0.644614921357556,0.5659098667749684,0.6248933269389457,0.17293508046684686,0.16412762703128397,0.1636158819285641,0.22464925933469307,0.34179296351233174,0.6822429906542056,0.6014570864592609,0.6699739946729654,0.7583589351008075,0.11672442685764156,0.6627611458501457,0.8193023444354018,0.3426834373536154,0.5468687416197305,0.37139590363795033,0.6163006477676036,0.46512131015495634,0.6139601294045421,0.7303530812879838,0.4651213101549563,0.720451970929033,0.7204519709290331,0.7583704957147719,0.8154919089821473,0.5468687416197306,0.7287050466613613,0.5023310149673529,0.5538158354626345,0.562039011517252,0.43714033024158544,0.6014570864592609,0.6037267439068865,0.691740321867387,0.4263179386403505,0.6046106781195054,0.664218299267292,0.5623995112231819,0.7204519709290329,0.5996955304630261,0.549156470245412,0.7458404224755159,-0.09328052770118431,0.129701310350135,0.3907019005301634,0.12974283470219944,-0.08990466731123882,0.12970131035013502,0.5039462314023754,0.6699739946729654,0.6066963965718174,0.6704086429284524,0.7578532485278155,0.664218299267292,0.3164387955805429,0.8452978541271792,0.5217481360947955,0.7268509197099724,0.6936952111453919,0.774625741873439,0.7255892438417317,0.7746257418734392,0.6014570864592609,0.49551943172972557,0.4350637728330274,0.6739477780040793,0.6472900034832847,0.5617581620638934,0.8071174869237936,0.6261585997769192,0.7060180864974626,0.7765163665331186,0.726909098036372,0.75955452531275,0.8426500884694863,0.515687954032345,0.2591001102525183,0.5818753975497115,0.6273135318215906,0.6970150353573229,0.6438337725465009,1.0,0.7224219619614705,0.7167259309091052,0.674120070775589,0.4317140046336569,0.851125558139963,0.2882306768491569,0.052105010571890584,0.02796906467650911,-0.1664100588675687,0.15191090506255,0.6853714352914363,0.5617581620638933,0.25419556372089697,0.3680484510073784,0.2593926034146106,0.595399713075683,0.5443350493206978,0.4031647380662982,0.75955452531275,0.5423663525941859,0.33900577535158366,0.1515980089423659,0.6201736729460423,0.6197054405856357,0.31697765506131054,0.6741200707755891,0.5898550619286405,0.33706003538779455,0.34850751767866145,0.45573271518765013,0.5182002205050367,0.49613893835683387,0.5182002205050367,0.5764613536983137,0.40737875105178306,0.7167259309091052,0.4472135954999579,0.48038446141526137,0.626241783139484,0.6899593872424348,0.8377689203627271,0.4952040610642566,0.7583850796225378,0.5818753975497116,0.5230162198525903,0.6719412301104971,-0.023032671985243926,0.03202563076101739,0.20672455764868072,-0.03459875459539264,-0.24973998952923493,-0.09607689228305225,0.671941230110497,0.32682286764115326,0.5055900530816918,0.539791896359413,0.453425192941907,0.5984063716876622,0.421926507844646,0.5829752480681664,0.7834206750995828,0.2605250528594531,0.6201736729460422,0.589528644124115,0.7028634960055147,0.4008794780043981,0.4067903932186813,0.45342519294190703,0.40087947800439827,0.610170215847752,0.4952040610642565,0.38983327364178894,0.713513549582251,0.33796318470968734,0.26311740579210874,0.4244394931844701,0.6966077814310228,0.7642869980476023,0.5652668637191949,0.5241424183609592,0.4345240946267408,0.461685237964986,0.6234292001593573,0.8572151502191163,0.7894888189551591,0.7224219619614705,1.0,0.4764628900066309,0.5652668637191948,0.3777424674258975,0.6010025069647602,5.664711452725246e-17,-3.88057404900086e-17,0.18762218965128744,-0.24806946917841682,-9.42810025171211e-18,0.6037267439068864,0.4764628900066309,0.568398560058805,0.6497221227363149,0.1581871347533763,0.4204276522803465,0.7974563201213393,0.20033416898825332,0.5944454429259127,0.4745614042601291,0.5154671717467914,0.40061680838488756,0.5547001962252291,0.857816446918438,0.338983453248751,0.7536891516255934,0.4710557197659959,0.5652668637191949,0.5455005501394375,0.16984155512168939,0.36210341218895065,0.4160251471689219,0.2172620473133704,0.4296689244236597,0.280285101520231,0.38983327364178894,0.38461538461538464,0.4296689244236597,0.3949618249219552,0.3247991771764601,0.5352309301050473,0.4745614042601291,0.7536891516255934,0.20985692634772088,0.4764628900066309,0.6010025069647601,-0.20601048104984193,-0.07161148740394338,0.2773500981126145,-0.02578838907071045,-0.22337423731498202,-0.14322297480788657,0.60100250696476,0.48719876576469007,0.3768445758127966,0.4345240946267408,0.4345240946267408,0.44602577508753943,0.31448545101657543,0.7242068243779015,0.35035637690028887,0.46604138242837045,0.752807409162811,0.6854775839312975,0.647150228929434,0.47456140426012916,0.38983327364178894,0.28968272975116066,0.26364522458896056,0.6201736729460424,0.5800194940957134,0.4146341463414634,0.6381118582373795,0.3534227110875739,0.6914107176547127,0.5431788591370023,0.7060583188869585,0.7650920556760059,0.8487934268276888,0.41319693527066875,0.24467726152216665,0.543576768128138,0.43881038857861915,0.5265724662943427,0.39225462160386576,0.7167259309091052,0.4764628900066309,1.0,0.4243967134138444,0.1654364076911725,0.5076300119734881,0.0,-0.19681830757831295,0.3169459470649419,-0.34921514788478897,0.0,0.7583589351008073,0.4146341463414635,0.32006096980144866,0.26829268292682923,0.20783931042933482,0.6707623713328409,0.30723904285503456,0.16921000399116268,0.6694555487165051,0.326604630674669,0.15366478324823757,-0.01735264020984512,0.5726371269248889,0.6316546325179672,0.12146848146891581,0.5304958917673055,0.5304958917673057,0.10609917835346111,0.08776207771572377,0.2869095208785022,0.40779543587027767,0.4685212856658182,0.5709136102183887,0.6048583789091339,0.5918491511760361,0.7073170731707317,0.6497221227363149,0.3629150273454803,0.5458910168855978,0.3200609698014489,0.7534613148009643,0.38598729079733607,0.5304958917673056,0.3545065879096551,0.5609756097560976,0.7332433506283715,-0.49301257198088033,-0.3629150273454803,-0.15617376188860604,-0.39207371320194373,-0.6289017957425471,-0.3629150273454803,0.6204366813009294,0.5029529525451338,0.42439671341384444,0.35342271108757395,0.3262363486962222,0.35161528024045,0.6493094697110509,0.24467726152216654,0.5129359310192314,0.19681830757831295,0.42390021084050206,0.6235179312880045,0.6767529681839596,0.5047526110426703,0.5121951219512195,0.4893545230443332,0.3859872907973361,0.4889012070387048,0.5047526110426703,0.6365950701207667,0.5825813736795133,0.35478743759344944,0.4296689244236597,0.8191262063537487,0.834207545286249,0.5893689584893059,0.4999999999999999,0.38516444325982163,0.6504436355879908,0.7539288365264293,0.7953559537197222,0.795355953719722,0.644614921357556,0.674120070775589,0.5652668637191948,0.4243967134138444,1.0,0.7539288365264293,0.6951816970931011,0.04385290096535148,-0.04756514941544943,0.05106429211881654,0.15191090506255003,0.34668762264076813,0.26542967350017005,0.5304958917673055,0.23204774044612841,0.42439671341384444,-0.172212339563847,0.4577036541524985,0.5483118811101303,-0.081786082010953,0.3466876226407681,0.34442467912769414,0.2723322950840671,0.07548513560963971,0.3396831102433787,0.3771407209082557,7.542480201369688e-17,0.5000000000000001,0.5000000000000001,0.653846153846154,0.34995661963667773,0.5547001962252293,0.6504436355879908,0.3396831102433787,0.5617467761896284,0.5700877125495689,0.40049069738343607,0.5304958917673054,0.37684457581279657,0.4385290096535146,0.4983858776343432,0.6629935441317959,0.7283570407292296,0.4735839338005793,0.6153846153846155,0.5825813736795136,0.21219835670692214,0.695181697093101,-1.4006034116870624e-17,0.35082320772281167,0.3774256780481986,0.14739292052708292,-0.02279803762937767,0.08770580193070296,0.4498234510602418,0.2320477404461286,0.26923076923076933,0.3547874375934496,0.23652495839563314,0.40059637240107643,0.12838814775327384,0.4139186771923578,0.4004906973834361,0.23782574707724707,0.2911569516371817,0.43053084890961746,0.45291081365783825,0.43053084890961746,0.4243967134138444,0.05913123959890824,0.2152654244548088,0.3038218101251,0.30137159423673227,0.3545065879096553,0.5114503816793893,0.07902950546607483,0.28712845225021333,0.5122964698169888,0.5996955304630263,0.4015713410898901,0.37696441826321464,0.6291709245861589,0.6849223807059819,0.5419847328244275,0.5669340548770634,0.5669340548770634,0.5659098667749684,0.4317140046336569,0.3777424674258975,0.1654364076911725,0.7539288365264293,1.0,0.6376296130188794,0.07814646651645638,0.36023741111440954,0.1933691854155886,0.3383841260962061,0.43246144425065086,0.14358907067424573,0.16543640769117246,0.36920735043032055,0.3072390428550345,0.1822128105358397,0.16567568523549975,0.31297709923664124,-0.09108994471698277,0.24712082528608606,0.29729458561110683,0.07169202436867814,-0.05044332723053177,0.050443327230531874,0.13201373014193918,0.2185877513323046,0.0685389851387663,0.4797728959713641,0.5483118811101305,0.36850713567009125,0.7104723726974979,0.6849223807059819,0.30265996338319096,0.6849223807059819,0.42980556584050994,0.21665281915411508,0.3545065879096553,0.37774246742589757,0.664244965389879,0.28080594123011976,0.5168902906024488,0.47050403377816724,0.23975369807347327,0.4797728959713641,0.6030534351145038,0.30723904285503456,0.5283216793585003,0.25291144913893093,0.5860984988734227,0.5548765995358502,0.417435732011672,0.2640716872241285,0.5079520323569662,0.09108994471698284,0.014768294017212889,0.06853898513876623,0.18440217942084128,0.18440217942084128,0.275812709456167,-0.17159207034167975,0.5005202012851407,0.369584220909961,0.3602374111144098,0.10809284406542527,0.39319606484049624,0.45398994507478657,0.39319606484049624,0.1654364076911725,0.026343168488691608,0.00959014792293895,0.20303047565772372,0.1630325146899619,0.5076300119734881,0.7833735245660519,0.6915640748081248,0.6852482888641929,0.720176073219312,0.5845776284267558,0.7372097807744857,0.6542886560876245,0.5460189062319483,0.3143473067309657,0.6376296130188795,0.7441611006409121,0.5412080731933908,0.6248933269389457,0.851125558139963,0.6010025069647602,0.5076300119734881,0.6951816970931011,0.6376296130188794,1.0,0.32637668288410987,0.10114434748483468,-0.027146264489895152,1.7931719511193838e-17,0.1474419561548971,0.5845776284267559,0.5076300119734881,0.3524536884251207,0.2820166733186045,0.29753659463006316,0.5778841114388498,0.5283216793585002,0.30434782608695654,0.5897678246195884,0.4348611767670154,0.40800070646593495,0.20064308847628212,0.48154341234307674,0.40098320508834345,0.44141479464782063,0.4089304100547655,0.5316095330711951,0.44982345106024224,0.3720805503204561,0.47918635750341576,0.5029556907695453,0.36115755925730764,0.5029556907695452,0.6061281253562039,0.2433196258689894,0.5076300119734881,0.4006683379765068,0.4662524041201569,0.389627476027163,0.7049073768502414,0.6582426287630114,0.29753659463006304,0.5316095330711951,0.5647576572452934,0.39482334264604624,0.4782608695652176,0.20119582530445318,0.1865009616480627,0.28090032386679487,0.12313004260763227,0.04847861655637196,3.6235090803872196e-17,0.4782608695652174,0.1409814753700483,0.2862512870383358,0.440086229423352,0.3457820374040623,0.42592170096430154,-1.5155069039483833e-17,0.4400862294233522,0.6995439243733445,0.2528608687120869,0.3611575592573076,0.38908631605469807,0.6019292654288461,0.3890863160546979,0.2820166733186045,0.2514778453847725,0.297536594630063,0.484543711852349,0.38908631605469807,0.0,0.15629293303291278,0.2696799449852969,0.36742346141747667,0.3592106040535499,-0.04323377011671166,0.03952847075210481,0.21926450482675733,0.2927700218845599,-0.03370999312316208,0.07814646651645642,0.07254762501100119,-0.036273812505500554,0.17293508046684686,0.2882306768491569,5.664711452725246e-17,0.0,0.04385290096535148,0.07814646651645638,0.32637668288410987,1.0,0.7050239879106324,0.29111125486979095,0.5196152422706632,0.5533985905294664,0.21616885058355848,0.3629150273454803,-0.03779644730092276,0.2419433515636535,0.4908806936738159,0.26093122922137685,0.19536616629114084,0.6527533657682195,0.3162277660168379,0.6381449017759606,0.2822787184688183,0.34426518632954817,0.38729833462074154,0.03071475584169754,0.34426518632954817,0.35082320772281167,0.21926450482675727,0.30697030675746023,0.36273812505500586,0.4348131782731522,0.16854996561581054,0.38729833462074187,0.16854996561581054,0.25000000000000006,0.032616403652672155,0.36291502734548037,5.962854160763416e-17,0.25,0.43454207580216914,0.6047431568147636,0.29065917948808984,0.3436164855716713,0.35082320772281156,0.6251717321316509,0.0,0.04662524041201574,0.6472754570052687,0.4,0.43033148291193524,0.5521767248324452,0.4938814826645346,0.4,0.32637668288410976,0.18898223650461365,0.6139406135149204,0.5393598899705937,0.43822991060110744,0.5397956190493098,0.14638501094228,0.33709993123162113,0.5218624584427538,0.2169304578186562,0.4426266681379904,0.24544034683690794,0.12909944487358055,0.24544034683690794,0.1209716757818268,0.4382299106011074,0.34361648557167124,0.519615242270663,0.3927045549390527,-0.196818307578313,0.021190435947906393,-0.21938172723813926,-2.2122675829741195e-17,0.01948093019766312,-0.023446803861612058,-0.17149858514250893,0.19026059766179756,0.47633051162246687,0.14625448482542608,-0.14833305163534521,-0.19672236884115854,0.039344473768231705,0.16412762703128397,0.052105010571890584,-3.88057404900086e-17,-0.19681830757831295,-0.04756514941544943,0.36023741111440954,0.10114434748483468,0.7050239879106324,1.0,0.5367826312580719,0.5636018619766345,0.6859943405700352,-0.02344680386161197,-0.06560610252610434,0.04099600308453939,0.19681830757831295,0.6655435850812527,-0.1768872844193063,-0.021190435947906483,0.35400521619692155,0.17149858514250882,0.5058131246617519,-0.07654356453738033,0.04667600280093375,7.773115951059728e-18,-0.033314830232638495,0.23338001400466843,0.04756514941544944,0.19026059766179765,0.23782574707724702,0.31475579014585353,0.5573704017131537,0.2559453484444957,0.42008402520840293,0.2559453484444957,0.054232614454664,-0.035377456883861305,0.1968183075783129,-2.5870493660005736e-17,0.5423261445466404,0.2356635286130843,0.327968024676315,0.09007546982220896,0.1863522038227507,0.33295604590814587,0.5297608986976613,0.06560610252610431,0.10114434748483475,0.6240611609908128,0.6507913734559685,0.700140042014005,0.7681796775182391,0.5638838744346009,0.7592566023652966,-0.050572173742417355,0.04099600308453937,0.33295604590814587,0.21938172723813915,0.29250896965085227,0.36030187928883595,4.4069425111228626e-18,0.5118906968889916,0.28301965507088994,0.2941176470588236,0.30006001800600196,0.2928391774357511,0.140028008402801,0.1331087170162505,-0.06560610252610434,0.2925089696508524,0.02662174340325011,0.37573457465108967,0.13310871701625052,-0.24651351438384395,0.14787055355309714,-0.4317877695883728,0.0,0.07319917479599515,0.3649892750714124,0.18411492357966472,0.4085143369505323,0.42614324229535216,0.31402746879154386,0.19336918541558856,-0.04223886030955118,0.33791088247640944,0.1636158819285641,0.02796906467650911,0.18762218965128744,0.3169459470649419,0.05106429211881654,0.1933691854155886,-0.027146264489895152,0.29111125486979095,0.5367826312580719,1.0,0.3025316904537665,0.3682298471593295,0.13844420778570807,-0.1056486490216473,0.15404159684748145,0.24651351438384353,0.3572522368168451,0.018990004393337995,0.12512123762185143,-0.13573132244947583,0.09205746178983226,0.3572522368168452,-0.13969667032604008,-0.12527433800047147,0.07516460280028289,0.3040079779472579,-0.12527433800047147,0.25532146059408256,0.10212858423763312,0.2042571684752661,0.042238860309551166,0.2301436544745809,0.1962671679947149,0.676481425202546,0.3140274687915438,0.46577800779166567,0.43677010104677466,0.31694594706494184,0.43778510918633756,0.4657780077916655,0.3600387147906347,0.1100297120339154,0.26593021236634806,0.4429927736528879,0.40851433695053235,0.2843664491405714,0.2465135143838437,0.46148649632821764,-0.1256194470234808,0.058222250973958126,0.27560354360103734,0.24461174237631533,-0.06053661396860027,0.17466675292187453,0.29860890938884677,0.4181129057288785,0.25532146059408267,0.19626716799471483,0.2747740351926009,0.26593021236634806,0.25568594537721123,0.2747740351926009,-0.018990004393338058,0.34732993787287,0.3543474132013335,0.5001531315435832,0.22549380840084865,0.3286720578714975,0.3169459470649419,0.27477403519260085,0.1000306263087166,0.5042194840896109,0.3286720578714975,0.06984302957695786,-0.0676768252192412,-0.23354968324845685,0.14142135623730953,0.3110855084191277,0.07488308644489773,-0.13693063937629144,-0.15191090506254998,1.876619425919027e-17,0.35032452487268534,0.3383841260962062,2.0925956382285333e-17,-6.97531879409511e-18,0.22464925933469307,-0.1664100588675687,-0.24806946917841682,-0.34921514788478897,0.15191090506255003,0.3383841260962061,1.7931719511193838e-17,0.5196152422706632,0.5636018619766345,0.3025316904537665,1.0,0.5477225575051661,-0.2246492593346931,-0.06984302957695793,-0.13093073414159545,0.06984302957695772,-0.08502303018977038,-3.1360063594056516e-17,0.06767682521924125,-2.6897579266790752e-17,-0.27386127875258315,0.08502303018977038,-0.04889210822834242,-0.04969039949999528,-0.14907119849998596,-0.31919710595935896,-0.0496903994999953,-5.481286995992901e-17,-3.794737151072008e-17,0.3038218101250999,0.2513123449750172,0.4107919181288746,0.3503245248726853,0.44721359549995804,0.3503245248726853,0.3464101615137754,0.22597307314641282,0.20952908873087345,0.248069469178417,0.3464101615137753,0.17368821999595463,0.5237229365663818,0.1438389904456153,0.42511515094885177,0.15191090506255,0.6090914269731711,0.06984302957695783,0.16151457061744973,0.4152273992686997,0.4618802153517005,0.3478327964999672,0.5405728629638288,0.45022516889074804,0.5773502691896256,9.862445731156608e-17,0.13093073414159542,0.30382181012509984,0.38924947208076144,0.4670993664969138,0.4315169713368457,-0.1690308509457034,0.2335496832484569,0.11298653657320638,0.3757345746510897,0.06388765649999392,0.08502303018977034,-0.14907119849998593,0.255069090569311,0.2095290887308734,0.11677484162422841,0.08502303018977031,0.2,0.08502303018977035,0.3825460278380029,-0.061780206321521536,4.7340068832915175e-17,0.1936491673103709,0.28398091712353246,0.2734343708098653,-0.06249999999999998,0.2773500981126145,0.2314550249431378,0.37310125362231816,0.06178020632152162,0.05735393346764048,0.22941573387056183,0.34179296351233174,0.15191090506255,-9.42810025171211e-18,0.0,0.34668762264076813,0.43246144425065086,0.1474419561548971,0.5533985905294664,0.6859943405700352,0.3682298471593295,0.5477225575051661,1.0,0.0683585927024663,0.3825460278380029,0.05976143046671963,0.38254602783800296,0.38807526285316635,0.20628424925175864,0.06178020632152156,0.2948839123097942,0.24999999999999997,0.3880752628531664,0.08926436853549037,0.13608276348795434,0.20412414523193148,0.09712858623572637,-1.5108221727894648e-17,0.2773500981126146,0.48536267169707553,0.5547001962252291,0.4588314677411235,0.8124999999999999,0.5330017908890261,0.30618621784789724,0.37310125362231833,0.07905694150420951,0.10314212462587938,0.38254602783800296,7.542480201369688e-17,0.5533985905294663,0.26425821129084504,0.47809144373375745,0.3282660821493064,0.1552301051412666,0.2773500981126146,0.679582269536737,-0.19127301391900148,0.36860489038724287,0.45485882614734197,0.7905694150420948,0.816496580927726,0.7212301371010671,0.45209721508973255,0.6324555320336758,-0.07372097807744853,0.2390457218668787,0.4853626716970754,0.21320071635561041,0.266500895444513,0.3282660821493064,0.23145502494313785,0.4264014327112209,0.2578553115646984,0.1714985851425089,0.17496355305594125,0.31046021028253307,0.20412414523193145,0.3104602102825331,0.19127301391900148,0.26650089544451305,0.15523010514126656,0.27386127875258304,0.07761505257063327,0.5491564702454121,0.7179453533712287,0.49551943172972573,0.7413047350991182,0.42707578867624874,0.49532710280373826,0.8544824087808293,0.644614921357556,0.44301431381276,0.23318561493163548,0.44766004386676606,0.5332062481806348,0.4391110279134639,0.6822429906542056,0.6853714352914363,0.6037267439068864,0.7583589351008073,0.26542967350017005,0.14358907067424573,0.5845776284267559,0.21616885058355848,-0.02344680386161197,0.13844420778570807,-0.2246492593346931,0.0683585927024663,1.0,0.6537577026731097,0.7026556529496955,0.601457086459261,0.39261852670297603,0.8601793595076359,0.599695530463026,0.6248933269389457,0.7861238160783627,0.3926185267029761,0.6285046209907248,0.5023310149673528,0.8372183582789213,0.7834696690180191,0.6511698342169385,0.644614921357556,0.7583704957147718,0.37918524785738594,0.5959363950254154,0.375972259863565,0.4955194317297256,0.33488734331156855,0.49551943172972557,0.4755714712838286,0.40893772829051545,0.6537577026731097,0.6037267439068865,0.4755714712838287,0.440769394187481,0.37583907018239526,0.628314607415006,0.3289506575078988,0.5308593470003401,0.4138743801787082,0.6014570864592609,0.5845776284267558,-0.27984158310355284,-0.3026363908169819,-0.01860485240619824,-0.254295956016311,-0.38209483607276495,-0.21616885058355842,0.5845776284267555,0.7026556529496955,0.644614921357556,0.6121122391955435,0.6412604410619979,0.5206035318581478,0.5695898320449772,0.5538158354626347,0.6627611458501457,0.5392764888170762,0.645854162100882,0.7534031188084135,0.8372183582789213,0.7534031188084135,0.5491564702454123,0.7287050466613612,0.5836221342882076,0.6739477780040792,0.7534031188084135,0.7073170731707317,0.44904167801889666,0.5709136102183888,0.4938647983247948,0.5431788591370023,0.3922546216038659,0.5738190417570046,0.31829753506038333,0.1770844008302866,0.2446772615221666,0.35450658790965534,0.7020966217257905,0.43881038857861915,0.6014570864592609,0.5617581620638933,0.4764628900066309,0.4146341463414635,0.5304958917673055,0.16543640769117246,0.5076300119734881,0.3629150273454803,-0.06560610252610434,-0.1056486490216473,-0.06984302957695793,0.3825460278380029,0.6537577026731097,1.0,0.5029529525451336,0.7560975609756099,0.08907399018400075,0.8285888116464506,0.685379403292,0.6204366813009297,0.5738190417570045,0.4453699509200033,0.8366193754626262,0.7461635290233402,0.8849846507021009,0.6316546325179673,0.4685212856658182,0.7426942484742277,0.7426942484742277,0.7426942484742278,0.7020966217257905,0.4781825347975036,0.4893545230443332,3.4677541258211447e-17,0.24467726152216657,0.24194335156365349,0.19728305039201205,0.5121951219512195,0.129944424547263,0.24194335156365346,0.46501827364328696,0.5029529525451337,0.5525382975207073,0.2672219705520018,0.4243967134138443,0.44904167801889666,-0.024390243902439067,0.39482334264604624,0.02900073952828708,0.12097167578182673,0.2602896031476768,0.014521248637109027,-2.7928850154459325e-17,-0.12097167578182673,0.5076300119734878,0.5943989439169763,0.6365950701207667,0.5709136102183885,0.40779543587027767,0.45207678888057856,0.41319693527066864,0.40779543587027783,0.5129359310192312,0.3280305126305216,0.513142360491134,0.5047526110426703,0.5726371269248888,0.6235179312880045,0.5121951219512195,0.48935452304433313,0.6235179312880046,0.48890120703870465,0.6235179312880043,0.32006096980144877,0.5168902906024488,0.1528941574312876,0.2777460299317654,0.06788442333021304,0.3104757536289352,0.6573757351339163,0.1657483860329489,0.5532833351724882,0.5096471914376254,0.28059758632704357,0.5484084971070817,0.38388594797495723,0.6699739946729654,0.25419556372089697,0.568398560058805,0.32006096980144866,0.23204774044612841,0.36920735043032055,0.3524536884251207,-0.03779644730092276,0.04099600308453939,0.15404159684748145,-0.13093073414159545,0.05976143046671963,0.7026556529496955,0.5029529525451336,1.0,0.7772909266606615,0.3154102865812071,0.5670807236297685,0.6350366427401514,0.3876990572676327,0.5079721589671173,0.31541028658120734,0.6934936259406149,0.6831300510639732,0.5855400437691198,0.650108844297601,0.7481900559272087,0.3646464492724876,0.6629935441317958,0.6298438669252062,0.7677718959499145,0.3286878675669583,0.4332001127219816,0.0,0.3567530340063378,0.18898223650461365,0.09862273454430762,0.22861497842960624,0.405998971470575,0.41576092031014994,0.1389735487299944,0.02857142857142852,0.2197176872010205,0.09276773134741391,0.3646464492724876,0.1624512341893411,0.4115069611732912,0.35245368842512065,-0.16309808466586873,-0.07559289460184547,0.1626500121580888,-0.04537025756722969,-0.039298874594593,0.07559289460184543,0.2467175818975844,0.5714285714285713,0.36464644927248774,0.35675303400633784,0.40771775315010034,0.2197176872010205,0.2213133340689954,0.560611910581388,0.246556836360769,0.6559360493526302,0.4600671772471657,0.6864812119708625,0.6831300510639732,0.7978024895877592,0.32006096980144866,0.4077177531501004,0.3154102865812072,0.3927922024247862,0.6864812119708626,0.46341463414634165,0.49630922307351744,0.08155908717405552,0.19754591932991789,0.3259073154822013,0.4445552378177146,0.5738190417570045,0.21219835670692216,0.4131969352706688,0.4893545230443332,0.3072390428550345,0.6143345440100667,0.6143345440100667,0.7583589351008075,0.3680484510073784,0.6497221227363149,0.26829268292682923,0.42439671341384444,0.3072390428550345,0.2820166733186045,0.2419433515636535,0.19681830757831295,0.24651351438384353,0.06984302957695772,0.38254602783800296,0.601457086459261,0.7560975609756099,0.7772909266606615,1.0,0.1484566503066678,0.5918491511760362,0.8271820384558622,0.507630011973488,0.4781825347975039,0.5047526110426704,0.802471645851907,0.7808688094430304,0.7808688094430304,0.7802792519339596,0.5726371269248889,0.7426942484742278,0.7426942484742279,0.848793426827689,0.8776207771572381,0.4781825347975039,0.5709136102183887,0.15617376188860607,0.32623634869622203,0.24194335156365354,0.2761962705488169,0.4634146341463415,0.3032036572769469,0.48388670312730714,0.5054546452644423,0.3200609698014487,0.4520767888805786,0.4453699509200031,0.6365950701207667,0.40177413296427594,0.21951219512195116,0.507630011973488,-0.08700221858486121,0.12097167578182674,0.36440544440674755,0.10164874045976316,-1.3964425077229662e-17,0.12097167578182674,0.5076300119734878,0.7772909266606614,0.6365950701207667,0.6252863350010924,0.5709136102183886,0.5525382975207073,0.4131969352706688,0.7340317845664998,0.35510949070562187,0.7216671277871476,0.7362477346177144,0.8016659116560058,0.6767529681839596,0.8016659116560059,0.5609756097560976,0.5709136102183888,0.5641352711653373,0.6285872661926204,0.8016659116560059,-0.1484566503066678,0.10549162715232827,0.2316661873125233,0.24048144481686073,-0.1675130729681571,-0.053056557662564334,0.07761505257063325,0.43053084890961746,0.6467181814331598,0.03309516961607474,-0.27811428976522906,-0.17806114244894056,-0.07122445697957627,0.11672442685764156,0.2593926034146106,0.1581871347533763,0.20783931042933482,-0.172212339563847,0.1822128105358397,0.29753659463006316,0.4908806936738159,0.6655435850812527,0.3572522368168451,-0.08502303018977038,0.38807526285316635,0.39261852670297603,0.08907399018400075,0.3154102865812071,0.1484566503066678,1.0,0.08005381425084428,-0.10549162715232833,0.52641089819165,0.6209204205650661,0.5662650602409639,0.03464129328283234,0.19011727515734336,0.19011727515734328,0.19600464849672705,0.4436069753671345,0.04305308489096182,0.30137159423673227,0.08610616978192348,0.28489782791830515,0.38807526285316635,0.033095169616074796,0.19011727515734336,0.13238067846429907,-0.09817613873476319,-0.27218296845287077,0.08907399018400063,-0.052729044917792144,0.34361648557167124,-0.00820416598462425,0.018553546269482732,0.02038271137853932,-0.22891566265060237,0.172212339563847,0.22057340222759542,0.14845665030666774,0.022887430356158617,0.4589505921473524,0.3436164855716711,0.5281035421037317,0.5008586079540077,0.35727540918339706,0.44179262430643435,-0.11443715178079353,-0.018553546269482867,0.3013715942367324,-0.033095169616074775,0.06619033923214952,0.02038271137853932,0.21557272714438666,0.3640468657768225,0.30420449415320855,0.026621743403250044,0.24443649663086994,0.3012048192771083,0.31686212526223884,0.15662650602409633,-0.267221970552002,0.26476135692859815,-0.08433734939759034,0.255069090569311,0.15662650602409628,0.7496755914896459,0.59898132354373,0.5717393462736051,0.7989354619369611,0.6209563770809302,0.5217481360947956,0.7993514658505649,0.4863101325370295,0.19098210422376904,0.3078596479934797,0.6244698905030378,0.6862103602064364,0.4022612456382558,0.6627611458501457,0.595399713075683,0.4204276522803465,0.6707623713328409,0.4577036541524985,0.16567568523549975,0.5778841114388498,0.26093122922137685,-0.1768872844193063,0.018990004393337995,-3.1360063594056516e-17,0.20628424925175864,0.8601793595076359,0.8285888116464506,0.5670807236297685,0.5918491511760362,0.08005381425084428,1.0,0.6244698905030376,0.5170542049716024,0.5930672165988063,0.2721829684528709,0.7089325800586234,0.5333628833421286,0.8421519210665189,0.6211190222681672,0.47721942193769407,0.6579490028442163,0.74376843799781,0.543523089306092,0.5915606553503763,0.43835402965998727,0.5717393462736052,0.2526455763199557,0.5057694217035738,0.5544788620954257,0.4680851063829787,0.6707623713328409,0.5605702030404621,0.3587804401793931,0.4470009151429055,0.5424250399936917,0.6771612231098582,0.36824754555388395,0.4004906973834361,0.522515622665807,0.3551094907056216,0.5778841114388499,-0.23457552866835166,-0.1956984219160327,-0.028071730702217298,-0.2270828475641823,-0.2882598342292979,-0.26093122922137674,0.5778841114388498,0.71501482544623,0.6579490028442165,0.6596992457003137,0.6157192959869595,0.5146425295634921,0.47745526055942283,0.3518395977068341,0.5957446808510638,0.45990693949019634,0.46919892745134634,0.5923982254562482,0.6737215368532153,0.7845273796582745,0.6707623713328409,0.6157192959869594,0.6564412768569236,0.564932682866032,0.6884628025572613,0.49630922307351744,0.7404580152671755,0.23708851639822456,0.2871284522502134,0.5544030289800291,0.5490170349309395,0.7722525790190192,0.2741559405550652,0.28598678390279947,0.3688043588416826,0.5877862595419848,0.8220543795717419,0.7370142713401824,0.8193023444354018,0.5443350493206978,0.7974563201213393,0.30723904285503456,0.5483118811101303,0.31297709923664124,0.5283216793585002,0.19536616629114084,-0.021190435947906483,0.12512123762185143,0.06767682521924125,0.06178020632152156,0.599695530463026,0.685379403292,0.6350366427401514,0.8271820384558622,-0.10549162715232833,0.6244698905030376,1.0,0.34614178992453454,0.3397911347683684,0.3548354731487404,0.8327304368977224,0.6557632539969139,0.7566499084579773,0.7800811326569137,0.5212477147154954,0.7881983290958123,0.5825813736795135,0.7539288365264293,0.7086675685963292,0.24712082528608623,0.5268633697738322,0.30265996338319096,0.28977485337560777,0.5470252656151946,0.44604992178788394,0.4963092230735174,0.461685237964986,0.4298055658405099,0.5550815117339577,0.516890290602449,0.5678496959391673,0.6425399108369083,0.6853898513876628,0.3740458015267176,0.3545065879096552,0.5283216793585003,-0.1967089048858353,-0.11721969977468463,0.11770109687124096,-0.11725722809316637,-0.16250565367638684,-0.19536616629114092,0.7469375466792588,0.7236464068434284,0.47977289597136397,0.7639518861720567,0.6585792122172903,0.6651953581001674,0.17159207034167967,0.6585792122172907,0.44604992178788394,0.741665258176726,0.7566499084579772,0.6809005025286641,0.6557632539969138,0.6809005025286642,0.6853794032920002,0.5005202012851405,0.6425399108369084,0.7444450774116534,0.7959822776039313,0.2820166733186044,0.3097058120377416,0.44008622942335207,0.45683219257612856,0.18423108849796352,-0.1007892462804751,0.2580234232710699,0.2044652050273827,0.273009453115974,-0.1257389226923863,-0.09108994471698277,0.1691275228729345,-0.03382550457458687,0.3426834373536154,0.4031647380662982,0.20033416898825332,0.16921000399116268,-0.081786082010953,-0.09108994471698277,0.30434782608695654,0.6527533657682195,0.35400521619692155,-0.13573132244947583,-2.6897579266790752e-17,0.2948839123097942,0.6248933269389457,0.6204366813009297,0.3876990572676327,0.507630011973488,0.52641089819165,0.5170542049716024,0.34614178992453454,1.0,0.6266283136583126,0.5264108981916501,0.6185817162548042,0.6821865008193587,0.722315118514615,0.37234154758203303,0.7624437362098716,0.4498234510602418,0.5725025740766714,0.2862512870383357,0.6426845869171514,0.4054653794259671,0.2514778453847726,0.0,0.15717365336548286,-0.04662524041201565,-0.06082990646724733,0.39482334264604624,0.0,0.23312620206007847,0.35845727794499,0.35245368842512065,0.2710410824318281,0.11443715178079353,0.3271443280438122,0.4190137456981208,0.16921000399116273,0.04347826086956519,0.3353263755074219,0.09325048082403134,0.200643088476282,0.14551732308174714,0.16967515794730187,0.18650096164806276,0.30434782608695643,0.38769905726763276,0.695181697093101,0.5658251521157384,0.5029556907695452,0.5033620102305381,0.40951417967396114,0.5029556907695453,0.6691289711397209,0.35400521619692144,0.5675333074043404,0.43486117676701525,0.48154341234307674,0.43486117676701525,0.16921000399116268,0.6915640748081248,0.5264108981916501,0.48454371185234885,0.5721857589039674,0.38254602783800307,0.4942416505721724,0.6396021490668313,0.6777720855862979,0.36917519226059203,0.4785101489172642,0.5937499999999999,0.6933752452815363,0.6943650748294136,0.3731012536223183,0.24712082528608614,0.3154466340720224,0.4014775342734831,0.5468687416197305,0.75955452531275,0.5944454429259127,0.6694555487165051,0.3466876226407681,0.24712082528608606,0.5897678246195884,0.3162277660168379,0.17149858514250882,0.09205746178983226,-0.27386127875258315,0.24999999999999997,0.7861238160783627,0.5738190417570045,0.5079721589671173,0.4781825347975039,0.6209204205650661,0.5930672165988063,0.3397911347683684,0.6266283136583126,1.0,0.7373429994210162,0.3570574741419614,0.4082482904638631,0.6123724356957946,0.6070536639732903,0.4762896722078402,0.5893689584893059,0.5893689584893059,0.3466876226407683,0.5448623679425842,0.4375,0.2931509849889643,0.30618621784789724,0.3731012536223183,0.1976423537605237,0.025785531156469785,0.4781825347975038,0.254762332682534,0.3162277660168379,0.3435356746780984,0.29880715233359834,0.5252257314388902,0.15523010514126656,0.5893689584893059,0.40157134108989007,0.4781825347975037,0.4791863575034157,0.1137147065368355,0.07905694150420949,0.34020690871988585,0.15183792360022466,-0.04109974682633936,0.15811388300841897,0.36860489038724276,0.32868786756695817,0.6933752452815364,0.31980107453341566,0.3464511640778669,0.3282660821493063,0.6943650748294138,0.5863019699779289,0.5672816854423365,0.17149858514250887,0.6123724356957946,0.6597279468503829,0.6123724356957945,0.5433053679944331,0.09563650695950074,0.426401432711221,0.15523010514126656,0.4107919181288745,0.5433053679944331,-0.02969133006133349,0.33565517730286254,0.3640468657768224,0.36072216722529105,0.3614755785102339,0.32895065750789876,0.31046021028253323,0.4305308489096175,0.7904333328627509,0.43023720500897195,0.1822128105358398,0.24928559942851697,0.3561222848978813,0.37139590363795033,0.5423663525941859,0.4745614042601291,0.326604630674669,0.34442467912769414,0.29729458561110683,0.4348611767670154,0.6381449017759606,0.5058131246617519,0.3572522368168452,0.08502303018977038,0.3880752628531664,0.3926185267029761,0.4453699509200033,0.31541028658120734,0.5047526110426704,0.5662650602409639,0.2721829684528709,0.3548354731487404,0.5264108981916501,0.7373429994210162,1.0,0.28405860491922513,0.4436069753671346,0.44360697536713456,0.3769320163398597,0.3591104086305375,0.5596901035825028,0.30137159423673227,0.47358393380057934,0.49857119885703394,0.3880752628531664,0.13238067846429902,0.3802345503146867,0.23166618731252328,0.19635227746952638,-0.08005381425084437,0.326604630674669,0.052729044917792095,0.1963522774695264,0.4840457930928266,0.3525173791201728,0.3872715161922484,0.3493975903614458,0.6888493582553882,0.4507369523781298,0.2672219705520019,0.29753659463006304,0.45895059214735245,0.3436164855716712,0.5281035421037317,0.5008586079540077,0.35727540918339706,0.44179262430643435,0.4348611767670152,0.20408900896431048,0.6888493582553881,0.3640468657768223,0.2647613569285981,0.3872715161922484,0.5030030300035688,0.562617883473271,0.40026907125422173,0.1863522038227507,0.6789902684190834,0.5903614457831324,0.3168621252622389,0.44578313253012053,-0.029691330061333548,0.2647613569285981,0.06024096385542168,0.4251151509488516,0.5903614457831325,0.495142079355432,0.49081462837018075,0.3996557736527528,0.27657553019814046,0.29912265146930617,0.15254966528901084,0.5802183954806872,0.02475748137127884,0.1239641198754921,0.13321859121758428,0.2702237841588635,0.6962741209461012,0.32765840985698885,0.6163006477676036,0.33900577535158366,0.5154671717467914,0.15366478324823757,0.2723322950840671,0.07169202436867814,0.40800070646593495,0.2822787184688183,-0.07654356453738033,-0.13969667032604008,-0.04889210822834242,0.08926436853549037,0.6285046209907248,0.8366193754626262,0.6934936259406149,0.802471645851907,0.03464129328283234,0.7089325800586234,0.8327304368977224,0.6185817162548042,0.3570574741419614,0.28405860491922513,1.0,0.9110506463487545,0.838166594640854,0.6329188999466238,0.7166931751276868,0.6189370342819708,0.6189370342819708,0.717966959767086,0.7781887234103483,0.2231609213387259,0.3615933190191573,-0.10932607756185052,0.07612490926719101,0.19759510292817284,0.11968991611379363,0.2902557016911153,0.15160799169023265,0.19759510292817284,0.30665495069554094,0.33074311391013944,0.2930246453467724,0.2424890529798263,0.3218472578266247,0.2261056153166002,0.05122159441607913,0.1710970704534564,-0.020301342944418453,-0.08468361554064555,0.08503139365921704,-0.09826444368187714,0.029349943579373615,-0.19759510292817287,0.48696858513676067,0.6294788296999428,0.47039214605429785,0.6280305014543258,0.4948119102367415,0.433676475113223,0.12396411987549227,0.43771822828634827,0.39589741483793267,0.5664223775766148,0.5466303878092525,0.4641933299899532,0.5466303878092528,0.6304715377475486,0.4951420793554319,0.4948119102367416,0.6581845723738143,0.5378131905117669,0.7136106416263461,0.2602896031476768,0.21858775133230476,0.36749727368425095,0.1405456737852613,0.04637388957601686,-0.05581455721859477,0.34020690871988585,-0.1509702712192794,0.20998026278290402,0.17407765595569788,0.01681444241017728,0.43707337873812396,0.12487810821089254,0.46512131015495634,0.1515980089423659,0.40061680838488756,-0.01735264020984512,0.07548513560963971,-0.05044332723053177,0.20064308847628212,0.34426518632954817,0.04667600280093375,-0.12527433800047147,-0.04969039949999528,0.13608276348795434,0.5023310149673528,0.7461635290233402,0.6831300510639732,0.7808688094430304,0.19011727515734336,0.5333628833421286,0.6557632539969139,0.6821865008193587,0.4082482904638631,0.4436069753671346,0.9110506463487545,1.0,0.7037037037037037,0.502266004288158,0.7037037037037038,0.528395949267478,0.45291081365783825,0.6793662204867574,0.8117077033708016,0.13608276348795428,0.11605177063713194,-0.2222222222222222,-0.11605177063713187,-0.08606629658238697,-0.19650211491552108,0.05205792062953539,-0.09245003270420488,5.733167046599012e-17,0.12945955560063094,0.09759000729485331,0.03573708449459314,0.06337242505244779,0.22645540682891915,0.08407221205088641,-0.052057920629535355,-0.040128617695256476,0.18569533817705183,0.028688765527462325,0.2098765432098765,0.11364388335185299,0.2684624220856097,0.028688765527462332,0.28090032386679475,0.4879500364742666,0.5283959492674781,0.44486512077567225,0.3481553119113957,0.2501595914621521,0.20998026278290402,0.4061811972299616,0.19650211491552105,0.42008402520840293,0.5238095238095237,0.401358691998836,0.3333333333333333,0.5703518254720302,0.1908790423082963,0.3481553119113957,0.401358691998836,0.3478327964999672,0.6548483922086271,0.5726371269248889,0.6557632539969137,0.40618119722996154,0.5270462766947299,0.5101127853361851,0.3907019005301634,0.7144345083117603,0.45291081365783803,0.2519763153394848,0.08703882797784893,0.3531032906137229,0.6556100681071857,0.468292905790847,0.6139601294045421,0.6201736729460423,0.5547001962252291,0.5726371269248889,0.3396831102433787,0.050443327230531874,0.48154341234307674,0.38729833462074154,7.773115951059728e-18,0.07516460280028289,-0.14907119849998596,0.20412414523193148,0.8372183582789213,0.8849846507021009,0.5855400437691198,0.7808688094430304,0.19011727515734328,0.8421519210665189,0.7566499084579773,0.722315118514615,0.6123724356957946,0.44360697536713456,0.838166594640854,0.7037037037037037,1.0,0.7930515857181442,0.6296296296296295,0.792593923901217,0.792593923901217,0.5661385170722978,0.6556100681071858,0.40824829046386313,0.5222329678670935,0.16666666666666666,0.3481553119113957,0.3872983346207417,0.4210759605332596,0.6767529681839596,0.36980013081681945,0.3872983346207417,0.6472977780031546,0.48795003647426655,0.6432675209026768,0.44360697536713445,0.5661385170722977,0.45398994507478646,0.26028960314767674,0.4815434123430768,-0.18569533817705194,-0.17213259316477425,0.03703703703703701,-0.2169565045808103,-0.2684624220856098,-0.2581988897471611,0.7223151185146152,0.7807200583588264,0.6793662204867574,0.7543365091413573,0.6092717958449424,0.6432675209026768,0.5039526306789697,0.5222329678670936,0.6737215368532152,0.560112033611204,0.7142857142857142,0.6970966755769257,0.7777777777777777,0.6970966755769258,0.6767529681839597,0.7833494518006402,0.8238415256818216,0.7453559924999297,0.8238415256818212,0.4830300131019749,0.6600686507096963,0.20707884164064555,0.3009419175453114,0.3420250459768577,0.6241199058279134,0.7770286898858113,0.5926497042844019,0.3596943895981083,0.2692024941328391,0.3480361976469307,0.5570706472769831,0.757616080296697,0.7303530812879838,0.6197054405856357,0.857816446918438,0.6316546325179672,0.3771407209082557,0.13201373014193918,0.40098320508834345,0.03071475584169754,-0.033314830232638495,0.3040079779472579,-0.31919710595935896,0.09712858623572637,0.7834696690180191,0.6316546325179673,0.650108844297601,0.7802792519339596,0.19600464849672705,0.6211190222681672,0.7800811326569137,0.37234154758203303,0.6070536639732903,0.3769320163398597,0.6329188999466238,0.502266004288158,0.7930515857181442,1.0,0.39652579285907197,0.8350973105825661,0.6734655730504566,0.5387724584403654,0.5793534731680624,0.24282146558931605,0.4555734516094202,0.3568732135731648,0.2692024941328391,0.3992918259420682,0.460830242327995,0.557342322809971,0.4619011637253128,0.49143609346716094,0.5030737186916885,0.2553999031169146,0.5866659766167744,0.467395700261426,0.6734655730504566,0.22802371569971322,0.40871770339397867,0.6587581226451356,-0.441797947205334,-0.24571804673358053,0.13217526428635745,-0.22859094427200002,-0.4470995540355257,-0.30714755841697555,0.6587581226451353,0.7894178823613723,0.511833835518347,0.5384049882656784,0.5384049882656783,0.5101443274928473,0.5395415843971627,0.662652293250066,0.4007219498504305,0.5663521139548543,0.7817222773507422,0.7990958746405025,0.7930515857181439,0.6181685067973699,0.6316546325179672,0.6005286407578722,0.5578593841829923,0.744793247238504,0.7086321907189362,0.1908790423082963,0.5548765995358501,0.2901294265928297,0.3513641844631533,0.10820574234403928,-0.0558145572185948,0.4762896722078401,0.0754851356096397,0.4619565781223889,0.058025885318565944,0.08407221205088637,0.43707337873812385,0.06243905410544627,0.4651213101549563,0.31697765506131054,0.338983453248751,0.12146848146891581,7.542480201369688e-17,0.2185877513323046,0.44141479464782063,0.34426518632954817,0.23338001400466843,-0.12527433800047147,-0.0496903994999953,-1.5108221727894648e-17,0.6511698342169385,0.4685212856658182,0.7481900559272087,0.5726371269248889,0.4436069753671345,0.47721942193769407,0.5212477147154954,0.7624437362098716,0.4762896722078402,0.3591104086305375,0.7166931751276868,0.7037037037037038,0.6296296296296295,0.39652579285907197,1.0,0.2264554068289193,0.6038810848771176,0.37742567804819854,0.6868295951599089,0.34020690871988585,0.34815531191139565,-0.11111111111111113,0.2901294265928297,0.08606629658238704,-0.028071730702217298,0.2602896031476768,0.21571674297647797,0.34426518632954817,0.24453471613452507,0.22771001702132443,0.1786854224729658,0.06337242505244779,0.3019405424385589,0.2858455209730137,0.3644054444067475,0.04012861769525636,0.1856953381770519,-0.028688765527462363,0.06172839506172834,-0.010331262122895679,0.13423121104280486,0.14344382763731178,0.28090032386679475,0.35783002674779557,0.37742567804819854,0.5222329678670935,0.4642070825485275,0.39310792944052475,0.041996052556580794,0.5222329678670935,0.5895063447465632,0.6067880364121376,0.4603174603174604,0.4858552587354331,0.6296296296296297,0.5703518254720301,0.19087904230829625,0.5802588531856595,0.485855258735433,0.4472135954999579,0.6548483922086272,0.5304958917673055,0.5483118811101302,0.35478743759344966,0.4296689244236597,0.598592227720047,0.6446149213575559,0.6587064830174597,0.5384615384615384,0.25677629550654785,0.3252218177939954,0.47977289597136397,0.540842048529411,0.7317274774221444,0.720451970929033,0.6741200707755891,0.7536891516255934,0.5304958917673055,0.5000000000000001,0.0685389851387663,0.4089304100547655,0.35082320772281167,0.04756514941544944,0.25532146059408256,-5.481286995992901e-17,0.2773500981126146,0.644614921357556,0.7426942484742277,0.3646464492724876,0.7426942484742278,0.04305308489096182,0.6579490028442163,0.7881983290958123,0.4498234510602418,0.5893689584893059,0.5596901035825028,0.6189370342819708,0.528395949267478,0.792593923901217,0.8350973105825661,0.2264554068289193,1.0,0.5384615384615384,0.6153846153846154,0.6044705248269889,0.27735009811261463,0.4139186771923578,0.5095246653650679,0.23652495839563295,0.4823819106188659,0.45770365415249836,0.6365950701207665,0.37684457581279657,0.3508232077228116,0.6449699592915029,0.5303948353054366,0.691939188692768,0.6888493582553881,0.7692307692307692,0.44550340340198086,0.31829753506038316,0.6542886560876244,-0.18923271008903095,-0.08770580193070288,0.22645540682891926,-0.02105613150386896,-0.2507784139231542,-0.17541160386140578,0.7769677791040538,0.762442575751565,0.7692307692307692,0.7095748751868989,0.6504436355879909,0.6919391886927682,0.6419407387663694,0.6504436355879909,0.4577036541524984,0.4756514941544941,0.8734708549115452,0.73190244314635,0.5661385170722979,0.6027431884734646,0.6365950701207667,0.5617467761896284,0.5596901035825028,0.75955452531275,0.73190244314635,0.7426942484742278,0.6511203588182797,0.23652495839563298,0.5370861555295745,0.5040776654484608,0.5308593470003403,0.6587064830174597,0.5384615384615384,0.38516444325982163,0.3252218177939955,0.37696441826321464,0.6362847629757777,0.5408420485294112,0.7204519709290331,0.5898550619286405,0.4710557197659959,0.5304958917673057,0.5000000000000001,0.4797728959713641,0.5316095330711951,0.21926450482675727,0.19026059766179765,0.10212858423763312,-3.794737151072008e-17,0.48536267169707553,0.7583704957147718,0.7426942484742277,0.6629935441317958,0.7426942484742279,0.30137159423673227,0.74376843799781,0.5825813736795135,0.5725025740766714,0.5893689584893059,0.30137159423673227,0.6189370342819708,0.45291081365783825,0.792593923901217,0.6734655730504566,0.6038810848771176,0.5384615384615384,1.0,0.6153846153846155,0.6999132392733557,0.7973815320737669,0.8574029741841698,0.16984155512168944,0.6800092553874452,0.3508232077228117,0.45770365415249853,0.7426942484742279,0.4710557197659959,0.7454993164109748,0.5570195102972071,0.5303948353054369,0.6919391886927684,0.30137159423673243,0.5384615384615384,0.6511203588182797,0.3182975350603834,0.6542886560876247,-0.12615514005935405,0.17541160386140578,0.30194054243855895,-0.021056131503869036,-0.1823843010350214,0.08770580193070289,0.4089304100547654,0.6629935441317957,0.5384615384615384,0.5913123959890827,0.5617467761896285,0.5826856325833839,0.3851644432598217,0.650443635587991,0.7151619596132788,0.6183469424008425,0.48526158606196956,0.7319024431463498,0.9058216273156765,0.7319024431463499,0.6365950701207668,0.7391404949863533,0.6888493582553883,0.6076436202502,0.6027431884734645,0.5304958917673057,0.37696441826321453,0.23652495839563303,0.21483446221182978,0.4410679572674031,0.4929408222146016,0.4853626716970756,0.15384615384615388,0.3851644432598217,0.650443635587991,0.44550340340198097,0.6999132392733557,0.604470524826989,0.7583704957147719,0.33706003538779455,0.5652668637191949,0.10609917835346111,0.653846153846154,0.5483118811101305,0.44982345106024224,0.30697030675746023,0.23782574707724702,0.2042571684752661,0.3038218101250999,0.5547001962252291,0.37918524785738594,0.7426942484742278,0.6298438669252062,0.848793426827689,0.08610616978192348,0.543523089306092,0.7539288365264293,0.2862512870383357,0.3466876226407683,0.47358393380057934,0.717966959767086,0.6793662204867574,0.5661385170722978,0.5387724584403654,0.37742567804819854,0.6153846153846154,0.6153846153846155,1.0,0.8271701918685112,0.5547001962252291,0.5617467761896285,0.1698415551216894,0.2956561979945414,0.3069703067574602,0.14303239192265577,0.3182975350603834,0.18842228790639834,0.43852900965351455,0.32248497964575146,0.4640954808922571,0.4005963724010763,0.34442467912769403,0.5,0.4797728959713641,-4.711750028072942e-17,0.44982345106024185,0.18923271008903103,0.43852900965351466,0.6038810848771179,0.4000664985735108,0.31917252681128727,0.2631174057921088,0.32714432804381216,0.5303948353054366,0.4999999999999999,0.473049916791266,0.4139186771923579,0.4005963724010763,0.1283881477532739,0.5913123959890826,0.22885182707624926,0.5232166435699435,0.48526158606196956,0.5596901035825029,0.45291081365783825,0.6888493582553883,0.42439671341384444,0.23652495839563306,0.3444246791276941,0.45573271518764996,0.5596901035825029,0.5265724662943427,0.3968538384139444,0.2934695928267111,0.35540932665545544,0.28665863823137355,0.3136507342239027,0.4875084344749438,0.12725695259515557,0.42479539524287346,0.5380275868489703,0.2834670274385316,0.49999999999999994,0.4210526315789473,0.8154919089821473,0.34850751767866145,0.5455005501394375,0.08776207771572377,0.34995661963667773,0.36850713567009125,0.3720805503204561,0.36273812505500586,0.31475579014585353,0.042238860309551166,0.2513123449750172,0.4588314677411235,0.5959363950254154,0.7020966217257905,0.7677718959499145,0.8776207771572381,0.28489782791830515,0.5915606553503763,0.7086675685963292,0.6426845869171514,0.5448623679425842,0.49857119885703394,0.7781887234103483,0.8117077033708016,0.6556100681071858,0.5793534731680624,0.6868295951599089,0.6044705248269889,0.6999132392733557,0.8271701918685112,1.0,0.5448623679425842,0.5380275868489702,0.14048787173725405,0.31792539222893695,0.14509525002200227,0.047324852428030036,0.3510483108628952,0.23378595005975888,0.47155956257150755,0.26674996248828914,0.38388594797495723,0.3313613782208278,0.28489782791830504,0.5090278103806222,0.48189394664550383,0.26328623314717137,0.37208055032045595,0.20870354281618947,0.29019050004400465,0.49951243284357016,0.33092308238521445,0.26401000024165006,0.36273812505500586,0.27060403659669513,0.60324934681779,0.6999132392733556,0.5869391856534221,0.635850784457874,0.5121039481594611,0.3185965464321549,0.7825855808712296,0.40226124563825577,0.6688560540599386,0.6422302707988757,0.6766323413059745,0.5619514869490164,0.7834690267753389,0.3510483108628952,0.4891159880445186,0.3917345133876695,0.5026246899500346,0.6766323413059747,0.5738190417570045,0.4015713410898901,0.10660035817780521,0.4841229182759271,0.5395637425347118,0.47851014891726446,0.3125000000000001,0.4853626716970754,0.46291004988627577,0.45305152225567213,0.33979113476836875,0.4014775342734832,0.4014775342734832,0.5468687416197306,0.45573271518765013,0.16984155512168939,0.2869095208785022,0.5547001962252293,0.7104723726974979,0.47918635750341576,0.4348131782731522,0.5573704017131537,0.2301436544745809,0.4107919181288746,0.8124999999999999,0.375972259863565,0.4781825347975036,0.3286878675669583,0.4781825347975039,0.38807526285316635,0.43835402965998727,0.24712082528608623,0.4054653794259671,0.4375,0.3880752628531664,0.2231609213387259,0.13608276348795428,0.40824829046386313,0.24282146558931605,0.34020690871988585,0.27735009811261463,0.7973815320737669,0.5547001962252291,0.5448623679425842,1.0,0.8528028654224418,0.30618621784789724,0.7728525967890878,0.316227766016838,0.33521190503410786,0.6694555487165053,0.3396831102433788,0.7905694150420949,0.5020906014526056,0.6573757351339167,0.6237055560836823,0.2716526839972167,0.4853626716970757,0.8649228885013017,0.19127301391900153,0.5897678246195887,0.2842867663420888,0.6324555320336759,0.6123724356957947,0.436534030350646,0.20549873413169653,0.5533985905294664,0.14744195615489716,0.3286878675669582,0.4853626716970756,0.42640143271122094,0.426401432711221,0.5252257314388903,0.23145502494313788,0.5863019699779288,0.6446382789117459,0.42874646285627216,0.2624453295839119,0.5433053679944331,0.6123724356957946,0.5433053679944331,0.38254602783800307,0.506351701344575,0.3880752628531665,0.4107919181288746,0.31046021028253323,0.7340317845665,0.6585792122172903,7.065055611250996e-17,0.4954336943068621,0.6781032715750759,0.6704086429284523,0.5863019699779287,0.5026155365907201,0.2960782627318961,0.4545454545454546,0.6058928752399071,0.635850784457874,0.635850784457874,0.7287050466613613,0.5182002205050367,0.36210341218895065,0.40779543587027767,0.6504436355879908,0.6849223807059819,0.5029556907695453,0.16854996561581054,0.2559453484444957,0.1962671679947149,0.3503245248726853,0.5330017908890261,0.4955194317297256,0.4893545230443332,0.4332001127219816,0.5709136102183887,0.033095169616074796,0.5717393462736052,0.5268633697738322,0.2514778453847726,0.2931509849889643,0.13238067846429902,0.3615933190191573,0.11605177063713194,0.5222329678670935,0.4555734516094202,0.34815531191139565,0.4139186771923578,0.8574029741841698,0.5617467761896285,0.5380275868489702,0.8528028654224418,1.0,0.39167472590032015,0.8636363636363636,0.5730698830937557,0.6816892205569908,0.8155908717405553,0.6517861419401113,0.8764598212022146,0.6310084474406766,0.7135060680126758,0.7838495153381958,0.5295227138571961,0.5913123959890827,0.81663822314944,0.40779543587027756,0.7858682668274145,-0.1454643413629281,0.26967994498529674,0.29012942659282975,0.032371954081516316,-0.19277490023901497,0.20225995873897254,0.40865149875025547,0.5860942701532693,0.4139186771923579,0.6363636363636364,0.6363636363636365,0.6998656386948179,0.19738550848793068,0.6363636363636365,0.6816892205569908,0.6947088029207742,0.3730235484764952,0.6619033923214951,0.7833494518006403,0.6619033923214951,0.7340317845664996,0.6363636363636365,0.6288082227054206,0.5838742081211422,0.4633323746250466,0.15617376188860607,0.45398994507478646,5.797950651443767e-17,0.4743416490252569,0.556486674912202,0.6697746866231371,0.4592793267718459,0.6793662204867574,0.37796447300922725,0.39167472590032015,0.605319926766382,0.1404878717372541,0.5619514869490164,0.5023310149673529,0.49613893835683387,0.4160251471689219,0.4685212856658182,0.3396831102433787,0.30265996338319096,0.36115755925730764,0.38729833462074187,0.42008402520840293,0.676481425202546,0.44721359549995804,0.30618621784789724,0.33488734331156855,3.4677541258211447e-17,0.0,0.15617376188860607,0.19011727515734336,0.2526455763199557,0.30265996338319096,0.0,0.30618621784789724,0.3802345503146867,-0.10932607756185052,-0.2222222222222222,0.16666666666666666,0.3568732135731648,-0.11111111111111113,0.5095246653650679,0.16984155512168944,0.1698415551216894,0.14048787173725405,0.30618621784789724,0.39167472590032015,1.0,0.5222329678670935,0.7745966692414833,0.6316139407998892,0.6246950475544243,0.6933752452815365,0.5809475019311126,0.5178382224025238,0.5855400437691199,0.6432675209026768,0.7604691006293736,0.6793662204867574,0.6053199267663819,0.6246950475544242,0.7223151185146152,-0.09284766908852593,2.866583523299505e-17,0.2222222222222222,0.18596271821212307,-0.2013468165642073,0.1290994448735806,0.5417363388859613,0.4391550328268399,0.5095246653650682,0.5222329678670935,0.6527912098338668,0.6432675209026768,0.37796447300922725,0.5222329678670936,0.37896836447993354,0.42008402520840293,0.5714285714285714,0.5703518254720301,0.3333333333333333,0.3802345503146867,0.4685212856658182,0.3916747259003202,0.19011727515734336,0.670820393249937,0.3802345503146867,0.4893545230443333,0.6585792122172903,3.027880976250427e-17,0.6605782590758162,0.6781032715750759,0.6704086429284523,0.5863019699779288,0.5913123959890826,0.4934637712198268,0.5227272727272728,0.6849223807059819,0.48911598804451845,0.48911598804451845,0.5538158354626345,0.5182002205050367,0.2172620473133704,0.5709136102183887,0.5617467761896284,0.6849223807059819,0.5029556907695452,0.16854996561581054,0.2559453484444957,0.3140274687915438,0.3503245248726853,0.37310125362231833,0.49551943172972557,0.24467726152216657,0.3567530340063378,0.32623634869622203,0.13238067846429907,0.5057694217035738,0.28977485337560777,0.15717365336548286,0.3731012536223183,0.23166618731252328,0.07612490926719101,-0.11605177063713187,0.3481553119113957,0.2692024941328391,0.2901294265928297,0.23652495839563295,0.6800092553874452,0.2956561979945414,0.31792539222893695,0.7728525967890878,0.8636363636363636,0.5222329678670935,1.0,0.6741998624632421,0.6816892205569908,0.8155908717405553,0.7966275068156916,0.7753298418327285,0.6310084474406766,0.6370589892970321,0.783849515338196,0.5295227138571962,0.5913123959890827,0.81663822314944,0.6524726973924442,0.7858682668274145,-0.14546434136292807,0.1348399724926484,0.11605177063713189,-0.0161859770407582,-0.2453498730314736,0.26967994498529674,0.40865149875025547,0.43320011272198167,0.4139186771923579,0.5454545454545454,0.5681818181818181,0.6158817620514397,0.29607826273189597,0.5000000000000001,0.6816892205569909,0.5850179393017046,0.29841883878119624,0.6619033923214952,0.6963106238227914,0.6619033923214952,0.5709136102183887,0.5681818181818183,0.430237205008972,0.4670993664969139,0.46333237462504673,0.36291502734548026,0.7423914319063353,0.13483997249264848,0.6123724356957946,0.7902633289178096,0.7349740919840987,0.7510409442899902,0.6139406135149204,0.2927700218845599,0.3708099243547831,0.8986843649392481,0.6166548125935098,0.6166548125935098,0.562039011517252,0.5764613536983137,0.4296689244236597,0.6048583789091339,0.5700877125495689,0.42980556584050994,0.6061281253562039,0.25000000000000006,0.054232614454664,0.46577800779166567,0.3464101615137754,0.07905694150420951,0.4755714712838286,0.24194335156365349,0.18898223650461365,0.24194335156365354,-0.09817613873476319,0.5544788620954257,0.5470252656151946,-0.04662524041201565,0.1976423537605237,0.19635227746952638,0.19759510292817284,-0.08606629658238697,0.3872983346207417,0.3992918259420682,0.08606629658238704,0.4823819106188659,0.3508232077228117,0.3069703067574602,0.14509525002200227,0.316227766016838,0.5730698830937557,0.7745966692414833,0.6741998624632421,1.0,0.8154100913168026,0.7258300546909605,0.8593378488473193,0.5499999999999999,0.6350999569416318,0.7181324987175319,0.7889320586105298,0.7854091098781056,0.6139406135149204,0.6251717321316509,0.6048583789091339,0.746003846592251,-0.28767798089123053,-0.2,-0.08606629658238701,-0.16805378581857028,-0.36391267143702544,-0.20000000000000004,0.746003846592251,0.529150262212918,0.3508232077228116,0.6741998624632421,0.6404898693400801,0.6643638388299199,0.14638501094227993,0.337099931231621,0.5218624584427538,0.5423261445466404,0.4426266681379904,0.5399687630411977,0.5163977794943224,0.5399687630411977,0.7258300546909606,0.4382299106011074,0.490880693673816,0.6928203230275511,0.5399687630411977,0.4340227108624265,0.6244698905030376,-0.2198997485667712,0.39946773096848054,0.6443886931971915,0.6627611458501457,0.5930672165988061,0.5435230893060919,-1.060163647002949e-17,0.15392982399673985,0.6754470244216529,0.4495860980662859,0.5915606553503762,0.43714033024158544,0.40737875105178306,0.280285101520231,0.5918491511760361,0.40049069738343607,0.21665281915411508,0.2433196258689894,0.032616403652672155,-0.035377456883861305,0.43677010104677466,0.22597307314641282,0.10314212462587938,0.40893772829051545,0.19728305039201205,0.09862273454430762,0.2761962705488169,-0.27218296845287077,0.4680851063829787,0.44604992178788394,-0.06082990646724733,0.025785531156469785,-0.08005381425084437,0.11968991611379363,-0.19650211491552108,0.4210759605332596,0.460830242327995,-0.028071730702217298,0.45770365415249836,0.45770365415249853,0.14303239192265577,0.047324852428030036,0.33521190503410786,0.6816892205569908,0.6316139407998892,0.6816892205569908,0.8154100913168026,1.0,0.8285888116464506,0.8408553045606931,0.6197116694007699,0.7304649101115774,0.5670807236297687,0.7855070188074355,0.7845273796582745,0.5435230893060919,0.5480041896251145,0.5129359310192312,0.7907887840742157,-0.6098963745377143,-0.32616403652672105,-0.25264557631995566,-0.4306743660700008,-0.6782584334807007,-0.32616403652672116,0.6995439243733445,0.690359141810153,0.28606478384531153,0.6596992457003137,0.6377092708436366,0.7042476720342524,0.2864731563356537,0.3078596479934797,0.4893617021276595,0.6014167670256413,0.397014477074216,0.5603766997559104,0.5895063447465633,0.46431212265489724,0.9075020318032554,0.6377092708436365,0.6884628025572613,0.6779192194392386,0.46431212265489724,0.6097560975609756,0.7326469483466209,0.13593181195675924,0.6914107176547127,0.8039047115227633,0.7060583188869585,0.6694555487165051,0.7426942484742277,0.2951406680504776,0.24467726152216657,0.6381118582373795,0.5265724662943427,0.6143345440100667,0.6014570864592609,0.7167259309091052,0.38983327364178894,0.7073170731707317,0.5304958917673054,0.3545065879096553,0.5076300119734881,0.36291502734548037,0.1968183075783129,0.31694594706494184,0.20952908873087345,0.38254602783800296,0.6537577026731097,0.5121951219512195,0.22861497842960624,0.4634146341463415,0.08907399018400063,0.6707623713328409,0.4963092230735174,0.39482334264604624,0.4781825347975038,0.326604630674669,0.2902557016911153,0.05205792062953539,0.6767529681839596,0.557342322809971,0.2602896031476768,0.6365950701207665,0.7426942484742279,0.3182975350603834,0.3510483108628952,0.6694555487165053,0.8155908717405553,0.6246950475544243,0.8155908717405553,0.7258300546909605,0.8285888116464506,1.0,0.7363517391011569,0.7258300546909605,0.8693819898548408,0.7772909266606614,0.9543843320812215,0.7422832515333386,0.7426942484742278,0.8271820384558622,0.5609756097560976,0.8460500199558134,-0.2610066557545837,-0.04032389192727562,0.05205792062953539,-0.15973373500819932,-0.440231257019783,-0.04032389192727562,0.7332433506283714,0.6858449352888188,0.6365950701207667,0.7884045093492035,0.7340317845664999,0.8539228234410929,0.5312532024908597,0.5709136102183887,0.8285888116464507,0.5904549227349388,0.6023845101417661,0.7422832515333386,0.7808688094430304,0.6235179312880045,0.8048780487804879,0.8155908717405553,0.7422832515333386,0.768273325346536,0.6235179312880045,0.389833273641789,0.7135135495822511,-0.048280454958526724,0.6139406135149205,0.5787811270697321,0.6966077814310228,0.7642869980476021,0.565266863719195,0.3144854510165755,0.43452409462674085,0.7974563201213395,0.46757190011951794,0.5455005501394375,0.6037267439068865,0.4472135954999579,0.38461538461538464,0.6497221227363149,0.37684457581279657,0.37774246742589757,0.4006683379765068,5.962854160763416e-17,-2.5870493660005736e-17,0.43778510918633756,0.248069469178417,7.542480201369688e-17,0.6037267439068865,0.129944424547263,0.405998971470575,0.3032036572769469,-0.052729044917792144,0.5605702030404621,0.461685237964986,0.0,0.254762332682534,0.052729044917792095,0.15160799169023265,-0.09245003270420488,0.36980013081681945,0.4619011637253128,0.21571674297647797,0.37684457581279657,0.4710557197659959,0.18842228790639834,0.23378595005975888,0.3396831102433788,0.6517861419401113,0.6933752452815365,0.7966275068156916,0.8593378488473193,0.8408553045606931,0.7363517391011569,1.0,0.6445033866354896,0.5385843067117572,0.48719876576469023,0.713641240140063,0.6854775839312977,0.5652668637191951,0.5456280085040742,0.8229813554659989,0.8013366759530133,-0.5150262026246047,-0.35805743701971654,-0.21571674297647805,-0.3352490579192355,-0.5584355932874551,-0.14322297480788662,0.6010025069647601,0.6495983543529201,0.3768445758127966,0.6276459144608478,0.7242068243779014,0.6244360851225552,0.3144854510165755,0.43452409462674085,0.4904989276604043,0.6990620736425557,0.4358358684626799,0.6854775839312975,0.647150228929434,0.6854775839312975,0.7363517391011569,0.5793654595023211,0.47456140426012927,0.6201736729460424,0.5800194940957135,0.4838867031273071,0.6251717321316509,-0.1348399724926484,0.3674234614174768,0.46697378526961475,0.6052727816339637,0.5138701197773617,0.6139406135149204,0.43915503282683993,0.3708099243547831,0.4298055658405099,0.3990119375605063,0.6166548125935098,0.691740321867387,0.48038446141526137,0.4296689244236597,0.3629150273454803,0.4385290096535146,0.664244965389879,0.4662524041201569,0.25,0.5423261445466404,0.4657780077916655,0.3464101615137753,0.5533985905294663,0.4755714712838287,0.24194335156365346,0.41576092031014994,0.48388670312730714,0.34361648557167124,0.3587804401793931,0.4298055658405099,0.23312620206007847,0.3162277660168379,0.1963522774695264,0.19759510292817284,5.733167046599012e-17,0.3872983346207417,0.49143609346716094,0.34426518632954817,0.3508232077228116,0.7454993164109748,0.43852900965351455,0.47155956257150755,0.7905694150420949,0.8764598212022146,0.5809475019311126,0.7753298418327285,0.5499999999999999,0.6197116694007699,0.7258300546909605,0.6445033866354896,1.0,0.5348210163719004,0.6047431568147635,0.6643638388299199,0.4908806936738159,0.6139406135149202,0.7423914319063353,0.48388670312730697,0.746003846592251,-0.07191949522280762,0.29999999999999993,0.4303314829119353,0.19206146950693745,-0.12996881122750908,0.29999999999999993,0.32637668288410976,0.529150262212918,0.35082320772281156,0.5393598899705937,0.64048986934008,0.6643638388299199,0.14638501094228,0.7416198487095664,0.6197116694007699,0.7050239879106327,0.44262666813799034,0.6872329711433423,0.7745966692414833,0.5399687630411977,0.6048583789091337,0.6404898693400801,0.490880693673816,0.6928203230275509,0.3927045549390529,0.3032727871586654,0.6987496677121584,-0.02253601598002416,0.40938706057120133,0.7504428919979838,0.570832494111656,0.5285164225816901,0.5570195102972072,0.3425177889602086,0.15775211186016916,0.5158992873762667,0.5334999249765783,0.6062499147461118,0.4263179386403505,0.626241783139484,0.3949618249219552,0.5458910168855978,0.4983858776343432,0.28080594123011976,0.389627476027163,0.43454207580216914,0.2356635286130843,0.3600387147906347,0.17368821999595463,0.26425821129084504,0.440769394187481,0.46501827364328696,0.1389735487299944,0.5054546452644423,-0.00820416598462425,0.4470009151429055,0.5550815117339577,0.35845727794499,0.3435356746780984,0.4840457930928266,0.30665495069554094,0.12945955560063094,0.6472977780031546,0.5030737186916885,0.24453471613452507,0.6449699592915029,0.5570195102972071,0.32248497964575146,0.26674996248828914,0.5020906014526056,0.6310084474406766,0.5178382224025238,0.6310084474406766,0.6350999569416318,0.7304649101115774,0.8693819898548408,0.5385843067117572,0.5348210163719004,1.0,0.6948677436499724,0.8466507951151978,0.8286207644470422,0.8208708572800946,0.6987496677121584,0.4245819020221314,0.6701592587667208,-0.16828025170257008,-0.033426313523243836,0.014384395066736756,-0.14043546333848972,-0.33017274565738447,-0.03342631352324382,0.8571804472597588,0.59379607184634,0.5570195102972072,0.7887605593008457,0.5859364154806282,0.8466507951151978,0.44038001437741087,0.5183283675405559,0.7304649101115774,0.5619668759235089,0.6842862224604775,0.6973541086930554,0.6472977780031547,0.5004541250620751,0.7076365033702193,0.7211525113607733,0.7301707726315522,0.7526489533158033,0.6973541086930554,0.5943989439169761,0.6350366427401515,0.3567530340063379,0.6480740698407861,0.909651272624855,0.5719290198427756,0.5079721589671173,0.5303948353054369,0.22131333406899528,0.2548235957188128,0.6941098188090029,0.60324934681779,0.5209880722517278,0.6046106781195054,0.6899593872424348,0.3247991771764601,0.3200609698014489,0.6629935441317959,0.5168902906024488,0.7049073768502414,0.6047431568147636,0.327968024676315,0.1100297120339154,0.5237229365663818,0.47809144373375745,0.37583907018239526,0.5029529525451337,0.02857142857142852,0.3200609698014487,0.018553546269482732,0.5424250399936917,0.516890290602449,0.35245368842512065,0.29880715233359834,0.3525173791201728,0.33074311391013944,0.09759000729485331,0.48795003647426655,0.2553999031169146,0.22771001702132443,0.5303948353054366,0.5303948353054369,0.4640954808922571,0.38388594797495723,0.6573757351339167,0.7135060680126758,0.5855400437691199,0.6370589892970321,0.7181324987175319,0.5670807236297687,0.7772909266606614,0.48719876576469023,0.6047431568147635,0.6948677436499724,1.0,0.8160942667466479,0.6864812119708628,0.6298438669252062,0.9008659350499825,0.32006096980144877,0.5991712703227052,0.2174641128878249,0.3023715784073817,0.29277002188455997,0.20870318480925623,0.03929887459459286,0.15118578920369088,0.5991712703227051,0.3714285714285715,0.5303948353054366,0.7644707871564383,0.6625413488689134,0.8160942667466479,0.1106566670344976,0.5096471914376256,0.7889818763544607,0.4509560339299334,0.4600671772471656,0.42673156419810404,0.4879500364742667,0.42673156419810393,0.5943989439169763,0.5096471914376256,0.5751599343539661,0.6546536707079773,0.42673156419810393,0.6529998061608359,0.7949895743148344,0.2799462554779271,0.7119666788018507,0.9098399179564545,0.8437367585287224,0.7550119889434048,0.8011927448021526,0.3646984043128985,0.3639301321213053,0.7625410202611677,0.6627227564416557,0.7530940414109724,0.664218299267292,0.8377689203627271,0.5352309301050473,0.7534613148009643,0.7283570407292296,0.47050403377816724,0.6582426287630114,0.29065917948808984,0.09007546982220896,0.26593021236634806,0.1438389904456153,0.3282660821493064,0.628314607415006,0.5525382975207073,0.2197176872010205,0.4520767888805786,0.02038271137853932,0.6771612231098582,0.5678496959391673,0.2710410824318281,0.5252257314388902,0.3872715161922484,0.2930246453467724,0.03573708449459314,0.6432675209026768,0.5866659766167744,0.1786854224729658,0.691939188692768,0.6919391886927684,0.4005963724010763,0.3313613782208278,0.6237055560836823,0.7838495153381958,0.6432675209026768,0.783849515338196,0.7889320586105298,0.7855070188074355,0.9543843320812215,0.713641240140063,0.6643638388299199,0.8466507951151978,0.8160942667466479,1.0,0.7541603210059574,0.8011927448021527,0.7949895743148343,0.5525382975207073,0.8905635565617211,-0.23890355966467272,-3.687960152986668e-17,0.10721125348377947,-0.12959242478502178,-0.41014624718752835,-0.08304547985373999,0.7744030926623662,0.5963765795456272,0.5826856325833839,0.7278602642426105,0.6438763875992325,0.793103448275862,0.4862645390838646,0.5598925109558542,0.7855070188074353,0.49541508402214957,0.5973198408381999,0.7133948982488788,0.7504787743864564,0.5910986299776424,0.7534613148009643,0.6438763875992324,0.631864052734721,0.7191949522280763,0.5910986299776424,0.26722197055200186,0.6233596149910305,-0.09928550884822426,0.3607221672252911,0.7317676345451074,0.6472900034832848,0.543305367994433,0.4305308489096175,0.2155727271443867,0.3309516961607476,0.700080798374542,0.46295897036724565,0.6766323413059745,0.5623995112231819,0.4952040610642566,0.4745614042601291,0.38598729079733607,0.4735839338005793,0.23975369807347327,0.29753659463006304,0.3436164855716713,0.1863522038227507,0.4429927736528879,0.42511515094885177,0.1552301051412666,0.3289506575078988,0.2672219705520018,0.09276773134741391,0.4453699509200031,-0.22891566265060237,0.36824754555388395,0.6425399108369083,0.11443715178079353,0.15523010514126656,0.3493975903614458,0.2424890529798263,0.06337242505244779,0.44360697536713445,0.467395700261426,0.06337242505244779,0.6888493582553881,0.30137159423673243,0.34442467912769403,0.28489782791830504,0.2716526839972167,0.5295227138571961,0.7604691006293736,0.5295227138571962,0.7854091098781056,0.7845273796582745,0.7422832515333386,0.6854775839312977,0.4908806936738159,0.8286207644470422,0.6864812119708628,0.7541603210059574,1.0,0.8180086129282734,0.6233596149910305,0.5641352711653371,0.7095103410409195,-0.2471272419254975,-0.14726420810214486,-0.021124141684149226,-0.10017172159080154,-0.33175573709886863,-0.049088069367381644,0.8468349231778717,0.6493741194318972,0.5596901035825029,0.8273792404018688,0.7611889011697195,0.8764565892771937,0.3592878785739777,0.5626178834732709,0.49633364835523497,0.6655435850812526,0.7333094898926101,0.6626506024096385,0.44360697536713456,0.5180722891566264,0.7422832515333386,0.5626178834732708,0.5662650602409638,0.7652072717079333,0.6626506024096385,0.31829753506038333,0.7539288365264291,0.11826247919781649,0.4296689244236597,0.6931067899916336,0.7583704957147718,0.6587064830174597,0.6538461538461541,0.6419407387663696,0.5026155365907203,0.5825813736795136,0.540842048529411,0.8271701918685112,0.7204519709290329,0.7583850796225378,0.7536891516255934,0.5304958917673056,0.6153846153846155,0.4797728959713641,0.5316095330711951,0.35082320772281156,0.33295604590814587,0.40851433695053235,0.15191090506255,0.2773500981126146,0.5308593470003401,0.4243967134138443,0.3646464492724876,0.6365950701207667,0.172212339563847,0.4004906973834361,0.6853898513876628,0.3271443280438122,0.5893689584893059,0.6888493582553882,0.3218472578266247,0.22645540682891915,0.5661385170722977,0.6734655730504566,0.3019405424385589,0.7692307692307692,0.5384615384615384,0.5,0.5090278103806222,0.4853626716970757,0.5913123959890827,0.6793662204867574,0.5913123959890827,0.6139406135149204,0.5435230893060919,0.7426942484742278,0.5652668637191951,0.6139406135149202,0.8208708572800946,0.6298438669252062,0.8011927448021527,0.8180086129282734,1.0,0.6511203588182797,0.6365950701207667,0.7769677791040543,-0.06307757002967705,0.08770580193070289,0.30194054243855895,0.10528065751934496,-0.18238430103502135,0.17541160386140578,0.7769677791040541,0.5635445125120265,0.6538461538461539,0.7095748751868991,0.6504436355879909,0.8011927448021527,0.5135525910130955,0.8278373543847158,0.6293425244596854,0.6183469424008425,0.8734708549115452,0.8610616978192349,0.6793662204867574,0.6027431884734645,0.5304958917673056,0.5617467761896284,0.4305308489096175,0.7595545253127501,0.7319024431463498,0.543576768128138,0.5419847328244275,0.1844021794208414,0.6699663885838314,0.793006864237257,0.5659098667749685,0.43246144425065086,0.5483118811101303,0.40038149746391927,0.42149069581906573,0.6030534351145039,0.45354724390165063,0.4535472439016507,0.5996955304630261,0.5818753975497116,0.20985692634772088,0.3545065879096551,0.5825813736795136,0.6030534351145038,0.5647576572452934,0.6251717321316509,0.5297608986976613,0.2843664491405714,0.6090914269731711,0.679582269536737,0.4138743801787082,0.44904167801889666,0.1624512341893411,0.40177413296427594,0.22057340222759542,0.522515622665807,0.3740458015267176,0.4190137456981208,0.40157134108989007,0.4507369523781298,0.2261056153166002,0.08407221205088641,0.45398994507478646,0.22802371569971322,0.2858455209730137,0.44550340340198086,0.6511203588182797,0.4797728959713641,0.48189394664550383,0.8649228885013017,0.81663822314944,0.6053199267663819,0.81663822314944,0.6251717321316509,0.5480041896251145,0.8271820384558622,0.5456280085040742,0.7423914319063353,0.6987496677121584,0.9008659350499825,0.7949895743148343,0.6233596149910305,0.6511203588182797,1.0,0.4017741329642759,0.6740655909056728,0.25291144913893104,0.42980556584051,0.420361060254432,0.34239110603204564,0.10156603354774174,0.42980556584050994,0.4554497235849139,0.4282805264991719,0.6511203588182797,0.7112655491946736,0.6849223807059819,0.7949895743148343,0.2859867839027995,0.6058928752399072,0.7774012922588834,0.5297608986976614,0.45398994507478635,0.5849990232992749,0.5548765995358501,0.5849990232992749,0.543576768128138,0.6058928752399071,0.5082778399157635,0.6090914269731712,0.4699172482240077,0.17073170731707318,0.685379403292,0.08155908717405555,0.5926377579897537,0.41281593294412167,0.5491564702454121,0.6694555487165051,0.5304958917673055,0.5312532024908597,0.4077954358702776,0.5908443131827588,0.26328623314717137,0.43881038857861904,0.549156470245412,0.5230162198525903,0.4764628900066309,0.5609756097560976,0.21219835670692214,0.30723904285503456,0.39482334264604624,0.0,0.06560610252610431,0.2465135143838437,0.06984302957695783,-0.19127301391900148,0.6014570864592609,-0.024390243902439067,0.4115069611732912,0.21951219512195116,0.14845665030666774,0.3551094907056216,0.3545065879096552,0.16921000399116273,0.4781825347975037,0.2672219705520019,0.05122159441607913,-0.052057920629535355,0.26028960314767674,0.40871770339397867,0.3644054444067475,0.31829753506038316,0.3182975350603834,-4.711750028072942e-17,0.26328623314717137,0.19127301391900153,0.40779543587027756,0.6246950475544242,0.6524726973924442,0.6048583789091339,0.5129359310192312,0.5609756097560976,0.8229813554659989,0.48388670312730697,0.4245819020221314,0.32006096980144877,0.5525382975207073,0.5641352711653371,0.6365950701207667,0.4017741329642759,1.0,0.6204366813009298,-0.31900813481115786,-0.3629150273454803,-0.19087904230829628,-0.24686122683085346,-0.4402312570197829,0.040323891927275535,0.5076300119734879,0.4115069611732913,0.42439671341384455,0.5165408854356849,0.6524726973924443,0.5525382975207073,0.4131969352706686,0.5709136102183887,0.5129359310192314,0.5904549227349388,0.5577634353164501,0.6829005914106716,0.5726371269248889,0.5641352711653373,0.3658536585365853,0.4893545230443332,0.20783931042933487,0.4889012070387047,0.5641352711653373,0.6204366813009298,0.6740655909056729,0.06286946134619315,0.5710402407201607,0.7201760732193119,0.9474189150364661,0.7372097807744858,0.7769677791040541,0.4095141796739611,0.597259882788835,0.746937546679259,0.5412080731933907,0.845637614364673,0.7458404224755159,0.6719412301104971,0.6010025069647601,0.7332433506283715,0.695181697093101,0.5283216793585003,0.4782608695652176,0.04662524041201574,0.10114434748483475,0.46148649632821764,0.16151457061744973,0.36860489038724287,0.5845776284267558,0.39482334264604624,0.35245368842512065,0.507630011973488,0.022887430356158617,0.5778841114388499,0.5283216793585003,0.04347826086956519,0.4791863575034157,0.29753659463006304,0.1710970704534564,-0.040128617695256476,0.4815434123430768,0.6587581226451356,0.04012861769525636,0.6542886560876244,0.6542886560876247,0.44982345106024185,0.37208055032045595,0.5897678246195887,0.7858682668274145,0.7223151185146152,0.7858682668274145,0.746003846592251,0.7907887840742157,0.8460500199558134,0.8013366759530133,0.746003846592251,0.6701592587667208,0.5991712703227052,0.8905635565617211,0.7095103410409195,0.7769677791040543,0.6740655909056728,0.6204366813009298,1.0,-0.4023916506089063,-2.0705766173641256e-17,0.200643088476282,-0.07835548165940237,-0.46054685728553374,-4.1411532347282506e-17,0.608695652173913,0.6696620080077292,0.5316095330711951,0.5658251521157384,0.6286946134619317,0.6582426287630113,0.546018906231948,0.6286946134619313,0.5170542049716025,0.556293911166591,0.5675333074043404,0.8010600624655545,0.7223151185146153,0.6637354803286023,0.7332433506283715,0.5343904214426418,0.4348611767670153,0.6460582824697988,0.5264108981916502,-0.20300517669800955,-0.25291144913893104,0.2909286827258562,2.6077816329226498e-17,-0.025834245322211118,-0.34202860157100906,-0.39800147287892435,-0.18923271008903098,0.28074496253743864,0.04848811378764265,-0.25291144913893104,-0.15652765711214212,-0.31305531422428423,-0.09328052770118431,-0.023032671985243926,-0.20601048104984193,-0.49301257198088033,-1.4006034116870624e-17,0.25291144913893093,0.20119582530445318,0.6472754570052687,0.6240611609908128,-0.1256194470234808,0.4152273992686997,0.45485882614734197,-0.27984158310355284,0.02900073952828708,-0.16309808466586873,-0.08700221858486121,0.4589505921473524,-0.23457552866835166,-0.1967089048858353,0.3353263755074219,0.1137147065368355,0.45895059214735245,-0.020301342944418453,0.18569533817705183,-0.18569533817705194,-0.441797947205334,0.1856953381770519,-0.18923271008903095,-0.12615514005935405,0.18923271008903103,0.20870354281618947,0.2842867663420888,-0.1454643413629281,-0.09284766908852593,-0.14546434136292807,-0.28767798089123053,-0.6098963745377143,-0.2610066557545837,-0.5150262026246047,-0.07191949522280762,-0.16828025170257008,0.2174641128878249,-0.23890355966467272,-0.2471272419254975,-0.06307757002967705,0.25291144913893104,-0.31900813481115786,-0.4023916506089063,1.0,0.7671412823766146,0.6396172759431787,0.8460440412447379,0.9347291298190826,0.7191949522280761,-0.3353263755074219,-0.48929425399760607,0.12615514005935405,-0.09697622757528535,-0.14546434136292813,-0.05972588991616821,-0.2807449625374385,0.09697622757528541,0.09383021146734068,-0.23402293537155472,-0.07958371636159366,-0.24712724192549748,-0.3094922302950865,-0.17651945851821255,-0.5510140510374545,-0.24244056893821347,-0.31773502533278253,-0.16609095970748,-0.17651945851821255,0.1209716757818267,-0.19536616629114095,0.044946657497549454,-0.08164965809277258,0.10776318121606497,0.043233770116711694,-0.316227766016838,-5.842380041800793e-17,0.29277002188455997,0.3370999312316211,-0.11721969977468455,-3.2217617467634147e-17,0.07254762501100119,0.129701310350135,0.03202563076101739,-0.07161148740394338,-0.3629150273454803,0.35082320772281167,0.5860984988734227,0.1865009616480627,0.4,0.6507913734559685,0.058222250973958126,0.4618802153517005,0.7905694150420948,-0.3026363908169819,0.12097167578182673,-0.07559289460184547,0.12097167578182674,0.3436164855716711,-0.1956984219160327,-0.11721969977468463,0.09325048082403134,0.07905694150420949,0.3436164855716712,-0.08468361554064555,0.028688765527462325,-0.17213259316477425,-0.24571804673358053,-0.028688765527462363,-0.08770580193070288,0.17541160386140578,0.43852900965351466,0.29019050004400465,0.6324555320336759,0.26967994498529674,2.866583523299505e-17,0.1348399724926484,-0.2,-0.32616403652672105,-0.04032389192727562,-0.35805743701971654,0.29999999999999993,-0.033426313523243836,0.3023715784073817,-3.687960152986668e-17,-0.14726420810214486,0.08770580193070289,0.42980556584051,-0.3629150273454803,-2.0705766173641256e-17,0.7671412823766146,1.0,0.8893517313513328,0.8882842964695856,0.7798128673650544,0.7999999999999999,-0.37300192329612547,-0.30237157840738177,0.08770580193070292,-0.13483997249264845,-0.13483997249264848,-5.531940229480001e-17,-0.19518001458970669,0.26967994498529685,0.06523280730534418,-0.10846522890932814,-0.11065666703449768,-0.049088069367381644,-0.0860662965823871,-0.049088069367381665,-0.28226724349092913,-0.20225995873897268,-0.24544034683690805,-0.11547005383792519,-0.24544034683690805,0.19087904230829628,-0.05044332723053184,0.1353937324099872,0.0,0.1082057423440393,0.2418630812805774,-0.06804138174397717,0.22645540682891915,0.4619565781223889,0.4642070825485275,-0.05044332723053184,0.06243905410544627,0.31219527052723134,0.3907019005301634,0.20672455764868072,0.2773500981126145,-0.15617376188860604,0.3774256780481986,0.5548765995358502,0.28090032386679487,0.43033148291193524,0.700140042014005,0.27560354360103734,0.3478327964999672,0.816496580927726,-0.01860485240619824,0.2602896031476768,0.1626500121580888,0.36440544440674755,0.5281035421037317,-0.028071730702217298,0.11770109687124096,0.200643088476282,0.34020690871988585,0.5281035421037317,0.08503139365921704,0.2098765432098765,0.03703703703703701,0.13217526428635745,0.06172839506172834,0.22645540682891926,0.30194054243855895,0.6038810848771179,0.49951243284357016,0.6123724356957947,0.29012942659282975,0.2222222222222222,0.11605177063713189,-0.08606629658238701,-0.25264557631995566,0.05205792062953539,-0.21571674297647805,0.4303314829119353,0.014384395066736756,0.29277002188455997,0.10721125348377947,-0.021124141684149226,0.30194054243855895,0.420361060254432,-0.19087904230829628,0.200643088476282,0.6396172759431787,0.8893517313513328,1.0,0.8988198046919282,0.6711560552140243,0.7172191381865588,-0.20064308847628196,-0.032530002431617744,0.3019405424385589,-0.019341961772855302,0.058025885318565944,0.10721125348377947,0.04199605255658083,0.5222329678670936,0.08421519210665183,0.04667600280093369,0.20634920634920628,0.23236555852564184,0.11111111111111106,0.14786899178904478,-0.15617376188860604,-0.05802588531856597,-0.1901172751573434,0.14907119849998587,-0.021124141684149302,-0.1016487404597632,-0.2767270582998725,0.08092988520379094,-0.058806574942638405,-0.021559536399062315,-0.036327993716615894,-0.32265558765047736,-0.021056131503868942,0.3865801543362471,0.37227747193743793,-0.14539896283552628,-0.17417004336063915,-0.0174170043360639,0.12974283470219944,-0.03459875459539264,-0.02578838907071045,-0.39207371320194373,0.14739292052708292,0.417435732011672,0.12313004260763227,0.5521767248324452,0.7681796775182391,0.24461174237631533,0.5405728629638288,0.7212301371010671,-0.254295956016311,0.014521248637109027,-0.04537025756722969,0.10164874045976316,0.5008586079540077,-0.2270828475641823,-0.11725722809316637,0.14551732308174714,0.15183792360022466,0.5008586079540077,-0.09826444368187714,0.11364388335185299,-0.2169565045808103,-0.22859094427200002,-0.010331262122895679,-0.02105613150386896,-0.021056131503869036,0.4000664985735108,0.33092308238521445,0.436534030350646,0.032371954081516316,0.18596271821212307,-0.0161859770407582,-0.16805378581857028,-0.4306743660700008,-0.15973373500819932,-0.3352490579192355,0.19206146950693745,-0.14043546333848972,0.20870318480925623,-0.12959242478502178,-0.10017172159080154,0.10528065751934496,0.34239110603204564,-0.24686122683085346,-0.07835548165940237,0.8460440412447379,0.8882842964695856,0.8988198046919282,1.0,0.87367003060488,0.8402689290928511,-0.3470028473487817,-0.2631474938899318,0.23161744654255886,-0.11330183928530727,-0.03237195408151647,-0.009968648060386335,-0.10543095118261281,0.3075335637744053,-0.0548131011361819,-0.09113996173945214,0.03984915390259774,-0.005892454211223707,-0.21695650458081028,-0.005892454211223707,-0.3920737132019439,-0.2266036785706145,-0.3830095237295353,-0.04158252792029467,-0.14731135528059056,-0.2515607182970189,-0.3859509274814187,0.1401999274465563,-0.19101436199010402,-0.1867447007566213,-0.38209483607276495,-0.45209721508973266,-0.3875666396994203,0.22830583024432852,0.17524990930819537,-0.28438489393367694,-0.1508628572809429,-0.3205835717220036,-0.08990466731123882,-0.24973998952923493,-0.22337423731498202,-0.6289017957425471,-0.02279803762937767,0.2640716872241285,0.04847861655637196,0.4938814826645346,0.5638838744346009,-0.06053661396860027,0.45022516889074804,0.45209721508973255,-0.38209483607276495,-2.7928850154459325e-17,-0.039298874594593,-1.3964425077229662e-17,0.35727540918339706,-0.2882598342292979,-0.16250565367638684,0.16967515794730187,-0.04109974682633936,0.35727540918339706,0.029349943579373615,0.2684624220856097,-0.2684624220856098,-0.4470995540355257,0.13423121104280486,-0.2507784139231542,-0.1823843010350214,0.31917252681128727,0.26401000024165006,0.20549873413169653,-0.19277490023901497,-0.2013468165642073,-0.2453498730314736,-0.36391267143702544,-0.6782584334807007,-0.440231257019783,-0.5584355932874551,-0.12996881122750908,-0.33017274565738447,0.03929887459459286,-0.41014624718752835,-0.33175573709886863,-0.18238430103502135,0.10156603354774174,-0.4402312570197829,-0.46054685728553374,0.9347291298190826,0.7798128673650544,0.6711560552140243,0.87367003060488,1.0,0.727825342874051,-0.46054685728553363,-0.4519370578378191,0.02279803762937764,-0.2102998911698345,-0.22782488210065407,-0.2158664458881728,-0.38050971707388087,0.03504998186163916,-0.16956460837017523,-0.19735935605211033,-0.17258298562646346,-0.280716392929812,-0.40269363312841466,-0.12759836042264186,-0.5660116161682924,-0.3855498004780299,-0.4083147533524538,-0.270135101334449,-0.20415737667622696,-0.12097167578182678,-0.1953661662911409,-0.1348399724926483,2.7194799110210363e-17,-0.035921060405354976,-0.04323377011671172,-0.316227766016838,-0.08770580193070288,0.48795003647426655,0.4719399037242693,-0.11721969977468456,-0.2176428750330035,-0.07254762501100119,0.12970131035013502,-0.09607689228305225,-0.14322297480788657,-0.3629150273454803,0.08770580193070296,0.5079520323569662,3.6235090803872196e-17,0.4,0.7592566023652966,0.17466675292187453,0.5773502691896256,0.6324555320336758,-0.21616885058355842,-0.12097167578182673,0.07559289460184543,0.12097167578182674,0.44179262430643435,-0.26093122922137674,-0.19536616629114092,0.18650096164806276,0.15811388300841897,0.44179262430643435,-0.19759510292817287,0.028688765527462332,-0.2581988897471611,-0.30714755841697555,0.14344382763731178,-0.17541160386140578,0.08770580193070289,0.2631174057921088,0.36273812505500586,0.5533985905294664,0.20225995873897254,0.1290994448735806,0.26967994498529674,-0.20000000000000004,-0.32616403652672116,-0.04032389192727562,-0.14322297480788662,0.29999999999999993,-0.03342631352324382,0.15118578920369088,-0.08304547985373999,-0.049088069367381644,0.17541160386140578,0.42980556584050994,0.040323891927275535,-4.1411532347282506e-17,0.7191949522280761,0.7999999999999999,0.7172191381865588,0.8402689290928511,0.727825342874051,1.0,-0.37300192329612547,-0.22677868380553637,0.26311740579210874,-0.0449466574975495,0.06741998624632413,0.0830454798537399,-4.8756002882437414e-17,0.4045199174779453,0.06523280730534417,0.10846522890932803,0.03688555567816576,0.14726420810214466,-0.08606629658238711,0.14726420810214466,-0.36291502734548037,-0.06741998624632421,-0.3436164855716711,-0.11547005383792527,-0.04908806936738166,0.2820166733186044,0.783373524566052,0.18860838403857955,0.45683219257612856,0.7201760732193118,0.5845776284267556,0.7372097807744857,0.5316095330711949,0.273009453115974,0.1257389226923863,0.6376296130188797,0.6426845869171512,0.6426845869171514,0.5039462314023754,0.671941230110497,0.60100250696476,0.6204366813009294,0.4498234510602418,0.09108994471698284,0.4782608695652174,0.32637668288410976,-0.050572173742417355,0.29860890938884677,9.862445731156608e-17,-0.07372097807744853,0.5845776284267555,0.5076300119734878,0.2467175818975844,0.5076300119734878,-0.11443715178079353,0.5778841114388498,0.7469375466792588,0.30434782608695643,0.36860489038724276,0.4348611767670152,0.48696858513676067,0.28090032386679475,0.7223151185146152,0.6587581226451353,0.28090032386679475,0.7769677791040538,0.4089304100547654,0.32714432804381216,0.27060403659669513,0.14744195615489716,0.40865149875025547,0.5417363388859613,0.40865149875025547,0.746003846592251,0.6995439243733445,0.7332433506283714,0.6010025069647601,0.32637668288410976,0.8571804472597588,0.5991712703227051,0.7744030926623662,0.8468349231778717,0.7769677791040541,0.4554497235849139,0.5076300119734879,0.608695652173913,-0.3353263755074219,-0.37300192329612547,-0.20064308847628196,-0.3470028473487817,-0.46054685728553363,-0.37300192329612547,1.0,0.6696620080077292,0.531609533071195,0.8173029975005108,0.6286946134619316,0.7744030926623662,0.4095141796739611,0.440086229423352,0.6082990646724734,0.556293911166591,0.7739090555513732,0.6637354803286022,0.6019292654288461,0.5264108981916501,0.7332433506283714,0.6286946134619313,0.7095103410409195,0.8075728530872484,0.8010600624655545,0.5029529525451337,0.5168902906024488,-0.05096471914376253,0.3703280399090205,0.39372965531523585,0.5065657032893154,0.6573757351339163,0.3646464492724876,0.11065666703449757,0.280305955290694,0.4578171145335976,0.46614722254101953,0.5484084971070817,0.6699739946729654,0.32682286764115326,0.48719876576469007,0.5029529525451338,0.2320477404461286,0.014768294017212889,0.1409814753700483,0.18898223650461365,0.04099600308453937,0.4181129057288785,0.13093073414159542,0.2390457218668787,0.7026556529496955,0.5943989439169763,0.5714285714285713,0.7772909266606614,-0.018553546269482867,0.71501482544623,0.7236464068434284,0.38769905726763276,0.32868786756695817,0.20408900896431048,0.6294788296999428,0.4879500364742666,0.7807200583588264,0.7894178823613723,0.35783002674779557,0.762442575751565,0.6629935441317957,0.5303948353054366,0.60324934681779,0.3286878675669582,0.5860942701532693,0.4391550328268399,0.43320011272198167,0.529150262212918,0.690359141810153,0.6858449352888188,0.6495983543529201,0.529150262212918,0.59379607184634,0.3714285714285715,0.5963765795456272,0.6493741194318972,0.5635445125120265,0.4282805264991719,0.4115069611732913,0.6696620080077292,-0.48929425399760607,-0.30237157840738177,-0.032530002431617744,-0.2631474938899318,-0.4519370578378191,-0.22677868380553637,0.6696620080077292,1.0,0.6629935441317959,0.7644707871564382,0.7899531467283196,0.6905413026317789,0.5532833351724882,0.5606119105813882,0.39449093817723024,0.7789240586062484,0.7110129102910742,0.7978024895877593,0.6831300510639732,0.7978024895877593,0.8687369180325039,0.7899531467283195,0.7606953970487937,0.7855844048495726,0.7978024895877593,0.4243967134138444,0.3426949256938313,0.3547874375934495,0.6445033866354896,0.5040776654484607,0.4171037726431244,0.4506939094329989,0.4230769230769231,0.3851644432598218,0.4139186771923578,0.37696441826321464,0.25451390519031103,0.3499566196366777,0.6066963965718174,0.5055900530816918,0.3768445758127966,0.42439671341384444,0.26923076923076933,0.06853898513876623,0.2862512870383358,0.6139406135149204,0.33295604590814587,0.25532146059408267,0.30382181012509984,0.4853626716970754,0.644614921357556,0.6365950701207667,0.36464644927248774,0.6365950701207667,0.3013715942367324,0.6579490028442165,0.47977289597136397,0.695181697093101,0.6933752452815364,0.6888493582553881,0.47039214605429785,0.5283959492674781,0.6793662204867574,0.511833835518347,0.37742567804819854,0.7692307692307692,0.5384615384615384,0.4999999999999999,0.6999132392733556,0.4853626716970756,0.4139186771923579,0.5095246653650682,0.4139186771923579,0.3508232077228116,0.28606478384531153,0.6365950701207667,0.3768445758127966,0.35082320772281156,0.5570195102972072,0.5303948353054366,0.5826856325833839,0.5596901035825029,0.6538461538461539,0.6511203588182797,0.42439671341384455,0.5316095330711951,0.12615514005935405,0.08770580193070292,0.3019405424385589,0.23161744654255886,0.02279803762937764,0.26311740579210874,0.531609533071195,0.6629935441317959,1.0,0.709574875186899,0.7391404949863534,0.6919391886927682,0.7703288865196434,0.650443635587991,0.5435230893060919,0.4756514941544941,0.7764185376991513,0.7319024431463499,0.4529108136578381,0.7319024431463499,0.42439671341384444,0.6504436355879909,0.4305308489096176,0.6076436202501999,0.73190244314635,0.46216816065298133,0.7112655491946737,0.1515151515151516,0.5504818825631803,0.7023212455599,0.4372230279968167,0.6396021490668313,0.3547874375934495,0.1973855084879307,0.1818181818181818,0.6058928752399072,0.5869391856534221,0.4891159880445184,0.6704086429284524,0.539791896359413,0.4345240946267408,0.35342271108757395,0.3547874375934496,0.18440217942084128,0.440086229423352,0.5393598899705937,0.21938172723813915,0.19626716799471483,0.38924947208076144,0.21320071635561041,0.6121122391955435,0.5709136102183885,0.35675303400633784,0.6252863350010924,-0.033095169616074775,0.6596992457003137,0.7639518861720567,0.5658251521157384,0.31980107453341566,0.3640468657768223,0.6280305014543258,0.44486512077567225,0.7543365091413573,0.5384049882656784,0.5222329678670935,0.7095748751868989,0.5913123959890827,0.473049916791266,0.5869391856534221,0.42640143271122094,0.6363636363636364,0.5222329678670935,0.5454545454545454,0.6741998624632421,0.6596992457003137,0.7884045093492035,0.6276459144608478,0.5393598899705937,0.7887605593008457,0.7644707871564383,0.7278602642426105,0.8273792404018688,0.7095748751868991,0.7112655491946736,0.5165408854356849,0.5658251521157384,-0.09697622757528535,-0.13483997249264845,-0.019341961772855302,-0.11330183928530727,-0.2102998911698345,-0.0449466574975495,0.8173029975005108,0.7644707871564382,0.709574875186899,1.0,0.9090909090909091,0.9518172686249524,0.32897584747988445,0.6363636363636365,0.7476591451270221,0.8043996665398437,0.7709153335180902,0.6949985619375699,0.6382847385042254,0.6949985619375699,0.7884045093492035,0.8181818181818182,0.827379240401869,0.8563488385776753,0.827379240401869,0.4893545230443333,0.6058928752399071,0.09090909090909088,0.5780059766913394,0.557013401650955,0.46637122986327123,0.6129520595223801,0.38435305739290365,0.19738550848793077,0.29545454545454547,0.5795497067512156,0.39129279043561477,0.46466018864229264,0.7578532485278155,0.453425192941907,0.4345240946267408,0.3262363486962222,0.23652495839563314,0.18440217942084128,0.3457820374040623,0.43822991060110744,0.29250896965085227,0.2747740351926009,0.4670993664969138,0.266500895444513,0.6412604410619979,0.40779543587027767,0.40771775315010034,0.5709136102183886,0.06619033923214952,0.6157192959869595,0.6585792122172903,0.5029556907695452,0.3464511640778669,0.2647613569285981,0.4948119102367415,0.3481553119113957,0.6092717958449424,0.5384049882656783,0.4642070825485275,0.6504436355879909,0.5617467761896285,0.4139186771923579,0.635850784457874,0.426401432711221,0.6363636363636365,0.6527912098338668,0.5681818181818181,0.6404898693400801,0.6377092708436366,0.7340317845664999,0.7242068243779014,0.64048986934008,0.5859364154806282,0.6625413488689134,0.6438763875992325,0.7611889011697195,0.6504436355879909,0.6849223807059819,0.6524726973924443,0.6286946134619317,-0.14546434136292813,-0.13483997249264848,0.058025885318565944,-0.03237195408151647,-0.22782488210065407,0.06741998624632413,0.6286946134619316,0.7899531467283196,0.7391404949863534,0.9090909090909091,1.0,0.8958280175293668,0.3947710169758614,0.7272727272727274,0.6377092708436366,0.8409632877462004,0.7460470969529907,0.7280937315536448,0.6092717958449424,0.7280937315536448,0.7340317845664999,0.7954545454545454,0.6619033923214952,0.8174238913695991,0.7280937315536448,0.4520767888805786,0.6976439121538343,0.055989251095585474,0.5085476277156077,0.7308550160633814,0.5206035318581479,0.5580523396538211,0.4734320764739992,0.24313226954193232,0.19596237883454895,0.5678496959391675,0.4819801865030222,0.572351471472339,0.664218299267292,0.5984063716876622,0.44602577508753943,0.35161528024045,0.40059637240107643,0.275812709456167,0.42592170096430154,0.5397956190493098,0.36030187928883595,0.26593021236634806,0.4315169713368457,0.3282660821493064,0.5206035318581478,0.45207678888057856,0.2197176872010205,0.5525382975207073,0.02038271137853932,0.5146425295634921,0.6651953581001674,0.5033620102305381,0.3282660821493063,0.3872715161922484,0.433676475113223,0.2501595914621521,0.6432675209026768,0.5101443274928473,0.39310792944052475,0.6919391886927682,0.5826856325833839,0.4005963724010763,0.5121039481594611,0.5252257314388903,0.6998656386948179,0.6432675209026768,0.6158817620514397,0.6643638388299199,0.7042476720342524,0.8539228234410929,0.6244360851225552,0.6643638388299199,0.8466507951151978,0.8160942667466479,0.793103448275862,0.8764565892771937,0.8011927448021527,0.7949895743148343,0.5525382975207073,0.6582426287630113,-0.05972588991616821,-5.531940229480001e-17,0.10721125348377947,-0.009968648060386335,-0.2158664458881728,0.0830454798537399,0.7744030926623662,0.6905413026317789,0.6919391886927682,0.9518172686249524,0.8958280175293668,1.0,0.3646984043128984,0.7278602642426106,0.7855070188074353,0.7656414934887765,0.7811105610961074,0.7133948982488788,0.6432675209026769,0.5910986299776424,0.7534613148009643,0.8118441408859888,0.7541603210059574,0.8630339426736916,0.7133948982488788,0.2951406680504776,0.17159207034167967,0.19738550848793074,0.47809144373375756,0.2629152410248094,0.44301431381276,0.3471825374147067,0.5135525910130956,0.2857142857142857,0.296078262731896,0.17159207034167967,-8.842830535375905e-17,0.31859654643215496,0.3164387955805429,0.421926507844646,0.31448545101657543,0.6493094697110509,0.12838814775327384,-0.17159207034167975,-1.5155069039483833e-17,0.14638501094228,4.4069425111228626e-18,0.25568594537721123,-0.1690308509457034,0.23145502494313785,0.5695898320449772,0.41319693527066864,0.2213133340689954,0.4131969352706688,0.21557272714438666,0.47745526055942283,0.17159207034167967,0.40951417967396114,0.6943650748294138,0.5030030300035688,0.12396411987549227,0.20998026278290402,0.5039526306789697,0.5395415843971627,0.041996052556580794,0.6419407387663694,0.3851644432598217,0.1283881477532739,0.3185965464321549,0.23145502494313788,0.19738550848793068,0.37796447300922725,0.29607826273189597,0.14638501094227993,0.2864731563356537,0.5312532024908597,0.3144854510165755,0.14638501094228,0.44038001437741087,0.1106566670344976,0.4862645390838646,0.3592878785739777,0.5135525910130955,0.2859867839027995,0.4131969352706686,0.546018906231948,-0.2807449625374385,-0.19518001458970669,0.04199605255658083,-0.10543095118261281,-0.38050971707388087,-4.8756002882437414e-17,0.4095141796739611,0.5532833351724882,0.7703288865196434,0.32897584747988445,0.3947710169758614,0.3646984043128984,1.0,0.3947710169758615,0.2864731563356537,0.15877683720748886,0.5939441718716427,0.6467181814331597,0.3779644730092271,0.5030030300035687,0.2951406680504776,0.4934637712198268,0.2155727271443866,0.33806170189140666,0.5030030300035687,0.40779543587027767,0.6058928752399073,0.09090909090909097,0.3302891295379082,0.4117055577420104,0.5538158354626346,0.5330017908890262,0.4730499167912661,0.5921565254637922,0.5000000000000001,0.342461190352991,0.3912927904356149,0.6847623832623261,0.8452978541271792,0.5829752480681664,0.7242068243779015,0.24467726152216654,0.4139186771923578,0.5005202012851407,0.4400862294233522,0.33709993123162113,0.5118906968889916,0.2747740351926009,0.2335496832484569,0.4264014327112209,0.5538158354626347,0.40779543587027783,0.560611910581388,0.7340317845664998,0.3640468657768225,0.3518395977068341,0.6585792122172907,0.5029556907695453,0.5863019699779289,0.562617883473271,0.43771822828634827,0.4061811972299616,0.5222329678670936,0.662652293250066,0.5222329678670935,0.6504436355879909,0.650443635587991,0.5913123959890826,0.7825855808712296,0.5863019699779288,0.6363636363636365,0.5222329678670936,0.5000000000000001,0.337099931231621,0.3078596479934797,0.5709136102183887,0.43452409462674085,0.7416198487095664,0.5183283675405559,0.5096471914376256,0.5598925109558542,0.5626178834732709,0.8278373543847158,0.6058928752399072,0.5709136102183887,0.6286946134619313,0.09697622757528541,0.26967994498529685,0.5222329678670936,0.3075335637744053,0.03504998186163916,0.4045199174779453,0.440086229423352,0.5606119105813882,0.650443635587991,0.6363636363636365,0.7272727272727274,0.7278602642426106,0.3947710169758615,1.0,0.5717393462736052,0.7312724241271307,0.82065180664829,0.8273792404018692,0.6963106238227915,0.6288082227054205,0.4077954358702776,0.5909090909090909,0.36404686577682244,0.7006490497453707,0.6288082227054205,0.5129359310192314,0.7774012922588837,0.39581954742018827,0.7190419157432653,0.7146856415459762,0.40893772829051545,0.5930672165988061,0.6293425244596853,0.38196420844753826,0.02198997485667708,0.446049921787884,0.5205733767083309,0.3785988194242408,0.5217481360947955,0.7834206750995828,0.35035637690028887,0.5129359310192314,0.4004906973834361,0.369584220909961,0.6995439243733445,0.5218624584427538,0.28301965507088994,-0.018990004393338058,0.11298653657320638,0.2578553115646984,0.6627611458501457,0.5129359310192312,0.246556836360769,0.35510949070562187,0.30420449415320855,0.5957446808510638,0.44604992178788394,0.6691289711397209,0.5672816854423365,0.40026907125422173,0.39589741483793267,0.19650211491552105,0.6737215368532152,0.4007219498504305,0.5895063447465632,0.4577036541524984,0.7151619596132788,0.22885182707624926,0.40226124563825577,0.6446382789117459,0.6816892205569908,0.37896836447993354,0.6816892205569909,0.5218624584427538,0.4893617021276595,0.8285888116464507,0.4904989276604043,0.6197116694007699,0.7304649101115774,0.7889818763544607,0.7855070188074353,0.49633364835523497,0.6293425244596854,0.7774012922588834,0.5129359310192314,0.5170542049716025,0.09383021146734068,0.06523280730534418,0.08421519210665183,-0.0548131011361819,-0.16956460837017523,0.06523280730534417,0.6082990646724734,0.39449093817723024,0.5435230893060919,0.7476591451270221,0.6377092708436366,0.7855070188074353,0.2864731563356537,0.5717393462736052,1.0,0.49528439637405763,0.5413833778284765,0.5603766997559104,0.7579367289598671,0.4643121226548971,0.5129359310192314,0.7696491199836993,0.6884628025572613,0.6779192194392385,0.5603766997559104,0.3280305126305216,0.6569035143851002,-0.21938172723813923,0.2656844656620286,0.3701376737555998,0.3985956656474041,0.6002450479987811,0.19026059766179765,0.3175536744149779,0.3656362120635654,0.4873800268018485,0.511478158987012,0.511478158987012,0.7268509197099724,0.2605250528594531,0.46604138242837045,0.19681830757831295,0.23782574707724707,0.3602374111144098,0.2528608687120869,0.2169304578186562,0.2941176470588236,0.34732993787287,0.3757345746510897,0.1714985851425089,0.5392764888170762,0.3280305126305216,0.6559360493526302,0.7216671277871476,0.026621743403250044,0.45990693949019634,0.741665258176726,0.35400521619692144,0.17149858514250887,0.1863522038227507,0.5664223775766148,0.42008402520840293,0.560112033611204,0.5663521139548543,0.6067880364121376,0.4756514941544941,0.6183469424008425,0.5232166435699435,0.6688560540599386,0.42874646285627216,0.6947088029207742,0.42008402520840293,0.5850179393017046,0.5423261445466404,0.6014167670256413,0.5904549227349388,0.6990620736425557,0.7050239879106327,0.5619668759235089,0.4509560339299334,0.49541508402214957,0.6655435850812526,0.6183469424008425,0.5297608986976614,0.5904549227349388,0.556293911166591,-0.23402293537155472,-0.10846522890932814,0.04667600280093369,-0.09113996173945214,-0.19735935605211033,0.10846522890932803,0.556293911166591,0.7789240586062484,0.4756514941544941,0.8043996665398437,0.8409632877462004,0.7656414934887765,0.15877683720748886,0.7312724241271307,0.49528439637405763,1.0,0.6601320396132045,0.7720305586942531,0.700140042014005,0.7720305586942531,0.7216671277871475,0.7312724241271308,0.6655435850812526,0.7514691493021797,0.7720305586942532,0.2454159115392381,0.626938495579467,0.1740776559556978,0.3614031611621005,0.4571140543921658,0.5023310149673527,0.6123724356957944,0.48526158606196945,0.48595432244043496,0.2984188387811962,0.36751566982244616,0.40139391924929724,0.6422302707988757,0.6936952111453919,0.6201736729460422,0.752807409162811,0.42390021084050206,0.2911569516371817,0.10809284406542527,0.3611575592573076,0.4426266681379904,0.30006001800600196,0.3543474132013335,0.06388765649999392,0.17496355305594125,0.645854162100882,0.513142360491134,0.4600671772471657,0.7362477346177144,0.24443649663086994,0.46919892745134634,0.7566499084579772,0.5675333074043404,0.6123724356957946,0.6789902684190834,0.5466303878092525,0.5238095238095237,0.7142857142857142,0.7817222773507422,0.4603174603174604,0.8734708549115452,0.48526158606196956,0.48526158606196956,0.6422302707988757,0.2624453295839119,0.3730235484764952,0.5714285714285714,0.29841883878119624,0.4426266681379904,0.397014477074216,0.6023845101417661,0.4358358684626799,0.44262666813799034,0.6842862224604775,0.4600671772471656,0.5973198408381999,0.7333094898926101,0.8734708549115452,0.45398994507478635,0.5577634353164501,0.5675333074043404,-0.07958371636159366,-0.11065666703449768,0.20634920634920628,0.03984915390259774,-0.17258298562646346,0.03688555567816576,0.7739090555513732,0.7110129102910742,0.7764185376991513,0.7709153335180902,0.7460470969529907,0.7811105610961074,0.5939441718716427,0.82065180664829,0.5413833778284765,0.6601320396132045,1.0,0.8419479328396633,0.6190476190476191,0.6246710469455566,0.5131423604911342,0.6714423872576917,0.5160326039985034,0.830539534499922,0.8419479328396635,0.385987290797336,0.7000807983745417,0.03309516961607473,0.48096288963372136,0.4849062638551916,0.6897352496133363,0.7373429994210163,0.6027431884734644,0.64671818143316,0.5626178834732708,0.5082778399157635,0.49857119885703377,0.7122445697957626,0.774625741873439,0.589528644124115,0.6854775839312975,0.6235179312880045,0.43053084890961746,0.39319606484049624,0.38908631605469807,0.24544034683690794,0.2928391774357511,0.5001531315435832,0.08502303018977034,0.31046021028253307,0.7534031188084135,0.5047526110426703,0.6864812119708625,0.8016659116560058,0.3012048192771083,0.5923982254562482,0.6809005025286641,0.43486117676701525,0.6597279468503829,0.5903614457831324,0.4641933299899532,0.401358691998836,0.6970966755769257,0.7990958746405025,0.4858552587354331,0.73190244314635,0.7319024431463498,0.5596901035825029,0.6766323413059745,0.5433053679944331,0.6619033923214951,0.5703518254720301,0.6619033923214952,0.5399687630411977,0.5603766997559104,0.7422832515333386,0.6854775839312975,0.6872329711433423,0.6973541086930554,0.42673156419810404,0.7133948982488788,0.6626506024096385,0.8610616978192349,0.5849990232992749,0.6829005914106716,0.8010600624655545,-0.24712724192549748,-0.049088069367381644,0.23236555852564184,-0.005892454211223707,-0.280716392929812,0.14726420810214466,0.6637354803286022,0.7978024895877593,0.7319024431463499,0.6949985619375699,0.7280937315536448,0.7133948982488788,0.6467181814331597,0.8273792404018692,0.5603766997559104,0.7720305586942531,0.8419479328396633,1.0,0.8238415256818213,0.8554216867469879,0.6235179312880045,0.7280937315536447,0.5180722891566264,0.7652072717079332,0.8554216867469878,0.5726371269248889,0.8575365629190411,0.1740776559556978,0.5270462766947298,0.5101127853361851,0.6139601294045425,0.8164965809277261,0.6793662204867574,0.5039526306789697,0.26111648393354675,0.4539899450747866,0.6556100681071858,0.6556100681071858,0.7255892438417317,0.7028634960055147,0.647150228929434,0.6767529681839596,0.45291081365783825,0.45398994507478657,0.6019292654288461,0.12909944487358055,0.140028008402801,0.22549380840084865,-0.14907119849998593,0.20412414523193145,0.8372183582789213,0.5726371269248888,0.6831300510639732,0.6767529681839596,0.31686212526223884,0.6737215368532153,0.6557632539969138,0.48154341234307674,0.6123724356957945,0.3168621252622389,0.5466303878092528,0.3333333333333333,0.7777777777777777,0.7930515857181439,0.6296296296296297,0.5661385170722979,0.9058216273156765,0.45291081365783825,0.5619514869490164,0.6123724356957946,0.7833494518006403,0.3333333333333333,0.6963106238227914,0.5163977794943224,0.5895063447465633,0.7808688094430304,0.647150228929434,0.7745966692414833,0.6472977780031547,0.4879500364742667,0.7504787743864564,0.44360697536713456,0.6793662204867574,0.5548765995358501,0.5726371269248889,0.7223151185146153,-0.3094922302950865,-0.0860662965823871,0.11111111111111106,-0.21695650458081028,-0.40269363312841466,-0.08606629658238711,0.6019292654288461,0.6831300510639732,0.4529108136578381,0.6382847385042254,0.6092717958449424,0.6432675209026769,0.3779644730092271,0.6963106238227915,0.7579367289598671,0.700140042014005,0.6190476190476191,0.8238415256818213,1.0,0.6970966755769258,0.6767529681839597,0.7833494518006404,0.6970966755769259,0.7453559924999299,0.6970966755769257,0.5047526110426702,0.5849990232992748,0.1654758480803738,0.6012036120421517,0.4849062638551916,0.5623995112231819,0.7373429994210163,0.34442467912769403,0.5030030300035688,0.6619033923214951,0.6233596149910307,0.6054078843263981,0.49857119885703377,0.7746257418734392,0.4008794780043981,0.47456140426012916,0.5047526110426703,0.43053084890961746,0.39319606484049624,0.3890863160546979,0.24544034683690794,0.1331087170162505,0.3286720578714975,0.255069090569311,0.3104602102825331,0.7534031188084135,0.6235179312880045,0.7978024895877592,0.8016659116560059,0.15662650602409633,0.7845273796582745,0.6809005025286642,0.43486117676701525,0.5433053679944331,0.44578313253012053,0.6304715377475486,0.5703518254720302,0.6970966755769258,0.6181685067973699,0.5703518254720301,0.6027431884734646,0.7319024431463499,0.6888493582553883,0.7834690267753389,0.5433053679944331,0.6619033923214951,0.3802345503146867,0.6619033923214952,0.5399687630411977,0.46431212265489724,0.6235179312880045,0.6854775839312975,0.5399687630411977,0.5004541250620751,0.42673156419810393,0.5910986299776424,0.5180722891566264,0.6027431884734645,0.5849990232992749,0.5641352711653373,0.6637354803286023,-0.17651945851821255,-0.049088069367381665,0.14786899178904478,-0.005892454211223707,-0.12759836042264186,0.14726420810214466,0.5264108981916501,0.7978024895877593,0.7319024431463499,0.6949985619375699,0.7280937315536448,0.5910986299776424,0.5030030300035687,0.6288082227054205,0.4643121226548971,0.7720305586942531,0.6246710469455566,0.8554216867469879,0.6970966755769258,1.0,0.6235179312880045,0.6288082227054204,0.5180722891566264,0.5951612113283926,0.8554216867469878,0.6097560975609757,0.6381118582373795,-0.08155908717405552,0.3950918386598358,0.6300874765989226,0.6014570864592609,0.6694555487165053,0.4243967134138444,-0.059028133610095554,0.16311817434811107,0.6381118582373795,0.6143345440100667,0.6143345440100666,0.6014570864592609,0.4067903932186813,0.38983327364178894,0.5121951219512195,0.4243967134138444,0.1654364076911725,0.2820166733186045,0.1209716757818268,-0.06560610252610434,0.3169459470649419,0.2095290887308734,0.19127301391900148,0.5491564702454123,0.5121951219512195,0.32006096980144866,0.5609756097560976,-0.267221970552002,0.6707623713328409,0.6853794032920002,0.16921000399116268,0.09563650695950074,-0.029691330061333548,0.4951420793554319,0.1908790423082963,0.6767529681839597,0.6316546325179672,0.19087904230829625,0.6365950701207667,0.6365950701207668,0.42439671341384444,0.3510483108628952,0.38254602783800307,0.7340317845664996,0.4685212856658182,0.5709136102183887,0.7258300546909606,0.9075020318032554,0.8048780487804879,0.7363517391011569,0.6048583789091337,0.7076365033702193,0.5943989439169763,0.7534613148009643,0.7422832515333386,0.5304958917673056,0.543576768128138,0.3658536585365853,0.7332433506283715,-0.5510140510374545,-0.28226724349092913,-0.15617376188860604,-0.3920737132019439,-0.5660116161682924,-0.36291502734548037,0.7332433506283714,0.8687369180325039,0.42439671341384444,0.7884045093492035,0.7340317845664999,0.7534613148009643,0.2951406680504776,0.4077954358702776,0.5129359310192314,0.7216671277871475,0.5131423604911342,0.6235179312880045,0.6767529681839597,0.6235179312880045,1.0,0.7340317845665,0.8610485717786729,0.7682733253465361,0.6235179312880044,0.40779543587027767,0.6058928752399071,-5.551115123125783e-17,0.49543369430686235,0.4117055577420104,0.2914820186645446,0.5330017908890261,0.4730499167912659,0.1973855084879307,-0.0454545454545455,0.2634316848869161,0.31792539222893695,0.317925392228937,0.49551943172972557,0.45342519294190703,0.28968272975116066,0.4893545230443332,0.05913123959890824,0.026343168488691608,0.2514778453847725,0.4382299106011074,0.2925089696508524,0.27477403519260085,0.11677484162422841,0.26650089544451305,0.7287050466613612,0.48935452304433313,0.4077177531501004,0.5709136102183888,0.26476135692859815,0.6157192959869594,0.5005202012851405,0.6915640748081248,0.426401432711221,0.2647613569285981,0.4948119102367416,0.3481553119113957,0.7833494518006402,0.6005286407578722,0.5802588531856595,0.5617467761896284,0.7391404949863533,0.23652495839563306,0.4891159880445186,0.506351701344575,0.6363636363636365,0.3916747259003202,0.5681818181818183,0.4382299106011074,0.6377092708436365,0.8155908717405553,0.5793654595023211,0.6404898693400801,0.7211525113607733,0.5096471914376256,0.6438763875992324,0.5626178834732708,0.5617467761896284,0.6058928752399071,0.4893545230443332,0.5343904214426418,-0.24244056893821347,-0.20225995873897268,-0.05802588531856597,-0.2266036785706145,-0.3855498004780299,-0.06741998624632421,0.6286946134619313,0.7899531467283195,0.6504436355879909,0.8181818181818182,0.7954545454545454,0.8118441408859888,0.4934637712198268,0.5909090909090909,0.7696491199836993,0.7312724241271308,0.6714423872576917,0.7280937315536447,0.7833494518006404,0.6288082227054204,0.7340317845665,1.0,0.8604744100179438,0.8174238913695989,0.7280937315536447,0.5047526110426704,0.6233596149910307,0.03309516961607476,0.36072216722529105,0.520172173953751,0.26528278831282165,0.543305367994433,0.3013715942367323,-0.07185757571479556,-0.16547584808037386,0.3548354731487404,0.5697956558366102,0.35612228489788134,0.4350637728330274,0.40087947800439827,0.26364522458896056,0.3859872907973361,0.2152654244548088,0.00959014792293895,0.297536594630063,0.34361648557167124,0.02662174340325011,0.1000306263087166,0.08502303018977031,0.15523010514126656,0.5836221342882076,0.6235179312880046,0.3154102865812072,0.5641352711653373,-0.08433734939759034,0.6564412768569236,0.6425399108369084,0.5264108981916501,0.15523010514126656,0.06024096385542168,0.6581845723738143,0.401358691998836,0.8238415256818216,0.5578593841829923,0.485855258735433,0.5596901035825028,0.6888493582553883,0.3444246791276941,0.3917345133876695,0.3880752628531665,0.6288082227054206,0.19011727515734336,0.430237205008972,0.490880693673816,0.6884628025572613,0.7422832515333386,0.47456140426012927,0.490880693673816,0.7301707726315522,0.5751599343539661,0.631864052734721,0.5662650602409638,0.4305308489096175,0.5082778399157635,0.20783931042933487,0.4348611767670153,-0.31773502533278253,-0.24544034683690805,-0.1901172751573434,-0.3830095237295353,-0.4083147533524538,-0.3436164855716711,0.7095103410409195,0.7606953970487937,0.4305308489096176,0.827379240401869,0.6619033923214952,0.7541603210059574,0.2155727271443866,0.36404686577682244,0.6884628025572613,0.6655435850812526,0.5160326039985034,0.5180722891566264,0.6970966755769259,0.5180722891566264,0.8610485717786729,0.8604744100179438,1.0,0.7652072717079333,0.6626506024096386,0.34921514788478913,0.7444450774116534,0.0778498944161522,0.4242640687119285,0.5599539151544297,0.5241816051142839,0.6846531968814576,0.6076436202502,0.3380617018914066,0.11677484162422848,0.4737377765346888,0.5026246899500345,0.6282808624375432,0.6739477780040793,0.610170215847752,0.6201736729460424,0.4889012070387048,0.3038218101251,0.20303047565772372,0.484543711852349,0.519615242270663,0.37573457465108967,0.5042194840896109,0.2,0.27386127875258304,0.6739477780040792,0.48890120703870465,0.3927922024247862,0.6285872661926204,0.255069090569311,0.564932682866032,0.7444450774116534,0.48454371185234885,0.4107919181288745,0.4251151509488516,0.5378131905117669,0.3478327964999672,0.7453559924999297,0.744793247238504,0.4472135954999579,0.75955452531275,0.6076436202502,0.45573271518764996,0.5026246899500346,0.4107919181288746,0.5838742081211422,0.670820393249937,0.4670993664969139,0.6928203230275511,0.6779192194392386,0.768273325346536,0.6201736729460424,0.6928203230275509,0.7526489533158033,0.6546536707079773,0.7191949522280763,0.7652072717079333,0.7595545253127501,0.6090914269731712,0.4889012070387047,0.6460582824697988,-0.16609095970748,-0.11547005383792519,0.14907119849998587,-0.04158252792029467,-0.270135101334449,-0.11547005383792527,0.8075728530872484,0.7855844048495726,0.6076436202501999,0.8563488385776753,0.8174238913695991,0.8630339426736916,0.33806170189140666,0.7006490497453707,0.6779192194392385,0.7514691493021797,0.830539534499922,0.7652072717079332,0.7453559924999299,0.5951612113283926,0.7682733253465361,0.8174238913695989,0.7652072717079333,1.0,0.7652072717079333,0.2672219705520019,0.7000807983745417,0.16547584808037374,0.48096288963372147,0.4849062638551916,0.43506377283302755,0.7373429994210162,0.3444246791276941,0.5030030300035689,0.36404686577682255,0.5082778399157635,0.6054078843263981,0.4985711988570339,0.6472900034832847,0.4952040610642565,0.5800194940957134,0.5047526110426703,0.30137159423673227,0.1630325146899619,0.38908631605469807,0.3927045549390527,0.13310871701625052,0.3286720578714975,0.08502303018977035,0.07761505257063327,0.7534031188084135,0.6235179312880043,0.6864812119708626,0.8016659116560059,0.15662650602409628,0.6884628025572613,0.7959822776039313,0.5721857589039674,0.5433053679944331,0.5903614457831325,0.7136106416263461,0.6548483922086271,0.8238415256818212,0.7086321907189362,0.6548483922086272,0.73190244314635,0.6027431884734645,0.5596901035825029,0.6766323413059747,0.31046021028253323,0.4633323746250466,0.3802345503146867,0.46333237462504673,0.5399687630411977,0.46431212265489724,0.6235179312880045,0.5800194940957135,0.3927045549390529,0.6973541086930554,0.42673156419810393,0.5910986299776424,0.6626506024096385,0.7319024431463498,0.4699172482240077,0.5641352711653373,0.5264108981916502,-0.17651945851821255,-0.24544034683690805,-0.021124141684149302,-0.14731135528059056,-0.20415737667622696,-0.04908806936738166,0.8010600624655545,0.7978024895877593,0.73190244314635,0.827379240401869,0.7280937315536448,0.7133948982488788,0.5030030300035687,0.6288082227054205,0.5603766997559104,0.7720305586942532,0.8419479328396635,0.8554216867469878,0.6970966755769257,0.8554216867469878,0.6235179312880044,0.7280937315536447,0.6626506024096386,0.7652072717079333,1.0]]]}}},\"view\":{\"type\":\"object\",\"name\":\"CDSView\",\"id\":\"p1746\",\"attributes\":{\"filter\":{\"type\":\"object\",\"name\":\"AllIndices\",\"id\":\"p1747\"}}},\"glyph\":{\"type\":\"object\",\"name\":\"Rect\",\"id\":\"p1742\",\"attributes\":{\"x\":{\"type\":\"field\",\"field\":\"x\"},\"y\":{\"type\":\"field\",\"field\":\"y\"},\"width\":{\"type\":\"value\",\"value\":0.9},\"height\":{\"type\":\"value\",\"value\":0.9},\"line_color\":{\"type\":\"field\",\"field\":\"colors\"},\"line_alpha\":{\"type\":\"field\",\"field\":\"correlations\"},\"fill_color\":{\"type\":\"field\",\"field\":\"colors\"},\"fill_alpha\":{\"type\":\"field\",\"field\":\"correlations\"},\"hatch_color\":{\"type\":\"field\",\"field\":\"colors\"},\"hatch_alpha\":{\"type\":\"field\",\"field\":\"correlations\"}}},\"nonselection_glyph\":{\"type\":\"object\",\"name\":\"Rect\",\"id\":\"p1743\",\"attributes\":{\"x\":{\"type\":\"field\",\"field\":\"x\"},\"y\":{\"type\":\"field\",\"field\":\"y\"},\"width\":{\"type\":\"value\",\"value\":0.9},\"height\":{\"type\":\"value\",\"value\":0.9},\"line_color\":{\"type\":\"field\",\"field\":\"colors\"},\"line_alpha\":{\"type\":\"value\",\"value\":0.1},\"fill_color\":{\"type\":\"field\",\"field\":\"colors\"},\"fill_alpha\":{\"type\":\"value\",\"value\":0.1},\"hatch_color\":{\"type\":\"field\",\"field\":\"colors\"},\"hatch_alpha\":{\"type\":\"value\",\"value\":0.1}}},\"muted_glyph\":{\"type\":\"object\",\"name\":\"Rect\",\"id\":\"p1744\",\"attributes\":{\"x\":{\"type\":\"field\",\"field\":\"x\"},\"y\":{\"type\":\"field\",\"field\":\"y\"},\"width\":{\"type\":\"value\",\"value\":0.9},\"height\":{\"type\":\"value\",\"value\":0.9},\"line_color\":{\"type\":\"field\",\"field\":\"colors\"},\"line_alpha\":{\"type\":\"value\",\"value\":0.2},\"fill_color\":{\"type\":\"field\",\"field\":\"colors\"},\"fill_alpha\":{\"type\":\"value\",\"value\":0.2},\"hatch_color\":{\"type\":\"field\",\"field\":\"colors\"},\"hatch_alpha\":{\"type\":\"value\",\"value\":0.2}}}}}],\"toolbar\":{\"type\":\"object\",\"name\":\"Toolbar\",\"id\":\"p1714\",\"attributes\":{\"tools\":[{\"type\":\"object\",\"name\":\"HoverTool\",\"id\":\"p1729\",\"attributes\":{\"renderers\":\"auto\",\"tooltips\":[[\"Whiskies\",\"@x, @y\"],[\"Correlation\",\"@correlations\"]]}},{\"type\":\"object\",\"name\":\"BoxZoomTool\",\"id\":\"p1730\",\"attributes\":{\"overlay\":{\"type\":\"object\",\"name\":\"BoxAnnotation\",\"id\":\"p1731\",\"attributes\":{\"syncable\":false,\"line_color\":\"black\",\"line_alpha\":1.0,\"line_width\":2,\"line_dash\":[4,4],\"fill_color\":\"lightgrey\",\"fill_alpha\":0.5,\"level\":\"overlay\",\"visible\":false,\"left\":{\"type\":\"number\",\"value\":\"nan\"},\"right\":{\"type\":\"number\",\"value\":\"nan\"},\"top\":{\"type\":\"number\",\"value\":\"nan\"},\"bottom\":{\"type\":\"number\",\"value\":\"nan\"},\"left_units\":\"canvas\",\"right_units\":\"canvas\",\"top_units\":\"canvas\",\"bottom_units\":\"canvas\",\"handles\":{\"type\":\"object\",\"name\":\"BoxInteractionHandles\",\"id\":\"p1737\",\"attributes\":{\"all\":{\"type\":\"object\",\"name\":\"AreaVisuals\",\"id\":\"p1736\",\"attributes\":{\"fill_color\":\"white\",\"hover_fill_color\":\"lightgray\"}}}}}}}},{\"type\":\"object\",\"name\":\"ResetTool\",\"id\":\"p1738\"}]}},\"left\":[{\"type\":\"object\",\"name\":\"CategoricalAxis\",\"id\":\"p1724\",\"attributes\":{\"ticker\":{\"type\":\"object\",\"name\":\"CategoricalTicker\",\"id\":\"p1725\"},\"formatter\":{\"type\":\"object\",\"name\":\"CategoricalTickFormatter\",\"id\":\"p1726\"},\"major_label_policy\":{\"type\":\"object\",\"name\":\"AllLabels\",\"id\":\"p1727\"},\"major_label_text_font_size\":\"5pt\",\"axis_line_color\":null,\"major_tick_line_color\":null}}],\"above\":[{\"type\":\"object\",\"name\":\"CategoricalAxis\",\"id\":\"p1719\",\"attributes\":{\"ticker\":{\"type\":\"object\",\"name\":\"CategoricalTicker\",\"id\":\"p1720\"},\"formatter\":{\"type\":\"object\",\"name\":\"CategoricalTickFormatter\",\"id\":\"p1721\"},\"major_label_orientation\":1.0471975511965976,\"major_label_policy\":{\"type\":\"object\",\"name\":\"AllLabels\",\"id\":\"p1722\"},\"major_label_text_font_size\":\"5pt\",\"axis_line_color\":null,\"major_tick_line_color\":null}}],\"center\":[{\"type\":\"object\",\"name\":\"Grid\",\"id\":\"p1723\",\"attributes\":{\"axis\":{\"id\":\"p1719\"},\"grid_line_color\":null}},{\"type\":\"object\",\"name\":\"Grid\",\"id\":\"p1728\",\"attributes\":{\"dimension\":1,\"axis\":{\"id\":\"p1724\"},\"grid_line_color\":null}}]}}]}};\n",
       "  const render_items = [{\"docid\":\"d03b7c61-34a8-46a5-8c8e-54b21d7eede4\",\"roots\":{\"p1705\":\"c305deac-da3a-43da-aef8-a58f1a905691\"},\"root_ids\":[\"p1705\"]}];\n",
       "  void root.Bokeh.embed.embed_items_notebook(docs_json, render_items);\n",
       "  }\n",
       "  if (root.Bokeh !== undefined) {\n",
       "    embed_document(root);\n",
       "  } else {\n",
       "    let attempts = 0;\n",
       "    const timer = setInterval(function(root) {\n",
       "      if (root.Bokeh !== undefined) {\n",
       "        clearInterval(timer);\n",
       "        embed_document(root);\n",
       "      } else {\n",
       "        attempts++;\n",
       "        if (attempts > 100) {\n",
       "          clearInterval(timer);\n",
       "          console.log(\"Bokeh: ERROR: Unable to run BokehJS code because BokehJS library is missing\");\n",
       "        }\n",
       "      }\n",
       "    }, 10, root)\n",
       "  }\n",
       "})(window);"
      ],
      "application/vnd.bokehjs_exec.v0+json": ""
     },
     "metadata": {
      "application/vnd.bokehjs_exec.v0+json": {
       "id": "p1705"
      }
     },
     "output_type": "display_data"
    }
   ],
   "source": [
    "source = ColumnDataSource(\n",
    "    data = {\n",
    "        \"x\": np.repeat(distilleries,len(distilleries)),\n",
    "        \"y\": list(distilleries)*len(distilleries),\n",
    "        \"colors\": correlation_colors, # I edited this part\n",
    "        \"correlations\": correlations.flatten().tolist() ## I edited this part\n",
    "    }\n",
    ")\n",
    "\n",
    "output_file(\"Whisky Correlations.html\", title=\"Whisky Correlations\")\n",
    "fig = figure(title=\"Whisky Correlations\",\n",
    "    x_axis_location=\"above\", x_range=list(reversed(distilleries)), y_range=distilleries,\n",
    "    tools=\"hover,box_zoom,reset\")\n",
    "\n",
    "fig.grid.grid_line_color = None\n",
    "fig.axis.axis_line_color = None\n",
    "fig.axis.major_tick_line_color = None\n",
    "fig.axis.major_label_text_font_size = \"5pt\"\n",
    "fig.xaxis.major_label_orientation = np.pi / 3\n",
    "fig.rect('x', 'y', .9, .9, source=source,\n",
    "     color='colors', alpha='correlations')\n",
    "\n",
    "hover = fig.select(dict(type=HoverTool))\n",
    "hover.tooltips = {\n",
    "    \"Whiskies\": \"@x, @y\",\n",
    "    \"Correlation\": \"@correlations\",\n",
    "}\n",
    "show(fig)"
   ]
  },
  {
   "cell_type": "markdown",
   "id": "47546c5f",
   "metadata": {},
   "source": [
    "### Exercise 5\n",
    "\n",
    "In this exercise, we give a demonstration of plotting geographic points.\n",
    "\n",
    "#### Instructions \n",
    "\n",
    "- Run the following code, to be adapted in the next section. Compare this code to that used in plotting the distillery correlations."
   ]
  },
  {
   "cell_type": "code",
   "execution_count": 45,
   "id": "c1b4466a",
   "metadata": {},
   "outputs": [
    {
     "data": {
      "text/plain": [
       "((0, 1, 3), (0, 2, 1))"
      ]
     },
     "execution_count": 45,
     "metadata": {},
     "output_type": "execute_result"
    }
   ],
   "source": [
    "points = [(0,0), (1,2), (3,1)]\n",
    "xs, ys = zip(*points)\n",
    "xs, ys"
   ]
  },
  {
   "cell_type": "code",
   "execution_count": 46,
   "id": "ee5fa743",
   "metadata": {},
   "outputs": [
    {
     "name": "stderr",
     "output_type": "stream",
     "text": [
      "BokehDeprecationWarning: 'circle() method with size value' was deprecated in Bokeh 3.4.0 and will be removed, use 'scatter(size=...) instead' instead.\n"
     ]
    },
    {
     "data": {
      "text/html": [
       "\n",
       "  <div id=\"dc428edb-3b8c-495e-a778-d1cebd9c2a2a\" data-root-id=\"p1751\" style=\"display: contents;\"></div>\n"
      ]
     },
     "metadata": {},
     "output_type": "display_data"
    },
    {
     "data": {
      "application/javascript": [
       "(function(root) {\n",
       "  function embed_document(root) {\n",
       "  const docs_json = {\"4c6ab01b-7f97-4f74-9cf2-a8f105b114eb\":{\"version\":\"3.6.1\",\"title\":\"Bokeh Application\",\"roots\":[{\"type\":\"object\",\"name\":\"Figure\",\"id\":\"p1751\",\"attributes\":{\"x_range\":{\"type\":\"object\",\"name\":\"DataRange1d\",\"id\":\"p1752\"},\"y_range\":{\"type\":\"object\",\"name\":\"DataRange1d\",\"id\":\"p1753\"},\"x_scale\":{\"type\":\"object\",\"name\":\"LinearScale\",\"id\":\"p1761\"},\"y_scale\":{\"type\":\"object\",\"name\":\"LinearScale\",\"id\":\"p1762\"},\"title\":{\"type\":\"object\",\"name\":\"Title\",\"id\":\"p1754\",\"attributes\":{\"text\":\"Title\"}},\"renderers\":[{\"type\":\"object\",\"name\":\"GlyphRenderer\",\"id\":\"p1781\",\"attributes\":{\"data_source\":{\"type\":\"object\",\"name\":\"ColumnDataSource\",\"id\":\"p1748\",\"attributes\":{\"selected\":{\"type\":\"object\",\"name\":\"Selection\",\"id\":\"p1749\",\"attributes\":{\"indices\":[],\"line_indices\":[]}},\"selection_policy\":{\"type\":\"object\",\"name\":\"UnionRenderers\",\"id\":\"p1750\"},\"data\":{\"type\":\"map\",\"entries\":[[\"x\",[0,1,3]],[\"y\",[0,2,1]],[\"colors\",[\"#0173b2\",\"#de8f05\",\"#029e73\"]]]}}},\"view\":{\"type\":\"object\",\"name\":\"CDSView\",\"id\":\"p1782\",\"attributes\":{\"filter\":{\"type\":\"object\",\"name\":\"AllIndices\",\"id\":\"p1783\"}}},\"glyph\":{\"type\":\"object\",\"name\":\"Scatter\",\"id\":\"p1778\",\"attributes\":{\"x\":{\"type\":\"field\",\"field\":\"x\"},\"y\":{\"type\":\"field\",\"field\":\"y\"},\"size\":{\"type\":\"value\",\"value\":10},\"line_color\":{\"type\":\"value\",\"value\":null},\"fill_color\":{\"type\":\"field\",\"field\":\"colors\"},\"hatch_color\":{\"type\":\"field\",\"field\":\"colors\"}}},\"nonselection_glyph\":{\"type\":\"object\",\"name\":\"Scatter\",\"id\":\"p1779\",\"attributes\":{\"x\":{\"type\":\"field\",\"field\":\"x\"},\"y\":{\"type\":\"field\",\"field\":\"y\"},\"size\":{\"type\":\"value\",\"value\":10},\"line_color\":{\"type\":\"value\",\"value\":null},\"line_alpha\":{\"type\":\"value\",\"value\":0.1},\"fill_color\":{\"type\":\"field\",\"field\":\"colors\"},\"fill_alpha\":{\"type\":\"value\",\"value\":0.1},\"hatch_color\":{\"type\":\"field\",\"field\":\"colors\"},\"hatch_alpha\":{\"type\":\"value\",\"value\":0.1}}},\"muted_glyph\":{\"type\":\"object\",\"name\":\"Scatter\",\"id\":\"p1780\",\"attributes\":{\"x\":{\"type\":\"field\",\"field\":\"x\"},\"y\":{\"type\":\"field\",\"field\":\"y\"},\"size\":{\"type\":\"value\",\"value\":10},\"line_color\":{\"type\":\"value\",\"value\":null},\"line_alpha\":{\"type\":\"value\",\"value\":0.2},\"fill_color\":{\"type\":\"field\",\"field\":\"colors\"},\"fill_alpha\":{\"type\":\"value\",\"value\":0.2},\"hatch_color\":{\"type\":\"field\",\"field\":\"colors\"},\"hatch_alpha\":{\"type\":\"value\",\"value\":0.2}}}}}],\"toolbar\":{\"type\":\"object\",\"name\":\"Toolbar\",\"id\":\"p1760\",\"attributes\":{\"tools\":[{\"type\":\"object\",\"name\":\"HoverTool\",\"id\":\"p1773\",\"attributes\":{\"renderers\":\"auto\",\"tooltips\":[[\"Location\",\"(@x, @y)\"]]}},{\"type\":\"object\",\"name\":\"SaveTool\",\"id\":\"p1774\"}]}},\"left\":[{\"type\":\"object\",\"name\":\"LinearAxis\",\"id\":\"p1768\",\"attributes\":{\"ticker\":{\"type\":\"object\",\"name\":\"BasicTicker\",\"id\":\"p1769\",\"attributes\":{\"mantissas\":[1,2,5]}},\"formatter\":{\"type\":\"object\",\"name\":\"BasicTickFormatter\",\"id\":\"p1770\"},\"major_label_policy\":{\"type\":\"object\",\"name\":\"AllLabels\",\"id\":\"p1771\"}}}],\"above\":[{\"type\":\"object\",\"name\":\"LinearAxis\",\"id\":\"p1763\",\"attributes\":{\"ticker\":{\"type\":\"object\",\"name\":\"BasicTicker\",\"id\":\"p1764\",\"attributes\":{\"mantissas\":[1,2,5]}},\"formatter\":{\"type\":\"object\",\"name\":\"BasicTickFormatter\",\"id\":\"p1765\"},\"major_label_policy\":{\"type\":\"object\",\"name\":\"AllLabels\",\"id\":\"p1766\"}}}],\"center\":[{\"type\":\"object\",\"name\":\"Grid\",\"id\":\"p1767\",\"attributes\":{\"axis\":{\"id\":\"p1763\"}}},{\"type\":\"object\",\"name\":\"Grid\",\"id\":\"p1772\",\"attributes\":{\"dimension\":1,\"axis\":{\"id\":\"p1768\"}}}]}}]}};\n",
       "  const render_items = [{\"docid\":\"4c6ab01b-7f97-4f74-9cf2-a8f105b114eb\",\"roots\":{\"p1751\":\"dc428edb-3b8c-495e-a778-d1cebd9c2a2a\"},\"root_ids\":[\"p1751\"]}];\n",
       "  void root.Bokeh.embed.embed_items_notebook(docs_json, render_items);\n",
       "  }\n",
       "  if (root.Bokeh !== undefined) {\n",
       "    embed_document(root);\n",
       "  } else {\n",
       "    let attempts = 0;\n",
       "    const timer = setInterval(function(root) {\n",
       "      if (root.Bokeh !== undefined) {\n",
       "        clearInterval(timer);\n",
       "        embed_document(root);\n",
       "      } else {\n",
       "        attempts++;\n",
       "        if (attempts > 100) {\n",
       "          clearInterval(timer);\n",
       "          console.log(\"Bokeh: ERROR: Unable to run BokehJS code because BokehJS library is missing\");\n",
       "        }\n",
       "      }\n",
       "    }, 10, root)\n",
       "  }\n",
       "})(window);"
      ],
      "application/vnd.bokehjs_exec.v0+json": ""
     },
     "metadata": {
      "application/vnd.bokehjs_exec.v0+json": {
       "id": "p1751"
      }
     },
     "output_type": "display_data"
    }
   ],
   "source": [
    "points = [(0,0), (1,2), (3,1)]\n",
    "xs, ys = zip(*points)\n",
    "colors = ['#0173b2', '#de8f05', '#029e73']\n",
    "\n",
    "output_file(\"Spatial_Example.html\", title=\"Regional Example\")\n",
    "location_source = ColumnDataSource(\n",
    "    data={\n",
    "        \"x\": xs,\n",
    "        \"y\": ys,\n",
    "        \"colors\": colors,\n",
    "    }\n",
    ")\n",
    "\n",
    "fig = figure(title = \"Title\",\n",
    "    x_axis_location = \"above\", tools=\"hover, save\")\n",
    "width  = 300\n",
    "height = 380\n",
    "fig.circle(\"x\", \"y\", size=10, source=location_source,\n",
    "     color='colors', line_color = None)\n",
    "\n",
    "hover = fig.select(dict(type = HoverTool))\n",
    "hover.tooltips = {\"Location\": \"(@x, @y)\"}\n",
    "show(fig)"
   ]
  },
  {
   "cell_type": "markdown",
   "id": "c98ccecc",
   "metadata": {},
   "source": [
    "### Exercise 6\n",
    "\n",
    "In this exercise, we will define a function `location_plot(title, colors)` that takes a string `title` and a list of colors corresponding to each distillery and outputs a Bokeh plot of each distillery by latitude and longitude. It will also display the distillery name, latitude, and longitude as hover text.\n",
    "\n",
    "#### Instructions \n",
    "\n",
    "- Adapt the given code beginning with the first comment and ending with `show(fig)` to create the function `location_plot()`, as described above.\n",
    "- `Region` is a column of in the `pandas` dataframe `whisky`, containing the regional group membership for each distillery. Make a list consisting of the value of `region_colors` for each distillery, and store this list as `region_cols`.\n",
    "- Use `location_plot` to plot each distillery, colored by its regional grouping."
   ]
  },
  {
   "cell_type": "code",
   "execution_count": 47,
   "id": "876cb054",
   "metadata": {},
   "outputs": [
    {
     "name": "stdout",
     "output_type": "stream",
     "text": [
      "0     Highlands\n",
      "1      Speyside\n",
      "2      Speyside\n",
      "3      Speyside\n",
      "4      Speyside\n",
      "        ...    \n",
      "81    Highlands\n",
      "82    Highlands\n",
      "83     Speyside\n",
      "84      Islands\n",
      "85    Highlands\n",
      "Name: Region, Length: 86, dtype: object \n",
      "\n",
      "<class 'pandas.core.series.Series'> \n",
      "\n",
      "<class 'numpy.ndarray'> \n",
      "\n"
     ]
    }
   ],
   "source": [
    "print(whisky[\"Region\"],\"\\n\"); print(type(whisky[\"Region\"]),\"\\n\")\n",
    "\n",
    "print(type(np.array(whisky[\"Region\"])),\"\\n\")"
   ]
  },
  {
   "cell_type": "code",
   "execution_count": 48,
   "id": "dcca7b31",
   "metadata": {
    "scrolled": true
   },
   "outputs": [
    {
     "name": "stdout",
     "output_type": "stream",
     "text": [
      "#de8f05\n",
      "#0173b2\n",
      "#0173b2\n",
      "#0173b2\n",
      "#0173b2\n",
      "#029e73\n",
      "#0173b2\n",
      "#0173b2\n",
      "#ca9161\n",
      "#de8f05\n",
      "#029e73\n",
      "#0173b2\n",
      "#0173b2\n",
      "#de8f05\n",
      "#0173b2\n",
      "#0173b2\n",
      "#0173b2\n",
      "#0173b2\n",
      "#de8f05\n",
      "#d55e00\n",
      "#cc78bc\n",
      "#d55e00\n",
      "#ca9161\n",
      "#de8f05\n",
      "#de8f05\n",
      "#de8f05\n",
      "#0173b2\n",
      "#0173b2\n",
      "#de8f05\n",
      "#cc78bc\n",
      "#0173b2\n",
      "#0173b2\n",
      "#0173b2\n",
      "#de8f05\n",
      "#d55e00\n",
      "#0173b2\n",
      "#de8f05\n",
      "#0173b2\n",
      "#0173b2\n",
      "#0173b2\n",
      "#de8f05\n",
      "#0173b2\n",
      "#de8f05\n",
      "#0173b2\n",
      "#de8f05\n",
      "#0173b2\n",
      "#de8f05\n",
      "#0173b2\n",
      "#ca9161\n",
      "#029e73\n",
      "#0173b2\n",
      "#0173b2\n",
      "#de8f05\n",
      "#de8f05\n",
      "#0173b2\n",
      "#0173b2\n",
      "#d55e00\n",
      "#de8f05\n",
      "#0173b2\n",
      "#0173b2\n",
      "#0173b2\n",
      "#ca9161\n",
      "#de8f05\n",
      "#d55e00\n",
      "#ca9161\n",
      "#ca9161\n",
      "#ca9161\n",
      "#0173b2\n",
      "#0173b2\n",
      "#de8f05\n",
      "#0173b2\n",
      "#0173b2\n",
      "#0173b2\n",
      "#de8f05\n",
      "#de8f05\n",
      "#0173b2\n",
      "#0173b2\n",
      "#0173b2\n",
      "#0173b2\n",
      "#0173b2\n",
      "#de8f05\n",
      "#de8f05\n",
      "#de8f05\n",
      "#0173b2\n",
      "#d55e00\n",
      "#de8f05\n"
     ]
    }
   ],
   "source": [
    "# 'region_colors' is a dictionary we defined before\n",
    "\n",
    "for i in whisky[\"Region\"]:\n",
    "    print(region_colors[i])"
   ]
  },
  {
   "cell_type": "code",
   "execution_count": 53,
   "id": "1b3c7354",
   "metadata": {},
   "outputs": [
    {
     "data": {
      "text/html": [
       "\n",
       "  <div id=\"a9b45f5f-7401-4e22-8a59-1cc4dc49cc03\" data-root-id=\"p1974\" style=\"display: contents;\"></div>\n"
      ]
     },
     "metadata": {},
     "output_type": "display_data"
    },
    {
     "data": {
      "application/javascript": [
       "(function(root) {\n",
       "  function embed_document(root) {\n",
       "  const docs_json = {\"53b7c679-cc76-43ce-bfe5-1498516cf3ac\":{\"version\":\"3.6.1\",\"title\":\"Bokeh Application\",\"roots\":[{\"type\":\"object\",\"name\":\"Figure\",\"id\":\"p1974\",\"attributes\":{\"x_range\":{\"type\":\"object\",\"name\":\"DataRange1d\",\"id\":\"p1975\"},\"y_range\":{\"type\":\"object\",\"name\":\"DataRange1d\",\"id\":\"p1976\"},\"x_scale\":{\"type\":\"object\",\"name\":\"LinearScale\",\"id\":\"p1984\"},\"y_scale\":{\"type\":\"object\",\"name\":\"LinearScale\",\"id\":\"p1985\"},\"title\":{\"type\":\"object\",\"name\":\"Title\",\"id\":\"p1977\",\"attributes\":{\"text\":\"Whisky Locations and Regions\"}},\"renderers\":[{\"type\":\"object\",\"name\":\"GlyphRenderer\",\"id\":\"p2004\",\"attributes\":{\"data_source\":{\"type\":\"object\",\"name\":\"ColumnDataSource\",\"id\":\"p1971\",\"attributes\":{\"selected\":{\"type\":\"object\",\"name\":\"Selection\",\"id\":\"p1972\",\"attributes\":{\"indices\":[],\"line_indices\":[]}},\"selection_policy\":{\"type\":\"object\",\"name\":\"UnionRenderers\",\"id\":\"p1973\"},\"data\":{\"type\":\"map\",\"entries\":[[\"x\",{\"type\":\"ndarray\",\"array\":{\"type\":\"bytes\",\"data\":\"mmsEAFDsBACYrQUAUAAFAIgTBQA8QQUASOAEAFI6BQACAQIAXNAFAFSyAwBQ7AQAeu8EAKLXAwAS/QQAiBMFANzOBABYXQQAkAwEAAL2AgA6oAIAVFQCANjuAQBaIwUAVNYCAL5bBADi/wQAlhQFAPz5BAD4oAIAtuUEAMgUBQAszwQAUEIEAPxEBQAeAAUA8IIFABIzBQDE+gQAJrIEANIkBAASMwUAchEEAMDvBADkIQQAejoFAAqnAwCc5gQAgisCAHbHAwBG3QQATOEEAA45BADAYgUASBIFAFr7BACySwIA9gUEALjUBADYBAUAUOwEALgdAgDKbQQA3hoCAPgoAgCOJAIASC4CAOreBAASMwUAFmwFANRABABQ7AQAEjMFAKyoBQB4PgMAUOwEAFDsBACo+AQA4qAEAO7fBADMfwQAitsDABiEBAC6/wQAQjsFAHRfBAA=\"},\"shape\":[86],\"dtype\":\"int32\",\"order\":\"little\"}],[\"y\",{\"type\":\"ndarray\",\"array\":{\"type\":\"bytes\",\"data\":\"8tAKAHAjDQDwIA0A9PQMAIjUDABCLAoAbKUMAOIuDQAIEQoAxqAMABR1CABwIw0ADBkNAKz7DADm/QwAiNQMANiYDAB4/QwAAEMNAN7qCQDSeQkAoC0KAJgXCgByfw4ATiQLAHwKCwAS9QwAqtAMAAIfDABueQkAEMoMAGzSDACQvQwAvqgMAGxmDwDA4gwAguQMAO/yDABK2wwAIp8MAIK0CgDv8gwAekENADLVDAAKhA0ARPoMANhjCgD+mgwAkkUKAGJDCgBS3QwAcCgNAPp6DQCYzgwAIM4MABjWDAB+hQsAdvsLABLDDAB45AwAcCMNACjYCQAmzA0AGrEMAEzcCQBi2gkAWDkKACDYDADv8gwA1KYMAFg3DABwIw0A7/IMACTLCwAe1gsAcCMNAHAjDQDw0AwA1hwNAGLXDABMjwsA/moKALSQCwCi9gwAImUPAHBwCwA=\"},\"shape\":[86],\"dtype\":\"int32\",\"order\":\"little\"}],[\"colors\",[\"#de8f05\",\"#0173b2\",\"#0173b2\",\"#0173b2\",\"#0173b2\",\"#029e73\",\"#0173b2\",\"#0173b2\",\"#ca9161\",\"#de8f05\",\"#029e73\",\"#0173b2\",\"#0173b2\",\"#de8f05\",\"#0173b2\",\"#0173b2\",\"#0173b2\",\"#0173b2\",\"#de8f05\",\"#d55e00\",\"#cc78bc\",\"#d55e00\",\"#ca9161\",\"#de8f05\",\"#de8f05\",\"#de8f05\",\"#0173b2\",\"#0173b2\",\"#de8f05\",\"#cc78bc\",\"#0173b2\",\"#0173b2\",\"#0173b2\",\"#de8f05\",\"#d55e00\",\"#0173b2\",\"#de8f05\",\"#0173b2\",\"#0173b2\",\"#0173b2\",\"#de8f05\",\"#0173b2\",\"#de8f05\",\"#0173b2\",\"#de8f05\",\"#0173b2\",\"#de8f05\",\"#0173b2\",\"#ca9161\",\"#029e73\",\"#0173b2\",\"#0173b2\",\"#de8f05\",\"#de8f05\",\"#0173b2\",\"#0173b2\",\"#d55e00\",\"#de8f05\",\"#0173b2\",\"#0173b2\",\"#0173b2\",\"#ca9161\",\"#de8f05\",\"#d55e00\",\"#ca9161\",\"#ca9161\",\"#ca9161\",\"#0173b2\",\"#0173b2\",\"#de8f05\",\"#0173b2\",\"#0173b2\",\"#0173b2\",\"#de8f05\",\"#de8f05\",\"#0173b2\",\"#0173b2\",\"#0173b2\",\"#0173b2\",\"#0173b2\",\"#de8f05\",\"#de8f05\",\"#de8f05\",\"#0173b2\",\"#d55e00\",\"#de8f05\"]],[\"regions\",{\"type\":\"ndarray\",\"array\":[\"Highlands\",\"Speyside\",\"Speyside\",\"Speyside\",\"Speyside\",\"Lowlands\",\"Speyside\",\"Speyside\",\"Islay\",\"Highlands\",\"Lowlands\",\"Speyside\",\"Speyside\",\"Highlands\",\"Speyside\",\"Speyside\",\"Speyside\",\"Speyside\",\"Highlands\",\"Islands\",\"Campbelltown\",\"Islands\",\"Islay\",\"Highlands\",\"Highlands\",\"Highlands\",\"Speyside\",\"Speyside\",\"Highlands\",\"Campbelltown\",\"Speyside\",\"Speyside\",\"Speyside\",\"Highlands\",\"Islands\",\"Speyside\",\"Highlands\",\"Speyside\",\"Speyside\",\"Speyside\",\"Highlands\",\"Speyside\",\"Highlands\",\"Speyside\",\"Highlands\",\"Speyside\",\"Highlands\",\"Speyside\",\"Islay\",\"Lowlands\",\"Speyside\",\"Speyside\",\"Highlands\",\"Highlands\",\"Speyside\",\"Speyside\",\"Islands\",\"Highlands\",\"Speyside\",\"Speyside\",\"Speyside\",\"Islay\",\"Highlands\",\"Islands\",\"Islay\",\"Islay\",\"Islay\",\"Speyside\",\"Speyside\",\"Highlands\",\"Speyside\",\"Speyside\",\"Speyside\",\"Highlands\",\"Highlands\",\"Speyside\",\"Speyside\",\"Speyside\",\"Speyside\",\"Speyside\",\"Highlands\",\"Highlands\",\"Highlands\",\"Speyside\",\"Islands\",\"Highlands\"],\"shape\":[86],\"dtype\":\"object\",\"order\":\"little\"}],[\"distilleries\",{\"type\":\"ndarray\",\"array\":[\"Tullibardine\",\"GlenElgin\",\"GlenDeveronMacduff\",\"GlenSpey\",\"Glenfiddich\",\"Glenkinchie\",\"Glenlivet\",\"Inchgower\",\"Bowmore\",\"GlenGarioch\",\"Bladnoch\",\"Linkwood\",\"Benriach\",\"GlenOrd\",\"Speyburn\",\"Belvenie\",\"Tomintoul\",\"RoyalBrackla\",\"Teaninich\",\"ArranIsleOf\",\"GlenScotia\",\"Isle of Jura\",\"Bruichladdich\",\"OldPulteney\",\"Oban\",\"Glenturret\",\"Glenrothes\",\"Mortlach\",\"RoyalLochnagar\",\"Springbank\",\"Glenfarclas\",\"Glendullan\",\"Tormore\",\"Tomatin\",\"Highland Park\",\"Macallan\",\"Glendronach\",\"Auchroisk\",\"Aberlour\",\"Balmenach\",\"Deanston\",\"GlenKeith\",\"Dalmore\",\"Dailuaine\",\"Balblair\",\"Strathmill\",\"Loch Lomond\",\"Tamnavulin\",\"Bunnahabhain\",\"Auchentoshan\",\"Cardhu\",\"GlenMoray\",\"Glenmorangie\",\"AnCnoc\",\"Dufftown\",\"Glenallachie\",\"Tobermory\",\"Dalwhinnie\",\"Craigganmore\",\"Craigallechie\",\"Glenlossie\",\"Laphroig\",\"Clynelish\",\"Talisker\",\"Ardbeg\",\"Lagavulin\",\"Caol Ila\",\"Tamdhu\",\"Strathisla\",\"Ardmore\",\"Speyside\",\"Longmorn\",\"Aultmore\",\"OldFettercairn\",\"BenNevis\",\"Miltonduff\",\"Mannochmore\",\"Benrinnes\",\"Benromach\",\"Knochando\",\"BlairAthol\",\"Glengoyne\",\"Edradour\",\"GlenGrant\",\"Scapa\",\"Aberfeldy\"],\"shape\":[86],\"dtype\":\"object\",\"order\":\"little\"}]]}}},\"view\":{\"type\":\"object\",\"name\":\"CDSView\",\"id\":\"p2005\",\"attributes\":{\"filter\":{\"type\":\"object\",\"name\":\"AllIndices\",\"id\":\"p2006\"}}},\"glyph\":{\"type\":\"object\",\"name\":\"Scatter\",\"id\":\"p2001\",\"attributes\":{\"x\":{\"type\":\"field\",\"field\":\"x\"},\"y\":{\"type\":\"field\",\"field\":\"y\"},\"size\":{\"type\":\"value\",\"value\":9},\"line_color\":{\"type\":\"value\",\"value\":null},\"fill_color\":{\"type\":\"field\",\"field\":\"colors\"},\"hatch_color\":{\"type\":\"field\",\"field\":\"colors\"}}},\"nonselection_glyph\":{\"type\":\"object\",\"name\":\"Scatter\",\"id\":\"p2002\",\"attributes\":{\"x\":{\"type\":\"field\",\"field\":\"x\"},\"y\":{\"type\":\"field\",\"field\":\"y\"},\"size\":{\"type\":\"value\",\"value\":9},\"line_color\":{\"type\":\"value\",\"value\":null},\"line_alpha\":{\"type\":\"value\",\"value\":0.1},\"fill_color\":{\"type\":\"field\",\"field\":\"colors\"},\"fill_alpha\":{\"type\":\"value\",\"value\":0.1},\"hatch_color\":{\"type\":\"field\",\"field\":\"colors\"},\"hatch_alpha\":{\"type\":\"value\",\"value\":0.1}}},\"muted_glyph\":{\"type\":\"object\",\"name\":\"Scatter\",\"id\":\"p2003\",\"attributes\":{\"x\":{\"type\":\"field\",\"field\":\"x\"},\"y\":{\"type\":\"field\",\"field\":\"y\"},\"size\":{\"type\":\"value\",\"value\":9},\"line_color\":{\"type\":\"value\",\"value\":null},\"line_alpha\":{\"type\":\"value\",\"value\":0.2},\"fill_color\":{\"type\":\"field\",\"field\":\"colors\"},\"fill_alpha\":{\"type\":\"value\",\"value\":0.2},\"hatch_color\":{\"type\":\"field\",\"field\":\"colors\"},\"hatch_alpha\":{\"type\":\"value\",\"value\":0.2}}}}}],\"toolbar\":{\"type\":\"object\",\"name\":\"Toolbar\",\"id\":\"p1983\",\"attributes\":{\"tools\":[{\"type\":\"object\",\"name\":\"HoverTool\",\"id\":\"p1996\",\"attributes\":{\"renderers\":\"auto\",\"tooltips\":[[\"Distillery\",\"@distilleries\"],[\"Location\",\"(@x, @y)\"]]}},{\"type\":\"object\",\"name\":\"SaveTool\",\"id\":\"p1997\"}]}},\"left\":[{\"type\":\"object\",\"name\":\"LinearAxis\",\"id\":\"p1991\",\"attributes\":{\"ticker\":{\"type\":\"object\",\"name\":\"BasicTicker\",\"id\":\"p1992\",\"attributes\":{\"mantissas\":[1,2,5]}},\"formatter\":{\"type\":\"object\",\"name\":\"BasicTickFormatter\",\"id\":\"p1993\"},\"major_label_policy\":{\"type\":\"object\",\"name\":\"AllLabels\",\"id\":\"p1994\"}}}],\"above\":[{\"type\":\"object\",\"name\":\"LinearAxis\",\"id\":\"p1986\",\"attributes\":{\"ticker\":{\"type\":\"object\",\"name\":\"BasicTicker\",\"id\":\"p1987\",\"attributes\":{\"mantissas\":[1,2,5]}},\"formatter\":{\"type\":\"object\",\"name\":\"BasicTickFormatter\",\"id\":\"p1988\"},\"major_label_orientation\":1.0471975511965976,\"major_label_policy\":{\"type\":\"object\",\"name\":\"AllLabels\",\"id\":\"p1989\"}}}],\"center\":[{\"type\":\"object\",\"name\":\"Grid\",\"id\":\"p1990\",\"attributes\":{\"axis\":{\"id\":\"p1986\"}}},{\"type\":\"object\",\"name\":\"Grid\",\"id\":\"p1995\",\"attributes\":{\"dimension\":1,\"axis\":{\"id\":\"p1991\"}}}]}}]}};\n",
       "  const render_items = [{\"docid\":\"53b7c679-cc76-43ce-bfe5-1498516cf3ac\",\"roots\":{\"p1974\":\"a9b45f5f-7401-4e22-8a59-1cc4dc49cc03\"},\"root_ids\":[\"p1974\"]}];\n",
       "  void root.Bokeh.embed.embed_items_notebook(docs_json, render_items);\n",
       "  }\n",
       "  if (root.Bokeh !== undefined) {\n",
       "    embed_document(root);\n",
       "  } else {\n",
       "    let attempts = 0;\n",
       "    const timer = setInterval(function(root) {\n",
       "      if (root.Bokeh !== undefined) {\n",
       "        clearInterval(timer);\n",
       "        embed_document(root);\n",
       "      } else {\n",
       "        attempts++;\n",
       "        if (attempts > 100) {\n",
       "          clearInterval(timer);\n",
       "          console.log(\"Bokeh: ERROR: Unable to run BokehJS code because BokehJS library is missing\");\n",
       "        }\n",
       "      }\n",
       "    }, 10, root)\n",
       "  }\n",
       "})(window);"
      ],
      "application/vnd.bokehjs_exec.v0+json": ""
     },
     "metadata": {
      "application/vnd.bokehjs_exec.v0+json": {
       "id": "p1974"
      }
     },
     "output_type": "display_data"
    }
   ],
   "source": [
    "# edit this to make the function `location_plot`.\n",
    "\n",
    "def location_plot(title, colors): # I edited this part\n",
    "    output_file(title+\".html\")\n",
    "    location_source = ColumnDataSource(\n",
    "        data = {\n",
    "            \"x\": whisky[\" Latitude\"],\n",
    "            \"y\": whisky[\" Longitude\"],\n",
    "            \"colors\": colors,\n",
    "            \"regions\": whisky.Region,\n",
    "            \"distilleries\": whisky.Distillery\n",
    "        }\n",
    "    )\n",
    "\n",
    "    fig = figure(title = title,\n",
    "        x_axis_location = \"above\", tools=\"hover, save\")\n",
    "    width  = 400\n",
    "    height = 500\n",
    "    fig.scatter(\"x\", \"y\", size=9, source=location_source, color='colors', line_color = None)\n",
    "    fig.xaxis.major_label_orientation = np.pi / 3\n",
    "    hover = fig.select(dict(type = HoverTool))\n",
    "    hover.tooltips = {\n",
    "        \"Distillery\": \"@distilleries\",\n",
    "        \"Location\": \"(@x, @y)\"\n",
    "    }\n",
    "    return show(fig)\n",
    "\n",
    "region_cols = [] # I edited all this for-loop\n",
    "for i in whisky[\"Region\"]:\n",
    "    region_cols.append(region_colors[i])\n",
    "# The course suggests: [region_colors[i] for i in list(whisky[\"Region\"])]\n",
    "    \n",
    "location_plot(\"Whisky Locations and Regions\", region_cols)"
   ]
  },
  {
   "cell_type": "markdown",
   "id": "bcec5a37",
   "metadata": {},
   "source": [
    "### Exercise 7 \n",
    "\n",
    "In this exercise, we will use this function to plot each distillery, colored by region and taste coclustering classification, respectively.\n",
    "\n",
    "#### Instructions \n",
    "- Create the list `region_cols` consisting of the color in `region_colors` that corresponds to each whisky in `whisky.Region`.\n",
    "- Similarly, create a list `classification_cols` consisting of the color in `cluster_colors` that corresponds to each cluster membership in `whisky.Group`.\n",
    "- Create two interactive plots of distilleries, one using `region_cols` and the other with colors defined by called `classification_cols`. How well do the coclustering groupings match the regional groupings?"
   ]
  },
  {
   "cell_type": "code",
   "execution_count": 54,
   "id": "4cbe774a",
   "metadata": {},
   "outputs": [
    {
     "data": {
      "text/html": [
       "\n",
       "  <div id=\"a25f5af8-ac76-4a56-a956-e0a97870e959\" data-root-id=\"p2014\" style=\"display: contents;\"></div>\n"
      ]
     },
     "metadata": {},
     "output_type": "display_data"
    },
    {
     "data": {
      "application/javascript": [
       "(function(root) {\n",
       "  function embed_document(root) {\n",
       "  const docs_json = {\"952ef356-0697-4237-b9c0-552f0025b199\":{\"version\":\"3.6.1\",\"title\":\"Bokeh Application\",\"roots\":[{\"type\":\"object\",\"name\":\"Figure\",\"id\":\"p2014\",\"attributes\":{\"x_range\":{\"type\":\"object\",\"name\":\"DataRange1d\",\"id\":\"p2015\"},\"y_range\":{\"type\":\"object\",\"name\":\"DataRange1d\",\"id\":\"p2016\"},\"x_scale\":{\"type\":\"object\",\"name\":\"LinearScale\",\"id\":\"p2024\"},\"y_scale\":{\"type\":\"object\",\"name\":\"LinearScale\",\"id\":\"p2025\"},\"title\":{\"type\":\"object\",\"name\":\"Title\",\"id\":\"p2017\",\"attributes\":{\"text\":\"Whisky Locations and Regions\"}},\"renderers\":[{\"type\":\"object\",\"name\":\"GlyphRenderer\",\"id\":\"p2044\",\"attributes\":{\"data_source\":{\"type\":\"object\",\"name\":\"ColumnDataSource\",\"id\":\"p2011\",\"attributes\":{\"selected\":{\"type\":\"object\",\"name\":\"Selection\",\"id\":\"p2012\",\"attributes\":{\"indices\":[],\"line_indices\":[]}},\"selection_policy\":{\"type\":\"object\",\"name\":\"UnionRenderers\",\"id\":\"p2013\"},\"data\":{\"type\":\"map\",\"entries\":[[\"x\",{\"type\":\"ndarray\",\"array\":{\"type\":\"bytes\",\"data\":\"mmsEAFDsBACYrQUAUAAFAIgTBQA8QQUASOAEAFI6BQACAQIAXNAFAFSyAwBQ7AQAeu8EAKLXAwAS/QQAiBMFANzOBABYXQQAkAwEAAL2AgA6oAIAVFQCANjuAQBaIwUAVNYCAL5bBADi/wQAlhQFAPz5BAD4oAIAtuUEAMgUBQAszwQAUEIEAPxEBQAeAAUA8IIFABIzBQDE+gQAJrIEANIkBAASMwUAchEEAMDvBADkIQQAejoFAAqnAwCc5gQAgisCAHbHAwBG3QQATOEEAA45BADAYgUASBIFAFr7BACySwIA9gUEALjUBADYBAUAUOwEALgdAgDKbQQA3hoCAPgoAgCOJAIASC4CAOreBAASMwUAFmwFANRABABQ7AQAEjMFAKyoBQB4PgMAUOwEAFDsBACo+AQA4qAEAO7fBADMfwQAitsDABiEBAC6/wQAQjsFAHRfBAA=\"},\"shape\":[86],\"dtype\":\"int32\",\"order\":\"little\"}],[\"y\",{\"type\":\"ndarray\",\"array\":{\"type\":\"bytes\",\"data\":\"8tAKAHAjDQDwIA0A9PQMAIjUDABCLAoAbKUMAOIuDQAIEQoAxqAMABR1CABwIw0ADBkNAKz7DADm/QwAiNQMANiYDAB4/QwAAEMNAN7qCQDSeQkAoC0KAJgXCgByfw4ATiQLAHwKCwAS9QwAqtAMAAIfDABueQkAEMoMAGzSDACQvQwAvqgMAGxmDwDA4gwAguQMAO/yDABK2wwAIp8MAIK0CgDv8gwAekENADLVDAAKhA0ARPoMANhjCgD+mgwAkkUKAGJDCgBS3QwAcCgNAPp6DQCYzgwAIM4MABjWDAB+hQsAdvsLABLDDAB45AwAcCMNACjYCQAmzA0AGrEMAEzcCQBi2gkAWDkKACDYDADv8gwA1KYMAFg3DABwIw0A7/IMACTLCwAe1gsAcCMNAHAjDQDw0AwA1hwNAGLXDABMjwsA/moKALSQCwCi9gwAImUPAHBwCwA=\"},\"shape\":[86],\"dtype\":\"int32\",\"order\":\"little\"}],[\"colors\",[\"#de8f05\",\"#0173b2\",\"#0173b2\",\"#0173b2\",\"#0173b2\",\"#029e73\",\"#0173b2\",\"#0173b2\",\"#ca9161\",\"#de8f05\",\"#029e73\",\"#0173b2\",\"#0173b2\",\"#de8f05\",\"#0173b2\",\"#0173b2\",\"#0173b2\",\"#0173b2\",\"#de8f05\",\"#d55e00\",\"#cc78bc\",\"#d55e00\",\"#ca9161\",\"#de8f05\",\"#de8f05\",\"#de8f05\",\"#0173b2\",\"#0173b2\",\"#de8f05\",\"#cc78bc\",\"#0173b2\",\"#0173b2\",\"#0173b2\",\"#de8f05\",\"#d55e00\",\"#0173b2\",\"#de8f05\",\"#0173b2\",\"#0173b2\",\"#0173b2\",\"#de8f05\",\"#0173b2\",\"#de8f05\",\"#0173b2\",\"#de8f05\",\"#0173b2\",\"#de8f05\",\"#0173b2\",\"#ca9161\",\"#029e73\",\"#0173b2\",\"#0173b2\",\"#de8f05\",\"#de8f05\",\"#0173b2\",\"#0173b2\",\"#d55e00\",\"#de8f05\",\"#0173b2\",\"#0173b2\",\"#0173b2\",\"#ca9161\",\"#de8f05\",\"#d55e00\",\"#ca9161\",\"#ca9161\",\"#ca9161\",\"#0173b2\",\"#0173b2\",\"#de8f05\",\"#0173b2\",\"#0173b2\",\"#0173b2\",\"#de8f05\",\"#de8f05\",\"#0173b2\",\"#0173b2\",\"#0173b2\",\"#0173b2\",\"#0173b2\",\"#de8f05\",\"#de8f05\",\"#de8f05\",\"#0173b2\",\"#d55e00\",\"#de8f05\"]],[\"regions\",{\"type\":\"ndarray\",\"array\":[\"Highlands\",\"Speyside\",\"Speyside\",\"Speyside\",\"Speyside\",\"Lowlands\",\"Speyside\",\"Speyside\",\"Islay\",\"Highlands\",\"Lowlands\",\"Speyside\",\"Speyside\",\"Highlands\",\"Speyside\",\"Speyside\",\"Speyside\",\"Speyside\",\"Highlands\",\"Islands\",\"Campbelltown\",\"Islands\",\"Islay\",\"Highlands\",\"Highlands\",\"Highlands\",\"Speyside\",\"Speyside\",\"Highlands\",\"Campbelltown\",\"Speyside\",\"Speyside\",\"Speyside\",\"Highlands\",\"Islands\",\"Speyside\",\"Highlands\",\"Speyside\",\"Speyside\",\"Speyside\",\"Highlands\",\"Speyside\",\"Highlands\",\"Speyside\",\"Highlands\",\"Speyside\",\"Highlands\",\"Speyside\",\"Islay\",\"Lowlands\",\"Speyside\",\"Speyside\",\"Highlands\",\"Highlands\",\"Speyside\",\"Speyside\",\"Islands\",\"Highlands\",\"Speyside\",\"Speyside\",\"Speyside\",\"Islay\",\"Highlands\",\"Islands\",\"Islay\",\"Islay\",\"Islay\",\"Speyside\",\"Speyside\",\"Highlands\",\"Speyside\",\"Speyside\",\"Speyside\",\"Highlands\",\"Highlands\",\"Speyside\",\"Speyside\",\"Speyside\",\"Speyside\",\"Speyside\",\"Highlands\",\"Highlands\",\"Highlands\",\"Speyside\",\"Islands\",\"Highlands\"],\"shape\":[86],\"dtype\":\"object\",\"order\":\"little\"}],[\"distilleries\",{\"type\":\"ndarray\",\"array\":[\"Tullibardine\",\"GlenElgin\",\"GlenDeveronMacduff\",\"GlenSpey\",\"Glenfiddich\",\"Glenkinchie\",\"Glenlivet\",\"Inchgower\",\"Bowmore\",\"GlenGarioch\",\"Bladnoch\",\"Linkwood\",\"Benriach\",\"GlenOrd\",\"Speyburn\",\"Belvenie\",\"Tomintoul\",\"RoyalBrackla\",\"Teaninich\",\"ArranIsleOf\",\"GlenScotia\",\"Isle of Jura\",\"Bruichladdich\",\"OldPulteney\",\"Oban\",\"Glenturret\",\"Glenrothes\",\"Mortlach\",\"RoyalLochnagar\",\"Springbank\",\"Glenfarclas\",\"Glendullan\",\"Tormore\",\"Tomatin\",\"Highland Park\",\"Macallan\",\"Glendronach\",\"Auchroisk\",\"Aberlour\",\"Balmenach\",\"Deanston\",\"GlenKeith\",\"Dalmore\",\"Dailuaine\",\"Balblair\",\"Strathmill\",\"Loch Lomond\",\"Tamnavulin\",\"Bunnahabhain\",\"Auchentoshan\",\"Cardhu\",\"GlenMoray\",\"Glenmorangie\",\"AnCnoc\",\"Dufftown\",\"Glenallachie\",\"Tobermory\",\"Dalwhinnie\",\"Craigganmore\",\"Craigallechie\",\"Glenlossie\",\"Laphroig\",\"Clynelish\",\"Talisker\",\"Ardbeg\",\"Lagavulin\",\"Caol Ila\",\"Tamdhu\",\"Strathisla\",\"Ardmore\",\"Speyside\",\"Longmorn\",\"Aultmore\",\"OldFettercairn\",\"BenNevis\",\"Miltonduff\",\"Mannochmore\",\"Benrinnes\",\"Benromach\",\"Knochando\",\"BlairAthol\",\"Glengoyne\",\"Edradour\",\"GlenGrant\",\"Scapa\",\"Aberfeldy\"],\"shape\":[86],\"dtype\":\"object\",\"order\":\"little\"}]]}}},\"view\":{\"type\":\"object\",\"name\":\"CDSView\",\"id\":\"p2045\",\"attributes\":{\"filter\":{\"type\":\"object\",\"name\":\"AllIndices\",\"id\":\"p2046\"}}},\"glyph\":{\"type\":\"object\",\"name\":\"Scatter\",\"id\":\"p2041\",\"attributes\":{\"x\":{\"type\":\"field\",\"field\":\"x\"},\"y\":{\"type\":\"field\",\"field\":\"y\"},\"size\":{\"type\":\"value\",\"value\":9},\"line_color\":{\"type\":\"value\",\"value\":null},\"fill_color\":{\"type\":\"field\",\"field\":\"colors\"},\"hatch_color\":{\"type\":\"field\",\"field\":\"colors\"}}},\"nonselection_glyph\":{\"type\":\"object\",\"name\":\"Scatter\",\"id\":\"p2042\",\"attributes\":{\"x\":{\"type\":\"field\",\"field\":\"x\"},\"y\":{\"type\":\"field\",\"field\":\"y\"},\"size\":{\"type\":\"value\",\"value\":9},\"line_color\":{\"type\":\"value\",\"value\":null},\"line_alpha\":{\"type\":\"value\",\"value\":0.1},\"fill_color\":{\"type\":\"field\",\"field\":\"colors\"},\"fill_alpha\":{\"type\":\"value\",\"value\":0.1},\"hatch_color\":{\"type\":\"field\",\"field\":\"colors\"},\"hatch_alpha\":{\"type\":\"value\",\"value\":0.1}}},\"muted_glyph\":{\"type\":\"object\",\"name\":\"Scatter\",\"id\":\"p2043\",\"attributes\":{\"x\":{\"type\":\"field\",\"field\":\"x\"},\"y\":{\"type\":\"field\",\"field\":\"y\"},\"size\":{\"type\":\"value\",\"value\":9},\"line_color\":{\"type\":\"value\",\"value\":null},\"line_alpha\":{\"type\":\"value\",\"value\":0.2},\"fill_color\":{\"type\":\"field\",\"field\":\"colors\"},\"fill_alpha\":{\"type\":\"value\",\"value\":0.2},\"hatch_color\":{\"type\":\"field\",\"field\":\"colors\"},\"hatch_alpha\":{\"type\":\"value\",\"value\":0.2}}}}}],\"toolbar\":{\"type\":\"object\",\"name\":\"Toolbar\",\"id\":\"p2023\",\"attributes\":{\"tools\":[{\"type\":\"object\",\"name\":\"HoverTool\",\"id\":\"p2036\",\"attributes\":{\"renderers\":\"auto\",\"tooltips\":[[\"Distillery\",\"@distilleries\"],[\"Location\",\"(@x, @y)\"]]}},{\"type\":\"object\",\"name\":\"SaveTool\",\"id\":\"p2037\"}]}},\"left\":[{\"type\":\"object\",\"name\":\"LinearAxis\",\"id\":\"p2031\",\"attributes\":{\"ticker\":{\"type\":\"object\",\"name\":\"BasicTicker\",\"id\":\"p2032\",\"attributes\":{\"mantissas\":[1,2,5]}},\"formatter\":{\"type\":\"object\",\"name\":\"BasicTickFormatter\",\"id\":\"p2033\"},\"major_label_policy\":{\"type\":\"object\",\"name\":\"AllLabels\",\"id\":\"p2034\"}}}],\"above\":[{\"type\":\"object\",\"name\":\"LinearAxis\",\"id\":\"p2026\",\"attributes\":{\"ticker\":{\"type\":\"object\",\"name\":\"BasicTicker\",\"id\":\"p2027\",\"attributes\":{\"mantissas\":[1,2,5]}},\"formatter\":{\"type\":\"object\",\"name\":\"BasicTickFormatter\",\"id\":\"p2028\"},\"major_label_orientation\":1.0471975511965976,\"major_label_policy\":{\"type\":\"object\",\"name\":\"AllLabels\",\"id\":\"p2029\"}}}],\"center\":[{\"type\":\"object\",\"name\":\"Grid\",\"id\":\"p2030\",\"attributes\":{\"axis\":{\"id\":\"p2026\"}}},{\"type\":\"object\",\"name\":\"Grid\",\"id\":\"p2035\",\"attributes\":{\"dimension\":1,\"axis\":{\"id\":\"p2031\"}}}]}}]}};\n",
       "  const render_items = [{\"docid\":\"952ef356-0697-4237-b9c0-552f0025b199\",\"roots\":{\"p2014\":\"a25f5af8-ac76-4a56-a956-e0a97870e959\"},\"root_ids\":[\"p2014\"]}];\n",
       "  void root.Bokeh.embed.embed_items_notebook(docs_json, render_items);\n",
       "  }\n",
       "  if (root.Bokeh !== undefined) {\n",
       "    embed_document(root);\n",
       "  } else {\n",
       "    let attempts = 0;\n",
       "    const timer = setInterval(function(root) {\n",
       "      if (root.Bokeh !== undefined) {\n",
       "        clearInterval(timer);\n",
       "        embed_document(root);\n",
       "      } else {\n",
       "        attempts++;\n",
       "        if (attempts > 100) {\n",
       "          clearInterval(timer);\n",
       "          console.log(\"Bokeh: ERROR: Unable to run BokehJS code because BokehJS library is missing\");\n",
       "        }\n",
       "      }\n",
       "    }, 10, root)\n",
       "  }\n",
       "})(window);"
      ],
      "application/vnd.bokehjs_exec.v0+json": ""
     },
     "metadata": {
      "application/vnd.bokehjs_exec.v0+json": {
       "id": "p2014"
      }
     },
     "output_type": "display_data"
    },
    {
     "data": {
      "text/html": [
       "\n",
       "  <div id=\"aa10995f-abbd-488e-9c81-0408f7e2b768\" data-root-id=\"p2054\" style=\"display: contents;\"></div>\n"
      ]
     },
     "metadata": {},
     "output_type": "display_data"
    },
    {
     "data": {
      "application/javascript": [
       "(function(root) {\n",
       "  function embed_document(root) {\n",
       "  const docs_json = {\"5b22cca4-31c9-4509-8ac4-8f11d2906036\":{\"version\":\"3.6.1\",\"title\":\"Bokeh Application\",\"roots\":[{\"type\":\"object\",\"name\":\"Figure\",\"id\":\"p2054\",\"attributes\":{\"x_range\":{\"type\":\"object\",\"name\":\"DataRange1d\",\"id\":\"p2055\"},\"y_range\":{\"type\":\"object\",\"name\":\"DataRange1d\",\"id\":\"p2056\"},\"x_scale\":{\"type\":\"object\",\"name\":\"LinearScale\",\"id\":\"p2064\"},\"y_scale\":{\"type\":\"object\",\"name\":\"LinearScale\",\"id\":\"p2065\"},\"title\":{\"type\":\"object\",\"name\":\"Title\",\"id\":\"p2057\",\"attributes\":{\"text\":\"Whisky Locations and Groups\"}},\"renderers\":[{\"type\":\"object\",\"name\":\"GlyphRenderer\",\"id\":\"p2084\",\"attributes\":{\"data_source\":{\"type\":\"object\",\"name\":\"ColumnDataSource\",\"id\":\"p2051\",\"attributes\":{\"selected\":{\"type\":\"object\",\"name\":\"Selection\",\"id\":\"p2052\",\"attributes\":{\"indices\":[],\"line_indices\":[]}},\"selection_policy\":{\"type\":\"object\",\"name\":\"UnionRenderers\",\"id\":\"p2053\"},\"data\":{\"type\":\"map\",\"entries\":[[\"x\",{\"type\":\"ndarray\",\"array\":{\"type\":\"bytes\",\"data\":\"mmsEAFDsBACYrQUAUAAFAIgTBQA8QQUASOAEAFI6BQACAQIAXNAFAFSyAwBQ7AQAeu8EAKLXAwAS/QQAiBMFANzOBABYXQQAkAwEAAL2AgA6oAIAVFQCANjuAQBaIwUAVNYCAL5bBADi/wQAlhQFAPz5BAD4oAIAtuUEAMgUBQAszwQAUEIEAPxEBQAeAAUA8IIFABIzBQDE+gQAJrIEANIkBAASMwUAchEEAMDvBADkIQQAejoFAAqnAwCc5gQAgisCAHbHAwBG3QQATOEEAA45BADAYgUASBIFAFr7BACySwIA9gUEALjUBADYBAUAUOwEALgdAgDKbQQA3hoCAPgoAgCOJAIASC4CAOreBAASMwUAFmwFANRABABQ7AQAEjMFAKyoBQB4PgMAUOwEAFDsBACo+AQA4qAEAO7fBADMfwQAitsDABiEBAC6/wQAQjsFAHRfBAA=\"},\"shape\":[86],\"dtype\":\"int32\",\"order\":\"little\"}],[\"y\",{\"type\":\"ndarray\",\"array\":{\"type\":\"bytes\",\"data\":\"8tAKAHAjDQDwIA0A9PQMAIjUDABCLAoAbKUMAOIuDQAIEQoAxqAMABR1CABwIw0ADBkNAKz7DADm/QwAiNQMANiYDAB4/QwAAEMNAN7qCQDSeQkAoC0KAJgXCgByfw4ATiQLAHwKCwAS9QwAqtAMAAIfDABueQkAEMoMAGzSDACQvQwAvqgMAGxmDwDA4gwAguQMAO/yDABK2wwAIp8MAIK0CgDv8gwAekENADLVDAAKhA0ARPoMANhjCgD+mgwAkkUKAGJDCgBS3QwAcCgNAPp6DQCYzgwAIM4MABjWDAB+hQsAdvsLABLDDAB45AwAcCMNACjYCQAmzA0AGrEMAEzcCQBi2gkAWDkKACDYDADv8gwA1KYMAFg3DABwIw0A7/IMACTLCwAe1gsAcCMNAHAjDQDw0AwA1hwNAGLXDABMjwsA/moKALSQCwCi9gwAImUPAHBwCwA=\"},\"shape\":[86],\"dtype\":\"int32\",\"order\":\"little\"}],[\"colors\",[\"#0173b2\",\"#0173b2\",\"#0173b2\",\"#0173b2\",\"#0173b2\",\"#0173b2\",\"#0173b2\",\"#0173b2\",\"#0173b2\",\"#0173b2\",\"#0173b2\",\"#0173b2\",\"#0173b2\",\"#0173b2\",\"#0173b2\",\"#0173b2\",\"#0173b2\",\"#0173b2\",\"#0173b2\",\"#0173b2\",\"#de8f05\",\"#de8f05\",\"#de8f05\",\"#de8f05\",\"#de8f05\",\"#029e73\",\"#029e73\",\"#029e73\",\"#029e73\",\"#029e73\",\"#029e73\",\"#029e73\",\"#029e73\",\"#029e73\",\"#029e73\",\"#029e73\",\"#029e73\",\"#029e73\",\"#029e73\",\"#029e73\",\"#029e73\",\"#029e73\",\"#029e73\",\"#029e73\",\"#d55e00\",\"#d55e00\",\"#d55e00\",\"#d55e00\",\"#d55e00\",\"#d55e00\",\"#d55e00\",\"#d55e00\",\"#d55e00\",\"#d55e00\",\"#d55e00\",\"#d55e00\",\"#d55e00\",\"#d55e00\",\"#d55e00\",\"#d55e00\",\"#d55e00\",\"#cc78bc\",\"#cc78bc\",\"#cc78bc\",\"#cc78bc\",\"#cc78bc\",\"#cc78bc\",\"#ca9161\",\"#ca9161\",\"#ca9161\",\"#ca9161\",\"#ca9161\",\"#ca9161\",\"#ca9161\",\"#ca9161\",\"#ca9161\",\"#ca9161\",\"#ca9161\",\"#ca9161\",\"#ca9161\",\"#ca9161\",\"#ca9161\",\"#ca9161\",\"#ca9161\",\"#ca9161\",\"#ca9161\"]],[\"regions\",{\"type\":\"ndarray\",\"array\":[\"Highlands\",\"Speyside\",\"Speyside\",\"Speyside\",\"Speyside\",\"Lowlands\",\"Speyside\",\"Speyside\",\"Islay\",\"Highlands\",\"Lowlands\",\"Speyside\",\"Speyside\",\"Highlands\",\"Speyside\",\"Speyside\",\"Speyside\",\"Speyside\",\"Highlands\",\"Islands\",\"Campbelltown\",\"Islands\",\"Islay\",\"Highlands\",\"Highlands\",\"Highlands\",\"Speyside\",\"Speyside\",\"Highlands\",\"Campbelltown\",\"Speyside\",\"Speyside\",\"Speyside\",\"Highlands\",\"Islands\",\"Speyside\",\"Highlands\",\"Speyside\",\"Speyside\",\"Speyside\",\"Highlands\",\"Speyside\",\"Highlands\",\"Speyside\",\"Highlands\",\"Speyside\",\"Highlands\",\"Speyside\",\"Islay\",\"Lowlands\",\"Speyside\",\"Speyside\",\"Highlands\",\"Highlands\",\"Speyside\",\"Speyside\",\"Islands\",\"Highlands\",\"Speyside\",\"Speyside\",\"Speyside\",\"Islay\",\"Highlands\",\"Islands\",\"Islay\",\"Islay\",\"Islay\",\"Speyside\",\"Speyside\",\"Highlands\",\"Speyside\",\"Speyside\",\"Speyside\",\"Highlands\",\"Highlands\",\"Speyside\",\"Speyside\",\"Speyside\",\"Speyside\",\"Speyside\",\"Highlands\",\"Highlands\",\"Highlands\",\"Speyside\",\"Islands\",\"Highlands\"],\"shape\":[86],\"dtype\":\"object\",\"order\":\"little\"}],[\"distilleries\",{\"type\":\"ndarray\",\"array\":[\"Tullibardine\",\"GlenElgin\",\"GlenDeveronMacduff\",\"GlenSpey\",\"Glenfiddich\",\"Glenkinchie\",\"Glenlivet\",\"Inchgower\",\"Bowmore\",\"GlenGarioch\",\"Bladnoch\",\"Linkwood\",\"Benriach\",\"GlenOrd\",\"Speyburn\",\"Belvenie\",\"Tomintoul\",\"RoyalBrackla\",\"Teaninich\",\"ArranIsleOf\",\"GlenScotia\",\"Isle of Jura\",\"Bruichladdich\",\"OldPulteney\",\"Oban\",\"Glenturret\",\"Glenrothes\",\"Mortlach\",\"RoyalLochnagar\",\"Springbank\",\"Glenfarclas\",\"Glendullan\",\"Tormore\",\"Tomatin\",\"Highland Park\",\"Macallan\",\"Glendronach\",\"Auchroisk\",\"Aberlour\",\"Balmenach\",\"Deanston\",\"GlenKeith\",\"Dalmore\",\"Dailuaine\",\"Balblair\",\"Strathmill\",\"Loch Lomond\",\"Tamnavulin\",\"Bunnahabhain\",\"Auchentoshan\",\"Cardhu\",\"GlenMoray\",\"Glenmorangie\",\"AnCnoc\",\"Dufftown\",\"Glenallachie\",\"Tobermory\",\"Dalwhinnie\",\"Craigganmore\",\"Craigallechie\",\"Glenlossie\",\"Laphroig\",\"Clynelish\",\"Talisker\",\"Ardbeg\",\"Lagavulin\",\"Caol Ila\",\"Tamdhu\",\"Strathisla\",\"Ardmore\",\"Speyside\",\"Longmorn\",\"Aultmore\",\"OldFettercairn\",\"BenNevis\",\"Miltonduff\",\"Mannochmore\",\"Benrinnes\",\"Benromach\",\"Knochando\",\"BlairAthol\",\"Glengoyne\",\"Edradour\",\"GlenGrant\",\"Scapa\",\"Aberfeldy\"],\"shape\":[86],\"dtype\":\"object\",\"order\":\"little\"}]]}}},\"view\":{\"type\":\"object\",\"name\":\"CDSView\",\"id\":\"p2085\",\"attributes\":{\"filter\":{\"type\":\"object\",\"name\":\"AllIndices\",\"id\":\"p2086\"}}},\"glyph\":{\"type\":\"object\",\"name\":\"Scatter\",\"id\":\"p2081\",\"attributes\":{\"x\":{\"type\":\"field\",\"field\":\"x\"},\"y\":{\"type\":\"field\",\"field\":\"y\"},\"size\":{\"type\":\"value\",\"value\":9},\"line_color\":{\"type\":\"value\",\"value\":null},\"fill_color\":{\"type\":\"field\",\"field\":\"colors\"},\"hatch_color\":{\"type\":\"field\",\"field\":\"colors\"}}},\"nonselection_glyph\":{\"type\":\"object\",\"name\":\"Scatter\",\"id\":\"p2082\",\"attributes\":{\"x\":{\"type\":\"field\",\"field\":\"x\"},\"y\":{\"type\":\"field\",\"field\":\"y\"},\"size\":{\"type\":\"value\",\"value\":9},\"line_color\":{\"type\":\"value\",\"value\":null},\"line_alpha\":{\"type\":\"value\",\"value\":0.1},\"fill_color\":{\"type\":\"field\",\"field\":\"colors\"},\"fill_alpha\":{\"type\":\"value\",\"value\":0.1},\"hatch_color\":{\"type\":\"field\",\"field\":\"colors\"},\"hatch_alpha\":{\"type\":\"value\",\"value\":0.1}}},\"muted_glyph\":{\"type\":\"object\",\"name\":\"Scatter\",\"id\":\"p2083\",\"attributes\":{\"x\":{\"type\":\"field\",\"field\":\"x\"},\"y\":{\"type\":\"field\",\"field\":\"y\"},\"size\":{\"type\":\"value\",\"value\":9},\"line_color\":{\"type\":\"value\",\"value\":null},\"line_alpha\":{\"type\":\"value\",\"value\":0.2},\"fill_color\":{\"type\":\"field\",\"field\":\"colors\"},\"fill_alpha\":{\"type\":\"value\",\"value\":0.2},\"hatch_color\":{\"type\":\"field\",\"field\":\"colors\"},\"hatch_alpha\":{\"type\":\"value\",\"value\":0.2}}}}}],\"toolbar\":{\"type\":\"object\",\"name\":\"Toolbar\",\"id\":\"p2063\",\"attributes\":{\"tools\":[{\"type\":\"object\",\"name\":\"HoverTool\",\"id\":\"p2076\",\"attributes\":{\"renderers\":\"auto\",\"tooltips\":[[\"Distillery\",\"@distilleries\"],[\"Location\",\"(@x, @y)\"]]}},{\"type\":\"object\",\"name\":\"SaveTool\",\"id\":\"p2077\"}]}},\"left\":[{\"type\":\"object\",\"name\":\"LinearAxis\",\"id\":\"p2071\",\"attributes\":{\"ticker\":{\"type\":\"object\",\"name\":\"BasicTicker\",\"id\":\"p2072\",\"attributes\":{\"mantissas\":[1,2,5]}},\"formatter\":{\"type\":\"object\",\"name\":\"BasicTickFormatter\",\"id\":\"p2073\"},\"major_label_policy\":{\"type\":\"object\",\"name\":\"AllLabels\",\"id\":\"p2074\"}}}],\"above\":[{\"type\":\"object\",\"name\":\"LinearAxis\",\"id\":\"p2066\",\"attributes\":{\"ticker\":{\"type\":\"object\",\"name\":\"BasicTicker\",\"id\":\"p2067\",\"attributes\":{\"mantissas\":[1,2,5]}},\"formatter\":{\"type\":\"object\",\"name\":\"BasicTickFormatter\",\"id\":\"p2068\"},\"major_label_orientation\":1.0471975511965976,\"major_label_policy\":{\"type\":\"object\",\"name\":\"AllLabels\",\"id\":\"p2069\"}}}],\"center\":[{\"type\":\"object\",\"name\":\"Grid\",\"id\":\"p2070\",\"attributes\":{\"axis\":{\"id\":\"p2066\"}}},{\"type\":\"object\",\"name\":\"Grid\",\"id\":\"p2075\",\"attributes\":{\"dimension\":1,\"axis\":{\"id\":\"p2071\"}}}]}}]}};\n",
       "  const render_items = [{\"docid\":\"5b22cca4-31c9-4509-8ac4-8f11d2906036\",\"roots\":{\"p2054\":\"aa10995f-abbd-488e-9c81-0408f7e2b768\"},\"root_ids\":[\"p2054\"]}];\n",
       "  void root.Bokeh.embed.embed_items_notebook(docs_json, render_items);\n",
       "  }\n",
       "  if (root.Bokeh !== undefined) {\n",
       "    embed_document(root);\n",
       "  } else {\n",
       "    let attempts = 0;\n",
       "    const timer = setInterval(function(root) {\n",
       "      if (root.Bokeh !== undefined) {\n",
       "        clearInterval(timer);\n",
       "        embed_document(root);\n",
       "      } else {\n",
       "        attempts++;\n",
       "        if (attempts > 100) {\n",
       "          clearInterval(timer);\n",
       "          console.log(\"Bokeh: ERROR: Unable to run BokehJS code because BokehJS library is missing\");\n",
       "        }\n",
       "      }\n",
       "    }, 10, root)\n",
       "  }\n",
       "})(window);"
      ],
      "application/vnd.bokehjs_exec.v0+json": ""
     },
     "metadata": {
      "application/vnd.bokehjs_exec.v0+json": {
       "id": "p2054"
      }
     },
     "output_type": "display_data"
    }
   ],
   "source": [
    "region_cols = [region_colors[i] for i in list(whisky.Region)] # I edited this part\n",
    "classification_cols = [cluster_colors[i] for i in list(whisky.Group)] # I edited this part\n",
    "\n",
    "location_plot(\"Whisky Locations and Regions\", region_cols)\n",
    "location_plot(\"Whisky Locations and Groups\", classification_cols)"
   ]
  },
  {
   "cell_type": "markdown",
   "id": "156bae58",
   "metadata": {},
   "source": [
    "## Case Study 3: Patterns for Flight of Birds\n",
    "\n",
    "In this case study, we will continue taking a look at patterns of flight for each of the three birds in our dataset."
   ]
  },
  {
   "cell_type": "code",
   "execution_count": 55,
   "id": "cde08957",
   "metadata": {},
   "outputs": [
    {
     "data": {
      "text/html": [
       "<div>\n",
       "<style scoped>\n",
       "    .dataframe tbody tr th:only-of-type {\n",
       "        vertical-align: middle;\n",
       "    }\n",
       "\n",
       "    .dataframe tbody tr th {\n",
       "        vertical-align: top;\n",
       "    }\n",
       "\n",
       "    .dataframe thead th {\n",
       "        text-align: right;\n",
       "    }\n",
       "</style>\n",
       "<table border=\"1\" class=\"dataframe\">\n",
       "  <thead>\n",
       "    <tr style=\"text-align: right;\">\n",
       "      <th></th>\n",
       "      <th>altitude</th>\n",
       "      <th>date_time</th>\n",
       "      <th>device_info_serial</th>\n",
       "      <th>direction</th>\n",
       "      <th>latitude</th>\n",
       "      <th>longitude</th>\n",
       "      <th>speed_2d</th>\n",
       "      <th>bird_name</th>\n",
       "    </tr>\n",
       "  </thead>\n",
       "  <tbody>\n",
       "    <tr>\n",
       "      <th>0</th>\n",
       "      <td>71</td>\n",
       "      <td>2013-08-15 00:18:08+00</td>\n",
       "      <td>851</td>\n",
       "      <td>-150.469753</td>\n",
       "      <td>49.419860</td>\n",
       "      <td>2.120733</td>\n",
       "      <td>0.150000</td>\n",
       "      <td>Eric</td>\n",
       "    </tr>\n",
       "    <tr>\n",
       "      <th>1</th>\n",
       "      <td>68</td>\n",
       "      <td>2013-08-15 00:48:07+00</td>\n",
       "      <td>851</td>\n",
       "      <td>-136.151141</td>\n",
       "      <td>49.419880</td>\n",
       "      <td>2.120746</td>\n",
       "      <td>2.438360</td>\n",
       "      <td>Eric</td>\n",
       "    </tr>\n",
       "    <tr>\n",
       "      <th>2</th>\n",
       "      <td>68</td>\n",
       "      <td>2013-08-15 01:17:58+00</td>\n",
       "      <td>851</td>\n",
       "      <td>160.797477</td>\n",
       "      <td>49.420310</td>\n",
       "      <td>2.120885</td>\n",
       "      <td>0.596657</td>\n",
       "      <td>Eric</td>\n",
       "    </tr>\n",
       "    <tr>\n",
       "      <th>3</th>\n",
       "      <td>73</td>\n",
       "      <td>2013-08-15 01:47:51+00</td>\n",
       "      <td>851</td>\n",
       "      <td>32.769360</td>\n",
       "      <td>49.420359</td>\n",
       "      <td>2.120859</td>\n",
       "      <td>0.310161</td>\n",
       "      <td>Eric</td>\n",
       "    </tr>\n",
       "    <tr>\n",
       "      <th>4</th>\n",
       "      <td>69</td>\n",
       "      <td>2013-08-15 02:17:42+00</td>\n",
       "      <td>851</td>\n",
       "      <td>45.191230</td>\n",
       "      <td>49.420331</td>\n",
       "      <td>2.120887</td>\n",
       "      <td>0.193132</td>\n",
       "      <td>Eric</td>\n",
       "    </tr>\n",
       "  </tbody>\n",
       "</table>\n",
       "</div>"
      ],
      "text/plain": [
       "   altitude               date_time  device_info_serial   direction  \\\n",
       "0        71  2013-08-15 00:18:08+00                 851 -150.469753   \n",
       "1        68  2013-08-15 00:48:07+00                 851 -136.151141   \n",
       "2        68  2013-08-15 01:17:58+00                 851  160.797477   \n",
       "3        73  2013-08-15 01:47:51+00                 851   32.769360   \n",
       "4        69  2013-08-15 02:17:42+00                 851   45.191230   \n",
       "\n",
       "    latitude  longitude  speed_2d bird_name  \n",
       "0  49.419860   2.120733  0.150000      Eric  \n",
       "1  49.419880   2.120746  2.438360      Eric  \n",
       "2  49.420310   2.120885  0.596657      Eric  \n",
       "3  49.420359   2.120859  0.310161      Eric  \n",
       "4  49.420331   2.120887  0.193132      Eric  "
      ]
     },
     "execution_count": 55,
     "metadata": {},
     "output_type": "execute_result"
    }
   ],
   "source": [
    "# DO NOT EDIT THIS CODE\n",
    "import pandas as pd\n",
    "import numpy as np\n",
    "birddata = pd.read_csv(\"https://courses.edx.org/asset-v1:HarvardX+PH526x+2T2019+type@asset+block@bird_tracking.csv\", index_col=0)\n",
    "birddata.head()"
   ]
  },
  {
   "cell_type": "markdown",
   "id": "bdbaed7b",
   "metadata": {},
   "source": [
    "### Exercise 1\n",
    "\n",
    "In this case study, we will continue taking a look at patterns of flight for each of the three birds in our dataset. We will group the flight patterns by bird and date, and plot the mean altitude for these groupings.\n",
    "\n",
    "`pandas` makes it easy to perform basic operations on groups within a dataframe without needing to loop through each value in the dataframe. In this exercise, we will group the dataframe by `birdname` and then find the average `speed_2d` for each bird.\n",
    "\n",
    "#### Instructions \n",
    "- Fill in the code to find the mean altitudes of each bird using the pre-loaded `birddata` dataframe. "
   ]
  },
  {
   "cell_type": "code",
   "execution_count": 56,
   "id": "50cebb52",
   "metadata": {},
   "outputs": [
    {
     "data": {
      "text/plain": [
       "bird_name\n",
       "Eric     2.300545\n",
       "Nico     2.908726\n",
       "Sanne    2.450434\n",
       "Name: speed_2d, dtype: float64"
      ]
     },
     "execution_count": 56,
     "metadata": {},
     "output_type": "execute_result"
    }
   ],
   "source": [
    "# First, use `groupby()` to group the data by \"bird_name\".\n",
    "grouped_birds = birddata.groupby(\"bird_name\")\n",
    "\n",
    "# Now calculate the mean of `speed_2d` using the `mean()` function.\n",
    "mean_speeds = grouped_birds.speed_2d.mean()\n",
    "\n",
    "# Find the mean `altitude` for each bird.\n",
    "mean_altitudes = grouped_birds.altitude.mean()\n",
    "\n",
    "mean_speeds"
   ]
  },
  {
   "cell_type": "markdown",
   "id": "1932df60",
   "metadata": {},
   "source": [
    "### Exercise 2\n",
    "\n",
    "In this exercise, we will group the flight times by date and calculate the mean altitude within that day.\n",
    "\n",
    "#### Instructions \n",
    "- Convert `birddata.date_time` to the `pd.datetime` format, and store as `birddata[\"date\"]`.\n",
    "- Fill in the code to find the mean altitudes for each day."
   ]
  },
  {
   "cell_type": "code",
   "execution_count": 57,
   "id": "904525c1",
   "metadata": {},
   "outputs": [
    {
     "data": {
      "text/plain": [
       "0        2013-08-15 00:18:08+00\n",
       "1        2013-08-15 00:48:07+00\n",
       "2        2013-08-15 01:17:58+00\n",
       "3        2013-08-15 01:47:51+00\n",
       "4        2013-08-15 02:17:42+00\n",
       "                  ...          \n",
       "61915    2014-04-30 22:00:08+00\n",
       "61916    2014-04-30 22:29:57+00\n",
       "61917    2014-04-30 22:59:52+00\n",
       "61918    2014-04-30 23:29:43+00\n",
       "61919    2014-04-30 23:59:34+00\n",
       "Name: date_time, Length: 61920, dtype: object"
      ]
     },
     "execution_count": 57,
     "metadata": {},
     "output_type": "execute_result"
    }
   ],
   "source": [
    "birddata.date_time"
   ]
  },
  {
   "cell_type": "code",
   "execution_count": 58,
   "id": "050c236c",
   "metadata": {},
   "outputs": [
    {
     "data": {
      "text/plain": [
       "'2013-08-15'"
      ]
     },
     "execution_count": 58,
     "metadata": {},
     "output_type": "execute_result"
    }
   ],
   "source": [
    "birddata.date_time[0][0:10]"
   ]
  },
  {
   "cell_type": "code",
   "execution_count": 59,
   "id": "6c134ebb",
   "metadata": {},
   "outputs": [
    {
     "data": {
      "text/plain": [
       "date\n",
       "2013-08-15    134.092000\n",
       "2013-08-16    134.839506\n",
       "2013-08-17    147.439024\n",
       "2013-08-18    129.608163\n",
       "2013-08-19    180.174797\n",
       "                 ...    \n",
       "2014-04-26     15.118012\n",
       "2014-04-27     23.897297\n",
       "2014-04-28     37.716867\n",
       "2014-04-29     19.244792\n",
       "2014-04-30     13.954545\n",
       "Name: altitude, Length: 259, dtype: float64"
      ]
     },
     "execution_count": 59,
     "metadata": {},
     "output_type": "execute_result"
    }
   ],
   "source": [
    "# Convert birddata.date_time to the `pd.datetime` format.\n",
    "birddata.date_time = pd.to_datetime(birddata.date_time)\n",
    "\n",
    "# Create a new column of day of observation\n",
    "birddata[\"date\"] = birddata.date_time.dt.date\n",
    "\n",
    "# Use `groupby()` to group the data by date.\n",
    "grouped_bydates = birddata.groupby(\"date\")\n",
    "\n",
    "# Find the mean `altitude` for each date.\n",
    "mean_altitudes_perday = grouped_bydates.altitude.mean()\n",
    "\n",
    "mean_altitudes_perday"
   ]
  },
  {
   "cell_type": "markdown",
   "id": "ca0b0c6c",
   "metadata": {},
   "source": [
    "Now apply this to find mean altitude of the birds on 2013-09-12"
   ]
  },
  {
   "cell_type": "code",
   "execution_count": 69,
   "id": "3788323c",
   "metadata": {},
   "outputs": [
    {
     "name": "stdout",
     "output_type": "stream",
     "text": [
      "28 75.64609053497942\n"
     ]
    }
   ],
   "source": [
    "m_a_p = mean_altitudes_perday\n",
    "\n",
    "for i in range(len(m_a_p)):\n",
    "    if m_a_p.index[i] == pd.to_datetime('2013-09-12').date():\n",
    "        print(i, m_a_p.iloc[i])"
   ]
  },
  {
   "cell_type": "markdown",
   "id": "b7dd8357",
   "metadata": {},
   "source": [
    "### Exercise 3\n",
    "\n",
    "In this exercise, we will group the flight times by both bird and date, and calculate the mean altitude for each.\n",
    "\n",
    "#### Instructions \n",
    "- `birddata` already contains the `date` column. To find the average speed for each bird and day, create a new grouped dataframe called `grouped_birdday` that groups the data by both `bird_name` and date."
   ]
  },
  {
   "cell_type": "code",
   "execution_count": 70,
   "id": "a394f338",
   "metadata": {},
   "outputs": [
    {
     "data": {
      "text/plain": [
       "date\n",
       "2013-08-15     74.988095\n",
       "2013-08-16    127.773810\n",
       "2013-08-17    125.890244\n",
       "2013-08-18    121.353659\n",
       "2013-08-19    134.928571\n",
       "                 ...    \n",
       "2014-04-26     20.717391\n",
       "2014-04-27     48.790698\n",
       "2014-04-28     27.829787\n",
       "2014-04-29     17.425532\n",
       "2014-04-30     38.791667\n",
       "Name: altitude, Length: 252, dtype: float64"
      ]
     },
     "execution_count": 70,
     "metadata": {},
     "output_type": "execute_result"
    }
   ],
   "source": [
    "# Use `groupby()` to group the data by bird and date.\n",
    "grouped_birdday = birddata.groupby([\"bird_name\",\"date\"])\n",
    "\n",
    "# Find the mean `altitude` for each bird and date.\n",
    "mean_altitudes_perday = grouped_birdday.altitude.mean()\n",
    "\n",
    "mean_altitudes_perday[\"Eric\"]"
   ]
  },
  {
   "cell_type": "markdown",
   "id": "2640ba85",
   "metadata": {},
   "source": [
    "### Exercise 4\n",
    "\n",
    "Great! Now find the average speed for each bird and day.\n",
    "\n",
    "#### Instructions \n",
    "\n",
    "- Store these are three `pandas` `Series` objects, one for each bird.\n",
    "- Use the plotting code provided to plot the average speeds for each bird."
   ]
  },
  {
   "cell_type": "code",
   "execution_count": 71,
   "id": "990cbba0",
   "metadata": {},
   "outputs": [
    {
     "data": {
      "image/png": "[encoded data removed]",
      "text/plain": [
       "<Figure size 1000x400 with 1 Axes>"
      ]
     },
     "metadata": {},
     "output_type": "display_data"
    }
   ],
   "source": [
    "import matplotlib.pyplot as plt\n",
    "\n",
    "grouped_birdday.altitude.mean()\n",
    "\n",
    "eric_daily_speed  = grouped_birdday.speed_2d.mean()[\"Eric\"]\n",
    "sanne_daily_speed = grouped_birdday.speed_2d.mean()[\"Sanne\"]\n",
    "nico_daily_speed  = grouped_birdday.speed_2d.mean()[\"Nico\"]\n",
    "\n",
    "plt.figure(figsize = (10,4))\n",
    "eric_daily_speed.plot(label=\"Eric\")\n",
    "sanne_daily_speed.plot(label=\"Sanne\")\n",
    "nico_daily_speed.plot(label=\"Nico\")\n",
    "plt.legend(loc=\"upper left\")\n",
    "plt.show()"
   ]
  },
  {
   "cell_type": "code",
   "execution_count": 73,
   "id": "a13c1437",
   "metadata": {},
   "outputs": [
    {
     "data": {
      "text/plain": [
       "2.8324654508684053"
      ]
     },
     "execution_count": 73,
     "metadata": {},
     "output_type": "execute_result"
    }
   ],
   "source": [
    "nico_daily_speed.iloc[232]"
   ]
  },
  {
   "cell_type": "code",
   "execution_count": 74,
   "id": "312440ba",
   "metadata": {},
   "outputs": [
    {
     "name": "stdout",
     "output_type": "stream",
     "text": [
      "2013-08-15\n"
     ]
    },
    {
     "data": {
      "text/plain": [
       "True"
      ]
     },
     "execution_count": 74,
     "metadata": {},
     "output_type": "execute_result"
    }
   ],
   "source": [
    "print(nico_daily_speed.index[0])\n",
    "\n",
    "key = pd.to_datetime('2013-08-15').date()\n",
    "nico_daily_speed.index[0] == key"
   ]
  },
  {
   "cell_type": "code",
   "execution_count": 76,
   "id": "c89ad145",
   "metadata": {},
   "outputs": [
    {
     "name": "stdout",
     "output_type": "stream",
     "text": [
      "232 2.8324654508684053\n"
     ]
    }
   ],
   "source": [
    "for i in range(len(nico_daily_speed)):\n",
    "    if nico_daily_speed.index[i] == pd.to_datetime('2014-04-04').date():\n",
    "        print(i, nico_daily_speed.iloc[i])"
   ]
  },
  {
   "cell_type": "markdown",
   "id": "f482ad93",
   "metadata": {},
   "source": [
    "## Case Study 4: Homophily, Networks, and Nodes\n",
    "\n",
    "**Homophily** is a property of networks.  Homophily occurs when nodes that are neighbors in a network also share a characteristic more often than nodes that are not network neighbors.  In this case study, we will investigate homophily of several characteristics of individuals connected in social networks in rural India."
   ]
  },
  {
   "cell_type": "markdown",
   "id": "cea98fbe",
   "metadata": {},
   "source": [
    "### Exercise 1\n",
    "In Exercise 1, we will calculate the chance homophily for an arbitrary characteristic. Homophily is the proportion of edges in the network whose constituent nodes share that characteristic.\n",
    "\n",
    "How much homophily do we expect by chance? If characteristics are distributed completely randomly, the probability that two nodes \\(x\\) and \\(y\\) share characteristic \\(a\\) is the probability both nodes have characteristic \\(a\\) , which is the marginal probability of \\(a\\) squared. The total probability that nodes \\(x\\) and \\(y\\) share their characteristic is therefore the sum of the square of the marginal probabilities of each characteristic in the network.\n",
    "\n",
    "<strong>Instructions</strong>\n",
    "<ul><li>Create a function <code>marginal_prob</code> that takes a dictionary <code>chars</code> with personal IDs as keys and characteristics as values; it should return a dictionary with characteristics as keys and their marginal probability (frequency of occurence of a characteristic divided by the sum of frequencies of each characteristic) as values.</li>\n",
    "<li>Create a function <code>chance_homophily(chars)</code> that takes a dictionary <code>chars</code> defined as above and computes the chance homophily (homophily due to chance alone) for that characteristic.</li>\n",
    "<li>A sample of three peoples' favorite colors is given in <code>favorite_colors</code>. Use your function to compute the chance homophily in this group, and store it as <code>color_homophily</code>.</li>\n",
    "<li>Print <code>color_homophily</code>.</li></ul>"
   ]
  },
  {
   "cell_type": "code",
   "execution_count": 77,
   "id": "5b3e2819",
   "metadata": {},
   "outputs": [
    {
     "name": "stdout",
     "output_type": "stream",
     "text": [
      "0.5555555555555556\n"
     ]
    }
   ],
   "source": [
    "from collections import Counter\n",
    "import numpy as np\n",
    "\n",
    "def marginal_prob(chars):\n",
    "    \"\"\"\n",
    "    Returns a dictionary, where keys are characteristics in\n",
    "    chars and values are marginal probabilities for each characteristics\n",
    "    \"\"\"\n",
    "    # keys: personal IDS, values: characteristics\n",
    "    string = \"\"\n",
    "    for characteristic in chars.values():\n",
    "        string = string + str(characteristic) + \" \"\n",
    "    string = string[:-1] # because there is empty space at the end\n",
    "    freq_dict = Counter(string.split(\" \"))\n",
    "    \n",
    "    sum_freq = sum(freq_dict.values())\n",
    "    new_dict = {}\n",
    "    for characteristic in chars.values():\n",
    "        new_dict[characteristic] = freq_dict[characteristic]/sum_freq\n",
    "\n",
    "    return new_dict\n",
    "  \n",
    "def chance_homophily(chars):\n",
    "    new_dict = {}\n",
    "    for characteristic in chars.values():\n",
    "        new_dict[characteristic] = np.square(marginal_prob(chars)[characteristic])\n",
    "    \n",
    "    return sum(new_dict.values())\n",
    "\n",
    "\n",
    "favorite_colors = {\n",
    "    \"ankit\":  \"red\",\n",
    "    \"xiaoyu\": \"blue\",\n",
    "    \"mary\":   \"blue\"\n",
    "}\n",
    "\n",
    "color_homophily = chance_homophily(favorite_colors)\n",
    "print(color_homophily)"
   ]
  },
  {
   "cell_type": "code",
   "execution_count": 78,
   "id": "b74e02fd",
   "metadata": {},
   "outputs": [
    {
     "name": "stdout",
     "output_type": "stream",
     "text": [
      "0.5555555555555556\n"
     ]
    }
   ],
   "source": [
    "# The course offers a much simpler algorithm\n",
    "\n",
    "from collections import Counter\n",
    "import numpy as np\n",
    "\n",
    "def marginal_prob(chars):\n",
    "    frequencies = dict(Counter(chars.values()))\n",
    "    sum_frequencies = sum(frequencies.values())\n",
    "    return {char: freq / sum_frequencies for char, freq in frequencies.items()}\n",
    "                \n",
    "def chance_homophily(chars):\n",
    "    marginal_probs = marginal_prob(chars)\n",
    "    return np.sum(np.square(list(marginal_probs.values())))\n",
    "\n",
    "favorite_colors = {\n",
    "    \"ankit\":  \"red\",\n",
    "    \"xiaoyu\": \"blue\",\n",
    "    \"mary\":   \"blue\"\n",
    "}\n",
    "\n",
    "color_homophily = chance_homophily(favorite_colors)\n",
    "print(color_homophily)"
   ]
  },
  {
   "cell_type": "markdown",
   "id": "2f5e0ec3",
   "metadata": {},
   "source": [
    "### Exercise 2\n",
    "\n",
    "In the remaining exercises, we will calculate actual homophily in these village and compare the obtained values to those obtained by chance. In this exercise, we subset the data into individual villages and store them.\n",
    "\n",
    "#### Instructions \n",
    "\n",
    "- `individual_characteristics.dta` contains several characteristics for each individual in the dataset such as age, religion, and caste. Use the `pandas` library to read in and store these characteristics as a dataframe called `df`.\n",
    "- Store separate datasets for individuals belonging to Villages 1 and 2 as `df1` and `df2`, respectively.\n",
    "- Note that some attributes may be missing for some individuals. In this case study, we will ignore rows of data where some column information is missing.\n",
    "- Use the head method to display the first few entries of `df1`."
   ]
  },
  {
   "cell_type": "code",
   "execution_count": 79,
   "id": "333d3157",
   "metadata": {},
   "outputs": [
    {
     "data": {
      "text/html": [
       "<div>\n",
       "<style scoped>\n",
       "    .dataframe tbody tr th:only-of-type {\n",
       "        vertical-align: middle;\n",
       "    }\n",
       "\n",
       "    .dataframe tbody tr th {\n",
       "        vertical-align: top;\n",
       "    }\n",
       "\n",
       "    .dataframe thead th {\n",
       "        text-align: right;\n",
       "    }\n",
       "</style>\n",
       "<table border=\"1\" class=\"dataframe\">\n",
       "  <thead>\n",
       "    <tr style=\"text-align: right;\">\n",
       "      <th></th>\n",
       "      <th>village</th>\n",
       "      <th>adjmatrix_key</th>\n",
       "      <th>pid</th>\n",
       "      <th>hhid</th>\n",
       "      <th>resp_id</th>\n",
       "      <th>resp_gend</th>\n",
       "      <th>resp_status</th>\n",
       "      <th>age</th>\n",
       "      <th>religion</th>\n",
       "      <th>caste</th>\n",
       "      <th>...</th>\n",
       "      <th>privategovt</th>\n",
       "      <th>work_outside</th>\n",
       "      <th>work_outside_freq</th>\n",
       "      <th>shgparticipate</th>\n",
       "      <th>shg_no</th>\n",
       "      <th>savings</th>\n",
       "      <th>savings_no</th>\n",
       "      <th>electioncard</th>\n",
       "      <th>rationcard</th>\n",
       "      <th>rationcard_colour</th>\n",
       "    </tr>\n",
       "  </thead>\n",
       "  <tbody>\n",
       "    <tr>\n",
       "      <th>0</th>\n",
       "      <td>1</td>\n",
       "      <td>5</td>\n",
       "      <td>100201</td>\n",
       "      <td>1002</td>\n",
       "      <td>1</td>\n",
       "      <td>1</td>\n",
       "      <td>Head of Household</td>\n",
       "      <td>38</td>\n",
       "      <td>HINDUISM</td>\n",
       "      <td>OBC</td>\n",
       "      <td>...</td>\n",
       "      <td>PRIVATE BUSINESS</td>\n",
       "      <td>Yes</td>\n",
       "      <td>0.0</td>\n",
       "      <td>No</td>\n",
       "      <td>NaN</td>\n",
       "      <td>No</td>\n",
       "      <td>NaN</td>\n",
       "      <td>Yes</td>\n",
       "      <td>Yes</td>\n",
       "      <td>GREEN</td>\n",
       "    </tr>\n",
       "    <tr>\n",
       "      <th>1</th>\n",
       "      <td>1</td>\n",
       "      <td>6</td>\n",
       "      <td>100202</td>\n",
       "      <td>1002</td>\n",
       "      <td>2</td>\n",
       "      <td>2</td>\n",
       "      <td>Spouse of Head of Household</td>\n",
       "      <td>27</td>\n",
       "      <td>HINDUISM</td>\n",
       "      <td>OBC</td>\n",
       "      <td>...</td>\n",
       "      <td>NaN</td>\n",
       "      <td>NaN</td>\n",
       "      <td>NaN</td>\n",
       "      <td>No</td>\n",
       "      <td>NaN</td>\n",
       "      <td>No</td>\n",
       "      <td>NaN</td>\n",
       "      <td>Yes</td>\n",
       "      <td>Yes</td>\n",
       "      <td>GREEN</td>\n",
       "    </tr>\n",
       "    <tr>\n",
       "      <th>2</th>\n",
       "      <td>1</td>\n",
       "      <td>23</td>\n",
       "      <td>100601</td>\n",
       "      <td>1006</td>\n",
       "      <td>1</td>\n",
       "      <td>1</td>\n",
       "      <td>Head of Household</td>\n",
       "      <td>29</td>\n",
       "      <td>HINDUISM</td>\n",
       "      <td>OBC</td>\n",
       "      <td>...</td>\n",
       "      <td>OTHER LAND</td>\n",
       "      <td>No</td>\n",
       "      <td>NaN</td>\n",
       "      <td>No</td>\n",
       "      <td>NaN</td>\n",
       "      <td>No</td>\n",
       "      <td>NaN</td>\n",
       "      <td>Yes</td>\n",
       "      <td>Yes</td>\n",
       "      <td>GREEN</td>\n",
       "    </tr>\n",
       "    <tr>\n",
       "      <th>3</th>\n",
       "      <td>1</td>\n",
       "      <td>24</td>\n",
       "      <td>100602</td>\n",
       "      <td>1006</td>\n",
       "      <td>2</td>\n",
       "      <td>2</td>\n",
       "      <td>Spouse of Head of Household</td>\n",
       "      <td>24</td>\n",
       "      <td>HINDUISM</td>\n",
       "      <td>OBC</td>\n",
       "      <td>...</td>\n",
       "      <td>PRIVATE BUSINESS</td>\n",
       "      <td>No</td>\n",
       "      <td>NaN</td>\n",
       "      <td>Yes</td>\n",
       "      <td>1.0</td>\n",
       "      <td>Yes</td>\n",
       "      <td>1.0</td>\n",
       "      <td>Yes</td>\n",
       "      <td>No</td>\n",
       "      <td>NaN</td>\n",
       "    </tr>\n",
       "    <tr>\n",
       "      <th>4</th>\n",
       "      <td>1</td>\n",
       "      <td>27</td>\n",
       "      <td>100701</td>\n",
       "      <td>1007</td>\n",
       "      <td>1</td>\n",
       "      <td>1</td>\n",
       "      <td>Head of Household</td>\n",
       "      <td>58</td>\n",
       "      <td>HINDUISM</td>\n",
       "      <td>OBC</td>\n",
       "      <td>...</td>\n",
       "      <td>OTHER LAND</td>\n",
       "      <td>No</td>\n",
       "      <td>NaN</td>\n",
       "      <td>No</td>\n",
       "      <td>NaN</td>\n",
       "      <td>No</td>\n",
       "      <td>NaN</td>\n",
       "      <td>Yes</td>\n",
       "      <td>Yes</td>\n",
       "      <td>GREEN</td>\n",
       "    </tr>\n",
       "  </tbody>\n",
       "</table>\n",
       "<p>5 rows × 48 columns</p>\n",
       "</div>"
      ],
      "text/plain": [
       "   village  adjmatrix_key     pid  hhid  resp_id  resp_gend  \\\n",
       "0        1              5  100201  1002        1          1   \n",
       "1        1              6  100202  1002        2          2   \n",
       "2        1             23  100601  1006        1          1   \n",
       "3        1             24  100602  1006        2          2   \n",
       "4        1             27  100701  1007        1          1   \n",
       "\n",
       "                   resp_status  age  religion caste  ...       privategovt  \\\n",
       "0            Head of Household   38  HINDUISM   OBC  ...  PRIVATE BUSINESS   \n",
       "1  Spouse of Head of Household   27  HINDUISM   OBC  ...               NaN   \n",
       "2            Head of Household   29  HINDUISM   OBC  ...        OTHER LAND   \n",
       "3  Spouse of Head of Household   24  HINDUISM   OBC  ...  PRIVATE BUSINESS   \n",
       "4            Head of Household   58  HINDUISM   OBC  ...        OTHER LAND   \n",
       "\n",
       "  work_outside work_outside_freq shgparticipate shg_no savings savings_no  \\\n",
       "0          Yes               0.0             No    NaN      No        NaN   \n",
       "1          NaN               NaN             No    NaN      No        NaN   \n",
       "2           No               NaN             No    NaN      No        NaN   \n",
       "3           No               NaN            Yes    1.0     Yes        1.0   \n",
       "4           No               NaN             No    NaN      No        NaN   \n",
       "\n",
       "  electioncard rationcard rationcard_colour  \n",
       "0          Yes        Yes             GREEN  \n",
       "1          Yes        Yes             GREEN  \n",
       "2          Yes        Yes             GREEN  \n",
       "3          Yes         No               NaN  \n",
       "4          Yes        Yes             GREEN  \n",
       "\n",
       "[5 rows x 48 columns]"
      ]
     },
     "execution_count": 79,
     "metadata": {},
     "output_type": "execute_result"
    }
   ],
   "source": [
    "import pandas as pd\n",
    "\n",
    "df  = pd.read_csv(\"https://courses.edx.org/asset-v1:HarvardX+PH526x+2T2019+type@asset+block@individual_characteristics.csv\", low_memory=False, index_col=0)\n",
    "\n",
    "df1 = df[df.village == 1]\n",
    "df2 = df[df.village == 2]\n",
    "\n",
    "df1.head()"
   ]
  },
  {
   "cell_type": "markdown",
   "id": "92ee2126",
   "metadata": {},
   "source": [
    "### Exercise 3 \n",
    "\n",
    "In this exercise, we define a few dictionaries that enable us to look up the sex, caste, and religion of members of each village by personal ID. For Villages 1 and 2, their personal IDs are stored as `pid`.\n",
    "\n",
    "#### Instructions \n",
    "- Define dictionaries with personal IDs as keys and a given covariate for that individual as values. Complete this for the sex, caste, and religion covariates, for Villages 1 and 2.\n",
    "- For Village 1, store these dictionaries into variables named `sex1`, `caste1`, and `religion1`.\n",
    "- For Village 2, store these dictionaries into variables named `sex2`, `caste2`, and `religion2`."
   ]
  },
  {
   "cell_type": "code",
   "execution_count": 81,
   "id": "4132b9f9",
   "metadata": {},
   "outputs": [
    {
     "name": "stdout",
     "output_type": "stream",
     "text": [
      "1    HINDUISM\n",
      "Name: religion, dtype: object\n"
     ]
    }
   ],
   "source": [
    "print(df1[df1.pid == 100202].religion)"
   ]
  },
  {
   "cell_type": "code",
   "execution_count": 82,
   "id": "1aa0da51",
   "metadata": {
    "scrolled": true
   },
   "outputs": [
    {
     "name": "stdout",
     "output_type": "stream",
     "text": [
      "{100201: 0    1\n",
      "Name: resp_gend, dtype: int64, 100202: 1    2\n",
      "Name: resp_gend, dtype: int64, 100601: 2    1\n",
      "Name: resp_gend, dtype: int64, 100602: 3    2\n",
      "Name: resp_gend, dtype: int64, 100701: 4    1\n",
      "Name: resp_gend, dtype: int64, 100702: 5    2\n",
      "Name: resp_gend, dtype: int64, 100801: 6    1\n",
      "Name: resp_gend, dtype: int64, 100802: 7    2\n",
      "Name: resp_gend, dtype: int64, 100805: 8    2\n",
      "Name: resp_gend, dtype: int64, 100806: 9    1\n",
      "Name: resp_gend, dtype: int64, 100807: 10    1\n",
      "Name: resp_gend, dtype: int64, 100808: 11    2\n",
      "Name: resp_gend, dtype: int64, 101301: 12    2\n",
      "Name: resp_gend, dtype: int64, 101302: 13    2\n",
      "Name: resp_gend, dtype: int64, 101303: 14    2\n",
      "Name: resp_gend, dtype: int64, 101601: 15    1\n",
      "Name: resp_gend, dtype: int64, 101602: 16    2\n",
      "Name: resp_gend, dtype: int64, 102001: 17    1\n",
      "Name: resp_gend, dtype: int64, 102002: 18    2\n",
      "Name: resp_gend, dtype: int64, 102004: 19    2\n",
      "Name: resp_gend, dtype: int64, 102101: 20    1\n",
      "Name: resp_gend, dtype: int64, 102102: 21    2\n",
      "Name: resp_gend, dtype: int64, 102103: 22    1\n",
      "Name: resp_gend, dtype: int64, 102104: 23    2\n",
      "Name: resp_gend, dtype: int64, 102401: 24    1\n",
      "Name: resp_gend, dtype: int64, 102402: 25    2\n",
      "Name: resp_gend, dtype: int64, 102901: 26    1\n",
      "Name: resp_gend, dtype: int64, 102902: 27    2\n",
      "Name: resp_gend, dtype: int64, 103101: 28    1\n",
      "Name: resp_gend, dtype: int64, 103102: 29    2\n",
      "Name: resp_gend, dtype: int64, 103104: 30    2\n",
      "Name: resp_gend, dtype: int64, 103105: 31    2\n",
      "Name: resp_gend, dtype: int64, 103201: 32    1\n",
      "Name: resp_gend, dtype: int64, 103202: 33    2\n",
      "Name: resp_gend, dtype: int64, 103301: 34    1\n",
      "Name: resp_gend, dtype: int64, 103302: 35    2\n",
      "Name: resp_gend, dtype: int64, 103501: 36    1\n",
      "Name: resp_gend, dtype: int64, 103502: 37    2\n",
      "Name: resp_gend, dtype: int64, 103701: 38    1\n",
      "Name: resp_gend, dtype: int64, 103702: 39    2\n",
      "Name: resp_gend, dtype: int64, 104001: 40    1\n",
      "Name: resp_gend, dtype: int64, 104002: 41    2\n",
      "Name: resp_gend, dtype: int64, 104101: 42    1\n",
      "Name: resp_gend, dtype: int64, 104102: 43    2\n",
      "Name: resp_gend, dtype: int64, 104201: 44    1\n",
      "Name: resp_gend, dtype: int64, 104202: 45    2\n",
      "Name: resp_gend, dtype: int64, 104301: 46    1\n",
      "Name: resp_gend, dtype: int64, 104302: 47    2\n",
      "Name: resp_gend, dtype: int64, 104801: 48    1\n",
      "Name: resp_gend, dtype: int64, 104802: 49    2\n",
      "Name: resp_gend, dtype: int64, 104901: 50    1\n",
      "Name: resp_gend, dtype: int64, 104902: 51    2\n",
      "Name: resp_gend, dtype: int64, 105201: 52    1\n",
      "Name: resp_gend, dtype: int64, 105301: 53    1\n",
      "Name: resp_gend, dtype: int64, 105302: 54    2\n",
      "Name: resp_gend, dtype: int64, 105303: 55    1\n",
      "Name: resp_gend, dtype: int64, 105304: 56    2\n",
      "Name: resp_gend, dtype: int64, 105401: 57    1\n",
      "Name: resp_gend, dtype: int64, 105402: 58    2\n",
      "Name: resp_gend, dtype: int64, 105404: 59    2\n",
      "Name: resp_gend, dtype: int64, 105802: 60    2\n",
      "Name: resp_gend, dtype: int64, 105901: 61    1\n",
      "Name: resp_gend, dtype: int64, 105902: 62    2\n",
      "Name: resp_gend, dtype: int64, 106201: 63    1\n",
      "Name: resp_gend, dtype: int64, 106202: 64    2\n",
      "Name: resp_gend, dtype: int64, 106204: 65    1\n",
      "Name: resp_gend, dtype: int64, 106205: 66    2\n",
      "Name: resp_gend, dtype: int64, 106501: 67    1\n",
      "Name: resp_gend, dtype: int64, 106502: 68    1\n",
      "Name: resp_gend, dtype: int64, 106503: 69    2\n",
      "Name: resp_gend, dtype: int64, 106701: 70    1\n",
      "Name: resp_gend, dtype: int64, 106702: 71    2\n",
      "Name: resp_gend, dtype: int64, 106704: 72    2\n",
      "Name: resp_gend, dtype: int64, 106801: 73    1\n",
      "Name: resp_gend, dtype: int64, 106802: 74    2\n",
      "Name: resp_gend, dtype: int64, 107101: 75    1\n",
      "Name: resp_gend, dtype: int64, 107102: 76    2\n",
      "Name: resp_gend, dtype: int64, 107301: 77    1\n",
      "Name: resp_gend, dtype: int64, 107302: 78    2\n",
      "Name: resp_gend, dtype: int64, 107303: 79    1\n",
      "Name: resp_gend, dtype: int64, 107304: 80    2\n",
      "Name: resp_gend, dtype: int64, 107307: 81    1\n",
      "Name: resp_gend, dtype: int64, 107308: 82    2\n",
      "Name: resp_gend, dtype: int64, 107401: 83    1\n",
      "Name: resp_gend, dtype: int64, 107402: 84    2\n",
      "Name: resp_gend, dtype: int64, 107802: 85    2\n",
      "Name: resp_gend, dtype: int64, 107803: 86    2\n",
      "Name: resp_gend, dtype: int64, 107805: 87    1\n",
      "Name: resp_gend, dtype: int64, 107901: 88    1\n",
      "Name: resp_gend, dtype: int64, 108101: 89    1\n",
      "Name: resp_gend, dtype: int64, 108102: 90    2\n",
      "Name: resp_gend, dtype: int64, 108104: 91    2\n",
      "Name: resp_gend, dtype: int64, 108301: 92    1\n",
      "Name: resp_gend, dtype: int64, 108302: 93    2\n",
      "Name: resp_gend, dtype: int64, 108304: 94    2\n",
      "Name: resp_gend, dtype: int64, 108801: 95    1\n",
      "Name: resp_gend, dtype: int64, 108802: 96    2\n",
      "Name: resp_gend, dtype: int64, 108803: 97    1\n",
      "Name: resp_gend, dtype: int64, 108804: 98    2\n",
      "Name: resp_gend, dtype: int64, 108901: 99    1\n",
      "Name: resp_gend, dtype: int64, 108902: 100    2\n",
      "Name: resp_gend, dtype: int64, 108905: 101    1\n",
      "Name: resp_gend, dtype: int64, 108906: 102    2\n",
      "Name: resp_gend, dtype: int64, 109201: 103    1\n",
      "Name: resp_gend, dtype: int64, 109202: 104    2\n",
      "Name: resp_gend, dtype: int64, 109401: 105    1\n",
      "Name: resp_gend, dtype: int64, 109402: 106    2\n",
      "Name: resp_gend, dtype: int64, 109501: 107    1\n",
      "Name: resp_gend, dtype: int64, 109502: 108    2\n",
      "Name: resp_gend, dtype: int64, 109505: 109    1\n",
      "Name: resp_gend, dtype: int64, 109506: 110    2\n",
      "Name: resp_gend, dtype: int64, 109701: 111    1\n",
      "Name: resp_gend, dtype: int64, 109702: 112    2\n",
      "Name: resp_gend, dtype: int64, 109901: 113    1\n",
      "Name: resp_gend, dtype: int64, 109902: 114    2\n",
      "Name: resp_gend, dtype: int64, 110301: 115    1\n",
      "Name: resp_gend, dtype: int64, 110302: 116    2\n",
      "Name: resp_gend, dtype: int64, 110501: 117    1\n",
      "Name: resp_gend, dtype: int64, 110502: 118    2\n",
      "Name: resp_gend, dtype: int64, 110601: 119    1\n",
      "Name: resp_gend, dtype: int64, 110602: 120    2\n",
      "Name: resp_gend, dtype: int64, 111201: 121    2\n",
      "Name: resp_gend, dtype: int64, 111203: 122    2\n",
      "Name: resp_gend, dtype: int64, 111204: 123    2\n",
      "Name: resp_gend, dtype: int64, 111205: 124    1\n",
      "Name: resp_gend, dtype: int64, 111501: 125    1\n",
      "Name: resp_gend, dtype: int64, 111502: 126    2\n",
      "Name: resp_gend, dtype: int64, 111901: 127    1\n",
      "Name: resp_gend, dtype: int64, 111902: 128    2\n",
      "Name: resp_gend, dtype: int64, 111903: 129    1\n",
      "Name: resp_gend, dtype: int64, 111904: 130    2\n",
      "Name: resp_gend, dtype: int64, 112201: 131    1\n",
      "Name: resp_gend, dtype: int64, 112202: 132    2\n",
      "Name: resp_gend, dtype: int64, 112601: 133    1\n",
      "Name: resp_gend, dtype: int64, 112603: 134    2\n",
      "Name: resp_gend, dtype: int64, 112604: 135    2\n",
      "Name: resp_gend, dtype: int64, 112605: 136    1\n",
      "Name: resp_gend, dtype: int64, 112801: 137    1\n",
      "Name: resp_gend, dtype: int64, 112802: 138    2\n",
      "Name: resp_gend, dtype: int64, 113301: 139    1\n",
      "Name: resp_gend, dtype: int64, 113302: 140    2\n",
      "Name: resp_gend, dtype: int64, 113401: 141    2\n",
      "Name: resp_gend, dtype: int64, 113601: 142    1\n",
      "Name: resp_gend, dtype: int64, 113602: 143    2\n",
      "Name: resp_gend, dtype: int64, 113901: 144    1\n",
      "Name: resp_gend, dtype: int64, 113902: 145    2\n",
      "Name: resp_gend, dtype: int64, 114001: 146    1\n",
      "Name: resp_gend, dtype: int64, 114002: 147    2\n",
      "Name: resp_gend, dtype: int64, 114301: 148    2\n",
      "Name: resp_gend, dtype: int64, 114302: 149    1\n",
      "Name: resp_gend, dtype: int64, 114303: 150    2\n",
      "Name: resp_gend, dtype: int64, 114601: 151    1\n",
      "Name: resp_gend, dtype: int64, 114602: 152    2\n",
      "Name: resp_gend, dtype: int64, 114701: 153    1\n",
      "Name: resp_gend, dtype: int64, 114702: 154    2\n",
      "Name: resp_gend, dtype: int64, 114703: 155    2\n",
      "Name: resp_gend, dtype: int64, 114801: 156    1\n",
      "Name: resp_gend, dtype: int64, 114802: 157    2\n",
      "Name: resp_gend, dtype: int64, 115201: 158    1\n",
      "Name: resp_gend, dtype: int64, 115202: 159    2\n",
      "Name: resp_gend, dtype: int64, 115501: 160    1\n",
      "Name: resp_gend, dtype: int64, 115502: 161    2\n",
      "Name: resp_gend, dtype: int64, 115503: 162    1\n",
      "Name: resp_gend, dtype: int64, 115504: 163    2\n",
      "Name: resp_gend, dtype: int64, 115601: 164    1\n",
      "Name: resp_gend, dtype: int64, 115801: 165    1\n",
      "Name: resp_gend, dtype: int64, 115802: 166    1\n",
      "Name: resp_gend, dtype: int64, 115803: 167    2\n",
      "Name: resp_gend, dtype: int64, 115807: 168    1\n",
      "Name: resp_gend, dtype: int64, 115808: 169    2\n",
      "Name: resp_gend, dtype: int64, 115809: 170    2\n",
      "Name: resp_gend, dtype: int64, 116201: 171    2\n",
      "Name: resp_gend, dtype: int64, 116202: 172    1\n",
      "Name: resp_gend, dtype: int64, 116203: 173    2\n",
      "Name: resp_gend, dtype: int64, 116206: 174    1\n",
      "Name: resp_gend, dtype: int64, 116207: 175    2\n",
      "Name: resp_gend, dtype: int64, 116301: 176    1\n",
      "Name: resp_gend, dtype: int64, 116302: 177    2\n",
      "Name: resp_gend, dtype: int64, 116303: 178    1\n",
      "Name: resp_gend, dtype: int64, 116304: 179    2\n",
      "Name: resp_gend, dtype: int64, 116307: 180    1\n",
      "Name: resp_gend, dtype: int64, 116308: 181    2\n",
      "Name: resp_gend, dtype: int64, 116310: 182    1\n",
      "Name: resp_gend, dtype: int64, 116311: 183    2\n",
      "Name: resp_gend, dtype: int64, 116401: 184    1\n",
      "Name: resp_gend, dtype: int64, 116402: 185    2\n",
      "Name: resp_gend, dtype: int64, 116501: 186    1\n",
      "Name: resp_gend, dtype: int64, 116502: 187    2\n",
      "Name: resp_gend, dtype: int64, 116601: 188    1\n",
      "Name: resp_gend, dtype: int64, 116602: 189    2\n",
      "Name: resp_gend, dtype: int64, 116901: 190    1\n",
      "Name: resp_gend, dtype: int64, 116902: 191    2\n",
      "Name: resp_gend, dtype: int64, 116905: 192    2\n",
      "Name: resp_gend, dtype: int64, 117101: 193    1\n",
      "Name: resp_gend, dtype: int64, 117102: 194    2\n",
      "Name: resp_gend, dtype: int64, 117103: 195    2\n",
      "Name: resp_gend, dtype: int64, 117105: 196    1\n",
      "Name: resp_gend, dtype: int64, 117201: 197    1\n",
      "Name: resp_gend, dtype: int64, 117202: 198    2\n",
      "Name: resp_gend, dtype: int64, 117203: 199    2\n",
      "Name: resp_gend, dtype: int64, 117301: 200    1\n",
      "Name: resp_gend, dtype: int64, 117403: 201    2\n",
      "Name: resp_gend, dtype: int64, 117404: 202    1\n",
      "Name: resp_gend, dtype: int64}\n"
     ]
    }
   ],
   "source": [
    "sex1 = {}\n",
    "for pid in df1.pid:\n",
    "    sex1[pid] = df1[df1.pid == pid].resp_gend\n",
    "\n",
    "print(sex1)"
   ]
  },
  {
   "cell_type": "markdown",
   "id": "d5baa36e",
   "metadata": {},
   "source": [
    "However, we want a dictionary where keys are **personal ids**. To satisfy this condition, we need to set the index as pid using **dataFrame.set_index()**"
   ]
  },
  {
   "cell_type": "code",
   "execution_count": 84,
   "id": "d2ef1f09",
   "metadata": {},
   "outputs": [],
   "source": [
    "sex1 = df1.set_index(\"pid\")[\"resp_gend\"].to_dict()"
   ]
  },
  {
   "cell_type": "markdown",
   "id": "2c4f8508",
   "metadata": {},
   "source": [
    "Voila!"
   ]
  },
  {
   "cell_type": "code",
   "execution_count": 85,
   "id": "0a174411",
   "metadata": {},
   "outputs": [],
   "source": [
    "# The course offers\n",
    "\n",
    "sex1 = df1.set_index(\"pid\")[\"resp_gend\"].to_dict()\n",
    "caste1 = df1.set_index(\"pid\")[\"caste\"].to_dict()\n",
    "religion1 = df1.set_index(\"pid\")[\"religion\"].to_dict()\n",
    "\n",
    "sex2 = df2.set_index(\"pid\")[\"resp_gend\"].to_dict()\n",
    "caste2 = df2.set_index(\"pid\")[\"caste\"].to_dict()\n",
    "religion2 = df2.set_index(\"pid\")[\"religion\"].to_dict()"
   ]
  },
  {
   "cell_type": "markdown",
   "id": "8eb0a295",
   "metadata": {},
   "source": [
    "### Exercise 4\n",
    "\n",
    "In this exercise, we will print the chance homophily of several characteristics of Villages 1 and 2. \n",
    "\n",
    "#### Instructions \n",
    "-  Use `chance_homophily` to compute the chance homophily for sex, caste, and religion In Villages 1 and 2. Is the chance homophily for any attribute very high for either village?"
   ]
  },
  {
   "cell_type": "code",
   "execution_count": 86,
   "id": "f25970cf",
   "metadata": {},
   "outputs": [
    {
     "name": "stdout",
     "output_type": "stream",
     "text": [
      "sex1: 0.5027299861680701 \n",
      "\n",
      "caste1: 0.6741488509791551 \n",
      "\n",
      "religion1: 0.9804896988521925 \n",
      "\n",
      "sex2: 0.5005945303210464 \n",
      "\n",
      "caste2: 0.425368244800893 \n",
      "\n",
      "religion2: 1.0\n"
     ]
    }
   ],
   "source": [
    "print(\"sex1:\", chance_homophily(sex1),\"\\n\")\n",
    "print(\"caste1:\", chance_homophily(caste1),\"\\n\")\n",
    "print(\"religion1:\", chance_homophily(religion1),\"\\n\")\n",
    "\n",
    "print(\"sex2:\", chance_homophily(sex2),\"\\n\")\n",
    "print(\"caste2:\", chance_homophily(caste2),\"\\n\")\n",
    "print(\"religion2:\", chance_homophily(religion2))"
   ]
  },
  {
   "cell_type": "markdown",
   "id": "10cf153c",
   "metadata": {},
   "source": [
    "### Exercise 5\n",
    "\n",
    "In this exercise, we will create a function that computes the observed homophily given a village and characteristic.\n",
    "\n",
    "#### Instructions \n",
    "- Complete the function `homophily()`, which takes a network `G`, a dictionary of node characteristics `chars`, and node IDs `IDs`. For each node pair, determine whether a tie exists between them, as well as whether they share a characteristic. The total count of these is `num_ties` and `num_same_ties`, respectively, and their ratio is the homophily of chars in `G`. Complete the function by choosing where to increment `num_same_ties` and `num_ties`."
   ]
  },
  {
   "cell_type": "code",
   "execution_count": 87,
   "id": "5761a196",
   "metadata": {},
   "outputs": [],
   "source": [
    "def homophily(G, chars, IDs):\n",
    "    \"\"\"\n",
    "    Given a network G, a dict of characteristics chars for node IDs,\n",
    "    and dict of node IDs for each node in the network,\n",
    "    find the homophily of the network.\n",
    "    \"\"\"\n",
    "    num_same_ties = 0\n",
    "    num_ties = 0\n",
    "    for n1, n2 in G.edges(): #nodes that have edges\n",
    "        if IDs[n1] in chars and IDs[n2] in chars:\n",
    "            if G.has_edge(n1, n2): # if nodes are connected i.e. a tie exists\n",
    "                # Should `num_ties` be incremented?  What about `num_same_ties`?\n",
    "                num_ties += 1 # # of ties\n",
    "                if chars[IDs[n1]] == chars[IDs[n2]]: # if nodes also have the same characteristics\n",
    "                    # Should `num_ties` be incremented?  What about `num_same_ties`?\n",
    "                    num_same_ties += 1 # # of ties whose nodes have same characteristics\n",
    "    return (num_same_ties / num_ties)    "
   ]
  },
  {
   "cell_type": "markdown",
   "id": "65caee9b",
   "metadata": {},
   "source": [
    "### Exercise 6\n",
    "\n",
    "In this exercise, we will obtain the personal IDs for Villages 1 and 2. These will be used in the next exercise to calculate homophily for these villages.\n",
    "\n",
    "#### Instructions \n",
    "- In this dataset, each individual has a personal ID, or PID, stored in `key_vilno_1.csv` and `key_vilno_2.csv` for villages 1 and 2, respectively. `data_filepath1` and `data_filepath2` contain the URLs to the datasets used in this exercise. Use `pd.read_csv` to read in and store `key_vilno_1.csv` and `key_vilno_2.csv` as `pid1` and `pid2` respectively. "
   ]
  },
  {
   "cell_type": "code",
   "execution_count": 88,
   "id": "4f183535",
   "metadata": {},
   "outputs": [
    {
     "data": {
      "text/plain": [
       "0    102205\n",
       "Name: 100, dtype: int64"
      ]
     },
     "execution_count": 88,
     "metadata": {},
     "output_type": "execute_result"
    }
   ],
   "source": [
    "data_filepath1 = \"https://courses.edx.org/asset-v1:HarvardX+PH526x+2T2019+type@asset+block@key_vilno_1.csv\"\n",
    "data_filepath2 = \"https://courses.edx.org/asset-v1:HarvardX+PH526x+2T2019+type@asset+block@key_vilno_2.csv\"\n",
    "\n",
    "# df  = pd.read_csv(\"https://courses.edx.org/asset-v1:HarvardX+PH526x+2T2019+type@asset+block@individual_characteristics.csv\", low_memory=False, index_col=0)\n",
    "\n",
    "pid1 = pd.read_csv(data_filepath1, index_col=0)\n",
    "pid2 = pd.read_csv(data_filepath2, index_col=0)\n",
    "\n",
    "pid1.iloc[100]"
   ]
  },
  {
   "cell_type": "markdown",
   "id": "4c5d4d00",
   "metadata": {},
   "source": [
    "### Exercise 7\n",
    "\n",
    "In this exercise, we will compute the homophily of several network characteristics for Villages 1 and 2 and compare them to homophily due to chance alone. The networks for these villages have been stored as networkx graph objects `G1` and `G2`.\n",
    "\n",
    "#### Instructions \n",
    "\n",
    "- Use your `homophily()` function to compute the observed homophily for sex, caste, and religion in Villages 1 and 2. Print all six values.\n",
    "- Use the `chance_homophily()` to compare these values to chance homophily. Are these values higher or lower than that expected by chance?"
   ]
  },
  {
   "cell_type": "code",
   "execution_count": 90,
   "id": "12a645d2",
   "metadata": {},
   "outputs": [
    {
     "name": "stdout",
     "output_type": "stream",
     "text": [
      "0.5908629441624366 0.7959390862944162 0.9908629441624366 \n",
      "\n",
      "0.5658073270013568 0.8276797829036635 1.0 \n",
      "\n",
      "\n",
      "0.5027299861680701 0.6741488509791551 0.9804896988521925 \n",
      "\n",
      "0.5005945303210464 0.425368244800893 1.0\n"
     ]
    }
   ],
   "source": [
    "import networkx as nx\n",
    "\n",
    "A1 = np.array(pd.read_csv(\"https://courses.edx.org/asset-v1:HarvardX+PH526x+2T2019+type@asset+block@adj_allVillageRelationships_vilno1.csv\", index_col=0))\n",
    "A2 = np.array(pd.read_csv(\"https://courses.edx.org/asset-v1:HarvardX+PH526x+2T2019+type@asset+block@adj_allVillageRelationships_vilno2.csv\", index_col=0))\n",
    "G1 = nx.to_networkx_graph(A1)\n",
    "G2 = nx.to_networkx_graph(A2)\n",
    "\n",
    "pid1 = pd.read_csv(data_filepath1, dtype=int)['0'].to_dict()\n",
    "pid2 = pd.read_csv(data_filepath2, dtype=int)['0'].to_dict()\n",
    "\n",
    "\n",
    "\n",
    "# Enter your code here!\n",
    "\n",
    "sex1 = df1.set_index(\"pid\")[\"resp_gend\"].to_dict()\n",
    "caste1 = df1.set_index(\"pid\")[\"caste\"].to_dict()\n",
    "religion1 = df1.set_index(\"pid\")[\"religion\"].to_dict()\n",
    "\n",
    "sex2 = df2.set_index(\"pid\")[\"resp_gend\"].to_dict()\n",
    "caste2 = df2.set_index(\"pid\")[\"caste\"].to_dict()\n",
    "religion2 = df2.set_index(\"pid\")[\"religion\"].to_dict()\n",
    "\n",
    "\n",
    "print(homophily(G1,sex1,pid1),homophily(G1,caste1,pid1),homophily(G1,religion1,pid1),\"\\n\")\n",
    "print(homophily(G2,sex2,pid2),homophily(G2,caste2,pid2),homophily(G2,religion2,pid2),\"\\n\\n\")\n",
    "\n",
    "print(chance_homophily(sex1),chance_homophily(caste1),chance_homophily(religion1),\"\\n\")\n",
    "print(chance_homophily(sex2),chance_homophily(caste2),chance_homophily(religion2))"
   ]
  },
  {
   "cell_type": "markdown",
   "id": "040fd1ac",
   "metadata": {},
   "source": [
    " The results says that all characteristics in all villages(except religion in Village 2) are observerd homophily higher than the chance homophily. The religion in village 2 is already has the highest chance in both, which is 1."
   ]
  }
 ],
 "metadata": {
  "kernelspec": {
   "display_name": "Python 3 (ipykernel)",
   "language": "python",
   "name": "python3"
  },
  "language_info": {
   "codemirror_mode": {
    "name": "ipython",
    "version": 3
   },
   "file_extension": ".py",
   "mimetype": "text/x-python",
   "name": "python",
   "nbconvert_exporter": "python",
   "pygments_lexer": "ipython3",
   "version": "3.12.3"
  }
 },
 "nbformat": 4,
 "nbformat_minor": 5
}
