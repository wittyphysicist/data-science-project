{
 "cells": [
  {
   "cell_type": "markdown",
   "id": "309f15c2",
   "metadata": {},
   "source": [
    "# Data Science Project\n",
    "\n",
    "In this project, we are going to do the following things:\n",
    "\n",
    "* **Case Study 1:** k-Nearest Neighbors classification\n",
    "* **Case Study 2:** classify whisky\n",
    "* **Case Study 3:** use GPS data to track the migration patterns of birds\n",
    "* **Case Study 4:** analyze social networks"
   ]
  },
  {
   "cell_type": "markdown",
   "id": "307a7690",
   "metadata": {},
   "source": [
    "## Case Study 1: k-Nearest Neighbors classification\n",
    "\n",
    "In this case study, we will analyze a dataset consisting of an assortment of wines classified as *high quality* and *low quality* and will use **k-Nearest Neighbors classification** to determine whether or not other information about the wine helps us correctly guess whether a new wine will be of high quality."
   ]
  },
  {
   "cell_type": "code",
   "execution_count": 1,
   "id": "2c03a1a8",
   "metadata": {},
   "outputs": [],
   "source": [
    "import numpy as np, random, scipy.stats as ss\n",
    "\n",
    "def majority_vote_fast(votes):\n",
    "    mode, count = ss.mstats.mode(votes)\n",
    "    return mode\n",
    "\n",
    "def distance(p1, p2):\n",
    "    return np.sqrt(np.sum(np.power(p2 - p1, 2)))\n",
    "\n",
    "def find_nearest_neighbors(p, points, k=5):\n",
    "    distances = np.zeros(points.shape[0])\n",
    "    for i in range(len(distances)):\n",
    "        distances[i] = distance(p, points[i])\n",
    "    ind = np.argsort(distances)\n",
    "    return ind[:k]\n",
    "\n",
    "def knn_predict(p, points, outcomes, k=5):\n",
    "    ind = find_nearest_neighbors(p, points, k)\n",
    "    return majority_vote_fast(outcomes[ind])[0]"
   ]
  },
  {
   "cell_type": "markdown",
   "id": "93522ebb",
   "metadata": {},
   "source": [
    "### Exercise 1\n",
    "\n",
    "Our first step is to import the dataset.\n",
    "\n",
    "#### Instructions \n",
    "- Read in the data as a pandas dataframe using `pd.read_csv`. The data can be found at https://courses.edx.org/asset-v1:HarvardX+PH526x+2T2019+type@asset+block@wine.csv"
   ]
  },
  {
   "cell_type": "code",
   "execution_count": 2,
   "id": "08f625b7",
   "metadata": {},
   "outputs": [
    {
     "data": {
      "text/html": [
       "<div>\n",
       "<style scoped>\n",
       "    .dataframe tbody tr th:only-of-type {\n",
       "        vertical-align: middle;\n",
       "    }\n",
       "\n",
       "    .dataframe tbody tr th {\n",
       "        vertical-align: top;\n",
       "    }\n",
       "\n",
       "    .dataframe thead th {\n",
       "        text-align: right;\n",
       "    }\n",
       "</style>\n",
       "<table border=\"1\" class=\"dataframe\">\n",
       "  <thead>\n",
       "    <tr style=\"text-align: right;\">\n",
       "      <th></th>\n",
       "      <th>fixed acidity</th>\n",
       "      <th>volatile acidity</th>\n",
       "      <th>citric acid</th>\n",
       "      <th>residual sugar</th>\n",
       "      <th>chlorides</th>\n",
       "      <th>free sulfur dioxide</th>\n",
       "      <th>total sulfur dioxide</th>\n",
       "      <th>density</th>\n",
       "      <th>pH</th>\n",
       "      <th>sulphates</th>\n",
       "      <th>alcohol</th>\n",
       "      <th>quality</th>\n",
       "      <th>color</th>\n",
       "      <th>high_quality</th>\n",
       "    </tr>\n",
       "  </thead>\n",
       "  <tbody>\n",
       "    <tr>\n",
       "      <th>0</th>\n",
       "      <td>7.4</td>\n",
       "      <td>0.70</td>\n",
       "      <td>0.00</td>\n",
       "      <td>1.9</td>\n",
       "      <td>0.076</td>\n",
       "      <td>11.0</td>\n",
       "      <td>34.0</td>\n",
       "      <td>0.9978</td>\n",
       "      <td>3.51</td>\n",
       "      <td>0.56</td>\n",
       "      <td>9.4</td>\n",
       "      <td>5</td>\n",
       "      <td>red</td>\n",
       "      <td>0</td>\n",
       "    </tr>\n",
       "    <tr>\n",
       "      <th>1</th>\n",
       "      <td>7.8</td>\n",
       "      <td>0.88</td>\n",
       "      <td>0.00</td>\n",
       "      <td>2.6</td>\n",
       "      <td>0.098</td>\n",
       "      <td>25.0</td>\n",
       "      <td>67.0</td>\n",
       "      <td>0.9968</td>\n",
       "      <td>3.20</td>\n",
       "      <td>0.68</td>\n",
       "      <td>9.8</td>\n",
       "      <td>5</td>\n",
       "      <td>red</td>\n",
       "      <td>0</td>\n",
       "    </tr>\n",
       "    <tr>\n",
       "      <th>2</th>\n",
       "      <td>7.8</td>\n",
       "      <td>0.76</td>\n",
       "      <td>0.04</td>\n",
       "      <td>2.3</td>\n",
       "      <td>0.092</td>\n",
       "      <td>15.0</td>\n",
       "      <td>54.0</td>\n",
       "      <td>0.9970</td>\n",
       "      <td>3.26</td>\n",
       "      <td>0.65</td>\n",
       "      <td>9.8</td>\n",
       "      <td>5</td>\n",
       "      <td>red</td>\n",
       "      <td>0</td>\n",
       "    </tr>\n",
       "    <tr>\n",
       "      <th>3</th>\n",
       "      <td>11.2</td>\n",
       "      <td>0.28</td>\n",
       "      <td>0.56</td>\n",
       "      <td>1.9</td>\n",
       "      <td>0.075</td>\n",
       "      <td>17.0</td>\n",
       "      <td>60.0</td>\n",
       "      <td>0.9980</td>\n",
       "      <td>3.16</td>\n",
       "      <td>0.58</td>\n",
       "      <td>9.8</td>\n",
       "      <td>6</td>\n",
       "      <td>red</td>\n",
       "      <td>1</td>\n",
       "    </tr>\n",
       "    <tr>\n",
       "      <th>4</th>\n",
       "      <td>7.4</td>\n",
       "      <td>0.70</td>\n",
       "      <td>0.00</td>\n",
       "      <td>1.9</td>\n",
       "      <td>0.076</td>\n",
       "      <td>11.0</td>\n",
       "      <td>34.0</td>\n",
       "      <td>0.9978</td>\n",
       "      <td>3.51</td>\n",
       "      <td>0.56</td>\n",
       "      <td>9.4</td>\n",
       "      <td>5</td>\n",
       "      <td>red</td>\n",
       "      <td>0</td>\n",
       "    </tr>\n",
       "  </tbody>\n",
       "</table>\n",
       "</div>"
      ],
      "text/plain": [
       "   fixed acidity  volatile acidity  citric acid  residual sugar  chlorides  \\\n",
       "0            7.4              0.70         0.00             1.9      0.076   \n",
       "1            7.8              0.88         0.00             2.6      0.098   \n",
       "2            7.8              0.76         0.04             2.3      0.092   \n",
       "3           11.2              0.28         0.56             1.9      0.075   \n",
       "4            7.4              0.70         0.00             1.9      0.076   \n",
       "\n",
       "   free sulfur dioxide  total sulfur dioxide  density    pH  sulphates  \\\n",
       "0                 11.0                  34.0   0.9978  3.51       0.56   \n",
       "1                 25.0                  67.0   0.9968  3.20       0.68   \n",
       "2                 15.0                  54.0   0.9970  3.26       0.65   \n",
       "3                 17.0                  60.0   0.9980  3.16       0.58   \n",
       "4                 11.0                  34.0   0.9978  3.51       0.56   \n",
       "\n",
       "   alcohol  quality color  high_quality  \n",
       "0      9.4        5   red             0  \n",
       "1      9.8        5   red             0  \n",
       "2      9.8        5   red             0  \n",
       "3      9.8        6   red             1  \n",
       "4      9.4        5   red             0  "
      ]
     },
     "execution_count": 2,
     "metadata": {},
     "output_type": "execute_result"
    }
   ],
   "source": [
    "import pandas as pd\n",
    "\n",
    "file = \"./wines.csv\"\n",
    "\n",
    "wines = pd.read_csv(file, index_col=0)\n",
    "\n",
    "wines.head()"
   ]
  },
  {
   "cell_type": "markdown",
   "id": "e3bd2600",
   "metadata": {},
   "source": [
    "### Exercise 2\n",
    "\n",
    "Next, we will inspect the dataset and perform some mild data cleaning.\n",
    "\n",
    "#### Instructions \n",
    "- In order to get all numeric data, we will change the `color` column to an `is_red` column. \n",
    "    - If `color == 'red'`, we will encode a `1` for `is_red`\n",
    "    - If `color == 'white'`, we will encode a `0` for `is_red`\n",
    "- Create this new column, `is_red`.\n",
    "- Drop the `color`, `quality`, and `high_quality` columns as we will be predict the quality of wine using numeric data in a later exercise\n",
    "- Store this all numeric data in a pandas dataframe called `numeric_data`"
   ]
  },
  {
   "cell_type": "code",
   "execution_count": 3,
   "id": "976fd997",
   "metadata": {},
   "outputs": [
    {
     "data": {
      "text/html": [
       "<div>\n",
       "<style scoped>\n",
       "    .dataframe tbody tr th:only-of-type {\n",
       "        vertical-align: middle;\n",
       "    }\n",
       "\n",
       "    .dataframe tbody tr th {\n",
       "        vertical-align: top;\n",
       "    }\n",
       "\n",
       "    .dataframe thead th {\n",
       "        text-align: right;\n",
       "    }\n",
       "</style>\n",
       "<table border=\"1\" class=\"dataframe\">\n",
       "  <thead>\n",
       "    <tr style=\"text-align: right;\">\n",
       "      <th></th>\n",
       "      <th>fixed acidity</th>\n",
       "      <th>volatile acidity</th>\n",
       "      <th>citric acid</th>\n",
       "      <th>residual sugar</th>\n",
       "      <th>chlorides</th>\n",
       "      <th>free sulfur dioxide</th>\n",
       "      <th>total sulfur dioxide</th>\n",
       "      <th>density</th>\n",
       "      <th>pH</th>\n",
       "      <th>sulphates</th>\n",
       "      <th>alcohol</th>\n",
       "      <th>quality</th>\n",
       "      <th>color</th>\n",
       "      <th>high_quality</th>\n",
       "      <th>is_red</th>\n",
       "    </tr>\n",
       "  </thead>\n",
       "  <tbody>\n",
       "    <tr>\n",
       "      <th>0</th>\n",
       "      <td>7.4</td>\n",
       "      <td>0.70</td>\n",
       "      <td>0.00</td>\n",
       "      <td>1.9</td>\n",
       "      <td>0.076</td>\n",
       "      <td>11.0</td>\n",
       "      <td>34.0</td>\n",
       "      <td>0.99780</td>\n",
       "      <td>3.51</td>\n",
       "      <td>0.56</td>\n",
       "      <td>9.4</td>\n",
       "      <td>5</td>\n",
       "      <td>red</td>\n",
       "      <td>0</td>\n",
       "      <td>1</td>\n",
       "    </tr>\n",
       "    <tr>\n",
       "      <th>1</th>\n",
       "      <td>7.8</td>\n",
       "      <td>0.88</td>\n",
       "      <td>0.00</td>\n",
       "      <td>2.6</td>\n",
       "      <td>0.098</td>\n",
       "      <td>25.0</td>\n",
       "      <td>67.0</td>\n",
       "      <td>0.99680</td>\n",
       "      <td>3.20</td>\n",
       "      <td>0.68</td>\n",
       "      <td>9.8</td>\n",
       "      <td>5</td>\n",
       "      <td>red</td>\n",
       "      <td>0</td>\n",
       "      <td>1</td>\n",
       "    </tr>\n",
       "    <tr>\n",
       "      <th>2</th>\n",
       "      <td>7.8</td>\n",
       "      <td>0.76</td>\n",
       "      <td>0.04</td>\n",
       "      <td>2.3</td>\n",
       "      <td>0.092</td>\n",
       "      <td>15.0</td>\n",
       "      <td>54.0</td>\n",
       "      <td>0.99700</td>\n",
       "      <td>3.26</td>\n",
       "      <td>0.65</td>\n",
       "      <td>9.8</td>\n",
       "      <td>5</td>\n",
       "      <td>red</td>\n",
       "      <td>0</td>\n",
       "      <td>1</td>\n",
       "    </tr>\n",
       "    <tr>\n",
       "      <th>3</th>\n",
       "      <td>11.2</td>\n",
       "      <td>0.28</td>\n",
       "      <td>0.56</td>\n",
       "      <td>1.9</td>\n",
       "      <td>0.075</td>\n",
       "      <td>17.0</td>\n",
       "      <td>60.0</td>\n",
       "      <td>0.99800</td>\n",
       "      <td>3.16</td>\n",
       "      <td>0.58</td>\n",
       "      <td>9.8</td>\n",
       "      <td>6</td>\n",
       "      <td>red</td>\n",
       "      <td>1</td>\n",
       "      <td>1</td>\n",
       "    </tr>\n",
       "    <tr>\n",
       "      <th>4</th>\n",
       "      <td>7.4</td>\n",
       "      <td>0.70</td>\n",
       "      <td>0.00</td>\n",
       "      <td>1.9</td>\n",
       "      <td>0.076</td>\n",
       "      <td>11.0</td>\n",
       "      <td>34.0</td>\n",
       "      <td>0.99780</td>\n",
       "      <td>3.51</td>\n",
       "      <td>0.56</td>\n",
       "      <td>9.4</td>\n",
       "      <td>5</td>\n",
       "      <td>red</td>\n",
       "      <td>0</td>\n",
       "      <td>1</td>\n",
       "    </tr>\n",
       "    <tr>\n",
       "      <th>...</th>\n",
       "      <td>...</td>\n",
       "      <td>...</td>\n",
       "      <td>...</td>\n",
       "      <td>...</td>\n",
       "      <td>...</td>\n",
       "      <td>...</td>\n",
       "      <td>...</td>\n",
       "      <td>...</td>\n",
       "      <td>...</td>\n",
       "      <td>...</td>\n",
       "      <td>...</td>\n",
       "      <td>...</td>\n",
       "      <td>...</td>\n",
       "      <td>...</td>\n",
       "      <td>...</td>\n",
       "    </tr>\n",
       "    <tr>\n",
       "      <th>4893</th>\n",
       "      <td>6.2</td>\n",
       "      <td>0.21</td>\n",
       "      <td>0.29</td>\n",
       "      <td>1.6</td>\n",
       "      <td>0.039</td>\n",
       "      <td>24.0</td>\n",
       "      <td>92.0</td>\n",
       "      <td>0.99114</td>\n",
       "      <td>3.27</td>\n",
       "      <td>0.50</td>\n",
       "      <td>11.2</td>\n",
       "      <td>6</td>\n",
       "      <td>white</td>\n",
       "      <td>1</td>\n",
       "      <td>0</td>\n",
       "    </tr>\n",
       "    <tr>\n",
       "      <th>4894</th>\n",
       "      <td>6.6</td>\n",
       "      <td>0.32</td>\n",
       "      <td>0.36</td>\n",
       "      <td>8.0</td>\n",
       "      <td>0.047</td>\n",
       "      <td>57.0</td>\n",
       "      <td>168.0</td>\n",
       "      <td>0.99490</td>\n",
       "      <td>3.15</td>\n",
       "      <td>0.46</td>\n",
       "      <td>9.6</td>\n",
       "      <td>5</td>\n",
       "      <td>white</td>\n",
       "      <td>0</td>\n",
       "      <td>0</td>\n",
       "    </tr>\n",
       "    <tr>\n",
       "      <th>4895</th>\n",
       "      <td>6.5</td>\n",
       "      <td>0.24</td>\n",
       "      <td>0.19</td>\n",
       "      <td>1.2</td>\n",
       "      <td>0.041</td>\n",
       "      <td>30.0</td>\n",
       "      <td>111.0</td>\n",
       "      <td>0.99254</td>\n",
       "      <td>2.99</td>\n",
       "      <td>0.46</td>\n",
       "      <td>9.4</td>\n",
       "      <td>6</td>\n",
       "      <td>white</td>\n",
       "      <td>1</td>\n",
       "      <td>0</td>\n",
       "    </tr>\n",
       "    <tr>\n",
       "      <th>4896</th>\n",
       "      <td>5.5</td>\n",
       "      <td>0.29</td>\n",
       "      <td>0.30</td>\n",
       "      <td>1.1</td>\n",
       "      <td>0.022</td>\n",
       "      <td>20.0</td>\n",
       "      <td>110.0</td>\n",
       "      <td>0.98869</td>\n",
       "      <td>3.34</td>\n",
       "      <td>0.38</td>\n",
       "      <td>12.8</td>\n",
       "      <td>7</td>\n",
       "      <td>white</td>\n",
       "      <td>1</td>\n",
       "      <td>0</td>\n",
       "    </tr>\n",
       "    <tr>\n",
       "      <th>4897</th>\n",
       "      <td>6.0</td>\n",
       "      <td>0.21</td>\n",
       "      <td>0.38</td>\n",
       "      <td>0.8</td>\n",
       "      <td>0.020</td>\n",
       "      <td>22.0</td>\n",
       "      <td>98.0</td>\n",
       "      <td>0.98941</td>\n",
       "      <td>3.26</td>\n",
       "      <td>0.32</td>\n",
       "      <td>11.8</td>\n",
       "      <td>6</td>\n",
       "      <td>white</td>\n",
       "      <td>1</td>\n",
       "      <td>0</td>\n",
       "    </tr>\n",
       "  </tbody>\n",
       "</table>\n",
       "<p>6497 rows × 15 columns</p>\n",
       "</div>"
      ],
      "text/plain": [
       "      fixed acidity  volatile acidity  citric acid  residual sugar  chlorides  \\\n",
       "0               7.4              0.70         0.00             1.9      0.076   \n",
       "1               7.8              0.88         0.00             2.6      0.098   \n",
       "2               7.8              0.76         0.04             2.3      0.092   \n",
       "3              11.2              0.28         0.56             1.9      0.075   \n",
       "4               7.4              0.70         0.00             1.9      0.076   \n",
       "...             ...               ...          ...             ...        ...   \n",
       "4893            6.2              0.21         0.29             1.6      0.039   \n",
       "4894            6.6              0.32         0.36             8.0      0.047   \n",
       "4895            6.5              0.24         0.19             1.2      0.041   \n",
       "4896            5.5              0.29         0.30             1.1      0.022   \n",
       "4897            6.0              0.21         0.38             0.8      0.020   \n",
       "\n",
       "      free sulfur dioxide  total sulfur dioxide  density    pH  sulphates  \\\n",
       "0                    11.0                  34.0  0.99780  3.51       0.56   \n",
       "1                    25.0                  67.0  0.99680  3.20       0.68   \n",
       "2                    15.0                  54.0  0.99700  3.26       0.65   \n",
       "3                    17.0                  60.0  0.99800  3.16       0.58   \n",
       "4                    11.0                  34.0  0.99780  3.51       0.56   \n",
       "...                   ...                   ...      ...   ...        ...   \n",
       "4893                 24.0                  92.0  0.99114  3.27       0.50   \n",
       "4894                 57.0                 168.0  0.99490  3.15       0.46   \n",
       "4895                 30.0                 111.0  0.99254  2.99       0.46   \n",
       "4896                 20.0                 110.0  0.98869  3.34       0.38   \n",
       "4897                 22.0                  98.0  0.98941  3.26       0.32   \n",
       "\n",
       "      alcohol  quality  color  high_quality  is_red  \n",
       "0         9.4        5    red             0       1  \n",
       "1         9.8        5    red             0       1  \n",
       "2         9.8        5    red             0       1  \n",
       "3         9.8        6    red             1       1  \n",
       "4         9.4        5    red             0       1  \n",
       "...       ...      ...    ...           ...     ...  \n",
       "4893     11.2        6  white             1       0  \n",
       "4894      9.6        5  white             0       0  \n",
       "4895      9.4        6  white             1       0  \n",
       "4896     12.8        7  white             1       0  \n",
       "4897     11.8        6  white             1       0  \n",
       "\n",
       "[6497 rows x 15 columns]"
      ]
     },
     "execution_count": 3,
     "metadata": {},
     "output_type": "execute_result"
    }
   ],
   "source": [
    "is_red = []\n",
    "for i in wines.color:\n",
    "    if i == \"red\":\n",
    "        is_red.append(1)\n",
    "    else:\n",
    "        is_red.append(0)\n",
    "\n",
    "wines[\"is_red\"] = is_red\n",
    "\n",
    "wines"
   ]
  },
  {
   "cell_type": "code",
   "execution_count": 4,
   "id": "f0336702",
   "metadata": {},
   "outputs": [
    {
     "data": {
      "text/plain": [
       "1599"
      ]
     },
     "execution_count": 4,
     "metadata": {},
     "output_type": "execute_result"
    }
   ],
   "source": [
    "len(wines[wines.is_red == 1])"
   ]
  },
  {
   "cell_type": "code",
   "execution_count": 5,
   "id": "cd65fd72",
   "metadata": {},
   "outputs": [
    {
     "data": {
      "text/html": [
       "<div>\n",
       "<style scoped>\n",
       "    .dataframe tbody tr th:only-of-type {\n",
       "        vertical-align: middle;\n",
       "    }\n",
       "\n",
       "    .dataframe tbody tr th {\n",
       "        vertical-align: top;\n",
       "    }\n",
       "\n",
       "    .dataframe thead th {\n",
       "        text-align: right;\n",
       "    }\n",
       "</style>\n",
       "<table border=\"1\" class=\"dataframe\">\n",
       "  <thead>\n",
       "    <tr style=\"text-align: right;\">\n",
       "      <th></th>\n",
       "      <th>fixed acidity</th>\n",
       "      <th>volatile acidity</th>\n",
       "      <th>citric acid</th>\n",
       "      <th>residual sugar</th>\n",
       "      <th>chlorides</th>\n",
       "      <th>free sulfur dioxide</th>\n",
       "      <th>total sulfur dioxide</th>\n",
       "      <th>density</th>\n",
       "      <th>pH</th>\n",
       "      <th>sulphates</th>\n",
       "      <th>alcohol</th>\n",
       "      <th>is_red</th>\n",
       "    </tr>\n",
       "  </thead>\n",
       "  <tbody>\n",
       "    <tr>\n",
       "      <th>0</th>\n",
       "      <td>7.4</td>\n",
       "      <td>0.70</td>\n",
       "      <td>0.00</td>\n",
       "      <td>1.9</td>\n",
       "      <td>0.076</td>\n",
       "      <td>11.0</td>\n",
       "      <td>34.0</td>\n",
       "      <td>0.99780</td>\n",
       "      <td>3.51</td>\n",
       "      <td>0.56</td>\n",
       "      <td>9.4</td>\n",
       "      <td>1</td>\n",
       "    </tr>\n",
       "    <tr>\n",
       "      <th>1</th>\n",
       "      <td>7.8</td>\n",
       "      <td>0.88</td>\n",
       "      <td>0.00</td>\n",
       "      <td>2.6</td>\n",
       "      <td>0.098</td>\n",
       "      <td>25.0</td>\n",
       "      <td>67.0</td>\n",
       "      <td>0.99680</td>\n",
       "      <td>3.20</td>\n",
       "      <td>0.68</td>\n",
       "      <td>9.8</td>\n",
       "      <td>1</td>\n",
       "    </tr>\n",
       "    <tr>\n",
       "      <th>2</th>\n",
       "      <td>7.8</td>\n",
       "      <td>0.76</td>\n",
       "      <td>0.04</td>\n",
       "      <td>2.3</td>\n",
       "      <td>0.092</td>\n",
       "      <td>15.0</td>\n",
       "      <td>54.0</td>\n",
       "      <td>0.99700</td>\n",
       "      <td>3.26</td>\n",
       "      <td>0.65</td>\n",
       "      <td>9.8</td>\n",
       "      <td>1</td>\n",
       "    </tr>\n",
       "    <tr>\n",
       "      <th>3</th>\n",
       "      <td>11.2</td>\n",
       "      <td>0.28</td>\n",
       "      <td>0.56</td>\n",
       "      <td>1.9</td>\n",
       "      <td>0.075</td>\n",
       "      <td>17.0</td>\n",
       "      <td>60.0</td>\n",
       "      <td>0.99800</td>\n",
       "      <td>3.16</td>\n",
       "      <td>0.58</td>\n",
       "      <td>9.8</td>\n",
       "      <td>1</td>\n",
       "    </tr>\n",
       "    <tr>\n",
       "      <th>4</th>\n",
       "      <td>7.4</td>\n",
       "      <td>0.70</td>\n",
       "      <td>0.00</td>\n",
       "      <td>1.9</td>\n",
       "      <td>0.076</td>\n",
       "      <td>11.0</td>\n",
       "      <td>34.0</td>\n",
       "      <td>0.99780</td>\n",
       "      <td>3.51</td>\n",
       "      <td>0.56</td>\n",
       "      <td>9.4</td>\n",
       "      <td>1</td>\n",
       "    </tr>\n",
       "    <tr>\n",
       "      <th>...</th>\n",
       "      <td>...</td>\n",
       "      <td>...</td>\n",
       "      <td>...</td>\n",
       "      <td>...</td>\n",
       "      <td>...</td>\n",
       "      <td>...</td>\n",
       "      <td>...</td>\n",
       "      <td>...</td>\n",
       "      <td>...</td>\n",
       "      <td>...</td>\n",
       "      <td>...</td>\n",
       "      <td>...</td>\n",
       "    </tr>\n",
       "    <tr>\n",
       "      <th>4893</th>\n",
       "      <td>6.2</td>\n",
       "      <td>0.21</td>\n",
       "      <td>0.29</td>\n",
       "      <td>1.6</td>\n",
       "      <td>0.039</td>\n",
       "      <td>24.0</td>\n",
       "      <td>92.0</td>\n",
       "      <td>0.99114</td>\n",
       "      <td>3.27</td>\n",
       "      <td>0.50</td>\n",
       "      <td>11.2</td>\n",
       "      <td>0</td>\n",
       "    </tr>\n",
       "    <tr>\n",
       "      <th>4894</th>\n",
       "      <td>6.6</td>\n",
       "      <td>0.32</td>\n",
       "      <td>0.36</td>\n",
       "      <td>8.0</td>\n",
       "      <td>0.047</td>\n",
       "      <td>57.0</td>\n",
       "      <td>168.0</td>\n",
       "      <td>0.99490</td>\n",
       "      <td>3.15</td>\n",
       "      <td>0.46</td>\n",
       "      <td>9.6</td>\n",
       "      <td>0</td>\n",
       "    </tr>\n",
       "    <tr>\n",
       "      <th>4895</th>\n",
       "      <td>6.5</td>\n",
       "      <td>0.24</td>\n",
       "      <td>0.19</td>\n",
       "      <td>1.2</td>\n",
       "      <td>0.041</td>\n",
       "      <td>30.0</td>\n",
       "      <td>111.0</td>\n",
       "      <td>0.99254</td>\n",
       "      <td>2.99</td>\n",
       "      <td>0.46</td>\n",
       "      <td>9.4</td>\n",
       "      <td>0</td>\n",
       "    </tr>\n",
       "    <tr>\n",
       "      <th>4896</th>\n",
       "      <td>5.5</td>\n",
       "      <td>0.29</td>\n",
       "      <td>0.30</td>\n",
       "      <td>1.1</td>\n",
       "      <td>0.022</td>\n",
       "      <td>20.0</td>\n",
       "      <td>110.0</td>\n",
       "      <td>0.98869</td>\n",
       "      <td>3.34</td>\n",
       "      <td>0.38</td>\n",
       "      <td>12.8</td>\n",
       "      <td>0</td>\n",
       "    </tr>\n",
       "    <tr>\n",
       "      <th>4897</th>\n",
       "      <td>6.0</td>\n",
       "      <td>0.21</td>\n",
       "      <td>0.38</td>\n",
       "      <td>0.8</td>\n",
       "      <td>0.020</td>\n",
       "      <td>22.0</td>\n",
       "      <td>98.0</td>\n",
       "      <td>0.98941</td>\n",
       "      <td>3.26</td>\n",
       "      <td>0.32</td>\n",
       "      <td>11.8</td>\n",
       "      <td>0</td>\n",
       "    </tr>\n",
       "  </tbody>\n",
       "</table>\n",
       "<p>6497 rows × 12 columns</p>\n",
       "</div>"
      ],
      "text/plain": [
       "      fixed acidity  volatile acidity  citric acid  residual sugar  chlorides  \\\n",
       "0               7.4              0.70         0.00             1.9      0.076   \n",
       "1               7.8              0.88         0.00             2.6      0.098   \n",
       "2               7.8              0.76         0.04             2.3      0.092   \n",
       "3              11.2              0.28         0.56             1.9      0.075   \n",
       "4               7.4              0.70         0.00             1.9      0.076   \n",
       "...             ...               ...          ...             ...        ...   \n",
       "4893            6.2              0.21         0.29             1.6      0.039   \n",
       "4894            6.6              0.32         0.36             8.0      0.047   \n",
       "4895            6.5              0.24         0.19             1.2      0.041   \n",
       "4896            5.5              0.29         0.30             1.1      0.022   \n",
       "4897            6.0              0.21         0.38             0.8      0.020   \n",
       "\n",
       "      free sulfur dioxide  total sulfur dioxide  density    pH  sulphates  \\\n",
       "0                    11.0                  34.0  0.99780  3.51       0.56   \n",
       "1                    25.0                  67.0  0.99680  3.20       0.68   \n",
       "2                    15.0                  54.0  0.99700  3.26       0.65   \n",
       "3                    17.0                  60.0  0.99800  3.16       0.58   \n",
       "4                    11.0                  34.0  0.99780  3.51       0.56   \n",
       "...                   ...                   ...      ...   ...        ...   \n",
       "4893                 24.0                  92.0  0.99114  3.27       0.50   \n",
       "4894                 57.0                 168.0  0.99490  3.15       0.46   \n",
       "4895                 30.0                 111.0  0.99254  2.99       0.46   \n",
       "4896                 20.0                 110.0  0.98869  3.34       0.38   \n",
       "4897                 22.0                  98.0  0.98941  3.26       0.32   \n",
       "\n",
       "      alcohol  is_red  \n",
       "0         9.4       1  \n",
       "1         9.8       1  \n",
       "2         9.8       1  \n",
       "3         9.8       1  \n",
       "4         9.4       1  \n",
       "...       ...     ...  \n",
       "4893     11.2       0  \n",
       "4894      9.6       0  \n",
       "4895      9.4       0  \n",
       "4896     12.8       0  \n",
       "4897     11.8       0  \n",
       "\n",
       "[6497 rows x 12 columns]"
      ]
     },
     "execution_count": 5,
     "metadata": {},
     "output_type": "execute_result"
    }
   ],
   "source": [
    "numeric_data = wines.drop([\"color\", \"high_quality\", \"quality\"], axis=1)\n",
    "# 'axis=1' because we're dropping a column\n",
    "\n",
    "numeric_data"
   ]
  },
  {
   "cell_type": "code",
   "execution_count": 6,
   "id": "b3aa8d9b",
   "metadata": {},
   "outputs": [
    {
     "data": {
      "text/html": [
       "<div>\n",
       "<style scoped>\n",
       "    .dataframe tbody tr th:only-of-type {\n",
       "        vertical-align: middle;\n",
       "    }\n",
       "\n",
       "    .dataframe tbody tr th {\n",
       "        vertical-align: top;\n",
       "    }\n",
       "\n",
       "    .dataframe thead th {\n",
       "        text-align: right;\n",
       "    }\n",
       "</style>\n",
       "<table border=\"1\" class=\"dataframe\">\n",
       "  <thead>\n",
       "    <tr style=\"text-align: right;\">\n",
       "      <th></th>\n",
       "      <th>fixed acidity</th>\n",
       "      <th>volatile acidity</th>\n",
       "      <th>citric acid</th>\n",
       "      <th>residual sugar</th>\n",
       "      <th>chlorides</th>\n",
       "      <th>free sulfur dioxide</th>\n",
       "      <th>total sulfur dioxide</th>\n",
       "      <th>density</th>\n",
       "      <th>pH</th>\n",
       "      <th>sulphates</th>\n",
       "      <th>alcohol</th>\n",
       "      <th>quality</th>\n",
       "      <th>high_quality</th>\n",
       "    </tr>\n",
       "    <tr>\n",
       "      <th>is_red</th>\n",
       "      <th></th>\n",
       "      <th></th>\n",
       "      <th></th>\n",
       "      <th></th>\n",
       "      <th></th>\n",
       "      <th></th>\n",
       "      <th></th>\n",
       "      <th></th>\n",
       "      <th></th>\n",
       "      <th></th>\n",
       "      <th></th>\n",
       "      <th></th>\n",
       "      <th></th>\n",
       "    </tr>\n",
       "  </thead>\n",
       "  <tbody>\n",
       "    <tr>\n",
       "      <th>0</th>\n",
       "      <td>4898</td>\n",
       "      <td>4898</td>\n",
       "      <td>4898</td>\n",
       "      <td>4898</td>\n",
       "      <td>4898</td>\n",
       "      <td>4898</td>\n",
       "      <td>4898</td>\n",
       "      <td>4898</td>\n",
       "      <td>4898</td>\n",
       "      <td>4898</td>\n",
       "      <td>4898</td>\n",
       "      <td>4898</td>\n",
       "      <td>4898</td>\n",
       "    </tr>\n",
       "    <tr>\n",
       "      <th>1</th>\n",
       "      <td>1599</td>\n",
       "      <td>1599</td>\n",
       "      <td>1599</td>\n",
       "      <td>1599</td>\n",
       "      <td>1599</td>\n",
       "      <td>1599</td>\n",
       "      <td>1599</td>\n",
       "      <td>1599</td>\n",
       "      <td>1599</td>\n",
       "      <td>1599</td>\n",
       "      <td>1599</td>\n",
       "      <td>1599</td>\n",
       "      <td>1599</td>\n",
       "    </tr>\n",
       "  </tbody>\n",
       "</table>\n",
       "</div>"
      ],
      "text/plain": [
       "        fixed acidity  volatile acidity  citric acid  residual sugar  \\\n",
       "is_red                                                                 \n",
       "0                4898              4898         4898            4898   \n",
       "1                1599              1599         1599            1599   \n",
       "\n",
       "        chlorides  free sulfur dioxide  total sulfur dioxide  density    pH  \\\n",
       "is_red                                                                        \n",
       "0            4898                 4898                  4898     4898  4898   \n",
       "1            1599                 1599                  1599     1599  1599   \n",
       "\n",
       "        sulphates  alcohol  quality  high_quality  \n",
       "is_red                                             \n",
       "0            4898     4898     4898          4898  \n",
       "1            1599     1599     1599          1599  "
      ]
     },
     "execution_count": 6,
     "metadata": {},
     "output_type": "execute_result"
    }
   ],
   "source": [
    "wines[\"is_red\"] = (wines[\"color\"] == \"red\").astype(int)\n",
    "numeric_data = wines.drop(\"color\", axis=1)\n",
    "\n",
    "numeric_data.groupby('is_red').count()"
   ]
  },
  {
   "cell_type": "markdown",
   "id": "27d4d191",
   "metadata": {},
   "source": [
    "### Exercise 3\n",
    "\n",
    "We want to ensure that each variable contributes equally to the kNN classifier, so we will need to scale the data by subtracting the mean of each variable (column) and dividing each variable (column) by its standard deviation. Then, we will use principal components to take a linear snapshot of the data from several different angles, with each snapshot ordered by how well it aligns with variation in the data. In this exercise, we will scale the numeric data and extract the first two principal components.\n",
    "\n",
    "#### Instructions \n",
    "- Scale the data using the `sklearn.preprocessing` function `scale()` on `numeric_data`.\n",
    "- Convert this to a `pandas` dataframe, and store as `numeric_data`.\n",
    "    - Include the numeric variable names using the parameter `columns = numeric_data.columns`.\n",
    "- Use the `sklearn.decomposition` module `PCA()` and store it as `pca`.\n",
    "- Use the `fit_transform()` function to extract the first two principal components from the data, and store them as `principal_components`.\n",
    "- *Note*: You may get a `DataConversionWarning`, but you can safely ignore it"
   ]
  },
  {
   "cell_type": "code",
   "execution_count": 7,
   "id": "d7975064",
   "metadata": {},
   "outputs": [
    {
     "data": {
      "text/plain": [
       "(6497, 14)"
      ]
     },
     "execution_count": 7,
     "metadata": {},
     "output_type": "execute_result"
    }
   ],
   "source": [
    "import sklearn.preprocessing\n",
    "scaled_data = sklearn.preprocessing.scale(numeric_data)\n",
    "numeric_data = pd.DataFrame(scaled_data, columns = numeric_data.columns)\n",
    "\n",
    "columns = numeric_data.columns\n",
    "\n",
    "import sklearn.decomposition\n",
    "pca = sklearn.decomposition.PCA()\n",
    "principal_components = pca.fit_transform(numeric_data)\n",
    "\n",
    "principal_components.shape"
   ]
  },
  {
   "cell_type": "markdown",
   "id": "a68b6ecd",
   "metadata": {},
   "source": [
    "### Exercise 4\n",
    "\n",
    "In this exercise, we will plot the first two principal components of the covariates in the dataset. The high and low quality wines will be colored using red and blue, respectively.\n",
    "\n",
    "#### Instructions \n",
    "- The first two principal components can be accessed using `principal_components[:,0]` and `principal_components[:,1]`. Store these as `x` and `y` respectively, and make a scatter plot of these first two principal components.\n",
    "- How well are the two groups of wines separated by the first two principal components?"
   ]
  },
  {
   "cell_type": "code",
   "execution_count": 8,
   "id": "0f9876bd",
   "metadata": {},
   "outputs": [
    {
     "data": {
      "image/png": "[encoded data removed]",
      "text/plain": [
       "<Figure size 432x288 with 1 Axes>"
      ]
     },
     "metadata": {
      "needs_background": "light"
     },
     "output_type": "display_data"
    },
    {
     "data": {
      "text/plain": [
       "<Figure size 432x288 with 0 Axes>"
      ]
     },
     "metadata": {},
     "output_type": "display_data"
    }
   ],
   "source": [
    "import matplotlib.pyplot as plt\n",
    "from matplotlib.colors import ListedColormap\n",
    "from matplotlib.backends.backend_pdf import PdfPages\n",
    "observation_colormap = ListedColormap(['red', 'blue'])\n",
    "x = principal_components[:,0]\n",
    "y = principal_components[:,1]\n",
    "\n",
    "plt.title(\"Principal Components of Wine\")\n",
    "plt.scatter(x, y, alpha = 0.2,\n",
    "    c = wines['high_quality'], cmap = observation_colormap, edgecolors = 'none')\n",
    "plt.xlim(-8, 8); plt.ylim(-8, 8)\n",
    "plt.xlabel(\"Principal Component 1\")\n",
    "plt.ylabel(\"Principal Component 2\")\n",
    "plt.show()\n",
    "plt.savefig(\"Principle Components of Wine.png\")"
   ]
  },
  {
   "cell_type": "markdown",
   "id": "8f8fc528",
   "metadata": {},
   "source": [
    "**Result:** We could not easily draw a linear boundary between the high and low quality wines using the first two principle components"
   ]
  },
  {
   "cell_type": "markdown",
   "id": "f69cd08b",
   "metadata": {},
   "source": [
    "### Exercise 5\n",
    "\n",
    "In this exercise, we will create a function that calculates the accuracy between predictions and outcomes.\n",
    "\n",
    "#### Instructions\n",
    "- Create a function `accuracy(predictions, outcomes)` that takes two lists of the same size as arguments and returns a single number, which is the percentage of elements that are equal for the two lists.\n",
    "- Use accuracy to compare the percentage of similar elements in the `x` and `y` `numpy` arrays defined below.\n",
    "- Print your answer."
   ]
  },
  {
   "cell_type": "code",
   "execution_count": 9,
   "id": "482138d2",
   "metadata": {},
   "outputs": [
    {
     "data": {
      "text/plain": [
       "51.5"
      ]
     },
     "execution_count": 9,
     "metadata": {},
     "output_type": "execute_result"
    }
   ],
   "source": [
    "import numpy as np \n",
    "np.random.seed(1) # do not change\n",
    "\n",
    "x = np.random.randint(0, 2, 1000)\n",
    "y = np.random.randint(0 ,2, 1000)\n",
    "\n",
    "def accuracy(predictions, outcomes):\n",
    "    return 100*np.mean(predictions == outcomes)\n",
    "\n",
    "accuracy(x,y)"
   ]
  },
  {
   "cell_type": "markdown",
   "id": "ced0e8b1",
   "metadata": {},
   "source": [
    "### Exercise 6\n",
    "\n",
    "The dataset remains stored as data. Because most wines in the dataset are classified as low quality, one very simple classification rule is to predict that all wines are of low quality. In this exercise, we determine the accuracy of this simple rule. \n",
    "\n",
    "#### Instructions\n",
    "- Use `accuracy()` to calculate how many wines in the dataset are of low quality. Do this by using 0 as the first argument, and `data[\"high_quality\"]` as the second argument.\n",
    "- Print your result."
   ]
  },
  {
   "cell_type": "code",
   "execution_count": 10,
   "id": "5837c38e",
   "metadata": {},
   "outputs": [
    {
     "name": "stdout",
     "output_type": "stream",
     "text": [
      "36.69385870401724\n"
     ]
    }
   ],
   "source": [
    "print(accuracy(0, wines[\"high_quality\"]))"
   ]
  },
  {
   "cell_type": "markdown",
   "id": "1edcb3c5",
   "metadata": {},
   "source": [
    "### Exercise 7 \n",
    "\n",
    "In this exercise, we will use the kNN classifier from `scikit-learn` to predict the quality of wines in our dataset.\n",
    "\n",
    "#### Instructions\n",
    "- Use `knn.predict(numeric_data)` to predict which wines are high and low quality and store the result as `library_predictions`.\n",
    "- Use `accuracy` to find the accuracy of your predictions, using `library_predictions` as the first argument and `data[\"high_quality\"]` as the second argument.\n",
    "- Print your answer. Is this prediction better than the simple classifier in Exercise 6?"
   ]
  },
  {
   "cell_type": "code",
   "execution_count": 11,
   "id": "4042cbf1",
   "metadata": {},
   "outputs": [
    {
     "data": {
      "text/plain": [
       "99.96921656148992"
      ]
     },
     "execution_count": 11,
     "metadata": {},
     "output_type": "execute_result"
    }
   ],
   "source": [
    "from sklearn.neighbors import KNeighborsClassifier\n",
    "knn = KNeighborsClassifier(n_neighbors = 5)\n",
    "knn.fit(numeric_data, wines['high_quality'])\n",
    "\n",
    "library_predictions = knn.predict(numeric_data)\n",
    "# to predict which wines are high/low quality\n",
    "\n",
    "accuracy(library_predictions, wines['high_quality'])\n",
    "# It return around 84, which means kNN classifier predicts more accurately from the simple classifier we defined in Exercise 6"
   ]
  },
  {
   "cell_type": "markdown",
   "id": "0836b032",
   "metadata": {},
   "source": [
    "### Exercise 8\n",
    "\n",
    "Unlike the `scikit-learn` function, our homemade kNN classifier does not take any shortcuts in calculating which neighbors are closest to each observation, so it is likely too slow to carry out on the whole dataset. In this exercise, we will select a subset of our data to use in our homemade kNN classifier.\n",
    "\n",
    "#### Instructions \n",
    "- Fix the random generator using `random.seed(123)`, and select 10 rows from the dataset using `random.sample(range(n_rows), 10)`. Store this selection as `selection`."
   ]
  },
  {
   "cell_type": "code",
   "execution_count": 12,
   "id": "33fa22c7",
   "metadata": {},
   "outputs": [
    {
     "data": {
      "text/plain": [
       "4392"
      ]
     },
     "execution_count": 12,
     "metadata": {},
     "output_type": "execute_result"
    }
   ],
   "source": [
    "n_rows = wines.shape[0]\n",
    "# Enter your code here.\n",
    "\n",
    "import random\n",
    "random.seed(123)\n",
    "\n",
    "selection = random.sample(range(n_rows), 10)\n",
    "\n",
    "selection[9]"
   ]
  },
  {
   "cell_type": "markdown",
   "id": "d99fd84e",
   "metadata": {},
   "source": [
    "### Exercise 9\n",
    "\n",
    "We are now ready to use our homemade kNN classifier and compare the accuracy of our results to the baseline.\n",
    "\n",
    "#### Instructions \n",
    "- For each predictor` p` in `predictors[selection]`, use `knn_predict(p, predictors[training_indices,:], outcomes[training_indices], k=5)` to predict the quality of each wine in the prediction set, and store these predictions as a np.array called `my_predictions`. Note that knn_predict is already defined as in the Case 3 videos.\n",
    "- Using the `accuracy` function, compare these results to the selected rows from the `high_quality` variable in data using `my_predictions` as the first argument and `data.high_quality.iloc[selection]` as the second argument. Store these results as `percentage`.\n",
    "- Print your answer."
   ]
  },
  {
   "cell_type": "code",
   "execution_count": 13,
   "id": "f02a9cf8",
   "metadata": {},
   "outputs": [
    {
     "data": {
      "text/plain": [
       "100.0"
      ]
     },
     "execution_count": 13,
     "metadata": {},
     "output_type": "execute_result"
    }
   ],
   "source": [
    "predictors = np.array(numeric_data)\n",
    "training_indices = [i for i in range(len(predictors)) if i not in selection]\n",
    "outcomes = np.array(wines[\"high_quality\"])\n",
    "\n",
    "my_predictions = []\n",
    "for p in predictors[selection]:\n",
    "    a = knn_predict(p, predictors[training_indices,:], outcomes[training_indices], k=5)\n",
    "    my_predictions.append(a)\n",
    "my_predictions = np.array(my_predictions)\n",
    "\n",
    "percentage = accuracy(my_predictions, wines.high_quality.iloc[selection])\n",
    "\n",
    "percentage"
   ]
  },
  {
   "cell_type": "markdown",
   "id": "bc7765f4",
   "metadata": {},
   "source": [
    "## Case Study 2: Whiskies\n",
    "\n",
    "In this case study, we are going to step-by-step **prepare plots in Bokeh**, a library designed for simple, interactive plotting.  We will demonstrate Bokeh by continuing the analysis of Scotch whiskies."
   ]
  },
  {
   "cell_type": "markdown",
   "id": "94d181b5",
   "metadata": {},
   "source": [
    "**IMPORTANT:** The library **sklearn.cluster.bicluster**, which we used before, is removed. We need to import SpectralCoclustering from **sklearn.cluster**.\n"
   ]
  },
  {
   "cell_type": "code",
   "execution_count": 2,
   "id": "968a2adf",
   "metadata": {},
   "outputs": [],
   "source": [
    "from sklearn.cluster import SpectralCoclustering\n",
    "\n",
    "import numpy as np, pandas as pd\n",
    "\n",
    "whisky = pd.read_csv(\"https://courses.edx.org/asset-v1:HarvardX+PH526x+2T2019+type@asset+block@whiskies.csv\", index_col=0)\n",
    "correlations = pd.DataFrame.corr(whisky.iloc[:,2:14].transpose())\n",
    "correlations = np.array(correlations)"
   ]
  },
  {
   "cell_type": "markdown",
   "id": "4e7e0149",
   "metadata": {},
   "source": [
    "### Exercise 1\n",
    "\n",
    "In this exercise, we provide a basic demonstration of an interactive grid plot using Bokeh. Make sure to study this code now, as we will edit similar code in the exercises that follow.\n",
    "\n",
    "#### Instructions\n",
    "- Execute the following code and follow along with the comments. We will later adapt this code to plot the correlations among distillery flavor profiles as well as plot a geographical map of distilleries colored by region and flavor profile.\n",
    "- Once you have plotted the code, hover, click, and drag your cursor on the plot to interact with it. Additionally, explore the icons in the top-right corner of the plot for more interactive options!"
   ]
  },
  {
   "cell_type": "code",
   "execution_count": 10,
   "id": "7e38d615",
   "metadata": {},
   "outputs": [
    {
     "name": "stdout",
     "output_type": "stream",
     "text": [
      "[(1, 1), (1, 2), (1, 3), (1, 4), (1, 5), (2, 1), (2, 2), (2, 3), (2, 4), (2, 5), (3, 1), (3, 2), (3, 3), (3, 4), (3, 5), (4, 1), (4, 2), (4, 3), (4, 4), (4, 5), (5, 1), (5, 2), (5, 3), (5, 4), (5, 5)]\n"
     ]
    }
   ],
   "source": [
    "# First, we import a tool to allow text to pop up on a plot when the cursor\n",
    "# hovers over it.  Also, we import a data structure used to store arguments\n",
    "# of what to plot in Bokeh.  Finally, we will use numpy for this section as well!\n",
    "\n",
    "from bokeh.models import HoverTool, ColumnDataSource\n",
    "\n",
    "# Let's plot a simple 5x5 grid of squares, alternating between two colors.\n",
    "plot_values = [1,2,3,4,5]\n",
    "plot_colors = ['#0173b2', '#de8f05']\n",
    "\n",
    "# How do we tell Bokeh to plot each point in a grid?  Let's use a function that\n",
    "# finds each combination of values from 1-5.\n",
    "from itertools import product\n",
    "\n",
    "grid = list(product(plot_values, plot_values))\n",
    "print(grid)"
   ]
  },
  {
   "cell_type": "code",
   "execution_count": 21,
   "id": "caf2dd60",
   "metadata": {},
   "outputs": [
    {
     "name": "stdout",
     "output_type": "stream",
     "text": [
      "(1, 1, 1, 1, 1, 2, 2, 2, 2, 2, 3, 3, 3, 3, 3, 4, 4, 4, 4, 4, 5, 5, 5, 5, 5)\n",
      "(1, 2, 3, 4, 5, 1, 2, 3, 4, 5, 1, 2, 3, 4, 5, 1, 2, 3, 4, 5, 1, 2, 3, 4, 5)\n"
     ]
    }
   ],
   "source": [
    "# The first value is the x coordinate, and the second value is the y coordinate.\n",
    "# Let's store these in separate lists.\n",
    "\n",
    "xs, ys = zip(*grid)\n",
    "print(xs)\n",
    "print(ys)"
   ]
  },
  {
   "cell_type": "code",
   "execution_count": 23,
   "id": "036cd7a8",
   "metadata": {},
   "outputs": [
    {
     "name": "stdout",
     "output_type": "stream",
     "text": [
      "['#0173b2', '#de8f05', '#0173b2', '#de8f05', '#0173b2', '#de8f05', '#0173b2', '#de8f05', '#0173b2', '#de8f05', '#0173b2', '#de8f05', '#0173b2', '#de8f05', '#0173b2', '#de8f05', '#0173b2', '#de8f05', '#0173b2', '#de8f05', '#0173b2', '#de8f05', '#0173b2', '#de8f05', '#0173b2']\n"
     ]
    }
   ],
   "source": [
    "# Now we will make a list of colors, alternating between red and blue.\n",
    "\n",
    "colors = [plot_colors[i%2] for i in range(len(grid))]\n",
    "print(colors)"
   ]
  },
  {
   "cell_type": "code",
   "execution_count": 24,
   "id": "881cfc01",
   "metadata": {},
   "outputs": [],
   "source": [
    "# Finally, let's determine the strength of transparency (alpha) for each point,\n",
    "# where 0 is completely transparent.\n",
    "\n",
    "import numpy as np\n",
    "\n",
    "alphas = np.linspace(0, 1, len(grid))\n",
    "\n",
    "# Bokeh likes each of these to be stored in a special dataframe, called\n",
    "# ColumnDataSource.  Let's store our coordinates, colors, and alpha values.\n",
    "\n",
    "source = ColumnDataSource(\n",
    "    data = {\n",
    "        \"x\": xs,\n",
    "        \"y\": ys,\n",
    "        \"colors\": colors,\n",
    "        \"alphas\": alphas,\n",
    "    }\n",
    ")\n",
    "# We are ready to make our interactive Bokeh plot!\n",
    "from bokeh.plotting import figure, output_file, show\n",
    "\n",
    "output_file(\"Basic_Example.html\", title=\"Basic Example\")\n",
    "fig = figure(tools=\"hover\")\n",
    "fig.rect(\"x\", \"y\", 0.9, 0.9, source=source, color=\"colors\",alpha=\"alphas\")\n",
    "hover = fig.select(dict(type=HoverTool))\n",
    "hover.tooltips = {\n",
    "    \"Value\": \"@x, @y\",\n",
    "    }\n",
    "show(fig)"
   ]
  },
  {
   "cell_type": "markdown",
   "id": "f8e16058",
   "metadata": {},
   "source": [
    "### Exercise 2\n",
    "\n",
    "In this exercise, we will create the names and colors we will use to plot the correlation matrix of whisky flavors. Later, we will also use these colors to plot each distillery geographically.\n",
    "\n",
    "#### Instructions \n",
    "- Create a dictionary `region_colors` with `regions` as keys and `cluster_colors` as values.\n",
    "- Print `region_colors`."
   ]
  },
  {
   "cell_type": "code",
   "execution_count": 4,
   "id": "9fe128f7",
   "metadata": {},
   "outputs": [
    {
     "data": {
      "text/plain": [
       "{'Speyside': '#0173b2',\n",
       " 'Highlands': '#de8f05',\n",
       " 'Lowlands': '#029e73',\n",
       " 'Islands': '#d55e00',\n",
       " 'Campbelltown': '#cc78bc',\n",
       " 'Islay': '#ca9161'}"
      ]
     },
     "execution_count": 4,
     "metadata": {},
     "output_type": "execute_result"
    }
   ],
   "source": [
    "cluster_colors = ['#0173b2', '#de8f05', '#029e73', '#d55e00', '#cc78bc', '#ca9161']\n",
    "regions = [\"Speyside\", \"Highlands\", \"Lowlands\", \"Islands\", \"Campbelltown\", \"Islay\"]\n",
    "\n",
    "region_colors = zip(regions,cluster_colors)\n",
    "region_colors = dict(region_colors)\n",
    "region_colors"
   ]
  },
  {
   "cell_type": "markdown",
   "id": "6695f9f0",
   "metadata": {},
   "source": [
    "### Exercise 3\n",
    "\n",
    "`correlations` is a two-dimensional `np.array` with both rows and columns corresponding to distilleries and elements corresponding to the flavor correlation of each row/column pair. In this exercise, we will define a list `correlation_colors`, with `string` values corresponding to colors to be used to plot each distillery pair. Low correlations among distillery pairs will be white, high correlations will be a distinct group color if the distilleries from the same group, and gray otherwise.\n",
    "\n",
    "#### Instructions\n",
    "\n",
    "- Edit the code to define `correlation_colors` for each distillery pair to have input `'white'` if their correlation is less than 0.7.\n",
    "- `whisky` is a `pandas` dataframe, and `Group` is a column consisting of distillery group memberships. For distillery pairs with correlation greater than 0.7, if they share the same whisky group, use the corresponding color from `cluster_colors`. Otherwise, the `correlation_colors` value for that distillery pair will be defined as `'lightgray'`."
   ]
  },
  {
   "cell_type": "code",
   "execution_count": 25,
   "id": "872a8828",
   "metadata": {},
   "outputs": [
    {
     "data": {
      "text/plain": [
       "array([[1.        , 0.44904168, 0.46216816, ..., 0.50475261, 0.34921515,\n",
       "        0.26722197],\n",
       "       [0.44904168, 1.        , 0.28977485, ..., 0.62335961, 0.74444508,\n",
       "        0.7000808 ],\n",
       "       [0.46216816, 0.28977485, 1.        , ..., 0.03309517, 0.07784989,\n",
       "        0.16547585],\n",
       "       ...,\n",
       "       [0.50475261, 0.62335961, 0.03309517, ..., 1.        , 0.76520727,\n",
       "        0.6626506 ],\n",
       "       [0.34921515, 0.74444508, 0.07784989, ..., 0.76520727, 1.        ,\n",
       "        0.76520727],\n",
       "       [0.26722197, 0.7000808 , 0.16547585, ..., 0.6626506 , 0.76520727,\n",
       "        1.        ]])"
      ]
     },
     "execution_count": 25,
     "metadata": {},
     "output_type": "execute_result"
    }
   ],
   "source": [
    "correlations # I just wanted to check what 'correlations' look like"
   ]
  },
  {
   "cell_type": "code",
   "execution_count": 5,
   "id": "a1c25f38",
   "metadata": {},
   "outputs": [],
   "source": [
    "distilleries = list(whisky.Distillery)\n",
    "correlation_colors = []\n",
    "for i in range(len(distilleries)):\n",
    "    for j in range(len(distilleries)):\n",
    "        if correlations[i][j] < 0.7:                   # if low correlation, # I edited this part\n",
    "            correlation_colors.append('white')         # just use white.\n",
    "        else:                                          # otherwise,\n",
    "            if whisky.Group[i] == whisky.Group[j]:                  # if the groups match,\n",
    "                correlation_colors.append(cluster_colors[whisky.Group[i]]) # color them by their mutual group. # I edited this part\n",
    "            else:                                      # otherwise\n",
    "                correlation_colors.append('lightgray') # color them lightgray.\n",
    "\n",
    "# correlation_colors"
   ]
  },
  {
   "cell_type": "markdown",
   "id": "5e8e6614",
   "metadata": {},
   "source": [
    "We set 'white' color to the correlations below 0.7 so that we can focus our attention to the correlations above 0.7"
   ]
  },
  {
   "cell_type": "markdown",
   "id": "2506ca05",
   "metadata": {},
   "source": [
    "### Exercise 4\n",
    "\n",
    "In this exercise, we will edit the given code to make an interactive grid of the correlations among distillery pairs based on the quantities found in previous exercises. Most plotting specifications are made by editing `ColumnDataSource`, a `bokeh` structure used for defining interactive plotting inputs. The rest of the plotting code is already complete.\n",
    "\n",
    "#### Instructions \n",
    "\n",
    "- `correlation_colors` is a list of `string` colors for each pair of distilleries. Set this as `color` in `ColumnDataSource`.\n",
    "- Define `correlations` in `source` using `correlations` from the previous exercise. To convert `correlations` from a `np.array` to a `list`, use the `flatten()` method. This correlation coefficient will be used to define both the color transparency as well as the hover text for each square."
   ]
  },
  {
   "cell_type": "code",
   "execution_count": 28,
   "id": "953c20c9",
   "metadata": {},
   "outputs": [
    {
     "data": {
      "text/plain": [
       "list"
      ]
     },
     "execution_count": 28,
     "metadata": {},
     "output_type": "execute_result"
    }
   ],
   "source": [
    "type(correlations)\n",
    "\n",
    "a = correlations.flatten().tolist()\n",
    "type(a)"
   ]
  },
  {
   "cell_type": "code",
   "execution_count": 30,
   "id": "d57d0300",
   "metadata": {},
   "outputs": [],
   "source": [
    "source = ColumnDataSource(\n",
    "    data = {\n",
    "        \"x\": np.repeat(distilleries,len(distilleries)),\n",
    "        \"y\": list(distilleries)*len(distilleries),\n",
    "        \"colors\": correlation_colors, # I edited this part\n",
    "        \"correlations\": correlations.flatten().tolist() ## I edited this part\n",
    "    }\n",
    ")\n",
    "\n",
    "output_file(\"Whisky Correlations.html\", title=\"Whisky Correlations\")\n",
    "fig = figure(title=\"Whisky Correlations\",\n",
    "    x_axis_location=\"above\", x_range=list(reversed(distilleries)), y_range=distilleries,\n",
    "    tools=\"hover,box_zoom,reset\")\n",
    "\n",
    "fig.grid.grid_line_color = None\n",
    "fig.axis.axis_line_color = None\n",
    "fig.axis.major_tick_line_color = None\n",
    "fig.axis.major_label_text_font_size = \"5pt\"\n",
    "fig.xaxis.major_label_orientation = np.pi / 3\n",
    "fig.rect('x', 'y', .9, .9, source=source,\n",
    "     color='colors', alpha='correlations')\n",
    "\n",
    "hover = fig.select(dict(type=HoverTool))\n",
    "hover.tooltips = {\n",
    "    \"Whiskies\": \"@x, @y\",\n",
    "    \"Correlation\": \"@correlations\",\n",
    "}\n",
    "show(fig)"
   ]
  },
  {
   "cell_type": "markdown",
   "id": "47546c5f",
   "metadata": {},
   "source": [
    "### Exercise 5\n",
    "\n",
    "In this exercise, we give a demonstration of plotting geographic points.\n",
    "\n",
    "#### Instructions \n",
    "\n",
    "- Run the following code, to be adapted in the next section. Compare this code to that used in plotting the distillery correlations."
   ]
  },
  {
   "cell_type": "code",
   "execution_count": 15,
   "id": "c1b4466a",
   "metadata": {},
   "outputs": [
    {
     "data": {
      "text/plain": [
       "((0, 1, 3), (0, 2, 1))"
      ]
     },
     "execution_count": 15,
     "metadata": {},
     "output_type": "execute_result"
    }
   ],
   "source": [
    "points = [(0,0), (1,2), (3,1)]\n",
    "xs, ys = zip(*points)\n",
    "xs, ys"
   ]
  },
  {
   "cell_type": "code",
   "execution_count": 31,
   "id": "ee5fa743",
   "metadata": {},
   "outputs": [],
   "source": [
    "points = [(0,0), (1,2), (3,1)]\n",
    "xs, ys = zip(*points)\n",
    "colors = ['#0173b2', '#de8f05', '#029e73']\n",
    "\n",
    "output_file(\"Spatial_Example.html\", title=\"Regional Example\")\n",
    "location_source = ColumnDataSource(\n",
    "    data={\n",
    "        \"x\": xs,\n",
    "        \"y\": ys,\n",
    "        \"colors\": colors,\n",
    "    }\n",
    ")\n",
    "\n",
    "fig = figure(title = \"Title\",\n",
    "    x_axis_location = \"above\", tools=\"hover, save\")\n",
    "fig.plot_width  = 300\n",
    "fig.plot_height = 380\n",
    "fig.circle(\"x\", \"y\", size=10, source=location_source,\n",
    "     color='colors', line_color = None)\n",
    "\n",
    "hover = fig.select(dict(type = HoverTool))\n",
    "hover.tooltips = {\n",
    "    \"Location\": \"(@x, @y)\"\n",
    "}\n",
    "show(fig)"
   ]
  },
  {
   "cell_type": "markdown",
   "id": "c98ccecc",
   "metadata": {},
   "source": [
    "### Exercise 6\n",
    "\n",
    "In this exercise, we will define a function `location_plot(title, colors)` that takes a string `title` and a list of colors corresponding to each distillery and outputs a Bokeh plot of each distillery by latitude and longitude. It will also display the distillery name, latitude, and longitude as hover text.\n",
    "\n",
    "#### Instructions \n",
    "\n",
    "- Adapt the given code beginning with the first comment and ending with `show(fig)` to create the function `location_plot()`, as described above.\n",
    "- `Region` is a column of in the `pandas` dataframe `whisky`, containing the regional group membership for each distillery. Make a list consisting of the value of `region_colors` for each distillery, and store this list as `region_cols`.\n",
    "- Use `location_plot` to plot each distillery, colored by its regional grouping."
   ]
  },
  {
   "cell_type": "code",
   "execution_count": 32,
   "id": "876cb054",
   "metadata": {},
   "outputs": [
    {
     "name": "stdout",
     "output_type": "stream",
     "text": [
      "0     Highlands\n",
      "1      Speyside\n",
      "2      Speyside\n",
      "3      Speyside\n",
      "4      Speyside\n",
      "        ...    \n",
      "81    Highlands\n",
      "82    Highlands\n",
      "83     Speyside\n",
      "84      Islands\n",
      "85    Highlands\n",
      "Name: Region, Length: 86, dtype: object \n",
      "\n",
      "<class 'pandas.core.series.Series'> \n",
      "\n",
      "<class 'numpy.ndarray'> \n",
      "\n"
     ]
    }
   ],
   "source": [
    "print(whisky[\"Region\"],\"\\n\"); print(type(whisky[\"Region\"]),\"\\n\")\n",
    "\n",
    "print(type(np.array(whisky[\"Region\"])),\"\\n\")"
   ]
  },
  {
   "cell_type": "code",
   "execution_count": 36,
   "id": "dcca7b31",
   "metadata": {},
   "outputs": [
    {
     "name": "stdout",
     "output_type": "stream",
     "text": [
      "#de8f05\n",
      "#0173b2\n",
      "#0173b2\n",
      "#0173b2\n",
      "#0173b2\n",
      "#029e73\n",
      "#0173b2\n",
      "#0173b2\n",
      "#ca9161\n",
      "#de8f05\n",
      "#029e73\n",
      "#0173b2\n",
      "#0173b2\n",
      "#de8f05\n",
      "#0173b2\n",
      "#0173b2\n",
      "#0173b2\n",
      "#0173b2\n",
      "#de8f05\n",
      "#d55e00\n",
      "#cc78bc\n",
      "#d55e00\n",
      "#ca9161\n",
      "#de8f05\n",
      "#de8f05\n",
      "#de8f05\n",
      "#0173b2\n",
      "#0173b2\n",
      "#de8f05\n",
      "#cc78bc\n",
      "#0173b2\n",
      "#0173b2\n",
      "#0173b2\n",
      "#de8f05\n",
      "#d55e00\n",
      "#0173b2\n",
      "#de8f05\n",
      "#0173b2\n",
      "#0173b2\n",
      "#0173b2\n",
      "#de8f05\n",
      "#0173b2\n",
      "#de8f05\n",
      "#0173b2\n",
      "#de8f05\n",
      "#0173b2\n",
      "#de8f05\n",
      "#0173b2\n",
      "#ca9161\n",
      "#029e73\n",
      "#0173b2\n",
      "#0173b2\n",
      "#de8f05\n",
      "#de8f05\n",
      "#0173b2\n",
      "#0173b2\n",
      "#d55e00\n",
      "#de8f05\n",
      "#0173b2\n",
      "#0173b2\n",
      "#0173b2\n",
      "#ca9161\n",
      "#de8f05\n",
      "#d55e00\n",
      "#ca9161\n",
      "#ca9161\n",
      "#ca9161\n",
      "#0173b2\n",
      "#0173b2\n",
      "#de8f05\n",
      "#0173b2\n",
      "#0173b2\n",
      "#0173b2\n",
      "#de8f05\n",
      "#de8f05\n",
      "#0173b2\n",
      "#0173b2\n",
      "#0173b2\n",
      "#0173b2\n",
      "#0173b2\n",
      "#de8f05\n",
      "#de8f05\n",
      "#de8f05\n",
      "#0173b2\n",
      "#d55e00\n",
      "#de8f05\n"
     ]
    }
   ],
   "source": [
    "# 'region_colors' is a dictionary we defined before\n",
    "\n",
    "for i in whisky[\"Region\"]:\n",
    "    print(region_colors[i])"
   ]
  },
  {
   "cell_type": "code",
   "execution_count": 37,
   "id": "1b3c7354",
   "metadata": {},
   "outputs": [],
   "source": [
    "# edit this to make the function `location_plot`.\n",
    "\n",
    "def location_plot(title, colors): # I edited this part\n",
    "    output_file(title+\".html\")\n",
    "    location_source = ColumnDataSource(\n",
    "        data = {\n",
    "            \"x\": whisky[\" Latitude\"],\n",
    "            \"y\": whisky[\" Longitude\"],\n",
    "            \"colors\": colors,\n",
    "            \"regions\": whisky.Region,\n",
    "            \"distilleries\": whisky.Distillery\n",
    "        }\n",
    "    )\n",
    "\n",
    "    fig = figure(title = title,\n",
    "        x_axis_location = \"above\", tools=\"hover, save\")\n",
    "    fig.plot_width  = 400\n",
    "    fig.plot_height = 500\n",
    "    fig.circle(\"x\", \"y\", size=9, source=location_source, color='colors', line_color = None)\n",
    "    fig.xaxis.major_label_orientation = np.pi / 3\n",
    "    hover = fig.select(dict(type = HoverTool))\n",
    "    hover.tooltips = {\n",
    "        \"Distillery\": \"@distilleries\",\n",
    "        \"Location\": \"(@x, @y)\"\n",
    "    }\n",
    "    return show(fig)\n",
    "\n",
    "region_cols = [] # I edited all this for-loop\n",
    "for i in whisky[\"Region\"]:\n",
    "    region_cols.append(region_colors[i])\n",
    "# The course suggests: [region_colors[i] for i in list(whisky[\"Region\"])]\n",
    "    \n",
    "location_plot(\"Whisky Locations and Regions\", region_cols)"
   ]
  },
  {
   "cell_type": "markdown",
   "id": "bcec5a37",
   "metadata": {},
   "source": [
    "### Exercise 7 \n",
    "\n",
    "In this exercise, we will use this function to plot each distillery, colored by region and taste coclustering classification, respectively.\n",
    "\n",
    "#### Instructions \n",
    "- Create the list `region_cols` consisting of the color in `region_colors` that corresponds to each whisky in `whisky.Region`.\n",
    "- Similarly, create a list `classification_cols` consisting of the color in `cluster_colors` that corresponds to each cluster membership in `whisky.Group`.\n",
    "- Create two interactive plots of distilleries, one using `region_cols` and the other with colors defined by called `classification_cols`. How well do the coclustering groupings match the regional groupings?"
   ]
  },
  {
   "cell_type": "code",
   "execution_count": 38,
   "id": "4cbe774a",
   "metadata": {},
   "outputs": [],
   "source": [
    "region_cols = [region_colors[i] for i in list(whisky.Region)] # I edited this part\n",
    "classification_cols = [cluster_colors[i] for i in list(whisky.Group)] # I edited this part\n",
    "\n",
    "location_plot(\"Whisky Locations and Regions\", region_cols)\n",
    "location_plot(\"Whisky Locations and Groups\", classification_cols)"
   ]
  },
  {
   "cell_type": "markdown",
   "id": "156bae58",
   "metadata": {},
   "source": [
    "## Case Study 3: Patterns for Flight of Birds\n",
    "\n",
    "In this case study, we will continue taking a look at patterns of flight for each of the three birds in our dataset."
   ]
  },
  {
   "cell_type": "code",
   "execution_count": 75,
   "id": "cde08957",
   "metadata": {},
   "outputs": [
    {
     "data": {
      "text/html": [
       "<div>\n",
       "<style scoped>\n",
       "    .dataframe tbody tr th:only-of-type {\n",
       "        vertical-align: middle;\n",
       "    }\n",
       "\n",
       "    .dataframe tbody tr th {\n",
       "        vertical-align: top;\n",
       "    }\n",
       "\n",
       "    .dataframe thead th {\n",
       "        text-align: right;\n",
       "    }\n",
       "</style>\n",
       "<table border=\"1\" class=\"dataframe\">\n",
       "  <thead>\n",
       "    <tr style=\"text-align: right;\">\n",
       "      <th></th>\n",
       "      <th>altitude</th>\n",
       "      <th>date_time</th>\n",
       "      <th>device_info_serial</th>\n",
       "      <th>direction</th>\n",
       "      <th>latitude</th>\n",
       "      <th>longitude</th>\n",
       "      <th>speed_2d</th>\n",
       "      <th>bird_name</th>\n",
       "    </tr>\n",
       "  </thead>\n",
       "  <tbody>\n",
       "    <tr>\n",
       "      <th>0</th>\n",
       "      <td>71</td>\n",
       "      <td>2013-08-15 00:18:08+00</td>\n",
       "      <td>851</td>\n",
       "      <td>-150.469753</td>\n",
       "      <td>49.419860</td>\n",
       "      <td>2.120733</td>\n",
       "      <td>0.150000</td>\n",
       "      <td>Eric</td>\n",
       "    </tr>\n",
       "    <tr>\n",
       "      <th>1</th>\n",
       "      <td>68</td>\n",
       "      <td>2013-08-15 00:48:07+00</td>\n",
       "      <td>851</td>\n",
       "      <td>-136.151141</td>\n",
       "      <td>49.419880</td>\n",
       "      <td>2.120746</td>\n",
       "      <td>2.438360</td>\n",
       "      <td>Eric</td>\n",
       "    </tr>\n",
       "    <tr>\n",
       "      <th>2</th>\n",
       "      <td>68</td>\n",
       "      <td>2013-08-15 01:17:58+00</td>\n",
       "      <td>851</td>\n",
       "      <td>160.797477</td>\n",
       "      <td>49.420310</td>\n",
       "      <td>2.120885</td>\n",
       "      <td>0.596657</td>\n",
       "      <td>Eric</td>\n",
       "    </tr>\n",
       "    <tr>\n",
       "      <th>3</th>\n",
       "      <td>73</td>\n",
       "      <td>2013-08-15 01:47:51+00</td>\n",
       "      <td>851</td>\n",
       "      <td>32.769360</td>\n",
       "      <td>49.420359</td>\n",
       "      <td>2.120859</td>\n",
       "      <td>0.310161</td>\n",
       "      <td>Eric</td>\n",
       "    </tr>\n",
       "    <tr>\n",
       "      <th>4</th>\n",
       "      <td>69</td>\n",
       "      <td>2013-08-15 02:17:42+00</td>\n",
       "      <td>851</td>\n",
       "      <td>45.191230</td>\n",
       "      <td>49.420331</td>\n",
       "      <td>2.120887</td>\n",
       "      <td>0.193132</td>\n",
       "      <td>Eric</td>\n",
       "    </tr>\n",
       "  </tbody>\n",
       "</table>\n",
       "</div>"
      ],
      "text/plain": [
       "   altitude               date_time  device_info_serial   direction  \\\n",
       "0        71  2013-08-15 00:18:08+00                 851 -150.469753   \n",
       "1        68  2013-08-15 00:48:07+00                 851 -136.151141   \n",
       "2        68  2013-08-15 01:17:58+00                 851  160.797477   \n",
       "3        73  2013-08-15 01:47:51+00                 851   32.769360   \n",
       "4        69  2013-08-15 02:17:42+00                 851   45.191230   \n",
       "\n",
       "    latitude  longitude  speed_2d bird_name  \n",
       "0  49.419860   2.120733  0.150000      Eric  \n",
       "1  49.419880   2.120746  2.438360      Eric  \n",
       "2  49.420310   2.120885  0.596657      Eric  \n",
       "3  49.420359   2.120859  0.310161      Eric  \n",
       "4  49.420331   2.120887  0.193132      Eric  "
      ]
     },
     "execution_count": 75,
     "metadata": {},
     "output_type": "execute_result"
    }
   ],
   "source": [
    "# DO NOT EDIT THIS CODE\n",
    "import pandas as pd\n",
    "import numpy as np\n",
    "birddata = pd.read_csv(\"https://courses.edx.org/asset-v1:HarvardX+PH526x+2T2019+type@asset+block@bird_tracking.csv\", index_col=0)\n",
    "birddata.head()"
   ]
  },
  {
   "cell_type": "markdown",
   "id": "bdbaed7b",
   "metadata": {},
   "source": [
    "### Exercise 1\n",
    "\n",
    "In this case study, we will continue taking a look at patterns of flight for each of the three birds in our dataset. We will group the flight patterns by bird and date, and plot the mean altitude for these groupings.\n",
    "\n",
    "`pandas` makes it easy to perform basic operations on groups within a dataframe without needing to loop through each value in the dataframe. In this exercise, we will group the dataframe by `birdname` and then find the average `speed_2d` for each bird.\n",
    "\n",
    "#### Instructions \n",
    "- Fill in the code to find the mean altitudes of each bird using the pre-loaded `birddata` dataframe. "
   ]
  },
  {
   "cell_type": "code",
   "execution_count": 76,
   "id": "50cebb52",
   "metadata": {},
   "outputs": [
    {
     "data": {
      "text/plain": [
       "bird_name\n",
       "Eric     2.300545\n",
       "Nico     2.908726\n",
       "Sanne    2.450434\n",
       "Name: speed_2d, dtype: float64"
      ]
     },
     "execution_count": 76,
     "metadata": {},
     "output_type": "execute_result"
    }
   ],
   "source": [
    "# First, use `groupby()` to group the data by \"bird_name\".\n",
    "grouped_birds = birddata.groupby(\"bird_name\")\n",
    "\n",
    "# Now calculate the mean of `speed_2d` using the `mean()` function.\n",
    "mean_speeds = grouped_birds.speed_2d.mean()\n",
    "\n",
    "# Find the mean `altitude` for each bird.\n",
    "mean_altitudes = grouped_birds.altitude.mean()\n",
    "\n",
    "mean_speeds"
   ]
  },
  {
   "cell_type": "markdown",
   "id": "1932df60",
   "metadata": {},
   "source": [
    "### Exercise 2\n",
    "\n",
    "In this exercise, we will group the flight times by date and calculate the mean altitude within that day.\n",
    "\n",
    "#### Instructions \n",
    "- Convert `birddata.date_time` to the `pd.datetime` format, and store as `birddata[\"date\"]`.\n",
    "- Fill in the code to find the mean altitudes for each day."
   ]
  },
  {
   "cell_type": "code",
   "execution_count": 77,
   "id": "904525c1",
   "metadata": {},
   "outputs": [
    {
     "data": {
      "text/plain": [
       "0        2013-08-15 00:18:08+00\n",
       "1        2013-08-15 00:48:07+00\n",
       "2        2013-08-15 01:17:58+00\n",
       "3        2013-08-15 01:47:51+00\n",
       "4        2013-08-15 02:17:42+00\n",
       "                  ...          \n",
       "61915    2014-04-30 22:00:08+00\n",
       "61916    2014-04-30 22:29:57+00\n",
       "61917    2014-04-30 22:59:52+00\n",
       "61918    2014-04-30 23:29:43+00\n",
       "61919    2014-04-30 23:59:34+00\n",
       "Name: date_time, Length: 61920, dtype: object"
      ]
     },
     "execution_count": 77,
     "metadata": {},
     "output_type": "execute_result"
    }
   ],
   "source": [
    "birddata.date_time"
   ]
  },
  {
   "cell_type": "code",
   "execution_count": 78,
   "id": "050c236c",
   "metadata": {},
   "outputs": [
    {
     "data": {
      "text/plain": [
       "'2013-08-15'"
      ]
     },
     "execution_count": 78,
     "metadata": {},
     "output_type": "execute_result"
    }
   ],
   "source": [
    "birddata.date_time[0][0:10]"
   ]
  },
  {
   "cell_type": "code",
   "execution_count": 50,
   "id": "6c134ebb",
   "metadata": {},
   "outputs": [
    {
     "data": {
      "text/plain": [
       "date\n",
       "2013-08-15    134.092000\n",
       "2013-08-16    134.839506\n",
       "2013-08-17    147.439024\n",
       "2013-08-18    129.608163\n",
       "2013-08-19    180.174797\n",
       "                 ...    \n",
       "2014-04-26     15.118012\n",
       "2014-04-27     23.897297\n",
       "2014-04-28     37.716867\n",
       "2014-04-29     19.244792\n",
       "2014-04-30     13.954545\n",
       "Name: altitude, Length: 259, dtype: float64"
      ]
     },
     "execution_count": 50,
     "metadata": {},
     "output_type": "execute_result"
    }
   ],
   "source": [
    "# Convert birddata.date_time to the `pd.datetime` format.\n",
    "birddata.date_time = pd.to_datetime(birddata.date_time)\n",
    "\n",
    "# Create a new column of day of observation\n",
    "birddata[\"date\"] = birddata.date_time.dt.date\n",
    "\n",
    "# Use `groupby()` to group the data by date.\n",
    "grouped_bydates = birddata.groupby(\"date\")\n",
    "\n",
    "# Find the mean `altitude` for each date.\n",
    "mean_altitudes_perday = grouped_bydates.altitude.mean()\n",
    "\n",
    "mean_altitudes_perday"
   ]
  },
  {
   "cell_type": "markdown",
   "id": "ca0b0c6c",
   "metadata": {},
   "source": [
    "Now apply this to find mean altitude of the birds on 2013-09-12"
   ]
  },
  {
   "cell_type": "code",
   "execution_count": 15,
   "id": "3788323c",
   "metadata": {},
   "outputs": [
    {
     "name": "stdout",
     "output_type": "stream",
     "text": [
      "28 75.64609053497942\n"
     ]
    }
   ],
   "source": [
    "m_a_p = mean_altitudes_perday\n",
    "\n",
    "for i in range(len(m_a_p)):\n",
    "    if m_a_p.index[i] == pd.to_datetime('2013-09-12').date():\n",
    "        print(i, m_a_p[i])"
   ]
  },
  {
   "cell_type": "markdown",
   "id": "b7dd8357",
   "metadata": {},
   "source": [
    "### Exercise 3\n",
    "\n",
    "In this exercise, we will group the flight times by both bird and date, and calculate the mean altitude for each.\n",
    "\n",
    "#### Instructions \n",
    "- `birddata` already contains the `date` column. To find the average speed for each bird and day, create a new grouped dataframe called `grouped_birdday` that groups the data by both `bird_name` and date."
   ]
  },
  {
   "cell_type": "code",
   "execution_count": 55,
   "id": "a394f338",
   "metadata": {},
   "outputs": [
    {
     "data": {
      "text/plain": [
       "date\n",
       "2013-08-15     74.988095\n",
       "2013-08-16    127.773810\n",
       "2013-08-17    125.890244\n",
       "2013-08-18    121.353659\n",
       "2013-08-19    134.928571\n",
       "                 ...    \n",
       "2014-04-26     20.717391\n",
       "2014-04-27     48.790698\n",
       "2014-04-28     27.829787\n",
       "2014-04-29     17.425532\n",
       "2014-04-30     38.791667\n",
       "Name: altitude, Length: 252, dtype: float64"
      ]
     },
     "execution_count": 55,
     "metadata": {},
     "output_type": "execute_result"
    }
   ],
   "source": [
    "# Use `groupby()` to group the data by bird and date.\n",
    "grouped_birdday = birddata.groupby([\"bird_name\",\"date\"])\n",
    "\n",
    "# Find the mean `altitude` for each bird and date.\n",
    "mean_altitudes_perday = grouped_birdday.altitude.mean()\n",
    "\n",
    "mean_altitudes_perday[\"Eric\"]"
   ]
  },
  {
   "cell_type": "markdown",
   "id": "2640ba85",
   "metadata": {},
   "source": [
    "### Exercise 4\n",
    "\n",
    "Great! Now find the average speed for each bird and day.\n",
    "\n",
    "#### Instructions \n",
    "\n",
    "- Store these are three `pandas` `Series` objects, one for each bird.\n",
    "- Use the plotting code provided to plot the average speeds for each bird."
   ]
  },
  {
   "cell_type": "code",
   "execution_count": 56,
   "id": "990cbba0",
   "metadata": {},
   "outputs": [
    {
     "data": {
      "image/png": "[encoded data removed]",
      "text/plain": [
       "<Figure size 720x288 with 1 Axes>"
      ]
     },
     "metadata": {
      "needs_background": "light"
     },
     "output_type": "display_data"
    }
   ],
   "source": [
    "import matplotlib.pyplot as plt\n",
    "\n",
    "grouped_birdday.altitude.mean()\n",
    "\n",
    "eric_daily_speed  = grouped_birdday.speed_2d.mean()[\"Eric\"]\n",
    "sanne_daily_speed = grouped_birdday.speed_2d.mean()[\"Sanne\"]\n",
    "nico_daily_speed  = grouped_birdday.speed_2d.mean()[\"Nico\"]\n",
    "\n",
    "plt.figure(figsize = (10,4))\n",
    "eric_daily_speed.plot(label=\"Eric\")\n",
    "sanne_daily_speed.plot(label=\"Sanne\")\n",
    "nico_daily_speed.plot(label=\"Nico\")\n",
    "plt.legend(loc=\"upper left\")\n",
    "plt.show()"
   ]
  },
  {
   "cell_type": "code",
   "execution_count": 57,
   "id": "a13c1437",
   "metadata": {},
   "outputs": [
    {
     "data": {
      "text/plain": [
       "2.8324654508684057"
      ]
     },
     "execution_count": 57,
     "metadata": {},
     "output_type": "execute_result"
    }
   ],
   "source": [
    "nico_daily_speed[232]"
   ]
  },
  {
   "cell_type": "code",
   "execution_count": 58,
   "id": "312440ba",
   "metadata": {},
   "outputs": [
    {
     "name": "stdout",
     "output_type": "stream",
     "text": [
      "2013-08-15\n"
     ]
    },
    {
     "data": {
      "text/plain": [
       "True"
      ]
     },
     "execution_count": 58,
     "metadata": {},
     "output_type": "execute_result"
    }
   ],
   "source": [
    "print(nico_daily_speed.index[0])\n",
    "\n",
    "key = pd.to_datetime('2013-08-15').date()\n",
    "nico_daily_speed.index[0] == key"
   ]
  },
  {
   "cell_type": "code",
   "execution_count": 20,
   "id": "c89ad145",
   "metadata": {},
   "outputs": [
    {
     "name": "stdout",
     "output_type": "stream",
     "text": [
      "232 2.8324654508684057\n"
     ]
    }
   ],
   "source": [
    "for i in range(len(nico_daily_speed)):\n",
    "    if nico_daily_speed.index[i] == pd.to_datetime('2014-04-04').date():\n",
    "        print(i, nico_daily_speed[i])"
   ]
  },
  {
   "cell_type": "markdown",
   "id": "f482ad93",
   "metadata": {},
   "source": [
    "## Case Study 4: Homophily, Networks, and Nodes\n",
    "\n",
    "**Homophily** is a property of networks.  Homophily occurs when nodes that are neighbors in a network also share a characteristic more often than nodes that are not network neighbors.  In this case study, we will investigate homophily of several characteristics of individuals connected in social networks in rural India."
   ]
  },
  {
   "cell_type": "markdown",
   "id": "cea98fbe",
   "metadata": {},
   "source": [
    "### Exercise 1\n",
    "In Exercise 1, we will calculate the chance homophily for an arbitrary characteristic. Homophily is the proportion of edges in the network whose constituent nodes share that characteristic.\n",
    "\n",
    "How much homophily do we expect by chance? If characteristics are distributed completely randomly, the probability that two nodes \\(x\\) and \\(y\\) share characteristic \\(a\\) is the probability both nodes have characteristic \\(a\\) , which is the marginal probability of \\(a\\) squared. The total probability that nodes \\(x\\) and \\(y\\) share their characteristic is therefore the sum of the square of the marginal probabilities of each characteristic in the network.\n",
    "\n",
    "<strong>Instructions</strong>\n",
    "<ul><li>Create a function <code>marginal_prob</code> that takes a dictionary <code>chars</code> with personal IDs as keys and characteristics as values; it should return a dictionary with characteristics as keys and their marginal probability (frequency of occurence of a characteristic divided by the sum of frequencies of each characteristic) as values.</li>\n",
    "<li>Create a function <code>chance_homophily(chars)</code> that takes a dictionary <code>chars</code> defined as above and computes the chance homophily (homophily due to chance alone) for that characteristic.</li>\n",
    "<li>A sample of three peoples' favorite colors is given in <code>favorite_colors</code>. Use your function to compute the chance homophily in this group, and store it as <code>color_homophily</code>.</li>\n",
    "<li>Print <code>color_homophily</code>.</li></ul>"
   ]
  },
  {
   "cell_type": "code",
   "execution_count": 65,
   "id": "5b3e2819",
   "metadata": {},
   "outputs": [
    {
     "name": "stdout",
     "output_type": "stream",
     "text": [
      "0.5555555555555556\n"
     ]
    }
   ],
   "source": [
    "from collections import Counter\n",
    "import numpy as np\n",
    "\n",
    "def marginal_prob(chars):\n",
    "    \"\"\"\n",
    "    Returns a dictionary, where keys are characteristics in\n",
    "    chars and values are marginal probabilities for each characteristics\n",
    "    \"\"\"\n",
    "    # keys: personal IDS, values: characteristics\n",
    "    string = \"\"\n",
    "    for characteristic in chars.values():\n",
    "        string = string + str(characteristic) + \" \"\n",
    "    string = string[:-1] # because there is empty space at the end\n",
    "    freq_dict = Counter(string.split(\" \"))\n",
    "    \n",
    "    sum_freq = sum(freq_dict.values())\n",
    "    new_dict = {}\n",
    "    for characteristic in chars.values():\n",
    "        new_dict[characteristic] = freq_dict[characteristic]/sum_freq\n",
    "\n",
    "    return new_dict\n",
    "  \n",
    "def chance_homophily(chars):\n",
    "    new_dict = {}\n",
    "    for characteristic in chars.values():\n",
    "        new_dict[characteristic] = np.square(marginal_prob(chars)[characteristic])\n",
    "    \n",
    "    return sum(new_dict.values())\n",
    "\n",
    "\n",
    "favorite_colors = {\n",
    "    \"ankit\":  \"red\",\n",
    "    \"xiaoyu\": \"blue\",\n",
    "    \"mary\":   \"blue\"\n",
    "}\n",
    "\n",
    "color_homophily = chance_homophily(favorite_colors)\n",
    "print(color_homophily)"
   ]
  },
  {
   "cell_type": "code",
   "execution_count": 66,
   "id": "b74e02fd",
   "metadata": {},
   "outputs": [
    {
     "name": "stdout",
     "output_type": "stream",
     "text": [
      "0.5555555555555556\n"
     ]
    }
   ],
   "source": [
    "# The course offers a much simpler algorithm\n",
    "\n",
    "from collections import Counter\n",
    "import numpy as np\n",
    "\n",
    "def marginal_prob(chars):\n",
    "    frequencies = dict(Counter(chars.values()))\n",
    "    sum_frequencies = sum(frequencies.values())\n",
    "    return {char: freq / sum_frequencies for char, freq in frequencies.items()}\n",
    "                \n",
    "def chance_homophily(chars):\n",
    "    marginal_probs = marginal_prob(chars)\n",
    "    return np.sum(np.square(list(marginal_probs.values())))\n",
    "\n",
    "favorite_colors = {\n",
    "    \"ankit\":  \"red\",\n",
    "    \"xiaoyu\": \"blue\",\n",
    "    \"mary\":   \"blue\"\n",
    "}\n",
    "\n",
    "color_homophily = chance_homophily(favorite_colors)\n",
    "print(color_homophily)"
   ]
  },
  {
   "cell_type": "markdown",
   "id": "2f5e0ec3",
   "metadata": {},
   "source": [
    "### Exercise 2\n",
    "\n",
    "In the remaining exercises, we will calculate actual homophily in these village and compare the obtained values to those obtained by chance. In this exercise, we subset the data into individual villages and store them.\n",
    "\n",
    "#### Instructions \n",
    "\n",
    "- `individual_characteristics.dta` contains several characteristics for each individual in the dataset such as age, religion, and caste. Use the `pandas` library to read in and store these characteristics as a dataframe called `df`.\n",
    "- Store separate datasets for individuals belonging to Villages 1 and 2 as `df1` and `df2`, respectively.\n",
    "- Note that some attributes may be missing for some individuals. In this case study, we will ignore rows of data where some column information is missing.\n",
    "- Use the head method to display the first few entries of `df1`."
   ]
  },
  {
   "cell_type": "code",
   "execution_count": 67,
   "id": "333d3157",
   "metadata": {},
   "outputs": [
    {
     "data": {
      "text/html": [
       "<div>\n",
       "<style scoped>\n",
       "    .dataframe tbody tr th:only-of-type {\n",
       "        vertical-align: middle;\n",
       "    }\n",
       "\n",
       "    .dataframe tbody tr th {\n",
       "        vertical-align: top;\n",
       "    }\n",
       "\n",
       "    .dataframe thead th {\n",
       "        text-align: right;\n",
       "    }\n",
       "</style>\n",
       "<table border=\"1\" class=\"dataframe\">\n",
       "  <thead>\n",
       "    <tr style=\"text-align: right;\">\n",
       "      <th></th>\n",
       "      <th>village</th>\n",
       "      <th>adjmatrix_key</th>\n",
       "      <th>pid</th>\n",
       "      <th>hhid</th>\n",
       "      <th>resp_id</th>\n",
       "      <th>resp_gend</th>\n",
       "      <th>resp_status</th>\n",
       "      <th>age</th>\n",
       "      <th>religion</th>\n",
       "      <th>caste</th>\n",
       "      <th>...</th>\n",
       "      <th>privategovt</th>\n",
       "      <th>work_outside</th>\n",
       "      <th>work_outside_freq</th>\n",
       "      <th>shgparticipate</th>\n",
       "      <th>shg_no</th>\n",
       "      <th>savings</th>\n",
       "      <th>savings_no</th>\n",
       "      <th>electioncard</th>\n",
       "      <th>rationcard</th>\n",
       "      <th>rationcard_colour</th>\n",
       "    </tr>\n",
       "  </thead>\n",
       "  <tbody>\n",
       "    <tr>\n",
       "      <th>0</th>\n",
       "      <td>1</td>\n",
       "      <td>5</td>\n",
       "      <td>100201</td>\n",
       "      <td>1002</td>\n",
       "      <td>1</td>\n",
       "      <td>1</td>\n",
       "      <td>Head of Household</td>\n",
       "      <td>38</td>\n",
       "      <td>HINDUISM</td>\n",
       "      <td>OBC</td>\n",
       "      <td>...</td>\n",
       "      <td>PRIVATE BUSINESS</td>\n",
       "      <td>Yes</td>\n",
       "      <td>0.0</td>\n",
       "      <td>No</td>\n",
       "      <td>NaN</td>\n",
       "      <td>No</td>\n",
       "      <td>NaN</td>\n",
       "      <td>Yes</td>\n",
       "      <td>Yes</td>\n",
       "      <td>GREEN</td>\n",
       "    </tr>\n",
       "    <tr>\n",
       "      <th>1</th>\n",
       "      <td>1</td>\n",
       "      <td>6</td>\n",
       "      <td>100202</td>\n",
       "      <td>1002</td>\n",
       "      <td>2</td>\n",
       "      <td>2</td>\n",
       "      <td>Spouse of Head of Household</td>\n",
       "      <td>27</td>\n",
       "      <td>HINDUISM</td>\n",
       "      <td>OBC</td>\n",
       "      <td>...</td>\n",
       "      <td>NaN</td>\n",
       "      <td>NaN</td>\n",
       "      <td>NaN</td>\n",
       "      <td>No</td>\n",
       "      <td>NaN</td>\n",
       "      <td>No</td>\n",
       "      <td>NaN</td>\n",
       "      <td>Yes</td>\n",
       "      <td>Yes</td>\n",
       "      <td>GREEN</td>\n",
       "    </tr>\n",
       "    <tr>\n",
       "      <th>2</th>\n",
       "      <td>1</td>\n",
       "      <td>23</td>\n",
       "      <td>100601</td>\n",
       "      <td>1006</td>\n",
       "      <td>1</td>\n",
       "      <td>1</td>\n",
       "      <td>Head of Household</td>\n",
       "      <td>29</td>\n",
       "      <td>HINDUISM</td>\n",
       "      <td>OBC</td>\n",
       "      <td>...</td>\n",
       "      <td>OTHER LAND</td>\n",
       "      <td>No</td>\n",
       "      <td>NaN</td>\n",
       "      <td>No</td>\n",
       "      <td>NaN</td>\n",
       "      <td>No</td>\n",
       "      <td>NaN</td>\n",
       "      <td>Yes</td>\n",
       "      <td>Yes</td>\n",
       "      <td>GREEN</td>\n",
       "    </tr>\n",
       "    <tr>\n",
       "      <th>3</th>\n",
       "      <td>1</td>\n",
       "      <td>24</td>\n",
       "      <td>100602</td>\n",
       "      <td>1006</td>\n",
       "      <td>2</td>\n",
       "      <td>2</td>\n",
       "      <td>Spouse of Head of Household</td>\n",
       "      <td>24</td>\n",
       "      <td>HINDUISM</td>\n",
       "      <td>OBC</td>\n",
       "      <td>...</td>\n",
       "      <td>PRIVATE BUSINESS</td>\n",
       "      <td>No</td>\n",
       "      <td>NaN</td>\n",
       "      <td>Yes</td>\n",
       "      <td>1.0</td>\n",
       "      <td>Yes</td>\n",
       "      <td>1.0</td>\n",
       "      <td>Yes</td>\n",
       "      <td>No</td>\n",
       "      <td>NaN</td>\n",
       "    </tr>\n",
       "    <tr>\n",
       "      <th>4</th>\n",
       "      <td>1</td>\n",
       "      <td>27</td>\n",
       "      <td>100701</td>\n",
       "      <td>1007</td>\n",
       "      <td>1</td>\n",
       "      <td>1</td>\n",
       "      <td>Head of Household</td>\n",
       "      <td>58</td>\n",
       "      <td>HINDUISM</td>\n",
       "      <td>OBC</td>\n",
       "      <td>...</td>\n",
       "      <td>OTHER LAND</td>\n",
       "      <td>No</td>\n",
       "      <td>NaN</td>\n",
       "      <td>No</td>\n",
       "      <td>NaN</td>\n",
       "      <td>No</td>\n",
       "      <td>NaN</td>\n",
       "      <td>Yes</td>\n",
       "      <td>Yes</td>\n",
       "      <td>GREEN</td>\n",
       "    </tr>\n",
       "  </tbody>\n",
       "</table>\n",
       "<p>5 rows × 48 columns</p>\n",
       "</div>"
      ],
      "text/plain": [
       "   village  adjmatrix_key     pid  hhid  resp_id  resp_gend  \\\n",
       "0        1              5  100201  1002        1          1   \n",
       "1        1              6  100202  1002        2          2   \n",
       "2        1             23  100601  1006        1          1   \n",
       "3        1             24  100602  1006        2          2   \n",
       "4        1             27  100701  1007        1          1   \n",
       "\n",
       "                   resp_status  age  religion caste  ...       privategovt  \\\n",
       "0            Head of Household   38  HINDUISM   OBC  ...  PRIVATE BUSINESS   \n",
       "1  Spouse of Head of Household   27  HINDUISM   OBC  ...               NaN   \n",
       "2            Head of Household   29  HINDUISM   OBC  ...        OTHER LAND   \n",
       "3  Spouse of Head of Household   24  HINDUISM   OBC  ...  PRIVATE BUSINESS   \n",
       "4            Head of Household   58  HINDUISM   OBC  ...        OTHER LAND   \n",
       "\n",
       "  work_outside work_outside_freq shgparticipate shg_no savings savings_no  \\\n",
       "0          Yes               0.0             No    NaN      No        NaN   \n",
       "1          NaN               NaN             No    NaN      No        NaN   \n",
       "2           No               NaN             No    NaN      No        NaN   \n",
       "3           No               NaN            Yes    1.0     Yes        1.0   \n",
       "4           No               NaN             No    NaN      No        NaN   \n",
       "\n",
       "  electioncard rationcard rationcard_colour  \n",
       "0          Yes        Yes             GREEN  \n",
       "1          Yes        Yes             GREEN  \n",
       "2          Yes        Yes             GREEN  \n",
       "3          Yes         No               NaN  \n",
       "4          Yes        Yes             GREEN  \n",
       "\n",
       "[5 rows x 48 columns]"
      ]
     },
     "execution_count": 67,
     "metadata": {},
     "output_type": "execute_result"
    }
   ],
   "source": [
    "import pandas as pd\n",
    "\n",
    "df  = pd.read_csv(\"https://courses.edx.org/asset-v1:HarvardX+PH526x+2T2019+type@asset+block@individual_characteristics.csv\", low_memory=False, index_col=0)\n",
    "\n",
    "df1 = df[df.village == 1]\n",
    "df2 = df[df.village == 2]\n",
    "\n",
    "df1.head()"
   ]
  },
  {
   "cell_type": "markdown",
   "id": "92ee2126",
   "metadata": {},
   "source": [
    "### Exercise 3 \n",
    "\n",
    "In this exercise, we define a few dictionaries that enable us to look up the sex, caste, and religion of members of each village by personal ID. For Villages 1 and 2, their personal IDs are stored as `pid`.\n",
    "\n",
    "#### Instructions \n",
    "- Define dictionaries with personal IDs as keys and a given covariate for that individual as values. Complete this for the sex, caste, and religion covariates, for Villages 1 and 2.\n",
    "- For Village 1, store these dictionaries into variables named `sex1`, `caste1`, and `religion1`.\n",
    "- For Village 2, store these dictionaries into variables named `sex2`, `caste2`, and `religion2`."
   ]
  },
  {
   "cell_type": "code",
   "execution_count": 24,
   "id": "4132b9f9",
   "metadata": {},
   "outputs": [
    {
     "name": "stdout",
     "output_type": "stream",
     "text": [
      "1    HINDUISM\n",
      "Name: religion, dtype: object\n"
     ]
    }
   ],
   "source": [
    "print(df1[df1.pid == 100202].religion)"
   ]
  },
  {
   "cell_type": "code",
   "execution_count": 68,
   "id": "1aa0da51",
   "metadata": {},
   "outputs": [
    {
     "name": "stdout",
     "output_type": "stream",
     "text": [
      "{100201: 0    1\n",
      "Name: resp_gend, dtype: int64, 100202: 1    2\n",
      "Name: resp_gend, dtype: int64, 100601: 2    1\n",
      "Name: resp_gend, dtype: int64, 100602: 3    2\n",
      "Name: resp_gend, dtype: int64, 100701: 4    1\n",
      "Name: resp_gend, dtype: int64, 100702: 5    2\n",
      "Name: resp_gend, dtype: int64, 100801: 6    1\n",
      "Name: resp_gend, dtype: int64, 100802: 7    2\n",
      "Name: resp_gend, dtype: int64, 100805: 8    2\n",
      "Name: resp_gend, dtype: int64, 100806: 9    1\n",
      "Name: resp_gend, dtype: int64, 100807: 10    1\n",
      "Name: resp_gend, dtype: int64, 100808: 11    2\n",
      "Name: resp_gend, dtype: int64, 101301: 12    2\n",
      "Name: resp_gend, dtype: int64, 101302: 13    2\n",
      "Name: resp_gend, dtype: int64, 101303: 14    2\n",
      "Name: resp_gend, dtype: int64, 101601: 15    1\n",
      "Name: resp_gend, dtype: int64, 101602: 16    2\n",
      "Name: resp_gend, dtype: int64, 102001: 17    1\n",
      "Name: resp_gend, dtype: int64, 102002: 18    2\n",
      "Name: resp_gend, dtype: int64, 102004: 19    2\n",
      "Name: resp_gend, dtype: int64, 102101: 20    1\n",
      "Name: resp_gend, dtype: int64, 102102: 21    2\n",
      "Name: resp_gend, dtype: int64, 102103: 22    1\n",
      "Name: resp_gend, dtype: int64, 102104: 23    2\n",
      "Name: resp_gend, dtype: int64, 102401: 24    1\n",
      "Name: resp_gend, dtype: int64, 102402: 25    2\n",
      "Name: resp_gend, dtype: int64, 102901: 26    1\n",
      "Name: resp_gend, dtype: int64, 102902: 27    2\n",
      "Name: resp_gend, dtype: int64, 103101: 28    1\n",
      "Name: resp_gend, dtype: int64, 103102: 29    2\n",
      "Name: resp_gend, dtype: int64, 103104: 30    2\n",
      "Name: resp_gend, dtype: int64, 103105: 31    2\n",
      "Name: resp_gend, dtype: int64, 103201: 32    1\n",
      "Name: resp_gend, dtype: int64, 103202: 33    2\n",
      "Name: resp_gend, dtype: int64, 103301: 34    1\n",
      "Name: resp_gend, dtype: int64, 103302: 35    2\n",
      "Name: resp_gend, dtype: int64, 103501: 36    1\n",
      "Name: resp_gend, dtype: int64, 103502: 37    2\n",
      "Name: resp_gend, dtype: int64, 103701: 38    1\n",
      "Name: resp_gend, dtype: int64, 103702: 39    2\n",
      "Name: resp_gend, dtype: int64, 104001: 40    1\n",
      "Name: resp_gend, dtype: int64, 104002: 41    2\n",
      "Name: resp_gend, dtype: int64, 104101: 42    1\n",
      "Name: resp_gend, dtype: int64, 104102: 43    2\n",
      "Name: resp_gend, dtype: int64, 104201: 44    1\n",
      "Name: resp_gend, dtype: int64, 104202: 45    2\n",
      "Name: resp_gend, dtype: int64, 104301: 46    1\n",
      "Name: resp_gend, dtype: int64, 104302: 47    2\n",
      "Name: resp_gend, dtype: int64, 104801: 48    1\n",
      "Name: resp_gend, dtype: int64, 104802: 49    2\n",
      "Name: resp_gend, dtype: int64, 104901: 50    1\n",
      "Name: resp_gend, dtype: int64, 104902: 51    2\n",
      "Name: resp_gend, dtype: int64, 105201: 52    1\n",
      "Name: resp_gend, dtype: int64, 105301: 53    1\n",
      "Name: resp_gend, dtype: int64, 105302: 54    2\n",
      "Name: resp_gend, dtype: int64, 105303: 55    1\n",
      "Name: resp_gend, dtype: int64, 105304: 56    2\n",
      "Name: resp_gend, dtype: int64, 105401: 57    1\n",
      "Name: resp_gend, dtype: int64, 105402: 58    2\n",
      "Name: resp_gend, dtype: int64, 105404: 59    2\n",
      "Name: resp_gend, dtype: int64, 105802: 60    2\n",
      "Name: resp_gend, dtype: int64, 105901: 61    1\n",
      "Name: resp_gend, dtype: int64, 105902: 62    2\n",
      "Name: resp_gend, dtype: int64, 106201: 63    1\n",
      "Name: resp_gend, dtype: int64, 106202: 64    2\n",
      "Name: resp_gend, dtype: int64, 106204: 65    1\n",
      "Name: resp_gend, dtype: int64, 106205: 66    2\n",
      "Name: resp_gend, dtype: int64, 106501: 67    1\n",
      "Name: resp_gend, dtype: int64, 106502: 68    1\n",
      "Name: resp_gend, dtype: int64, 106503: 69    2\n",
      "Name: resp_gend, dtype: int64, 106701: 70    1\n",
      "Name: resp_gend, dtype: int64, 106702: 71    2\n",
      "Name: resp_gend, dtype: int64, 106704: 72    2\n",
      "Name: resp_gend, dtype: int64, 106801: 73    1\n",
      "Name: resp_gend, dtype: int64, 106802: 74    2\n",
      "Name: resp_gend, dtype: int64, 107101: 75    1\n",
      "Name: resp_gend, dtype: int64, 107102: 76    2\n",
      "Name: resp_gend, dtype: int64, 107301: 77    1\n",
      "Name: resp_gend, dtype: int64, 107302: 78    2\n",
      "Name: resp_gend, dtype: int64, 107303: 79    1\n",
      "Name: resp_gend, dtype: int64, 107304: 80    2\n",
      "Name: resp_gend, dtype: int64, 107307: 81    1\n",
      "Name: resp_gend, dtype: int64, 107308: 82    2\n",
      "Name: resp_gend, dtype: int64, 107401: 83    1\n",
      "Name: resp_gend, dtype: int64, 107402: 84    2\n",
      "Name: resp_gend, dtype: int64, 107802: 85    2\n",
      "Name: resp_gend, dtype: int64, 107803: 86    2\n",
      "Name: resp_gend, dtype: int64, 107805: 87    1\n",
      "Name: resp_gend, dtype: int64, 107901: 88    1\n",
      "Name: resp_gend, dtype: int64, 108101: 89    1\n",
      "Name: resp_gend, dtype: int64, 108102: 90    2\n",
      "Name: resp_gend, dtype: int64, 108104: 91    2\n",
      "Name: resp_gend, dtype: int64, 108301: 92    1\n",
      "Name: resp_gend, dtype: int64, 108302: 93    2\n",
      "Name: resp_gend, dtype: int64, 108304: 94    2\n",
      "Name: resp_gend, dtype: int64, 108801: 95    1\n",
      "Name: resp_gend, dtype: int64, 108802: 96    2\n",
      "Name: resp_gend, dtype: int64, 108803: 97    1\n",
      "Name: resp_gend, dtype: int64, 108804: 98    2\n",
      "Name: resp_gend, dtype: int64, 108901: 99    1\n",
      "Name: resp_gend, dtype: int64, 108902: 100    2\n",
      "Name: resp_gend, dtype: int64, 108905: 101    1\n",
      "Name: resp_gend, dtype: int64, 108906: 102    2\n",
      "Name: resp_gend, dtype: int64, 109201: 103    1\n",
      "Name: resp_gend, dtype: int64, 109202: 104    2\n",
      "Name: resp_gend, dtype: int64, 109401: 105    1\n",
      "Name: resp_gend, dtype: int64, 109402: 106    2\n",
      "Name: resp_gend, dtype: int64, 109501: 107    1\n",
      "Name: resp_gend, dtype: int64, 109502: 108    2\n",
      "Name: resp_gend, dtype: int64, 109505: 109    1\n",
      "Name: resp_gend, dtype: int64, 109506: 110    2\n",
      "Name: resp_gend, dtype: int64, 109701: 111    1\n",
      "Name: resp_gend, dtype: int64, 109702: 112    2\n",
      "Name: resp_gend, dtype: int64, 109901: 113    1\n",
      "Name: resp_gend, dtype: int64, 109902: 114    2\n",
      "Name: resp_gend, dtype: int64, 110301: 115    1\n",
      "Name: resp_gend, dtype: int64, 110302: 116    2\n",
      "Name: resp_gend, dtype: int64, 110501: 117    1\n",
      "Name: resp_gend, dtype: int64, 110502: 118    2\n",
      "Name: resp_gend, dtype: int64, 110601: 119    1\n",
      "Name: resp_gend, dtype: int64, 110602: 120    2\n",
      "Name: resp_gend, dtype: int64, 111201: 121    2\n",
      "Name: resp_gend, dtype: int64, 111203: 122    2\n",
      "Name: resp_gend, dtype: int64, 111204: 123    2\n",
      "Name: resp_gend, dtype: int64, 111205: 124    1\n",
      "Name: resp_gend, dtype: int64, 111501: 125    1\n",
      "Name: resp_gend, dtype: int64, 111502: 126    2\n",
      "Name: resp_gend, dtype: int64, 111901: 127    1\n",
      "Name: resp_gend, dtype: int64, 111902: 128    2\n",
      "Name: resp_gend, dtype: int64, 111903: 129    1\n",
      "Name: resp_gend, dtype: int64, 111904: 130    2\n",
      "Name: resp_gend, dtype: int64, 112201: 131    1\n",
      "Name: resp_gend, dtype: int64, 112202: 132    2\n",
      "Name: resp_gend, dtype: int64, 112601: 133    1\n",
      "Name: resp_gend, dtype: int64, 112603: 134    2\n",
      "Name: resp_gend, dtype: int64, 112604: 135    2\n",
      "Name: resp_gend, dtype: int64, 112605: 136    1\n",
      "Name: resp_gend, dtype: int64, 112801: 137    1\n",
      "Name: resp_gend, dtype: int64, 112802: 138    2\n",
      "Name: resp_gend, dtype: int64, 113301: 139    1\n",
      "Name: resp_gend, dtype: int64, 113302: 140    2\n",
      "Name: resp_gend, dtype: int64, 113401: 141    2\n",
      "Name: resp_gend, dtype: int64, 113601: 142    1\n",
      "Name: resp_gend, dtype: int64, 113602: 143    2\n",
      "Name: resp_gend, dtype: int64, 113901: 144    1\n",
      "Name: resp_gend, dtype: int64, 113902: 145    2\n",
      "Name: resp_gend, dtype: int64, 114001: 146    1\n",
      "Name: resp_gend, dtype: int64, 114002: 147    2\n",
      "Name: resp_gend, dtype: int64, 114301: 148    2\n",
      "Name: resp_gend, dtype: int64, 114302: 149    1\n",
      "Name: resp_gend, dtype: int64, 114303: 150    2\n",
      "Name: resp_gend, dtype: int64, 114601: 151    1\n",
      "Name: resp_gend, dtype: int64, 114602: 152    2\n",
      "Name: resp_gend, dtype: int64, 114701: 153    1\n",
      "Name: resp_gend, dtype: int64, 114702: 154    2\n",
      "Name: resp_gend, dtype: int64, 114703: 155    2\n",
      "Name: resp_gend, dtype: int64, 114801: 156    1\n",
      "Name: resp_gend, dtype: int64, 114802: 157    2\n",
      "Name: resp_gend, dtype: int64, 115201: 158    1\n",
      "Name: resp_gend, dtype: int64, 115202: 159    2\n",
      "Name: resp_gend, dtype: int64, 115501: 160    1\n",
      "Name: resp_gend, dtype: int64, 115502: 161    2\n",
      "Name: resp_gend, dtype: int64, 115503: 162    1\n",
      "Name: resp_gend, dtype: int64, 115504: 163    2\n",
      "Name: resp_gend, dtype: int64, 115601: 164    1\n",
      "Name: resp_gend, dtype: int64, 115801: 165    1\n",
      "Name: resp_gend, dtype: int64, 115802: 166    1\n",
      "Name: resp_gend, dtype: int64, 115803: 167    2\n",
      "Name: resp_gend, dtype: int64, 115807: 168    1\n",
      "Name: resp_gend, dtype: int64, 115808: 169    2\n",
      "Name: resp_gend, dtype: int64, 115809: 170    2\n",
      "Name: resp_gend, dtype: int64, 116201: 171    2\n",
      "Name: resp_gend, dtype: int64, 116202: 172    1\n",
      "Name: resp_gend, dtype: int64, 116203: 173    2\n",
      "Name: resp_gend, dtype: int64, 116206: 174    1\n",
      "Name: resp_gend, dtype: int64, 116207: 175    2\n",
      "Name: resp_gend, dtype: int64, 116301: 176    1\n",
      "Name: resp_gend, dtype: int64, 116302: 177    2\n",
      "Name: resp_gend, dtype: int64, 116303: 178    1\n",
      "Name: resp_gend, dtype: int64, 116304: 179    2\n",
      "Name: resp_gend, dtype: int64, 116307: 180    1\n",
      "Name: resp_gend, dtype: int64, 116308: 181    2\n",
      "Name: resp_gend, dtype: int64, 116310: 182    1\n",
      "Name: resp_gend, dtype: int64, 116311: 183    2\n",
      "Name: resp_gend, dtype: int64, 116401: 184    1\n",
      "Name: resp_gend, dtype: int64, 116402: 185    2\n",
      "Name: resp_gend, dtype: int64, 116501: 186    1\n",
      "Name: resp_gend, dtype: int64, 116502: 187    2\n",
      "Name: resp_gend, dtype: int64, 116601: 188    1\n",
      "Name: resp_gend, dtype: int64, 116602: 189    2\n",
      "Name: resp_gend, dtype: int64, 116901: 190    1\n",
      "Name: resp_gend, dtype: int64, 116902: 191    2\n",
      "Name: resp_gend, dtype: int64, 116905: 192    2\n",
      "Name: resp_gend, dtype: int64, 117101: 193    1\n",
      "Name: resp_gend, dtype: int64, 117102: 194    2\n",
      "Name: resp_gend, dtype: int64, 117103: 195    2\n",
      "Name: resp_gend, dtype: int64, 117105: 196    1\n",
      "Name: resp_gend, dtype: int64, 117201: 197    1\n",
      "Name: resp_gend, dtype: int64, 117202: 198    2\n",
      "Name: resp_gend, dtype: int64, 117203: 199    2\n",
      "Name: resp_gend, dtype: int64, 117301: 200    1\n",
      "Name: resp_gend, dtype: int64, 117403: 201    2\n",
      "Name: resp_gend, dtype: int64, 117404: 202    1\n",
      "Name: resp_gend, dtype: int64}\n"
     ]
    }
   ],
   "source": [
    "sex1 = {}\n",
    "for pid in df1.pid:\n",
    "    sex1[pid] = df1[df1.pid == pid].resp_gend\n",
    "\n",
    "print(sex1)"
   ]
  },
  {
   "cell_type": "code",
   "execution_count": 26,
   "id": "a171e37c",
   "metadata": {},
   "outputs": [
    {
     "data": {
      "text/plain": [
       "1"
      ]
     },
     "execution_count": 26,
     "metadata": {},
     "output_type": "execute_result"
    }
   ],
   "source": [
    "df1.village.iloc[0]"
   ]
  },
  {
   "cell_type": "markdown",
   "id": "d5baa36e",
   "metadata": {},
   "source": [
    "However, we want a dictionary where keys are **personal ids**. To satisfy this condition, we need to set the index as pid using **dataFrame.set_index()**"
   ]
  },
  {
   "cell_type": "code",
   "execution_count": 29,
   "id": "d2ef1f09",
   "metadata": {},
   "outputs": [],
   "source": [
    "sex1 = df1.set_index(\"pid\")[\"resp_gend\"].to_dict()"
   ]
  },
  {
   "cell_type": "markdown",
   "id": "2c4f8508",
   "metadata": {},
   "source": [
    "Voila!"
   ]
  },
  {
   "cell_type": "code",
   "execution_count": 69,
   "id": "0a174411",
   "metadata": {},
   "outputs": [],
   "source": [
    "# The course offers\n",
    "\n",
    "sex1 = df1.set_index(\"pid\")[\"resp_gend\"].to_dict()\n",
    "caste1 = df1.set_index(\"pid\")[\"caste\"].to_dict()\n",
    "religion1 = df1.set_index(\"pid\")[\"religion\"].to_dict()\n",
    "\n",
    "sex2 = df2.set_index(\"pid\")[\"resp_gend\"].to_dict()\n",
    "caste2 = df2.set_index(\"pid\")[\"caste\"].to_dict()\n",
    "religion2 = df2.set_index(\"pid\")[\"religion\"].to_dict()"
   ]
  },
  {
   "cell_type": "markdown",
   "id": "8eb0a295",
   "metadata": {},
   "source": [
    "### Exercise 4\n",
    "\n",
    "In this exercise, we will print the chance homophily of several characteristics of Villages 1 and 2. \n",
    "\n",
    "#### Instructions \n",
    "-  Use `chance_homophily` to compute the chance homophily for sex, caste, and religion In Villages 1 and 2. Is the chance homophily for any attribute very high for either village?"
   ]
  },
  {
   "cell_type": "code",
   "execution_count": 31,
   "id": "f25970cf",
   "metadata": {},
   "outputs": [
    {
     "name": "stdout",
     "output_type": "stream",
     "text": [
      "sex1: 0.5027299861680701 \n",
      "\n",
      "caste1: 0.6741488509791551 \n",
      "\n",
      "religion1: 0.9804896988521925 \n",
      "\n",
      "sex2: 0.5005945303210464 \n",
      "\n",
      "caste2: 0.425368244800893 \n",
      "\n",
      "religion2: 1.0\n"
     ]
    }
   ],
   "source": [
    "print(\"sex1:\", chance_homophily(sex1),\"\\n\")\n",
    "print(\"caste1:\", chance_homophily(caste1),\"\\n\")\n",
    "print(\"religion1:\", chance_homophily(religion1),\"\\n\")\n",
    "\n",
    "print(\"sex2:\", chance_homophily(sex2),\"\\n\")\n",
    "print(\"caste2:\", chance_homophily(caste2),\"\\n\")\n",
    "print(\"religion2:\", chance_homophily(religion2))"
   ]
  },
  {
   "cell_type": "markdown",
   "id": "10cf153c",
   "metadata": {},
   "source": [
    "### Exercise 5\n",
    "\n",
    "In this exercise, we will create a function that computes the observed homophily given a village and characteristic.\n",
    "\n",
    "#### Instructions \n",
    "- Complete the function `homophily()`, which takes a network `G`, a dictionary of node characteristics `chars`, and node IDs `IDs`. For each node pair, determine whether a tie exists between them, as well as whether they share a characteristic. The total count of these is `num_ties` and `num_same_ties`, respectively, and their ratio is the homophily of chars in `G`. Complete the function by choosing where to increment `num_same_ties` and `num_ties`."
   ]
  },
  {
   "cell_type": "code",
   "execution_count": 79,
   "id": "5761a196",
   "metadata": {},
   "outputs": [],
   "source": [
    "def homophily(G, chars, IDs):\n",
    "    \"\"\"\n",
    "    Given a network G, a dict of characteristics chars for node IDs,\n",
    "    and dict of node IDs for each node in the network,\n",
    "    find the homophily of the network.\n",
    "    \"\"\"\n",
    "    num_same_ties = 0\n",
    "    num_ties = 0\n",
    "    for n1, n2 in G.edges(): #nodes that have edges\n",
    "        if IDs[n1] in chars and IDs[n2] in chars:\n",
    "            if G.has_edge(n1, n2): # if nodes are connected i.e. a tie exists\n",
    "                # Should `num_ties` be incremented?  What about `num_same_ties`?\n",
    "                num_ties += 1 # # of ties\n",
    "                if chars[IDs[n1]] == chars[IDs[n2]]: # if nodes also have the same characteristics\n",
    "                    # Should `num_ties` be incremented?  What about `num_same_ties`?\n",
    "                    num_same_ties += 1 # # of ties whose nodes have same characteristics\n",
    "    return (num_same_ties / num_ties)    "
   ]
  },
  {
   "cell_type": "markdown",
   "id": "65caee9b",
   "metadata": {},
   "source": [
    "### Exercise 6\n",
    "\n",
    "In this exercise, we will obtain the personal IDs for Villages 1 and 2. These will be used in the next exercise to calculate homophily for these villages.\n",
    "\n",
    "#### Instructions \n",
    "- In this dataset, each individual has a personal ID, or PID, stored in `key_vilno_1.csv` and `key_vilno_2.csv` for villages 1 and 2, respectively. `data_filepath1` and `data_filepath2` contain the URLs to the datasets used in this exercise. Use `pd.read_csv` to read in and store `key_vilno_1.csv` and `key_vilno_2.csv` as `pid1` and `pid2` respectively. "
   ]
  },
  {
   "cell_type": "code",
   "execution_count": 80,
   "id": "4f183535",
   "metadata": {},
   "outputs": [
    {
     "data": {
      "text/plain": [
       "0    102205\n",
       "Name: 100, dtype: int64"
      ]
     },
     "execution_count": 80,
     "metadata": {},
     "output_type": "execute_result"
    }
   ],
   "source": [
    "data_filepath1 = \"https://courses.edx.org/asset-v1:HarvardX+PH526x+2T2019+type@asset+block@key_vilno_1.csv\"\n",
    "data_filepath2 = \"https://courses.edx.org/asset-v1:HarvardX+PH526x+2T2019+type@asset+block@key_vilno_2.csv\"\n",
    "\n",
    "# df  = pd.read_csv(\"https://courses.edx.org/asset-v1:HarvardX+PH526x+2T2019+type@asset+block@individual_characteristics.csv\", low_memory=False, index_col=0)\n",
    "\n",
    "pid1 = pd.read_csv(data_filepath1, index_col=0)\n",
    "pid2 = pd.read_csv(data_filepath2, index_col=0)\n",
    "\n",
    "pid1.iloc[100]"
   ]
  },
  {
   "cell_type": "markdown",
   "id": "4c5d4d00",
   "metadata": {},
   "source": [
    "### Exercise 7\n",
    "\n",
    "In this exercise, we will compute the homophily of several network characteristics for Villages 1 and 2 and compare them to homophily due to chance alone. The networks for these villages have been stored as networkx graph objects `G1` and `G2`.\n",
    "\n",
    "#### Instructions \n",
    "\n",
    "- Use your `homophily()` function to compute the observed homophily for sex, caste, and religion in Villages 1 and 2. Print all six values.\n",
    "- Use the `chance_homophily()` to compare these values to chance homophily. Are these values higher or lower than that expected by chance?"
   ]
  },
  {
   "cell_type": "code",
   "execution_count": 81,
   "id": "12a645d2",
   "metadata": {},
   "outputs": [
    {
     "name": "stdout",
     "output_type": "stream",
     "text": [
      "0.5908629441624366 0.7959390862944162 0.9908629441624366 \n",
      "\n",
      "0.5658073270013568 0.8276797829036635 1.0 \n",
      "\n",
      "\n",
      "0.5027299861680701 0.6741488509791551 0.9804896988521925 \n",
      "\n",
      "0.5005945303210464 0.425368244800893 1.0\n"
     ]
    }
   ],
   "source": [
    "import networkx as nx\n",
    "\n",
    "A1 = np.array(pd.read_csv(\"https://courses.edx.org/asset-v1:HarvardX+PH526x+2T2019+type@asset+block@adj_allVillageRelationships_vilno1.csv\", index_col=0))\n",
    "A2 = np.array(pd.read_csv(\"https://courses.edx.org/asset-v1:HarvardX+PH526x+2T2019+type@asset+block@adj_allVillageRelationships_vilno2.csv\", index_col=0))\n",
    "G1 = nx.to_networkx_graph(A1)\n",
    "G2 = nx.to_networkx_graph(A2)\n",
    "\n",
    "pid1 = pd.read_csv(data_filepath1, dtype=int)['0'].to_dict()\n",
    "pid2 = pd.read_csv(data_filepath2, dtype=int)['0'].to_dict()\n",
    "\n",
    "\n",
    "\n",
    "# Enter your code here!\n",
    "\n",
    "sex1 = df1.set_index(\"pid\")[\"resp_gend\"].to_dict()\n",
    "caste1 = df1.set_index(\"pid\")[\"caste\"].to_dict()\n",
    "religion1 = df1.set_index(\"pid\")[\"religion\"].to_dict()\n",
    "\n",
    "sex2 = df2.set_index(\"pid\")[\"resp_gend\"].to_dict()\n",
    "caste2 = df2.set_index(\"pid\")[\"caste\"].to_dict()\n",
    "religion2 = df2.set_index(\"pid\")[\"religion\"].to_dict()\n",
    "\n",
    "\n",
    "print(homophily(G1,sex1,pid1),homophily(G1,caste1,pid1),homophily(G1,religion1,pid1),\"\\n\")\n",
    "print(homophily(G2,sex2,pid2),homophily(G2,caste2,pid2),homophily(G2,religion2,pid2),\"\\n\\n\")\n",
    "\n",
    "print(chance_homophily(sex1),chance_homophily(caste1),chance_homophily(religion1),\"\\n\")\n",
    "print(chance_homophily(sex2),chance_homophily(caste2),chance_homophily(religion2))"
   ]
  },
  {
   "cell_type": "markdown",
   "id": "040fd1ac",
   "metadata": {},
   "source": [
    " The results says that all characteristics in all villages(except religion in Village 2) are observerd homophily higher than the chance homophily. The religion in village 2 is already has the highest chance in both, which is 1."
   ]
  }
 ],
 "metadata": {
  "kernelspec": {
   "display_name": "Python 3",
   "language": "python",
   "name": "python3"
  },
  "language_info": {
   "codemirror_mode": {
    "name": "ipython",
    "version": 3
   },
   "file_extension": ".py",
   "mimetype": "text/x-python",
   "name": "python",
   "nbconvert_exporter": "python",
   "pygments_lexer": "ipython3",
   "version": "3.8.8"
  }
 },
 "nbformat": 4,
 "nbformat_minor": 5
}
